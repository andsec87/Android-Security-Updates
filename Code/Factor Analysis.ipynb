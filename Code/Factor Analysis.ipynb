{
 "cells": [
  {
   "cell_type": "code",
   "execution_count": 5,
   "id": "2554498a",
   "metadata": {},
   "outputs": [],
   "source": [
    "import glob\n",
    "import pandas as pd\n",
    "from datetime import datetime\n",
    "import os\n",
    "import matplotlib.pyplot as plt\n",
    "import datetime\n",
    "import matplotlib.dates as mdates\n",
    "from tqdm import tqdm"
   ]
  },
  {
   "cell_type": "markdown",
   "id": "f735b2e5",
   "metadata": {},
   "source": [
    "# 0. Load Data"
   ]
  },
  {
   "cell_type": "code",
   "execution_count": 6,
   "id": "62ca7f0b",
   "metadata": {},
   "outputs": [
    {
     "name": "stderr",
     "output_type": "stream",
     "text": [
      "Loading CSVs: 100%|█████████████████████████████| 40/40 [00:03<00:00, 10.06it/s]\n"
     ]
    }
   ],
   "source": [
    "output_dir = '../Data/Samsung/samsung-security-updates'\n",
    "\n",
    "# List to hold dataframes\n",
    "dfs = []\n",
    "\n",
    "# List all CSVs in the directory\n",
    "csv_files = [f for f in os.listdir(output_dir) if f.endswith('.csv')]\n",
    "\n",
    "# Iterate over each file with progress bar\n",
    "for file in tqdm(csv_files, desc=\"Loading CSVs\"):\n",
    "    # Read the CSV and append to the list\n",
    "    dfs.append(pd.read_csv(f\"{output_dir}/{file}\"))\n",
    "\n",
    "# Concatenate all dataframes in the list\n",
    "df_samsung = pd.concat(dfs, ignore_index=True)"
   ]
  },
  {
   "cell_type": "markdown",
   "id": "a901c8b8",
   "metadata": {},
   "source": [
    "## Samsung-All"
   ]
  },
  {
   "cell_type": "code",
   "execution_count": 7,
   "id": "ceddf001",
   "metadata": {},
   "outputs": [
    {
     "name": "stderr",
     "output_type": "stream",
     "text": [
      "Processing Records: 100%|█████████████████| 21461/21461 [07:44<00:00, 46.24it/s]\n"
     ]
    },
    {
     "data": {
      "text/html": [
       "<div>\n",
       "<style scoped>\n",
       "    .dataframe tbody tr th:only-of-type {\n",
       "        vertical-align: middle;\n",
       "    }\n",
       "\n",
       "    .dataframe tbody tr th {\n",
       "        vertical-align: top;\n",
       "    }\n",
       "\n",
       "    .dataframe thead th {\n",
       "        text-align: right;\n",
       "    }\n",
       "</style>\n",
       "<table border=\"1\" class=\"dataframe\">\n",
       "  <thead>\n",
       "    <tr style=\"text-align: right;\">\n",
       "      <th></th>\n",
       "      <th>id</th>\n",
       "      <th>device</th>\n",
       "      <th>model</th>\n",
       "      <th>CSC</th>\n",
       "      <th>device_type</th>\n",
       "      <th>aer</th>\n",
       "      <th>platform</th>\n",
       "      <th>carrier_country</th>\n",
       "      <th>carrier</th>\n",
       "      <th>country</th>\n",
       "      <th>...</th>\n",
       "      <th>SPL_duration</th>\n",
       "      <th>release_date_duration</th>\n",
       "      <th>SPL_count</th>\n",
       "      <th>release_count</th>\n",
       "      <th>SPL_freq</th>\n",
       "      <th>avg_release_freq</th>\n",
       "      <th>first_release_date</th>\n",
       "      <th>last_release_date</th>\n",
       "      <th>avg_release_delay</th>\n",
       "      <th>url</th>\n",
       "    </tr>\n",
       "  </thead>\n",
       "  <tbody>\n",
       "    <tr>\n",
       "      <th>0</th>\n",
       "      <td>SM-A530F/ORO</td>\n",
       "      <td>Galaxy A8 (2018)</td>\n",
       "      <td>SM-A530F</td>\n",
       "      <td>ORO</td>\n",
       "      <td>smartphone</td>\n",
       "      <td>False</td>\n",
       "      <td>Knox</td>\n",
       "      <td>Romania (Orange)</td>\n",
       "      <td>Orange</td>\n",
       "      <td>Romania</td>\n",
       "      <td>...</td>\n",
       "      <td>1219 days</td>\n",
       "      <td>1330 days</td>\n",
       "      <td>34</td>\n",
       "      <td>34</td>\n",
       "      <td>35.852941</td>\n",
       "      <td>39.117647</td>\n",
       "      <td>2018-04-27</td>\n",
       "      <td>2021-12-17</td>\n",
       "      <td>38.0</td>\n",
       "      <td>https://doc.samsungmobile.com/SM-A530F/ORO/doc...</td>\n",
       "    </tr>\n",
       "    <tr>\n",
       "      <th>1</th>\n",
       "      <td>SM-A530F/ORS</td>\n",
       "      <td>Galaxy A8 (2018)</td>\n",
       "      <td>SM-A530F</td>\n",
       "      <td>ORS</td>\n",
       "      <td>smartphone</td>\n",
       "      <td>False</td>\n",
       "      <td>Knox</td>\n",
       "      <td>Slovakia</td>\n",
       "      <td>No-carrier</td>\n",
       "      <td>Slovakia</td>\n",
       "      <td>...</td>\n",
       "      <td>1219 days</td>\n",
       "      <td>1330 days</td>\n",
       "      <td>34</td>\n",
       "      <td>34</td>\n",
       "      <td>35.852941</td>\n",
       "      <td>39.117647</td>\n",
       "      <td>2018-04-27</td>\n",
       "      <td>2021-12-17</td>\n",
       "      <td>39.0</td>\n",
       "      <td>https://doc.samsungmobile.com/SM-A530F/ORS/doc...</td>\n",
       "    </tr>\n",
       "    <tr>\n",
       "      <th>2</th>\n",
       "      <td>SM-A530F/ORX</td>\n",
       "      <td>Galaxy A8 (2018)</td>\n",
       "      <td>SM-A530F</td>\n",
       "      <td>ORX</td>\n",
       "      <td>smartphone</td>\n",
       "      <td>False</td>\n",
       "      <td>Knox</td>\n",
       "      <td>Slovakia</td>\n",
       "      <td>No-carrier</td>\n",
       "      <td>Slovakia</td>\n",
       "      <td>...</td>\n",
       "      <td>1219 days</td>\n",
       "      <td>1420 days</td>\n",
       "      <td>40</td>\n",
       "      <td>40</td>\n",
       "      <td>30.475000</td>\n",
       "      <td>35.500000</td>\n",
       "      <td>2018-01-16</td>\n",
       "      <td>2021-12-06</td>\n",
       "      <td>29.0</td>\n",
       "      <td>https://doc.samsungmobile.com/SM-A530F/ORX/doc...</td>\n",
       "    </tr>\n",
       "    <tr>\n",
       "      <th>3</th>\n",
       "      <td>SM-A530F/PAK</td>\n",
       "      <td>Galaxy A8 (2018)</td>\n",
       "      <td>SM-A530F</td>\n",
       "      <td>PAK</td>\n",
       "      <td>smartphone</td>\n",
       "      <td>False</td>\n",
       "      <td>Knox</td>\n",
       "      <td>Pakistan (PAK)</td>\n",
       "      <td>PAK</td>\n",
       "      <td>Pakistan</td>\n",
       "      <td>...</td>\n",
       "      <td>1219 days</td>\n",
       "      <td>1457 days</td>\n",
       "      <td>36</td>\n",
       "      <td>36</td>\n",
       "      <td>33.861111</td>\n",
       "      <td>40.472222</td>\n",
       "      <td>2018-01-24</td>\n",
       "      <td>2022-01-20</td>\n",
       "      <td>30.0</td>\n",
       "      <td>https://doc.samsungmobile.com/SM-A530F/PAK/doc...</td>\n",
       "    </tr>\n",
       "    <tr>\n",
       "      <th>4</th>\n",
       "      <td>SM-A530F/PAN</td>\n",
       "      <td>Galaxy A8 (2018)</td>\n",
       "      <td>SM-A530F</td>\n",
       "      <td>PAN</td>\n",
       "      <td>smartphone</td>\n",
       "      <td>False</td>\n",
       "      <td>Knox</td>\n",
       "      <td>Hungary (Telenor)</td>\n",
       "      <td>Telenor</td>\n",
       "      <td>Hungary</td>\n",
       "      <td>...</td>\n",
       "      <td>1219 days</td>\n",
       "      <td>1309 days</td>\n",
       "      <td>22</td>\n",
       "      <td>22</td>\n",
       "      <td>55.409091</td>\n",
       "      <td>59.500000</td>\n",
       "      <td>2018-05-04</td>\n",
       "      <td>2021-12-03</td>\n",
       "      <td>36.0</td>\n",
       "      <td>https://doc.samsungmobile.com/SM-A530F/PAN/doc...</td>\n",
       "    </tr>\n",
       "  </tbody>\n",
       "</table>\n",
       "<p>5 rows × 30 columns</p>\n",
       "</div>"
      ],
      "text/plain": [
       "             id            device     model  CSC device_type    aer platform  \\\n",
       "0  SM-A530F/ORO  Galaxy A8 (2018)  SM-A530F  ORO  smartphone  False     Knox   \n",
       "1  SM-A530F/ORS  Galaxy A8 (2018)  SM-A530F  ORS  smartphone  False     Knox   \n",
       "2  SM-A530F/ORX  Galaxy A8 (2018)  SM-A530F  ORX  smartphone  False     Knox   \n",
       "3  SM-A530F/PAK  Galaxy A8 (2018)  SM-A530F  PAK  smartphone  False     Knox   \n",
       "4  SM-A530F/PAN  Galaxy A8 (2018)  SM-A530F  PAN  smartphone  False     Knox   \n",
       "\n",
       "      carrier_country     carrier   country  ... SPL_duration  \\\n",
       "0    Romania (Orange)      Orange   Romania  ...    1219 days   \n",
       "1            Slovakia  No-carrier  Slovakia  ...    1219 days   \n",
       "2            Slovakia  No-carrier  Slovakia  ...    1219 days   \n",
       "3      Pakistan (PAK)         PAK  Pakistan  ...    1219 days   \n",
       "4   Hungary (Telenor)     Telenor   Hungary  ...    1219 days   \n",
       "\n",
       "  release_date_duration SPL_count release_count   SPL_freq  avg_release_freq  \\\n",
       "0             1330 days        34            34  35.852941         39.117647   \n",
       "1             1330 days        34            34  35.852941         39.117647   \n",
       "2             1420 days        40            40  30.475000         35.500000   \n",
       "3             1457 days        36            36  33.861111         40.472222   \n",
       "4             1309 days        22            22  55.409091         59.500000   \n",
       "\n",
       "  first_release_date last_release_date avg_release_delay  \\\n",
       "0         2018-04-27        2021-12-17              38.0   \n",
       "1         2018-04-27        2021-12-17              39.0   \n",
       "2         2018-01-16        2021-12-06              29.0   \n",
       "3         2018-01-24        2022-01-20              30.0   \n",
       "4         2018-05-04        2021-12-03              36.0   \n",
       "\n",
       "                                                 url  \n",
       "0  https://doc.samsungmobile.com/SM-A530F/ORO/doc...  \n",
       "1  https://doc.samsungmobile.com/SM-A530F/ORS/doc...  \n",
       "2  https://doc.samsungmobile.com/SM-A530F/ORX/doc...  \n",
       "3  https://doc.samsungmobile.com/SM-A530F/PAK/doc...  \n",
       "4  https://doc.samsungmobile.com/SM-A530F/PAN/doc...  \n",
       "\n",
       "[5 rows x 30 columns]"
      ]
     },
     "execution_count": 7,
     "metadata": {},
     "output_type": "execute_result"
    }
   ],
   "source": [
    "import pandas as pd\n",
    "import datetime\n",
    "import matplotlib.dates as mdates\n",
    "import numpy as np\n",
    "\n",
    "df_knox_models = pd.read_csv('../Data/Samsung/knox-models-all.csv')\n",
    "df_csc = pd.read_csv('../Data/Samsung/CSC-list.csv')\n",
    "\n",
    "df_samsung[\"security_patch_level\"] = df_samsung[\"security_patch_level\"].astype(\"datetime64\")\n",
    "df_samsung[\"release_date\"] = df_samsung[\"release_date\"].astype(\"datetime64\")\n",
    "\n",
    "\n",
    "d = []\n",
    "unique_ids = df_samsung['id'].unique()\n",
    "\n",
    "# Wrap the loop with tqdm for progress bar\n",
    "pbar = tqdm(unique_ids, desc=\"Processing Records\", dynamic_ncols=True)\n",
    "\n",
    "for idx, i in enumerate(pbar):\n",
    "    \n",
    "    #get the model and CSC code from the unique pair id\n",
    "    [model,CSC] = i.split('/')\n",
    "    \n",
    "    #extract carrier_country from CSC dataset\n",
    "    cc= df_csc[df_csc['CSC']==CSC]['carrier/country'].to_list()\n",
    "    carrier_country = cc[0]\n",
    "    \n",
    "    #extract carrier from CSC dataset\n",
    "    car = df_csc[df_csc['CSC']==CSC]['carrier'].to_list()\n",
    "    carrier = car[0]\n",
    "    \n",
    "    #extract country from CSC dataset\n",
    "    cou = df_csc[df_csc['CSC']==CSC]['country'].to_list()\n",
    "    country = cou[0]\n",
    "    \n",
    "    #extract ISO code from CSC dataset\n",
    "    iso = df_csc[df_csc['CSC']==CSC]['iso_code'].to_list()\n",
    "    iso_code = iso[0]\n",
    "    \n",
    "    #extract region from CSC dataset\n",
    "    reg = df_csc[df_csc['CSC']==CSC]['region'].to_list()\n",
    "    region = reg[0]\n",
    "    \n",
    "    #extract subregion from CSC dataset\n",
    "    subreg = df_csc[df_csc['CSC']==CSC]['subregion'].to_list()\n",
    "    subregion = subreg[0]\n",
    "\n",
    "    #extract knox device from model\n",
    "    k = df_knox_models.loc[df_knox_models['model']==model,'device'].to_list()\n",
    "    if len(k) == 1:\n",
    "        device = k[0]\n",
    "    else:\n",
    "        device = ''\n",
    "        \n",
    "    #extract device type knox devices\n",
    "    dt = df_knox_models.loc[df_knox_models['model']==model,'device_type'].to_list()\n",
    "    if len(dt) == 1:\n",
    "        device_type= dt[0]\n",
    "    else:\n",
    "        device_type = ''\n",
    "\n",
    "    #CALCULATE FEATURES\n",
    "    #filter the dataset for the unique pair\n",
    "    df_test = df_samsung[df_samsung['id']==i]\n",
    "    \n",
    "    #get the url\n",
    "    url = 'https://doc.samsungmobile.com/' + i + '/doc.html'\n",
    "    \n",
    "    #extract all unique android version used for the unique pair\n",
    "    android_versions = df_test['android_version'].unique()\n",
    "    first_OS = df_test.sort_values('release_date',ascending=False)['android_version'].iat[-1]\n",
    "    last_OS = df_test.sort_values('release_date',ascending=False)['android_version'].iat[0]\n",
    "\n",
    "    #extract SPLs for the unique pair\n",
    "    SPL_dates = df_test['security_patch_level']\n",
    "    \n",
    "    #calculate other fetures from SPL array for for the unique pair\n",
    "    first_SPL = SPL_dates.min()\n",
    "    last_SPL = SPL_dates.max()\n",
    "    SPL_duration = SPL_dates.max()- SPL_dates.min()\n",
    "    SPL_count = len(SPL_dates)\n",
    "    SPL_freq = SPL_duration.days/SPL_count\n",
    "    \n",
    "    #extract Release dates for the unique pair\n",
    "    release_dates = df_test['release_date']\n",
    "    \n",
    "    #calculate other fetures from ReleaseDates array for for the unique pair\n",
    "    first_release_date = release_dates.min()\n",
    "    last_release_date = release_dates.max()\n",
    "    release_date_duration = release_dates.max() - release_dates.min()\n",
    "    release_count = len(release_dates)\n",
    "    avg_release_freq = release_date_duration.days/release_count\n",
    "    \n",
    "    #calculate avg delay in the release dates and SPL dates\n",
    "    avg_release_delay = (df_test['release_date']-df_test['security_patch_level']).mean().days\n",
    "    \n",
    "    \n",
    "    a = df_knox_models.loc[df_knox_models.model==model,'AER'].to_list()\n",
    "    \n",
    "    if len(a) >= 1:\n",
    "        aer = a[0]\n",
    "    else:\n",
    "        aer = False\n",
    "        \n",
    "    p = df_knox_models.loc[df_knox_models.model==model,'platform'].to_list()\n",
    "    \n",
    "    if len(p) >= 1:\n",
    "        platform = p[0]\n",
    "    else:\n",
    "        platform = 'No-Info'\n",
    "        \n",
    "    \n",
    "    #create the final array\n",
    "    d.append({'id': i,\n",
    "             'device': device,\n",
    "             'model': model,\n",
    "             'CSC': CSC,\n",
    "             'device_type': device_type,\n",
    "             'aer': aer,\n",
    "             'platform': platform,\n",
    "             'carrier_country': carrier_country,\n",
    "             'carrier': carrier,\n",
    "             'country': country,\n",
    "             'iso_code': iso_code,\n",
    "             'region': region,\n",
    "             'subregion': subregion,\n",
    "             'android_versions': android_versions,\n",
    "             'android_versions_str': ','.join(android_versions),\n",
    "             'android_versions_count': len(android_versions),\n",
    "             'first_OS': first_OS,\n",
    "             'last_OS': last_OS,\n",
    "             'first_SPL': first_SPL,\n",
    "             'last_SPL': last_SPL,\n",
    "             'SPL_duration': SPL_duration,\n",
    "             'release_date_duration': release_date_duration,\n",
    "             'SPL_count': SPL_count,\n",
    "             'release_count': release_count,\n",
    "             'SPL_freq': SPL_freq,\n",
    "             'avg_release_freq': avg_release_freq,\n",
    "             'first_release_date': first_release_date,\n",
    "             'last_release_date': last_release_date,\n",
    "             'avg_release_delay': avg_release_delay,\n",
    "             'url': url})\n",
    "\n",
    "\n",
    "df_final_samsung = pd.DataFrame(d)\n",
    "\n",
    "df_final_samsung.to_csv('../Data/Samsung/Samsung_security_updates_history_features.csv',index=False)\n",
    "\n",
    "df_final_samsung.head()\n"
   ]
  },
  {
   "cell_type": "markdown",
   "id": "c71a7c38",
   "metadata": {},
   "source": [
    "## Samsung-Monthly"
   ]
  },
  {
   "cell_type": "code",
   "execution_count": 9,
   "id": "e78b8fe9",
   "metadata": {},
   "outputs": [
    {
     "name": "stderr",
     "output_type": "stream",
     "text": [
      "Loading CSVs: 100%|█████████████████████████████| 40/40 [00:03<00:00, 10.61it/s]\n"
     ]
    }
   ],
   "source": [
    "output_dir = '../Data/Samsung/samsung-security-updates'\n",
    "\n",
    "# List to hold dataframes\n",
    "dfs = []\n",
    "\n",
    "# List all CSVs in the directory\n",
    "csv_files = [f for f in os.listdir(output_dir) if f.endswith('.csv')]\n",
    "\n",
    "# Iterate over each file with progress bar\n",
    "for file in tqdm(csv_files, desc=\"Loading CSVs\"):\n",
    "    # Read the CSV and append to the list\n",
    "    dfs.append(pd.read_csv(f\"{output_dir}/{file}\"))\n",
    "\n",
    "# Concatenate all dataframes in the list\n",
    "df_samsung_v2 = pd.concat(dfs, ignore_index=True)"
   ]
  },
  {
   "cell_type": "code",
   "execution_count": 10,
   "id": "fb751733",
   "metadata": {},
   "outputs": [
    {
     "name": "stdout",
     "output_type": "stream",
     "text": [
      "Completed 2509 / 2509\r"
     ]
    },
    {
     "data": {
      "text/html": [
       "<div>\n",
       "<style scoped>\n",
       "    .dataframe tbody tr th:only-of-type {\n",
       "        vertical-align: middle;\n",
       "    }\n",
       "\n",
       "    .dataframe tbody tr th {\n",
       "        vertical-align: top;\n",
       "    }\n",
       "\n",
       "    .dataframe thead th {\n",
       "        text-align: right;\n",
       "    }\n",
       "</style>\n",
       "<table border=\"1\" class=\"dataframe\">\n",
       "  <thead>\n",
       "    <tr style=\"text-align: right;\">\n",
       "      <th></th>\n",
       "      <th>id</th>\n",
       "      <th>device</th>\n",
       "      <th>model</th>\n",
       "      <th>CSC</th>\n",
       "      <th>device_type</th>\n",
       "      <th>aer</th>\n",
       "      <th>platform</th>\n",
       "      <th>carrier_country</th>\n",
       "      <th>carrier</th>\n",
       "      <th>country</th>\n",
       "      <th>...</th>\n",
       "      <th>SPL_duration</th>\n",
       "      <th>release_date_duration</th>\n",
       "      <th>SPL_count</th>\n",
       "      <th>release_count</th>\n",
       "      <th>SPL_freq</th>\n",
       "      <th>avg_release_freq</th>\n",
       "      <th>first_release_date</th>\n",
       "      <th>last_release_date</th>\n",
       "      <th>avg_release_delay</th>\n",
       "      <th>url</th>\n",
       "    </tr>\n",
       "  </thead>\n",
       "  <tbody>\n",
       "    <tr>\n",
       "      <th>0</th>\n",
       "      <td>SM-F900F/BGL</td>\n",
       "      <td>Galaxy Fold</td>\n",
       "      <td>SM-F900F</td>\n",
       "      <td>BGL</td>\n",
       "      <td>smartphone</td>\n",
       "      <td>False</td>\n",
       "      <td>Knox</td>\n",
       "      <td>Bulgaria</td>\n",
       "      <td>No-carrier</td>\n",
       "      <td>Bulgaria</td>\n",
       "      <td>...</td>\n",
       "      <td>973 days</td>\n",
       "      <td>985 days</td>\n",
       "      <td>33</td>\n",
       "      <td>33</td>\n",
       "      <td>29.484848</td>\n",
       "      <td>29.848485</td>\n",
       "      <td>2020-02-19</td>\n",
       "      <td>2022-10-31</td>\n",
       "      <td>16.0</td>\n",
       "      <td>https://doc.samsungmobile.com/SM-F900F/BGL/doc...</td>\n",
       "    </tr>\n",
       "    <tr>\n",
       "      <th>1</th>\n",
       "      <td>SM-F900F/BRI</td>\n",
       "      <td>Galaxy Fold</td>\n",
       "      <td>SM-F900F</td>\n",
       "      <td>BRI</td>\n",
       "      <td>smartphone</td>\n",
       "      <td>False</td>\n",
       "      <td>Knox</td>\n",
       "      <td>Taiwan</td>\n",
       "      <td>No-carrier</td>\n",
       "      <td>Taiwan</td>\n",
       "      <td>...</td>\n",
       "      <td>1035 days</td>\n",
       "      <td>1048 days</td>\n",
       "      <td>35</td>\n",
       "      <td>35</td>\n",
       "      <td>29.571429</td>\n",
       "      <td>29.942857</td>\n",
       "      <td>2019-12-18</td>\n",
       "      <td>2022-10-31</td>\n",
       "      <td>22.0</td>\n",
       "      <td>https://doc.samsungmobile.com/SM-F900F/BRI/doc...</td>\n",
       "    </tr>\n",
       "    <tr>\n",
       "      <th>2</th>\n",
       "      <td>SM-F900F/CHO</td>\n",
       "      <td>Galaxy Fold</td>\n",
       "      <td>SM-F900F</td>\n",
       "      <td>CHO</td>\n",
       "      <td>smartphone</td>\n",
       "      <td>False</td>\n",
       "      <td>Knox</td>\n",
       "      <td>Chile</td>\n",
       "      <td>No-carrier</td>\n",
       "      <td>Chile</td>\n",
       "      <td>...</td>\n",
       "      <td>1035 days</td>\n",
       "      <td>1034 days</td>\n",
       "      <td>36</td>\n",
       "      <td>36</td>\n",
       "      <td>28.750000</td>\n",
       "      <td>28.722222</td>\n",
       "      <td>2019-12-30</td>\n",
       "      <td>2022-10-29</td>\n",
       "      <td>24.0</td>\n",
       "      <td>https://doc.samsungmobile.com/SM-F900F/CHO/doc...</td>\n",
       "    </tr>\n",
       "    <tr>\n",
       "      <th>3</th>\n",
       "      <td>SM-F900F/COO</td>\n",
       "      <td>Galaxy Fold</td>\n",
       "      <td>SM-F900F</td>\n",
       "      <td>COO</td>\n",
       "      <td>smartphone</td>\n",
       "      <td>False</td>\n",
       "      <td>Knox</td>\n",
       "      <td>Colombia</td>\n",
       "      <td>No-carrier</td>\n",
       "      <td>Colombia</td>\n",
       "      <td>...</td>\n",
       "      <td>1035 days</td>\n",
       "      <td>1042 days</td>\n",
       "      <td>36</td>\n",
       "      <td>36</td>\n",
       "      <td>28.750000</td>\n",
       "      <td>28.944444</td>\n",
       "      <td>2019-12-19</td>\n",
       "      <td>2022-10-26</td>\n",
       "      <td>22.0</td>\n",
       "      <td>https://doc.samsungmobile.com/SM-F900F/COO/doc...</td>\n",
       "    </tr>\n",
       "    <tr>\n",
       "      <th>4</th>\n",
       "      <td>SM-F900F/EGY</td>\n",
       "      <td>Galaxy Fold</td>\n",
       "      <td>SM-F900F</td>\n",
       "      <td>EGY</td>\n",
       "      <td>smartphone</td>\n",
       "      <td>False</td>\n",
       "      <td>Knox</td>\n",
       "      <td>Egypt</td>\n",
       "      <td>No-carrier</td>\n",
       "      <td>Egypt</td>\n",
       "      <td>...</td>\n",
       "      <td>973 days</td>\n",
       "      <td>994 days</td>\n",
       "      <td>32</td>\n",
       "      <td>32</td>\n",
       "      <td>30.406250</td>\n",
       "      <td>31.062500</td>\n",
       "      <td>2020-02-10</td>\n",
       "      <td>2022-10-31</td>\n",
       "      <td>23.0</td>\n",
       "      <td>https://doc.samsungmobile.com/SM-F900F/EGY/doc...</td>\n",
       "    </tr>\n",
       "  </tbody>\n",
       "</table>\n",
       "<p>5 rows × 30 columns</p>\n",
       "</div>"
      ],
      "text/plain": [
       "             id       device     model  CSC device_type    aer platform  \\\n",
       "0  SM-F900F/BGL  Galaxy Fold  SM-F900F  BGL  smartphone  False     Knox   \n",
       "1  SM-F900F/BRI  Galaxy Fold  SM-F900F  BRI  smartphone  False     Knox   \n",
       "2  SM-F900F/CHO  Galaxy Fold  SM-F900F  CHO  smartphone  False     Knox   \n",
       "3  SM-F900F/COO  Galaxy Fold  SM-F900F  COO  smartphone  False     Knox   \n",
       "4  SM-F900F/EGY  Galaxy Fold  SM-F900F  EGY  smartphone  False     Knox   \n",
       "\n",
       "  carrier_country     carrier   country  ... SPL_duration  \\\n",
       "0        Bulgaria  No-carrier  Bulgaria  ...     973 days   \n",
       "1          Taiwan  No-carrier    Taiwan  ...    1035 days   \n",
       "2           Chile  No-carrier     Chile  ...    1035 days   \n",
       "3        Colombia  No-carrier  Colombia  ...    1035 days   \n",
       "4           Egypt  No-carrier     Egypt  ...     973 days   \n",
       "\n",
       "  release_date_duration SPL_count release_count   SPL_freq  avg_release_freq  \\\n",
       "0              985 days        33            33  29.484848         29.848485   \n",
       "1             1048 days        35            35  29.571429         29.942857   \n",
       "2             1034 days        36            36  28.750000         28.722222   \n",
       "3             1042 days        36            36  28.750000         28.944444   \n",
       "4              994 days        32            32  30.406250         31.062500   \n",
       "\n",
       "  first_release_date last_release_date avg_release_delay  \\\n",
       "0         2020-02-19        2022-10-31              16.0   \n",
       "1         2019-12-18        2022-10-31              22.0   \n",
       "2         2019-12-30        2022-10-29              24.0   \n",
       "3         2019-12-19        2022-10-26              22.0   \n",
       "4         2020-02-10        2022-10-31              23.0   \n",
       "\n",
       "                                                 url  \n",
       "0  https://doc.samsungmobile.com/SM-F900F/BGL/doc...  \n",
       "1  https://doc.samsungmobile.com/SM-F900F/BRI/doc...  \n",
       "2  https://doc.samsungmobile.com/SM-F900F/CHO/doc...  \n",
       "3  https://doc.samsungmobile.com/SM-F900F/COO/doc...  \n",
       "4  https://doc.samsungmobile.com/SM-F900F/EGY/doc...  \n",
       "\n",
       "[5 rows x 30 columns]"
      ]
     },
     "execution_count": 10,
     "metadata": {},
     "output_type": "execute_result"
    }
   ],
   "source": [
    "#df_v2 = pd.read_csv('../Data/security_update_history_v2.csv') \n",
    "#df_samsung_v2 = pd.read_csv('../Data/Samsung/Samsung-security-updates-history_all_v3.csv') \n",
    "df_csc = pd.read_csv('../Data/Samsung/CSC-list.csv')\n",
    "df_knox_models = pd.read_csv('../Data/Samsung/knox-models-all.csv')\n",
    "df_timelines = pd.read_csv('../Data/Samsung/timelines_samsung_devices_v3.csv')\n",
    "\n",
    "#drop if no release date\n",
    "df_samsung_v2 = df_samsung_v2[~df_samsung_v2['release_date'].isnull()]\n",
    "\n",
    "#convert the string values into timedate values\n",
    "df_samsung_v2[\"security_patch_level\"] = df_samsung_v2[\"security_patch_level\"].astype(\"datetime64\")\n",
    "df_samsung_v2[\"release_date\"] = df_samsung_v2[\"release_date\"].astype(\"datetime64\")\n",
    "df_timelines[['monthly_start','monthly_end']] = df_timelines[['monthly_start','monthly_end']].apply(pd.to_datetime)\n",
    "df_timelines[['monthly_duration']] = df_timelines[['monthly_duration']].apply(pd.to_timedelta)\n",
    "\n",
    "#filter out the incomplete and zero monthly support duration\n",
    "monthly_timelines = df_timelines[(~(df_timelines['monthly_duration'].dt.days==0))&(~df_timelines['monthly_duration'].isnull())]\n",
    "monthly_devices = monthly_timelines['device'].unique()\n",
    "\n",
    "df_monthly = pd.DataFrame()\n",
    "for device in monthly_devices[:]:\n",
    "    \n",
    "    monthly_start =df_timelines.loc[df_timelines.device==device,'monthly_start'].item()\n",
    "    monthly_end =df_timelines.loc[df_timelines.device==device,'monthly_end'].item()\n",
    "    \n",
    "    df_samsung_v2.loc[df_samsung_v2.device==device,'monthly_start'] = monthly_start\n",
    "    df_samsung_v2.loc[df_samsung_v2.device==device,'monthly_end'] = monthly_end\n",
    "    \n",
    "    df_device = df_samsung_v2.loc[df_samsung_v2.device==device,:]\n",
    "    df_device_filtered = df_device[(df_device['release_date']>monthly_start) & (df_device['release_date']<monthly_end)]\n",
    "    df_monthly=pd.concat([df_monthly,df_device_filtered])\n",
    "    \n",
    "d_monthly = []\n",
    "counter = 0\n",
    "\n",
    "for i in df_monthly['id'].unique():\n",
    "    df_test = df_monthly.loc[df_monthly['id']==i,:]\n",
    "    [model,CSC] = i.split('/')\n",
    "    \n",
    "    #extract carrier_country from CSC dataset\n",
    "    cc= df_csc[df_csc['CSC']==CSC]['carrier/country'].to_list()\n",
    "    carrier_country = cc[0]\n",
    "    #extract carrier from CSC dataset\n",
    "    car = df_csc[df_csc['CSC']==CSC]['carrier'].to_list()\n",
    "    carrier = car[0]\n",
    "    #extract country from CSC dataset\n",
    "    cou = df_csc[df_csc['CSC']==CSC]['country'].to_list()\n",
    "    country = cou[0]\n",
    "    #extract ISO code from CSC dataset\n",
    "    iso = df_csc[df_csc['CSC']==CSC]['iso_code'].to_list()\n",
    "    iso_code = iso[0]\n",
    "    #extract region from CSC dataset\n",
    "    reg = df_csc[df_csc['CSC']==CSC]['region'].to_list()\n",
    "    region = reg[0]\n",
    "    #extract subregion from CSC dataset\n",
    "    subreg = df_csc[df_csc['CSC']==CSC]['subregion'].to_list()\n",
    "    subregion = subreg[0]\n",
    "    \n",
    "    #extract device type knox devices\n",
    "    dt = df_knox_models.loc[df_knox_models['model']==model,'device_type'].to_list()\n",
    "    if len(dt) == 1:\n",
    "        device_type= dt[0]\n",
    "    else:\n",
    "        device_type = ''\n",
    "        \n",
    "    #get the url\n",
    "    url = 'https://doc.samsungmobile.com/' + i + '/doc.html'\n",
    "    \n",
    "    device = df_test.loc[df_test['id']==i,'device'].to_list()[0]\n",
    "    \n",
    "    #extract all unique android version used for the unique pair\n",
    "    android_versions = df_test['android_version'].unique()\n",
    "    first_OS = df_test.sort_values('release_date',ascending=False)['android_version'].iat[-1]\n",
    "    last_OS = df_test.sort_values('release_date',ascending=False)['android_version'].iat[0]\n",
    "    \n",
    "    SPL_dates = df_test.loc[df_test['id']==i,'security_patch_level']\n",
    "    #calculate other fetures from SPL array for for the unique pair\n",
    "    first_SPL = SPL_dates.min()\n",
    "    last_SPL = SPL_dates.max()\n",
    "    SPL_duration = SPL_dates.max()- SPL_dates.min()\n",
    "    SPL_count = len(SPL_dates)\n",
    "    SPL_freq = SPL_duration.days/SPL_count\n",
    "    \n",
    "    release_dates = df_test.loc[df_test['id']==i,'release_date']\n",
    "    #calculate other fetures from ReleaseDates array for for the unique pair\n",
    "    first_release_date = release_dates.min()\n",
    "    last_release_date = release_dates.max()\n",
    "    release_date_duration = release_dates.max() - release_dates.min()\n",
    "    release_count = len(release_dates)\n",
    "    avg_release_freq = release_date_duration.days/release_count\n",
    "    \n",
    "    #calculate avg delay in the release dates and SPL dates\n",
    "    avg_release_delay = (df_test['release_date']-df_test['security_patch_level']).mean().days\n",
    "\n",
    "    a = df_knox_models.loc[df_knox_models.model==model,'AER'].to_list()\n",
    "    \n",
    "    if len(a) >= 1:\n",
    "        aer = a[0]\n",
    "    else:\n",
    "        aer = False\n",
    "        \n",
    "    p = df_knox_models.loc[df_knox_models.model==model,'platform'].to_list()\n",
    "    \n",
    "    if len(p) >= 1:\n",
    "        platform = p[0]\n",
    "    else:\n",
    "        platform = 'No-Info'\n",
    "        \n",
    "     \n",
    "    #create the final array\n",
    "    d_monthly.append({'id': i,\n",
    "             'device': device,\n",
    "             'model': model,\n",
    "             'CSC': CSC,\n",
    "             'device_type': device_type,\n",
    "             'aer': aer,\n",
    "             'platform': platform,\n",
    "             'carrier_country': carrier_country,\n",
    "             'carrier': carrier,\n",
    "             'country': country,\n",
    "             'iso_code': iso_code,\n",
    "             'region': region,\n",
    "             'subregion': subregion,\n",
    "             'android_versions': android_versions,\n",
    "             'android_versions_str': ','.join(android_versions),\n",
    "             'android_versions_count': len(android_versions),\n",
    "             'first_OS': first_OS,\n",
    "             'last_OS': last_OS,\n",
    "             'first_SPL': first_SPL,\n",
    "             'last_SPL': last_SPL,\n",
    "             'SPL_duration': SPL_duration,\n",
    "             'release_date_duration': release_date_duration,\n",
    "             'SPL_count': SPL_count,\n",
    "             'release_count': release_count,\n",
    "             'SPL_freq': SPL_freq,\n",
    "             'avg_release_freq': avg_release_freq,\n",
    "             'first_release_date': first_release_date,\n",
    "             'last_release_date': last_release_date,\n",
    "             'avg_release_delay': avg_release_delay,\n",
    "             'url': url})\n",
    "    counter = counter + 1\n",
    "    print('Completed {} / {}'.format(counter,len(df_monthly['id'].unique())), end='\\r')\n",
    "    \n",
    "df_final_samsung_monthly = pd.DataFrame(d_monthly)\n",
    "\n",
    "df_final_samsung_monthly.head()   \n",
    "    "
   ]
  },
  {
   "cell_type": "markdown",
   "id": "f1b298cb",
   "metadata": {},
   "source": [
    "## Samsung-Quarterly"
   ]
  },
  {
   "cell_type": "code",
   "execution_count": 11,
   "id": "8f8cf1dd",
   "metadata": {},
   "outputs": [
    {
     "name": "stderr",
     "output_type": "stream",
     "text": [
      "Loading CSVs: 100%|█████████████████████████████| 40/40 [00:03<00:00, 10.01it/s]\n"
     ]
    }
   ],
   "source": [
    "output_dir = '../Data/Samsung/samsung-security-updates'\n",
    "\n",
    "# List to hold dataframes\n",
    "dfs = []\n",
    "\n",
    "# List all CSVs in the directory\n",
    "csv_files = [f for f in os.listdir(output_dir) if f.endswith('.csv')]\n",
    "\n",
    "# Iterate over each file with progress bar\n",
    "for file in tqdm(csv_files, desc=\"Loading CSVs\"):\n",
    "    # Read the CSV and append to the list\n",
    "    dfs.append(pd.read_csv(f\"{output_dir}/{file}\"))\n",
    "\n",
    "# Concatenate all dataframes in the list\n",
    "df_samsung_v2 = pd.concat(dfs, ignore_index=True)"
   ]
  },
  {
   "cell_type": "code",
   "execution_count": 12,
   "id": "a2e59f91",
   "metadata": {},
   "outputs": [
    {
     "name": "stdout",
     "output_type": "stream",
     "text": [
      "Completed 7470 / 7470\r"
     ]
    },
    {
     "data": {
      "text/html": [
       "<div>\n",
       "<style scoped>\n",
       "    .dataframe tbody tr th:only-of-type {\n",
       "        vertical-align: middle;\n",
       "    }\n",
       "\n",
       "    .dataframe tbody tr th {\n",
       "        vertical-align: top;\n",
       "    }\n",
       "\n",
       "    .dataframe thead th {\n",
       "        text-align: right;\n",
       "    }\n",
       "</style>\n",
       "<table border=\"1\" class=\"dataframe\">\n",
       "  <thead>\n",
       "    <tr style=\"text-align: right;\">\n",
       "      <th></th>\n",
       "      <th>id</th>\n",
       "      <th>device</th>\n",
       "      <th>model</th>\n",
       "      <th>CSC</th>\n",
       "      <th>device_type</th>\n",
       "      <th>aer</th>\n",
       "      <th>platform</th>\n",
       "      <th>carrier_country</th>\n",
       "      <th>carrier</th>\n",
       "      <th>country</th>\n",
       "      <th>...</th>\n",
       "      <th>SPL_duration</th>\n",
       "      <th>release_date_duration</th>\n",
       "      <th>SPL_count</th>\n",
       "      <th>release_count</th>\n",
       "      <th>SPL_freq</th>\n",
       "      <th>avg_release_freq</th>\n",
       "      <th>first_release_date</th>\n",
       "      <th>last_release_date</th>\n",
       "      <th>avg_release_delay</th>\n",
       "      <th>url</th>\n",
       "    </tr>\n",
       "  </thead>\n",
       "  <tbody>\n",
       "    <tr>\n",
       "      <th>0</th>\n",
       "      <td>SM-N960F/3IE</td>\n",
       "      <td>Galaxy Note9</td>\n",
       "      <td>SM-N960F</td>\n",
       "      <td>3IE</td>\n",
       "      <td>smartphone</td>\n",
       "      <td>False</td>\n",
       "      <td>Knox</td>\n",
       "      <td>Ireland (Three)</td>\n",
       "      <td>Three</td>\n",
       "      <td>Ireland</td>\n",
       "      <td>...</td>\n",
       "      <td>242 days</td>\n",
       "      <td>252 days</td>\n",
       "      <td>4</td>\n",
       "      <td>4</td>\n",
       "      <td>60.5</td>\n",
       "      <td>63.00</td>\n",
       "      <td>2021-12-14</td>\n",
       "      <td>2022-08-23</td>\n",
       "      <td>39.0</td>\n",
       "      <td>https://doc.samsungmobile.com/SM-N960F/3IE/doc...</td>\n",
       "    </tr>\n",
       "    <tr>\n",
       "      <th>1</th>\n",
       "      <td>SM-N960F/ACR</td>\n",
       "      <td>Galaxy Note9</td>\n",
       "      <td>SM-N960F</td>\n",
       "      <td>ACR</td>\n",
       "      <td>smartphone</td>\n",
       "      <td>False</td>\n",
       "      <td>Knox</td>\n",
       "      <td>Saudi Arabia</td>\n",
       "      <td>No-carrier</td>\n",
       "      <td>Saudi Arabia</td>\n",
       "      <td>...</td>\n",
       "      <td>242 days</td>\n",
       "      <td>256 days</td>\n",
       "      <td>4</td>\n",
       "      <td>4</td>\n",
       "      <td>60.5</td>\n",
       "      <td>64.00</td>\n",
       "      <td>2021-12-06</td>\n",
       "      <td>2022-08-19</td>\n",
       "      <td>34.0</td>\n",
       "      <td>https://doc.samsungmobile.com/SM-N960F/ACR/doc...</td>\n",
       "    </tr>\n",
       "    <tr>\n",
       "      <th>2</th>\n",
       "      <td>SM-N960F/AFG</td>\n",
       "      <td>Galaxy Note9</td>\n",
       "      <td>SM-N960F</td>\n",
       "      <td>AFG</td>\n",
       "      <td>smartphone</td>\n",
       "      <td>False</td>\n",
       "      <td>Knox</td>\n",
       "      <td>Afghanistan</td>\n",
       "      <td>No-carrier</td>\n",
       "      <td>Afghanistan</td>\n",
       "      <td>...</td>\n",
       "      <td>242 days</td>\n",
       "      <td>256 days</td>\n",
       "      <td>4</td>\n",
       "      <td>4</td>\n",
       "      <td>60.5</td>\n",
       "      <td>64.00</td>\n",
       "      <td>2021-12-06</td>\n",
       "      <td>2022-08-19</td>\n",
       "      <td>34.0</td>\n",
       "      <td>https://doc.samsungmobile.com/SM-N960F/AFG/doc...</td>\n",
       "    </tr>\n",
       "    <tr>\n",
       "      <th>3</th>\n",
       "      <td>SM-N960F/AFR</td>\n",
       "      <td>Galaxy Note9</td>\n",
       "      <td>SM-N960F</td>\n",
       "      <td>AFR</td>\n",
       "      <td>smartphone</td>\n",
       "      <td>False</td>\n",
       "      <td>Knox</td>\n",
       "      <td>Kenya</td>\n",
       "      <td>No-carrier</td>\n",
       "      <td>Kenya</td>\n",
       "      <td>...</td>\n",
       "      <td>242 days</td>\n",
       "      <td>256 days</td>\n",
       "      <td>4</td>\n",
       "      <td>4</td>\n",
       "      <td>60.5</td>\n",
       "      <td>64.00</td>\n",
       "      <td>2021-12-06</td>\n",
       "      <td>2022-08-19</td>\n",
       "      <td>34.0</td>\n",
       "      <td>https://doc.samsungmobile.com/SM-N960F/AFR/doc...</td>\n",
       "    </tr>\n",
       "    <tr>\n",
       "      <th>4</th>\n",
       "      <td>SM-N960F/AMO</td>\n",
       "      <td>Galaxy Note9</td>\n",
       "      <td>SM-N960F</td>\n",
       "      <td>AMO</td>\n",
       "      <td>smartphone</td>\n",
       "      <td>False</td>\n",
       "      <td>Knox</td>\n",
       "      <td>Spain (Orange)</td>\n",
       "      <td>Orange</td>\n",
       "      <td>Spain</td>\n",
       "      <td>...</td>\n",
       "      <td>242 days</td>\n",
       "      <td>247 days</td>\n",
       "      <td>4</td>\n",
       "      <td>4</td>\n",
       "      <td>60.5</td>\n",
       "      <td>61.75</td>\n",
       "      <td>2021-12-22</td>\n",
       "      <td>2022-08-26</td>\n",
       "      <td>44.0</td>\n",
       "      <td>https://doc.samsungmobile.com/SM-N960F/AMO/doc...</td>\n",
       "    </tr>\n",
       "  </tbody>\n",
       "</table>\n",
       "<p>5 rows × 30 columns</p>\n",
       "</div>"
      ],
      "text/plain": [
       "             id        device     model  CSC device_type    aer platform  \\\n",
       "0  SM-N960F/3IE  Galaxy Note9  SM-N960F  3IE  smartphone  False     Knox   \n",
       "1  SM-N960F/ACR  Galaxy Note9  SM-N960F  ACR  smartphone  False     Knox   \n",
       "2  SM-N960F/AFG  Galaxy Note9  SM-N960F  AFG  smartphone  False     Knox   \n",
       "3  SM-N960F/AFR  Galaxy Note9  SM-N960F  AFR  smartphone  False     Knox   \n",
       "4  SM-N960F/AMO  Galaxy Note9  SM-N960F  AMO  smartphone  False     Knox   \n",
       "\n",
       "    carrier_country     carrier       country  ... SPL_duration  \\\n",
       "0   Ireland (Three)       Three       Ireland  ...     242 days   \n",
       "1      Saudi Arabia  No-carrier  Saudi Arabia  ...     242 days   \n",
       "2       Afghanistan  No-carrier   Afghanistan  ...     242 days   \n",
       "3             Kenya  No-carrier         Kenya  ...     242 days   \n",
       "4    Spain (Orange)      Orange         Spain  ...     242 days   \n",
       "\n",
       "  release_date_duration SPL_count release_count SPL_freq  avg_release_freq  \\\n",
       "0              252 days         4             4     60.5             63.00   \n",
       "1              256 days         4             4     60.5             64.00   \n",
       "2              256 days         4             4     60.5             64.00   \n",
       "3              256 days         4             4     60.5             64.00   \n",
       "4              247 days         4             4     60.5             61.75   \n",
       "\n",
       "  first_release_date last_release_date avg_release_delay  \\\n",
       "0         2021-12-14        2022-08-23              39.0   \n",
       "1         2021-12-06        2022-08-19              34.0   \n",
       "2         2021-12-06        2022-08-19              34.0   \n",
       "3         2021-12-06        2022-08-19              34.0   \n",
       "4         2021-12-22        2022-08-26              44.0   \n",
       "\n",
       "                                                 url  \n",
       "0  https://doc.samsungmobile.com/SM-N960F/3IE/doc...  \n",
       "1  https://doc.samsungmobile.com/SM-N960F/ACR/doc...  \n",
       "2  https://doc.samsungmobile.com/SM-N960F/AFG/doc...  \n",
       "3  https://doc.samsungmobile.com/SM-N960F/AFR/doc...  \n",
       "4  https://doc.samsungmobile.com/SM-N960F/AMO/doc...  \n",
       "\n",
       "[5 rows x 30 columns]"
      ]
     },
     "execution_count": 12,
     "metadata": {},
     "output_type": "execute_result"
    }
   ],
   "source": [
    "\n",
    "df_csc = pd.read_csv('../Data/Samsung/CSC-list.csv')\n",
    "df_knox_models = pd.read_csv('../Data/Samsung/knox-models-all.csv')\n",
    "df_timelines = pd.read_csv('../Data/Samsung/timelines_samsung_devices_v3.csv')\n",
    "\n",
    "\n",
    "#drop if no release date\n",
    "df_samsung_v2 = df_samsung_v2[~df_samsung_v2['release_date'].isnull()]\n",
    "\n",
    "#convert the string values into timedate values\n",
    "df_samsung_v2[\"security_patch_level\"] = df_samsung_v2[\"security_patch_level\"].astype(\"datetime64\")\n",
    "df_samsung_v2[\"release_date\"] = df_samsung_v2[\"release_date\"].astype(\"datetime64\")\n",
    "df_timelines[['quarterly_start','quarterly_end']] = df_timelines[['quarterly_start','quarterly_end']].apply(pd.to_datetime)\n",
    "df_timelines[['quarterly_duration']] = df_timelines[['quarterly_duration']].apply(pd.to_timedelta)\n",
    "\n",
    "\n",
    "quarterly_timelines = df_timelines[(~(df_timelines['quarterly_duration'].dt.days==0))&(~df_timelines['quarterly_duration'].isnull())]\n",
    "quarterly_devices = quarterly_timelines['device'].unique()\n",
    "\n",
    "df_quarterly = pd.DataFrame()\n",
    "for device in quarterly_devices[:]:\n",
    "    \n",
    "    quarterly_start =df_timelines.loc[df_timelines.device==device,'quarterly_start'].item()\n",
    "    quarterly_end =df_timelines.loc[df_timelines.device==device,'quarterly_end'].item()\n",
    "    \n",
    "    df_samsung_v2.loc[df_samsung_v2.device==device,'quarterly_start'] = quarterly_start\n",
    "    df_samsung_v2.loc[df_samsung_v2.device==device,'quarterly_end'] = quarterly_end\n",
    "    \n",
    "    df_device = df_samsung_v2.loc[df_samsung_v2.device==device,:]\n",
    "    df_device_filtered = df_device[(df_device['release_date']>quarterly_start) & (df_device['release_date']<quarterly_end)]\n",
    "    df_quarterly=pd.concat([df_quarterly,df_device_filtered])\n",
    "    \n",
    "d_quarterly = []\n",
    "counter = 0\n",
    "\n",
    "for i in df_quarterly['id'].unique():\n",
    "    df_test = df_quarterly.loc[df_quarterly['id']==i,:]\n",
    "    [model,CSC] = i.split('/')\n",
    "    \n",
    "    #extract carrier_country from CSC dataset\n",
    "    cc= df_csc[df_csc['CSC']==CSC]['carrier/country'].to_list()\n",
    "    carrier_country = cc[0]\n",
    "    #extract carrier from CSC dataset\n",
    "    car = df_csc[df_csc['CSC']==CSC]['carrier'].to_list()\n",
    "    carrier = car[0]\n",
    "    #extract country from CSC dataset\n",
    "    cou = df_csc[df_csc['CSC']==CSC]['country'].to_list()\n",
    "    country = cou[0]\n",
    "    #extract ISO code from CSC dataset\n",
    "    iso = df_csc[df_csc['CSC']==CSC]['iso_code'].to_list()\n",
    "    iso_code = iso[0]\n",
    "    #extract region from CSC dataset\n",
    "    reg = df_csc[df_csc['CSC']==CSC]['region'].to_list()\n",
    "    region = reg[0]\n",
    "    #extract subregion from CSC dataset\n",
    "    subreg = df_csc[df_csc['CSC']==CSC]['subregion'].to_list()\n",
    "    subregion = subreg[0]\n",
    "    \n",
    "    #extract device type knox devices\n",
    "    dt = df_knox_models.loc[df_knox_models['model']==model,'device_type'].to_list()\n",
    "    if len(dt) == 1:\n",
    "        device_type= dt[0]\n",
    "    else:\n",
    "        device_type = ''\n",
    "        \n",
    "    #get the url\n",
    "    url = 'https://doc.samsungmobile.com/' + i + '/doc.html'\n",
    "    \n",
    "    device = df_test.loc[df_test['id']==i,'device'].to_list()[0]\n",
    "    \n",
    "    #extract all unique android version used for the unique pair\n",
    "    android_versions = df_test['android_version'].unique()\n",
    "    first_OS = df_test.sort_values('release_date',ascending=False)['android_version'].iat[-1]\n",
    "    last_OS = df_test.sort_values('release_date',ascending=False)['android_version'].iat[0]\n",
    "    \n",
    "    SPL_dates = df_test.loc[df_test['id']==i,'security_patch_level']\n",
    "    #calculate other fetures from SPL array for for the unique pair\n",
    "    first_SPL = SPL_dates.min()\n",
    "    last_SPL = SPL_dates.max()\n",
    "    SPL_duration = SPL_dates.max()- SPL_dates.min()\n",
    "    SPL_count = len(SPL_dates)\n",
    "    SPL_freq = SPL_duration.days/SPL_count\n",
    "    \n",
    "    release_dates = df_test.loc[df_test['id']==i,'release_date']\n",
    "    #calculate other fetures from ReleaseDates array for for the unique pair\n",
    "    first_release_date = release_dates.min()\n",
    "    last_release_date = release_dates.max()\n",
    "    release_date_duration = release_dates.max() - release_dates.min()\n",
    "    release_count = len(release_dates)\n",
    "    avg_release_freq = release_date_duration.days/release_count\n",
    "    \n",
    "    #calculate avg delay in the release dates and SPL dates\n",
    "    avg_release_delay = (df_test['release_date']-df_test['security_patch_level']).mean().days\n",
    "\n",
    "    a = df_knox_models.loc[df_knox_models.model==model,'AER'].to_list()\n",
    "    \n",
    "    if len(a) >= 1:\n",
    "        aer = a[0]\n",
    "    else:\n",
    "        aer = False\n",
    "        \n",
    "    p = df_knox_models.loc[df_knox_models.model==model,'platform'].to_list()\n",
    "    \n",
    "    if len(p) >= 1:\n",
    "        platform = p[0]\n",
    "    else:\n",
    "        platform = 'No-Info'\n",
    "        \n",
    "     \n",
    "    #create the final array\n",
    "    d_quarterly.append({'id': i,\n",
    "             'device': device,\n",
    "             'model': model,\n",
    "             'CSC': CSC,\n",
    "             'device_type': device_type,\n",
    "             'aer': aer,\n",
    "             'platform': platform,\n",
    "             'carrier_country': carrier_country,\n",
    "             'carrier': carrier,\n",
    "             'country': country,\n",
    "             'iso_code': iso_code,\n",
    "             'region': region,\n",
    "             'subregion': subregion,\n",
    "             'android_versions': android_versions,\n",
    "             'android_versions_str': ','.join(android_versions),\n",
    "             'android_versions_count': len(android_versions),\n",
    "             'first_OS': first_OS,\n",
    "             'last_OS': last_OS,\n",
    "             'first_SPL': first_SPL,\n",
    "             'last_SPL': last_SPL,\n",
    "             'SPL_duration': SPL_duration,\n",
    "             'release_date_duration': release_date_duration,\n",
    "             'SPL_count': SPL_count,\n",
    "             'release_count': release_count,\n",
    "             'SPL_freq': SPL_freq,\n",
    "             'avg_release_freq': avg_release_freq,\n",
    "             'first_release_date': first_release_date,\n",
    "             'last_release_date': last_release_date,\n",
    "             'avg_release_delay': avg_release_delay,\n",
    "             'url': url})\n",
    "    counter = counter + 1\n",
    "    print('Completed {} / {}'.format(counter,len(df_quarterly['id'].unique())), end='\\r')\n",
    "    \n",
    "df_final_samsung_quarterly = pd.DataFrame(d_quarterly)\n",
    "\n",
    "df_final_samsung_quarterly.head()   \n",
    "    "
   ]
  },
  {
   "cell_type": "markdown",
   "id": "e7ee4c1b",
   "metadata": {},
   "source": [
    "## Samsung-Biannual"
   ]
  },
  {
   "cell_type": "code",
   "execution_count": 13,
   "id": "dbb4e3a6",
   "metadata": {},
   "outputs": [
    {
     "name": "stderr",
     "output_type": "stream",
     "text": [
      "Loading CSVs: 100%|█████████████████████████████| 40/40 [00:03<00:00, 10.38it/s]\n"
     ]
    }
   ],
   "source": [
    "output_dir = '../Data/Samsung/samsung-security-updates'\n",
    "\n",
    "# List to hold dataframes\n",
    "dfs = []\n",
    "\n",
    "# List all CSVs in the directory\n",
    "csv_files = [f for f in os.listdir(output_dir) if f.endswith('.csv')]\n",
    "\n",
    "# Iterate over each file with progress bar\n",
    "for file in tqdm(csv_files, desc=\"Loading CSVs\"):\n",
    "    # Read the CSV and append to the list\n",
    "    dfs.append(pd.read_csv(f\"{output_dir}/{file}\"))\n",
    "\n",
    "# Concatenate all dataframes in the list\n",
    "df_samsung_v2 = pd.concat(dfs, ignore_index=True)"
   ]
  },
  {
   "cell_type": "code",
   "execution_count": 14,
   "id": "14e6a74d",
   "metadata": {},
   "outputs": [
    {
     "name": "stdout",
     "output_type": "stream",
     "text": [
      "Completed 2304 / 2304\r"
     ]
    },
    {
     "data": {
      "text/html": [
       "<div>\n",
       "<style scoped>\n",
       "    .dataframe tbody tr th:only-of-type {\n",
       "        vertical-align: middle;\n",
       "    }\n",
       "\n",
       "    .dataframe tbody tr th {\n",
       "        vertical-align: top;\n",
       "    }\n",
       "\n",
       "    .dataframe thead th {\n",
       "        text-align: right;\n",
       "    }\n",
       "</style>\n",
       "<table border=\"1\" class=\"dataframe\">\n",
       "  <thead>\n",
       "    <tr style=\"text-align: right;\">\n",
       "      <th></th>\n",
       "      <th>id</th>\n",
       "      <th>device</th>\n",
       "      <th>model</th>\n",
       "      <th>CSC</th>\n",
       "      <th>device_type</th>\n",
       "      <th>aer</th>\n",
       "      <th>platform</th>\n",
       "      <th>carrier_country</th>\n",
       "      <th>carrier</th>\n",
       "      <th>country</th>\n",
       "      <th>...</th>\n",
       "      <th>SPL_duration</th>\n",
       "      <th>release_date_duration</th>\n",
       "      <th>SPL_count</th>\n",
       "      <th>release_count</th>\n",
       "      <th>SPL_freq</th>\n",
       "      <th>avg_release_freq</th>\n",
       "      <th>first_release_date</th>\n",
       "      <th>last_release_date</th>\n",
       "      <th>avg_release_delay</th>\n",
       "      <th>url</th>\n",
       "    </tr>\n",
       "  </thead>\n",
       "  <tbody>\n",
       "    <tr>\n",
       "      <th>0</th>\n",
       "      <td>SM-A013F/CAC</td>\n",
       "      <td>Galaxy A01 Core</td>\n",
       "      <td>SM-A013F</td>\n",
       "      <td>CAC</td>\n",
       "      <td>smartphone</td>\n",
       "      <td>False</td>\n",
       "      <td>AndroidGo</td>\n",
       "      <td>Uzbekistan</td>\n",
       "      <td>No-carrier</td>\n",
       "      <td>Uzbekistan</td>\n",
       "      <td>...</td>\n",
       "      <td>0 days</td>\n",
       "      <td>0 days</td>\n",
       "      <td>1</td>\n",
       "      <td>1</td>\n",
       "      <td>0.0</td>\n",
       "      <td>0.0</td>\n",
       "      <td>2023-02-08</td>\n",
       "      <td>2023-02-08</td>\n",
       "      <td>38.0</td>\n",
       "      <td>https://doc.samsungmobile.com/SM-A013F/CAC/doc...</td>\n",
       "    </tr>\n",
       "    <tr>\n",
       "      <th>1</th>\n",
       "      <td>SM-A013F/CAU</td>\n",
       "      <td>Galaxy A01 Core</td>\n",
       "      <td>SM-A013F</td>\n",
       "      <td>CAU</td>\n",
       "      <td>smartphone</td>\n",
       "      <td>False</td>\n",
       "      <td>AndroidGo</td>\n",
       "      <td>Caucasus Countries</td>\n",
       "      <td>No-carrier</td>\n",
       "      <td>Caucasus Countries</td>\n",
       "      <td>...</td>\n",
       "      <td>0 days</td>\n",
       "      <td>0 days</td>\n",
       "      <td>1</td>\n",
       "      <td>1</td>\n",
       "      <td>0.0</td>\n",
       "      <td>0.0</td>\n",
       "      <td>2023-02-08</td>\n",
       "      <td>2023-02-08</td>\n",
       "      <td>38.0</td>\n",
       "      <td>https://doc.samsungmobile.com/SM-A013F/CAU/doc...</td>\n",
       "    </tr>\n",
       "    <tr>\n",
       "      <th>2</th>\n",
       "      <td>SM-A013F/SEK</td>\n",
       "      <td>Galaxy A01 Core</td>\n",
       "      <td>SM-A013F</td>\n",
       "      <td>SEK</td>\n",
       "      <td>smartphone</td>\n",
       "      <td>False</td>\n",
       "      <td>AndroidGo</td>\n",
       "      <td>Ukraine (Kyivstar)</td>\n",
       "      <td>Kyivstar</td>\n",
       "      <td>Ukraine</td>\n",
       "      <td>...</td>\n",
       "      <td>0 days</td>\n",
       "      <td>0 days</td>\n",
       "      <td>1</td>\n",
       "      <td>1</td>\n",
       "      <td>0.0</td>\n",
       "      <td>0.0</td>\n",
       "      <td>2023-02-08</td>\n",
       "      <td>2023-02-08</td>\n",
       "      <td>38.0</td>\n",
       "      <td>https://doc.samsungmobile.com/SM-A013F/SEK/doc...</td>\n",
       "    </tr>\n",
       "    <tr>\n",
       "      <th>3</th>\n",
       "      <td>SM-A013F/SKZ</td>\n",
       "      <td>Galaxy A01 Core</td>\n",
       "      <td>SM-A013F</td>\n",
       "      <td>SKZ</td>\n",
       "      <td>smartphone</td>\n",
       "      <td>False</td>\n",
       "      <td>AndroidGo</td>\n",
       "      <td>Kazakhstan</td>\n",
       "      <td>No-carrier</td>\n",
       "      <td>Kazakhstan</td>\n",
       "      <td>...</td>\n",
       "      <td>0 days</td>\n",
       "      <td>0 days</td>\n",
       "      <td>1</td>\n",
       "      <td>1</td>\n",
       "      <td>0.0</td>\n",
       "      <td>0.0</td>\n",
       "      <td>2023-01-25</td>\n",
       "      <td>2023-01-25</td>\n",
       "      <td>24.0</td>\n",
       "      <td>https://doc.samsungmobile.com/SM-A013F/SKZ/doc...</td>\n",
       "    </tr>\n",
       "    <tr>\n",
       "      <th>4</th>\n",
       "      <td>SM-A013G/ACR</td>\n",
       "      <td>Galaxy A01 Core</td>\n",
       "      <td>SM-A013G</td>\n",
       "      <td>ACR</td>\n",
       "      <td>smartphone</td>\n",
       "      <td>False</td>\n",
       "      <td>AndroidGo</td>\n",
       "      <td>Saudi Arabia</td>\n",
       "      <td>No-carrier</td>\n",
       "      <td>Saudi Arabia</td>\n",
       "      <td>...</td>\n",
       "      <td>0 days</td>\n",
       "      <td>0 days</td>\n",
       "      <td>1</td>\n",
       "      <td>1</td>\n",
       "      <td>0.0</td>\n",
       "      <td>0.0</td>\n",
       "      <td>2023-02-24</td>\n",
       "      <td>2023-02-24</td>\n",
       "      <td>54.0</td>\n",
       "      <td>https://doc.samsungmobile.com/SM-A013G/ACR/doc...</td>\n",
       "    </tr>\n",
       "  </tbody>\n",
       "</table>\n",
       "<p>5 rows × 30 columns</p>\n",
       "</div>"
      ],
      "text/plain": [
       "             id           device     model  CSC device_type    aer   platform  \\\n",
       "0  SM-A013F/CAC  Galaxy A01 Core  SM-A013F  CAC  smartphone  False  AndroidGo   \n",
       "1  SM-A013F/CAU  Galaxy A01 Core  SM-A013F  CAU  smartphone  False  AndroidGo   \n",
       "2  SM-A013F/SEK  Galaxy A01 Core  SM-A013F  SEK  smartphone  False  AndroidGo   \n",
       "3  SM-A013F/SKZ  Galaxy A01 Core  SM-A013F  SKZ  smartphone  False  AndroidGo   \n",
       "4  SM-A013G/ACR  Galaxy A01 Core  SM-A013G  ACR  smartphone  False  AndroidGo   \n",
       "\n",
       "       carrier_country     carrier             country  ... SPL_duration  \\\n",
       "0           Uzbekistan  No-carrier          Uzbekistan  ...       0 days   \n",
       "1   Caucasus Countries  No-carrier  Caucasus Countries  ...       0 days   \n",
       "2   Ukraine (Kyivstar)    Kyivstar             Ukraine  ...       0 days   \n",
       "3           Kazakhstan  No-carrier          Kazakhstan  ...       0 days   \n",
       "4         Saudi Arabia  No-carrier        Saudi Arabia  ...       0 days   \n",
       "\n",
       "  release_date_duration SPL_count release_count SPL_freq  avg_release_freq  \\\n",
       "0                0 days         1             1      0.0               0.0   \n",
       "1                0 days         1             1      0.0               0.0   \n",
       "2                0 days         1             1      0.0               0.0   \n",
       "3                0 days         1             1      0.0               0.0   \n",
       "4                0 days         1             1      0.0               0.0   \n",
       "\n",
       "  first_release_date last_release_date avg_release_delay  \\\n",
       "0         2023-02-08        2023-02-08              38.0   \n",
       "1         2023-02-08        2023-02-08              38.0   \n",
       "2         2023-02-08        2023-02-08              38.0   \n",
       "3         2023-01-25        2023-01-25              24.0   \n",
       "4         2023-02-24        2023-02-24              54.0   \n",
       "\n",
       "                                                 url  \n",
       "0  https://doc.samsungmobile.com/SM-A013F/CAC/doc...  \n",
       "1  https://doc.samsungmobile.com/SM-A013F/CAU/doc...  \n",
       "2  https://doc.samsungmobile.com/SM-A013F/SEK/doc...  \n",
       "3  https://doc.samsungmobile.com/SM-A013F/SKZ/doc...  \n",
       "4  https://doc.samsungmobile.com/SM-A013G/ACR/doc...  \n",
       "\n",
       "[5 rows x 30 columns]"
      ]
     },
     "execution_count": 14,
     "metadata": {},
     "output_type": "execute_result"
    }
   ],
   "source": [
    "\n",
    "df_csc = pd.read_csv('../Data/Samsung/CSC-list.csv')\n",
    "df_knox_models = pd.read_csv('../Data/Samsung/knox-models-all.csv')\n",
    "df_timelines = pd.read_csv('../Data/Samsung/timelines_samsung_devices_v3.csv')\n",
    "\n",
    "#drop if no release date\n",
    "df_samsung_v2 = df_samsung_v2[~df_samsung_v2['release_date'].isnull()]\n",
    "\n",
    "\n",
    "#convert the string values into timedate values\n",
    "df_samsung_v2[\"security_patch_level\"] = df_samsung_v2[\"security_patch_level\"].astype(\"datetime64\")\n",
    "df_samsung_v2[\"release_date\"] = df_samsung_v2[\"release_date\"].astype(\"datetime64\")\n",
    "df_timelines[['biannually_start','biannually_end']] = df_timelines[['biannually_start','biannually_end']].apply(pd.to_datetime)\n",
    "df_timelines[['biannually_duration']] = df_timelines[['biannually_duration']].apply(pd.to_timedelta)\n",
    "\n",
    "\n",
    "biannual_timelines = df_timelines[(~(df_timelines['biannually_duration'].dt.days==0))&(~df_timelines['biannually_duration'].isnull())]\n",
    "biannual_devices = biannual_timelines['device'].unique()\n",
    "\n",
    "df_biannual = pd.DataFrame()\n",
    "for device in biannual_devices[:]:\n",
    "    \n",
    "    biannually_start =df_timelines.loc[df_timelines.device==device,'biannually_start'].item()\n",
    "    biannually_end =df_timelines.loc[df_timelines.device==device,'biannually_end'].item()\n",
    "    \n",
    "    df_samsung_v2.loc[df_samsung_v2.device==device,'biannually_start'] = biannually_start\n",
    "    df_samsung_v2.loc[df_samsung_v2.device==device,'biannually_end'] = biannually_end\n",
    "    \n",
    "    df_device = df_samsung_v2.loc[df_samsung_v2.device==device,:]\n",
    "    df_device_filtered = df_device[(df_device['release_date']>biannually_start) & (df_device['release_date']<biannually_end)]\n",
    "    df_biannual=pd.concat([df_biannual,df_device_filtered])\n",
    "    \n",
    "d_biannual = []\n",
    "counter = 0\n",
    "\n",
    "\n",
    "for i in df_biannual['id'].unique():\n",
    "    df_test = df_biannual.loc[df_biannual['id']==i,:]\n",
    "    [model,CSC] = i.split('/')\n",
    "    \n",
    "    #extract carrier_country from CSC dataset\n",
    "    cc= df_csc[df_csc['CSC']==CSC]['carrier/country'].to_list()\n",
    "    carrier_country = cc[0]\n",
    "    #extract carrier from CSC dataset\n",
    "    car = df_csc[df_csc['CSC']==CSC]['carrier'].to_list()\n",
    "    carrier = car[0]\n",
    "    #extract country from CSC dataset\n",
    "    cou = df_csc[df_csc['CSC']==CSC]['country'].to_list()\n",
    "    country = cou[0]\n",
    "    #extract ISO code from CSC dataset\n",
    "    iso = df_csc[df_csc['CSC']==CSC]['iso_code'].to_list()\n",
    "    iso_code = iso[0]\n",
    "    #extract region from CSC dataset\n",
    "    reg = df_csc[df_csc['CSC']==CSC]['region'].to_list()\n",
    "    region = reg[0]\n",
    "    #extract subregion from CSC dataset\n",
    "    subreg = df_csc[df_csc['CSC']==CSC]['subregion'].to_list()\n",
    "    subregion = subreg[0]\n",
    "    \n",
    "    #extract device type knox devices\n",
    "    dt = df_knox_models.loc[df_knox_models['model']==model,'device_type'].to_list()\n",
    "    if len(dt) == 1:\n",
    "        device_type= dt[0]\n",
    "    else:\n",
    "        device_type = ''\n",
    "        \n",
    "    #get the url\n",
    "    url = 'https://doc.samsungmobile.com/' + i + '/doc.html'\n",
    "    \n",
    "    device = df_test.loc[df_test['id']==i,'device'].to_list()[0]\n",
    "    \n",
    "    #extract all unique android version used for the unique pair\n",
    "    android_versions = df_test['android_version'].unique()\n",
    "    first_OS = df_test.sort_values('release_date',ascending=False)['android_version'].iat[-1]\n",
    "    last_OS = df_test.sort_values('release_date',ascending=False)['android_version'].iat[0]\n",
    "    \n",
    "    SPL_dates = df_test.loc[df_test['id']==i,'security_patch_level']\n",
    "    #calculate other fetures from SPL array for for the unique pair\n",
    "    first_SPL = SPL_dates.min()\n",
    "    last_SPL = SPL_dates.max()\n",
    "    SPL_duration = SPL_dates.max()- SPL_dates.min()\n",
    "    SPL_count = len(SPL_dates)\n",
    "    SPL_freq = SPL_duration.days/SPL_count\n",
    "    \n",
    "    release_dates = df_test.loc[df_test['id']==i,'release_date']\n",
    "    #calculate other fetures from ReleaseDates array for for the unique pair\n",
    "    first_release_date = release_dates.min()\n",
    "    last_release_date = release_dates.max()\n",
    "    release_date_duration = release_dates.max() - release_dates.min()\n",
    "    release_count = len(release_dates)\n",
    "    avg_release_freq = release_date_duration.days/release_count\n",
    "    \n",
    "    #calculate avg delay in the release dates and SPL dates\n",
    "    avg_release_delay = (df_test['release_date']-df_test['security_patch_level']).mean().days\n",
    "\n",
    "    a = df_knox_models.loc[df_knox_models.model==model,'AER'].to_list()\n",
    "    \n",
    "    if len(a) >= 1:\n",
    "        aer = a[0]\n",
    "    else:\n",
    "        aer = False\n",
    "        \n",
    "    p = df_knox_models.loc[df_knox_models.model==model,'platform'].to_list()\n",
    "    \n",
    "    if len(p) >= 1:\n",
    "        platform = p[0]\n",
    "    else:\n",
    "        platform = 'No-Info'\n",
    "        \n",
    "     \n",
    "    #create the final array\n",
    "    d_biannual.append({'id': i,\n",
    "             'device': device,\n",
    "             'model': model,\n",
    "             'CSC': CSC,\n",
    "             'device_type': device_type,\n",
    "             'aer': aer,\n",
    "             'platform': platform,\n",
    "             'carrier_country': carrier_country,\n",
    "             'carrier': carrier,\n",
    "             'country': country,\n",
    "             'iso_code': iso_code,\n",
    "             'region': region,\n",
    "             'subregion': subregion,\n",
    "             'android_versions': android_versions,\n",
    "             'android_versions_str': ','.join(android_versions),\n",
    "             'android_versions_count': len(android_versions),\n",
    "             'first_OS': first_OS,\n",
    "             'last_OS': last_OS,\n",
    "             'first_SPL': first_SPL,\n",
    "             'last_SPL': last_SPL,\n",
    "             'SPL_duration': SPL_duration,\n",
    "             'release_date_duration': release_date_duration,\n",
    "             'SPL_count': SPL_count,\n",
    "             'release_count': release_count,\n",
    "             'SPL_freq': SPL_freq,\n",
    "             'avg_release_freq': avg_release_freq,\n",
    "             'first_release_date': first_release_date,\n",
    "             'last_release_date': last_release_date,\n",
    "             'avg_release_delay': avg_release_delay,\n",
    "             'url': url})\n",
    "    counter = counter + 1\n",
    "    print('Completed {} / {}'.format(counter,len(df_biannual['id'].unique())), end='\\r')\n",
    "    \n",
    "df_final_samsung_biannual = pd.DataFrame(d_biannual)\n",
    "\n",
    "df_final_samsung_biannual.head()   "
   ]
  },
  {
   "cell_type": "markdown",
   "id": "1e61b889",
   "metadata": {},
   "source": [
    "## Xiaomi"
   ]
  },
  {
   "cell_type": "code",
   "execution_count": 15,
   "id": "ba591081",
   "metadata": {},
   "outputs": [
    {
     "data": {
      "text/html": [
       "<div>\n",
       "<style scoped>\n",
       "    .dataframe tbody tr th:only-of-type {\n",
       "        vertical-align: middle;\n",
       "    }\n",
       "\n",
       "    .dataframe tbody tr th {\n",
       "        vertical-align: top;\n",
       "    }\n",
       "\n",
       "    .dataframe thead th {\n",
       "        text-align: right;\n",
       "    }\n",
       "</style>\n",
       "<table border=\"1\" class=\"dataframe\">\n",
       "  <thead>\n",
       "    <tr style=\"text-align: right;\">\n",
       "      <th></th>\n",
       "      <th>android</th>\n",
       "      <th>branch</th>\n",
       "      <th>codename</th>\n",
       "      <th>date</th>\n",
       "      <th>link</th>\n",
       "      <th>md5</th>\n",
       "      <th>method</th>\n",
       "      <th>name</th>\n",
       "      <th>size</th>\n",
       "      <th>version</th>\n",
       "      <th>device</th>\n",
       "      <th>region</th>\n",
       "      <th>codename_short</th>\n",
       "      <th>changelog_url</th>\n",
       "      <th>changelog</th>\n",
       "      <th>SPL</th>\n",
       "      <th>SPL_date</th>\n",
       "      <th>delay</th>\n",
       "      <th>delay_days</th>\n",
       "      <th>device_type</th>\n",
       "    </tr>\n",
       "  </thead>\n",
       "  <tbody>\n",
       "    <tr>\n",
       "      <th>0</th>\n",
       "      <td>4.2</td>\n",
       "      <td>Stable</td>\n",
       "      <td>HM2013022</td>\n",
       "      <td>2015-03-26</td>\n",
       "      <td>https://bigota.d.miui.com/JHACNBH22.0/miui_HM2...</td>\n",
       "      <td>a4bd134f029bd7d93d1cf595a4edb60a</td>\n",
       "      <td>Recovery</td>\n",
       "      <td>Redmi 1 TD China</td>\n",
       "      <td>315.9 MB</td>\n",
       "      <td>JHACNBH22.0</td>\n",
       "      <td>Redmi 1 TD</td>\n",
       "      <td>China</td>\n",
       "      <td>HM2013022</td>\n",
       "      <td>https://xiaomifirmwareupdater.com/miui/HM20130...</td>\n",
       "      <td>Bug fixes and system optimizations. Bug fixes ...</td>\n",
       "      <td>None</td>\n",
       "      <td>NaT</td>\n",
       "      <td>NaT</td>\n",
       "      <td>NaN</td>\n",
       "      <td>Phone</td>\n",
       "    </tr>\n",
       "    <tr>\n",
       "      <th>1</th>\n",
       "      <td>4.2</td>\n",
       "      <td>Stable</td>\n",
       "      <td>HM2013022</td>\n",
       "      <td>2015-03-26</td>\n",
       "      <td>https://bigota.d.miui.com/JHACNBH22.0/miui_HM2...</td>\n",
       "      <td>a4bd134f029bd7d93d1cf595a4edb60a</td>\n",
       "      <td>Recovery</td>\n",
       "      <td>Redmi 1 China</td>\n",
       "      <td>315.9 MB</td>\n",
       "      <td>JHACNBH22.0</td>\n",
       "      <td>Redmi 1</td>\n",
       "      <td>China</td>\n",
       "      <td>HM2013022</td>\n",
       "      <td>https://xiaomifirmwareupdater.com/miui/HM20130...</td>\n",
       "      <td>Bug fixes and system optimizations. Bug fixes ...</td>\n",
       "      <td>None</td>\n",
       "      <td>NaT</td>\n",
       "      <td>NaT</td>\n",
       "      <td>NaN</td>\n",
       "      <td>Phone</td>\n",
       "    </tr>\n",
       "    <tr>\n",
       "      <th>2</th>\n",
       "      <td>4.4</td>\n",
       "      <td>Weekly</td>\n",
       "      <td>HM2013022</td>\n",
       "      <td>2017-11-15</td>\n",
       "      <td>https://bigota.d.miui.com/7.11.16/miui_HMTD_7....</td>\n",
       "      <td>79d730de3e2d6c5373d12a1b23e1120a</td>\n",
       "      <td>Recovery</td>\n",
       "      <td>Redmi 1 TD China</td>\n",
       "      <td>460.1 MB</td>\n",
       "      <td>7.11.16</td>\n",
       "      <td>Redmi 1 TD</td>\n",
       "      <td>China</td>\n",
       "      <td>HM2013022</td>\n",
       "      <td>https://xiaomifirmwareupdater.com/miui/HM20130...</td>\n",
       "      <td>[Other]Fixed bugsImproved system stability [Ot...</td>\n",
       "      <td>None</td>\n",
       "      <td>NaT</td>\n",
       "      <td>NaT</td>\n",
       "      <td>NaN</td>\n",
       "      <td>Phone</td>\n",
       "    </tr>\n",
       "    <tr>\n",
       "      <th>3</th>\n",
       "      <td>4.4</td>\n",
       "      <td>Weekly</td>\n",
       "      <td>HM2013022</td>\n",
       "      <td>2017-11-15</td>\n",
       "      <td>https://bigota.d.miui.com/7.11.16/miui_HMTD_7....</td>\n",
       "      <td>79d730de3e2d6c5373d12a1b23e1120a</td>\n",
       "      <td>Recovery</td>\n",
       "      <td>Redmi 1 China</td>\n",
       "      <td>460.1 MB</td>\n",
       "      <td>7.11.16</td>\n",
       "      <td>Redmi 1</td>\n",
       "      <td>China</td>\n",
       "      <td>HM2013022</td>\n",
       "      <td>https://xiaomifirmwareupdater.com/miui/HM20130...</td>\n",
       "      <td>[Other]Fixed bugsImproved system stability [Ot...</td>\n",
       "      <td>None</td>\n",
       "      <td>NaT</td>\n",
       "      <td>NaT</td>\n",
       "      <td>NaN</td>\n",
       "      <td>Phone</td>\n",
       "    </tr>\n",
       "    <tr>\n",
       "      <th>4</th>\n",
       "      <td>4.4</td>\n",
       "      <td>Stable</td>\n",
       "      <td>HM2013023</td>\n",
       "      <td>2016-05-12</td>\n",
       "      <td>https://bigota.d.miui.com/V7.3.1.0.KHBCNDD/miu...</td>\n",
       "      <td>49c9fc7ce6be59b9a7bddd35f5a82596</td>\n",
       "      <td>Recovery</td>\n",
       "      <td>Redmi 1 W China</td>\n",
       "      <td>507.6 MB</td>\n",
       "      <td>V7.3.1.0.KHBCNDD</td>\n",
       "      <td>Redmi 1 W</td>\n",
       "      <td>China</td>\n",
       "      <td>HM2013023</td>\n",
       "      <td>https://xiaomifirmwareupdater.com/miui/HM20130...</td>\n",
       "      <td>[Other]Optimized system performanceImproved sy...</td>\n",
       "      <td>None</td>\n",
       "      <td>NaT</td>\n",
       "      <td>NaT</td>\n",
       "      <td>NaN</td>\n",
       "      <td>Phone</td>\n",
       "    </tr>\n",
       "  </tbody>\n",
       "</table>\n",
       "</div>"
      ],
      "text/plain": [
       "  android  branch   codename       date  \\\n",
       "0     4.2  Stable  HM2013022 2015-03-26   \n",
       "1     4.2  Stable  HM2013022 2015-03-26   \n",
       "2     4.4  Weekly  HM2013022 2017-11-15   \n",
       "3     4.4  Weekly  HM2013022 2017-11-15   \n",
       "4     4.4  Stable  HM2013023 2016-05-12   \n",
       "\n",
       "                                                link  \\\n",
       "0  https://bigota.d.miui.com/JHACNBH22.0/miui_HM2...   \n",
       "1  https://bigota.d.miui.com/JHACNBH22.0/miui_HM2...   \n",
       "2  https://bigota.d.miui.com/7.11.16/miui_HMTD_7....   \n",
       "3  https://bigota.d.miui.com/7.11.16/miui_HMTD_7....   \n",
       "4  https://bigota.d.miui.com/V7.3.1.0.KHBCNDD/miu...   \n",
       "\n",
       "                                md5    method              name      size  \\\n",
       "0  a4bd134f029bd7d93d1cf595a4edb60a  Recovery  Redmi 1 TD China  315.9 MB   \n",
       "1  a4bd134f029bd7d93d1cf595a4edb60a  Recovery     Redmi 1 China  315.9 MB   \n",
       "2  79d730de3e2d6c5373d12a1b23e1120a  Recovery  Redmi 1 TD China  460.1 MB   \n",
       "3  79d730de3e2d6c5373d12a1b23e1120a  Recovery     Redmi 1 China  460.1 MB   \n",
       "4  49c9fc7ce6be59b9a7bddd35f5a82596  Recovery   Redmi 1 W China  507.6 MB   \n",
       "\n",
       "            version      device region codename_short  \\\n",
       "0       JHACNBH22.0  Redmi 1 TD  China      HM2013022   \n",
       "1       JHACNBH22.0     Redmi 1  China      HM2013022   \n",
       "2           7.11.16  Redmi 1 TD  China      HM2013022   \n",
       "3           7.11.16     Redmi 1  China      HM2013022   \n",
       "4  V7.3.1.0.KHBCNDD   Redmi 1 W  China      HM2013023   \n",
       "\n",
       "                                       changelog_url  \\\n",
       "0  https://xiaomifirmwareupdater.com/miui/HM20130...   \n",
       "1  https://xiaomifirmwareupdater.com/miui/HM20130...   \n",
       "2  https://xiaomifirmwareupdater.com/miui/HM20130...   \n",
       "3  https://xiaomifirmwareupdater.com/miui/HM20130...   \n",
       "4  https://xiaomifirmwareupdater.com/miui/HM20130...   \n",
       "\n",
       "                                           changelog   SPL SPL_date delay  \\\n",
       "0  Bug fixes and system optimizations. Bug fixes ...  None      NaT   NaT   \n",
       "1  Bug fixes and system optimizations. Bug fixes ...  None      NaT   NaT   \n",
       "2  [Other]Fixed bugsImproved system stability [Ot...  None      NaT   NaT   \n",
       "3  [Other]Fixed bugsImproved system stability [Ot...  None      NaT   NaT   \n",
       "4  [Other]Optimized system performanceImproved sy...  None      NaT   NaT   \n",
       "\n",
       "   delay_days device_type  \n",
       "0         NaN       Phone  \n",
       "1         NaN       Phone  \n",
       "2         NaN       Phone  \n",
       "3         NaN       Phone  \n",
       "4         NaN       Phone  "
      ]
     },
     "execution_count": 15,
     "metadata": {},
     "output_type": "execute_result"
    }
   ],
   "source": [
    "import yaml\n",
    "import pandas as pd\n",
    "import requests\n",
    "import re\n",
    "\n",
    "# Read the YAML file\n",
    "with open('../Data/Xiaomi/latest.yml') as f:\n",
    "    data = yaml.safe_load(f)\n",
    "\n",
    "# Create a pandas dataframe from the data\n",
    "df_xiaomi = pd.DataFrame(data)\n",
    "\n",
    "#df['date'] = pd.to_datetime(df['date'])  # convert to datetime format\n",
    "#df = df[df['date'] < '2023-03-31']  # keep only rows where date is on or after 2020-01-01\n",
    "\n",
    "# split name column by last whitespace and take first and last parts\n",
    "df_xiaomi[['device', 'region']] = df_xiaomi['name'].str.rsplit(n=1, expand=True)\n",
    "\n",
    "df_xiaomi['date']= pd.to_datetime(df_xiaomi['date'])\n",
    "\n",
    "\n",
    "# Read the YAML file\n",
    "with open('../Data/Xiaomi/devices.yml') as f:\n",
    "    devices = yaml.safe_load(f)\n",
    "    \n",
    "# Create a pandas dataframe from the data\n",
    "df_devices = pd.DataFrame(devices)\n",
    "df_devices = df_devices.T\n",
    "df_devices.reset_index(drop=False,inplace=True)\n",
    "df_devices.rename(columns={'index': 'codename', 0: 'device-region', 1: 'model'},inplace=True)\n",
    "\n",
    "\n",
    "# Create a new column \"codename_short\" by splitting the \"codename\" column\n",
    "df_xiaomi['codename_short'] = df_xiaomi['codename'].apply(lambda x: x.split('_')[0])\n",
    "\n",
    "def generate_url(row):\n",
    "    if 'Stable' in row['branch']:\n",
    "        branch_url = 'stable'\n",
    "    elif 'Weekly' in row['branch']:\n",
    "        branch_url = 'weekly'\n",
    "    elif 'Public' in row['branch']:\n",
    "        branch_url = 'public%20beta'\n",
    "    else:\n",
    "        branch_url = row['branch'].lower()\n",
    "\n",
    "    return 'https://xiaomifirmwareupdater.com/miui/' + row['codename_short'] + '/' + branch_url + '/' + row['version'] + '/'\n",
    "\n",
    "df_xiaomi['changelog_url'] = df_xiaomi.apply(generate_url, axis=1)\n",
    "\n",
    "\n",
    "# Read 'changelogs.csv' and merge it with df based on 'changelog_url'\n",
    "df_changelogs = pd.read_csv('../Data/Xiaomi/changelogs.csv')\n",
    "\n",
    "df_xiaomi = pd.merge(df_xiaomi, df_changelogs, on='changelog_url', how='left')\n",
    "\n",
    "\n",
    "def extract_SPL(changelog_text):\n",
    "    if isinstance(changelog_text, str):   # check if changelog_text is a string\n",
    "        match = re.search(r'(\\bJanuary\\b|\\bFebruary\\b|\\bMarch\\b|\\bApril\\b|\\bMay\\b|\\bJune\\b|\\bJuly\\b|\\bAugust\\b|\\bSeptember\\b|\\bOctober\\b|\\bNovember\\b|\\bDecember\\b) \\d{4}', changelog_text)\n",
    "        if match:\n",
    "            return match.group(0)\n",
    "    return None   # if changelog_text is not a string (e.g., it's a float/NaN), return None\n",
    "    \n",
    "df_xiaomi['SPL'] = df_xiaomi['changelog'].apply(extract_SPL)\n",
    "\n",
    "df_xiaomi['SPL_date'] = pd.to_datetime(df_xiaomi['SPL'], format='%B %Y', errors='coerce')\n",
    "\n",
    "df_xiaomi['delay'] = df_xiaomi['date'] - df_xiaomi['SPL_date']\n",
    "# Convert timedelta values to days\n",
    "df_xiaomi['delay_days'] = df_xiaomi['delay'].dt.days\n",
    "\n",
    "\n",
    "# Create a new column based on the 'name' column\n",
    "df_xiaomi['device_type'] = df_xiaomi['name'].apply(lambda x: 'Tablet' if 'Pad' in x else 'Smartwatch' if 'Watch' in x else 'Phone')\n",
    "\n",
    "# Print the dataframe\n",
    "df_xiaomi.head()\n"
   ]
  },
  {
   "cell_type": "code",
   "execution_count": 16,
   "id": "f174397a",
   "metadata": {},
   "outputs": [
    {
     "name": "stdout",
     "output_type": "stream",
     "text": [
      "Completed 756 / 756\r"
     ]
    },
    {
     "data": {
      "text/html": [
       "<div>\n",
       "<style scoped>\n",
       "    .dataframe tbody tr th:only-of-type {\n",
       "        vertical-align: middle;\n",
       "    }\n",
       "\n",
       "    .dataframe tbody tr th {\n",
       "        vertical-align: top;\n",
       "    }\n",
       "\n",
       "    .dataframe thead th {\n",
       "        text-align: right;\n",
       "    }\n",
       "</style>\n",
       "<table border=\"1\" class=\"dataframe\">\n",
       "  <thead>\n",
       "    <tr style=\"text-align: right;\">\n",
       "      <th></th>\n",
       "      <th>codename</th>\n",
       "      <th>name</th>\n",
       "      <th>device_type</th>\n",
       "      <th>region</th>\n",
       "      <th>last_android_version</th>\n",
       "      <th>update_count</th>\n",
       "      <th>first_update_date</th>\n",
       "      <th>last_update_date</th>\n",
       "      <th>first_SPL</th>\n",
       "      <th>last_SPL</th>\n",
       "      <th>support_duration</th>\n",
       "      <th>update_frequency</th>\n",
       "      <th>delay</th>\n",
       "    </tr>\n",
       "  </thead>\n",
       "  <tbody>\n",
       "    <tr>\n",
       "      <th>0</th>\n",
       "      <td>HM2013022</td>\n",
       "      <td>Redmi 1 TD</td>\n",
       "      <td>Phone</td>\n",
       "      <td>China</td>\n",
       "      <td>4.4</td>\n",
       "      <td>4</td>\n",
       "      <td>2015-03-26</td>\n",
       "      <td>2017-11-15</td>\n",
       "      <td>NaT</td>\n",
       "      <td>NaT</td>\n",
       "      <td>965</td>\n",
       "      <td>241.250000</td>\n",
       "      <td>NaN</td>\n",
       "    </tr>\n",
       "    <tr>\n",
       "      <th>1</th>\n",
       "      <td>HM2013023</td>\n",
       "      <td>Redmi 1 W</td>\n",
       "      <td>Phone</td>\n",
       "      <td>China</td>\n",
       "      <td>4.4</td>\n",
       "      <td>15</td>\n",
       "      <td>2016-05-12</td>\n",
       "      <td>2018-09-26</td>\n",
       "      <td>NaT</td>\n",
       "      <td>NaT</td>\n",
       "      <td>867</td>\n",
       "      <td>57.800000</td>\n",
       "      <td>NaN</td>\n",
       "    </tr>\n",
       "    <tr>\n",
       "      <th>2</th>\n",
       "      <td>HM2013023_sg_global</td>\n",
       "      <td>Redmi 1 W</td>\n",
       "      <td>Phone</td>\n",
       "      <td>Singapore</td>\n",
       "      <td>4.4</td>\n",
       "      <td>6</td>\n",
       "      <td>2015-06-26</td>\n",
       "      <td>2015-12-24</td>\n",
       "      <td>NaT</td>\n",
       "      <td>NaT</td>\n",
       "      <td>181</td>\n",
       "      <td>30.166667</td>\n",
       "      <td>NaN</td>\n",
       "    </tr>\n",
       "    <tr>\n",
       "      <th>3</th>\n",
       "      <td>HM2014011</td>\n",
       "      <td>Redmi 1S TD 3G</td>\n",
       "      <td>Phone</td>\n",
       "      <td>China</td>\n",
       "      <td>4.4</td>\n",
       "      <td>3</td>\n",
       "      <td>2017-11-15</td>\n",
       "      <td>2018-09-07</td>\n",
       "      <td>NaT</td>\n",
       "      <td>NaT</td>\n",
       "      <td>296</td>\n",
       "      <td>98.666667</td>\n",
       "      <td>NaN</td>\n",
       "    </tr>\n",
       "    <tr>\n",
       "      <th>4</th>\n",
       "      <td>HM2014501</td>\n",
       "      <td>Redmi 1S TD 4G</td>\n",
       "      <td>Phone</td>\n",
       "      <td>China</td>\n",
       "      <td>4.4</td>\n",
       "      <td>3</td>\n",
       "      <td>2017-11-15</td>\n",
       "      <td>2018-09-07</td>\n",
       "      <td>NaT</td>\n",
       "      <td>NaT</td>\n",
       "      <td>296</td>\n",
       "      <td>98.666667</td>\n",
       "      <td>NaN</td>\n",
       "    </tr>\n",
       "  </tbody>\n",
       "</table>\n",
       "</div>"
      ],
      "text/plain": [
       "              codename            name device_type     region  \\\n",
       "0            HM2013022      Redmi 1 TD       Phone      China   \n",
       "1            HM2013023       Redmi 1 W       Phone      China   \n",
       "2  HM2013023_sg_global       Redmi 1 W       Phone  Singapore   \n",
       "3            HM2014011  Redmi 1S TD 3G       Phone      China   \n",
       "4            HM2014501  Redmi 1S TD 4G       Phone      China   \n",
       "\n",
       "  last_android_version  update_count first_update_date last_update_date  \\\n",
       "0                  4.4             4        2015-03-26       2017-11-15   \n",
       "1                  4.4            15        2016-05-12       2018-09-26   \n",
       "2                  4.4             6        2015-06-26       2015-12-24   \n",
       "3                  4.4             3        2017-11-15       2018-09-07   \n",
       "4                  4.4             3        2017-11-15       2018-09-07   \n",
       "\n",
       "  first_SPL last_SPL  support_duration  update_frequency  delay  \n",
       "0       NaT      NaT               965        241.250000    NaN  \n",
       "1       NaT      NaT               867         57.800000    NaN  \n",
       "2       NaT      NaT               181         30.166667    NaN  \n",
       "3       NaT      NaT               296         98.666667    NaN  \n",
       "4       NaT      NaT               296         98.666667    NaN  "
      ]
     },
     "execution_count": 16,
     "metadata": {},
     "output_type": "execute_result"
    }
   ],
   "source": [
    "import pandas as pd\n",
    "\n",
    "d = []\n",
    "counter = 0\n",
    "\n",
    "for codename in df_xiaomi['codename'].unique():\n",
    "    #print('codename: {}'.format(codename))\n",
    "    \n",
    "    df_test = df_xiaomi[df_xiaomi['codename']==codename]\n",
    "\n",
    "    device = df_test['device'].to_list()\n",
    "    region = df_test['region'].to_list()\n",
    "    \n",
    "    device_type = df_test['device_type'].to_list()\n",
    "    \n",
    "    update_count = len(df_test)\n",
    "    first_update_date = df_test['date'].min()\n",
    "    last_update_date = df_test['date'].max()\n",
    "    support_duration = (last_update_date-first_update_date).days\n",
    "    update_frequency = support_duration / update_count if update_count else None\n",
    "    \n",
    "    last_android_version = df_test.loc[df_test['date']==last_update_date,'android'].to_list()\n",
    "    \n",
    "    delay = df_test['delay_days'].median()\n",
    "    \n",
    "    first_SPL = df_test['SPL_date'].min()\n",
    "    last_SPL = df_test['SPL_date'].max()\n",
    "        \n",
    "    d.append({'codename': codename,\n",
    "              'name': device[0],\n",
    "              'device_type': device_type[0],\n",
    "              'region': region[0],\n",
    "              'last_android_version': last_android_version[0],\n",
    "              'update_count': update_count,\n",
    "              'first_update_date': first_update_date,\n",
    "              'last_update_date': last_update_date,\n",
    "              'first_SPL': first_SPL,\n",
    "              'last_SPL': last_SPL,\n",
    "              'support_duration': support_duration,\n",
    "              'update_frequency': update_frequency,\n",
    "              'delay': delay})\n",
    "    \n",
    "    counter = counter + 1\n",
    "    \n",
    "    print('Completed {} / {}'.format(counter,len(df_xiaomi['codename'].unique())), end='\\r')\n",
    "    \n",
    "\n",
    "df_final_xiaomi = pd.DataFrame(d)\n",
    "    \n",
    "df_final_xiaomi.head()"
   ]
  },
  {
   "cell_type": "markdown",
   "id": "f55c6de2",
   "metadata": {},
   "source": [
    "## Oppo"
   ]
  },
  {
   "cell_type": "code",
   "execution_count": 17,
   "id": "2ef3b108",
   "metadata": {},
   "outputs": [
    {
     "data": {
      "text/html": [
       "<div>\n",
       "<style scoped>\n",
       "    .dataframe tbody tr th:only-of-type {\n",
       "        vertical-align: middle;\n",
       "    }\n",
       "\n",
       "    .dataframe tbody tr th {\n",
       "        vertical-align: top;\n",
       "    }\n",
       "\n",
       "    .dataframe thead th {\n",
       "        text-align: right;\n",
       "    }\n",
       "</style>\n",
       "<table border=\"1\" class=\"dataframe\">\n",
       "  <thead>\n",
       "    <tr style=\"text-align: right;\">\n",
       "      <th></th>\n",
       "      <th>Product Name</th>\n",
       "      <th>Version No</th>\n",
       "      <th>Size</th>\n",
       "      <th>Update Date</th>\n",
       "      <th>Download Times</th>\n",
       "      <th>Download Link</th>\n",
       "      <th>url</th>\n",
       "      <th>date</th>\n",
       "      <th>Device Model</th>\n",
       "      <th>ColorOS Version</th>\n",
       "      <th>...</th>\n",
       "      <th>region</th>\n",
       "      <th>lang</th>\n",
       "      <th>filename</th>\n",
       "      <th>file_path</th>\n",
       "      <th>first_12_bytes</th>\n",
       "      <th>file_extension</th>\n",
       "      <th>SPL</th>\n",
       "      <th>identifier</th>\n",
       "      <th>delay</th>\n",
       "      <th>ISO</th>\n",
       "    </tr>\n",
       "  </thead>\n",
       "  <tbody>\n",
       "    <tr>\n",
       "      <th>0</th>\n",
       "      <td>OPPO Reno2 F</td>\n",
       "      <td>CPH1989EX_11_C.20</td>\n",
       "      <td>2.91 GB</td>\n",
       "      <td>2021/05/10</td>\n",
       "      <td>1,611</td>\n",
       "      <td>https://assorted.downloads.oppo.com/firmware/C...</td>\n",
       "      <td>https://support.oppo.com/dz/software-update/so...</td>\n",
       "      <td>2021-05-10</td>\n",
       "      <td>CPH1989EX</td>\n",
       "      <td>11</td>\n",
       "      <td>...</td>\n",
       "      <td>Africa &amp; Middle East</td>\n",
       "      <td>fr</td>\n",
       "      <td>CPH1989EX_11_OTA_1200_all_f5jdg3ZRx4WG.ozip</td>\n",
       "      <td>/Volumes/Expansion/Oppo/652_https___assorted.d...</td>\n",
       "      <td>OPPOENCRYPT!</td>\n",
       "      <td>ozip</td>\n",
       "      <td>2021-04-05</td>\n",
       "      <td>652.0</td>\n",
       "      <td>35.0</td>\n",
       "      <td>DZA</td>\n",
       "    </tr>\n",
       "    <tr>\n",
       "      <th>1</th>\n",
       "      <td>OPPO Reno2 F</td>\n",
       "      <td>CPH1989EX_11_C.19</td>\n",
       "      <td>2.87 GB</td>\n",
       "      <td>2021/03/11</td>\n",
       "      <td>1,246</td>\n",
       "      <td>https://assorted.downloads.oppo.com/firmware/C...</td>\n",
       "      <td>https://support.oppo.com/dz/software-update/so...</td>\n",
       "      <td>2021-03-11</td>\n",
       "      <td>CPH1989EX</td>\n",
       "      <td>11</td>\n",
       "      <td>...</td>\n",
       "      <td>Africa &amp; Middle East</td>\n",
       "      <td>fr</td>\n",
       "      <td>CPH1989EX_11_OTA_1190_all_BNmwe83KIV98.ozip</td>\n",
       "      <td>/Volumes/Expansion/Oppo/651_https___assorted.d...</td>\n",
       "      <td>OPPOENCRYPT!</td>\n",
       "      <td>ozip</td>\n",
       "      <td>2021-02-05</td>\n",
       "      <td>651.0</td>\n",
       "      <td>34.0</td>\n",
       "      <td>DZA</td>\n",
       "    </tr>\n",
       "    <tr>\n",
       "      <th>2</th>\n",
       "      <td>OPPO Reno2 F</td>\n",
       "      <td>CPH1989EX_11_C.17</td>\n",
       "      <td>2.83 GB</td>\n",
       "      <td>2020/12/18</td>\n",
       "      <td>7,092</td>\n",
       "      <td>https://assorted.downloads.oppo.com/firmware/C...</td>\n",
       "      <td>https://support.oppo.com/dz/software-update/so...</td>\n",
       "      <td>2020-12-18</td>\n",
       "      <td>CPH1989EX</td>\n",
       "      <td>11</td>\n",
       "      <td>...</td>\n",
       "      <td>Africa &amp; Middle East</td>\n",
       "      <td>fr</td>\n",
       "      <td>CPH1989EX_11_OTA_1170_all_UYw3OL95EtlM.ozip</td>\n",
       "      <td>/Volumes/Expansion/Oppo/650_https___assorted.d...</td>\n",
       "      <td>OPPOENCRYPT!</td>\n",
       "      <td>ozip</td>\n",
       "      <td>2020-12-05</td>\n",
       "      <td>650.0</td>\n",
       "      <td>13.0</td>\n",
       "      <td>DZA</td>\n",
       "    </tr>\n",
       "    <tr>\n",
       "      <th>3</th>\n",
       "      <td>OPPO Reno2 F</td>\n",
       "      <td>CPH1989EX_11_C.15</td>\n",
       "      <td>2.82 GB</td>\n",
       "      <td>2020/10/15</td>\n",
       "      <td>5,344</td>\n",
       "      <td>https://assorted.downloads.oppo.com/firmware/C...</td>\n",
       "      <td>https://support.oppo.com/dz/software-update/so...</td>\n",
       "      <td>2020-10-15</td>\n",
       "      <td>CPH1989EX</td>\n",
       "      <td>11</td>\n",
       "      <td>...</td>\n",
       "      <td>Africa &amp; Middle East</td>\n",
       "      <td>fr</td>\n",
       "      <td>CPH1989EX_11_OTA_1150_all_HcOBVqySu4QL.ozip</td>\n",
       "      <td>/Volumes/Expansion/Oppo/649_https___assorted.d...</td>\n",
       "      <td>OPPOENCRYPT!</td>\n",
       "      <td>ozip</td>\n",
       "      <td>2020-09-05</td>\n",
       "      <td>649.0</td>\n",
       "      <td>40.0</td>\n",
       "      <td>DZA</td>\n",
       "    </tr>\n",
       "    <tr>\n",
       "      <th>4</th>\n",
       "      <td>OPPO Reno2 F</td>\n",
       "      <td>CPH1989_11_A.18</td>\n",
       "      <td>2.6 GB</td>\n",
       "      <td>2020/08/18</td>\n",
       "      <td>3,986</td>\n",
       "      <td>https://assorted.downloads.oppo.com/firmware/C...</td>\n",
       "      <td>https://support.oppo.com/dz/software-update/so...</td>\n",
       "      <td>2020-08-18</td>\n",
       "      <td>CPH1989</td>\n",
       "      <td>11</td>\n",
       "      <td>...</td>\n",
       "      <td>Africa &amp; Middle East</td>\n",
       "      <td>fr</td>\n",
       "      <td>CPH1989EX_11_OTA_0180_all_hzB4QMDBLuVP.ozip</td>\n",
       "      <td>/Volumes/Expansion/Oppo/648_https___assorted.d...</td>\n",
       "      <td>OPPOENCRYPT!</td>\n",
       "      <td>ozip</td>\n",
       "      <td>2020-06-05</td>\n",
       "      <td>648.0</td>\n",
       "      <td>74.0</td>\n",
       "      <td>DZA</td>\n",
       "    </tr>\n",
       "    <tr>\n",
       "      <th>...</th>\n",
       "      <td>...</td>\n",
       "      <td>...</td>\n",
       "      <td>...</td>\n",
       "      <td>...</td>\n",
       "      <td>...</td>\n",
       "      <td>...</td>\n",
       "      <td>...</td>\n",
       "      <td>...</td>\n",
       "      <td>...</td>\n",
       "      <td>...</td>\n",
       "      <td>...</td>\n",
       "      <td>...</td>\n",
       "      <td>...</td>\n",
       "      <td>...</td>\n",
       "      <td>...</td>\n",
       "      <td>...</td>\n",
       "      <td>...</td>\n",
       "      <td>...</td>\n",
       "      <td>...</td>\n",
       "      <td>...</td>\n",
       "      <td>...</td>\n",
       "    </tr>\n",
       "    <tr>\n",
       "      <th>9368</th>\n",
       "      <td>OPPO R15 Pro</td>\n",
       "      <td>CPH1831EX_11_A.18_190527</td>\n",
       "      <td>2.4 GB</td>\n",
       "      <td>2019/06/24</td>\n",
       "      <td>1,262</td>\n",
       "      <td>https://assorted.downloads.oppo.com/firmware/C...</td>\n",
       "      <td>https://support.oppo.com/tw/software-update/so...</td>\n",
       "      <td>2019-06-24</td>\n",
       "      <td>CPH1831EX</td>\n",
       "      <td>11</td>\n",
       "      <td>...</td>\n",
       "      <td>Asia Pacific</td>\n",
       "      <td>zh</td>\n",
       "      <td>CPH1831EX_11_OTA_0180_all_CifKBktqrKQx.ozip</td>\n",
       "      <td>/Volumes/Expansion/Oppo/254_https___assorted.d...</td>\n",
       "      <td>OPPOENCRYPT!</td>\n",
       "      <td>ozip</td>\n",
       "      <td>NaT</td>\n",
       "      <td>254.0</td>\n",
       "      <td>NaN</td>\n",
       "      <td>None</td>\n",
       "    </tr>\n",
       "    <tr>\n",
       "      <th>9369</th>\n",
       "      <td>OPPO R15 Pro</td>\n",
       "      <td>CPH1831EX_11_A.17_190326</td>\n",
       "      <td>2.51 GB</td>\n",
       "      <td>2019/05/22</td>\n",
       "      <td>1,461</td>\n",
       "      <td>https://assorted.downloads.oppo.com/firmware/C...</td>\n",
       "      <td>https://support.oppo.com/tw/software-update/so...</td>\n",
       "      <td>2019-05-22</td>\n",
       "      <td>CPH1831EX</td>\n",
       "      <td>11</td>\n",
       "      <td>...</td>\n",
       "      <td>Asia Pacific</td>\n",
       "      <td>zh</td>\n",
       "      <td>CPH1831EX_11_OTA_0170_all_Q2GOz9afhZPM.ozip</td>\n",
       "      <td>/Volumes/Expansion/Oppo/188_https___assorted.d...</td>\n",
       "      <td>OPPOENCRYPT!</td>\n",
       "      <td>ozip</td>\n",
       "      <td>NaT</td>\n",
       "      <td>188.0</td>\n",
       "      <td>NaN</td>\n",
       "      <td>None</td>\n",
       "    </tr>\n",
       "    <tr>\n",
       "      <th>9370</th>\n",
       "      <td>OPPO R15 Pro</td>\n",
       "      <td>CPH1831EX_11_A.15_181221_8368f1e9</td>\n",
       "      <td>2.25 GB</td>\n",
       "      <td>2019/01/10</td>\n",
       "      <td>1,885</td>\n",
       "      <td>https://assorted.downloads.oppo.com/firmware/C...</td>\n",
       "      <td>https://support.oppo.com/tw/software-update/so...</td>\n",
       "      <td>2019-01-10</td>\n",
       "      <td>CPH1831EX</td>\n",
       "      <td>11</td>\n",
       "      <td>...</td>\n",
       "      <td>Asia Pacific</td>\n",
       "      <td>zh</td>\n",
       "      <td>CPH1831EX_11_A.15_OTA_0150_all_201812211048.ozip</td>\n",
       "      <td>/Volumes/Expansion/Oppo/113_https___assorted.d...</td>\n",
       "      <td>OPPOENCRYPT!</td>\n",
       "      <td>ozip</td>\n",
       "      <td>NaT</td>\n",
       "      <td>113.0</td>\n",
       "      <td>NaN</td>\n",
       "      <td>None</td>\n",
       "    </tr>\n",
       "    <tr>\n",
       "      <th>9371</th>\n",
       "      <td>OPPO R15 Pro</td>\n",
       "      <td>CPH1831EX_11_A.13_181121</td>\n",
       "      <td>2.1 GB</td>\n",
       "      <td>2018/12/27</td>\n",
       "      <td>2,291</td>\n",
       "      <td>https://assorted.downloads.oppo.com/firmware/C...</td>\n",
       "      <td>https://support.oppo.com/tw/software-update/so...</td>\n",
       "      <td>2018-12-27</td>\n",
       "      <td>CPH1831EX</td>\n",
       "      <td>11</td>\n",
       "      <td>...</td>\n",
       "      <td>Asia Pacific</td>\n",
       "      <td>zh</td>\n",
       "      <td>CPH1831EX_11_A.13_OTA_0130_all_201811212153.ozip</td>\n",
       "      <td>/Volumes/Expansion/Oppo/253_https___assorted.d...</td>\n",
       "      <td>OPPOENCRYPT!</td>\n",
       "      <td>ozip</td>\n",
       "      <td>NaT</td>\n",
       "      <td>253.0</td>\n",
       "      <td>NaN</td>\n",
       "      <td>None</td>\n",
       "    </tr>\n",
       "    <tr>\n",
       "      <th>9372</th>\n",
       "      <td>OPPO R15 Pro</td>\n",
       "      <td>CPH1831EX_11_A.01_180501_1b1c399f</td>\n",
       "      <td>NaN MB</td>\n",
       "      <td>2018/11/19</td>\n",
       "      <td>1,364</td>\n",
       "      <td>https://assorted.downloads.oppo.com/firmware/C...</td>\n",
       "      <td>https://support.oppo.com/tw/software-update/so...</td>\n",
       "      <td>2018-11-19</td>\n",
       "      <td>CPH1831EX</td>\n",
       "      <td>11</td>\n",
       "      <td>...</td>\n",
       "      <td>Asia Pacific</td>\n",
       "      <td>zh</td>\n",
       "      <td>CPH1831EX_11_A.01_OTA_0010_all_201805011658.ozip</td>\n",
       "      <td>/Volumes/Expansion/Oppo/108_https___assorted.d...</td>\n",
       "      <td>OPPOENCRYPT!</td>\n",
       "      <td>ozip</td>\n",
       "      <td>NaT</td>\n",
       "      <td>108.0</td>\n",
       "      <td>NaN</td>\n",
       "      <td>None</td>\n",
       "    </tr>\n",
       "  </tbody>\n",
       "</table>\n",
       "<p>9373 rows × 22 columns</p>\n",
       "</div>"
      ],
      "text/plain": [
       "      Product Name                         Version No     Size Update Date  \\\n",
       "0     OPPO Reno2 F                  CPH1989EX_11_C.20  2.91 GB  2021/05/10   \n",
       "1     OPPO Reno2 F                  CPH1989EX_11_C.19  2.87 GB  2021/03/11   \n",
       "2     OPPO Reno2 F                  CPH1989EX_11_C.17  2.83 GB  2020/12/18   \n",
       "3     OPPO Reno2 F                  CPH1989EX_11_C.15  2.82 GB  2020/10/15   \n",
       "4     OPPO Reno2 F                    CPH1989_11_A.18   2.6 GB  2020/08/18   \n",
       "...            ...                                ...      ...         ...   \n",
       "9368  OPPO R15 Pro           CPH1831EX_11_A.18_190527   2.4 GB  2019/06/24   \n",
       "9369  OPPO R15 Pro           CPH1831EX_11_A.17_190326  2.51 GB  2019/05/22   \n",
       "9370  OPPO R15 Pro  CPH1831EX_11_A.15_181221_8368f1e9  2.25 GB  2019/01/10   \n",
       "9371  OPPO R15 Pro           CPH1831EX_11_A.13_181121   2.1 GB  2018/12/27   \n",
       "9372  OPPO R15 Pro  CPH1831EX_11_A.01_180501_1b1c399f   NaN MB  2018/11/19   \n",
       "\n",
       "     Download Times                                      Download Link  \\\n",
       "0             1,611  https://assorted.downloads.oppo.com/firmware/C...   \n",
       "1             1,246  https://assorted.downloads.oppo.com/firmware/C...   \n",
       "2             7,092  https://assorted.downloads.oppo.com/firmware/C...   \n",
       "3             5,344  https://assorted.downloads.oppo.com/firmware/C...   \n",
       "4             3,986  https://assorted.downloads.oppo.com/firmware/C...   \n",
       "...             ...                                                ...   \n",
       "9368          1,262  https://assorted.downloads.oppo.com/firmware/C...   \n",
       "9369          1,461  https://assorted.downloads.oppo.com/firmware/C...   \n",
       "9370          1,885  https://assorted.downloads.oppo.com/firmware/C...   \n",
       "9371          2,291  https://assorted.downloads.oppo.com/firmware/C...   \n",
       "9372          1,364  https://assorted.downloads.oppo.com/firmware/C...   \n",
       "\n",
       "                                                    url       date  \\\n",
       "0     https://support.oppo.com/dz/software-update/so... 2021-05-10   \n",
       "1     https://support.oppo.com/dz/software-update/so... 2021-03-11   \n",
       "2     https://support.oppo.com/dz/software-update/so... 2020-12-18   \n",
       "3     https://support.oppo.com/dz/software-update/so... 2020-10-15   \n",
       "4     https://support.oppo.com/dz/software-update/so... 2020-08-18   \n",
       "...                                                 ...        ...   \n",
       "9368  https://support.oppo.com/tw/software-update/so... 2019-06-24   \n",
       "9369  https://support.oppo.com/tw/software-update/so... 2019-05-22   \n",
       "9370  https://support.oppo.com/tw/software-update/so... 2019-01-10   \n",
       "9371  https://support.oppo.com/tw/software-update/so... 2018-12-27   \n",
       "9372  https://support.oppo.com/tw/software-update/so... 2018-11-19   \n",
       "\n",
       "     Device Model ColorOS Version  ...                region lang  \\\n",
       "0       CPH1989EX              11  ...  Africa & Middle East   fr   \n",
       "1       CPH1989EX              11  ...  Africa & Middle East   fr   \n",
       "2       CPH1989EX              11  ...  Africa & Middle East   fr   \n",
       "3       CPH1989EX              11  ...  Africa & Middle East   fr   \n",
       "4         CPH1989              11  ...  Africa & Middle East   fr   \n",
       "...           ...             ...  ...                   ...  ...   \n",
       "9368    CPH1831EX              11  ...          Asia Pacific   zh   \n",
       "9369    CPH1831EX              11  ...          Asia Pacific   zh   \n",
       "9370    CPH1831EX              11  ...          Asia Pacific   zh   \n",
       "9371    CPH1831EX              11  ...          Asia Pacific   zh   \n",
       "9372    CPH1831EX              11  ...          Asia Pacific   zh   \n",
       "\n",
       "                                              filename  \\\n",
       "0          CPH1989EX_11_OTA_1200_all_f5jdg3ZRx4WG.ozip   \n",
       "1          CPH1989EX_11_OTA_1190_all_BNmwe83KIV98.ozip   \n",
       "2          CPH1989EX_11_OTA_1170_all_UYw3OL95EtlM.ozip   \n",
       "3          CPH1989EX_11_OTA_1150_all_HcOBVqySu4QL.ozip   \n",
       "4          CPH1989EX_11_OTA_0180_all_hzB4QMDBLuVP.ozip   \n",
       "...                                                ...   \n",
       "9368       CPH1831EX_11_OTA_0180_all_CifKBktqrKQx.ozip   \n",
       "9369       CPH1831EX_11_OTA_0170_all_Q2GOz9afhZPM.ozip   \n",
       "9370  CPH1831EX_11_A.15_OTA_0150_all_201812211048.ozip   \n",
       "9371  CPH1831EX_11_A.13_OTA_0130_all_201811212153.ozip   \n",
       "9372  CPH1831EX_11_A.01_OTA_0010_all_201805011658.ozip   \n",
       "\n",
       "                                              file_path first_12_bytes  \\\n",
       "0     /Volumes/Expansion/Oppo/652_https___assorted.d...   OPPOENCRYPT!   \n",
       "1     /Volumes/Expansion/Oppo/651_https___assorted.d...   OPPOENCRYPT!   \n",
       "2     /Volumes/Expansion/Oppo/650_https___assorted.d...   OPPOENCRYPT!   \n",
       "3     /Volumes/Expansion/Oppo/649_https___assorted.d...   OPPOENCRYPT!   \n",
       "4     /Volumes/Expansion/Oppo/648_https___assorted.d...   OPPOENCRYPT!   \n",
       "...                                                 ...            ...   \n",
       "9368  /Volumes/Expansion/Oppo/254_https___assorted.d...   OPPOENCRYPT!   \n",
       "9369  /Volumes/Expansion/Oppo/188_https___assorted.d...   OPPOENCRYPT!   \n",
       "9370  /Volumes/Expansion/Oppo/113_https___assorted.d...   OPPOENCRYPT!   \n",
       "9371  /Volumes/Expansion/Oppo/253_https___assorted.d...   OPPOENCRYPT!   \n",
       "9372  /Volumes/Expansion/Oppo/108_https___assorted.d...   OPPOENCRYPT!   \n",
       "\n",
       "     file_extension        SPL identifier delay   ISO  \n",
       "0              ozip 2021-04-05      652.0  35.0   DZA  \n",
       "1              ozip 2021-02-05      651.0  34.0   DZA  \n",
       "2              ozip 2020-12-05      650.0  13.0   DZA  \n",
       "3              ozip 2020-09-05      649.0  40.0   DZA  \n",
       "4              ozip 2020-06-05      648.0  74.0   DZA  \n",
       "...             ...        ...        ...   ...   ...  \n",
       "9368           ozip        NaT      254.0   NaN  None  \n",
       "9369           ozip        NaT      188.0   NaN  None  \n",
       "9370           ozip        NaT      113.0   NaN  None  \n",
       "9371           ozip        NaT      253.0   NaN  None  \n",
       "9372           ozip        NaT      108.0   NaN  None  \n",
       "\n",
       "[9373 rows x 22 columns]"
      ]
     },
     "execution_count": 17,
     "metadata": {},
     "output_type": "execute_result"
    }
   ],
   "source": [
    "import pandas as pd\n",
    "import requests\n",
    "from urllib.parse import quote\n",
    "import os \n",
    "import pycountry\n",
    "\n",
    "# Read in your original DataFrame\n",
    "df_oppo = pd.read_csv('../Data/Oppo/Oppo-security-updates.csv')\n",
    "\n",
    "#convert the date column to datetime format\n",
    "df_oppo['date']= pd.to_datetime(df_oppo['date'])\n",
    "\n",
    "df_regions = pd.read_csv('../Data/Oppo/available-links-regions.csv')\n",
    "\n",
    "#counter=0\n",
    "for i in df_oppo.index:\n",
    "    \n",
    "    region_url = df_oppo.loc[i,'region_url']\n",
    "    \n",
    "    country = df_regions.loc[df_regions['Available Links'] == region_url,'Country'].tolist()\n",
    "    df_oppo.at[i,'country'] = country[0]\n",
    "    \n",
    "    region = df_regions.loc[df_regions['Available Links'] == region_url,'Region'].tolist()\n",
    "    df_oppo.at[i,'region'] = region[0]\n",
    "    \n",
    "    lang = df_regions.loc[df_regions['Available Links'] == region_url,'lang'].tolist()\n",
    "    df_oppo.at[i,'lang'] = lang[0]\n",
    "    \n",
    "df_oppo['filename'] = df_oppo['Download Link'].apply(lambda x: os.path.basename(x))  \n",
    "    \n",
    "df_spl = pd.read_csv(\"../Data/Oppo/firmware_SPLs.csv\")\n",
    "\n",
    "# Rename the column\n",
    "df_spl = df_spl.rename(columns={'google_patch': 'SPL'})\n",
    "\n",
    "# Merge the dataframes\n",
    "df_oppo = pd.merge(df_oppo, df_spl, on='filename', how='left')\n",
    "\n",
    "# Replace NaN with 'NotFound'\n",
    "df_oppo['SPL'] = df_oppo['SPL'].fillna('NotFound')\n",
    "\n",
    "#Calculate delay     \n",
    "df_oppo['SPL'].replace('NotFound', pd.NaT, inplace=True)\n",
    "df_oppo['SPL'] = pd.to_datetime(df_oppo['SPL'], format='%Y%m%d', errors='ignore')\n",
    "df_oppo['delay'] = (df_oppo['date'] - df_oppo['SPL']).dt.days\n",
    "\n",
    "#add ISO codes\n",
    "df_oppo['ISO'] = df_oppo['country'].apply(lambda x: pycountry.countries.get(name=x).alpha_3 if pycountry.countries.get(name=x) is not None else None)\n",
    "\n",
    "df_oppo"
   ]
  },
  {
   "cell_type": "code",
   "execution_count": 18,
   "id": "201f390d",
   "metadata": {},
   "outputs": [
    {
     "data": {
      "text/html": [
       "<div>\n",
       "<style scoped>\n",
       "    .dataframe tbody tr th:only-of-type {\n",
       "        vertical-align: middle;\n",
       "    }\n",
       "\n",
       "    .dataframe tbody tr th {\n",
       "        vertical-align: top;\n",
       "    }\n",
       "\n",
       "    .dataframe thead th {\n",
       "        text-align: right;\n",
       "    }\n",
       "</style>\n",
       "<table border=\"1\" class=\"dataframe\">\n",
       "  <thead>\n",
       "    <tr style=\"text-align: right;\">\n",
       "      <th></th>\n",
       "      <th>Product Name</th>\n",
       "      <th>Version No</th>\n",
       "      <th>Size</th>\n",
       "      <th>Update Date</th>\n",
       "      <th>Download Times</th>\n",
       "      <th>Download Link</th>\n",
       "      <th>url</th>\n",
       "      <th>date</th>\n",
       "      <th>Device Model</th>\n",
       "      <th>ColorOS Version</th>\n",
       "      <th>...</th>\n",
       "      <th>region</th>\n",
       "      <th>lang</th>\n",
       "      <th>filename</th>\n",
       "      <th>file_path</th>\n",
       "      <th>first_12_bytes</th>\n",
       "      <th>file_extension</th>\n",
       "      <th>SPL</th>\n",
       "      <th>identifier</th>\n",
       "      <th>delay</th>\n",
       "      <th>ISO</th>\n",
       "    </tr>\n",
       "  </thead>\n",
       "  <tbody>\n",
       "  </tbody>\n",
       "</table>\n",
       "<p>0 rows × 22 columns</p>\n",
       "</div>"
      ],
      "text/plain": [
       "Empty DataFrame\n",
       "Columns: [Product Name, Version No, Size, Update Date, Download Times, Download Link, url, date, Device Model, ColorOS Version, region_url, country, region, lang, filename, file_path, first_12_bytes, file_extension, SPL, identifier, delay, ISO]\n",
       "Index: []\n",
       "\n",
       "[0 rows x 22 columns]"
      ]
     },
     "execution_count": 18,
     "metadata": {},
     "output_type": "execute_result"
    }
   ],
   "source": [
    "df_oppo[df_oppo['Product Name'].str.contains('Pad')]"
   ]
  },
  {
   "cell_type": "code",
   "execution_count": 19,
   "id": "29cc1701",
   "metadata": {},
   "outputs": [
    {
     "name": "stdout",
     "output_type": "stream",
     "text": [
      "Completed 1124 / 1124\r"
     ]
    },
    {
     "data": {
      "text/html": [
       "<div>\n",
       "<style scoped>\n",
       "    .dataframe tbody tr th:only-of-type {\n",
       "        vertical-align: middle;\n",
       "    }\n",
       "\n",
       "    .dataframe tbody tr th {\n",
       "        vertical-align: top;\n",
       "    }\n",
       "\n",
       "    .dataframe thead th {\n",
       "        text-align: right;\n",
       "    }\n",
       "</style>\n",
       "<table border=\"1\" class=\"dataframe\">\n",
       "  <thead>\n",
       "    <tr style=\"text-align: right;\">\n",
       "      <th></th>\n",
       "      <th>url</th>\n",
       "      <th>device</th>\n",
       "      <th>country</th>\n",
       "      <th>region</th>\n",
       "      <th>last_android_version</th>\n",
       "      <th>update_count</th>\n",
       "      <th>first_update_date</th>\n",
       "      <th>last_update_date</th>\n",
       "      <th>support_duration</th>\n",
       "      <th>update_frequency</th>\n",
       "      <th>delay</th>\n",
       "      <th>ISO</th>\n",
       "    </tr>\n",
       "  </thead>\n",
       "  <tbody>\n",
       "    <tr>\n",
       "      <th>0</th>\n",
       "      <td>https://support.oppo.com/dz/software-update/so...</td>\n",
       "      <td>OPPO Reno2 F</td>\n",
       "      <td>Algeria</td>\n",
       "      <td>Africa &amp; Middle East</td>\n",
       "      <td>11</td>\n",
       "      <td>8</td>\n",
       "      <td>2019-10-14</td>\n",
       "      <td>2021-05-10</td>\n",
       "      <td>574</td>\n",
       "      <td>71.750000</td>\n",
       "      <td>37.0</td>\n",
       "      <td>DZA</td>\n",
       "    </tr>\n",
       "    <tr>\n",
       "      <th>1</th>\n",
       "      <td>https://support.oppo.com/dz/software-update/so...</td>\n",
       "      <td>OPPO Reno3</td>\n",
       "      <td>Algeria</td>\n",
       "      <td>Africa &amp; Middle East</td>\n",
       "      <td>11</td>\n",
       "      <td>3</td>\n",
       "      <td>2020-09-25</td>\n",
       "      <td>2021-01-05</td>\n",
       "      <td>102</td>\n",
       "      <td>34.000000</td>\n",
       "      <td>NaN</td>\n",
       "      <td>DZA</td>\n",
       "    </tr>\n",
       "    <tr>\n",
       "      <th>2</th>\n",
       "      <td>https://support.oppo.com/dz/software-update/so...</td>\n",
       "      <td>OPPO A9 2020</td>\n",
       "      <td>Algeria</td>\n",
       "      <td>Africa &amp; Middle East</td>\n",
       "      <td>11</td>\n",
       "      <td>8</td>\n",
       "      <td>2019-12-05</td>\n",
       "      <td>2021-07-26</td>\n",
       "      <td>599</td>\n",
       "      <td>74.875000</td>\n",
       "      <td>NaN</td>\n",
       "      <td>DZA</td>\n",
       "    </tr>\n",
       "    <tr>\n",
       "      <th>3</th>\n",
       "      <td>https://support.oppo.com/dz/software-update/so...</td>\n",
       "      <td>OPPO A11k</td>\n",
       "      <td>Algeria</td>\n",
       "      <td>Africa &amp; Middle East</td>\n",
       "      <td>11</td>\n",
       "      <td>5</td>\n",
       "      <td>2021-04-12</td>\n",
       "      <td>2022-03-30</td>\n",
       "      <td>352</td>\n",
       "      <td>70.400000</td>\n",
       "      <td>NaN</td>\n",
       "      <td>DZA</td>\n",
       "    </tr>\n",
       "    <tr>\n",
       "      <th>4</th>\n",
       "      <td>https://support.oppo.com/dz/software-update/so...</td>\n",
       "      <td>OPPO A12</td>\n",
       "      <td>Algeria</td>\n",
       "      <td>Africa &amp; Middle East</td>\n",
       "      <td>11</td>\n",
       "      <td>6</td>\n",
       "      <td>2021-01-05</td>\n",
       "      <td>2022-03-30</td>\n",
       "      <td>449</td>\n",
       "      <td>74.833333</td>\n",
       "      <td>NaN</td>\n",
       "      <td>DZA</td>\n",
       "    </tr>\n",
       "    <tr>\n",
       "      <th>...</th>\n",
       "      <td>...</td>\n",
       "      <td>...</td>\n",
       "      <td>...</td>\n",
       "      <td>...</td>\n",
       "      <td>...</td>\n",
       "      <td>...</td>\n",
       "      <td>...</td>\n",
       "      <td>...</td>\n",
       "      <td>...</td>\n",
       "      <td>...</td>\n",
       "      <td>...</td>\n",
       "      <td>...</td>\n",
       "    </tr>\n",
       "    <tr>\n",
       "      <th>1119</th>\n",
       "      <td>https://support.oppo.com/tw/software-update/so...</td>\n",
       "      <td>OPPO F1s</td>\n",
       "      <td>Taiwan</td>\n",
       "      <td>Asia Pacific</td>\n",
       "      <td>11</td>\n",
       "      <td>6</td>\n",
       "      <td>2018-03-10</td>\n",
       "      <td>2021-11-15</td>\n",
       "      <td>1346</td>\n",
       "      <td>224.333333</td>\n",
       "      <td>NaN</td>\n",
       "      <td>None</td>\n",
       "    </tr>\n",
       "    <tr>\n",
       "      <th>1120</th>\n",
       "      <td>https://support.oppo.com/tw/software-update/so...</td>\n",
       "      <td>OPPO F1</td>\n",
       "      <td>Taiwan</td>\n",
       "      <td>Asia Pacific</td>\n",
       "      <td>11</td>\n",
       "      <td>2</td>\n",
       "      <td>2018-03-10</td>\n",
       "      <td>2019-08-27</td>\n",
       "      <td>535</td>\n",
       "      <td>267.500000</td>\n",
       "      <td>NaN</td>\n",
       "      <td>None</td>\n",
       "    </tr>\n",
       "    <tr>\n",
       "      <th>1121</th>\n",
       "      <td>https://support.oppo.com/tw/software-update/so...</td>\n",
       "      <td>OPPO R17 Pro</td>\n",
       "      <td>Taiwan</td>\n",
       "      <td>Asia Pacific</td>\n",
       "      <td>11</td>\n",
       "      <td>25</td>\n",
       "      <td>2018-12-06</td>\n",
       "      <td>2021-07-09</td>\n",
       "      <td>946</td>\n",
       "      <td>37.840000</td>\n",
       "      <td>38.0</td>\n",
       "      <td>None</td>\n",
       "    </tr>\n",
       "    <tr>\n",
       "      <th>1122</th>\n",
       "      <td>https://support.oppo.com/tw/software-update/so...</td>\n",
       "      <td>OPPO RX17 Neo</td>\n",
       "      <td>Taiwan</td>\n",
       "      <td>Asia Pacific</td>\n",
       "      <td>11</td>\n",
       "      <td>3</td>\n",
       "      <td>2019-07-31</td>\n",
       "      <td>2019-12-07</td>\n",
       "      <td>129</td>\n",
       "      <td>43.000000</td>\n",
       "      <td>NaN</td>\n",
       "      <td>None</td>\n",
       "    </tr>\n",
       "    <tr>\n",
       "      <th>1123</th>\n",
       "      <td>https://support.oppo.com/tw/software-update/so...</td>\n",
       "      <td>OPPO R15 Pro</td>\n",
       "      <td>Taiwan</td>\n",
       "      <td>Asia Pacific</td>\n",
       "      <td>11</td>\n",
       "      <td>14</td>\n",
       "      <td>2018-11-19</td>\n",
       "      <td>2021-06-15</td>\n",
       "      <td>939</td>\n",
       "      <td>67.071429</td>\n",
       "      <td>53.0</td>\n",
       "      <td>None</td>\n",
       "    </tr>\n",
       "  </tbody>\n",
       "</table>\n",
       "<p>1124 rows × 12 columns</p>\n",
       "</div>"
      ],
      "text/plain": [
       "                                                    url         device  \\\n",
       "0     https://support.oppo.com/dz/software-update/so...   OPPO Reno2 F   \n",
       "1     https://support.oppo.com/dz/software-update/so...     OPPO Reno3   \n",
       "2     https://support.oppo.com/dz/software-update/so...   OPPO A9 2020   \n",
       "3     https://support.oppo.com/dz/software-update/so...      OPPO A11k   \n",
       "4     https://support.oppo.com/dz/software-update/so...       OPPO A12   \n",
       "...                                                 ...            ...   \n",
       "1119  https://support.oppo.com/tw/software-update/so...       OPPO F1s   \n",
       "1120  https://support.oppo.com/tw/software-update/so...        OPPO F1   \n",
       "1121  https://support.oppo.com/tw/software-update/so...   OPPO R17 Pro   \n",
       "1122  https://support.oppo.com/tw/software-update/so...  OPPO RX17 Neo   \n",
       "1123  https://support.oppo.com/tw/software-update/so...   OPPO R15 Pro   \n",
       "\n",
       "      country                region last_android_version  update_count  \\\n",
       "0     Algeria  Africa & Middle East                   11             8   \n",
       "1     Algeria  Africa & Middle East                   11             3   \n",
       "2     Algeria  Africa & Middle East                   11             8   \n",
       "3     Algeria  Africa & Middle East                   11             5   \n",
       "4     Algeria  Africa & Middle East                   11             6   \n",
       "...       ...                   ...                  ...           ...   \n",
       "1119   Taiwan          Asia Pacific                   11             6   \n",
       "1120   Taiwan          Asia Pacific                   11             2   \n",
       "1121   Taiwan          Asia Pacific                   11            25   \n",
       "1122   Taiwan          Asia Pacific                   11             3   \n",
       "1123   Taiwan          Asia Pacific                   11            14   \n",
       "\n",
       "     first_update_date last_update_date  support_duration  update_frequency  \\\n",
       "0           2019-10-14       2021-05-10               574         71.750000   \n",
       "1           2020-09-25       2021-01-05               102         34.000000   \n",
       "2           2019-12-05       2021-07-26               599         74.875000   \n",
       "3           2021-04-12       2022-03-30               352         70.400000   \n",
       "4           2021-01-05       2022-03-30               449         74.833333   \n",
       "...                ...              ...               ...               ...   \n",
       "1119        2018-03-10       2021-11-15              1346        224.333333   \n",
       "1120        2018-03-10       2019-08-27               535        267.500000   \n",
       "1121        2018-12-06       2021-07-09               946         37.840000   \n",
       "1122        2019-07-31       2019-12-07               129         43.000000   \n",
       "1123        2018-11-19       2021-06-15               939         67.071429   \n",
       "\n",
       "      delay   ISO  \n",
       "0      37.0   DZA  \n",
       "1       NaN   DZA  \n",
       "2       NaN   DZA  \n",
       "3       NaN   DZA  \n",
       "4       NaN   DZA  \n",
       "...     ...   ...  \n",
       "1119    NaN  None  \n",
       "1120    NaN  None  \n",
       "1121   38.0  None  \n",
       "1122    NaN  None  \n",
       "1123   53.0  None  \n",
       "\n",
       "[1124 rows x 12 columns]"
      ]
     },
     "execution_count": 19,
     "metadata": {},
     "output_type": "execute_result"
    }
   ],
   "source": [
    "import pandas as pd\n",
    "from datetime import datetime\n",
    "import pycountry\n",
    "\n",
    "d = []\n",
    "counter = 0\n",
    "\n",
    "for url in df_oppo['url'].unique():\n",
    "    \n",
    "    df_test = df_oppo[df_oppo['url']==url]\n",
    "    \n",
    "    device = df_test['Product Name'].to_list()\n",
    "    country = df_test['country'].to_list()\n",
    "    region = df_test['region'].to_list()\n",
    "    \n",
    "    update_count = len(df_test)\n",
    "    \n",
    "    first_update_date = df_test['date'].min()\n",
    "    last_update_date = df_test['date'].max()\n",
    "    support_duration = (last_update_date-first_update_date).days\n",
    "    update_frequency = support_duration / update_count\n",
    "    \n",
    "    avg_delay = df_test['delay'].median()\n",
    "    \n",
    "    coloros_version = df_test.loc[df_test['date']==last_update_date,'ColorOS Version'].to_list()\n",
    "    \n",
    "    \n",
    "    d.append({'url': url,\n",
    "          'device': device[0],\n",
    "          'country': country[0],\n",
    "          'region': region[0],\n",
    "          'last_android_version': coloros_version[0],\n",
    "          'update_count': update_count,\n",
    "          'first_update_date': first_update_date,\n",
    "          'last_update_date': last_update_date,\n",
    "          'support_duration': support_duration,\n",
    "          'update_frequency': update_frequency,\n",
    "          'delay': avg_delay})\n",
    "    \n",
    "    counter = counter + 1\n",
    "    \n",
    "    print('Completed {} / {}'.format(counter,len(df_oppo['url'].unique())), end='\\r')\n",
    "    \n",
    "df_final_oppo = pd.DataFrame(d)\n",
    "\n",
    "# Assuming your DataFrame is named df_final and the column with the country names is 'country'\n",
    "df_final_oppo['ISO'] = df_final_oppo['country'].apply(lambda x: pycountry.countries.get(name=x).alpha_3 if pycountry.countries.get(name=x) is not None else None)\n",
    "\n",
    "\n",
    "df_final_oppo\n",
    "    "
   ]
  },
  {
   "cell_type": "markdown",
   "id": "8391fc32",
   "metadata": {},
   "source": [
    "## Oppo-Monthly"
   ]
  },
  {
   "cell_type": "code",
   "execution_count": 20,
   "id": "a068bd76",
   "metadata": {
    "scrolled": false
   },
   "outputs": [
    {
     "name": "stdout",
     "output_type": "stream",
     "text": [
      "CPH2023\n",
      "number of total samples: 53\n",
      "monthly_start: 2022-10-11 00:00:00\n",
      "monthly_end: 2023-03-07 00:00:00\n",
      "number of filtered samples: 0\n",
      "CPH1921\n",
      "number of total samples: 8\n",
      "monthly_start: 2022-10-11 00:00:00\n",
      "monthly_end: 2023-03-07 00:00:00\n",
      "number of filtered samples: 0\n",
      "CPH2025\n",
      "number of total samples: 0\n",
      "monthly_start: 2022-10-11 00:00:00\n",
      "monthly_end: 2023-03-07 00:00:00\n",
      "number of filtered samples: 0\n",
      "PEDM00\n",
      "number of total samples: 0\n",
      "monthly_start: 2022-10-11 00:00:00\n",
      "monthly_end: 2023-03-07 00:00:00\n",
      "number of filtered samples: 0\n",
      "CPH2207\n",
      "number of total samples: 0\n",
      "monthly_start: 2022-10-11 00:00:00\n",
      "monthly_end: 2023-03-07 00:00:00\n",
      "number of filtered samples: 0\n",
      "PEEM00\n",
      "number of total samples: 0\n",
      "monthly_start: 2022-10-11 00:00:00\n",
      "monthly_end: 2023-03-07 00:00:00\n",
      "number of filtered samples: 0\n",
      "CPH2173\n",
      "number of total samples: 0\n",
      "monthly_start: 2022-10-11 00:00:00\n",
      "monthly_end: 2023-03-07 00:00:00\n",
      "number of filtered samples: 0\n",
      "CPH2305\n",
      "number of total samples: 0\n",
      "monthly_start: 2022-10-11 00:00:00\n",
      "monthly_end: 2023-03-07 00:00:00\n",
      "number of filtered samples: 0\n",
      "PFFM10\n",
      "number of total samples: 0\n",
      "monthly_start: 2022-10-11 00:00:00\n",
      "monthly_end: 2023-03-07 00:00:00\n",
      "number of filtered samples: 0\n",
      "CPH2307\n",
      "number of total samples: 0\n",
      "monthly_start: 2022-10-11 00:00:00\n",
      "monthly_end: 2023-03-07 00:00:00\n",
      "number of filtered samples: 0\n",
      "CPH2371\n",
      "number of total samples: 0\n",
      "monthly_start: 2022-10-11 00:00:00\n",
      "monthly_end: 2023-03-07 00:00:00\n",
      "number of filtered samples: 0\n",
      "PEUM00\n",
      "number of total samples: 0\n",
      "monthly_start: 2022-10-11 00:00:00\n",
      "monthly_end: 2023-03-07 00:00:00\n",
      "number of filtered samples: 0\n",
      "CPH2005\n",
      "number of total samples: 0\n",
      "monthly_start: 2021-01-21 00:00:00\n",
      "monthly_end: 2022-06-09 00:00:00\n",
      "number of filtered samples: 0\n",
      "CPH2009\n",
      "number of total samples: 0\n",
      "monthly_start: 2021-01-21 00:00:00\n",
      "monthly_end: 2022-06-09 00:00:00\n",
      "number of filtered samples: 0\n",
      "PEDT00\n",
      "number of total samples: 0\n",
      "monthly_start: 2021-01-21 00:00:00\n",
      "monthly_end: 2022-06-09 00:00:00\n",
      "number of filtered samples: 0\n",
      "CPH2145\n",
      "number of total samples: 0\n",
      "monthly_start: 2021-01-21 00:00:00\n",
      "monthly_end: 2022-06-09 00:00:00\n",
      "number of filtered samples: 0\n",
      "PDEM30\n",
      "number of total samples: 0\n",
      "monthly_start: 2021-01-21 00:00:00\n",
      "monthly_end: 2022-06-09 00:00:00\n",
      "number of filtered samples: 0\n",
      "PDEM10\n",
      "number of total samples: 0\n",
      "monthly_start: 2021-01-21 00:00:00\n",
      "monthly_end: 2022-06-09 00:00:00\n",
      "number of filtered samples: 0\n",
      "PDET10\n",
      "number of total samples: 0\n",
      "monthly_start: 2021-01-21 00:00:00\n",
      "monthly_end: 2022-06-09 00:00:00\n",
      "number of filtered samples: 0\n",
      "CPH1871\n",
      "number of total samples: 26\n",
      "monthly_start: 2021-01-21 00:00:00\n",
      "monthly_end: 2022-06-09 00:00:00\n",
      "number of filtered samples: 0\n",
      "CPH1875\n",
      "number of total samples: 1\n",
      "monthly_start: 2021-01-21 00:00:00\n",
      "monthly_end: 2022-06-09 00:00:00\n",
      "number of filtered samples: 0\n",
      "PAFM00\n",
      "number of total samples: 0\n",
      "monthly_start: 2021-01-21 00:00:00\n",
      "monthly_end: 2022-06-09 00:00:00\n",
      "number of filtered samples: 0\n",
      "PAHM00\n",
      "number of total samples: 0\n",
      "monthly_start: 2021-01-21 00:00:00\n",
      "monthly_end: 2022-06-09 00:00:00\n",
      "number of filtered samples: 0\n",
      "PAFT00\n",
      "number of total samples: 0\n",
      "monthly_start: 2021-01-21 00:00:00\n",
      "monthly_end: 2022-06-09 00:00:00\n",
      "number of filtered samples: 0\n"
     ]
    },
    {
     "data": {
      "text/html": [
       "<div>\n",
       "<style scoped>\n",
       "    .dataframe tbody tr th:only-of-type {\n",
       "        vertical-align: middle;\n",
       "    }\n",
       "\n",
       "    .dataframe tbody tr th {\n",
       "        vertical-align: top;\n",
       "    }\n",
       "\n",
       "    .dataframe thead th {\n",
       "        text-align: right;\n",
       "    }\n",
       "</style>\n",
       "<table border=\"1\" class=\"dataframe\">\n",
       "  <thead>\n",
       "    <tr style=\"text-align: right;\">\n",
       "      <th></th>\n",
       "      <th>Product Name</th>\n",
       "      <th>Version No</th>\n",
       "      <th>Size</th>\n",
       "      <th>Update Date</th>\n",
       "      <th>Download Times</th>\n",
       "      <th>Download Link</th>\n",
       "      <th>url</th>\n",
       "      <th>date</th>\n",
       "      <th>Device Model</th>\n",
       "      <th>ColorOS Version</th>\n",
       "      <th>...</th>\n",
       "      <th>filename</th>\n",
       "      <th>file_path</th>\n",
       "      <th>first_12_bytes</th>\n",
       "      <th>file_extension</th>\n",
       "      <th>SPL</th>\n",
       "      <th>identifier</th>\n",
       "      <th>delay</th>\n",
       "      <th>ISO</th>\n",
       "      <th>monthly_start</th>\n",
       "      <th>monthly_end</th>\n",
       "    </tr>\n",
       "  </thead>\n",
       "  <tbody>\n",
       "  </tbody>\n",
       "</table>\n",
       "<p>0 rows × 24 columns</p>\n",
       "</div>"
      ],
      "text/plain": [
       "Empty DataFrame\n",
       "Columns: [Product Name, Version No, Size, Update Date, Download Times, Download Link, url, date, Device Model, ColorOS Version, region_url, country, region, lang, filename, file_path, first_12_bytes, file_extension, SPL, identifier, delay, ISO, monthly_start, monthly_end]\n",
       "Index: []\n",
       "\n",
       "[0 rows x 24 columns]"
      ]
     },
     "execution_count": 20,
     "metadata": {},
     "output_type": "execute_result"
    }
   ],
   "source": [
    "import pandas as pd\n",
    "from datetime import datetime\n",
    "import pycountry\n",
    "\n",
    "\n",
    "df_oppo_v2 = df_oppo\n",
    "\n",
    "df_timelines_oppo = pd.read_csv('../Data/Oppo/timelines_Oppo.csv',encoding=\"utf-8\")\n",
    "\n",
    "monthly_timelines = df_timelines_oppo[~df_timelines_oppo['monthly_duration'].isnull()][['phone','model_number','model_name_v2','monthly_start','monthly_end']]\n",
    "# Split the model_number column into list of numbers.\n",
    "monthly_timelines['model_number_v2'] = monthly_timelines['model_number'].str.split('、')\n",
    "# Explode the list into separate rows.\n",
    "monthly_timelines = monthly_timelines.explode('model_number_v2')\n",
    "monthly_timelines = monthly_timelines.dropna()\n",
    "monthly_timelines.drop_duplicates(subset='model_number_v2', inplace=True)\n",
    "\n",
    "#monthly_oppo_devices = monthly_timelines['phone'].unique()\n",
    "\n",
    "monthly_models = monthly_timelines['model_number_v2'].unique()\n",
    "\n",
    "# Convert \"Update Date\" to datetime\n",
    "df_oppo_v2['Update Date'] = pd.to_datetime(df_oppo_v2['Update Date'])\n",
    "\n",
    "\n",
    "\n",
    "df_monthly = pd.DataFrame()\n",
    "for model in monthly_models[:]:\n",
    "    \n",
    "    print(model)\n",
    "    \n",
    "    monthly_start =monthly_timelines.loc[monthly_timelines.model_number_v2==model,'monthly_start'].item()\n",
    "    monthly_end =monthly_timelines.loc[monthly_timelines.model_number_v2==model,'monthly_end'].item()\n",
    "\n",
    "    \n",
    "    df_oppo_v2.loc[df_oppo_v2['Device Model']==model,'monthly_start'] = monthly_start\n",
    "    monthly_start = pd.to_datetime(monthly_start).date()\n",
    "    \n",
    "    df_oppo_v2.loc[df_oppo_v2['Device Model']==model,'monthly_end'] = monthly_end\n",
    "    monthly_end = pd.to_datetime(monthly_end).date()\n",
    "    \n",
    "    df_model = df_oppo_v2.loc[df_oppo_v2['Device Model']==model,:]\n",
    "\n",
    "    \n",
    "    print('number of total samples: {}'.format(len(df_model)))\n",
    "    \n",
    "    # Create a copy of the DataFrame to work with\n",
    "    df_model_copy = df_model.copy()\n",
    "\n",
    "    # Now, operate on df_model_copy\n",
    "    df_model_copy['Update Date'] = pd.to_datetime(df_model_copy['Update Date']).dt.normalize()\n",
    "\n",
    "    monthly_start = pd.to_datetime(monthly_start).normalize()\n",
    "    monthly_end = pd.to_datetime(monthly_end).normalize()\n",
    "    \n",
    "    print('monthly_start: {}'.format(monthly_start))\n",
    "    print('monthly_end: {}'.format(monthly_end))\n",
    " \n",
    "    df_model_filtered = df_model_copy[(df_model_copy['Update Date']>monthly_start) & (df_model_copy['Update Date']<monthly_end)]\n",
    "    \n",
    "    print('number of filtered samples: {}'.format(len(df_model_filtered)))\n",
    "    \n",
    "    df_monthly=pd.concat([df_monthly,df_model_filtered])\n",
    "\n",
    "    \n",
    "df_monthly"
   ]
  },
  {
   "cell_type": "markdown",
   "id": "63bb243e",
   "metadata": {},
   "source": [
    "## Oppo-Quarterly"
   ]
  },
  {
   "cell_type": "code",
   "execution_count": 21,
   "id": "b5abfe1a",
   "metadata": {
    "scrolled": false
   },
   "outputs": [
    {
     "name": "stdout",
     "output_type": "stream",
     "text": [
      "Completed 1 / 37\r",
      "Completed 2 / 37\r",
      "Completed 3 / 37\r",
      "Completed 4 / 37\r",
      "Completed 5 / 37\r",
      "Completed 6 / 37\r",
      "Completed 7 / 37\r",
      "Completed 8 / 37\r",
      "Completed 9 / 37\r",
      "Completed 10 / 37\r",
      "Completed 11 / 37\r",
      "Completed 12 / 37\r",
      "Completed 13 / 37\r",
      "Completed 14 / 37\r",
      "Completed 15 / 37\r",
      "Completed 16 / 37\r",
      "Completed 17 / 37\r",
      "Completed 18 / 37\r",
      "Completed 19 / 37\r",
      "Completed 20 / 37\r",
      "Completed 21 / 37\r",
      "Completed 22 / 37\r",
      "Completed 23 / 37\r",
      "Completed 24 / 37\r",
      "Completed 25 / 37\r",
      "Completed 26 / 37\r",
      "Completed 27 / 37\r",
      "Completed 28 / 37\r",
      "Completed 29 / 37\r",
      "Completed 30 / 37\r",
      "Completed 31 / 37\r",
      "Completed 32 / 37\r",
      "Completed 33 / 37\r",
      "Completed 34 / 37\r",
      "Completed 35 / 37\r",
      "Completed 36 / 37\r",
      "Completed 37 / 37\r"
     ]
    },
    {
     "data": {
      "text/html": [
       "<div>\n",
       "<style scoped>\n",
       "    .dataframe tbody tr th:only-of-type {\n",
       "        vertical-align: middle;\n",
       "    }\n",
       "\n",
       "    .dataframe tbody tr th {\n",
       "        vertical-align: top;\n",
       "    }\n",
       "\n",
       "    .dataframe thead th {\n",
       "        text-align: right;\n",
       "    }\n",
       "</style>\n",
       "<table border=\"1\" class=\"dataframe\">\n",
       "  <thead>\n",
       "    <tr style=\"text-align: right;\">\n",
       "      <th></th>\n",
       "      <th>url</th>\n",
       "      <th>device</th>\n",
       "      <th>model</th>\n",
       "      <th>country</th>\n",
       "      <th>region</th>\n",
       "      <th>last_android_version</th>\n",
       "      <th>update_count</th>\n",
       "      <th>first_update_date</th>\n",
       "      <th>last_update_date</th>\n",
       "      <th>quarterly_start</th>\n",
       "      <th>quarterly_end</th>\n",
       "      <th>support_duration</th>\n",
       "      <th>update_frequency</th>\n",
       "      <th>delay</th>\n",
       "      <th>ISO</th>\n",
       "    </tr>\n",
       "  </thead>\n",
       "  <tbody>\n",
       "    <tr>\n",
       "      <th>0</th>\n",
       "      <td>https://support.oppo.com/id/software-update/so...</td>\n",
       "      <td>OPPO A92</td>\n",
       "      <td>CPH2059</td>\n",
       "      <td>Indonesia</td>\n",
       "      <td>Asia Pacific</td>\n",
       "      <td>11</td>\n",
       "      <td>1</td>\n",
       "      <td>2021-02-24</td>\n",
       "      <td>2021-02-24</td>\n",
       "      <td>[2021-01-21 17:16:59]</td>\n",
       "      <td>[2023-03-07 19:24:15]</td>\n",
       "      <td>0</td>\n",
       "      <td>0.0</td>\n",
       "      <td>NaN</td>\n",
       "      <td>IDN</td>\n",
       "    </tr>\n",
       "    <tr>\n",
       "      <th>1</th>\n",
       "      <td>https://support.oppo.com/sa/software-update/so...</td>\n",
       "      <td>OPPO A73 5G</td>\n",
       "      <td>CPH2161</td>\n",
       "      <td>Saudi Arabia</td>\n",
       "      <td>Africa &amp; Middle East</td>\n",
       "      <td>11</td>\n",
       "      <td>2</td>\n",
       "      <td>2021-02-26</td>\n",
       "      <td>2021-04-17</td>\n",
       "      <td>[2021-01-21 17:16:59, 2021-01-21 17:16:59]</td>\n",
       "      <td>[2022-06-09 07:23:31, 2022-06-09 07:23:31]</td>\n",
       "      <td>50</td>\n",
       "      <td>25.0</td>\n",
       "      <td>NaN</td>\n",
       "      <td>SAU</td>\n",
       "    </tr>\n",
       "    <tr>\n",
       "      <th>2</th>\n",
       "      <td>https://support.oppo.com/ae/software-update/so...</td>\n",
       "      <td>OPPO A73 5G</td>\n",
       "      <td>CPH2161</td>\n",
       "      <td>UAE</td>\n",
       "      <td>Africa &amp; Middle East</td>\n",
       "      <td>11</td>\n",
       "      <td>2</td>\n",
       "      <td>2021-02-26</td>\n",
       "      <td>2021-04-17</td>\n",
       "      <td>[2021-01-21 17:16:59, 2021-01-21 17:16:59]</td>\n",
       "      <td>[2022-06-09 07:23:31, 2022-06-09 07:23:31]</td>\n",
       "      <td>50</td>\n",
       "      <td>25.0</td>\n",
       "      <td>NaN</td>\n",
       "      <td>None</td>\n",
       "    </tr>\n",
       "    <tr>\n",
       "      <th>3</th>\n",
       "      <td>https://support.oppo.com/au/software-update/so...</td>\n",
       "      <td>OPPO A73 5G</td>\n",
       "      <td>CPH2161</td>\n",
       "      <td>Australia</td>\n",
       "      <td>Asia Pacific</td>\n",
       "      <td>11</td>\n",
       "      <td>2</td>\n",
       "      <td>2021-02-26</td>\n",
       "      <td>2021-04-17</td>\n",
       "      <td>[2021-01-21 17:16:59, 2021-01-21 17:16:59]</td>\n",
       "      <td>[2022-06-09 07:23:31, 2022-06-09 07:23:31]</td>\n",
       "      <td>50</td>\n",
       "      <td>25.0</td>\n",
       "      <td>NaN</td>\n",
       "      <td>AUS</td>\n",
       "    </tr>\n",
       "    <tr>\n",
       "      <th>4</th>\n",
       "      <td>https://support.oppo.com/it/software-update/so...</td>\n",
       "      <td>OPPO A73 5G</td>\n",
       "      <td>CPH2161</td>\n",
       "      <td>Italy</td>\n",
       "      <td>Europe</td>\n",
       "      <td>11</td>\n",
       "      <td>1</td>\n",
       "      <td>2021-04-17</td>\n",
       "      <td>2021-04-17</td>\n",
       "      <td>[2021-01-21 17:16:59]</td>\n",
       "      <td>[2022-06-09 07:23:31]</td>\n",
       "      <td>0</td>\n",
       "      <td>0.0</td>\n",
       "      <td>NaN</td>\n",
       "      <td>ITA</td>\n",
       "    </tr>\n",
       "  </tbody>\n",
       "</table>\n",
       "</div>"
      ],
      "text/plain": [
       "                                                 url       device    model  \\\n",
       "0  https://support.oppo.com/id/software-update/so...     OPPO A92  CPH2059   \n",
       "1  https://support.oppo.com/sa/software-update/so...  OPPO A73 5G  CPH2161   \n",
       "2  https://support.oppo.com/ae/software-update/so...  OPPO A73 5G  CPH2161   \n",
       "3  https://support.oppo.com/au/software-update/so...  OPPO A73 5G  CPH2161   \n",
       "4  https://support.oppo.com/it/software-update/so...  OPPO A73 5G  CPH2161   \n",
       "\n",
       "        country                region last_android_version  update_count  \\\n",
       "0     Indonesia          Asia Pacific                   11             1   \n",
       "1  Saudi Arabia  Africa & Middle East                   11             2   \n",
       "2           UAE  Africa & Middle East                   11             2   \n",
       "3     Australia          Asia Pacific                   11             2   \n",
       "4         Italy                Europe                   11             1   \n",
       "\n",
       "  first_update_date last_update_date  \\\n",
       "0        2021-02-24       2021-02-24   \n",
       "1        2021-02-26       2021-04-17   \n",
       "2        2021-02-26       2021-04-17   \n",
       "3        2021-02-26       2021-04-17   \n",
       "4        2021-04-17       2021-04-17   \n",
       "\n",
       "                              quarterly_start  \\\n",
       "0                       [2021-01-21 17:16:59]   \n",
       "1  [2021-01-21 17:16:59, 2021-01-21 17:16:59]   \n",
       "2  [2021-01-21 17:16:59, 2021-01-21 17:16:59]   \n",
       "3  [2021-01-21 17:16:59, 2021-01-21 17:16:59]   \n",
       "4                       [2021-01-21 17:16:59]   \n",
       "\n",
       "                                quarterly_end  support_duration  \\\n",
       "0                       [2023-03-07 19:24:15]                 0   \n",
       "1  [2022-06-09 07:23:31, 2022-06-09 07:23:31]                50   \n",
       "2  [2022-06-09 07:23:31, 2022-06-09 07:23:31]                50   \n",
       "3  [2022-06-09 07:23:31, 2022-06-09 07:23:31]                50   \n",
       "4                       [2022-06-09 07:23:31]                 0   \n",
       "\n",
       "   update_frequency  delay   ISO  \n",
       "0               0.0    NaN   IDN  \n",
       "1              25.0    NaN   SAU  \n",
       "2              25.0    NaN  None  \n",
       "3              25.0    NaN   AUS  \n",
       "4               0.0    NaN   ITA  "
      ]
     },
     "execution_count": 21,
     "metadata": {},
     "output_type": "execute_result"
    }
   ],
   "source": [
    "import pandas as pd\n",
    "from datetime import datetime\n",
    "import pycountry\n",
    "\n",
    "df_oppo_v2 = df_oppo\n",
    "\n",
    "df_timelines_oppo = pd.read_csv('../Data/Oppo/timelines_Oppo.csv',encoding=\"utf-8\")\n",
    "\n",
    "quarterly_timelines = df_timelines_oppo[~df_timelines_oppo['quarterly_duration'].isnull()][['phone','model_number','model_name_v2','quarterly_start','quarterly_end']]\n",
    "# Split the model_number column into list of numbers.\n",
    "quarterly_timelines['model_number_v2'] = quarterly_timelines['model_number'].str.split('、')\n",
    "# Explode the list into separate rows.\n",
    "quarterly_timelines = quarterly_timelines.explode('model_number_v2')\n",
    "quarterly_timelines = quarterly_timelines.dropna()\n",
    "quarterly_timelines.drop_duplicates(subset='model_number_v2', inplace=True)\n",
    "\n",
    "\n",
    "#monthly_oppo_devices = monthly_timelines['phone'].unique()\n",
    "\n",
    "quarterly_models = quarterly_timelines['model_number_v2'].unique()\n",
    "\n",
    "# Convert \"Update Date\" to datetime\n",
    "df_oppo_v2['Update Date'] = pd.to_datetime(df_oppo_v2['Update Date'])\n",
    "\n",
    "\n",
    "df_quarterly = pd.DataFrame()\n",
    "for model in quarterly_models[:]:\n",
    "    \n",
    "    #print(model)\n",
    "    \n",
    "    quarterly_start =quarterly_timelines.loc[quarterly_timelines.model_number_v2==model,'quarterly_start'].item()\n",
    "    quarterly_end =quarterly_timelines.loc[quarterly_timelines.model_number_v2==model,'quarterly_end'].item()\n",
    "\n",
    "    \n",
    "    df_oppo_v2.loc[df_oppo_v2['Device Model']==model,'quarterly_start'] = quarterly_start\n",
    "    quarterly_start = pd.to_datetime(quarterly_start).date()\n",
    "    \n",
    "    df_oppo_v2.loc[df_oppo_v2['Device Model']==model,'quarterly_end'] = quarterly_end\n",
    "    quarterly_end = pd.to_datetime(quarterly_end).date()\n",
    "    \n",
    "    df_model = df_oppo_v2.loc[df_oppo_v2['Device Model']==model,:]\n",
    "\n",
    "    #print('number of total samples: {}'.format(len(df_model)))\n",
    "    \n",
    "    # Create a copy of the DataFrame to work with\n",
    "    df_model_copy = df_model.copy()\n",
    "\n",
    "    # Now, operate on df_model_copy\n",
    "    df_model_copy['Update Date'] = pd.to_datetime(df_model_copy['Update Date']).dt.normalize()\n",
    "\n",
    "    quarterly_start = pd.to_datetime(quarterly_start).normalize()\n",
    "    quarterly_end = pd.to_datetime(quarterly_end).normalize()\n",
    "    \n",
    "    #print('quarterly_start: {}'.format(quarterly_start))\n",
    "    #print('quarterly_end: {}'.format(quarterly_end))\n",
    " \n",
    "    df_model_filtered = df_model_copy[(df_model_copy['Update Date']>quarterly_start) & (df_model_copy['Update Date']<quarterly_end)]\n",
    "    \n",
    "    #print('number of filtered samples: {}'.format(len(df_model_filtered)))\n",
    "    \n",
    "    if len(df_model_filtered)>0:\n",
    "        df_quarterly=pd.concat([df_quarterly,df_model_filtered])\n",
    "\n",
    "\n",
    "\n",
    "d_oppo = []\n",
    "counter = 0\n",
    "\n",
    "for url in df_quarterly['url'].unique():\n",
    "    \n",
    "    df_test = df_quarterly[df_quarterly['url']==url]\n",
    "    \n",
    "    device = df_test['Product Name'].to_list()\n",
    "    country = df_test['country'].to_list()\n",
    "    region = df_test['region'].to_list()\n",
    "    \n",
    "    model = df_test['Device Model'].to_list()\n",
    "    \n",
    "    quarterly_start = df_test['quarterly_start'].to_list()\n",
    "    quarterly_end = df_test['quarterly_end'].to_list()\n",
    "    \n",
    "    update_count = len(df_test)\n",
    "    \n",
    "    first_update_date = df_test['date'].min()\n",
    "    last_update_date = df_test['date'].max()\n",
    "    support_duration = (last_update_date-first_update_date).days\n",
    "    update_frequency = support_duration / update_count\n",
    "    \n",
    "    avg_delay = df_test['delay'].median()\n",
    "    \n",
    "    coloros_version = df_test.loc[df_test['date']==last_update_date,'ColorOS Version'].to_list()\n",
    "    \n",
    "    \n",
    "    d_oppo.append({'url': url,\n",
    "          'device': device[0],\n",
    "          'model': model[0],\n",
    "          'country': country[0],\n",
    "          'region': region[0],\n",
    "          'last_android_version': coloros_version[0],\n",
    "          'update_count': update_count,\n",
    "          'first_update_date': first_update_date,\n",
    "          'last_update_date': last_update_date,\n",
    "          'quarterly_start': quarterly_start,\n",
    "          'quarterly_end': quarterly_end,\n",
    "          'support_duration': support_duration,\n",
    "          'update_frequency': update_frequency,\n",
    "          'delay': avg_delay})\n",
    "    \n",
    "    counter = counter + 1\n",
    "    \n",
    "    print('Completed {} / {}'.format(counter,len(df_quarterly['url'].unique())), end='\\r')\n",
    "    \n",
    "df_final_oppo_quarterly = pd.DataFrame(d_oppo)\n",
    "\n",
    "# Assuming your DataFrame is named df_final and the column with the country names is 'country'\n",
    "df_final_oppo_quarterly['ISO'] = df_final_oppo_quarterly['country'].apply(lambda x: pycountry.countries.get(name=x).alpha_3 if pycountry.countries.get(name=x) is not None else None)\n",
    "\n",
    "\n",
    "df_final_oppo_quarterly.head()\n",
    "    "
   ]
  },
  {
   "cell_type": "code",
   "execution_count": 22,
   "id": "a13b2497",
   "metadata": {},
   "outputs": [
    {
     "data": {
      "text/plain": [
       "OPPO A15       30\n",
       "OPPO A73 5G     6\n",
       "OPPO A92        1\n",
       "Name: device, dtype: int64"
      ]
     },
     "execution_count": 22,
     "metadata": {},
     "output_type": "execute_result"
    }
   ],
   "source": [
    "df_final_oppo_quarterly['device'].value_counts()"
   ]
  },
  {
   "cell_type": "code",
   "execution_count": 23,
   "id": "1c0da2fd",
   "metadata": {},
   "outputs": [
    {
     "data": {
      "text/plain": [
       "3    21\n",
       "2     9\n",
       "1     3\n",
       "4     3\n",
       "5     1\n",
       "Name: update_count, dtype: int64"
      ]
     },
     "execution_count": 23,
     "metadata": {},
     "output_type": "execute_result"
    }
   ],
   "source": [
    "df_final_oppo_quarterly['update_count'].value_counts()"
   ]
  },
  {
   "cell_type": "markdown",
   "id": "786c14af",
   "metadata": {},
   "source": [
    "## Google"
   ]
  },
  {
   "cell_type": "code",
   "execution_count": 24,
   "id": "24521af1",
   "metadata": {},
   "outputs": [],
   "source": [
    "import pandas as pd\n",
    "\n",
    "#https://developers.google.com/android/images\n",
    "df_factory  = pd.read_excel('../Data/Google/factory-images.xlsx')\n",
    "\n",
    "#https://developers.google.com/android/ota\n",
    "df_ota  = pd.read_excel('../Data/Google/ota_images.xlsx')\n",
    "\n",
    "#https://source.android.com/docs/setup/about/build-numbers\n",
    "df_tags  = pd.read_excel('../Data/Google/source_code_tags.xlsx')\n",
    "\n",
    "#extract information from \"Version\" column\n",
    "pattern = r'^(?P<Version2>\\d+\\.\\d+\\.\\d+)\\s+\\((?P<Details>[^)]+)\\)$'\n",
    "\n",
    "#separate inside and outside of paranthesis (inside=details,outside=version2)\n",
    "df_ota[['Version2','Details']] = df_ota['Version'].str.extract(pattern)\n",
    "\n",
    "#separate inside of paranthesis into further parts (build, date, carriers)\n",
    "df_ota[['Build', 'Date', 'Carriers']] = df_ota['Details'].str.split(',', n=2, expand=True)\n",
    "\n",
    "#repeat for factory images\n",
    "df_factory[['Version2','Details']] = df_factory['Version'].str.extract(pattern)\n",
    "df_factory[['Build', 'Date', 'Carriers']] = df_factory['Details'].str.split(',', n=2, expand=True)\n",
    "\n",
    "df_ota.to_excel('../Data/Google/ota_images_v2.xlsx',index=False)\n",
    "df_factory.to_excel('../Data/Google/factory_images_v2.xlsx',index=False)\n"
   ]
  },
  {
   "cell_type": "code",
   "execution_count": 25,
   "id": "c586b955",
   "metadata": {},
   "outputs": [
    {
     "data": {
      "text/html": [
       "<div>\n",
       "<style scoped>\n",
       "    .dataframe tbody tr th:only-of-type {\n",
       "        vertical-align: middle;\n",
       "    }\n",
       "\n",
       "    .dataframe tbody tr th {\n",
       "        vertical-align: top;\n",
       "    }\n",
       "\n",
       "    .dataframe thead th {\n",
       "        text-align: right;\n",
       "    }\n",
       "</style>\n",
       "<table border=\"1\" class=\"dataframe\">\n",
       "  <thead>\n",
       "    <tr style=\"text-align: right;\">\n",
       "      <th></th>\n",
       "      <th>Device</th>\n",
       "      <th>Version</th>\n",
       "      <th>Date</th>\n",
       "      <th>Download_Link</th>\n",
       "      <th>Version2</th>\n",
       "      <th>Details</th>\n",
       "      <th>Build</th>\n",
       "      <th>Carriers</th>\n",
       "      <th>build_tag</th>\n",
       "      <th>build_version</th>\n",
       "      <th>build_supported_devices</th>\n",
       "      <th>build_spl</th>\n",
       "      <th>codename</th>\n",
       "      <th>model</th>\n",
       "      <th>delay</th>\n",
       "    </tr>\n",
       "  </thead>\n",
       "  <tbody>\n",
       "    <tr>\n",
       "      <th>0</th>\n",
       "      <td>\"cheetah\" for Pixel 7 Pro</td>\n",
       "      <td>13.0.0 (TD1A.220804.009.A2, Oct 2022)</td>\n",
       "      <td>2022-10-01</td>\n",
       "      <td>https://dl.google.com/dl/android/aosp/cheetah-...</td>\n",
       "      <td>13.0.0</td>\n",
       "      <td>TD1A.220804.009.A2, Oct 2022</td>\n",
       "      <td>TD1A.220804.009.A2</td>\n",
       "      <td>NaN</td>\n",
       "      <td>android-13.0.0_r9</td>\n",
       "      <td>Android13</td>\n",
       "      <td>Pixel 7, Pixel 7 Pro</td>\n",
       "      <td>2022-09-05</td>\n",
       "      <td>cheetah</td>\n",
       "      <td>Pixel 7 Pro</td>\n",
       "      <td>26.0</td>\n",
       "    </tr>\n",
       "    <tr>\n",
       "      <th>1</th>\n",
       "      <td>\"cheetah\" for Pixel 7 Pro</td>\n",
       "      <td>13.0.0 (TD1A.220804.009.A5, Oct 2022, JP carri...</td>\n",
       "      <td>2022-10-01</td>\n",
       "      <td>https://dl.google.com/dl/android/aosp/cheetah-...</td>\n",
       "      <td>13.0.0</td>\n",
       "      <td>TD1A.220804.009.A5, Oct 2022, JP carriers</td>\n",
       "      <td>TD1A.220804.009.A5</td>\n",
       "      <td>JP carriers</td>\n",
       "      <td>android-13.0.0_r10</td>\n",
       "      <td>Android13</td>\n",
       "      <td>Pixel 7, Pixel 7 Pro</td>\n",
       "      <td>2022-09-05</td>\n",
       "      <td>cheetah</td>\n",
       "      <td>Pixel 7 Pro</td>\n",
       "      <td>26.0</td>\n",
       "    </tr>\n",
       "    <tr>\n",
       "      <th>2</th>\n",
       "      <td>\"cheetah\" for Pixel 7 Pro</td>\n",
       "      <td>13.0.0 (TD1A.220804.031, Oct 2022)</td>\n",
       "      <td>2022-10-01</td>\n",
       "      <td>https://dl.google.com/dl/android/aosp/cheetah-...</td>\n",
       "      <td>13.0.0</td>\n",
       "      <td>TD1A.220804.031, Oct 2022</td>\n",
       "      <td>TD1A.220804.031</td>\n",
       "      <td>NaN</td>\n",
       "      <td>android-13.0.0_r11</td>\n",
       "      <td>Android13</td>\n",
       "      <td>Pixel 7, Pixel 7 Pro</td>\n",
       "      <td>2022-10-05</td>\n",
       "      <td>cheetah</td>\n",
       "      <td>Pixel 7 Pro</td>\n",
       "      <td>-4.0</td>\n",
       "    </tr>\n",
       "    <tr>\n",
       "      <th>3</th>\n",
       "      <td>\"cheetah\" for Pixel 7 Pro</td>\n",
       "      <td>13.0.0 (TD1A.221105.001, Nov 2022)</td>\n",
       "      <td>2022-11-01</td>\n",
       "      <td>https://dl.google.com/dl/android/aosp/cheetah-...</td>\n",
       "      <td>13.0.0</td>\n",
       "      <td>TD1A.221105.001, Nov 2022</td>\n",
       "      <td>TD1A.221105.001</td>\n",
       "      <td>NaN</td>\n",
       "      <td>android-13.0.0_r13</td>\n",
       "      <td>Android13</td>\n",
       "      <td>Pixel 7, Pixel 7 Pro</td>\n",
       "      <td>2022-11-05</td>\n",
       "      <td>cheetah</td>\n",
       "      <td>Pixel 7 Pro</td>\n",
       "      <td>-4.0</td>\n",
       "    </tr>\n",
       "    <tr>\n",
       "      <th>4</th>\n",
       "      <td>\"cheetah\" for Pixel 7 Pro</td>\n",
       "      <td>13.0.0 (TD1A.221105.003, Nov 2022, Verizon, Ve...</td>\n",
       "      <td>2022-11-01</td>\n",
       "      <td>https://dl.google.com/dl/android/aosp/cheetah-...</td>\n",
       "      <td>13.0.0</td>\n",
       "      <td>TD1A.221105.003, Nov 2022, Verizon, Verizon MVNOs</td>\n",
       "      <td>TD1A.221105.003</td>\n",
       "      <td>Verizon, Verizon MVNOs</td>\n",
       "      <td>android-13.0.0_r14</td>\n",
       "      <td>Android13</td>\n",
       "      <td>Pixel 7, Pixel 7 Pro</td>\n",
       "      <td>2022-11-05</td>\n",
       "      <td>cheetah</td>\n",
       "      <td>Pixel 7 Pro</td>\n",
       "      <td>-4.0</td>\n",
       "    </tr>\n",
       "  </tbody>\n",
       "</table>\n",
       "</div>"
      ],
      "text/plain": [
       "                      Device  \\\n",
       "0  \"cheetah\" for Pixel 7 Pro   \n",
       "1  \"cheetah\" for Pixel 7 Pro   \n",
       "2  \"cheetah\" for Pixel 7 Pro   \n",
       "3  \"cheetah\" for Pixel 7 Pro   \n",
       "4  \"cheetah\" for Pixel 7 Pro   \n",
       "\n",
       "                                             Version       Date  \\\n",
       "0              13.0.0 (TD1A.220804.009.A2, Oct 2022) 2022-10-01   \n",
       "1  13.0.0 (TD1A.220804.009.A5, Oct 2022, JP carri... 2022-10-01   \n",
       "2                 13.0.0 (TD1A.220804.031, Oct 2022) 2022-10-01   \n",
       "3                 13.0.0 (TD1A.221105.001, Nov 2022) 2022-11-01   \n",
       "4  13.0.0 (TD1A.221105.003, Nov 2022, Verizon, Ve... 2022-11-01   \n",
       "\n",
       "                                       Download_Link Version2  \\\n",
       "0  https://dl.google.com/dl/android/aosp/cheetah-...   13.0.0   \n",
       "1  https://dl.google.com/dl/android/aosp/cheetah-...   13.0.0   \n",
       "2  https://dl.google.com/dl/android/aosp/cheetah-...   13.0.0   \n",
       "3  https://dl.google.com/dl/android/aosp/cheetah-...   13.0.0   \n",
       "4  https://dl.google.com/dl/android/aosp/cheetah-...   13.0.0   \n",
       "\n",
       "                                             Details               Build  \\\n",
       "0                       TD1A.220804.009.A2, Oct 2022  TD1A.220804.009.A2   \n",
       "1          TD1A.220804.009.A5, Oct 2022, JP carriers  TD1A.220804.009.A5   \n",
       "2                          TD1A.220804.031, Oct 2022     TD1A.220804.031   \n",
       "3                          TD1A.221105.001, Nov 2022     TD1A.221105.001   \n",
       "4  TD1A.221105.003, Nov 2022, Verizon, Verizon MVNOs     TD1A.221105.003   \n",
       "\n",
       "                  Carriers           build_tag build_version  \\\n",
       "0                      NaN   android-13.0.0_r9     Android13   \n",
       "1              JP carriers  android-13.0.0_r10     Android13   \n",
       "2                      NaN  android-13.0.0_r11     Android13   \n",
       "3                      NaN  android-13.0.0_r13     Android13   \n",
       "4   Verizon, Verizon MVNOs  android-13.0.0_r14     Android13   \n",
       "\n",
       "  build_supported_devices  build_spl codename        model  delay  \n",
       "0    Pixel 7, Pixel 7 Pro 2022-09-05  cheetah  Pixel 7 Pro   26.0  \n",
       "1    Pixel 7, Pixel 7 Pro 2022-09-05  cheetah  Pixel 7 Pro   26.0  \n",
       "2    Pixel 7, Pixel 7 Pro 2022-10-05  cheetah  Pixel 7 Pro   -4.0  \n",
       "3    Pixel 7, Pixel 7 Pro 2022-11-05  cheetah  Pixel 7 Pro   -4.0  \n",
       "4    Pixel 7, Pixel 7 Pro 2022-11-05  cheetah  Pixel 7 Pro   -4.0  "
      ]
     },
     "execution_count": 25,
     "metadata": {},
     "output_type": "execute_result"
    }
   ],
   "source": [
    "import pandas as pd\n",
    "\n",
    "df_ota  = pd.read_excel('../Data/Google/ota_images_v3.xlsx')\n",
    "\n",
    "for i in df_ota.index:\n",
    "    \n",
    "    build = df_ota.loc[i,'Build']\n",
    "    #print(build)\n",
    "    \n",
    "    tag = df_tags.loc[df_tags['Build ID'] == build,'Tag'].tolist()\n",
    "    try: \n",
    "        df_ota.at[i,'build_tag'] = tag[0]\n",
    "    except IndexError:\n",
    "        df_ota.at[i,'build_tag'] = ''\n",
    "        \n",
    "    version = df_tags.loc[df_tags['Build ID'] == build,'Version'].tolist()\n",
    "    try: \n",
    "        df_ota.at[i,'build_version'] = version[0]\n",
    "    except IndexError:\n",
    "        df_ota.at[i,'build_version'] = ''\n",
    "        \n",
    "    supported_devices = df_tags.loc[df_tags['Build ID'] == build,'Supported devices'].tolist()\n",
    "    try: \n",
    "        df_ota.at[i,'build_supported_devices'] = supported_devices[0]\n",
    "    except IndexError:\n",
    "        df_ota.at[i,'build_supported_devices'] = ''\n",
    "        \n",
    "    build_spl = df_tags.loc[df_tags['Build ID'] == build,'Security patch level'].tolist()\n",
    "    try: \n",
    "        df_ota.at[i,'build_spl'] = build_spl[0]\n",
    "    except IndexError:\n",
    "        df_ota.at[i,'build_spl'] = ''\n",
    "            \n",
    "            \n",
    "df_factory  = pd.read_excel('../Data/Google/factory_images_v3.xlsx')\n",
    "\n",
    "for i in df_factory.index:\n",
    "    \n",
    "    build = df_factory.loc[i,'Build']\n",
    "    #print(build)\n",
    "    \n",
    "    tag = df_tags.loc[df_tags['Build ID'] == build,'Tag'].tolist()\n",
    "    try: \n",
    "        df_factory.at[i,'build_tag'] = tag[0]\n",
    "    except IndexError:\n",
    "        df_factory.at[i,'build_tag'] = ''\n",
    "        \n",
    "    version = df_tags.loc[df_tags['Build ID'] == build,'Version'].tolist()\n",
    "    try: \n",
    "        df_factory.at[i,'build_version'] = version[0]\n",
    "    except IndexError:\n",
    "        df_factory.at[i,'build_version'] = ''\n",
    "        \n",
    "    supported_devices = df_tags.loc[df_tags['Build ID'] == build,'Supported devices'].tolist()\n",
    "    try: \n",
    "        df_factory.at[i,'build_supported_devices'] = supported_devices[0]\n",
    "    except IndexError:\n",
    "        df_factory.at[i,'build_supported_devices'] = ''\n",
    "        \n",
    "    build_spl = df_tags.loc[df_tags['Build ID'] == build,'Security patch level'].tolist()\n",
    "    try: \n",
    "        df_factory.at[i,'build_spl'] = build_spl[0]\n",
    "    except IndexError:\n",
    "        df_factory.at[i,'build_spl'] = ''\n",
    "\n",
    "\n",
    "df_ota['Date'] = pd.to_datetime(df_ota['Date'], errors='coerce')\n",
    "df_factory['Date'] = pd.to_datetime(df_factory['Date'], errors='coerce')\n",
    "\n",
    "df_ota[['codename', 'model']] = df_ota['Device'].str.extract(r'\"(.+?)\" for (.+)', expand=True)\n",
    "df_factory[['codename', 'model']] = df_factory['Device'].str.extract(r'\"(.+?)\" for (.+)', expand=True)\n",
    "\n",
    "\n",
    "df_ota['build_spl'] = pd.to_datetime(df_ota['build_spl'])\n",
    "df_ota['delay'] = (df_ota['Date'] - df_ota['build_spl']).dt.days\n",
    "\n",
    "#df_factory\n",
    "df_ota.head()\n"
   ]
  },
  {
   "cell_type": "code",
   "execution_count": 26,
   "id": "07514bf0",
   "metadata": {},
   "outputs": [
    {
     "name": "stdout",
     "output_type": "stream",
     "text": [
      "Completed 1 / 20\r",
      "Completed 2 / 20\r",
      "Completed 3 / 20\r",
      "Completed 4 / 20\r",
      "Completed 5 / 20\r",
      "Completed 6 / 20\r",
      "Completed 7 / 20\r",
      "Completed 8 / 20\r",
      "Completed 9 / 20\r",
      "Completed 10 / 20\r",
      "Completed 11 / 20\r",
      "Completed 12 / 20\r",
      "Completed 13 / 20\r",
      "Completed 14 / 20\r",
      "Completed 15 / 20\r",
      "Completed 16 / 20\r",
      "Completed 17 / 20\r",
      "Completed 18 / 20\r",
      "Completed 19 / 20\r",
      "Completed 20 / 20\r"
     ]
    },
    {
     "data": {
      "text/html": [
       "<div>\n",
       "<style scoped>\n",
       "    .dataframe tbody tr th:only-of-type {\n",
       "        vertical-align: middle;\n",
       "    }\n",
       "\n",
       "    .dataframe tbody tr th {\n",
       "        vertical-align: top;\n",
       "    }\n",
       "\n",
       "    .dataframe thead th {\n",
       "        text-align: right;\n",
       "    }\n",
       "</style>\n",
       "<table border=\"1\" class=\"dataframe\">\n",
       "  <thead>\n",
       "    <tr style=\"text-align: right;\">\n",
       "      <th></th>\n",
       "      <th>codename</th>\n",
       "      <th>device</th>\n",
       "      <th>last_android_version</th>\n",
       "      <th>update_count</th>\n",
       "      <th>first_update_date</th>\n",
       "      <th>last_update_date</th>\n",
       "      <th>support_duration</th>\n",
       "      <th>update_frequency</th>\n",
       "      <th>delay</th>\n",
       "    </tr>\n",
       "  </thead>\n",
       "  <tbody>\n",
       "    <tr>\n",
       "      <th>0</th>\n",
       "      <td>cheetah</td>\n",
       "      <td>Pixel 7 Pro</td>\n",
       "      <td>13.0.0</td>\n",
       "      <td>7</td>\n",
       "      <td>2022-10-01</td>\n",
       "      <td>2023-03-01</td>\n",
       "      <td>151</td>\n",
       "      <td>21.571429</td>\n",
       "      <td>-4.0</td>\n",
       "    </tr>\n",
       "    <tr>\n",
       "      <th>1</th>\n",
       "      <td>panther</td>\n",
       "      <td>Pixel 7</td>\n",
       "      <td>13.0.0</td>\n",
       "      <td>7</td>\n",
       "      <td>2022-10-01</td>\n",
       "      <td>2023-03-01</td>\n",
       "      <td>151</td>\n",
       "      <td>21.571429</td>\n",
       "      <td>-4.0</td>\n",
       "    </tr>\n",
       "    <tr>\n",
       "      <th>2</th>\n",
       "      <td>bluejay</td>\n",
       "      <td>Pixel 6a</td>\n",
       "      <td>13.0.0</td>\n",
       "      <td>9</td>\n",
       "      <td>2022-06-01</td>\n",
       "      <td>2023-03-01</td>\n",
       "      <td>273</td>\n",
       "      <td>30.333333</td>\n",
       "      <td>-4.0</td>\n",
       "    </tr>\n",
       "    <tr>\n",
       "      <th>3</th>\n",
       "      <td>oriole</td>\n",
       "      <td>Pixel 6</td>\n",
       "      <td>13.0.0</td>\n",
       "      <td>17</td>\n",
       "      <td>2021-10-01</td>\n",
       "      <td>2023-03-01</td>\n",
       "      <td>516</td>\n",
       "      <td>30.352941</td>\n",
       "      <td>-4.0</td>\n",
       "    </tr>\n",
       "    <tr>\n",
       "      <th>4</th>\n",
       "      <td>raven</td>\n",
       "      <td>Pixel 6 Pro</td>\n",
       "      <td>13.0.0</td>\n",
       "      <td>17</td>\n",
       "      <td>2021-10-01</td>\n",
       "      <td>2023-03-01</td>\n",
       "      <td>516</td>\n",
       "      <td>30.352941</td>\n",
       "      <td>-4.0</td>\n",
       "    </tr>\n",
       "    <tr>\n",
       "      <th>5</th>\n",
       "      <td>barbet</td>\n",
       "      <td>Pixel 5a</td>\n",
       "      <td>13.0.0</td>\n",
       "      <td>21</td>\n",
       "      <td>2021-06-01</td>\n",
       "      <td>2023-03-01</td>\n",
       "      <td>638</td>\n",
       "      <td>30.380952</td>\n",
       "      <td>-4.0</td>\n",
       "    </tr>\n",
       "    <tr>\n",
       "      <th>6</th>\n",
       "      <td>redfin</td>\n",
       "      <td>Pixel 5</td>\n",
       "      <td>13.0.0</td>\n",
       "      <td>31</td>\n",
       "      <td>2020-10-01</td>\n",
       "      <td>2023-03-01</td>\n",
       "      <td>881</td>\n",
       "      <td>28.419355</td>\n",
       "      <td>-4.0</td>\n",
       "    </tr>\n",
       "    <tr>\n",
       "      <th>7</th>\n",
       "      <td>bramble</td>\n",
       "      <td>Pixel 4a (5G)</td>\n",
       "      <td>13.0.0</td>\n",
       "      <td>31</td>\n",
       "      <td>2020-10-01</td>\n",
       "      <td>2023-03-01</td>\n",
       "      <td>881</td>\n",
       "      <td>28.419355</td>\n",
       "      <td>-4.0</td>\n",
       "    </tr>\n",
       "    <tr>\n",
       "      <th>8</th>\n",
       "      <td>sunfish</td>\n",
       "      <td>Pixel 4a</td>\n",
       "      <td>13.0.0</td>\n",
       "      <td>34</td>\n",
       "      <td>2020-05-01</td>\n",
       "      <td>2023-03-01</td>\n",
       "      <td>1034</td>\n",
       "      <td>30.411765</td>\n",
       "      <td>-4.0</td>\n",
       "    </tr>\n",
       "    <tr>\n",
       "      <th>9</th>\n",
       "      <td>coral</td>\n",
       "      <td>Pixel 4 XL</td>\n",
       "      <td>13.0.0</td>\n",
       "      <td>38</td>\n",
       "      <td>2019-10-01</td>\n",
       "      <td>2023-02-01</td>\n",
       "      <td>1219</td>\n",
       "      <td>32.078947</td>\n",
       "      <td>-4.0</td>\n",
       "    </tr>\n",
       "    <tr>\n",
       "      <th>10</th>\n",
       "      <td>flame</td>\n",
       "      <td>Pixel 4</td>\n",
       "      <td>13.0.0</td>\n",
       "      <td>38</td>\n",
       "      <td>2019-10-01</td>\n",
       "      <td>2023-02-01</td>\n",
       "      <td>1219</td>\n",
       "      <td>32.078947</td>\n",
       "      <td>-4.0</td>\n",
       "    </tr>\n",
       "    <tr>\n",
       "      <th>11</th>\n",
       "      <td>bonito</td>\n",
       "      <td>Pixel 3a XL</td>\n",
       "      <td>12.1.0</td>\n",
       "      <td>38</td>\n",
       "      <td>2019-03-01</td>\n",
       "      <td>2022-09-01</td>\n",
       "      <td>1280</td>\n",
       "      <td>33.684211</td>\n",
       "      <td>-4.0</td>\n",
       "    </tr>\n",
       "    <tr>\n",
       "      <th>12</th>\n",
       "      <td>sargo</td>\n",
       "      <td>Pixel 3a</td>\n",
       "      <td>12.1.0</td>\n",
       "      <td>38</td>\n",
       "      <td>2019-03-01</td>\n",
       "      <td>2022-09-01</td>\n",
       "      <td>1280</td>\n",
       "      <td>33.684211</td>\n",
       "      <td>-4.0</td>\n",
       "    </tr>\n",
       "    <tr>\n",
       "      <th>13</th>\n",
       "      <td>crosshatch</td>\n",
       "      <td>Pixel 3 XL</td>\n",
       "      <td>12.0.0</td>\n",
       "      <td>38</td>\n",
       "      <td>2018-09-01</td>\n",
       "      <td>2022-06-01</td>\n",
       "      <td>1369</td>\n",
       "      <td>36.026316</td>\n",
       "      <td>-4.0</td>\n",
       "    </tr>\n",
       "    <tr>\n",
       "      <th>14</th>\n",
       "      <td>blueline</td>\n",
       "      <td>Pixel 3</td>\n",
       "      <td>12.0.0</td>\n",
       "      <td>38</td>\n",
       "      <td>2018-09-01</td>\n",
       "      <td>2022-06-01</td>\n",
       "      <td>1369</td>\n",
       "      <td>36.026316</td>\n",
       "      <td>-4.0</td>\n",
       "    </tr>\n",
       "    <tr>\n",
       "      <th>15</th>\n",
       "      <td>taimen</td>\n",
       "      <td>Pixel 2 XL</td>\n",
       "      <td>11.0.0</td>\n",
       "      <td>38</td>\n",
       "      <td>2017-09-01</td>\n",
       "      <td>2020-12-01</td>\n",
       "      <td>1187</td>\n",
       "      <td>31.236842</td>\n",
       "      <td>-4.0</td>\n",
       "    </tr>\n",
       "    <tr>\n",
       "      <th>16</th>\n",
       "      <td>walleye</td>\n",
       "      <td>Pixel 2</td>\n",
       "      <td>11.0.0</td>\n",
       "      <td>38</td>\n",
       "      <td>2017-09-01</td>\n",
       "      <td>2020-12-01</td>\n",
       "      <td>1187</td>\n",
       "      <td>31.236842</td>\n",
       "      <td>-4.0</td>\n",
       "    </tr>\n",
       "    <tr>\n",
       "      <th>17</th>\n",
       "      <td>marlin</td>\n",
       "      <td>Pixel XL</td>\n",
       "      <td>10.0.0</td>\n",
       "      <td>38</td>\n",
       "      <td>2016-10-01</td>\n",
       "      <td>2019-12-01</td>\n",
       "      <td>1156</td>\n",
       "      <td>30.421053</td>\n",
       "      <td>-4.0</td>\n",
       "    </tr>\n",
       "    <tr>\n",
       "      <th>18</th>\n",
       "      <td>sailfish</td>\n",
       "      <td>Pixel</td>\n",
       "      <td>10.0.0</td>\n",
       "      <td>38</td>\n",
       "      <td>2016-10-01</td>\n",
       "      <td>2019-12-01</td>\n",
       "      <td>1156</td>\n",
       "      <td>30.421053</td>\n",
       "      <td>-4.0</td>\n",
       "    </tr>\n",
       "    <tr>\n",
       "      <th>19</th>\n",
       "      <td>ryu</td>\n",
       "      <td>Pixel C</td>\n",
       "      <td>8.1.0</td>\n",
       "      <td>39</td>\n",
       "      <td>2016-10-01</td>\n",
       "      <td>2019-06-01</td>\n",
       "      <td>973</td>\n",
       "      <td>24.948718</td>\n",
       "      <td>-4.0</td>\n",
       "    </tr>\n",
       "  </tbody>\n",
       "</table>\n",
       "</div>"
      ],
      "text/plain": [
       "      codename         device last_android_version  update_count  \\\n",
       "0      cheetah    Pixel 7 Pro               13.0.0             7   \n",
       "1      panther        Pixel 7               13.0.0             7   \n",
       "2      bluejay       Pixel 6a               13.0.0             9   \n",
       "3       oriole        Pixel 6               13.0.0            17   \n",
       "4        raven    Pixel 6 Pro               13.0.0            17   \n",
       "5       barbet       Pixel 5a               13.0.0            21   \n",
       "6       redfin        Pixel 5               13.0.0            31   \n",
       "7      bramble  Pixel 4a (5G)               13.0.0            31   \n",
       "8      sunfish       Pixel 4a               13.0.0            34   \n",
       "9        coral     Pixel 4 XL               13.0.0            38   \n",
       "10       flame        Pixel 4               13.0.0            38   \n",
       "11      bonito    Pixel 3a XL               12.1.0            38   \n",
       "12       sargo       Pixel 3a               12.1.0            38   \n",
       "13  crosshatch     Pixel 3 XL               12.0.0            38   \n",
       "14    blueline        Pixel 3               12.0.0            38   \n",
       "15      taimen     Pixel 2 XL               11.0.0            38   \n",
       "16     walleye        Pixel 2               11.0.0            38   \n",
       "17      marlin       Pixel XL               10.0.0            38   \n",
       "18    sailfish          Pixel               10.0.0            38   \n",
       "19         ryu        Pixel C                8.1.0            39   \n",
       "\n",
       "   first_update_date last_update_date  support_duration  update_frequency  \\\n",
       "0         2022-10-01       2023-03-01               151         21.571429   \n",
       "1         2022-10-01       2023-03-01               151         21.571429   \n",
       "2         2022-06-01       2023-03-01               273         30.333333   \n",
       "3         2021-10-01       2023-03-01               516         30.352941   \n",
       "4         2021-10-01       2023-03-01               516         30.352941   \n",
       "5         2021-06-01       2023-03-01               638         30.380952   \n",
       "6         2020-10-01       2023-03-01               881         28.419355   \n",
       "7         2020-10-01       2023-03-01               881         28.419355   \n",
       "8         2020-05-01       2023-03-01              1034         30.411765   \n",
       "9         2019-10-01       2023-02-01              1219         32.078947   \n",
       "10        2019-10-01       2023-02-01              1219         32.078947   \n",
       "11        2019-03-01       2022-09-01              1280         33.684211   \n",
       "12        2019-03-01       2022-09-01              1280         33.684211   \n",
       "13        2018-09-01       2022-06-01              1369         36.026316   \n",
       "14        2018-09-01       2022-06-01              1369         36.026316   \n",
       "15        2017-09-01       2020-12-01              1187         31.236842   \n",
       "16        2017-09-01       2020-12-01              1187         31.236842   \n",
       "17        2016-10-01       2019-12-01              1156         30.421053   \n",
       "18        2016-10-01       2019-12-01              1156         30.421053   \n",
       "19        2016-10-01       2019-06-01               973         24.948718   \n",
       "\n",
       "    delay  \n",
       "0    -4.0  \n",
       "1    -4.0  \n",
       "2    -4.0  \n",
       "3    -4.0  \n",
       "4    -4.0  \n",
       "5    -4.0  \n",
       "6    -4.0  \n",
       "7    -4.0  \n",
       "8    -4.0  \n",
       "9    -4.0  \n",
       "10   -4.0  \n",
       "11   -4.0  \n",
       "12   -4.0  \n",
       "13   -4.0  \n",
       "14   -4.0  \n",
       "15   -4.0  \n",
       "16   -4.0  \n",
       "17   -4.0  \n",
       "18   -4.0  \n",
       "19   -4.0  "
      ]
     },
     "execution_count": 26,
     "metadata": {},
     "output_type": "execute_result"
    }
   ],
   "source": [
    "import pandas as pd\n",
    "from datetime import datetime\n",
    "\n",
    "cond1 = ~df_ota['Device'].str.contains('Nexus')\n",
    "cond2 = df_ota['Date'].notna()\n",
    "\n",
    "d = []\n",
    "counter = 0\n",
    "\n",
    "for codename in df_ota[cond1&cond2]['codename'].unique():\n",
    "    \n",
    "    df_test = df_ota[df_ota['codename']==codename]\n",
    "    \n",
    "    device = df_test['model'].to_list()[0]\n",
    "    \n",
    "    update_count = len(df_test['build_spl'].unique())\n",
    "    first_update_date = df_test['Date'].min()\n",
    "    last_update_date = df_test['Date'].max()\n",
    "    support_duration = (last_update_date-first_update_date).days\n",
    "    update_frequency = support_duration/update_count\n",
    "    \n",
    "    avg_delay = df_test['delay'].median()\n",
    "    \n",
    "    android_version = df_test.loc[df_test['Date']==last_update_date,'Version2'].to_list()\n",
    "    \n",
    "        \n",
    "    d.append({'codename': codename,\n",
    "          'device': device,\n",
    "          'last_android_version': android_version[0],\n",
    "          'update_count': update_count,\n",
    "          'first_update_date': first_update_date,\n",
    "          'last_update_date': last_update_date,\n",
    "          'support_duration': support_duration,\n",
    "          'update_frequency': update_frequency,\n",
    "          'delay': avg_delay})\n",
    "    \n",
    "    counter = counter + 1\n",
    "    \n",
    "    print('Completed {} / {}'.format(counter,len(df_ota[cond1&cond2]['codename'].unique())), end='\\r')\n",
    "    \n",
    "df_final_google = pd.DataFrame(d)\n",
    "df_final_google"
   ]
  },
  {
   "cell_type": "markdown",
   "id": "517c3d31",
   "metadata": {},
   "source": [
    "# 1. Support Type Analysis"
   ]
  },
  {
   "cell_type": "markdown",
   "id": "cdb0209c",
   "metadata": {},
   "source": [
    "### Update Count"
   ]
  },
  {
   "cell_type": "code",
   "execution_count": 27,
   "id": "a97bbd79",
   "metadata": {},
   "outputs": [
    {
     "data": {
      "image/png": "[encoded data removed]",
      "text/plain": [
       "<Figure size 288x144 with 1 Axes>"
      ]
     },
     "metadata": {
      "needs_background": "light"
     },
     "output_type": "display_data"
    },
    {
     "data": {
      "text/plain": [
       "Monthly      33.0\n",
       "Quarterly     9.0\n",
       "Biannual      4.0\n",
       "dtype: float64"
      ]
     },
     "execution_count": 27,
     "metadata": {},
     "output_type": "execute_result"
    },
    {
     "data": {
      "text/plain": [
       "<Figure size 432x288 with 0 Axes>"
      ]
     },
     "metadata": {},
     "output_type": "display_data"
    }
   ],
   "source": [
    "c = 'release_count'\n",
    "red_circle = dict(markerfacecolor='red', marker='o')\n",
    "df_plot = pd.DataFrame({'Monthly': df_final_samsung_monthly[c],\n",
    "                       'Quarterly': df_final_samsung_quarterly[c],\n",
    "                       'Biannual': df_final_samsung_biannual[c]})\n",
    "\n",
    "boxprops = dict(linestyle='-', linewidth=1, color='#00145A')\n",
    "medianprops = dict(linewidth=1.5, linestyle='-', color='#00145A')  # colors median line\n",
    "\n",
    "df_plot.boxplot(figsize=(4,2),flierprops=red_circle,boxprops=boxprops,medianprops=medianprops,widths=0.5)\n",
    "\n",
    "plt.title('Update Count',fontsize=16)\n",
    "plt.xticks(fontsize=14)\n",
    "plt.yticks(fontsize=14)\n",
    "plt.grid(linestyle='-.')\n",
    "plt.savefig('../Results/1_spl_count_seperated.pdf', bbox_inches='tight')\n",
    "plt.show()\n",
    "plt.tight_layout()\n",
    "\n",
    "df_plot.median()"
   ]
  },
  {
   "cell_type": "markdown",
   "id": "0b91249a",
   "metadata": {},
   "source": [
    "### Support Duration"
   ]
  },
  {
   "cell_type": "code",
   "execution_count": 28,
   "id": "d0069a4c",
   "metadata": {},
   "outputs": [
    {
     "data": {
      "image/png": "[encoded data removed]",
      "text/plain": [
       "<Figure size 288x144 with 1 Axes>"
      ]
     },
     "metadata": {
      "needs_background": "light"
     },
     "output_type": "display_data"
    },
    {
     "data": {
      "text/plain": [
       "Monthly      1034.0\n",
       "Quarterly     560.0\n",
       "Biannual      442.0\n",
       "dtype: float64"
      ]
     },
     "execution_count": 28,
     "metadata": {},
     "output_type": "execute_result"
    },
    {
     "data": {
      "text/plain": [
       "<Figure size 432x288 with 0 Axes>"
      ]
     },
     "metadata": {},
     "output_type": "display_data"
    }
   ],
   "source": [
    "c = 'release_date_duration'\n",
    "mean_shape = dict(markerfacecolor='green', marker='D', markeredgecolor='green')\n",
    "red_circle = dict(markerfacecolor='red', marker='o')\n",
    "df_plot = pd.DataFrame({'Monthly': df_final_samsung_monthly[c].dt.days,\n",
    "                       'Quarterly': df_final_samsung_quarterly[c].dt.days,\n",
    "                       'Biannual': df_final_samsung_biannual[c].dt.days})\n",
    "\n",
    "boxprops = dict(linestyle='-', linewidth=1, color='#00145A')\n",
    "medianprops = dict(linewidth=1.5, linestyle='-', color='#00145A')  # colors median line\n",
    "\n",
    "df_plot.boxplot(figsize=(4,2),flierprops=red_circle,boxprops=boxprops,medianprops=medianprops,widths=0.5)\n",
    "\n",
    "plt.title('Support Duration (days)',fontsize=16)\n",
    "plt.xticks(fontsize=14)\n",
    "plt.yticks(fontsize=14)\n",
    "plt.grid(linestyle='-.')\n",
    "plt.savefig('../Results/2_spl_duration_seperated.pdf', bbox_inches='tight')\n",
    "plt.show()\n",
    "plt.tight_layout()\n",
    "\n",
    "df_plot.median()"
   ]
  },
  {
   "cell_type": "markdown",
   "id": "4d6b3a01",
   "metadata": {},
   "source": [
    "### Update Frequency"
   ]
  },
  {
   "cell_type": "code",
   "execution_count": 29,
   "id": "5c49cdf0",
   "metadata": {},
   "outputs": [
    {
     "data": {
      "image/png": "[encoded data removed]",
      "text/plain": [
       "<Figure size 288x144 with 1 Axes>"
      ]
     },
     "metadata": {
      "needs_background": "light"
     },
     "output_type": "display_data"
    },
    {
     "data": {
      "text/plain": [
       "Monthly      30.342857\n",
       "Quarterly    53.500000\n",
       "Biannual     91.633333\n",
       "dtype: float64"
      ]
     },
     "execution_count": 29,
     "metadata": {},
     "output_type": "execute_result"
    },
    {
     "data": {
      "text/plain": [
       "<Figure size 432x288 with 0 Axes>"
      ]
     },
     "metadata": {},
     "output_type": "display_data"
    }
   ],
   "source": [
    "c = 'avg_release_freq'\n",
    "mean_shape = dict(markerfacecolor='black', marker='D', markeredgecolor='black')\n",
    "\n",
    "red_circle = dict(markerfacecolor='red', marker='o')\n",
    "\n",
    "df_plot = pd.DataFrame({'Monthly': df_final_samsung_monthly[c],\n",
    "                       'Quarterly': df_final_samsung_quarterly[c],\n",
    "                       'Biannual': df_final_samsung_biannual[c]})\n",
    "\n",
    "boxprops = dict(linestyle='-', linewidth=1, color='#00145A')\n",
    "medianprops = dict(linewidth=1.5, linestyle='-', color='#00145A')  # colors median line\n",
    "\n",
    "df_plot.boxplot(figsize=(4,2),flierprops=red_circle,boxprops=boxprops,medianprops=medianprops,widths=0.5)\n",
    "\n",
    "plt.title('Update Frequency (days)',fontsize=16)\n",
    "plt.xticks(fontsize=14)\n",
    "plt.yticks(fontsize=14)\n",
    "plt.grid(linestyle='-.')\n",
    "plt.savefig('../Results/3_spl_frequency_seperated.pdf', bbox_inches='tight')\n",
    "plt.show()\n",
    "\n",
    "plt.tight_layout()\n",
    "\n",
    "\n",
    "df_plot.median()"
   ]
  },
  {
   "cell_type": "markdown",
   "id": "17d85be1",
   "metadata": {},
   "source": [
    "### Release Delay"
   ]
  },
  {
   "cell_type": "code",
   "execution_count": 30,
   "id": "e0a9adcf",
   "metadata": {},
   "outputs": [
    {
     "data": {
      "image/png": "[encoded data removed]",
      "text/plain": [
       "<Figure size 288x144 with 1 Axes>"
      ]
     },
     "metadata": {
      "needs_background": "light"
     },
     "output_type": "display_data"
    },
    {
     "data": {
      "text/plain": [
       "Monthly      25.0\n",
       "Quarterly    42.0\n",
       "Biannual     62.0\n",
       "dtype: float64"
      ]
     },
     "execution_count": 30,
     "metadata": {},
     "output_type": "execute_result"
    },
    {
     "data": {
      "text/plain": [
       "<Figure size 432x288 with 0 Axes>"
      ]
     },
     "metadata": {},
     "output_type": "display_data"
    }
   ],
   "source": [
    "c = 'avg_release_delay'\n",
    "mean_shape = dict(markerfacecolor='green', marker='D', markeredgecolor='green')\n",
    "red_circle = dict(markerfacecolor='red', marker='o')\n",
    "\n",
    "df_plot = pd.DataFrame({'Monthly': df_final_samsung_monthly[c],\n",
    "                       'Quarterly': df_final_samsung_quarterly[c],\n",
    "                       'Biannual': df_final_samsung_biannual[c]})\n",
    "boxprops = dict(linestyle='-', linewidth=1, color='#00145A')\n",
    "medianprops = dict(linewidth=1.5, linestyle='-', color='#00145A')  # colors median line\n",
    "\n",
    "df_plot.boxplot(figsize=(4,2),flierprops=red_circle,boxprops=boxprops,medianprops=medianprops,widths=0.5)\n",
    "\n",
    "\n",
    "plt.title('Release Delay (days)',fontsize=16)\n",
    "plt.xticks(fontsize=14)\n",
    "plt.yticks(fontsize=14)\n",
    "plt.grid(linestyle='-.')\n",
    "plt.savefig('../Results/4_spl_delay_seperated.pdf', bbox_inches='tight')\n",
    "plt.show()\n",
    "\n",
    "plt.tight_layout()\n",
    "\n",
    "df_plot.median()"
   ]
  },
  {
   "cell_type": "markdown",
   "id": "27a30238",
   "metadata": {},
   "source": [
    "# 2. Geolocation Analysis"
   ]
  },
  {
   "cell_type": "markdown",
   "id": "8152a69b",
   "metadata": {},
   "source": [
    "## Samsung - Monthly Maps"
   ]
  },
  {
   "cell_type": "markdown",
   "id": "805ab1f1",
   "metadata": {},
   "source": [
    "### Update Count"
   ]
  },
  {
   "cell_type": "code",
   "execution_count": 169,
   "id": "4040abd0",
   "metadata": {},
   "outputs": [
    {
     "data": {
      "application/vnd.plotly.v1+json": {
       "config": {
        "plotlyServerURL": "https://plot.ly"
       },
       "data": [
        {
         "coloraxis": "coloraxis",
         "geo": "geo",
         "hovertemplate": "<b>%{hovertext}</b><br><br>country_code=%{location}<br>release_count=%{z}<extra></extra>",
         "hovertext": [
          "JAM",
          "HND",
          "CRI",
          "SLV",
          "ECU",
          "PRY",
          "GTM",
          "NOR",
          "PER",
          "ISR",
          "SGP",
          "KOR",
          "SRB",
          "ARG",
          "CHL",
          "DOM",
          "MEX",
          "PRI",
          "BIH",
          "PAN",
          "BRA",
          "COL",
          "PNG",
          "BOL",
          "CYP",
          "SVN",
          "FJI",
          "FRA",
          "ZAF",
          "CAN",
          "POL",
          "PHL",
          "URY",
          "NPL",
          "IRL",
          "BEL",
          "CHN",
          "SWE",
          "PRT",
          "AUS",
          "MAR",
          "NZL",
          "ITA",
          "ROU",
          "EGY",
          "USA",
          "IRN",
          "TWN",
          "IDN",
          "LKA",
          "SAU",
          "TTO",
          "KHM",
          "PAK",
          "TUR",
          "LBY",
          "THA",
          "HRV",
          "AFG",
          "HKG",
          "ESP",
          "GBR",
          "HUN",
          "IRQ",
          "TUN",
          "MYS",
          "NLD",
          "VNM",
          "KEN",
          "AUT",
          "MKD",
          "BGD",
          "NGA",
          "GRC",
          "DEU",
          "CZE",
          "IND",
          "KAZ",
          "UKR",
          "UZB",
          "SVK",
          "ARE",
          "RUS",
          "CHE",
          "LUX",
          "BGR"
         ],
         "locationmode": "ISO-3",
         "locations": [
          "JAM",
          "HND",
          "CRI",
          "SLV",
          "ECU",
          "PRY",
          "GTM",
          "NOR",
          "PER",
          "ISR",
          "SGP",
          "KOR",
          "SRB",
          "ARG",
          "CHL",
          "DOM",
          "MEX",
          "PRI",
          "BIH",
          "PAN",
          "BRA",
          "COL",
          "PNG",
          "BOL",
          "CYP",
          "SVN",
          "FJI",
          "FRA",
          "ZAF",
          "CAN",
          "POL",
          "PHL",
          "URY",
          "NPL",
          "IRL",
          "BEL",
          "CHN",
          "SWE",
          "PRT",
          "AUS",
          "MAR",
          "NZL",
          "ITA",
          "ROU",
          "EGY",
          "USA",
          "IRN",
          "TWN",
          "IDN",
          "LKA",
          "SAU",
          "TTO",
          "KHM",
          "PAK",
          "TUR",
          "LBY",
          "THA",
          "HRV",
          "AFG",
          "HKG",
          "ESP",
          "GBR",
          "HUN",
          "IRQ",
          "TUN",
          "MYS",
          "NLD",
          "VNM",
          "KEN",
          "AUT",
          "MKD",
          "BGD",
          "NGA",
          "GRC",
          "DEU",
          "CZE",
          "IND",
          "KAZ",
          "UKR",
          "UZB",
          "SVK",
          "ARE",
          "RUS",
          "CHE",
          "LUX",
          "BGR"
         ],
         "name": "",
         "type": "choropleth",
         "z": [
          15.176470588235293,
          16.09090909090909,
          16.1,
          16.181818181818183,
          17.37037037037037,
          18.23076923076923,
          18.9375,
          20.333333333333332,
          20.548387096774192,
          20.6875,
          20.782608695652176,
          20.88888888888889,
          20.88888888888889,
          21.645833333333332,
          22.057971014492754,
          22.433333333333334,
          23.385964912280702,
          24,
          24,
          24.175,
          24.526315789473685,
          24.571428571428573,
          27,
          27.58823529411765,
          27.6,
          27.714285714285715,
          28,
          28.137254901960784,
          28.37142857142857,
          29.080291970802918,
          29.11111111111111,
          29.17142857142857,
          29.209302325581394,
          30.555555555555557,
          30.764705882352942,
          31,
          31.076923076923077,
          31.5,
          31.55,
          31.80952380952381,
          32.5625,
          32.5625,
          32.75471698113208,
          33.02439024390244,
          33.166666666666664,
          33.23981900452489,
          33.375,
          33.666666666666664,
          33.69230769230769,
          34.2,
          34.2,
          34.35,
          34.4,
          34.416666666666664,
          34.61538461538461,
          34.916666666666664,
          34.92857142857143,
          34.93333333333333,
          35,
          35,
          35.03846153846154,
          35.125,
          35.138888888888886,
          35.142857142857146,
          35.166666666666664,
          35.357142857142854,
          35.357142857142854,
          35.38461538461539,
          35.4,
          35.49090909090909,
          35.666666666666664,
          35.666666666666664,
          35.7,
          35.78947368421053,
          36.05128205128205,
          36.244897959183675,
          36.416666666666664,
          36.5,
          36.5,
          36.666666666666664,
          36.73913043478261,
          36.93333333333333,
          37,
          37.03846153846154,
          37.92307692307692,
          38.214285714285715
         ]
        }
       ],
       "layout": {
        "coloraxis": {
         "cmax": 49.33433041877589,
         "cmin": 16.44477680625863,
         "colorbar": {
          "len": 1,
          "nticks": 6,
          "orientation": "h",
          "tickangle": 0,
          "tickfont": {
           "color": "black",
           "size": 30
          },
          "title": {
           "font": {
            "size": 1
           },
           "text": "release_count"
          },
          "y": 0.06
         },
         "colorscale": [
          [
           0,
           "#0d0887"
          ],
          [
           0.1111111111111111,
           "#46039f"
          ],
          [
           0.2222222222222222,
           "#7201a8"
          ],
          [
           0.3333333333333333,
           "#9c179e"
          ],
          [
           0.4444444444444444,
           "#bd3786"
          ],
          [
           0.5555555555555556,
           "#d8576b"
          ],
          [
           0.6666666666666666,
           "#ed7953"
          ],
          [
           0.7777777777777778,
           "#fb9f3a"
          ],
          [
           0.8888888888888888,
           "#fdca26"
          ],
          [
           1,
           "#f0f921"
          ]
         ]
        },
        "geo": {
         "center": {},
         "domain": {
          "x": [
           0,
           1
          ],
          "y": [
           0,
           1
          ]
         }
        },
        "height": 600,
        "legend": {
         "tracegroupgap": 0
        },
        "margin": {
         "t": 60
        },
        "template": {
         "data": {
          "bar": [
           {
            "error_x": {
             "color": "#2a3f5f"
            },
            "error_y": {
             "color": "#2a3f5f"
            },
            "marker": {
             "line": {
              "color": "#E5ECF6",
              "width": 0.5
             },
             "pattern": {
              "fillmode": "overlay",
              "size": 10,
              "solidity": 0.2
             }
            },
            "type": "bar"
           }
          ],
          "barpolar": [
           {
            "marker": {
             "line": {
              "color": "#E5ECF6",
              "width": 0.5
             },
             "pattern": {
              "fillmode": "overlay",
              "size": 10,
              "solidity": 0.2
             }
            },
            "type": "barpolar"
           }
          ],
          "carpet": [
           {
            "aaxis": {
             "endlinecolor": "#2a3f5f",
             "gridcolor": "white",
             "linecolor": "white",
             "minorgridcolor": "white",
             "startlinecolor": "#2a3f5f"
            },
            "baxis": {
             "endlinecolor": "#2a3f5f",
             "gridcolor": "white",
             "linecolor": "white",
             "minorgridcolor": "white",
             "startlinecolor": "#2a3f5f"
            },
            "type": "carpet"
           }
          ],
          "choropleth": [
           {
            "colorbar": {
             "outlinewidth": 0,
             "ticks": ""
            },
            "type": "choropleth"
           }
          ],
          "contour": [
           {
            "colorbar": {
             "outlinewidth": 0,
             "ticks": ""
            },
            "colorscale": [
             [
              0,
              "#0d0887"
             ],
             [
              0.1111111111111111,
              "#46039f"
             ],
             [
              0.2222222222222222,
              "#7201a8"
             ],
             [
              0.3333333333333333,
              "#9c179e"
             ],
             [
              0.4444444444444444,
              "#bd3786"
             ],
             [
              0.5555555555555556,
              "#d8576b"
             ],
             [
              0.6666666666666666,
              "#ed7953"
             ],
             [
              0.7777777777777778,
              "#fb9f3a"
             ],
             [
              0.8888888888888888,
              "#fdca26"
             ],
             [
              1,
              "#f0f921"
             ]
            ],
            "type": "contour"
           }
          ],
          "contourcarpet": [
           {
            "colorbar": {
             "outlinewidth": 0,
             "ticks": ""
            },
            "type": "contourcarpet"
           }
          ],
          "heatmap": [
           {
            "colorbar": {
             "outlinewidth": 0,
             "ticks": ""
            },
            "colorscale": [
             [
              0,
              "#0d0887"
             ],
             [
              0.1111111111111111,
              "#46039f"
             ],
             [
              0.2222222222222222,
              "#7201a8"
             ],
             [
              0.3333333333333333,
              "#9c179e"
             ],
             [
              0.4444444444444444,
              "#bd3786"
             ],
             [
              0.5555555555555556,
              "#d8576b"
             ],
             [
              0.6666666666666666,
              "#ed7953"
             ],
             [
              0.7777777777777778,
              "#fb9f3a"
             ],
             [
              0.8888888888888888,
              "#fdca26"
             ],
             [
              1,
              "#f0f921"
             ]
            ],
            "type": "heatmap"
           }
          ],
          "heatmapgl": [
           {
            "colorbar": {
             "outlinewidth": 0,
             "ticks": ""
            },
            "colorscale": [
             [
              0,
              "#0d0887"
             ],
             [
              0.1111111111111111,
              "#46039f"
             ],
             [
              0.2222222222222222,
              "#7201a8"
             ],
             [
              0.3333333333333333,
              "#9c179e"
             ],
             [
              0.4444444444444444,
              "#bd3786"
             ],
             [
              0.5555555555555556,
              "#d8576b"
             ],
             [
              0.6666666666666666,
              "#ed7953"
             ],
             [
              0.7777777777777778,
              "#fb9f3a"
             ],
             [
              0.8888888888888888,
              "#fdca26"
             ],
             [
              1,
              "#f0f921"
             ]
            ],
            "type": "heatmapgl"
           }
          ],
          "histogram": [
           {
            "marker": {
             "pattern": {
              "fillmode": "overlay",
              "size": 10,
              "solidity": 0.2
             }
            },
            "type": "histogram"
           }
          ],
          "histogram2d": [
           {
            "colorbar": {
             "outlinewidth": 0,
             "ticks": ""
            },
            "colorscale": [
             [
              0,
              "#0d0887"
             ],
             [
              0.1111111111111111,
              "#46039f"
             ],
             [
              0.2222222222222222,
              "#7201a8"
             ],
             [
              0.3333333333333333,
              "#9c179e"
             ],
             [
              0.4444444444444444,
              "#bd3786"
             ],
             [
              0.5555555555555556,
              "#d8576b"
             ],
             [
              0.6666666666666666,
              "#ed7953"
             ],
             [
              0.7777777777777778,
              "#fb9f3a"
             ],
             [
              0.8888888888888888,
              "#fdca26"
             ],
             [
              1,
              "#f0f921"
             ]
            ],
            "type": "histogram2d"
           }
          ],
          "histogram2dcontour": [
           {
            "colorbar": {
             "outlinewidth": 0,
             "ticks": ""
            },
            "colorscale": [
             [
              0,
              "#0d0887"
             ],
             [
              0.1111111111111111,
              "#46039f"
             ],
             [
              0.2222222222222222,
              "#7201a8"
             ],
             [
              0.3333333333333333,
              "#9c179e"
             ],
             [
              0.4444444444444444,
              "#bd3786"
             ],
             [
              0.5555555555555556,
              "#d8576b"
             ],
             [
              0.6666666666666666,
              "#ed7953"
             ],
             [
              0.7777777777777778,
              "#fb9f3a"
             ],
             [
              0.8888888888888888,
              "#fdca26"
             ],
             [
              1,
              "#f0f921"
             ]
            ],
            "type": "histogram2dcontour"
           }
          ],
          "mesh3d": [
           {
            "colorbar": {
             "outlinewidth": 0,
             "ticks": ""
            },
            "type": "mesh3d"
           }
          ],
          "parcoords": [
           {
            "line": {
             "colorbar": {
              "outlinewidth": 0,
              "ticks": ""
             }
            },
            "type": "parcoords"
           }
          ],
          "pie": [
           {
            "automargin": true,
            "type": "pie"
           }
          ],
          "scatter": [
           {
            "fillpattern": {
             "fillmode": "overlay",
             "size": 10,
             "solidity": 0.2
            },
            "type": "scatter"
           }
          ],
          "scatter3d": [
           {
            "line": {
             "colorbar": {
              "outlinewidth": 0,
              "ticks": ""
             }
            },
            "marker": {
             "colorbar": {
              "outlinewidth": 0,
              "ticks": ""
             }
            },
            "type": "scatter3d"
           }
          ],
          "scattercarpet": [
           {
            "marker": {
             "colorbar": {
              "outlinewidth": 0,
              "ticks": ""
             }
            },
            "type": "scattercarpet"
           }
          ],
          "scattergeo": [
           {
            "marker": {
             "colorbar": {
              "outlinewidth": 0,
              "ticks": ""
             }
            },
            "type": "scattergeo"
           }
          ],
          "scattergl": [
           {
            "marker": {
             "colorbar": {
              "outlinewidth": 0,
              "ticks": ""
             }
            },
            "type": "scattergl"
           }
          ],
          "scattermapbox": [
           {
            "marker": {
             "colorbar": {
              "outlinewidth": 0,
              "ticks": ""
             }
            },
            "type": "scattermapbox"
           }
          ],
          "scatterpolar": [
           {
            "marker": {
             "colorbar": {
              "outlinewidth": 0,
              "ticks": ""
             }
            },
            "type": "scatterpolar"
           }
          ],
          "scatterpolargl": [
           {
            "marker": {
             "colorbar": {
              "outlinewidth": 0,
              "ticks": ""
             }
            },
            "type": "scatterpolargl"
           }
          ],
          "scatterternary": [
           {
            "marker": {
             "colorbar": {
              "outlinewidth": 0,
              "ticks": ""
             }
            },
            "type": "scatterternary"
           }
          ],
          "surface": [
           {
            "colorbar": {
             "outlinewidth": 0,
             "ticks": ""
            },
            "colorscale": [
             [
              0,
              "#0d0887"
             ],
             [
              0.1111111111111111,
              "#46039f"
             ],
             [
              0.2222222222222222,
              "#7201a8"
             ],
             [
              0.3333333333333333,
              "#9c179e"
             ],
             [
              0.4444444444444444,
              "#bd3786"
             ],
             [
              0.5555555555555556,
              "#d8576b"
             ],
             [
              0.6666666666666666,
              "#ed7953"
             ],
             [
              0.7777777777777778,
              "#fb9f3a"
             ],
             [
              0.8888888888888888,
              "#fdca26"
             ],
             [
              1,
              "#f0f921"
             ]
            ],
            "type": "surface"
           }
          ],
          "table": [
           {
            "cells": {
             "fill": {
              "color": "#EBF0F8"
             },
             "line": {
              "color": "white"
             }
            },
            "header": {
             "fill": {
              "color": "#C8D4E3"
             },
             "line": {
              "color": "white"
             }
            },
            "type": "table"
           }
          ]
         },
         "layout": {
          "annotationdefaults": {
           "arrowcolor": "#2a3f5f",
           "arrowhead": 0,
           "arrowwidth": 1
          },
          "autotypenumbers": "strict",
          "coloraxis": {
           "colorbar": {
            "outlinewidth": 0,
            "ticks": ""
           }
          },
          "colorscale": {
           "diverging": [
            [
             0,
             "#8e0152"
            ],
            [
             0.1,
             "#c51b7d"
            ],
            [
             0.2,
             "#de77ae"
            ],
            [
             0.3,
             "#f1b6da"
            ],
            [
             0.4,
             "#fde0ef"
            ],
            [
             0.5,
             "#f7f7f7"
            ],
            [
             0.6,
             "#e6f5d0"
            ],
            [
             0.7,
             "#b8e186"
            ],
            [
             0.8,
             "#7fbc41"
            ],
            [
             0.9,
             "#4d9221"
            ],
            [
             1,
             "#276419"
            ]
           ],
           "sequential": [
            [
             0,
             "#0d0887"
            ],
            [
             0.1111111111111111,
             "#46039f"
            ],
            [
             0.2222222222222222,
             "#7201a8"
            ],
            [
             0.3333333333333333,
             "#9c179e"
            ],
            [
             0.4444444444444444,
             "#bd3786"
            ],
            [
             0.5555555555555556,
             "#d8576b"
            ],
            [
             0.6666666666666666,
             "#ed7953"
            ],
            [
             0.7777777777777778,
             "#fb9f3a"
            ],
            [
             0.8888888888888888,
             "#fdca26"
            ],
            [
             1,
             "#f0f921"
            ]
           ],
           "sequentialminus": [
            [
             0,
             "#0d0887"
            ],
            [
             0.1111111111111111,
             "#46039f"
            ],
            [
             0.2222222222222222,
             "#7201a8"
            ],
            [
             0.3333333333333333,
             "#9c179e"
            ],
            [
             0.4444444444444444,
             "#bd3786"
            ],
            [
             0.5555555555555556,
             "#d8576b"
            ],
            [
             0.6666666666666666,
             "#ed7953"
            ],
            [
             0.7777777777777778,
             "#fb9f3a"
            ],
            [
             0.8888888888888888,
             "#fdca26"
            ],
            [
             1,
             "#f0f921"
            ]
           ]
          },
          "colorway": [
           "#636efa",
           "#EF553B",
           "#00cc96",
           "#ab63fa",
           "#FFA15A",
           "#19d3f3",
           "#FF6692",
           "#B6E880",
           "#FF97FF",
           "#FECB52"
          ],
          "font": {
           "color": "#2a3f5f"
          },
          "geo": {
           "bgcolor": "white",
           "lakecolor": "white",
           "landcolor": "#E5ECF6",
           "showlakes": true,
           "showland": true,
           "subunitcolor": "white"
          },
          "hoverlabel": {
           "align": "left"
          },
          "hovermode": "closest",
          "mapbox": {
           "style": "light"
          },
          "paper_bgcolor": "white",
          "plot_bgcolor": "#E5ECF6",
          "polar": {
           "angularaxis": {
            "gridcolor": "white",
            "linecolor": "white",
            "ticks": ""
           },
           "bgcolor": "#E5ECF6",
           "radialaxis": {
            "gridcolor": "white",
            "linecolor": "white",
            "ticks": ""
           }
          },
          "scene": {
           "xaxis": {
            "backgroundcolor": "#E5ECF6",
            "gridcolor": "white",
            "gridwidth": 2,
            "linecolor": "white",
            "showbackground": true,
            "ticks": "",
            "zerolinecolor": "white"
           },
           "yaxis": {
            "backgroundcolor": "#E5ECF6",
            "gridcolor": "white",
            "gridwidth": 2,
            "linecolor": "white",
            "showbackground": true,
            "ticks": "",
            "zerolinecolor": "white"
           },
           "zaxis": {
            "backgroundcolor": "#E5ECF6",
            "gridcolor": "white",
            "gridwidth": 2,
            "linecolor": "white",
            "showbackground": true,
            "ticks": "",
            "zerolinecolor": "white"
           }
          },
          "shapedefaults": {
           "line": {
            "color": "#2a3f5f"
           }
          },
          "ternary": {
           "aaxis": {
            "gridcolor": "white",
            "linecolor": "white",
            "ticks": ""
           },
           "baxis": {
            "gridcolor": "white",
            "linecolor": "white",
            "ticks": ""
           },
           "bgcolor": "#E5ECF6",
           "caxis": {
            "gridcolor": "white",
            "linecolor": "white",
            "ticks": ""
           }
          },
          "title": {
           "x": 0.05
          },
          "xaxis": {
           "automargin": true,
           "gridcolor": "white",
           "linecolor": "white",
           "ticks": "",
           "title": {
            "standoff": 15
           },
           "zerolinecolor": "white",
           "zerolinewidth": 2
          },
          "yaxis": {
           "automargin": true,
           "gridcolor": "white",
           "linecolor": "white",
           "ticks": "",
           "title": {
            "standoff": 15
           },
           "zerolinecolor": "white",
           "zerolinewidth": 2
          }
         }
        },
        "width": 800
       }
      },
      "text/html": [
       "<div>                            <div id=\"9f76d0a3-df05-4a43-a566-3140ebd78e5b\" class=\"plotly-graph-div\" style=\"height:600px; width:800px;\"></div>            <script type=\"text/javascript\">                require([\"plotly\"], function(Plotly) {                    window.PLOTLYENV=window.PLOTLYENV || {};                                    if (document.getElementById(\"9f76d0a3-df05-4a43-a566-3140ebd78e5b\")) {                    Plotly.newPlot(                        \"9f76d0a3-df05-4a43-a566-3140ebd78e5b\",                        [{\"coloraxis\":\"coloraxis\",\"geo\":\"geo\",\"hovertemplate\":\"<b>%{hovertext}</b><br><br>country_code=%{location}<br>release_count=%{z}<extra></extra>\",\"hovertext\":[\"JAM\",\"HND\",\"CRI\",\"SLV\",\"ECU\",\"PRY\",\"GTM\",\"NOR\",\"PER\",\"ISR\",\"SGP\",\"KOR\",\"SRB\",\"ARG\",\"CHL\",\"DOM\",\"MEX\",\"PRI\",\"BIH\",\"PAN\",\"BRA\",\"COL\",\"PNG\",\"BOL\",\"CYP\",\"SVN\",\"FJI\",\"FRA\",\"ZAF\",\"CAN\",\"POL\",\"PHL\",\"URY\",\"NPL\",\"IRL\",\"BEL\",\"CHN\",\"SWE\",\"PRT\",\"AUS\",\"MAR\",\"NZL\",\"ITA\",\"ROU\",\"EGY\",\"USA\",\"IRN\",\"TWN\",\"IDN\",\"LKA\",\"SAU\",\"TTO\",\"KHM\",\"PAK\",\"TUR\",\"LBY\",\"THA\",\"HRV\",\"AFG\",\"HKG\",\"ESP\",\"GBR\",\"HUN\",\"IRQ\",\"TUN\",\"MYS\",\"NLD\",\"VNM\",\"KEN\",\"AUT\",\"MKD\",\"BGD\",\"NGA\",\"GRC\",\"DEU\",\"CZE\",\"IND\",\"KAZ\",\"UKR\",\"UZB\",\"SVK\",\"ARE\",\"RUS\",\"CHE\",\"LUX\",\"BGR\"],\"locationmode\":\"ISO-3\",\"locations\":[\"JAM\",\"HND\",\"CRI\",\"SLV\",\"ECU\",\"PRY\",\"GTM\",\"NOR\",\"PER\",\"ISR\",\"SGP\",\"KOR\",\"SRB\",\"ARG\",\"CHL\",\"DOM\",\"MEX\",\"PRI\",\"BIH\",\"PAN\",\"BRA\",\"COL\",\"PNG\",\"BOL\",\"CYP\",\"SVN\",\"FJI\",\"FRA\",\"ZAF\",\"CAN\",\"POL\",\"PHL\",\"URY\",\"NPL\",\"IRL\",\"BEL\",\"CHN\",\"SWE\",\"PRT\",\"AUS\",\"MAR\",\"NZL\",\"ITA\",\"ROU\",\"EGY\",\"USA\",\"IRN\",\"TWN\",\"IDN\",\"LKA\",\"SAU\",\"TTO\",\"KHM\",\"PAK\",\"TUR\",\"LBY\",\"THA\",\"HRV\",\"AFG\",\"HKG\",\"ESP\",\"GBR\",\"HUN\",\"IRQ\",\"TUN\",\"MYS\",\"NLD\",\"VNM\",\"KEN\",\"AUT\",\"MKD\",\"BGD\",\"NGA\",\"GRC\",\"DEU\",\"CZE\",\"IND\",\"KAZ\",\"UKR\",\"UZB\",\"SVK\",\"ARE\",\"RUS\",\"CHE\",\"LUX\",\"BGR\"],\"name\":\"\",\"z\":[15.176470588235293,16.09090909090909,16.1,16.181818181818183,17.37037037037037,18.23076923076923,18.9375,20.333333333333332,20.548387096774192,20.6875,20.782608695652176,20.88888888888889,20.88888888888889,21.645833333333332,22.057971014492754,22.433333333333334,23.385964912280702,24.0,24.0,24.175,24.526315789473685,24.571428571428573,27.0,27.58823529411765,27.6,27.714285714285715,28.0,28.137254901960784,28.37142857142857,29.080291970802918,29.11111111111111,29.17142857142857,29.209302325581394,30.555555555555557,30.764705882352942,31.0,31.076923076923077,31.5,31.55,31.80952380952381,32.5625,32.5625,32.75471698113208,33.02439024390244,33.166666666666664,33.23981900452489,33.375,33.666666666666664,33.69230769230769,34.2,34.2,34.35,34.4,34.416666666666664,34.61538461538461,34.916666666666664,34.92857142857143,34.93333333333333,35.0,35.0,35.03846153846154,35.125,35.138888888888886,35.142857142857146,35.166666666666664,35.357142857142854,35.357142857142854,35.38461538461539,35.4,35.49090909090909,35.666666666666664,35.666666666666664,35.7,35.78947368421053,36.05128205128205,36.244897959183675,36.416666666666664,36.5,36.5,36.666666666666664,36.73913043478261,36.93333333333333,37.0,37.03846153846154,37.92307692307692,38.214285714285715],\"type\":\"choropleth\"}],                        {\"template\":{\"data\":{\"histogram2dcontour\":[{\"type\":\"histogram2dcontour\",\"colorbar\":{\"outlinewidth\":0,\"ticks\":\"\"},\"colorscale\":[[0.0,\"#0d0887\"],[0.1111111111111111,\"#46039f\"],[0.2222222222222222,\"#7201a8\"],[0.3333333333333333,\"#9c179e\"],[0.4444444444444444,\"#bd3786\"],[0.5555555555555556,\"#d8576b\"],[0.6666666666666666,\"#ed7953\"],[0.7777777777777778,\"#fb9f3a\"],[0.8888888888888888,\"#fdca26\"],[1.0,\"#f0f921\"]]}],\"choropleth\":[{\"type\":\"choropleth\",\"colorbar\":{\"outlinewidth\":0,\"ticks\":\"\"}}],\"histogram2d\":[{\"type\":\"histogram2d\",\"colorbar\":{\"outlinewidth\":0,\"ticks\":\"\"},\"colorscale\":[[0.0,\"#0d0887\"],[0.1111111111111111,\"#46039f\"],[0.2222222222222222,\"#7201a8\"],[0.3333333333333333,\"#9c179e\"],[0.4444444444444444,\"#bd3786\"],[0.5555555555555556,\"#d8576b\"],[0.6666666666666666,\"#ed7953\"],[0.7777777777777778,\"#fb9f3a\"],[0.8888888888888888,\"#fdca26\"],[1.0,\"#f0f921\"]]}],\"heatmap\":[{\"type\":\"heatmap\",\"colorbar\":{\"outlinewidth\":0,\"ticks\":\"\"},\"colorscale\":[[0.0,\"#0d0887\"],[0.1111111111111111,\"#46039f\"],[0.2222222222222222,\"#7201a8\"],[0.3333333333333333,\"#9c179e\"],[0.4444444444444444,\"#bd3786\"],[0.5555555555555556,\"#d8576b\"],[0.6666666666666666,\"#ed7953\"],[0.7777777777777778,\"#fb9f3a\"],[0.8888888888888888,\"#fdca26\"],[1.0,\"#f0f921\"]]}],\"heatmapgl\":[{\"type\":\"heatmapgl\",\"colorbar\":{\"outlinewidth\":0,\"ticks\":\"\"},\"colorscale\":[[0.0,\"#0d0887\"],[0.1111111111111111,\"#46039f\"],[0.2222222222222222,\"#7201a8\"],[0.3333333333333333,\"#9c179e\"],[0.4444444444444444,\"#bd3786\"],[0.5555555555555556,\"#d8576b\"],[0.6666666666666666,\"#ed7953\"],[0.7777777777777778,\"#fb9f3a\"],[0.8888888888888888,\"#fdca26\"],[1.0,\"#f0f921\"]]}],\"contourcarpet\":[{\"type\":\"contourcarpet\",\"colorbar\":{\"outlinewidth\":0,\"ticks\":\"\"}}],\"contour\":[{\"type\":\"contour\",\"colorbar\":{\"outlinewidth\":0,\"ticks\":\"\"},\"colorscale\":[[0.0,\"#0d0887\"],[0.1111111111111111,\"#46039f\"],[0.2222222222222222,\"#7201a8\"],[0.3333333333333333,\"#9c179e\"],[0.4444444444444444,\"#bd3786\"],[0.5555555555555556,\"#d8576b\"],[0.6666666666666666,\"#ed7953\"],[0.7777777777777778,\"#fb9f3a\"],[0.8888888888888888,\"#fdca26\"],[1.0,\"#f0f921\"]]}],\"surface\":[{\"type\":\"surface\",\"colorbar\":{\"outlinewidth\":0,\"ticks\":\"\"},\"colorscale\":[[0.0,\"#0d0887\"],[0.1111111111111111,\"#46039f\"],[0.2222222222222222,\"#7201a8\"],[0.3333333333333333,\"#9c179e\"],[0.4444444444444444,\"#bd3786\"],[0.5555555555555556,\"#d8576b\"],[0.6666666666666666,\"#ed7953\"],[0.7777777777777778,\"#fb9f3a\"],[0.8888888888888888,\"#fdca26\"],[1.0,\"#f0f921\"]]}],\"mesh3d\":[{\"type\":\"mesh3d\",\"colorbar\":{\"outlinewidth\":0,\"ticks\":\"\"}}],\"scatter\":[{\"fillpattern\":{\"fillmode\":\"overlay\",\"size\":10,\"solidity\":0.2},\"type\":\"scatter\"}],\"parcoords\":[{\"type\":\"parcoords\",\"line\":{\"colorbar\":{\"outlinewidth\":0,\"ticks\":\"\"}}}],\"scatterpolargl\":[{\"type\":\"scatterpolargl\",\"marker\":{\"colorbar\":{\"outlinewidth\":0,\"ticks\":\"\"}}}],\"bar\":[{\"error_x\":{\"color\":\"#2a3f5f\"},\"error_y\":{\"color\":\"#2a3f5f\"},\"marker\":{\"line\":{\"color\":\"#E5ECF6\",\"width\":0.5},\"pattern\":{\"fillmode\":\"overlay\",\"size\":10,\"solidity\":0.2}},\"type\":\"bar\"}],\"scattergeo\":[{\"type\":\"scattergeo\",\"marker\":{\"colorbar\":{\"outlinewidth\":0,\"ticks\":\"\"}}}],\"scatterpolar\":[{\"type\":\"scatterpolar\",\"marker\":{\"colorbar\":{\"outlinewidth\":0,\"ticks\":\"\"}}}],\"histogram\":[{\"marker\":{\"pattern\":{\"fillmode\":\"overlay\",\"size\":10,\"solidity\":0.2}},\"type\":\"histogram\"}],\"scattergl\":[{\"type\":\"scattergl\",\"marker\":{\"colorbar\":{\"outlinewidth\":0,\"ticks\":\"\"}}}],\"scatter3d\":[{\"type\":\"scatter3d\",\"line\":{\"colorbar\":{\"outlinewidth\":0,\"ticks\":\"\"}},\"marker\":{\"colorbar\":{\"outlinewidth\":0,\"ticks\":\"\"}}}],\"scattermapbox\":[{\"type\":\"scattermapbox\",\"marker\":{\"colorbar\":{\"outlinewidth\":0,\"ticks\":\"\"}}}],\"scatterternary\":[{\"type\":\"scatterternary\",\"marker\":{\"colorbar\":{\"outlinewidth\":0,\"ticks\":\"\"}}}],\"scattercarpet\":[{\"type\":\"scattercarpet\",\"marker\":{\"colorbar\":{\"outlinewidth\":0,\"ticks\":\"\"}}}],\"carpet\":[{\"aaxis\":{\"endlinecolor\":\"#2a3f5f\",\"gridcolor\":\"white\",\"linecolor\":\"white\",\"minorgridcolor\":\"white\",\"startlinecolor\":\"#2a3f5f\"},\"baxis\":{\"endlinecolor\":\"#2a3f5f\",\"gridcolor\":\"white\",\"linecolor\":\"white\",\"minorgridcolor\":\"white\",\"startlinecolor\":\"#2a3f5f\"},\"type\":\"carpet\"}],\"table\":[{\"cells\":{\"fill\":{\"color\":\"#EBF0F8\"},\"line\":{\"color\":\"white\"}},\"header\":{\"fill\":{\"color\":\"#C8D4E3\"},\"line\":{\"color\":\"white\"}},\"type\":\"table\"}],\"barpolar\":[{\"marker\":{\"line\":{\"color\":\"#E5ECF6\",\"width\":0.5},\"pattern\":{\"fillmode\":\"overlay\",\"size\":10,\"solidity\":0.2}},\"type\":\"barpolar\"}],\"pie\":[{\"automargin\":true,\"type\":\"pie\"}]},\"layout\":{\"autotypenumbers\":\"strict\",\"colorway\":[\"#636efa\",\"#EF553B\",\"#00cc96\",\"#ab63fa\",\"#FFA15A\",\"#19d3f3\",\"#FF6692\",\"#B6E880\",\"#FF97FF\",\"#FECB52\"],\"font\":{\"color\":\"#2a3f5f\"},\"hovermode\":\"closest\",\"hoverlabel\":{\"align\":\"left\"},\"paper_bgcolor\":\"white\",\"plot_bgcolor\":\"#E5ECF6\",\"polar\":{\"bgcolor\":\"#E5ECF6\",\"angularaxis\":{\"gridcolor\":\"white\",\"linecolor\":\"white\",\"ticks\":\"\"},\"radialaxis\":{\"gridcolor\":\"white\",\"linecolor\":\"white\",\"ticks\":\"\"}},\"ternary\":{\"bgcolor\":\"#E5ECF6\",\"aaxis\":{\"gridcolor\":\"white\",\"linecolor\":\"white\",\"ticks\":\"\"},\"baxis\":{\"gridcolor\":\"white\",\"linecolor\":\"white\",\"ticks\":\"\"},\"caxis\":{\"gridcolor\":\"white\",\"linecolor\":\"white\",\"ticks\":\"\"}},\"coloraxis\":{\"colorbar\":{\"outlinewidth\":0,\"ticks\":\"\"}},\"colorscale\":{\"sequential\":[[0.0,\"#0d0887\"],[0.1111111111111111,\"#46039f\"],[0.2222222222222222,\"#7201a8\"],[0.3333333333333333,\"#9c179e\"],[0.4444444444444444,\"#bd3786\"],[0.5555555555555556,\"#d8576b\"],[0.6666666666666666,\"#ed7953\"],[0.7777777777777778,\"#fb9f3a\"],[0.8888888888888888,\"#fdca26\"],[1.0,\"#f0f921\"]],\"sequentialminus\":[[0.0,\"#0d0887\"],[0.1111111111111111,\"#46039f\"],[0.2222222222222222,\"#7201a8\"],[0.3333333333333333,\"#9c179e\"],[0.4444444444444444,\"#bd3786\"],[0.5555555555555556,\"#d8576b\"],[0.6666666666666666,\"#ed7953\"],[0.7777777777777778,\"#fb9f3a\"],[0.8888888888888888,\"#fdca26\"],[1.0,\"#f0f921\"]],\"diverging\":[[0,\"#8e0152\"],[0.1,\"#c51b7d\"],[0.2,\"#de77ae\"],[0.3,\"#f1b6da\"],[0.4,\"#fde0ef\"],[0.5,\"#f7f7f7\"],[0.6,\"#e6f5d0\"],[0.7,\"#b8e186\"],[0.8,\"#7fbc41\"],[0.9,\"#4d9221\"],[1,\"#276419\"]]},\"xaxis\":{\"gridcolor\":\"white\",\"linecolor\":\"white\",\"ticks\":\"\",\"title\":{\"standoff\":15},\"zerolinecolor\":\"white\",\"automargin\":true,\"zerolinewidth\":2},\"yaxis\":{\"gridcolor\":\"white\",\"linecolor\":\"white\",\"ticks\":\"\",\"title\":{\"standoff\":15},\"zerolinecolor\":\"white\",\"automargin\":true,\"zerolinewidth\":2},\"scene\":{\"xaxis\":{\"backgroundcolor\":\"#E5ECF6\",\"gridcolor\":\"white\",\"linecolor\":\"white\",\"showbackground\":true,\"ticks\":\"\",\"zerolinecolor\":\"white\",\"gridwidth\":2},\"yaxis\":{\"backgroundcolor\":\"#E5ECF6\",\"gridcolor\":\"white\",\"linecolor\":\"white\",\"showbackground\":true,\"ticks\":\"\",\"zerolinecolor\":\"white\",\"gridwidth\":2},\"zaxis\":{\"backgroundcolor\":\"#E5ECF6\",\"gridcolor\":\"white\",\"linecolor\":\"white\",\"showbackground\":true,\"ticks\":\"\",\"zerolinecolor\":\"white\",\"gridwidth\":2}},\"shapedefaults\":{\"line\":{\"color\":\"#2a3f5f\"}},\"annotationdefaults\":{\"arrowcolor\":\"#2a3f5f\",\"arrowhead\":0,\"arrowwidth\":1},\"geo\":{\"bgcolor\":\"white\",\"landcolor\":\"#E5ECF6\",\"subunitcolor\":\"white\",\"showland\":true,\"showlakes\":true,\"lakecolor\":\"white\"},\"title\":{\"x\":0.05},\"mapbox\":{\"style\":\"light\"}}},\"geo\":{\"domain\":{\"x\":[0.0,1.0],\"y\":[0.0,1.0]},\"center\":{}},\"coloraxis\":{\"colorbar\":{\"title\":{\"text\":\"release_count\",\"font\":{\"size\":1}},\"tickfont\":{\"size\":30,\"color\":\"black\"},\"nticks\":6,\"orientation\":\"h\",\"len\":1,\"y\":0.06,\"tickangle\":0},\"colorscale\":[[0.0,\"#0d0887\"],[0.1111111111111111,\"#46039f\"],[0.2222222222222222,\"#7201a8\"],[0.3333333333333333,\"#9c179e\"],[0.4444444444444444,\"#bd3786\"],[0.5555555555555556,\"#d8576b\"],[0.6666666666666666,\"#ed7953\"],[0.7777777777777778,\"#fb9f3a\"],[0.8888888888888888,\"#fdca26\"],[1.0,\"#f0f921\"]],\"cmin\":16.44477680625863,\"cmax\":49.33433041877589},\"legend\":{\"tracegroupgap\":0},\"margin\":{\"t\":60},\"width\":800,\"height\":600},                        {\"responsive\": true}                    ).then(function(){\n",
       "                            \n",
       "var gd = document.getElementById('9f76d0a3-df05-4a43-a566-3140ebd78e5b');\n",
       "var x = new MutationObserver(function (mutations, observer) {{\n",
       "        var display = window.getComputedStyle(gd).display;\n",
       "        if (!display || display === 'none') {{\n",
       "            console.log([gd, 'removed!']);\n",
       "            Plotly.purge(gd);\n",
       "            observer.disconnect();\n",
       "        }}\n",
       "}});\n",
       "\n",
       "// Listen for the removal of the full notebook cells\n",
       "var notebookContainer = gd.closest('#notebook-container');\n",
       "if (notebookContainer) {{\n",
       "    x.observe(notebookContainer, {childList: true});\n",
       "}}\n",
       "\n",
       "// Listen for the clearing of the current output cell\n",
       "var outputEl = gd.closest('.output');\n",
       "if (outputEl) {{\n",
       "    x.observe(outputEl, {childList: true});\n",
       "}}\n",
       "\n",
       "                        })                };                });            </script>        </div>"
      ]
     },
     "metadata": {},
     "output_type": "display_data"
    },
    {
     "name": "stdout",
     "output_type": "stream",
     "text": [
      "Avg: 32.88955361251726\n"
     ]
    }
   ],
   "source": [
    "import pandas as pd\n",
    "import numpy as np\n",
    "import io\n",
    "import plotly.express as px\n",
    "import plotly.graph_objects as go\n",
    "\n",
    "p = 'release_count'\n",
    "\n",
    "values_to_plot = df_final_samsung_monthly.groupby(['iso_code'])[p].mean().sort_values(ascending=True)\n",
    "avg = values_to_plot.median()\n",
    "\n",
    "df_plot = pd.DataFrame(values_to_plot.values,columns=[p])\n",
    "df_plot['country_code'] = values_to_plot.index\n",
    "\n",
    "fig = px.choropleth(df_plot, locations=\"country_code\",\n",
    "                    locationmode='ISO-3',\n",
    "                    color= p,\n",
    "                    hover_name=\"country_code\",\n",
    "                    color_continuous_scale=px.colors.sequential.Plasma,\n",
    "                    range_color=(0.5*avg,1.5*avg),\n",
    "                    #labels={p:'Count'}\n",
    "                   )\n",
    "\n",
    "fig.update_layout(\n",
    "        width=800,\n",
    "        height=600,\n",
    "        coloraxis=dict(\n",
    "            colorbar_nticks=6,\n",
    "            colorbar_orientation='h',\n",
    "            #colorbar_borderwidth = 2,\n",
    "            colorbar_len=1,\n",
    "            colorbar_y=+0.06,\n",
    "            #colorbar_ticksuffix='days',\n",
    "            colorbar_title_font_size=1,\n",
    "            colorbar=dict(\n",
    "                #title_side='bottom',\n",
    "                tickangle=0,\n",
    "                tickfont=dict(size=30, color='black'))\n",
    "            )\n",
    ")\n",
    "\n",
    "layout = go.Layout(\n",
    "  margin=go.layout.Margin(\n",
    "        l=0, #left margin\n",
    "        r=0, #right margin\n",
    "        b=0, #bottom margin\n",
    "        t=0  #top margin\n",
    "    )\n",
    ")\n",
    "\n",
    "\n",
    "fig.show()\n",
    "\n",
    "fig.write_image(\"../Results/geolocation_monthly_count.pdf\")\n",
    "\n",
    "fig.write_html(\"../Results/InteractiveFigures/geolocation_monthly_count.html\",full_html=False, include_plotlyjs='cdn')\n",
    "\n",
    "print('Avg: {}'.format(avg))\n"
   ]
  },
  {
   "cell_type": "markdown",
   "id": "70ee53a9",
   "metadata": {},
   "source": [
    "### Support Duration"
   ]
  },
  {
   "cell_type": "code",
   "execution_count": 170,
   "id": "823b3aea",
   "metadata": {},
   "outputs": [
    {
     "data": {
      "application/vnd.plotly.v1+json": {
       "config": {
        "plotlyServerURL": "https://plot.ly"
       },
       "data": [
        {
         "coloraxis": "coloraxis",
         "geo": "geo",
         "hovertemplate": "<b>%{hovertext}</b><br><br>country_code=%{location}<br>release_date_duration=%{z}<extra></extra>",
         "hovertext": [
          "CYP",
          "ECU",
          "PNG",
          "DOM",
          "JAM",
          "GTM",
          "FJI",
          "HND",
          "CRI",
          "NPL",
          "BRA",
          "SLV",
          "BOL",
          "PAN",
          "PRI",
          "ROU",
          "ISR",
          "ARG",
          "PRY",
          "MEX",
          "TTO",
          "COL",
          "CHL",
          "USA",
          "PER",
          "EGY",
          "SGP",
          "URY",
          "CAN",
          "PHL",
          "FRA",
          "TUR",
          "VNM",
          "POL",
          "MAR",
          "LKA",
          "NLD",
          "AUS",
          "IRL",
          "GBR",
          "DEU",
          "CHN",
          "GRC",
          "NZL",
          "BIH",
          "SAU",
          "AUT",
          "THA",
          "CHE",
          "UKR",
          "KOR",
          "HRV",
          "IRN",
          "TWN",
          "SVN",
          "KAZ",
          "SRB",
          "HKG",
          "ZAF",
          "RUS",
          "UZB",
          "KEN",
          "PAK",
          "MKD",
          "KHM",
          "SVK",
          "IRQ",
          "IDN",
          "AFG",
          "MYS",
          "LBY",
          "NGA",
          "BGR",
          "ESP",
          "HUN",
          "TUN",
          "IND",
          "ITA",
          "PRT",
          "CZE",
          "ARE",
          "BGD",
          "NOR",
          "LUX",
          "SWE",
          "BEL"
         ],
         "locationmode": "ISO-3",
         "locations": [
          "CYP",
          "ECU",
          "PNG",
          "DOM",
          "JAM",
          "GTM",
          "FJI",
          "HND",
          "CRI",
          "NPL",
          "BRA",
          "SLV",
          "BOL",
          "PAN",
          "PRI",
          "ROU",
          "ISR",
          "ARG",
          "PRY",
          "MEX",
          "TTO",
          "COL",
          "CHL",
          "USA",
          "PER",
          "EGY",
          "SGP",
          "URY",
          "CAN",
          "PHL",
          "FRA",
          "TUR",
          "VNM",
          "POL",
          "MAR",
          "LKA",
          "NLD",
          "AUS",
          "IRL",
          "GBR",
          "DEU",
          "CHN",
          "GRC",
          "NZL",
          "BIH",
          "SAU",
          "AUT",
          "THA",
          "CHE",
          "UKR",
          "KOR",
          "HRV",
          "IRN",
          "TWN",
          "SVN",
          "KAZ",
          "SRB",
          "HKG",
          "ZAF",
          "RUS",
          "UZB",
          "KEN",
          "PAK",
          "MKD",
          "KHM",
          "SVK",
          "IRQ",
          "IDN",
          "AFG",
          "MYS",
          "LBY",
          "NGA",
          "BGR",
          "ESP",
          "HUN",
          "TUN",
          "IND",
          "ITA",
          "PRT",
          "CZE",
          "ARE",
          "BGD",
          "NOR",
          "LUX",
          "SWE",
          "BEL"
         ],
         "name": "",
         "type": "choropleth",
         "z": [
          827,
          849,
          873,
          880,
          883,
          893,
          894,
          897,
          901,
          903,
          904,
          908,
          912,
          920,
          931,
          941,
          953,
          960,
          968,
          969,
          974,
          978,
          978,
          981,
          983,
          987,
          991,
          995,
          998,
          1001,
          1002,
          1002,
          1003,
          1004,
          1004,
          1004,
          1005,
          1007,
          1007,
          1009,
          1009,
          1009,
          1012,
          1013,
          1013,
          1013,
          1014,
          1014,
          1016,
          1016,
          1017,
          1019,
          1021,
          1022,
          1022,
          1023,
          1023,
          1023,
          1023,
          1024,
          1024,
          1025,
          1025,
          1026,
          1026,
          1026,
          1027,
          1027,
          1029,
          1029,
          1029,
          1030,
          1030,
          1030,
          1030,
          1031,
          1031,
          1032,
          1032,
          1036,
          1039,
          1040,
          1040,
          1042,
          1057,
          1067
         ]
        }
       ],
       "layout": {
        "coloraxis": {
         "cmax": 1518.75,
         "cmin": 506.25,
         "colorbar": {
          "len": 1,
          "nticks": 6,
          "orientation": "h",
          "tickangle": 0,
          "tickfont": {
           "color": "black",
           "size": 30
          },
          "title": {
           "font": {
            "size": 1
           },
           "text": "release_date_duration"
          },
          "y": 0.06
         },
         "colorscale": [
          [
           0,
           "#0d0887"
          ],
          [
           0.1111111111111111,
           "#46039f"
          ],
          [
           0.2222222222222222,
           "#7201a8"
          ],
          [
           0.3333333333333333,
           "#9c179e"
          ],
          [
           0.4444444444444444,
           "#bd3786"
          ],
          [
           0.5555555555555556,
           "#d8576b"
          ],
          [
           0.6666666666666666,
           "#ed7953"
          ],
          [
           0.7777777777777778,
           "#fb9f3a"
          ],
          [
           0.8888888888888888,
           "#fdca26"
          ],
          [
           1,
           "#f0f921"
          ]
         ]
        },
        "geo": {
         "center": {},
         "domain": {
          "x": [
           0,
           1
          ],
          "y": [
           0,
           1
          ]
         }
        },
        "height": 600,
        "legend": {
         "tracegroupgap": 0
        },
        "margin": {
         "t": 60
        },
        "template": {
         "data": {
          "bar": [
           {
            "error_x": {
             "color": "#2a3f5f"
            },
            "error_y": {
             "color": "#2a3f5f"
            },
            "marker": {
             "line": {
              "color": "#E5ECF6",
              "width": 0.5
             },
             "pattern": {
              "fillmode": "overlay",
              "size": 10,
              "solidity": 0.2
             }
            },
            "type": "bar"
           }
          ],
          "barpolar": [
           {
            "marker": {
             "line": {
              "color": "#E5ECF6",
              "width": 0.5
             },
             "pattern": {
              "fillmode": "overlay",
              "size": 10,
              "solidity": 0.2
             }
            },
            "type": "barpolar"
           }
          ],
          "carpet": [
           {
            "aaxis": {
             "endlinecolor": "#2a3f5f",
             "gridcolor": "white",
             "linecolor": "white",
             "minorgridcolor": "white",
             "startlinecolor": "#2a3f5f"
            },
            "baxis": {
             "endlinecolor": "#2a3f5f",
             "gridcolor": "white",
             "linecolor": "white",
             "minorgridcolor": "white",
             "startlinecolor": "#2a3f5f"
            },
            "type": "carpet"
           }
          ],
          "choropleth": [
           {
            "colorbar": {
             "outlinewidth": 0,
             "ticks": ""
            },
            "type": "choropleth"
           }
          ],
          "contour": [
           {
            "colorbar": {
             "outlinewidth": 0,
             "ticks": ""
            },
            "colorscale": [
             [
              0,
              "#0d0887"
             ],
             [
              0.1111111111111111,
              "#46039f"
             ],
             [
              0.2222222222222222,
              "#7201a8"
             ],
             [
              0.3333333333333333,
              "#9c179e"
             ],
             [
              0.4444444444444444,
              "#bd3786"
             ],
             [
              0.5555555555555556,
              "#d8576b"
             ],
             [
              0.6666666666666666,
              "#ed7953"
             ],
             [
              0.7777777777777778,
              "#fb9f3a"
             ],
             [
              0.8888888888888888,
              "#fdca26"
             ],
             [
              1,
              "#f0f921"
             ]
            ],
            "type": "contour"
           }
          ],
          "contourcarpet": [
           {
            "colorbar": {
             "outlinewidth": 0,
             "ticks": ""
            },
            "type": "contourcarpet"
           }
          ],
          "heatmap": [
           {
            "colorbar": {
             "outlinewidth": 0,
             "ticks": ""
            },
            "colorscale": [
             [
              0,
              "#0d0887"
             ],
             [
              0.1111111111111111,
              "#46039f"
             ],
             [
              0.2222222222222222,
              "#7201a8"
             ],
             [
              0.3333333333333333,
              "#9c179e"
             ],
             [
              0.4444444444444444,
              "#bd3786"
             ],
             [
              0.5555555555555556,
              "#d8576b"
             ],
             [
              0.6666666666666666,
              "#ed7953"
             ],
             [
              0.7777777777777778,
              "#fb9f3a"
             ],
             [
              0.8888888888888888,
              "#fdca26"
             ],
             [
              1,
              "#f0f921"
             ]
            ],
            "type": "heatmap"
           }
          ],
          "heatmapgl": [
           {
            "colorbar": {
             "outlinewidth": 0,
             "ticks": ""
            },
            "colorscale": [
             [
              0,
              "#0d0887"
             ],
             [
              0.1111111111111111,
              "#46039f"
             ],
             [
              0.2222222222222222,
              "#7201a8"
             ],
             [
              0.3333333333333333,
              "#9c179e"
             ],
             [
              0.4444444444444444,
              "#bd3786"
             ],
             [
              0.5555555555555556,
              "#d8576b"
             ],
             [
              0.6666666666666666,
              "#ed7953"
             ],
             [
              0.7777777777777778,
              "#fb9f3a"
             ],
             [
              0.8888888888888888,
              "#fdca26"
             ],
             [
              1,
              "#f0f921"
             ]
            ],
            "type": "heatmapgl"
           }
          ],
          "histogram": [
           {
            "marker": {
             "pattern": {
              "fillmode": "overlay",
              "size": 10,
              "solidity": 0.2
             }
            },
            "type": "histogram"
           }
          ],
          "histogram2d": [
           {
            "colorbar": {
             "outlinewidth": 0,
             "ticks": ""
            },
            "colorscale": [
             [
              0,
              "#0d0887"
             ],
             [
              0.1111111111111111,
              "#46039f"
             ],
             [
              0.2222222222222222,
              "#7201a8"
             ],
             [
              0.3333333333333333,
              "#9c179e"
             ],
             [
              0.4444444444444444,
              "#bd3786"
             ],
             [
              0.5555555555555556,
              "#d8576b"
             ],
             [
              0.6666666666666666,
              "#ed7953"
             ],
             [
              0.7777777777777778,
              "#fb9f3a"
             ],
             [
              0.8888888888888888,
              "#fdca26"
             ],
             [
              1,
              "#f0f921"
             ]
            ],
            "type": "histogram2d"
           }
          ],
          "histogram2dcontour": [
           {
            "colorbar": {
             "outlinewidth": 0,
             "ticks": ""
            },
            "colorscale": [
             [
              0,
              "#0d0887"
             ],
             [
              0.1111111111111111,
              "#46039f"
             ],
             [
              0.2222222222222222,
              "#7201a8"
             ],
             [
              0.3333333333333333,
              "#9c179e"
             ],
             [
              0.4444444444444444,
              "#bd3786"
             ],
             [
              0.5555555555555556,
              "#d8576b"
             ],
             [
              0.6666666666666666,
              "#ed7953"
             ],
             [
              0.7777777777777778,
              "#fb9f3a"
             ],
             [
              0.8888888888888888,
              "#fdca26"
             ],
             [
              1,
              "#f0f921"
             ]
            ],
            "type": "histogram2dcontour"
           }
          ],
          "mesh3d": [
           {
            "colorbar": {
             "outlinewidth": 0,
             "ticks": ""
            },
            "type": "mesh3d"
           }
          ],
          "parcoords": [
           {
            "line": {
             "colorbar": {
              "outlinewidth": 0,
              "ticks": ""
             }
            },
            "type": "parcoords"
           }
          ],
          "pie": [
           {
            "automargin": true,
            "type": "pie"
           }
          ],
          "scatter": [
           {
            "fillpattern": {
             "fillmode": "overlay",
             "size": 10,
             "solidity": 0.2
            },
            "type": "scatter"
           }
          ],
          "scatter3d": [
           {
            "line": {
             "colorbar": {
              "outlinewidth": 0,
              "ticks": ""
             }
            },
            "marker": {
             "colorbar": {
              "outlinewidth": 0,
              "ticks": ""
             }
            },
            "type": "scatter3d"
           }
          ],
          "scattercarpet": [
           {
            "marker": {
             "colorbar": {
              "outlinewidth": 0,
              "ticks": ""
             }
            },
            "type": "scattercarpet"
           }
          ],
          "scattergeo": [
           {
            "marker": {
             "colorbar": {
              "outlinewidth": 0,
              "ticks": ""
             }
            },
            "type": "scattergeo"
           }
          ],
          "scattergl": [
           {
            "marker": {
             "colorbar": {
              "outlinewidth": 0,
              "ticks": ""
             }
            },
            "type": "scattergl"
           }
          ],
          "scattermapbox": [
           {
            "marker": {
             "colorbar": {
              "outlinewidth": 0,
              "ticks": ""
             }
            },
            "type": "scattermapbox"
           }
          ],
          "scatterpolar": [
           {
            "marker": {
             "colorbar": {
              "outlinewidth": 0,
              "ticks": ""
             }
            },
            "type": "scatterpolar"
           }
          ],
          "scatterpolargl": [
           {
            "marker": {
             "colorbar": {
              "outlinewidth": 0,
              "ticks": ""
             }
            },
            "type": "scatterpolargl"
           }
          ],
          "scatterternary": [
           {
            "marker": {
             "colorbar": {
              "outlinewidth": 0,
              "ticks": ""
             }
            },
            "type": "scatterternary"
           }
          ],
          "surface": [
           {
            "colorbar": {
             "outlinewidth": 0,
             "ticks": ""
            },
            "colorscale": [
             [
              0,
              "#0d0887"
             ],
             [
              0.1111111111111111,
              "#46039f"
             ],
             [
              0.2222222222222222,
              "#7201a8"
             ],
             [
              0.3333333333333333,
              "#9c179e"
             ],
             [
              0.4444444444444444,
              "#bd3786"
             ],
             [
              0.5555555555555556,
              "#d8576b"
             ],
             [
              0.6666666666666666,
              "#ed7953"
             ],
             [
              0.7777777777777778,
              "#fb9f3a"
             ],
             [
              0.8888888888888888,
              "#fdca26"
             ],
             [
              1,
              "#f0f921"
             ]
            ],
            "type": "surface"
           }
          ],
          "table": [
           {
            "cells": {
             "fill": {
              "color": "#EBF0F8"
             },
             "line": {
              "color": "white"
             }
            },
            "header": {
             "fill": {
              "color": "#C8D4E3"
             },
             "line": {
              "color": "white"
             }
            },
            "type": "table"
           }
          ]
         },
         "layout": {
          "annotationdefaults": {
           "arrowcolor": "#2a3f5f",
           "arrowhead": 0,
           "arrowwidth": 1
          },
          "autotypenumbers": "strict",
          "coloraxis": {
           "colorbar": {
            "outlinewidth": 0,
            "ticks": ""
           }
          },
          "colorscale": {
           "diverging": [
            [
             0,
             "#8e0152"
            ],
            [
             0.1,
             "#c51b7d"
            ],
            [
             0.2,
             "#de77ae"
            ],
            [
             0.3,
             "#f1b6da"
            ],
            [
             0.4,
             "#fde0ef"
            ],
            [
             0.5,
             "#f7f7f7"
            ],
            [
             0.6,
             "#e6f5d0"
            ],
            [
             0.7,
             "#b8e186"
            ],
            [
             0.8,
             "#7fbc41"
            ],
            [
             0.9,
             "#4d9221"
            ],
            [
             1,
             "#276419"
            ]
           ],
           "sequential": [
            [
             0,
             "#0d0887"
            ],
            [
             0.1111111111111111,
             "#46039f"
            ],
            [
             0.2222222222222222,
             "#7201a8"
            ],
            [
             0.3333333333333333,
             "#9c179e"
            ],
            [
             0.4444444444444444,
             "#bd3786"
            ],
            [
             0.5555555555555556,
             "#d8576b"
            ],
            [
             0.6666666666666666,
             "#ed7953"
            ],
            [
             0.7777777777777778,
             "#fb9f3a"
            ],
            [
             0.8888888888888888,
             "#fdca26"
            ],
            [
             1,
             "#f0f921"
            ]
           ],
           "sequentialminus": [
            [
             0,
             "#0d0887"
            ],
            [
             0.1111111111111111,
             "#46039f"
            ],
            [
             0.2222222222222222,
             "#7201a8"
            ],
            [
             0.3333333333333333,
             "#9c179e"
            ],
            [
             0.4444444444444444,
             "#bd3786"
            ],
            [
             0.5555555555555556,
             "#d8576b"
            ],
            [
             0.6666666666666666,
             "#ed7953"
            ],
            [
             0.7777777777777778,
             "#fb9f3a"
            ],
            [
             0.8888888888888888,
             "#fdca26"
            ],
            [
             1,
             "#f0f921"
            ]
           ]
          },
          "colorway": [
           "#636efa",
           "#EF553B",
           "#00cc96",
           "#ab63fa",
           "#FFA15A",
           "#19d3f3",
           "#FF6692",
           "#B6E880",
           "#FF97FF",
           "#FECB52"
          ],
          "font": {
           "color": "#2a3f5f"
          },
          "geo": {
           "bgcolor": "white",
           "lakecolor": "white",
           "landcolor": "#E5ECF6",
           "showlakes": true,
           "showland": true,
           "subunitcolor": "white"
          },
          "hoverlabel": {
           "align": "left"
          },
          "hovermode": "closest",
          "mapbox": {
           "style": "light"
          },
          "paper_bgcolor": "white",
          "plot_bgcolor": "#E5ECF6",
          "polar": {
           "angularaxis": {
            "gridcolor": "white",
            "linecolor": "white",
            "ticks": ""
           },
           "bgcolor": "#E5ECF6",
           "radialaxis": {
            "gridcolor": "white",
            "linecolor": "white",
            "ticks": ""
           }
          },
          "scene": {
           "xaxis": {
            "backgroundcolor": "#E5ECF6",
            "gridcolor": "white",
            "gridwidth": 2,
            "linecolor": "white",
            "showbackground": true,
            "ticks": "",
            "zerolinecolor": "white"
           },
           "yaxis": {
            "backgroundcolor": "#E5ECF6",
            "gridcolor": "white",
            "gridwidth": 2,
            "linecolor": "white",
            "showbackground": true,
            "ticks": "",
            "zerolinecolor": "white"
           },
           "zaxis": {
            "backgroundcolor": "#E5ECF6",
            "gridcolor": "white",
            "gridwidth": 2,
            "linecolor": "white",
            "showbackground": true,
            "ticks": "",
            "zerolinecolor": "white"
           }
          },
          "shapedefaults": {
           "line": {
            "color": "#2a3f5f"
           }
          },
          "ternary": {
           "aaxis": {
            "gridcolor": "white",
            "linecolor": "white",
            "ticks": ""
           },
           "baxis": {
            "gridcolor": "white",
            "linecolor": "white",
            "ticks": ""
           },
           "bgcolor": "#E5ECF6",
           "caxis": {
            "gridcolor": "white",
            "linecolor": "white",
            "ticks": ""
           }
          },
          "title": {
           "x": 0.05
          },
          "xaxis": {
           "automargin": true,
           "gridcolor": "white",
           "linecolor": "white",
           "ticks": "",
           "title": {
            "standoff": 15
           },
           "zerolinecolor": "white",
           "zerolinewidth": 2
          },
          "yaxis": {
           "automargin": true,
           "gridcolor": "white",
           "linecolor": "white",
           "ticks": "",
           "title": {
            "standoff": 15
           },
           "zerolinecolor": "white",
           "zerolinewidth": 2
          }
         }
        },
        "width": 800
       }
      },
      "text/html": [
       "<div>                            <div id=\"2e2cf57a-d3a8-400a-8ce0-2caef4a7450a\" class=\"plotly-graph-div\" style=\"height:600px; width:800px;\"></div>            <script type=\"text/javascript\">                require([\"plotly\"], function(Plotly) {                    window.PLOTLYENV=window.PLOTLYENV || {};                                    if (document.getElementById(\"2e2cf57a-d3a8-400a-8ce0-2caef4a7450a\")) {                    Plotly.newPlot(                        \"2e2cf57a-d3a8-400a-8ce0-2caef4a7450a\",                        [{\"coloraxis\":\"coloraxis\",\"geo\":\"geo\",\"hovertemplate\":\"<b>%{hovertext}</b><br><br>country_code=%{location}<br>release_date_duration=%{z}<extra></extra>\",\"hovertext\":[\"CYP\",\"ECU\",\"PNG\",\"DOM\",\"JAM\",\"GTM\",\"FJI\",\"HND\",\"CRI\",\"NPL\",\"BRA\",\"SLV\",\"BOL\",\"PAN\",\"PRI\",\"ROU\",\"ISR\",\"ARG\",\"PRY\",\"MEX\",\"TTO\",\"COL\",\"CHL\",\"USA\",\"PER\",\"EGY\",\"SGP\",\"URY\",\"CAN\",\"PHL\",\"FRA\",\"TUR\",\"VNM\",\"POL\",\"MAR\",\"LKA\",\"NLD\",\"AUS\",\"IRL\",\"GBR\",\"DEU\",\"CHN\",\"GRC\",\"NZL\",\"BIH\",\"SAU\",\"AUT\",\"THA\",\"CHE\",\"UKR\",\"KOR\",\"HRV\",\"IRN\",\"TWN\",\"SVN\",\"KAZ\",\"SRB\",\"HKG\",\"ZAF\",\"RUS\",\"UZB\",\"KEN\",\"PAK\",\"MKD\",\"KHM\",\"SVK\",\"IRQ\",\"IDN\",\"AFG\",\"MYS\",\"LBY\",\"NGA\",\"BGR\",\"ESP\",\"HUN\",\"TUN\",\"IND\",\"ITA\",\"PRT\",\"CZE\",\"ARE\",\"BGD\",\"NOR\",\"LUX\",\"SWE\",\"BEL\"],\"locationmode\":\"ISO-3\",\"locations\":[\"CYP\",\"ECU\",\"PNG\",\"DOM\",\"JAM\",\"GTM\",\"FJI\",\"HND\",\"CRI\",\"NPL\",\"BRA\",\"SLV\",\"BOL\",\"PAN\",\"PRI\",\"ROU\",\"ISR\",\"ARG\",\"PRY\",\"MEX\",\"TTO\",\"COL\",\"CHL\",\"USA\",\"PER\",\"EGY\",\"SGP\",\"URY\",\"CAN\",\"PHL\",\"FRA\",\"TUR\",\"VNM\",\"POL\",\"MAR\",\"LKA\",\"NLD\",\"AUS\",\"IRL\",\"GBR\",\"DEU\",\"CHN\",\"GRC\",\"NZL\",\"BIH\",\"SAU\",\"AUT\",\"THA\",\"CHE\",\"UKR\",\"KOR\",\"HRV\",\"IRN\",\"TWN\",\"SVN\",\"KAZ\",\"SRB\",\"HKG\",\"ZAF\",\"RUS\",\"UZB\",\"KEN\",\"PAK\",\"MKD\",\"KHM\",\"SVK\",\"IRQ\",\"IDN\",\"AFG\",\"MYS\",\"LBY\",\"NGA\",\"BGR\",\"ESP\",\"HUN\",\"TUN\",\"IND\",\"ITA\",\"PRT\",\"CZE\",\"ARE\",\"BGD\",\"NOR\",\"LUX\",\"SWE\",\"BEL\"],\"name\":\"\",\"z\":[827,849,873,880,883,893,894,897,901,903,904,908,912,920,931,941,953,960,968,969,974,978,978,981,983,987,991,995,998,1001,1002,1002,1003,1004,1004,1004,1005,1007,1007,1009,1009,1009,1012,1013,1013,1013,1014,1014,1016,1016,1017,1019,1021,1022,1022,1023,1023,1023,1023,1024,1024,1025,1025,1026,1026,1026,1027,1027,1029,1029,1029,1030,1030,1030,1030,1031,1031,1032,1032,1036,1039,1040,1040,1042,1057,1067],\"type\":\"choropleth\"}],                        {\"template\":{\"data\":{\"histogram2dcontour\":[{\"type\":\"histogram2dcontour\",\"colorbar\":{\"outlinewidth\":0,\"ticks\":\"\"},\"colorscale\":[[0.0,\"#0d0887\"],[0.1111111111111111,\"#46039f\"],[0.2222222222222222,\"#7201a8\"],[0.3333333333333333,\"#9c179e\"],[0.4444444444444444,\"#bd3786\"],[0.5555555555555556,\"#d8576b\"],[0.6666666666666666,\"#ed7953\"],[0.7777777777777778,\"#fb9f3a\"],[0.8888888888888888,\"#fdca26\"],[1.0,\"#f0f921\"]]}],\"choropleth\":[{\"type\":\"choropleth\",\"colorbar\":{\"outlinewidth\":0,\"ticks\":\"\"}}],\"histogram2d\":[{\"type\":\"histogram2d\",\"colorbar\":{\"outlinewidth\":0,\"ticks\":\"\"},\"colorscale\":[[0.0,\"#0d0887\"],[0.1111111111111111,\"#46039f\"],[0.2222222222222222,\"#7201a8\"],[0.3333333333333333,\"#9c179e\"],[0.4444444444444444,\"#bd3786\"],[0.5555555555555556,\"#d8576b\"],[0.6666666666666666,\"#ed7953\"],[0.7777777777777778,\"#fb9f3a\"],[0.8888888888888888,\"#fdca26\"],[1.0,\"#f0f921\"]]}],\"heatmap\":[{\"type\":\"heatmap\",\"colorbar\":{\"outlinewidth\":0,\"ticks\":\"\"},\"colorscale\":[[0.0,\"#0d0887\"],[0.1111111111111111,\"#46039f\"],[0.2222222222222222,\"#7201a8\"],[0.3333333333333333,\"#9c179e\"],[0.4444444444444444,\"#bd3786\"],[0.5555555555555556,\"#d8576b\"],[0.6666666666666666,\"#ed7953\"],[0.7777777777777778,\"#fb9f3a\"],[0.8888888888888888,\"#fdca26\"],[1.0,\"#f0f921\"]]}],\"heatmapgl\":[{\"type\":\"heatmapgl\",\"colorbar\":{\"outlinewidth\":0,\"ticks\":\"\"},\"colorscale\":[[0.0,\"#0d0887\"],[0.1111111111111111,\"#46039f\"],[0.2222222222222222,\"#7201a8\"],[0.3333333333333333,\"#9c179e\"],[0.4444444444444444,\"#bd3786\"],[0.5555555555555556,\"#d8576b\"],[0.6666666666666666,\"#ed7953\"],[0.7777777777777778,\"#fb9f3a\"],[0.8888888888888888,\"#fdca26\"],[1.0,\"#f0f921\"]]}],\"contourcarpet\":[{\"type\":\"contourcarpet\",\"colorbar\":{\"outlinewidth\":0,\"ticks\":\"\"}}],\"contour\":[{\"type\":\"contour\",\"colorbar\":{\"outlinewidth\":0,\"ticks\":\"\"},\"colorscale\":[[0.0,\"#0d0887\"],[0.1111111111111111,\"#46039f\"],[0.2222222222222222,\"#7201a8\"],[0.3333333333333333,\"#9c179e\"],[0.4444444444444444,\"#bd3786\"],[0.5555555555555556,\"#d8576b\"],[0.6666666666666666,\"#ed7953\"],[0.7777777777777778,\"#fb9f3a\"],[0.8888888888888888,\"#fdca26\"],[1.0,\"#f0f921\"]]}],\"surface\":[{\"type\":\"surface\",\"colorbar\":{\"outlinewidth\":0,\"ticks\":\"\"},\"colorscale\":[[0.0,\"#0d0887\"],[0.1111111111111111,\"#46039f\"],[0.2222222222222222,\"#7201a8\"],[0.3333333333333333,\"#9c179e\"],[0.4444444444444444,\"#bd3786\"],[0.5555555555555556,\"#d8576b\"],[0.6666666666666666,\"#ed7953\"],[0.7777777777777778,\"#fb9f3a\"],[0.8888888888888888,\"#fdca26\"],[1.0,\"#f0f921\"]]}],\"mesh3d\":[{\"type\":\"mesh3d\",\"colorbar\":{\"outlinewidth\":0,\"ticks\":\"\"}}],\"scatter\":[{\"fillpattern\":{\"fillmode\":\"overlay\",\"size\":10,\"solidity\":0.2},\"type\":\"scatter\"}],\"parcoords\":[{\"type\":\"parcoords\",\"line\":{\"colorbar\":{\"outlinewidth\":0,\"ticks\":\"\"}}}],\"scatterpolargl\":[{\"type\":\"scatterpolargl\",\"marker\":{\"colorbar\":{\"outlinewidth\":0,\"ticks\":\"\"}}}],\"bar\":[{\"error_x\":{\"color\":\"#2a3f5f\"},\"error_y\":{\"color\":\"#2a3f5f\"},\"marker\":{\"line\":{\"color\":\"#E5ECF6\",\"width\":0.5},\"pattern\":{\"fillmode\":\"overlay\",\"size\":10,\"solidity\":0.2}},\"type\":\"bar\"}],\"scattergeo\":[{\"type\":\"scattergeo\",\"marker\":{\"colorbar\":{\"outlinewidth\":0,\"ticks\":\"\"}}}],\"scatterpolar\":[{\"type\":\"scatterpolar\",\"marker\":{\"colorbar\":{\"outlinewidth\":0,\"ticks\":\"\"}}}],\"histogram\":[{\"marker\":{\"pattern\":{\"fillmode\":\"overlay\",\"size\":10,\"solidity\":0.2}},\"type\":\"histogram\"}],\"scattergl\":[{\"type\":\"scattergl\",\"marker\":{\"colorbar\":{\"outlinewidth\":0,\"ticks\":\"\"}}}],\"scatter3d\":[{\"type\":\"scatter3d\",\"line\":{\"colorbar\":{\"outlinewidth\":0,\"ticks\":\"\"}},\"marker\":{\"colorbar\":{\"outlinewidth\":0,\"ticks\":\"\"}}}],\"scattermapbox\":[{\"type\":\"scattermapbox\",\"marker\":{\"colorbar\":{\"outlinewidth\":0,\"ticks\":\"\"}}}],\"scatterternary\":[{\"type\":\"scatterternary\",\"marker\":{\"colorbar\":{\"outlinewidth\":0,\"ticks\":\"\"}}}],\"scattercarpet\":[{\"type\":\"scattercarpet\",\"marker\":{\"colorbar\":{\"outlinewidth\":0,\"ticks\":\"\"}}}],\"carpet\":[{\"aaxis\":{\"endlinecolor\":\"#2a3f5f\",\"gridcolor\":\"white\",\"linecolor\":\"white\",\"minorgridcolor\":\"white\",\"startlinecolor\":\"#2a3f5f\"},\"baxis\":{\"endlinecolor\":\"#2a3f5f\",\"gridcolor\":\"white\",\"linecolor\":\"white\",\"minorgridcolor\":\"white\",\"startlinecolor\":\"#2a3f5f\"},\"type\":\"carpet\"}],\"table\":[{\"cells\":{\"fill\":{\"color\":\"#EBF0F8\"},\"line\":{\"color\":\"white\"}},\"header\":{\"fill\":{\"color\":\"#C8D4E3\"},\"line\":{\"color\":\"white\"}},\"type\":\"table\"}],\"barpolar\":[{\"marker\":{\"line\":{\"color\":\"#E5ECF6\",\"width\":0.5},\"pattern\":{\"fillmode\":\"overlay\",\"size\":10,\"solidity\":0.2}},\"type\":\"barpolar\"}],\"pie\":[{\"automargin\":true,\"type\":\"pie\"}]},\"layout\":{\"autotypenumbers\":\"strict\",\"colorway\":[\"#636efa\",\"#EF553B\",\"#00cc96\",\"#ab63fa\",\"#FFA15A\",\"#19d3f3\",\"#FF6692\",\"#B6E880\",\"#FF97FF\",\"#FECB52\"],\"font\":{\"color\":\"#2a3f5f\"},\"hovermode\":\"closest\",\"hoverlabel\":{\"align\":\"left\"},\"paper_bgcolor\":\"white\",\"plot_bgcolor\":\"#E5ECF6\",\"polar\":{\"bgcolor\":\"#E5ECF6\",\"angularaxis\":{\"gridcolor\":\"white\",\"linecolor\":\"white\",\"ticks\":\"\"},\"radialaxis\":{\"gridcolor\":\"white\",\"linecolor\":\"white\",\"ticks\":\"\"}},\"ternary\":{\"bgcolor\":\"#E5ECF6\",\"aaxis\":{\"gridcolor\":\"white\",\"linecolor\":\"white\",\"ticks\":\"\"},\"baxis\":{\"gridcolor\":\"white\",\"linecolor\":\"white\",\"ticks\":\"\"},\"caxis\":{\"gridcolor\":\"white\",\"linecolor\":\"white\",\"ticks\":\"\"}},\"coloraxis\":{\"colorbar\":{\"outlinewidth\":0,\"ticks\":\"\"}},\"colorscale\":{\"sequential\":[[0.0,\"#0d0887\"],[0.1111111111111111,\"#46039f\"],[0.2222222222222222,\"#7201a8\"],[0.3333333333333333,\"#9c179e\"],[0.4444444444444444,\"#bd3786\"],[0.5555555555555556,\"#d8576b\"],[0.6666666666666666,\"#ed7953\"],[0.7777777777777778,\"#fb9f3a\"],[0.8888888888888888,\"#fdca26\"],[1.0,\"#f0f921\"]],\"sequentialminus\":[[0.0,\"#0d0887\"],[0.1111111111111111,\"#46039f\"],[0.2222222222222222,\"#7201a8\"],[0.3333333333333333,\"#9c179e\"],[0.4444444444444444,\"#bd3786\"],[0.5555555555555556,\"#d8576b\"],[0.6666666666666666,\"#ed7953\"],[0.7777777777777778,\"#fb9f3a\"],[0.8888888888888888,\"#fdca26\"],[1.0,\"#f0f921\"]],\"diverging\":[[0,\"#8e0152\"],[0.1,\"#c51b7d\"],[0.2,\"#de77ae\"],[0.3,\"#f1b6da\"],[0.4,\"#fde0ef\"],[0.5,\"#f7f7f7\"],[0.6,\"#e6f5d0\"],[0.7,\"#b8e186\"],[0.8,\"#7fbc41\"],[0.9,\"#4d9221\"],[1,\"#276419\"]]},\"xaxis\":{\"gridcolor\":\"white\",\"linecolor\":\"white\",\"ticks\":\"\",\"title\":{\"standoff\":15},\"zerolinecolor\":\"white\",\"automargin\":true,\"zerolinewidth\":2},\"yaxis\":{\"gridcolor\":\"white\",\"linecolor\":\"white\",\"ticks\":\"\",\"title\":{\"standoff\":15},\"zerolinecolor\":\"white\",\"automargin\":true,\"zerolinewidth\":2},\"scene\":{\"xaxis\":{\"backgroundcolor\":\"#E5ECF6\",\"gridcolor\":\"white\",\"linecolor\":\"white\",\"showbackground\":true,\"ticks\":\"\",\"zerolinecolor\":\"white\",\"gridwidth\":2},\"yaxis\":{\"backgroundcolor\":\"#E5ECF6\",\"gridcolor\":\"white\",\"linecolor\":\"white\",\"showbackground\":true,\"ticks\":\"\",\"zerolinecolor\":\"white\",\"gridwidth\":2},\"zaxis\":{\"backgroundcolor\":\"#E5ECF6\",\"gridcolor\":\"white\",\"linecolor\":\"white\",\"showbackground\":true,\"ticks\":\"\",\"zerolinecolor\":\"white\",\"gridwidth\":2}},\"shapedefaults\":{\"line\":{\"color\":\"#2a3f5f\"}},\"annotationdefaults\":{\"arrowcolor\":\"#2a3f5f\",\"arrowhead\":0,\"arrowwidth\":1},\"geo\":{\"bgcolor\":\"white\",\"landcolor\":\"#E5ECF6\",\"subunitcolor\":\"white\",\"showland\":true,\"showlakes\":true,\"lakecolor\":\"white\"},\"title\":{\"x\":0.05},\"mapbox\":{\"style\":\"light\"}}},\"geo\":{\"domain\":{\"x\":[0.0,1.0],\"y\":[0.0,1.0]},\"center\":{}},\"coloraxis\":{\"colorbar\":{\"title\":{\"text\":\"release_date_duration\",\"font\":{\"size\":1}},\"tickfont\":{\"size\":30,\"color\":\"black\"},\"nticks\":6,\"orientation\":\"h\",\"len\":1,\"y\":0.06,\"tickangle\":0},\"colorscale\":[[0.0,\"#0d0887\"],[0.1111111111111111,\"#46039f\"],[0.2222222222222222,\"#7201a8\"],[0.3333333333333333,\"#9c179e\"],[0.4444444444444444,\"#bd3786\"],[0.5555555555555556,\"#d8576b\"],[0.6666666666666666,\"#ed7953\"],[0.7777777777777778,\"#fb9f3a\"],[0.8888888888888888,\"#fdca26\"],[1.0,\"#f0f921\"]],\"cmin\":506.25,\"cmax\":1518.75},\"legend\":{\"tracegroupgap\":0},\"margin\":{\"t\":60},\"width\":800,\"height\":600},                        {\"responsive\": true}                    ).then(function(){\n",
       "                            \n",
       "var gd = document.getElementById('2e2cf57a-d3a8-400a-8ce0-2caef4a7450a');\n",
       "var x = new MutationObserver(function (mutations, observer) {{\n",
       "        var display = window.getComputedStyle(gd).display;\n",
       "        if (!display || display === 'none') {{\n",
       "            console.log([gd, 'removed!']);\n",
       "            Plotly.purge(gd);\n",
       "            observer.disconnect();\n",
       "        }}\n",
       "}});\n",
       "\n",
       "// Listen for the removal of the full notebook cells\n",
       "var notebookContainer = gd.closest('#notebook-container');\n",
       "if (notebookContainer) {{\n",
       "    x.observe(notebookContainer, {childList: true});\n",
       "}}\n",
       "\n",
       "// Listen for the clearing of the current output cell\n",
       "var outputEl = gd.closest('.output');\n",
       "if (outputEl) {{\n",
       "    x.observe(outputEl, {childList: true});\n",
       "}}\n",
       "\n",
       "                        })                };                });            </script>        </div>"
      ]
     },
     "metadata": {},
     "output_type": "display_data"
    },
    {
     "name": "stdout",
     "output_type": "stream",
     "text": [
      "Avg: 1012.5\n"
     ]
    }
   ],
   "source": [
    "import pandas as pd\n",
    "import numpy as np\n",
    "import io\n",
    "import plotly.express as px\n",
    "\n",
    "p = 'release_date_duration'\n",
    "\n",
    "values_to_plot = df_final_samsung_monthly.groupby(['iso_code'])[p].mean().dt.days.sort_values(ascending=True)\n",
    "avg = values_to_plot.median()\n",
    "\n",
    "df_plot = pd.DataFrame(values_to_plot.values,columns=[p])\n",
    "df_plot['country_code'] = values_to_plot.index\n",
    "\n",
    "fig = px.choropleth(df_plot, locations=\"country_code\",\n",
    "                    locationmode='ISO-3',\n",
    "                    color= p,\n",
    "                    hover_name=\"country_code\",\n",
    "                    color_continuous_scale=px.colors.sequential.Plasma,\n",
    "                    range_color=(0.5*avg,1.5*avg))\n",
    "\n",
    "fig.update_layout(\n",
    "        width=800,\n",
    "        height=600,\n",
    "        coloraxis=dict(\n",
    "            colorbar_nticks=6,\n",
    "            colorbar_orientation='h',\n",
    "            #colorbar_borderwidth = 2,\n",
    "            colorbar_len=1,\n",
    "            colorbar_y=+0.06,\n",
    "            #colorbar_ticksuffix='days',\n",
    "            colorbar_title_font_size=1,\n",
    "            colorbar=dict(\n",
    "                #title_side='bottom',\n",
    "                tickangle=0,\n",
    "                tickfont=dict(size=30, color='black'))\n",
    "            )\n",
    ")\n",
    "\n",
    "\n",
    "layout = go.Layout(\n",
    "  margin=go.layout.Margin(\n",
    "        l=0, #left margin\n",
    "        r=0, #right margin\n",
    "        b=0, #bottom margin\n",
    "        t=0  #top margin\n",
    "    )\n",
    ")\n",
    "\n",
    "\n",
    "fig.show()\n",
    "\n",
    "fig.write_image(\"../Results/geolocation_monthly_duration.pdf\")\n",
    "\n",
    "fig.write_html(\"../Results/InteractiveFigures/geolocation_monthly_duration.html\",full_html=False, include_plotlyjs='cdn')\n",
    "\n",
    "print('Avg: {}'.format(avg))\n",
    "\n"
   ]
  },
  {
   "cell_type": "markdown",
   "id": "853fc0cb",
   "metadata": {},
   "source": [
    "### Update Frequency"
   ]
  },
  {
   "cell_type": "code",
   "execution_count": 171,
   "id": "f52061c6",
   "metadata": {},
   "outputs": [
    {
     "data": {
      "application/vnd.plotly.v1+json": {
       "config": {
        "plotlyServerURL": "https://plot.ly"
       },
       "data": [
        {
         "coloraxis": "coloraxis",
         "geo": "geo",
         "hovertemplate": "<b>%{hovertext}</b><br><br>country_code=%{location}<br>avg_release_freq=%{z}<extra></extra>",
         "hovertext": [
          "CYP",
          "BGR",
          "ROU",
          "LUX",
          "CHE",
          "RUS",
          "UKR",
          "UZB",
          "KAZ",
          "SVK",
          "ARE",
          "NLD",
          "GRC",
          "VNM",
          "TTO",
          "GBR",
          "IND",
          "AUT",
          "CZE",
          "MKD",
          "NGA",
          "KEN",
          "TUR",
          "THA",
          "MYS",
          "NPL",
          "HRV",
          "HKG",
          "BGD",
          "IRQ",
          "TUN",
          "AFG",
          "LKA",
          "LBY",
          "SAU",
          "EGY",
          "PAK",
          "USA",
          "KHM",
          "ESP",
          "HUN",
          "TWN",
          "IDN",
          "IRN",
          "MAR",
          "NZL",
          "DEU",
          "AUS",
          "FJI",
          "PNG",
          "CHN",
          "ITA",
          "BEL",
          "CAN",
          "PRT",
          "IRL",
          "SWE",
          "PHL",
          "URY",
          "BOL",
          "POL",
          "ZAF",
          "FRA",
          "PRI",
          "SVN",
          "PAN",
          "BRA",
          "DOM",
          "COL",
          "BIH",
          "MEX",
          "GTM",
          "SGP",
          "SRB",
          "KOR",
          "ARG",
          "PER",
          "CHL",
          "ECU",
          "NOR",
          "ISR",
          "CRI",
          "HND",
          "PRY",
          "SLV",
          "JAM"
         ],
         "locationmode": "ISO-3",
         "locations": [
          "CYP",
          "BGR",
          "ROU",
          "LUX",
          "CHE",
          "RUS",
          "UKR",
          "UZB",
          "KAZ",
          "SVK",
          "ARE",
          "NLD",
          "GRC",
          "VNM",
          "TTO",
          "GBR",
          "IND",
          "AUT",
          "CZE",
          "MKD",
          "NGA",
          "KEN",
          "TUR",
          "THA",
          "MYS",
          "NPL",
          "HRV",
          "HKG",
          "BGD",
          "IRQ",
          "TUN",
          "AFG",
          "LKA",
          "LBY",
          "SAU",
          "EGY",
          "PAK",
          "USA",
          "KHM",
          "ESP",
          "HUN",
          "TWN",
          "IDN",
          "IRN",
          "MAR",
          "NZL",
          "DEU",
          "AUS",
          "FJI",
          "PNG",
          "CHN",
          "ITA",
          "BEL",
          "CAN",
          "PRT",
          "IRL",
          "SWE",
          "PHL",
          "URY",
          "BOL",
          "POL",
          "ZAF",
          "FRA",
          "PRI",
          "SVN",
          "PAN",
          "BRA",
          "DOM",
          "COL",
          "BIH",
          "MEX",
          "GTM",
          "SGP",
          "SRB",
          "KOR",
          "ARG",
          "PER",
          "CHL",
          "ECU",
          "NOR",
          "ISR",
          "CRI",
          "HND",
          "PRY",
          "SLV",
          "JAM"
         ],
         "name": "",
         "type": "choropleth",
         "z": [
          25.451890586879912,
          27.08199164783059,
          27.162505558844515,
          27.56371243922496,
          27.65480026011858,
          27.815569062947127,
          27.960315773613903,
          27.985547201336676,
          28.144488836137068,
          28.160936201484386,
          28.230209130057315,
          28.272698033180365,
          28.34643186326919,
          28.410394507602383,
          28.460952074235177,
          28.569692852590524,
          28.58164381692562,
          28.709434607902956,
          28.762398702481853,
          28.853500598082643,
          28.90699600811056,
          29.04161763292755,
          29.109184697443805,
          29.137802728788706,
          29.21656039121988,
          29.24417135683739,
          29.261147007857847,
          29.294580211669995,
          29.318213692052705,
          29.365820100696634,
          29.42254226993566,
          29.49151983647312,
          29.521537286105552,
          29.590847763706787,
          29.7267782733405,
          29.75620920953395,
          29.88594090549049,
          29.922352533954246,
          29.948603154345385,
          30.082072735870664,
          30.144491944126028,
          30.404882251253323,
          30.58489948832441,
          30.63213943874226,
          30.927646012934993,
          31.2549497895138,
          31.627004266135074,
          31.78463087277585,
          31.928571428571427,
          32.333333333333336,
          33.02770510637332,
          33.674256802707504,
          34.75106732348112,
          34.841657854322015,
          35.55589712868009,
          35.72483373787439,
          35.758700980392156,
          36.031558895629246,
          37.48609828799973,
          37.74594543909104,
          37.85604304564439,
          38.08937565805277,
          38.838148144960584,
          39.20450424281786,
          39.78720572479633,
          42.63471608674869,
          43.059189244626914,
          43.06165019367606,
          44.507909760129,
          45.26754626404893,
          45.83514857520393,
          47.15590437048904,
          49.35026017602745,
          49.55951061820627,
          49.57133276344611,
          49.84898818141691,
          49.948719879060455,
          50.38840155256674,
          50.79326191060826,
          51.66131907308378,
          53.0630174608507,
          55.402366310160424,
          56.25781004224222,
          56.664538248007,
          56.683188830121004,
          59.02295712442316
         ]
        }
       ],
       "layout": {
        "coloraxis": {
         "cmax": 45.912779195300004,
         "cmin": 15.304259731766667,
         "colorbar": {
          "len": 1,
          "nticks": 6,
          "orientation": "h",
          "tickangle": 0,
          "tickfont": {
           "color": "black",
           "size": 30
          },
          "title": {
           "font": {
            "size": 1
           },
           "text": "avg_release_freq"
          },
          "y": 0.06
         },
         "colorscale": [
          [
           0,
           "#0d0887"
          ],
          [
           0.1111111111111111,
           "#46039f"
          ],
          [
           0.2222222222222222,
           "#7201a8"
          ],
          [
           0.3333333333333333,
           "#9c179e"
          ],
          [
           0.4444444444444444,
           "#bd3786"
          ],
          [
           0.5555555555555556,
           "#d8576b"
          ],
          [
           0.6666666666666666,
           "#ed7953"
          ],
          [
           0.7777777777777778,
           "#fb9f3a"
          ],
          [
           0.8888888888888888,
           "#fdca26"
          ],
          [
           1,
           "#f0f921"
          ]
         ]
        },
        "geo": {
         "center": {},
         "domain": {
          "x": [
           0,
           1
          ],
          "y": [
           0,
           1
          ]
         }
        },
        "height": 600,
        "legend": {
         "tracegroupgap": 0
        },
        "margin": {
         "t": 60
        },
        "template": {
         "data": {
          "bar": [
           {
            "error_x": {
             "color": "#2a3f5f"
            },
            "error_y": {
             "color": "#2a3f5f"
            },
            "marker": {
             "line": {
              "color": "#E5ECF6",
              "width": 0.5
             },
             "pattern": {
              "fillmode": "overlay",
              "size": 10,
              "solidity": 0.2
             }
            },
            "type": "bar"
           }
          ],
          "barpolar": [
           {
            "marker": {
             "line": {
              "color": "#E5ECF6",
              "width": 0.5
             },
             "pattern": {
              "fillmode": "overlay",
              "size": 10,
              "solidity": 0.2
             }
            },
            "type": "barpolar"
           }
          ],
          "carpet": [
           {
            "aaxis": {
             "endlinecolor": "#2a3f5f",
             "gridcolor": "white",
             "linecolor": "white",
             "minorgridcolor": "white",
             "startlinecolor": "#2a3f5f"
            },
            "baxis": {
             "endlinecolor": "#2a3f5f",
             "gridcolor": "white",
             "linecolor": "white",
             "minorgridcolor": "white",
             "startlinecolor": "#2a3f5f"
            },
            "type": "carpet"
           }
          ],
          "choropleth": [
           {
            "colorbar": {
             "outlinewidth": 0,
             "ticks": ""
            },
            "type": "choropleth"
           }
          ],
          "contour": [
           {
            "colorbar": {
             "outlinewidth": 0,
             "ticks": ""
            },
            "colorscale": [
             [
              0,
              "#0d0887"
             ],
             [
              0.1111111111111111,
              "#46039f"
             ],
             [
              0.2222222222222222,
              "#7201a8"
             ],
             [
              0.3333333333333333,
              "#9c179e"
             ],
             [
              0.4444444444444444,
              "#bd3786"
             ],
             [
              0.5555555555555556,
              "#d8576b"
             ],
             [
              0.6666666666666666,
              "#ed7953"
             ],
             [
              0.7777777777777778,
              "#fb9f3a"
             ],
             [
              0.8888888888888888,
              "#fdca26"
             ],
             [
              1,
              "#f0f921"
             ]
            ],
            "type": "contour"
           }
          ],
          "contourcarpet": [
           {
            "colorbar": {
             "outlinewidth": 0,
             "ticks": ""
            },
            "type": "contourcarpet"
           }
          ],
          "heatmap": [
           {
            "colorbar": {
             "outlinewidth": 0,
             "ticks": ""
            },
            "colorscale": [
             [
              0,
              "#0d0887"
             ],
             [
              0.1111111111111111,
              "#46039f"
             ],
             [
              0.2222222222222222,
              "#7201a8"
             ],
             [
              0.3333333333333333,
              "#9c179e"
             ],
             [
              0.4444444444444444,
              "#bd3786"
             ],
             [
              0.5555555555555556,
              "#d8576b"
             ],
             [
              0.6666666666666666,
              "#ed7953"
             ],
             [
              0.7777777777777778,
              "#fb9f3a"
             ],
             [
              0.8888888888888888,
              "#fdca26"
             ],
             [
              1,
              "#f0f921"
             ]
            ],
            "type": "heatmap"
           }
          ],
          "heatmapgl": [
           {
            "colorbar": {
             "outlinewidth": 0,
             "ticks": ""
            },
            "colorscale": [
             [
              0,
              "#0d0887"
             ],
             [
              0.1111111111111111,
              "#46039f"
             ],
             [
              0.2222222222222222,
              "#7201a8"
             ],
             [
              0.3333333333333333,
              "#9c179e"
             ],
             [
              0.4444444444444444,
              "#bd3786"
             ],
             [
              0.5555555555555556,
              "#d8576b"
             ],
             [
              0.6666666666666666,
              "#ed7953"
             ],
             [
              0.7777777777777778,
              "#fb9f3a"
             ],
             [
              0.8888888888888888,
              "#fdca26"
             ],
             [
              1,
              "#f0f921"
             ]
            ],
            "type": "heatmapgl"
           }
          ],
          "histogram": [
           {
            "marker": {
             "pattern": {
              "fillmode": "overlay",
              "size": 10,
              "solidity": 0.2
             }
            },
            "type": "histogram"
           }
          ],
          "histogram2d": [
           {
            "colorbar": {
             "outlinewidth": 0,
             "ticks": ""
            },
            "colorscale": [
             [
              0,
              "#0d0887"
             ],
             [
              0.1111111111111111,
              "#46039f"
             ],
             [
              0.2222222222222222,
              "#7201a8"
             ],
             [
              0.3333333333333333,
              "#9c179e"
             ],
             [
              0.4444444444444444,
              "#bd3786"
             ],
             [
              0.5555555555555556,
              "#d8576b"
             ],
             [
              0.6666666666666666,
              "#ed7953"
             ],
             [
              0.7777777777777778,
              "#fb9f3a"
             ],
             [
              0.8888888888888888,
              "#fdca26"
             ],
             [
              1,
              "#f0f921"
             ]
            ],
            "type": "histogram2d"
           }
          ],
          "histogram2dcontour": [
           {
            "colorbar": {
             "outlinewidth": 0,
             "ticks": ""
            },
            "colorscale": [
             [
              0,
              "#0d0887"
             ],
             [
              0.1111111111111111,
              "#46039f"
             ],
             [
              0.2222222222222222,
              "#7201a8"
             ],
             [
              0.3333333333333333,
              "#9c179e"
             ],
             [
              0.4444444444444444,
              "#bd3786"
             ],
             [
              0.5555555555555556,
              "#d8576b"
             ],
             [
              0.6666666666666666,
              "#ed7953"
             ],
             [
              0.7777777777777778,
              "#fb9f3a"
             ],
             [
              0.8888888888888888,
              "#fdca26"
             ],
             [
              1,
              "#f0f921"
             ]
            ],
            "type": "histogram2dcontour"
           }
          ],
          "mesh3d": [
           {
            "colorbar": {
             "outlinewidth": 0,
             "ticks": ""
            },
            "type": "mesh3d"
           }
          ],
          "parcoords": [
           {
            "line": {
             "colorbar": {
              "outlinewidth": 0,
              "ticks": ""
             }
            },
            "type": "parcoords"
           }
          ],
          "pie": [
           {
            "automargin": true,
            "type": "pie"
           }
          ],
          "scatter": [
           {
            "fillpattern": {
             "fillmode": "overlay",
             "size": 10,
             "solidity": 0.2
            },
            "type": "scatter"
           }
          ],
          "scatter3d": [
           {
            "line": {
             "colorbar": {
              "outlinewidth": 0,
              "ticks": ""
             }
            },
            "marker": {
             "colorbar": {
              "outlinewidth": 0,
              "ticks": ""
             }
            },
            "type": "scatter3d"
           }
          ],
          "scattercarpet": [
           {
            "marker": {
             "colorbar": {
              "outlinewidth": 0,
              "ticks": ""
             }
            },
            "type": "scattercarpet"
           }
          ],
          "scattergeo": [
           {
            "marker": {
             "colorbar": {
              "outlinewidth": 0,
              "ticks": ""
             }
            },
            "type": "scattergeo"
           }
          ],
          "scattergl": [
           {
            "marker": {
             "colorbar": {
              "outlinewidth": 0,
              "ticks": ""
             }
            },
            "type": "scattergl"
           }
          ],
          "scattermapbox": [
           {
            "marker": {
             "colorbar": {
              "outlinewidth": 0,
              "ticks": ""
             }
            },
            "type": "scattermapbox"
           }
          ],
          "scatterpolar": [
           {
            "marker": {
             "colorbar": {
              "outlinewidth": 0,
              "ticks": ""
             }
            },
            "type": "scatterpolar"
           }
          ],
          "scatterpolargl": [
           {
            "marker": {
             "colorbar": {
              "outlinewidth": 0,
              "ticks": ""
             }
            },
            "type": "scatterpolargl"
           }
          ],
          "scatterternary": [
           {
            "marker": {
             "colorbar": {
              "outlinewidth": 0,
              "ticks": ""
             }
            },
            "type": "scatterternary"
           }
          ],
          "surface": [
           {
            "colorbar": {
             "outlinewidth": 0,
             "ticks": ""
            },
            "colorscale": [
             [
              0,
              "#0d0887"
             ],
             [
              0.1111111111111111,
              "#46039f"
             ],
             [
              0.2222222222222222,
              "#7201a8"
             ],
             [
              0.3333333333333333,
              "#9c179e"
             ],
             [
              0.4444444444444444,
              "#bd3786"
             ],
             [
              0.5555555555555556,
              "#d8576b"
             ],
             [
              0.6666666666666666,
              "#ed7953"
             ],
             [
              0.7777777777777778,
              "#fb9f3a"
             ],
             [
              0.8888888888888888,
              "#fdca26"
             ],
             [
              1,
              "#f0f921"
             ]
            ],
            "type": "surface"
           }
          ],
          "table": [
           {
            "cells": {
             "fill": {
              "color": "#EBF0F8"
             },
             "line": {
              "color": "white"
             }
            },
            "header": {
             "fill": {
              "color": "#C8D4E3"
             },
             "line": {
              "color": "white"
             }
            },
            "type": "table"
           }
          ]
         },
         "layout": {
          "annotationdefaults": {
           "arrowcolor": "#2a3f5f",
           "arrowhead": 0,
           "arrowwidth": 1
          },
          "autotypenumbers": "strict",
          "coloraxis": {
           "colorbar": {
            "outlinewidth": 0,
            "ticks": ""
           }
          },
          "colorscale": {
           "diverging": [
            [
             0,
             "#8e0152"
            ],
            [
             0.1,
             "#c51b7d"
            ],
            [
             0.2,
             "#de77ae"
            ],
            [
             0.3,
             "#f1b6da"
            ],
            [
             0.4,
             "#fde0ef"
            ],
            [
             0.5,
             "#f7f7f7"
            ],
            [
             0.6,
             "#e6f5d0"
            ],
            [
             0.7,
             "#b8e186"
            ],
            [
             0.8,
             "#7fbc41"
            ],
            [
             0.9,
             "#4d9221"
            ],
            [
             1,
             "#276419"
            ]
           ],
           "sequential": [
            [
             0,
             "#0d0887"
            ],
            [
             0.1111111111111111,
             "#46039f"
            ],
            [
             0.2222222222222222,
             "#7201a8"
            ],
            [
             0.3333333333333333,
             "#9c179e"
            ],
            [
             0.4444444444444444,
             "#bd3786"
            ],
            [
             0.5555555555555556,
             "#d8576b"
            ],
            [
             0.6666666666666666,
             "#ed7953"
            ],
            [
             0.7777777777777778,
             "#fb9f3a"
            ],
            [
             0.8888888888888888,
             "#fdca26"
            ],
            [
             1,
             "#f0f921"
            ]
           ],
           "sequentialminus": [
            [
             0,
             "#0d0887"
            ],
            [
             0.1111111111111111,
             "#46039f"
            ],
            [
             0.2222222222222222,
             "#7201a8"
            ],
            [
             0.3333333333333333,
             "#9c179e"
            ],
            [
             0.4444444444444444,
             "#bd3786"
            ],
            [
             0.5555555555555556,
             "#d8576b"
            ],
            [
             0.6666666666666666,
             "#ed7953"
            ],
            [
             0.7777777777777778,
             "#fb9f3a"
            ],
            [
             0.8888888888888888,
             "#fdca26"
            ],
            [
             1,
             "#f0f921"
            ]
           ]
          },
          "colorway": [
           "#636efa",
           "#EF553B",
           "#00cc96",
           "#ab63fa",
           "#FFA15A",
           "#19d3f3",
           "#FF6692",
           "#B6E880",
           "#FF97FF",
           "#FECB52"
          ],
          "font": {
           "color": "#2a3f5f"
          },
          "geo": {
           "bgcolor": "white",
           "lakecolor": "white",
           "landcolor": "#E5ECF6",
           "showlakes": true,
           "showland": true,
           "subunitcolor": "white"
          },
          "hoverlabel": {
           "align": "left"
          },
          "hovermode": "closest",
          "mapbox": {
           "style": "light"
          },
          "paper_bgcolor": "white",
          "plot_bgcolor": "#E5ECF6",
          "polar": {
           "angularaxis": {
            "gridcolor": "white",
            "linecolor": "white",
            "ticks": ""
           },
           "bgcolor": "#E5ECF6",
           "radialaxis": {
            "gridcolor": "white",
            "linecolor": "white",
            "ticks": ""
           }
          },
          "scene": {
           "xaxis": {
            "backgroundcolor": "#E5ECF6",
            "gridcolor": "white",
            "gridwidth": 2,
            "linecolor": "white",
            "showbackground": true,
            "ticks": "",
            "zerolinecolor": "white"
           },
           "yaxis": {
            "backgroundcolor": "#E5ECF6",
            "gridcolor": "white",
            "gridwidth": 2,
            "linecolor": "white",
            "showbackground": true,
            "ticks": "",
            "zerolinecolor": "white"
           },
           "zaxis": {
            "backgroundcolor": "#E5ECF6",
            "gridcolor": "white",
            "gridwidth": 2,
            "linecolor": "white",
            "showbackground": true,
            "ticks": "",
            "zerolinecolor": "white"
           }
          },
          "shapedefaults": {
           "line": {
            "color": "#2a3f5f"
           }
          },
          "ternary": {
           "aaxis": {
            "gridcolor": "white",
            "linecolor": "white",
            "ticks": ""
           },
           "baxis": {
            "gridcolor": "white",
            "linecolor": "white",
            "ticks": ""
           },
           "bgcolor": "#E5ECF6",
           "caxis": {
            "gridcolor": "white",
            "linecolor": "white",
            "ticks": ""
           }
          },
          "title": {
           "x": 0.05
          },
          "xaxis": {
           "automargin": true,
           "gridcolor": "white",
           "linecolor": "white",
           "ticks": "",
           "title": {
            "standoff": 15
           },
           "zerolinecolor": "white",
           "zerolinewidth": 2
          },
          "yaxis": {
           "automargin": true,
           "gridcolor": "white",
           "linecolor": "white",
           "ticks": "",
           "title": {
            "standoff": 15
           },
           "zerolinecolor": "white",
           "zerolinewidth": 2
          }
         }
        },
        "width": 800
       }
      },
      "text/html": [
       "<div>                            <div id=\"a2a44314-8427-4b75-bc5d-2a1d8c0103dd\" class=\"plotly-graph-div\" style=\"height:600px; width:800px;\"></div>            <script type=\"text/javascript\">                require([\"plotly\"], function(Plotly) {                    window.PLOTLYENV=window.PLOTLYENV || {};                                    if (document.getElementById(\"a2a44314-8427-4b75-bc5d-2a1d8c0103dd\")) {                    Plotly.newPlot(                        \"a2a44314-8427-4b75-bc5d-2a1d8c0103dd\",                        [{\"coloraxis\":\"coloraxis\",\"geo\":\"geo\",\"hovertemplate\":\"<b>%{hovertext}</b><br><br>country_code=%{location}<br>avg_release_freq=%{z}<extra></extra>\",\"hovertext\":[\"CYP\",\"BGR\",\"ROU\",\"LUX\",\"CHE\",\"RUS\",\"UKR\",\"UZB\",\"KAZ\",\"SVK\",\"ARE\",\"NLD\",\"GRC\",\"VNM\",\"TTO\",\"GBR\",\"IND\",\"AUT\",\"CZE\",\"MKD\",\"NGA\",\"KEN\",\"TUR\",\"THA\",\"MYS\",\"NPL\",\"HRV\",\"HKG\",\"BGD\",\"IRQ\",\"TUN\",\"AFG\",\"LKA\",\"LBY\",\"SAU\",\"EGY\",\"PAK\",\"USA\",\"KHM\",\"ESP\",\"HUN\",\"TWN\",\"IDN\",\"IRN\",\"MAR\",\"NZL\",\"DEU\",\"AUS\",\"FJI\",\"PNG\",\"CHN\",\"ITA\",\"BEL\",\"CAN\",\"PRT\",\"IRL\",\"SWE\",\"PHL\",\"URY\",\"BOL\",\"POL\",\"ZAF\",\"FRA\",\"PRI\",\"SVN\",\"PAN\",\"BRA\",\"DOM\",\"COL\",\"BIH\",\"MEX\",\"GTM\",\"SGP\",\"SRB\",\"KOR\",\"ARG\",\"PER\",\"CHL\",\"ECU\",\"NOR\",\"ISR\",\"CRI\",\"HND\",\"PRY\",\"SLV\",\"JAM\"],\"locationmode\":\"ISO-3\",\"locations\":[\"CYP\",\"BGR\",\"ROU\",\"LUX\",\"CHE\",\"RUS\",\"UKR\",\"UZB\",\"KAZ\",\"SVK\",\"ARE\",\"NLD\",\"GRC\",\"VNM\",\"TTO\",\"GBR\",\"IND\",\"AUT\",\"CZE\",\"MKD\",\"NGA\",\"KEN\",\"TUR\",\"THA\",\"MYS\",\"NPL\",\"HRV\",\"HKG\",\"BGD\",\"IRQ\",\"TUN\",\"AFG\",\"LKA\",\"LBY\",\"SAU\",\"EGY\",\"PAK\",\"USA\",\"KHM\",\"ESP\",\"HUN\",\"TWN\",\"IDN\",\"IRN\",\"MAR\",\"NZL\",\"DEU\",\"AUS\",\"FJI\",\"PNG\",\"CHN\",\"ITA\",\"BEL\",\"CAN\",\"PRT\",\"IRL\",\"SWE\",\"PHL\",\"URY\",\"BOL\",\"POL\",\"ZAF\",\"FRA\",\"PRI\",\"SVN\",\"PAN\",\"BRA\",\"DOM\",\"COL\",\"BIH\",\"MEX\",\"GTM\",\"SGP\",\"SRB\",\"KOR\",\"ARG\",\"PER\",\"CHL\",\"ECU\",\"NOR\",\"ISR\",\"CRI\",\"HND\",\"PRY\",\"SLV\",\"JAM\"],\"name\":\"\",\"z\":[25.451890586879912,27.08199164783059,27.162505558844515,27.56371243922496,27.65480026011858,27.815569062947127,27.960315773613903,27.985547201336676,28.144488836137068,28.160936201484386,28.230209130057315,28.272698033180365,28.34643186326919,28.410394507602383,28.460952074235177,28.569692852590524,28.58164381692562,28.709434607902956,28.762398702481853,28.853500598082643,28.90699600811056,29.04161763292755,29.109184697443805,29.137802728788706,29.21656039121988,29.24417135683739,29.261147007857847,29.294580211669995,29.318213692052705,29.365820100696634,29.42254226993566,29.49151983647312,29.521537286105552,29.590847763706787,29.7267782733405,29.75620920953395,29.88594090549049,29.922352533954246,29.948603154345385,30.082072735870664,30.144491944126028,30.404882251253323,30.58489948832441,30.63213943874226,30.927646012934993,31.2549497895138,31.627004266135074,31.78463087277585,31.928571428571427,32.333333333333336,33.02770510637332,33.674256802707504,34.75106732348112,34.841657854322015,35.55589712868009,35.72483373787439,35.758700980392156,36.031558895629246,37.48609828799973,37.74594543909104,37.85604304564439,38.08937565805277,38.838148144960584,39.20450424281786,39.78720572479633,42.63471608674869,43.059189244626914,43.06165019367606,44.507909760129,45.26754626404893,45.83514857520393,47.15590437048904,49.35026017602745,49.55951061820627,49.57133276344611,49.84898818141691,49.948719879060455,50.38840155256674,50.79326191060826,51.66131907308378,53.0630174608507,55.402366310160424,56.25781004224222,56.664538248007,56.683188830121004,59.02295712442316],\"type\":\"choropleth\"}],                        {\"template\":{\"data\":{\"histogram2dcontour\":[{\"type\":\"histogram2dcontour\",\"colorbar\":{\"outlinewidth\":0,\"ticks\":\"\"},\"colorscale\":[[0.0,\"#0d0887\"],[0.1111111111111111,\"#46039f\"],[0.2222222222222222,\"#7201a8\"],[0.3333333333333333,\"#9c179e\"],[0.4444444444444444,\"#bd3786\"],[0.5555555555555556,\"#d8576b\"],[0.6666666666666666,\"#ed7953\"],[0.7777777777777778,\"#fb9f3a\"],[0.8888888888888888,\"#fdca26\"],[1.0,\"#f0f921\"]]}],\"choropleth\":[{\"type\":\"choropleth\",\"colorbar\":{\"outlinewidth\":0,\"ticks\":\"\"}}],\"histogram2d\":[{\"type\":\"histogram2d\",\"colorbar\":{\"outlinewidth\":0,\"ticks\":\"\"},\"colorscale\":[[0.0,\"#0d0887\"],[0.1111111111111111,\"#46039f\"],[0.2222222222222222,\"#7201a8\"],[0.3333333333333333,\"#9c179e\"],[0.4444444444444444,\"#bd3786\"],[0.5555555555555556,\"#d8576b\"],[0.6666666666666666,\"#ed7953\"],[0.7777777777777778,\"#fb9f3a\"],[0.8888888888888888,\"#fdca26\"],[1.0,\"#f0f921\"]]}],\"heatmap\":[{\"type\":\"heatmap\",\"colorbar\":{\"outlinewidth\":0,\"ticks\":\"\"},\"colorscale\":[[0.0,\"#0d0887\"],[0.1111111111111111,\"#46039f\"],[0.2222222222222222,\"#7201a8\"],[0.3333333333333333,\"#9c179e\"],[0.4444444444444444,\"#bd3786\"],[0.5555555555555556,\"#d8576b\"],[0.6666666666666666,\"#ed7953\"],[0.7777777777777778,\"#fb9f3a\"],[0.8888888888888888,\"#fdca26\"],[1.0,\"#f0f921\"]]}],\"heatmapgl\":[{\"type\":\"heatmapgl\",\"colorbar\":{\"outlinewidth\":0,\"ticks\":\"\"},\"colorscale\":[[0.0,\"#0d0887\"],[0.1111111111111111,\"#46039f\"],[0.2222222222222222,\"#7201a8\"],[0.3333333333333333,\"#9c179e\"],[0.4444444444444444,\"#bd3786\"],[0.5555555555555556,\"#d8576b\"],[0.6666666666666666,\"#ed7953\"],[0.7777777777777778,\"#fb9f3a\"],[0.8888888888888888,\"#fdca26\"],[1.0,\"#f0f921\"]]}],\"contourcarpet\":[{\"type\":\"contourcarpet\",\"colorbar\":{\"outlinewidth\":0,\"ticks\":\"\"}}],\"contour\":[{\"type\":\"contour\",\"colorbar\":{\"outlinewidth\":0,\"ticks\":\"\"},\"colorscale\":[[0.0,\"#0d0887\"],[0.1111111111111111,\"#46039f\"],[0.2222222222222222,\"#7201a8\"],[0.3333333333333333,\"#9c179e\"],[0.4444444444444444,\"#bd3786\"],[0.5555555555555556,\"#d8576b\"],[0.6666666666666666,\"#ed7953\"],[0.7777777777777778,\"#fb9f3a\"],[0.8888888888888888,\"#fdca26\"],[1.0,\"#f0f921\"]]}],\"surface\":[{\"type\":\"surface\",\"colorbar\":{\"outlinewidth\":0,\"ticks\":\"\"},\"colorscale\":[[0.0,\"#0d0887\"],[0.1111111111111111,\"#46039f\"],[0.2222222222222222,\"#7201a8\"],[0.3333333333333333,\"#9c179e\"],[0.4444444444444444,\"#bd3786\"],[0.5555555555555556,\"#d8576b\"],[0.6666666666666666,\"#ed7953\"],[0.7777777777777778,\"#fb9f3a\"],[0.8888888888888888,\"#fdca26\"],[1.0,\"#f0f921\"]]}],\"mesh3d\":[{\"type\":\"mesh3d\",\"colorbar\":{\"outlinewidth\":0,\"ticks\":\"\"}}],\"scatter\":[{\"fillpattern\":{\"fillmode\":\"overlay\",\"size\":10,\"solidity\":0.2},\"type\":\"scatter\"}],\"parcoords\":[{\"type\":\"parcoords\",\"line\":{\"colorbar\":{\"outlinewidth\":0,\"ticks\":\"\"}}}],\"scatterpolargl\":[{\"type\":\"scatterpolargl\",\"marker\":{\"colorbar\":{\"outlinewidth\":0,\"ticks\":\"\"}}}],\"bar\":[{\"error_x\":{\"color\":\"#2a3f5f\"},\"error_y\":{\"color\":\"#2a3f5f\"},\"marker\":{\"line\":{\"color\":\"#E5ECF6\",\"width\":0.5},\"pattern\":{\"fillmode\":\"overlay\",\"size\":10,\"solidity\":0.2}},\"type\":\"bar\"}],\"scattergeo\":[{\"type\":\"scattergeo\",\"marker\":{\"colorbar\":{\"outlinewidth\":0,\"ticks\":\"\"}}}],\"scatterpolar\":[{\"type\":\"scatterpolar\",\"marker\":{\"colorbar\":{\"outlinewidth\":0,\"ticks\":\"\"}}}],\"histogram\":[{\"marker\":{\"pattern\":{\"fillmode\":\"overlay\",\"size\":10,\"solidity\":0.2}},\"type\":\"histogram\"}],\"scattergl\":[{\"type\":\"scattergl\",\"marker\":{\"colorbar\":{\"outlinewidth\":0,\"ticks\":\"\"}}}],\"scatter3d\":[{\"type\":\"scatter3d\",\"line\":{\"colorbar\":{\"outlinewidth\":0,\"ticks\":\"\"}},\"marker\":{\"colorbar\":{\"outlinewidth\":0,\"ticks\":\"\"}}}],\"scattermapbox\":[{\"type\":\"scattermapbox\",\"marker\":{\"colorbar\":{\"outlinewidth\":0,\"ticks\":\"\"}}}],\"scatterternary\":[{\"type\":\"scatterternary\",\"marker\":{\"colorbar\":{\"outlinewidth\":0,\"ticks\":\"\"}}}],\"scattercarpet\":[{\"type\":\"scattercarpet\",\"marker\":{\"colorbar\":{\"outlinewidth\":0,\"ticks\":\"\"}}}],\"carpet\":[{\"aaxis\":{\"endlinecolor\":\"#2a3f5f\",\"gridcolor\":\"white\",\"linecolor\":\"white\",\"minorgridcolor\":\"white\",\"startlinecolor\":\"#2a3f5f\"},\"baxis\":{\"endlinecolor\":\"#2a3f5f\",\"gridcolor\":\"white\",\"linecolor\":\"white\",\"minorgridcolor\":\"white\",\"startlinecolor\":\"#2a3f5f\"},\"type\":\"carpet\"}],\"table\":[{\"cells\":{\"fill\":{\"color\":\"#EBF0F8\"},\"line\":{\"color\":\"white\"}},\"header\":{\"fill\":{\"color\":\"#C8D4E3\"},\"line\":{\"color\":\"white\"}},\"type\":\"table\"}],\"barpolar\":[{\"marker\":{\"line\":{\"color\":\"#E5ECF6\",\"width\":0.5},\"pattern\":{\"fillmode\":\"overlay\",\"size\":10,\"solidity\":0.2}},\"type\":\"barpolar\"}],\"pie\":[{\"automargin\":true,\"type\":\"pie\"}]},\"layout\":{\"autotypenumbers\":\"strict\",\"colorway\":[\"#636efa\",\"#EF553B\",\"#00cc96\",\"#ab63fa\",\"#FFA15A\",\"#19d3f3\",\"#FF6692\",\"#B6E880\",\"#FF97FF\",\"#FECB52\"],\"font\":{\"color\":\"#2a3f5f\"},\"hovermode\":\"closest\",\"hoverlabel\":{\"align\":\"left\"},\"paper_bgcolor\":\"white\",\"plot_bgcolor\":\"#E5ECF6\",\"polar\":{\"bgcolor\":\"#E5ECF6\",\"angularaxis\":{\"gridcolor\":\"white\",\"linecolor\":\"white\",\"ticks\":\"\"},\"radialaxis\":{\"gridcolor\":\"white\",\"linecolor\":\"white\",\"ticks\":\"\"}},\"ternary\":{\"bgcolor\":\"#E5ECF6\",\"aaxis\":{\"gridcolor\":\"white\",\"linecolor\":\"white\",\"ticks\":\"\"},\"baxis\":{\"gridcolor\":\"white\",\"linecolor\":\"white\",\"ticks\":\"\"},\"caxis\":{\"gridcolor\":\"white\",\"linecolor\":\"white\",\"ticks\":\"\"}},\"coloraxis\":{\"colorbar\":{\"outlinewidth\":0,\"ticks\":\"\"}},\"colorscale\":{\"sequential\":[[0.0,\"#0d0887\"],[0.1111111111111111,\"#46039f\"],[0.2222222222222222,\"#7201a8\"],[0.3333333333333333,\"#9c179e\"],[0.4444444444444444,\"#bd3786\"],[0.5555555555555556,\"#d8576b\"],[0.6666666666666666,\"#ed7953\"],[0.7777777777777778,\"#fb9f3a\"],[0.8888888888888888,\"#fdca26\"],[1.0,\"#f0f921\"]],\"sequentialminus\":[[0.0,\"#0d0887\"],[0.1111111111111111,\"#46039f\"],[0.2222222222222222,\"#7201a8\"],[0.3333333333333333,\"#9c179e\"],[0.4444444444444444,\"#bd3786\"],[0.5555555555555556,\"#d8576b\"],[0.6666666666666666,\"#ed7953\"],[0.7777777777777778,\"#fb9f3a\"],[0.8888888888888888,\"#fdca26\"],[1.0,\"#f0f921\"]],\"diverging\":[[0,\"#8e0152\"],[0.1,\"#c51b7d\"],[0.2,\"#de77ae\"],[0.3,\"#f1b6da\"],[0.4,\"#fde0ef\"],[0.5,\"#f7f7f7\"],[0.6,\"#e6f5d0\"],[0.7,\"#b8e186\"],[0.8,\"#7fbc41\"],[0.9,\"#4d9221\"],[1,\"#276419\"]]},\"xaxis\":{\"gridcolor\":\"white\",\"linecolor\":\"white\",\"ticks\":\"\",\"title\":{\"standoff\":15},\"zerolinecolor\":\"white\",\"automargin\":true,\"zerolinewidth\":2},\"yaxis\":{\"gridcolor\":\"white\",\"linecolor\":\"white\",\"ticks\":\"\",\"title\":{\"standoff\":15},\"zerolinecolor\":\"white\",\"automargin\":true,\"zerolinewidth\":2},\"scene\":{\"xaxis\":{\"backgroundcolor\":\"#E5ECF6\",\"gridcolor\":\"white\",\"linecolor\":\"white\",\"showbackground\":true,\"ticks\":\"\",\"zerolinecolor\":\"white\",\"gridwidth\":2},\"yaxis\":{\"backgroundcolor\":\"#E5ECF6\",\"gridcolor\":\"white\",\"linecolor\":\"white\",\"showbackground\":true,\"ticks\":\"\",\"zerolinecolor\":\"white\",\"gridwidth\":2},\"zaxis\":{\"backgroundcolor\":\"#E5ECF6\",\"gridcolor\":\"white\",\"linecolor\":\"white\",\"showbackground\":true,\"ticks\":\"\",\"zerolinecolor\":\"white\",\"gridwidth\":2}},\"shapedefaults\":{\"line\":{\"color\":\"#2a3f5f\"}},\"annotationdefaults\":{\"arrowcolor\":\"#2a3f5f\",\"arrowhead\":0,\"arrowwidth\":1},\"geo\":{\"bgcolor\":\"white\",\"landcolor\":\"#E5ECF6\",\"subunitcolor\":\"white\",\"showland\":true,\"showlakes\":true,\"lakecolor\":\"white\"},\"title\":{\"x\":0.05},\"mapbox\":{\"style\":\"light\"}}},\"geo\":{\"domain\":{\"x\":[0.0,1.0],\"y\":[0.0,1.0]},\"center\":{}},\"coloraxis\":{\"colorbar\":{\"title\":{\"text\":\"avg_release_freq\",\"font\":{\"size\":1}},\"tickfont\":{\"size\":30,\"color\":\"black\"},\"nticks\":6,\"orientation\":\"h\",\"len\":1,\"y\":0.06,\"tickangle\":0},\"colorscale\":[[0.0,\"#0d0887\"],[0.1111111111111111,\"#46039f\"],[0.2222222222222222,\"#7201a8\"],[0.3333333333333333,\"#9c179e\"],[0.4444444444444444,\"#bd3786\"],[0.5555555555555556,\"#d8576b\"],[0.6666666666666666,\"#ed7953\"],[0.7777777777777778,\"#fb9f3a\"],[0.8888888888888888,\"#fdca26\"],[1.0,\"#f0f921\"]],\"cmin\":15.304259731766667,\"cmax\":45.912779195300004},\"legend\":{\"tracegroupgap\":0},\"margin\":{\"t\":60},\"width\":800,\"height\":600},                        {\"responsive\": true}                    ).then(function(){\n",
       "                            \n",
       "var gd = document.getElementById('a2a44314-8427-4b75-bc5d-2a1d8c0103dd');\n",
       "var x = new MutationObserver(function (mutations, observer) {{\n",
       "        var display = window.getComputedStyle(gd).display;\n",
       "        if (!display || display === 'none') {{\n",
       "            console.log([gd, 'removed!']);\n",
       "            Plotly.purge(gd);\n",
       "            observer.disconnect();\n",
       "        }}\n",
       "}});\n",
       "\n",
       "// Listen for the removal of the full notebook cells\n",
       "var notebookContainer = gd.closest('#notebook-container');\n",
       "if (notebookContainer) {{\n",
       "    x.observe(notebookContainer, {childList: true});\n",
       "}}\n",
       "\n",
       "// Listen for the clearing of the current output cell\n",
       "var outputEl = gd.closest('.output');\n",
       "if (outputEl) {{\n",
       "    x.observe(outputEl, {childList: true});\n",
       "}}\n",
       "\n",
       "                        })                };                });            </script>        </div>"
      ]
     },
     "metadata": {},
     "output_type": "display_data"
    },
    {
     "name": "stdout",
     "output_type": "stream",
     "text": [
      "Avg: 30.608519463533334\n"
     ]
    }
   ],
   "source": [
    "p = 'avg_release_freq'\n",
    "\n",
    "values_to_plot = df_final_samsung_monthly.groupby(['iso_code'])[p].mean().sort_values(ascending=True)\n",
    "avg = values_to_plot.median()\n",
    "\n",
    "df_plot = pd.DataFrame(values_to_plot.values,columns=[p])\n",
    "df_plot['country_code'] = values_to_plot.index\n",
    "\n",
    "fig = px.choropleth(df_plot, locations=\"country_code\",\n",
    "                    locationmode='ISO-3',\n",
    "                    color= p,\n",
    "                    hover_name=\"country_code\",\n",
    "                    color_continuous_scale=px.colors.sequential.Plasma,\n",
    "                    range_color=(0.5*avg,1.5*avg))\n",
    "\n",
    "fig.update_layout(\n",
    "        width=800,\n",
    "        height=600,\n",
    "        coloraxis=dict(\n",
    "            colorbar_nticks=6,\n",
    "            colorbar_orientation='h',\n",
    "            #colorbar_borderwidth = 2,\n",
    "            colorbar_len=1,\n",
    "            colorbar_y=+0.06,\n",
    "            #colorbar_ticksuffix=' days',\n",
    "            colorbar_title_font_size=1,\n",
    "            colorbar=dict(\n",
    "                #title_side='bottom',\n",
    "                tickangle=0,\n",
    "                tickfont=dict(size=30, color='black'))\n",
    "            )\n",
    ")\n",
    "\n",
    "layout = go.Layout(\n",
    "  margin=go.layout.Margin(\n",
    "        l=0, #left margin\n",
    "        r=0, #right margin\n",
    "        b=0, #bottom margin\n",
    "        t=0  #top margin\n",
    "    )\n",
    ")\n",
    "\n",
    "\n",
    "fig.show()\n",
    "\n",
    "fig.write_image(\"../Results/geolocation_monthly_frequency.pdf\")\n",
    "\n",
    "fig.write_html(\"../Results/InteractiveFigures/geolocation_monthly_frequency.html\",full_html=False, include_plotlyjs='cdn')\n",
    "\n",
    "print('Avg: {}'.format(avg))\n",
    "\n"
   ]
  },
  {
   "cell_type": "markdown",
   "id": "ca28c57c",
   "metadata": {},
   "source": [
    "### Release Delay"
   ]
  },
  {
   "cell_type": "code",
   "execution_count": 172,
   "id": "7997f4c0",
   "metadata": {},
   "outputs": [
    {
     "data": {
      "application/vnd.plotly.v1+json": {
       "config": {
        "plotlyServerURL": "https://plot.ly"
       },
       "data": [
        {
         "coloraxis": "coloraxis",
         "geo": "geo",
         "hovertemplate": "<b>%{hovertext}</b><br><br>country_code=%{location}<br>avg_release_delay=%{z}<extra></extra>",
         "hovertext": [
          "BGR",
          "CHE",
          "UKR",
          "RUS",
          "LUX",
          "KAZ",
          "UZB",
          "BGD",
          "NPL",
          "IND",
          "KHM",
          "DEU",
          "VNM",
          "THA",
          "MYS",
          "CYP",
          "NGA",
          "PHL",
          "TWN",
          "NLD",
          "ROU",
          "ARE",
          "KEN",
          "IRN",
          "HUN",
          "GRC",
          "TUR",
          "CZE",
          "SVK",
          "USA",
          "SAU",
          "EGY",
          "LKA",
          "AUT",
          "PAK",
          "TUN",
          "LBY",
          "AFG",
          "ITA",
          "ESP",
          "GBR",
          "MAR",
          "KOR",
          "HRV",
          "SVN",
          "IRQ",
          "FJI",
          "TTO",
          "SRB",
          "MKD",
          "BIH",
          "NOR",
          "CAN",
          "IDN",
          "PRT",
          "HKG",
          "PNG",
          "ISR",
          "IRL",
          "POL",
          "ZAF",
          "CHN",
          "SWE",
          "BEL",
          "AUS",
          "FRA",
          "BOL",
          "NZL",
          "PRI",
          "URY",
          "BRA",
          "SGP",
          "COL",
          "MEX",
          "DOM",
          "PER",
          "PAN",
          "ARG",
          "CHL",
          "GTM",
          "PRY",
          "CRI",
          "HND",
          "SLV",
          "JAM",
          "ECU"
         ],
         "locationmode": "ISO-3",
         "locations": [
          "BGR",
          "CHE",
          "UKR",
          "RUS",
          "LUX",
          "KAZ",
          "UZB",
          "BGD",
          "NPL",
          "IND",
          "KHM",
          "DEU",
          "VNM",
          "THA",
          "MYS",
          "CYP",
          "NGA",
          "PHL",
          "TWN",
          "NLD",
          "ROU",
          "ARE",
          "KEN",
          "IRN",
          "HUN",
          "GRC",
          "TUR",
          "CZE",
          "SVK",
          "USA",
          "SAU",
          "EGY",
          "LKA",
          "AUT",
          "PAK",
          "TUN",
          "LBY",
          "AFG",
          "ITA",
          "ESP",
          "GBR",
          "MAR",
          "KOR",
          "HRV",
          "SVN",
          "IRQ",
          "FJI",
          "TTO",
          "SRB",
          "MKD",
          "BIH",
          "NOR",
          "CAN",
          "IDN",
          "PRT",
          "HKG",
          "PNG",
          "ISR",
          "IRL",
          "POL",
          "ZAF",
          "CHN",
          "SWE",
          "BEL",
          "AUS",
          "FRA",
          "BOL",
          "NZL",
          "PRI",
          "URY",
          "BRA",
          "SGP",
          "COL",
          "MEX",
          "DOM",
          "PER",
          "PAN",
          "ARG",
          "CHL",
          "GTM",
          "PRY",
          "CRI",
          "HND",
          "SLV",
          "JAM",
          "ECU"
         ],
         "name": "",
         "type": "choropleth",
         "z": [
          17.785714285714285,
          18.576923076923077,
          18.785714285714285,
          18.928571428571427,
          19.076923076923077,
          19.142857142857142,
          19.666666666666668,
          20.166666666666668,
          20.666666666666668,
          21,
          21,
          21.102564102564102,
          21.153846153846153,
          21.285714285714285,
          21.357142857142858,
          21.7,
          21.8,
          21.914285714285715,
          21.916666666666668,
          22.095238095238095,
          22.121951219512194,
          22.266666666666666,
          22.3,
          22.5,
          22.52777777777778,
          22.657894736842106,
          22.692307692307693,
          22.755102040816325,
          23,
          23.02262443438914,
          23.4,
          23.416666666666668,
          23.6,
          23.618181818181817,
          24,
          24,
          24.041666666666668,
          24.09090909090909,
          24.09433962264151,
          24.115384615384617,
          24.328125,
          24.4375,
          24.52777777777778,
          24.833333333333332,
          24.904761904761905,
          24.928571428571427,
          25,
          25.05,
          25.11111111111111,
          25.166666666666668,
          25.307692307692307,
          25.333333333333332,
          25.37956204379562,
          25.46153846153846,
          25.775,
          25.8,
          26,
          26.375,
          26.88235294117647,
          27.333333333333332,
          28.2,
          28.384615384615383,
          28.625,
          29.333333333333332,
          29.38095238095238,
          30.11764705882353,
          31.294117647058822,
          31.625,
          32.1,
          33,
          33.36842105263158,
          33.69565217391305,
          36.04081632653061,
          37.59649122807018,
          37.86666666666667,
          39.354838709677416,
          39.575,
          41.604166666666664,
          43.507246376811594,
          45.25806451612903,
          46.38461538461539,
          46.5,
          49.90909090909091,
          50.18181818181818,
          52.1764705882353,
          53.370370370370374
         ]
        }
       ],
       "layout": {
        "coloraxis": {
         "cmax": 37.020833333333336,
         "cmin": 12.340277777777779,
         "colorbar": {
          "len": 1,
          "nticks": 6,
          "orientation": "h",
          "tickangle": 0,
          "tickfont": {
           "color": "black",
           "size": 30
          },
          "title": {
           "font": {
            "size": 1
           },
           "text": "avg_release_delay"
          },
          "y": 0.06
         },
         "colorscale": [
          [
           0,
           "#0d0887"
          ],
          [
           0.1111111111111111,
           "#46039f"
          ],
          [
           0.2222222222222222,
           "#7201a8"
          ],
          [
           0.3333333333333333,
           "#9c179e"
          ],
          [
           0.4444444444444444,
           "#bd3786"
          ],
          [
           0.5555555555555556,
           "#d8576b"
          ],
          [
           0.6666666666666666,
           "#ed7953"
          ],
          [
           0.7777777777777778,
           "#fb9f3a"
          ],
          [
           0.8888888888888888,
           "#fdca26"
          ],
          [
           1,
           "#f0f921"
          ]
         ]
        },
        "geo": {
         "center": {},
         "domain": {
          "x": [
           0,
           1
          ],
          "y": [
           0,
           1
          ]
         }
        },
        "height": 600,
        "legend": {
         "tracegroupgap": 0
        },
        "margin": {
         "t": 60
        },
        "template": {
         "data": {
          "bar": [
           {
            "error_x": {
             "color": "#2a3f5f"
            },
            "error_y": {
             "color": "#2a3f5f"
            },
            "marker": {
             "line": {
              "color": "#E5ECF6",
              "width": 0.5
             },
             "pattern": {
              "fillmode": "overlay",
              "size": 10,
              "solidity": 0.2
             }
            },
            "type": "bar"
           }
          ],
          "barpolar": [
           {
            "marker": {
             "line": {
              "color": "#E5ECF6",
              "width": 0.5
             },
             "pattern": {
              "fillmode": "overlay",
              "size": 10,
              "solidity": 0.2
             }
            },
            "type": "barpolar"
           }
          ],
          "carpet": [
           {
            "aaxis": {
             "endlinecolor": "#2a3f5f",
             "gridcolor": "white",
             "linecolor": "white",
             "minorgridcolor": "white",
             "startlinecolor": "#2a3f5f"
            },
            "baxis": {
             "endlinecolor": "#2a3f5f",
             "gridcolor": "white",
             "linecolor": "white",
             "minorgridcolor": "white",
             "startlinecolor": "#2a3f5f"
            },
            "type": "carpet"
           }
          ],
          "choropleth": [
           {
            "colorbar": {
             "outlinewidth": 0,
             "ticks": ""
            },
            "type": "choropleth"
           }
          ],
          "contour": [
           {
            "colorbar": {
             "outlinewidth": 0,
             "ticks": ""
            },
            "colorscale": [
             [
              0,
              "#0d0887"
             ],
             [
              0.1111111111111111,
              "#46039f"
             ],
             [
              0.2222222222222222,
              "#7201a8"
             ],
             [
              0.3333333333333333,
              "#9c179e"
             ],
             [
              0.4444444444444444,
              "#bd3786"
             ],
             [
              0.5555555555555556,
              "#d8576b"
             ],
             [
              0.6666666666666666,
              "#ed7953"
             ],
             [
              0.7777777777777778,
              "#fb9f3a"
             ],
             [
              0.8888888888888888,
              "#fdca26"
             ],
             [
              1,
              "#f0f921"
             ]
            ],
            "type": "contour"
           }
          ],
          "contourcarpet": [
           {
            "colorbar": {
             "outlinewidth": 0,
             "ticks": ""
            },
            "type": "contourcarpet"
           }
          ],
          "heatmap": [
           {
            "colorbar": {
             "outlinewidth": 0,
             "ticks": ""
            },
            "colorscale": [
             [
              0,
              "#0d0887"
             ],
             [
              0.1111111111111111,
              "#46039f"
             ],
             [
              0.2222222222222222,
              "#7201a8"
             ],
             [
              0.3333333333333333,
              "#9c179e"
             ],
             [
              0.4444444444444444,
              "#bd3786"
             ],
             [
              0.5555555555555556,
              "#d8576b"
             ],
             [
              0.6666666666666666,
              "#ed7953"
             ],
             [
              0.7777777777777778,
              "#fb9f3a"
             ],
             [
              0.8888888888888888,
              "#fdca26"
             ],
             [
              1,
              "#f0f921"
             ]
            ],
            "type": "heatmap"
           }
          ],
          "heatmapgl": [
           {
            "colorbar": {
             "outlinewidth": 0,
             "ticks": ""
            },
            "colorscale": [
             [
              0,
              "#0d0887"
             ],
             [
              0.1111111111111111,
              "#46039f"
             ],
             [
              0.2222222222222222,
              "#7201a8"
             ],
             [
              0.3333333333333333,
              "#9c179e"
             ],
             [
              0.4444444444444444,
              "#bd3786"
             ],
             [
              0.5555555555555556,
              "#d8576b"
             ],
             [
              0.6666666666666666,
              "#ed7953"
             ],
             [
              0.7777777777777778,
              "#fb9f3a"
             ],
             [
              0.8888888888888888,
              "#fdca26"
             ],
             [
              1,
              "#f0f921"
             ]
            ],
            "type": "heatmapgl"
           }
          ],
          "histogram": [
           {
            "marker": {
             "pattern": {
              "fillmode": "overlay",
              "size": 10,
              "solidity": 0.2
             }
            },
            "type": "histogram"
           }
          ],
          "histogram2d": [
           {
            "colorbar": {
             "outlinewidth": 0,
             "ticks": ""
            },
            "colorscale": [
             [
              0,
              "#0d0887"
             ],
             [
              0.1111111111111111,
              "#46039f"
             ],
             [
              0.2222222222222222,
              "#7201a8"
             ],
             [
              0.3333333333333333,
              "#9c179e"
             ],
             [
              0.4444444444444444,
              "#bd3786"
             ],
             [
              0.5555555555555556,
              "#d8576b"
             ],
             [
              0.6666666666666666,
              "#ed7953"
             ],
             [
              0.7777777777777778,
              "#fb9f3a"
             ],
             [
              0.8888888888888888,
              "#fdca26"
             ],
             [
              1,
              "#f0f921"
             ]
            ],
            "type": "histogram2d"
           }
          ],
          "histogram2dcontour": [
           {
            "colorbar": {
             "outlinewidth": 0,
             "ticks": ""
            },
            "colorscale": [
             [
              0,
              "#0d0887"
             ],
             [
              0.1111111111111111,
              "#46039f"
             ],
             [
              0.2222222222222222,
              "#7201a8"
             ],
             [
              0.3333333333333333,
              "#9c179e"
             ],
             [
              0.4444444444444444,
              "#bd3786"
             ],
             [
              0.5555555555555556,
              "#d8576b"
             ],
             [
              0.6666666666666666,
              "#ed7953"
             ],
             [
              0.7777777777777778,
              "#fb9f3a"
             ],
             [
              0.8888888888888888,
              "#fdca26"
             ],
             [
              1,
              "#f0f921"
             ]
            ],
            "type": "histogram2dcontour"
           }
          ],
          "mesh3d": [
           {
            "colorbar": {
             "outlinewidth": 0,
             "ticks": ""
            },
            "type": "mesh3d"
           }
          ],
          "parcoords": [
           {
            "line": {
             "colorbar": {
              "outlinewidth": 0,
              "ticks": ""
             }
            },
            "type": "parcoords"
           }
          ],
          "pie": [
           {
            "automargin": true,
            "type": "pie"
           }
          ],
          "scatter": [
           {
            "fillpattern": {
             "fillmode": "overlay",
             "size": 10,
             "solidity": 0.2
            },
            "type": "scatter"
           }
          ],
          "scatter3d": [
           {
            "line": {
             "colorbar": {
              "outlinewidth": 0,
              "ticks": ""
             }
            },
            "marker": {
             "colorbar": {
              "outlinewidth": 0,
              "ticks": ""
             }
            },
            "type": "scatter3d"
           }
          ],
          "scattercarpet": [
           {
            "marker": {
             "colorbar": {
              "outlinewidth": 0,
              "ticks": ""
             }
            },
            "type": "scattercarpet"
           }
          ],
          "scattergeo": [
           {
            "marker": {
             "colorbar": {
              "outlinewidth": 0,
              "ticks": ""
             }
            },
            "type": "scattergeo"
           }
          ],
          "scattergl": [
           {
            "marker": {
             "colorbar": {
              "outlinewidth": 0,
              "ticks": ""
             }
            },
            "type": "scattergl"
           }
          ],
          "scattermapbox": [
           {
            "marker": {
             "colorbar": {
              "outlinewidth": 0,
              "ticks": ""
             }
            },
            "type": "scattermapbox"
           }
          ],
          "scatterpolar": [
           {
            "marker": {
             "colorbar": {
              "outlinewidth": 0,
              "ticks": ""
             }
            },
            "type": "scatterpolar"
           }
          ],
          "scatterpolargl": [
           {
            "marker": {
             "colorbar": {
              "outlinewidth": 0,
              "ticks": ""
             }
            },
            "type": "scatterpolargl"
           }
          ],
          "scatterternary": [
           {
            "marker": {
             "colorbar": {
              "outlinewidth": 0,
              "ticks": ""
             }
            },
            "type": "scatterternary"
           }
          ],
          "surface": [
           {
            "colorbar": {
             "outlinewidth": 0,
             "ticks": ""
            },
            "colorscale": [
             [
              0,
              "#0d0887"
             ],
             [
              0.1111111111111111,
              "#46039f"
             ],
             [
              0.2222222222222222,
              "#7201a8"
             ],
             [
              0.3333333333333333,
              "#9c179e"
             ],
             [
              0.4444444444444444,
              "#bd3786"
             ],
             [
              0.5555555555555556,
              "#d8576b"
             ],
             [
              0.6666666666666666,
              "#ed7953"
             ],
             [
              0.7777777777777778,
              "#fb9f3a"
             ],
             [
              0.8888888888888888,
              "#fdca26"
             ],
             [
              1,
              "#f0f921"
             ]
            ],
            "type": "surface"
           }
          ],
          "table": [
           {
            "cells": {
             "fill": {
              "color": "#EBF0F8"
             },
             "line": {
              "color": "white"
             }
            },
            "header": {
             "fill": {
              "color": "#C8D4E3"
             },
             "line": {
              "color": "white"
             }
            },
            "type": "table"
           }
          ]
         },
         "layout": {
          "annotationdefaults": {
           "arrowcolor": "#2a3f5f",
           "arrowhead": 0,
           "arrowwidth": 1
          },
          "autotypenumbers": "strict",
          "coloraxis": {
           "colorbar": {
            "outlinewidth": 0,
            "ticks": ""
           }
          },
          "colorscale": {
           "diverging": [
            [
             0,
             "#8e0152"
            ],
            [
             0.1,
             "#c51b7d"
            ],
            [
             0.2,
             "#de77ae"
            ],
            [
             0.3,
             "#f1b6da"
            ],
            [
             0.4,
             "#fde0ef"
            ],
            [
             0.5,
             "#f7f7f7"
            ],
            [
             0.6,
             "#e6f5d0"
            ],
            [
             0.7,
             "#b8e186"
            ],
            [
             0.8,
             "#7fbc41"
            ],
            [
             0.9,
             "#4d9221"
            ],
            [
             1,
             "#276419"
            ]
           ],
           "sequential": [
            [
             0,
             "#0d0887"
            ],
            [
             0.1111111111111111,
             "#46039f"
            ],
            [
             0.2222222222222222,
             "#7201a8"
            ],
            [
             0.3333333333333333,
             "#9c179e"
            ],
            [
             0.4444444444444444,
             "#bd3786"
            ],
            [
             0.5555555555555556,
             "#d8576b"
            ],
            [
             0.6666666666666666,
             "#ed7953"
            ],
            [
             0.7777777777777778,
             "#fb9f3a"
            ],
            [
             0.8888888888888888,
             "#fdca26"
            ],
            [
             1,
             "#f0f921"
            ]
           ],
           "sequentialminus": [
            [
             0,
             "#0d0887"
            ],
            [
             0.1111111111111111,
             "#46039f"
            ],
            [
             0.2222222222222222,
             "#7201a8"
            ],
            [
             0.3333333333333333,
             "#9c179e"
            ],
            [
             0.4444444444444444,
             "#bd3786"
            ],
            [
             0.5555555555555556,
             "#d8576b"
            ],
            [
             0.6666666666666666,
             "#ed7953"
            ],
            [
             0.7777777777777778,
             "#fb9f3a"
            ],
            [
             0.8888888888888888,
             "#fdca26"
            ],
            [
             1,
             "#f0f921"
            ]
           ]
          },
          "colorway": [
           "#636efa",
           "#EF553B",
           "#00cc96",
           "#ab63fa",
           "#FFA15A",
           "#19d3f3",
           "#FF6692",
           "#B6E880",
           "#FF97FF",
           "#FECB52"
          ],
          "font": {
           "color": "#2a3f5f"
          },
          "geo": {
           "bgcolor": "white",
           "lakecolor": "white",
           "landcolor": "#E5ECF6",
           "showlakes": true,
           "showland": true,
           "subunitcolor": "white"
          },
          "hoverlabel": {
           "align": "left"
          },
          "hovermode": "closest",
          "mapbox": {
           "style": "light"
          },
          "paper_bgcolor": "white",
          "plot_bgcolor": "#E5ECF6",
          "polar": {
           "angularaxis": {
            "gridcolor": "white",
            "linecolor": "white",
            "ticks": ""
           },
           "bgcolor": "#E5ECF6",
           "radialaxis": {
            "gridcolor": "white",
            "linecolor": "white",
            "ticks": ""
           }
          },
          "scene": {
           "xaxis": {
            "backgroundcolor": "#E5ECF6",
            "gridcolor": "white",
            "gridwidth": 2,
            "linecolor": "white",
            "showbackground": true,
            "ticks": "",
            "zerolinecolor": "white"
           },
           "yaxis": {
            "backgroundcolor": "#E5ECF6",
            "gridcolor": "white",
            "gridwidth": 2,
            "linecolor": "white",
            "showbackground": true,
            "ticks": "",
            "zerolinecolor": "white"
           },
           "zaxis": {
            "backgroundcolor": "#E5ECF6",
            "gridcolor": "white",
            "gridwidth": 2,
            "linecolor": "white",
            "showbackground": true,
            "ticks": "",
            "zerolinecolor": "white"
           }
          },
          "shapedefaults": {
           "line": {
            "color": "#2a3f5f"
           }
          },
          "ternary": {
           "aaxis": {
            "gridcolor": "white",
            "linecolor": "white",
            "ticks": ""
           },
           "baxis": {
            "gridcolor": "white",
            "linecolor": "white",
            "ticks": ""
           },
           "bgcolor": "#E5ECF6",
           "caxis": {
            "gridcolor": "white",
            "linecolor": "white",
            "ticks": ""
           }
          },
          "title": {
           "x": 0.05
          },
          "xaxis": {
           "automargin": true,
           "gridcolor": "white",
           "linecolor": "white",
           "ticks": "",
           "title": {
            "standoff": 15
           },
           "zerolinecolor": "white",
           "zerolinewidth": 2
          },
          "yaxis": {
           "automargin": true,
           "gridcolor": "white",
           "linecolor": "white",
           "ticks": "",
           "title": {
            "standoff": 15
           },
           "zerolinecolor": "white",
           "zerolinewidth": 2
          }
         }
        },
        "width": 800
       }
      },
      "text/html": [
       "<div>                            <div id=\"d97192d7-dab2-4c2a-8678-4c09f2c21bbf\" class=\"plotly-graph-div\" style=\"height:600px; width:800px;\"></div>            <script type=\"text/javascript\">                require([\"plotly\"], function(Plotly) {                    window.PLOTLYENV=window.PLOTLYENV || {};                                    if (document.getElementById(\"d97192d7-dab2-4c2a-8678-4c09f2c21bbf\")) {                    Plotly.newPlot(                        \"d97192d7-dab2-4c2a-8678-4c09f2c21bbf\",                        [{\"coloraxis\":\"coloraxis\",\"geo\":\"geo\",\"hovertemplate\":\"<b>%{hovertext}</b><br><br>country_code=%{location}<br>avg_release_delay=%{z}<extra></extra>\",\"hovertext\":[\"BGR\",\"CHE\",\"UKR\",\"RUS\",\"LUX\",\"KAZ\",\"UZB\",\"BGD\",\"NPL\",\"IND\",\"KHM\",\"DEU\",\"VNM\",\"THA\",\"MYS\",\"CYP\",\"NGA\",\"PHL\",\"TWN\",\"NLD\",\"ROU\",\"ARE\",\"KEN\",\"IRN\",\"HUN\",\"GRC\",\"TUR\",\"CZE\",\"SVK\",\"USA\",\"SAU\",\"EGY\",\"LKA\",\"AUT\",\"PAK\",\"TUN\",\"LBY\",\"AFG\",\"ITA\",\"ESP\",\"GBR\",\"MAR\",\"KOR\",\"HRV\",\"SVN\",\"IRQ\",\"FJI\",\"TTO\",\"SRB\",\"MKD\",\"BIH\",\"NOR\",\"CAN\",\"IDN\",\"PRT\",\"HKG\",\"PNG\",\"ISR\",\"IRL\",\"POL\",\"ZAF\",\"CHN\",\"SWE\",\"BEL\",\"AUS\",\"FRA\",\"BOL\",\"NZL\",\"PRI\",\"URY\",\"BRA\",\"SGP\",\"COL\",\"MEX\",\"DOM\",\"PER\",\"PAN\",\"ARG\",\"CHL\",\"GTM\",\"PRY\",\"CRI\",\"HND\",\"SLV\",\"JAM\",\"ECU\"],\"locationmode\":\"ISO-3\",\"locations\":[\"BGR\",\"CHE\",\"UKR\",\"RUS\",\"LUX\",\"KAZ\",\"UZB\",\"BGD\",\"NPL\",\"IND\",\"KHM\",\"DEU\",\"VNM\",\"THA\",\"MYS\",\"CYP\",\"NGA\",\"PHL\",\"TWN\",\"NLD\",\"ROU\",\"ARE\",\"KEN\",\"IRN\",\"HUN\",\"GRC\",\"TUR\",\"CZE\",\"SVK\",\"USA\",\"SAU\",\"EGY\",\"LKA\",\"AUT\",\"PAK\",\"TUN\",\"LBY\",\"AFG\",\"ITA\",\"ESP\",\"GBR\",\"MAR\",\"KOR\",\"HRV\",\"SVN\",\"IRQ\",\"FJI\",\"TTO\",\"SRB\",\"MKD\",\"BIH\",\"NOR\",\"CAN\",\"IDN\",\"PRT\",\"HKG\",\"PNG\",\"ISR\",\"IRL\",\"POL\",\"ZAF\",\"CHN\",\"SWE\",\"BEL\",\"AUS\",\"FRA\",\"BOL\",\"NZL\",\"PRI\",\"URY\",\"BRA\",\"SGP\",\"COL\",\"MEX\",\"DOM\",\"PER\",\"PAN\",\"ARG\",\"CHL\",\"GTM\",\"PRY\",\"CRI\",\"HND\",\"SLV\",\"JAM\",\"ECU\"],\"name\":\"\",\"z\":[17.785714285714285,18.576923076923077,18.785714285714285,18.928571428571427,19.076923076923077,19.142857142857142,19.666666666666668,20.166666666666668,20.666666666666668,21.0,21.0,21.102564102564102,21.153846153846153,21.285714285714285,21.357142857142858,21.7,21.8,21.914285714285715,21.916666666666668,22.095238095238095,22.121951219512194,22.266666666666666,22.3,22.5,22.52777777777778,22.657894736842106,22.692307692307693,22.755102040816325,23.0,23.02262443438914,23.4,23.416666666666668,23.6,23.618181818181817,24.0,24.0,24.041666666666668,24.09090909090909,24.09433962264151,24.115384615384617,24.328125,24.4375,24.52777777777778,24.833333333333332,24.904761904761905,24.928571428571427,25.0,25.05,25.11111111111111,25.166666666666668,25.307692307692307,25.333333333333332,25.37956204379562,25.46153846153846,25.775,25.8,26.0,26.375,26.88235294117647,27.333333333333332,28.2,28.384615384615383,28.625,29.333333333333332,29.38095238095238,30.11764705882353,31.294117647058822,31.625,32.1,33.0,33.36842105263158,33.69565217391305,36.04081632653061,37.59649122807018,37.86666666666667,39.354838709677416,39.575,41.604166666666664,43.507246376811594,45.25806451612903,46.38461538461539,46.5,49.90909090909091,50.18181818181818,52.1764705882353,53.370370370370374],\"type\":\"choropleth\"}],                        {\"template\":{\"data\":{\"histogram2dcontour\":[{\"type\":\"histogram2dcontour\",\"colorbar\":{\"outlinewidth\":0,\"ticks\":\"\"},\"colorscale\":[[0.0,\"#0d0887\"],[0.1111111111111111,\"#46039f\"],[0.2222222222222222,\"#7201a8\"],[0.3333333333333333,\"#9c179e\"],[0.4444444444444444,\"#bd3786\"],[0.5555555555555556,\"#d8576b\"],[0.6666666666666666,\"#ed7953\"],[0.7777777777777778,\"#fb9f3a\"],[0.8888888888888888,\"#fdca26\"],[1.0,\"#f0f921\"]]}],\"choropleth\":[{\"type\":\"choropleth\",\"colorbar\":{\"outlinewidth\":0,\"ticks\":\"\"}}],\"histogram2d\":[{\"type\":\"histogram2d\",\"colorbar\":{\"outlinewidth\":0,\"ticks\":\"\"},\"colorscale\":[[0.0,\"#0d0887\"],[0.1111111111111111,\"#46039f\"],[0.2222222222222222,\"#7201a8\"],[0.3333333333333333,\"#9c179e\"],[0.4444444444444444,\"#bd3786\"],[0.5555555555555556,\"#d8576b\"],[0.6666666666666666,\"#ed7953\"],[0.7777777777777778,\"#fb9f3a\"],[0.8888888888888888,\"#fdca26\"],[1.0,\"#f0f921\"]]}],\"heatmap\":[{\"type\":\"heatmap\",\"colorbar\":{\"outlinewidth\":0,\"ticks\":\"\"},\"colorscale\":[[0.0,\"#0d0887\"],[0.1111111111111111,\"#46039f\"],[0.2222222222222222,\"#7201a8\"],[0.3333333333333333,\"#9c179e\"],[0.4444444444444444,\"#bd3786\"],[0.5555555555555556,\"#d8576b\"],[0.6666666666666666,\"#ed7953\"],[0.7777777777777778,\"#fb9f3a\"],[0.8888888888888888,\"#fdca26\"],[1.0,\"#f0f921\"]]}],\"heatmapgl\":[{\"type\":\"heatmapgl\",\"colorbar\":{\"outlinewidth\":0,\"ticks\":\"\"},\"colorscale\":[[0.0,\"#0d0887\"],[0.1111111111111111,\"#46039f\"],[0.2222222222222222,\"#7201a8\"],[0.3333333333333333,\"#9c179e\"],[0.4444444444444444,\"#bd3786\"],[0.5555555555555556,\"#d8576b\"],[0.6666666666666666,\"#ed7953\"],[0.7777777777777778,\"#fb9f3a\"],[0.8888888888888888,\"#fdca26\"],[1.0,\"#f0f921\"]]}],\"contourcarpet\":[{\"type\":\"contourcarpet\",\"colorbar\":{\"outlinewidth\":0,\"ticks\":\"\"}}],\"contour\":[{\"type\":\"contour\",\"colorbar\":{\"outlinewidth\":0,\"ticks\":\"\"},\"colorscale\":[[0.0,\"#0d0887\"],[0.1111111111111111,\"#46039f\"],[0.2222222222222222,\"#7201a8\"],[0.3333333333333333,\"#9c179e\"],[0.4444444444444444,\"#bd3786\"],[0.5555555555555556,\"#d8576b\"],[0.6666666666666666,\"#ed7953\"],[0.7777777777777778,\"#fb9f3a\"],[0.8888888888888888,\"#fdca26\"],[1.0,\"#f0f921\"]]}],\"surface\":[{\"type\":\"surface\",\"colorbar\":{\"outlinewidth\":0,\"ticks\":\"\"},\"colorscale\":[[0.0,\"#0d0887\"],[0.1111111111111111,\"#46039f\"],[0.2222222222222222,\"#7201a8\"],[0.3333333333333333,\"#9c179e\"],[0.4444444444444444,\"#bd3786\"],[0.5555555555555556,\"#d8576b\"],[0.6666666666666666,\"#ed7953\"],[0.7777777777777778,\"#fb9f3a\"],[0.8888888888888888,\"#fdca26\"],[1.0,\"#f0f921\"]]}],\"mesh3d\":[{\"type\":\"mesh3d\",\"colorbar\":{\"outlinewidth\":0,\"ticks\":\"\"}}],\"scatter\":[{\"fillpattern\":{\"fillmode\":\"overlay\",\"size\":10,\"solidity\":0.2},\"type\":\"scatter\"}],\"parcoords\":[{\"type\":\"parcoords\",\"line\":{\"colorbar\":{\"outlinewidth\":0,\"ticks\":\"\"}}}],\"scatterpolargl\":[{\"type\":\"scatterpolargl\",\"marker\":{\"colorbar\":{\"outlinewidth\":0,\"ticks\":\"\"}}}],\"bar\":[{\"error_x\":{\"color\":\"#2a3f5f\"},\"error_y\":{\"color\":\"#2a3f5f\"},\"marker\":{\"line\":{\"color\":\"#E5ECF6\",\"width\":0.5},\"pattern\":{\"fillmode\":\"overlay\",\"size\":10,\"solidity\":0.2}},\"type\":\"bar\"}],\"scattergeo\":[{\"type\":\"scattergeo\",\"marker\":{\"colorbar\":{\"outlinewidth\":0,\"ticks\":\"\"}}}],\"scatterpolar\":[{\"type\":\"scatterpolar\",\"marker\":{\"colorbar\":{\"outlinewidth\":0,\"ticks\":\"\"}}}],\"histogram\":[{\"marker\":{\"pattern\":{\"fillmode\":\"overlay\",\"size\":10,\"solidity\":0.2}},\"type\":\"histogram\"}],\"scattergl\":[{\"type\":\"scattergl\",\"marker\":{\"colorbar\":{\"outlinewidth\":0,\"ticks\":\"\"}}}],\"scatter3d\":[{\"type\":\"scatter3d\",\"line\":{\"colorbar\":{\"outlinewidth\":0,\"ticks\":\"\"}},\"marker\":{\"colorbar\":{\"outlinewidth\":0,\"ticks\":\"\"}}}],\"scattermapbox\":[{\"type\":\"scattermapbox\",\"marker\":{\"colorbar\":{\"outlinewidth\":0,\"ticks\":\"\"}}}],\"scatterternary\":[{\"type\":\"scatterternary\",\"marker\":{\"colorbar\":{\"outlinewidth\":0,\"ticks\":\"\"}}}],\"scattercarpet\":[{\"type\":\"scattercarpet\",\"marker\":{\"colorbar\":{\"outlinewidth\":0,\"ticks\":\"\"}}}],\"carpet\":[{\"aaxis\":{\"endlinecolor\":\"#2a3f5f\",\"gridcolor\":\"white\",\"linecolor\":\"white\",\"minorgridcolor\":\"white\",\"startlinecolor\":\"#2a3f5f\"},\"baxis\":{\"endlinecolor\":\"#2a3f5f\",\"gridcolor\":\"white\",\"linecolor\":\"white\",\"minorgridcolor\":\"white\",\"startlinecolor\":\"#2a3f5f\"},\"type\":\"carpet\"}],\"table\":[{\"cells\":{\"fill\":{\"color\":\"#EBF0F8\"},\"line\":{\"color\":\"white\"}},\"header\":{\"fill\":{\"color\":\"#C8D4E3\"},\"line\":{\"color\":\"white\"}},\"type\":\"table\"}],\"barpolar\":[{\"marker\":{\"line\":{\"color\":\"#E5ECF6\",\"width\":0.5},\"pattern\":{\"fillmode\":\"overlay\",\"size\":10,\"solidity\":0.2}},\"type\":\"barpolar\"}],\"pie\":[{\"automargin\":true,\"type\":\"pie\"}]},\"layout\":{\"autotypenumbers\":\"strict\",\"colorway\":[\"#636efa\",\"#EF553B\",\"#00cc96\",\"#ab63fa\",\"#FFA15A\",\"#19d3f3\",\"#FF6692\",\"#B6E880\",\"#FF97FF\",\"#FECB52\"],\"font\":{\"color\":\"#2a3f5f\"},\"hovermode\":\"closest\",\"hoverlabel\":{\"align\":\"left\"},\"paper_bgcolor\":\"white\",\"plot_bgcolor\":\"#E5ECF6\",\"polar\":{\"bgcolor\":\"#E5ECF6\",\"angularaxis\":{\"gridcolor\":\"white\",\"linecolor\":\"white\",\"ticks\":\"\"},\"radialaxis\":{\"gridcolor\":\"white\",\"linecolor\":\"white\",\"ticks\":\"\"}},\"ternary\":{\"bgcolor\":\"#E5ECF6\",\"aaxis\":{\"gridcolor\":\"white\",\"linecolor\":\"white\",\"ticks\":\"\"},\"baxis\":{\"gridcolor\":\"white\",\"linecolor\":\"white\",\"ticks\":\"\"},\"caxis\":{\"gridcolor\":\"white\",\"linecolor\":\"white\",\"ticks\":\"\"}},\"coloraxis\":{\"colorbar\":{\"outlinewidth\":0,\"ticks\":\"\"}},\"colorscale\":{\"sequential\":[[0.0,\"#0d0887\"],[0.1111111111111111,\"#46039f\"],[0.2222222222222222,\"#7201a8\"],[0.3333333333333333,\"#9c179e\"],[0.4444444444444444,\"#bd3786\"],[0.5555555555555556,\"#d8576b\"],[0.6666666666666666,\"#ed7953\"],[0.7777777777777778,\"#fb9f3a\"],[0.8888888888888888,\"#fdca26\"],[1.0,\"#f0f921\"]],\"sequentialminus\":[[0.0,\"#0d0887\"],[0.1111111111111111,\"#46039f\"],[0.2222222222222222,\"#7201a8\"],[0.3333333333333333,\"#9c179e\"],[0.4444444444444444,\"#bd3786\"],[0.5555555555555556,\"#d8576b\"],[0.6666666666666666,\"#ed7953\"],[0.7777777777777778,\"#fb9f3a\"],[0.8888888888888888,\"#fdca26\"],[1.0,\"#f0f921\"]],\"diverging\":[[0,\"#8e0152\"],[0.1,\"#c51b7d\"],[0.2,\"#de77ae\"],[0.3,\"#f1b6da\"],[0.4,\"#fde0ef\"],[0.5,\"#f7f7f7\"],[0.6,\"#e6f5d0\"],[0.7,\"#b8e186\"],[0.8,\"#7fbc41\"],[0.9,\"#4d9221\"],[1,\"#276419\"]]},\"xaxis\":{\"gridcolor\":\"white\",\"linecolor\":\"white\",\"ticks\":\"\",\"title\":{\"standoff\":15},\"zerolinecolor\":\"white\",\"automargin\":true,\"zerolinewidth\":2},\"yaxis\":{\"gridcolor\":\"white\",\"linecolor\":\"white\",\"ticks\":\"\",\"title\":{\"standoff\":15},\"zerolinecolor\":\"white\",\"automargin\":true,\"zerolinewidth\":2},\"scene\":{\"xaxis\":{\"backgroundcolor\":\"#E5ECF6\",\"gridcolor\":\"white\",\"linecolor\":\"white\",\"showbackground\":true,\"ticks\":\"\",\"zerolinecolor\":\"white\",\"gridwidth\":2},\"yaxis\":{\"backgroundcolor\":\"#E5ECF6\",\"gridcolor\":\"white\",\"linecolor\":\"white\",\"showbackground\":true,\"ticks\":\"\",\"zerolinecolor\":\"white\",\"gridwidth\":2},\"zaxis\":{\"backgroundcolor\":\"#E5ECF6\",\"gridcolor\":\"white\",\"linecolor\":\"white\",\"showbackground\":true,\"ticks\":\"\",\"zerolinecolor\":\"white\",\"gridwidth\":2}},\"shapedefaults\":{\"line\":{\"color\":\"#2a3f5f\"}},\"annotationdefaults\":{\"arrowcolor\":\"#2a3f5f\",\"arrowhead\":0,\"arrowwidth\":1},\"geo\":{\"bgcolor\":\"white\",\"landcolor\":\"#E5ECF6\",\"subunitcolor\":\"white\",\"showland\":true,\"showlakes\":true,\"lakecolor\":\"white\"},\"title\":{\"x\":0.05},\"mapbox\":{\"style\":\"light\"}}},\"geo\":{\"domain\":{\"x\":[0.0,1.0],\"y\":[0.0,1.0]},\"center\":{}},\"coloraxis\":{\"colorbar\":{\"title\":{\"text\":\"avg_release_delay\",\"font\":{\"size\":1}},\"tickfont\":{\"size\":30,\"color\":\"black\"},\"nticks\":6,\"orientation\":\"h\",\"len\":1,\"y\":0.06,\"tickangle\":0},\"colorscale\":[[0.0,\"#0d0887\"],[0.1111111111111111,\"#46039f\"],[0.2222222222222222,\"#7201a8\"],[0.3333333333333333,\"#9c179e\"],[0.4444444444444444,\"#bd3786\"],[0.5555555555555556,\"#d8576b\"],[0.6666666666666666,\"#ed7953\"],[0.7777777777777778,\"#fb9f3a\"],[0.8888888888888888,\"#fdca26\"],[1.0,\"#f0f921\"]],\"cmin\":12.340277777777779,\"cmax\":37.020833333333336},\"legend\":{\"tracegroupgap\":0},\"margin\":{\"t\":60},\"width\":800,\"height\":600},                        {\"responsive\": true}                    ).then(function(){\n",
       "                            \n",
       "var gd = document.getElementById('d97192d7-dab2-4c2a-8678-4c09f2c21bbf');\n",
       "var x = new MutationObserver(function (mutations, observer) {{\n",
       "        var display = window.getComputedStyle(gd).display;\n",
       "        if (!display || display === 'none') {{\n",
       "            console.log([gd, 'removed!']);\n",
       "            Plotly.purge(gd);\n",
       "            observer.disconnect();\n",
       "        }}\n",
       "}});\n",
       "\n",
       "// Listen for the removal of the full notebook cells\n",
       "var notebookContainer = gd.closest('#notebook-container');\n",
       "if (notebookContainer) {{\n",
       "    x.observe(notebookContainer, {childList: true});\n",
       "}}\n",
       "\n",
       "// Listen for the clearing of the current output cell\n",
       "var outputEl = gd.closest('.output');\n",
       "if (outputEl) {{\n",
       "    x.observe(outputEl, {childList: true});\n",
       "}}\n",
       "\n",
       "                        })                };                });            </script>        </div>"
      ]
     },
     "metadata": {},
     "output_type": "display_data"
    },
    {
     "name": "stdout",
     "output_type": "stream",
     "text": [
      "Avg: 24.680555555555557\n"
     ]
    }
   ],
   "source": [
    "p = 'avg_release_delay'\n",
    "\n",
    "values_to_plot = df_final_samsung_monthly.groupby(['iso_code'])[p].mean().sort_values(ascending=True)\n",
    "avg = values_to_plot.median()\n",
    "\n",
    "df_plot = pd.DataFrame(values_to_plot.values,columns=[p])\n",
    "df_plot['country_code'] = values_to_plot.index\n",
    "\n",
    "fig = px.choropleth(df_plot, locations=\"country_code\",\n",
    "                    locationmode='ISO-3',\n",
    "                    color= p,\n",
    "                    hover_name=\"country_code\",\n",
    "                    color_continuous_scale=px.colors.sequential.Plasma,\n",
    "                    range_color=(0.5*avg,1.5*avg))\n",
    "\n",
    "fig.update_layout(\n",
    "        width=800,\n",
    "        height=600,\n",
    "        coloraxis=dict(\n",
    "            colorbar_nticks=6,\n",
    "            colorbar_orientation='h',\n",
    "            #colorbar_borderwidth = 2,\n",
    "            colorbar_len=1,\n",
    "            colorbar_y=+0.06,\n",
    "            #colorbar_ticksuffix=' days',\n",
    "            colorbar_title_font_size=1,\n",
    "            colorbar=dict(\n",
    "                #title_side='bottom',\n",
    "                tickangle=0,\n",
    "                tickfont=dict(size=30, color='black'))\n",
    "            )\n",
    ")\n",
    "\n",
    "layout = go.Layout(\n",
    "  margin=go.layout.Margin(\n",
    "        l=0, #left margin\n",
    "        r=0, #right margin\n",
    "        b=0, #bottom margin\n",
    "        t=0  #top margin\n",
    "    )\n",
    ")\n",
    "\n",
    "\n",
    "fig.show()\n",
    "\n",
    "fig.write_image(\"../Results/geolocation_monthly_delay.pdf\")\n",
    "\n",
    "fig.write_html(\"../Results/InteractiveFigures/geolocation_monthly_delay.html\",full_html=False, include_plotlyjs='cdn')\n",
    "\n",
    "print('Avg: {}'.format(avg))\n"
   ]
  },
  {
   "cell_type": "markdown",
   "id": "507677aa",
   "metadata": {},
   "source": [
    "## Samsung - Quarterly Maps"
   ]
  },
  {
   "cell_type": "markdown",
   "id": "e471a5f3",
   "metadata": {},
   "source": [
    "### Update Count"
   ]
  },
  {
   "cell_type": "code",
   "execution_count": 173,
   "id": "abbe143f",
   "metadata": {},
   "outputs": [
    {
     "data": {
      "application/vnd.plotly.v1+json": {
       "config": {
        "plotlyServerURL": "https://plot.ly"
       },
       "data": [
        {
         "coloraxis": "coloraxis",
         "geo": "geo",
         "hovertemplate": "<b>%{hovertext}</b><br><br>country_code=%{location}<br>release_count=%{z}<extra></extra>",
         "hovertext": [
          "ZMB",
          "MUS",
          "BEL",
          "NOR",
          "DZA",
          "BIH",
          "CAN",
          "BGD",
          "SWE",
          "IRN",
          "JAM",
          "USA",
          "ISR",
          "KOR",
          "HND",
          "CRI",
          "SLV",
          "NZL",
          "NPL",
          "HUN",
          "DOM",
          "CYP",
          "TTO",
          "AUS",
          "ECU",
          "BOL",
          "AUT",
          "CHL",
          "PRY",
          "HRV",
          "CHN",
          "MAR",
          "PAN",
          "AFG",
          "LKA",
          "GTM",
          "MEX",
          "SAU",
          "COL",
          "NLD",
          "URY",
          "ARG",
          "PAK",
          "BGR",
          "ZAF",
          "EGY",
          "SRB",
          "POL",
          "PER",
          "SVN",
          "LBY",
          "CHE",
          "TUN",
          "SGP",
          "GBR",
          "PNG",
          "FRA",
          "NGA",
          "PRT",
          "MKD",
          "ITA",
          "IRL",
          "FJI",
          "TWN",
          "DEU",
          "IRQ",
          "KEN",
          "CZE",
          "TUR",
          "BRA",
          "KHM",
          "PRI",
          "HKG",
          "UZB",
          "ESP",
          "GRC",
          "ROU",
          "IDN",
          "KAZ",
          "ARE",
          "LUX",
          "SVK",
          "RUS",
          "PHL",
          "UKR",
          "IND",
          "VNM",
          "MYS",
          "THA",
          "ALB"
         ],
         "locationmode": "ISO-3",
         "locations": [
          "ZMB",
          "MUS",
          "BEL",
          "NOR",
          "DZA",
          "BIH",
          "CAN",
          "BGD",
          "SWE",
          "IRN",
          "JAM",
          "USA",
          "ISR",
          "KOR",
          "HND",
          "CRI",
          "SLV",
          "NZL",
          "NPL",
          "HUN",
          "DOM",
          "CYP",
          "TTO",
          "AUS",
          "ECU",
          "BOL",
          "AUT",
          "CHL",
          "PRY",
          "HRV",
          "CHN",
          "MAR",
          "PAN",
          "AFG",
          "LKA",
          "GTM",
          "MEX",
          "SAU",
          "COL",
          "NLD",
          "URY",
          "ARG",
          "PAK",
          "BGR",
          "ZAF",
          "EGY",
          "SRB",
          "POL",
          "PER",
          "SVN",
          "LBY",
          "CHE",
          "TUN",
          "SGP",
          "GBR",
          "PNG",
          "FRA",
          "NGA",
          "PRT",
          "MKD",
          "ITA",
          "IRL",
          "FJI",
          "TWN",
          "DEU",
          "IRQ",
          "KEN",
          "CZE",
          "TUR",
          "BRA",
          "KHM",
          "PRI",
          "HKG",
          "UZB",
          "ESP",
          "GRC",
          "ROU",
          "IDN",
          "KAZ",
          "ARE",
          "LUX",
          "SVK",
          "RUS",
          "PHL",
          "UKR",
          "IND",
          "VNM",
          "MYS",
          "THA",
          "ALB"
         ],
         "name": "",
         "type": "choropleth",
         "z": [
          1,
          1,
          3.5555555555555554,
          4.285714285714286,
          4.5,
          5.914285714285715,
          6,
          6.3,
          6.428571428571429,
          7.16,
          7.188679245283019,
          7.341085271317829,
          7.428571428571429,
          7.542857142857143,
          7.933333333333334,
          8,
          8.033333333333333,
          8.233766233766234,
          8.324324324324325,
          8.68041237113402,
          8.686868686868687,
          8.727272727272727,
          8.728813559322035,
          8.790697674418604,
          8.81651376146789,
          8.852272727272727,
          8.973214285714286,
          9.089430894308943,
          9.094736842105263,
          9.112903225806452,
          9.133333333333333,
          9.138461538461538,
          9.244604316546763,
          9.304347826086957,
          9.31578947368421,
          9.343434343434344,
          9.35960591133005,
          9.36936936936937,
          9.430232558139535,
          9.43298969072165,
          9.450617283950617,
          9.486772486772487,
          9.545454545454545,
          9.595744680851064,
          9.597122302158274,
          9.607142857142858,
          9.625,
          9.707142857142857,
          9.724137931034482,
          9.789473684210526,
          9.829787234042554,
          9.851851851851851,
          9.918367346938776,
          9.936708860759493,
          9.95138888888889,
          9.961538461538462,
          9.98473282442748,
          10.020833333333334,
          10.025862068965518,
          10.04,
          10.058394160583942,
          10.060975609756097,
          10.074074074074074,
          10.104166666666666,
          10.115789473684211,
          10.116666666666667,
          10.125,
          10.1328125,
          10.161290322580646,
          10.197860962566844,
          10.2,
          10.25,
          10.268292682926829,
          10.311111111111112,
          10.353383458646617,
          10.424242424242424,
          10.477477477477477,
          10.483333333333333,
          10.51063829787234,
          10.515625,
          10.53191489361702,
          10.700934579439252,
          10.766666666666667,
          10.866666666666667,
          10.879310344827585,
          11.08,
          11.098039215686274,
          11.116666666666667,
          11.34375,
          14.571428571428571
         ]
        }
       ],
       "layout": {
        "coloraxis": {
         "cmax": 14.403198869475847,
         "cmin": 4.8010662898252825,
         "colorbar": {
          "len": 1,
          "nticks": 6,
          "orientation": "h",
          "tickangle": 0,
          "tickfont": {
           "color": "black",
           "size": 30
          },
          "title": {
           "font": {
            "size": 1
           },
           "text": "release_count"
          },
          "y": 0.06
         },
         "colorscale": [
          [
           0,
           "#0d0887"
          ],
          [
           0.1111111111111111,
           "#46039f"
          ],
          [
           0.2222222222222222,
           "#7201a8"
          ],
          [
           0.3333333333333333,
           "#9c179e"
          ],
          [
           0.4444444444444444,
           "#bd3786"
          ],
          [
           0.5555555555555556,
           "#d8576b"
          ],
          [
           0.6666666666666666,
           "#ed7953"
          ],
          [
           0.7777777777777778,
           "#fb9f3a"
          ],
          [
           0.8888888888888888,
           "#fdca26"
          ],
          [
           1,
           "#f0f921"
          ]
         ]
        },
        "geo": {
         "center": {},
         "domain": {
          "x": [
           0,
           1
          ],
          "y": [
           0,
           1
          ]
         }
        },
        "height": 600,
        "legend": {
         "tracegroupgap": 0
        },
        "margin": {
         "t": 60
        },
        "template": {
         "data": {
          "bar": [
           {
            "error_x": {
             "color": "#2a3f5f"
            },
            "error_y": {
             "color": "#2a3f5f"
            },
            "marker": {
             "line": {
              "color": "#E5ECF6",
              "width": 0.5
             },
             "pattern": {
              "fillmode": "overlay",
              "size": 10,
              "solidity": 0.2
             }
            },
            "type": "bar"
           }
          ],
          "barpolar": [
           {
            "marker": {
             "line": {
              "color": "#E5ECF6",
              "width": 0.5
             },
             "pattern": {
              "fillmode": "overlay",
              "size": 10,
              "solidity": 0.2
             }
            },
            "type": "barpolar"
           }
          ],
          "carpet": [
           {
            "aaxis": {
             "endlinecolor": "#2a3f5f",
             "gridcolor": "white",
             "linecolor": "white",
             "minorgridcolor": "white",
             "startlinecolor": "#2a3f5f"
            },
            "baxis": {
             "endlinecolor": "#2a3f5f",
             "gridcolor": "white",
             "linecolor": "white",
             "minorgridcolor": "white",
             "startlinecolor": "#2a3f5f"
            },
            "type": "carpet"
           }
          ],
          "choropleth": [
           {
            "colorbar": {
             "outlinewidth": 0,
             "ticks": ""
            },
            "type": "choropleth"
           }
          ],
          "contour": [
           {
            "colorbar": {
             "outlinewidth": 0,
             "ticks": ""
            },
            "colorscale": [
             [
              0,
              "#0d0887"
             ],
             [
              0.1111111111111111,
              "#46039f"
             ],
             [
              0.2222222222222222,
              "#7201a8"
             ],
             [
              0.3333333333333333,
              "#9c179e"
             ],
             [
              0.4444444444444444,
              "#bd3786"
             ],
             [
              0.5555555555555556,
              "#d8576b"
             ],
             [
              0.6666666666666666,
              "#ed7953"
             ],
             [
              0.7777777777777778,
              "#fb9f3a"
             ],
             [
              0.8888888888888888,
              "#fdca26"
             ],
             [
              1,
              "#f0f921"
             ]
            ],
            "type": "contour"
           }
          ],
          "contourcarpet": [
           {
            "colorbar": {
             "outlinewidth": 0,
             "ticks": ""
            },
            "type": "contourcarpet"
           }
          ],
          "heatmap": [
           {
            "colorbar": {
             "outlinewidth": 0,
             "ticks": ""
            },
            "colorscale": [
             [
              0,
              "#0d0887"
             ],
             [
              0.1111111111111111,
              "#46039f"
             ],
             [
              0.2222222222222222,
              "#7201a8"
             ],
             [
              0.3333333333333333,
              "#9c179e"
             ],
             [
              0.4444444444444444,
              "#bd3786"
             ],
             [
              0.5555555555555556,
              "#d8576b"
             ],
             [
              0.6666666666666666,
              "#ed7953"
             ],
             [
              0.7777777777777778,
              "#fb9f3a"
             ],
             [
              0.8888888888888888,
              "#fdca26"
             ],
             [
              1,
              "#f0f921"
             ]
            ],
            "type": "heatmap"
           }
          ],
          "heatmapgl": [
           {
            "colorbar": {
             "outlinewidth": 0,
             "ticks": ""
            },
            "colorscale": [
             [
              0,
              "#0d0887"
             ],
             [
              0.1111111111111111,
              "#46039f"
             ],
             [
              0.2222222222222222,
              "#7201a8"
             ],
             [
              0.3333333333333333,
              "#9c179e"
             ],
             [
              0.4444444444444444,
              "#bd3786"
             ],
             [
              0.5555555555555556,
              "#d8576b"
             ],
             [
              0.6666666666666666,
              "#ed7953"
             ],
             [
              0.7777777777777778,
              "#fb9f3a"
             ],
             [
              0.8888888888888888,
              "#fdca26"
             ],
             [
              1,
              "#f0f921"
             ]
            ],
            "type": "heatmapgl"
           }
          ],
          "histogram": [
           {
            "marker": {
             "pattern": {
              "fillmode": "overlay",
              "size": 10,
              "solidity": 0.2
             }
            },
            "type": "histogram"
           }
          ],
          "histogram2d": [
           {
            "colorbar": {
             "outlinewidth": 0,
             "ticks": ""
            },
            "colorscale": [
             [
              0,
              "#0d0887"
             ],
             [
              0.1111111111111111,
              "#46039f"
             ],
             [
              0.2222222222222222,
              "#7201a8"
             ],
             [
              0.3333333333333333,
              "#9c179e"
             ],
             [
              0.4444444444444444,
              "#bd3786"
             ],
             [
              0.5555555555555556,
              "#d8576b"
             ],
             [
              0.6666666666666666,
              "#ed7953"
             ],
             [
              0.7777777777777778,
              "#fb9f3a"
             ],
             [
              0.8888888888888888,
              "#fdca26"
             ],
             [
              1,
              "#f0f921"
             ]
            ],
            "type": "histogram2d"
           }
          ],
          "histogram2dcontour": [
           {
            "colorbar": {
             "outlinewidth": 0,
             "ticks": ""
            },
            "colorscale": [
             [
              0,
              "#0d0887"
             ],
             [
              0.1111111111111111,
              "#46039f"
             ],
             [
              0.2222222222222222,
              "#7201a8"
             ],
             [
              0.3333333333333333,
              "#9c179e"
             ],
             [
              0.4444444444444444,
              "#bd3786"
             ],
             [
              0.5555555555555556,
              "#d8576b"
             ],
             [
              0.6666666666666666,
              "#ed7953"
             ],
             [
              0.7777777777777778,
              "#fb9f3a"
             ],
             [
              0.8888888888888888,
              "#fdca26"
             ],
             [
              1,
              "#f0f921"
             ]
            ],
            "type": "histogram2dcontour"
           }
          ],
          "mesh3d": [
           {
            "colorbar": {
             "outlinewidth": 0,
             "ticks": ""
            },
            "type": "mesh3d"
           }
          ],
          "parcoords": [
           {
            "line": {
             "colorbar": {
              "outlinewidth": 0,
              "ticks": ""
             }
            },
            "type": "parcoords"
           }
          ],
          "pie": [
           {
            "automargin": true,
            "type": "pie"
           }
          ],
          "scatter": [
           {
            "fillpattern": {
             "fillmode": "overlay",
             "size": 10,
             "solidity": 0.2
            },
            "type": "scatter"
           }
          ],
          "scatter3d": [
           {
            "line": {
             "colorbar": {
              "outlinewidth": 0,
              "ticks": ""
             }
            },
            "marker": {
             "colorbar": {
              "outlinewidth": 0,
              "ticks": ""
             }
            },
            "type": "scatter3d"
           }
          ],
          "scattercarpet": [
           {
            "marker": {
             "colorbar": {
              "outlinewidth": 0,
              "ticks": ""
             }
            },
            "type": "scattercarpet"
           }
          ],
          "scattergeo": [
           {
            "marker": {
             "colorbar": {
              "outlinewidth": 0,
              "ticks": ""
             }
            },
            "type": "scattergeo"
           }
          ],
          "scattergl": [
           {
            "marker": {
             "colorbar": {
              "outlinewidth": 0,
              "ticks": ""
             }
            },
            "type": "scattergl"
           }
          ],
          "scattermapbox": [
           {
            "marker": {
             "colorbar": {
              "outlinewidth": 0,
              "ticks": ""
             }
            },
            "type": "scattermapbox"
           }
          ],
          "scatterpolar": [
           {
            "marker": {
             "colorbar": {
              "outlinewidth": 0,
              "ticks": ""
             }
            },
            "type": "scatterpolar"
           }
          ],
          "scatterpolargl": [
           {
            "marker": {
             "colorbar": {
              "outlinewidth": 0,
              "ticks": ""
             }
            },
            "type": "scatterpolargl"
           }
          ],
          "scatterternary": [
           {
            "marker": {
             "colorbar": {
              "outlinewidth": 0,
              "ticks": ""
             }
            },
            "type": "scatterternary"
           }
          ],
          "surface": [
           {
            "colorbar": {
             "outlinewidth": 0,
             "ticks": ""
            },
            "colorscale": [
             [
              0,
              "#0d0887"
             ],
             [
              0.1111111111111111,
              "#46039f"
             ],
             [
              0.2222222222222222,
              "#7201a8"
             ],
             [
              0.3333333333333333,
              "#9c179e"
             ],
             [
              0.4444444444444444,
              "#bd3786"
             ],
             [
              0.5555555555555556,
              "#d8576b"
             ],
             [
              0.6666666666666666,
              "#ed7953"
             ],
             [
              0.7777777777777778,
              "#fb9f3a"
             ],
             [
              0.8888888888888888,
              "#fdca26"
             ],
             [
              1,
              "#f0f921"
             ]
            ],
            "type": "surface"
           }
          ],
          "table": [
           {
            "cells": {
             "fill": {
              "color": "#EBF0F8"
             },
             "line": {
              "color": "white"
             }
            },
            "header": {
             "fill": {
              "color": "#C8D4E3"
             },
             "line": {
              "color": "white"
             }
            },
            "type": "table"
           }
          ]
         },
         "layout": {
          "annotationdefaults": {
           "arrowcolor": "#2a3f5f",
           "arrowhead": 0,
           "arrowwidth": 1
          },
          "autotypenumbers": "strict",
          "coloraxis": {
           "colorbar": {
            "outlinewidth": 0,
            "ticks": ""
           }
          },
          "colorscale": {
           "diverging": [
            [
             0,
             "#8e0152"
            ],
            [
             0.1,
             "#c51b7d"
            ],
            [
             0.2,
             "#de77ae"
            ],
            [
             0.3,
             "#f1b6da"
            ],
            [
             0.4,
             "#fde0ef"
            ],
            [
             0.5,
             "#f7f7f7"
            ],
            [
             0.6,
             "#e6f5d0"
            ],
            [
             0.7,
             "#b8e186"
            ],
            [
             0.8,
             "#7fbc41"
            ],
            [
             0.9,
             "#4d9221"
            ],
            [
             1,
             "#276419"
            ]
           ],
           "sequential": [
            [
             0,
             "#0d0887"
            ],
            [
             0.1111111111111111,
             "#46039f"
            ],
            [
             0.2222222222222222,
             "#7201a8"
            ],
            [
             0.3333333333333333,
             "#9c179e"
            ],
            [
             0.4444444444444444,
             "#bd3786"
            ],
            [
             0.5555555555555556,
             "#d8576b"
            ],
            [
             0.6666666666666666,
             "#ed7953"
            ],
            [
             0.7777777777777778,
             "#fb9f3a"
            ],
            [
             0.8888888888888888,
             "#fdca26"
            ],
            [
             1,
             "#f0f921"
            ]
           ],
           "sequentialminus": [
            [
             0,
             "#0d0887"
            ],
            [
             0.1111111111111111,
             "#46039f"
            ],
            [
             0.2222222222222222,
             "#7201a8"
            ],
            [
             0.3333333333333333,
             "#9c179e"
            ],
            [
             0.4444444444444444,
             "#bd3786"
            ],
            [
             0.5555555555555556,
             "#d8576b"
            ],
            [
             0.6666666666666666,
             "#ed7953"
            ],
            [
             0.7777777777777778,
             "#fb9f3a"
            ],
            [
             0.8888888888888888,
             "#fdca26"
            ],
            [
             1,
             "#f0f921"
            ]
           ]
          },
          "colorway": [
           "#636efa",
           "#EF553B",
           "#00cc96",
           "#ab63fa",
           "#FFA15A",
           "#19d3f3",
           "#FF6692",
           "#B6E880",
           "#FF97FF",
           "#FECB52"
          ],
          "font": {
           "color": "#2a3f5f"
          },
          "geo": {
           "bgcolor": "white",
           "lakecolor": "white",
           "landcolor": "#E5ECF6",
           "showlakes": true,
           "showland": true,
           "subunitcolor": "white"
          },
          "hoverlabel": {
           "align": "left"
          },
          "hovermode": "closest",
          "mapbox": {
           "style": "light"
          },
          "paper_bgcolor": "white",
          "plot_bgcolor": "#E5ECF6",
          "polar": {
           "angularaxis": {
            "gridcolor": "white",
            "linecolor": "white",
            "ticks": ""
           },
           "bgcolor": "#E5ECF6",
           "radialaxis": {
            "gridcolor": "white",
            "linecolor": "white",
            "ticks": ""
           }
          },
          "scene": {
           "xaxis": {
            "backgroundcolor": "#E5ECF6",
            "gridcolor": "white",
            "gridwidth": 2,
            "linecolor": "white",
            "showbackground": true,
            "ticks": "",
            "zerolinecolor": "white"
           },
           "yaxis": {
            "backgroundcolor": "#E5ECF6",
            "gridcolor": "white",
            "gridwidth": 2,
            "linecolor": "white",
            "showbackground": true,
            "ticks": "",
            "zerolinecolor": "white"
           },
           "zaxis": {
            "backgroundcolor": "#E5ECF6",
            "gridcolor": "white",
            "gridwidth": 2,
            "linecolor": "white",
            "showbackground": true,
            "ticks": "",
            "zerolinecolor": "white"
           }
          },
          "shapedefaults": {
           "line": {
            "color": "#2a3f5f"
           }
          },
          "ternary": {
           "aaxis": {
            "gridcolor": "white",
            "linecolor": "white",
            "ticks": ""
           },
           "baxis": {
            "gridcolor": "white",
            "linecolor": "white",
            "ticks": ""
           },
           "bgcolor": "#E5ECF6",
           "caxis": {
            "gridcolor": "white",
            "linecolor": "white",
            "ticks": ""
           }
          },
          "title": {
           "x": 0.05
          },
          "xaxis": {
           "automargin": true,
           "gridcolor": "white",
           "linecolor": "white",
           "ticks": "",
           "title": {
            "standoff": 15
           },
           "zerolinecolor": "white",
           "zerolinewidth": 2
          },
          "yaxis": {
           "automargin": true,
           "gridcolor": "white",
           "linecolor": "white",
           "ticks": "",
           "title": {
            "standoff": 15
           },
           "zerolinecolor": "white",
           "zerolinewidth": 2
          }
         }
        },
        "width": 800
       }
      },
      "text/html": [
       "<div>                            <div id=\"af22f4ee-0936-4c3c-8963-da6f2ec138ee\" class=\"plotly-graph-div\" style=\"height:600px; width:800px;\"></div>            <script type=\"text/javascript\">                require([\"plotly\"], function(Plotly) {                    window.PLOTLYENV=window.PLOTLYENV || {};                                    if (document.getElementById(\"af22f4ee-0936-4c3c-8963-da6f2ec138ee\")) {                    Plotly.newPlot(                        \"af22f4ee-0936-4c3c-8963-da6f2ec138ee\",                        [{\"coloraxis\":\"coloraxis\",\"geo\":\"geo\",\"hovertemplate\":\"<b>%{hovertext}</b><br><br>country_code=%{location}<br>release_count=%{z}<extra></extra>\",\"hovertext\":[\"ZMB\",\"MUS\",\"BEL\",\"NOR\",\"DZA\",\"BIH\",\"CAN\",\"BGD\",\"SWE\",\"IRN\",\"JAM\",\"USA\",\"ISR\",\"KOR\",\"HND\",\"CRI\",\"SLV\",\"NZL\",\"NPL\",\"HUN\",\"DOM\",\"CYP\",\"TTO\",\"AUS\",\"ECU\",\"BOL\",\"AUT\",\"CHL\",\"PRY\",\"HRV\",\"CHN\",\"MAR\",\"PAN\",\"AFG\",\"LKA\",\"GTM\",\"MEX\",\"SAU\",\"COL\",\"NLD\",\"URY\",\"ARG\",\"PAK\",\"BGR\",\"ZAF\",\"EGY\",\"SRB\",\"POL\",\"PER\",\"SVN\",\"LBY\",\"CHE\",\"TUN\",\"SGP\",\"GBR\",\"PNG\",\"FRA\",\"NGA\",\"PRT\",\"MKD\",\"ITA\",\"IRL\",\"FJI\",\"TWN\",\"DEU\",\"IRQ\",\"KEN\",\"CZE\",\"TUR\",\"BRA\",\"KHM\",\"PRI\",\"HKG\",\"UZB\",\"ESP\",\"GRC\",\"ROU\",\"IDN\",\"KAZ\",\"ARE\",\"LUX\",\"SVK\",\"RUS\",\"PHL\",\"UKR\",\"IND\",\"VNM\",\"MYS\",\"THA\",\"ALB\"],\"locationmode\":\"ISO-3\",\"locations\":[\"ZMB\",\"MUS\",\"BEL\",\"NOR\",\"DZA\",\"BIH\",\"CAN\",\"BGD\",\"SWE\",\"IRN\",\"JAM\",\"USA\",\"ISR\",\"KOR\",\"HND\",\"CRI\",\"SLV\",\"NZL\",\"NPL\",\"HUN\",\"DOM\",\"CYP\",\"TTO\",\"AUS\",\"ECU\",\"BOL\",\"AUT\",\"CHL\",\"PRY\",\"HRV\",\"CHN\",\"MAR\",\"PAN\",\"AFG\",\"LKA\",\"GTM\",\"MEX\",\"SAU\",\"COL\",\"NLD\",\"URY\",\"ARG\",\"PAK\",\"BGR\",\"ZAF\",\"EGY\",\"SRB\",\"POL\",\"PER\",\"SVN\",\"LBY\",\"CHE\",\"TUN\",\"SGP\",\"GBR\",\"PNG\",\"FRA\",\"NGA\",\"PRT\",\"MKD\",\"ITA\",\"IRL\",\"FJI\",\"TWN\",\"DEU\",\"IRQ\",\"KEN\",\"CZE\",\"TUR\",\"BRA\",\"KHM\",\"PRI\",\"HKG\",\"UZB\",\"ESP\",\"GRC\",\"ROU\",\"IDN\",\"KAZ\",\"ARE\",\"LUX\",\"SVK\",\"RUS\",\"PHL\",\"UKR\",\"IND\",\"VNM\",\"MYS\",\"THA\",\"ALB\"],\"name\":\"\",\"z\":[1.0,1.0,3.5555555555555554,4.285714285714286,4.5,5.914285714285715,6.0,6.3,6.428571428571429,7.16,7.188679245283019,7.341085271317829,7.428571428571429,7.542857142857143,7.933333333333334,8.0,8.033333333333333,8.233766233766234,8.324324324324325,8.68041237113402,8.686868686868687,8.727272727272727,8.728813559322035,8.790697674418604,8.81651376146789,8.852272727272727,8.973214285714286,9.089430894308943,9.094736842105263,9.112903225806452,9.133333333333333,9.138461538461538,9.244604316546763,9.304347826086957,9.31578947368421,9.343434343434344,9.35960591133005,9.36936936936937,9.430232558139535,9.43298969072165,9.450617283950617,9.486772486772487,9.545454545454545,9.595744680851064,9.597122302158274,9.607142857142858,9.625,9.707142857142857,9.724137931034482,9.789473684210526,9.829787234042554,9.851851851851851,9.918367346938776,9.936708860759493,9.95138888888889,9.961538461538462,9.98473282442748,10.020833333333334,10.025862068965518,10.04,10.058394160583942,10.060975609756097,10.074074074074074,10.104166666666666,10.115789473684211,10.116666666666667,10.125,10.1328125,10.161290322580646,10.197860962566844,10.2,10.25,10.268292682926829,10.311111111111112,10.353383458646617,10.424242424242424,10.477477477477477,10.483333333333333,10.51063829787234,10.515625,10.53191489361702,10.700934579439252,10.766666666666667,10.866666666666667,10.879310344827585,11.08,11.098039215686274,11.116666666666667,11.34375,14.571428571428571],\"type\":\"choropleth\"}],                        {\"template\":{\"data\":{\"histogram2dcontour\":[{\"type\":\"histogram2dcontour\",\"colorbar\":{\"outlinewidth\":0,\"ticks\":\"\"},\"colorscale\":[[0.0,\"#0d0887\"],[0.1111111111111111,\"#46039f\"],[0.2222222222222222,\"#7201a8\"],[0.3333333333333333,\"#9c179e\"],[0.4444444444444444,\"#bd3786\"],[0.5555555555555556,\"#d8576b\"],[0.6666666666666666,\"#ed7953\"],[0.7777777777777778,\"#fb9f3a\"],[0.8888888888888888,\"#fdca26\"],[1.0,\"#f0f921\"]]}],\"choropleth\":[{\"type\":\"choropleth\",\"colorbar\":{\"outlinewidth\":0,\"ticks\":\"\"}}],\"histogram2d\":[{\"type\":\"histogram2d\",\"colorbar\":{\"outlinewidth\":0,\"ticks\":\"\"},\"colorscale\":[[0.0,\"#0d0887\"],[0.1111111111111111,\"#46039f\"],[0.2222222222222222,\"#7201a8\"],[0.3333333333333333,\"#9c179e\"],[0.4444444444444444,\"#bd3786\"],[0.5555555555555556,\"#d8576b\"],[0.6666666666666666,\"#ed7953\"],[0.7777777777777778,\"#fb9f3a\"],[0.8888888888888888,\"#fdca26\"],[1.0,\"#f0f921\"]]}],\"heatmap\":[{\"type\":\"heatmap\",\"colorbar\":{\"outlinewidth\":0,\"ticks\":\"\"},\"colorscale\":[[0.0,\"#0d0887\"],[0.1111111111111111,\"#46039f\"],[0.2222222222222222,\"#7201a8\"],[0.3333333333333333,\"#9c179e\"],[0.4444444444444444,\"#bd3786\"],[0.5555555555555556,\"#d8576b\"],[0.6666666666666666,\"#ed7953\"],[0.7777777777777778,\"#fb9f3a\"],[0.8888888888888888,\"#fdca26\"],[1.0,\"#f0f921\"]]}],\"heatmapgl\":[{\"type\":\"heatmapgl\",\"colorbar\":{\"outlinewidth\":0,\"ticks\":\"\"},\"colorscale\":[[0.0,\"#0d0887\"],[0.1111111111111111,\"#46039f\"],[0.2222222222222222,\"#7201a8\"],[0.3333333333333333,\"#9c179e\"],[0.4444444444444444,\"#bd3786\"],[0.5555555555555556,\"#d8576b\"],[0.6666666666666666,\"#ed7953\"],[0.7777777777777778,\"#fb9f3a\"],[0.8888888888888888,\"#fdca26\"],[1.0,\"#f0f921\"]]}],\"contourcarpet\":[{\"type\":\"contourcarpet\",\"colorbar\":{\"outlinewidth\":0,\"ticks\":\"\"}}],\"contour\":[{\"type\":\"contour\",\"colorbar\":{\"outlinewidth\":0,\"ticks\":\"\"},\"colorscale\":[[0.0,\"#0d0887\"],[0.1111111111111111,\"#46039f\"],[0.2222222222222222,\"#7201a8\"],[0.3333333333333333,\"#9c179e\"],[0.4444444444444444,\"#bd3786\"],[0.5555555555555556,\"#d8576b\"],[0.6666666666666666,\"#ed7953\"],[0.7777777777777778,\"#fb9f3a\"],[0.8888888888888888,\"#fdca26\"],[1.0,\"#f0f921\"]]}],\"surface\":[{\"type\":\"surface\",\"colorbar\":{\"outlinewidth\":0,\"ticks\":\"\"},\"colorscale\":[[0.0,\"#0d0887\"],[0.1111111111111111,\"#46039f\"],[0.2222222222222222,\"#7201a8\"],[0.3333333333333333,\"#9c179e\"],[0.4444444444444444,\"#bd3786\"],[0.5555555555555556,\"#d8576b\"],[0.6666666666666666,\"#ed7953\"],[0.7777777777777778,\"#fb9f3a\"],[0.8888888888888888,\"#fdca26\"],[1.0,\"#f0f921\"]]}],\"mesh3d\":[{\"type\":\"mesh3d\",\"colorbar\":{\"outlinewidth\":0,\"ticks\":\"\"}}],\"scatter\":[{\"fillpattern\":{\"fillmode\":\"overlay\",\"size\":10,\"solidity\":0.2},\"type\":\"scatter\"}],\"parcoords\":[{\"type\":\"parcoords\",\"line\":{\"colorbar\":{\"outlinewidth\":0,\"ticks\":\"\"}}}],\"scatterpolargl\":[{\"type\":\"scatterpolargl\",\"marker\":{\"colorbar\":{\"outlinewidth\":0,\"ticks\":\"\"}}}],\"bar\":[{\"error_x\":{\"color\":\"#2a3f5f\"},\"error_y\":{\"color\":\"#2a3f5f\"},\"marker\":{\"line\":{\"color\":\"#E5ECF6\",\"width\":0.5},\"pattern\":{\"fillmode\":\"overlay\",\"size\":10,\"solidity\":0.2}},\"type\":\"bar\"}],\"scattergeo\":[{\"type\":\"scattergeo\",\"marker\":{\"colorbar\":{\"outlinewidth\":0,\"ticks\":\"\"}}}],\"scatterpolar\":[{\"type\":\"scatterpolar\",\"marker\":{\"colorbar\":{\"outlinewidth\":0,\"ticks\":\"\"}}}],\"histogram\":[{\"marker\":{\"pattern\":{\"fillmode\":\"overlay\",\"size\":10,\"solidity\":0.2}},\"type\":\"histogram\"}],\"scattergl\":[{\"type\":\"scattergl\",\"marker\":{\"colorbar\":{\"outlinewidth\":0,\"ticks\":\"\"}}}],\"scatter3d\":[{\"type\":\"scatter3d\",\"line\":{\"colorbar\":{\"outlinewidth\":0,\"ticks\":\"\"}},\"marker\":{\"colorbar\":{\"outlinewidth\":0,\"ticks\":\"\"}}}],\"scattermapbox\":[{\"type\":\"scattermapbox\",\"marker\":{\"colorbar\":{\"outlinewidth\":0,\"ticks\":\"\"}}}],\"scatterternary\":[{\"type\":\"scatterternary\",\"marker\":{\"colorbar\":{\"outlinewidth\":0,\"ticks\":\"\"}}}],\"scattercarpet\":[{\"type\":\"scattercarpet\",\"marker\":{\"colorbar\":{\"outlinewidth\":0,\"ticks\":\"\"}}}],\"carpet\":[{\"aaxis\":{\"endlinecolor\":\"#2a3f5f\",\"gridcolor\":\"white\",\"linecolor\":\"white\",\"minorgridcolor\":\"white\",\"startlinecolor\":\"#2a3f5f\"},\"baxis\":{\"endlinecolor\":\"#2a3f5f\",\"gridcolor\":\"white\",\"linecolor\":\"white\",\"minorgridcolor\":\"white\",\"startlinecolor\":\"#2a3f5f\"},\"type\":\"carpet\"}],\"table\":[{\"cells\":{\"fill\":{\"color\":\"#EBF0F8\"},\"line\":{\"color\":\"white\"}},\"header\":{\"fill\":{\"color\":\"#C8D4E3\"},\"line\":{\"color\":\"white\"}},\"type\":\"table\"}],\"barpolar\":[{\"marker\":{\"line\":{\"color\":\"#E5ECF6\",\"width\":0.5},\"pattern\":{\"fillmode\":\"overlay\",\"size\":10,\"solidity\":0.2}},\"type\":\"barpolar\"}],\"pie\":[{\"automargin\":true,\"type\":\"pie\"}]},\"layout\":{\"autotypenumbers\":\"strict\",\"colorway\":[\"#636efa\",\"#EF553B\",\"#00cc96\",\"#ab63fa\",\"#FFA15A\",\"#19d3f3\",\"#FF6692\",\"#B6E880\",\"#FF97FF\",\"#FECB52\"],\"font\":{\"color\":\"#2a3f5f\"},\"hovermode\":\"closest\",\"hoverlabel\":{\"align\":\"left\"},\"paper_bgcolor\":\"white\",\"plot_bgcolor\":\"#E5ECF6\",\"polar\":{\"bgcolor\":\"#E5ECF6\",\"angularaxis\":{\"gridcolor\":\"white\",\"linecolor\":\"white\",\"ticks\":\"\"},\"radialaxis\":{\"gridcolor\":\"white\",\"linecolor\":\"white\",\"ticks\":\"\"}},\"ternary\":{\"bgcolor\":\"#E5ECF6\",\"aaxis\":{\"gridcolor\":\"white\",\"linecolor\":\"white\",\"ticks\":\"\"},\"baxis\":{\"gridcolor\":\"white\",\"linecolor\":\"white\",\"ticks\":\"\"},\"caxis\":{\"gridcolor\":\"white\",\"linecolor\":\"white\",\"ticks\":\"\"}},\"coloraxis\":{\"colorbar\":{\"outlinewidth\":0,\"ticks\":\"\"}},\"colorscale\":{\"sequential\":[[0.0,\"#0d0887\"],[0.1111111111111111,\"#46039f\"],[0.2222222222222222,\"#7201a8\"],[0.3333333333333333,\"#9c179e\"],[0.4444444444444444,\"#bd3786\"],[0.5555555555555556,\"#d8576b\"],[0.6666666666666666,\"#ed7953\"],[0.7777777777777778,\"#fb9f3a\"],[0.8888888888888888,\"#fdca26\"],[1.0,\"#f0f921\"]],\"sequentialminus\":[[0.0,\"#0d0887\"],[0.1111111111111111,\"#46039f\"],[0.2222222222222222,\"#7201a8\"],[0.3333333333333333,\"#9c179e\"],[0.4444444444444444,\"#bd3786\"],[0.5555555555555556,\"#d8576b\"],[0.6666666666666666,\"#ed7953\"],[0.7777777777777778,\"#fb9f3a\"],[0.8888888888888888,\"#fdca26\"],[1.0,\"#f0f921\"]],\"diverging\":[[0,\"#8e0152\"],[0.1,\"#c51b7d\"],[0.2,\"#de77ae\"],[0.3,\"#f1b6da\"],[0.4,\"#fde0ef\"],[0.5,\"#f7f7f7\"],[0.6,\"#e6f5d0\"],[0.7,\"#b8e186\"],[0.8,\"#7fbc41\"],[0.9,\"#4d9221\"],[1,\"#276419\"]]},\"xaxis\":{\"gridcolor\":\"white\",\"linecolor\":\"white\",\"ticks\":\"\",\"title\":{\"standoff\":15},\"zerolinecolor\":\"white\",\"automargin\":true,\"zerolinewidth\":2},\"yaxis\":{\"gridcolor\":\"white\",\"linecolor\":\"white\",\"ticks\":\"\",\"title\":{\"standoff\":15},\"zerolinecolor\":\"white\",\"automargin\":true,\"zerolinewidth\":2},\"scene\":{\"xaxis\":{\"backgroundcolor\":\"#E5ECF6\",\"gridcolor\":\"white\",\"linecolor\":\"white\",\"showbackground\":true,\"ticks\":\"\",\"zerolinecolor\":\"white\",\"gridwidth\":2},\"yaxis\":{\"backgroundcolor\":\"#E5ECF6\",\"gridcolor\":\"white\",\"linecolor\":\"white\",\"showbackground\":true,\"ticks\":\"\",\"zerolinecolor\":\"white\",\"gridwidth\":2},\"zaxis\":{\"backgroundcolor\":\"#E5ECF6\",\"gridcolor\":\"white\",\"linecolor\":\"white\",\"showbackground\":true,\"ticks\":\"\",\"zerolinecolor\":\"white\",\"gridwidth\":2}},\"shapedefaults\":{\"line\":{\"color\":\"#2a3f5f\"}},\"annotationdefaults\":{\"arrowcolor\":\"#2a3f5f\",\"arrowhead\":0,\"arrowwidth\":1},\"geo\":{\"bgcolor\":\"white\",\"landcolor\":\"#E5ECF6\",\"subunitcolor\":\"white\",\"showland\":true,\"showlakes\":true,\"lakecolor\":\"white\"},\"title\":{\"x\":0.05},\"mapbox\":{\"style\":\"light\"}}},\"geo\":{\"domain\":{\"x\":[0.0,1.0],\"y\":[0.0,1.0]},\"center\":{}},\"coloraxis\":{\"colorbar\":{\"title\":{\"text\":\"release_count\",\"font\":{\"size\":1}},\"tickfont\":{\"size\":30,\"color\":\"black\"},\"nticks\":6,\"orientation\":\"h\",\"len\":1,\"y\":0.06,\"tickangle\":0},\"colorscale\":[[0.0,\"#0d0887\"],[0.1111111111111111,\"#46039f\"],[0.2222222222222222,\"#7201a8\"],[0.3333333333333333,\"#9c179e\"],[0.4444444444444444,\"#bd3786\"],[0.5555555555555556,\"#d8576b\"],[0.6666666666666666,\"#ed7953\"],[0.7777777777777778,\"#fb9f3a\"],[0.8888888888888888,\"#fdca26\"],[1.0,\"#f0f921\"]],\"cmin\":4.8010662898252825,\"cmax\":14.403198869475847},\"legend\":{\"tracegroupgap\":0},\"margin\":{\"t\":60},\"width\":800,\"height\":600},                        {\"responsive\": true}                    ).then(function(){\n",
       "                            \n",
       "var gd = document.getElementById('af22f4ee-0936-4c3c-8963-da6f2ec138ee');\n",
       "var x = new MutationObserver(function (mutations, observer) {{\n",
       "        var display = window.getComputedStyle(gd).display;\n",
       "        if (!display || display === 'none') {{\n",
       "            console.log([gd, 'removed!']);\n",
       "            Plotly.purge(gd);\n",
       "            observer.disconnect();\n",
       "        }}\n",
       "}});\n",
       "\n",
       "// Listen for the removal of the full notebook cells\n",
       "var notebookContainer = gd.closest('#notebook-container');\n",
       "if (notebookContainer) {{\n",
       "    x.observe(notebookContainer, {childList: true});\n",
       "}}\n",
       "\n",
       "// Listen for the clearing of the current output cell\n",
       "var outputEl = gd.closest('.output');\n",
       "if (outputEl) {{\n",
       "    x.observe(outputEl, {childList: true});\n",
       "}}\n",
       "\n",
       "                        })                };                });            </script>        </div>"
      ]
     },
     "metadata": {},
     "output_type": "display_data"
    },
    {
     "name": "stdout",
     "output_type": "stream",
     "text": [
      "Avg: 9.602132579650565\n"
     ]
    }
   ],
   "source": [
    "import pandas as pd\n",
    "import numpy as np\n",
    "import io\n",
    "import plotly.express as px\n",
    "import plotly.graph_objects as go\n",
    "\n",
    "p = 'release_count'\n",
    "\n",
    "values_to_plot = df_final_samsung_quarterly.groupby(['iso_code'])[p].mean().sort_values(ascending=True)\n",
    "avg = values_to_plot.median()\n",
    "\n",
    "df_plot = pd.DataFrame(values_to_plot.values,columns=[p])\n",
    "df_plot['country_code'] = values_to_plot.index\n",
    "\n",
    "fig = px.choropleth(df_plot, locations=\"country_code\",\n",
    "                    locationmode='ISO-3',\n",
    "                    color= p,\n",
    "                    hover_name=\"country_code\",\n",
    "                    color_continuous_scale=px.colors.sequential.Plasma,\n",
    "                    range_color=(0.5*avg,1.5*avg),\n",
    "                    #labels={p:'Count'}\n",
    "                   )\n",
    "\n",
    "fig.update_layout(\n",
    "        width=800,\n",
    "        height=600,\n",
    "        coloraxis=dict(\n",
    "            colorbar_nticks=6,\n",
    "            colorbar_orientation='h',\n",
    "            #colorbar_borderwidth = 2,\n",
    "            colorbar_len=1,\n",
    "            colorbar_y=+0.06,\n",
    "            #colorbar_ticksuffix='days',\n",
    "            colorbar_title_font_size=1,\n",
    "            colorbar=dict(\n",
    "                #title_side='bottom',\n",
    "                tickangle=0,\n",
    "                tickfont=dict(size=30, color='black'))\n",
    "            )\n",
    ")\n",
    "\n",
    "layout = go.Layout(\n",
    "  margin=go.layout.Margin(\n",
    "        l=0, #left margin\n",
    "        r=0, #right margin\n",
    "        b=0, #bottom margin\n",
    "        t=0  #top margin\n",
    "    )\n",
    ")\n",
    "\n",
    "\n",
    "fig.show()\n",
    "\n",
    "fig.write_image(\"../Results/geolocation_quarterly_count.pdf\")\n",
    "\n",
    "fig.write_html(\"../Results/InteractiveFigures/geolocation_quarterly_count.html\",full_html=False, include_plotlyjs='cdn')\n",
    "\n",
    "print('Avg: {}'.format(avg))\n"
   ]
  },
  {
   "cell_type": "markdown",
   "id": "c0431bbf",
   "metadata": {},
   "source": [
    "### Support Duration"
   ]
  },
  {
   "cell_type": "code",
   "execution_count": 174,
   "id": "e5e1c05d",
   "metadata": {},
   "outputs": [
    {
     "data": {
      "application/vnd.plotly.v1+json": {
       "config": {
        "plotlyServerURL": "https://plot.ly"
       },
       "data": [
        {
         "coloraxis": "coloraxis",
         "geo": "geo",
         "hovertemplate": "<b>%{hovertext}</b><br><br>country_code=%{location}<br>release_date_duration=%{z}<extra></extra>",
         "hovertext": [
          "ZMB",
          "MUS",
          "BEL",
          "DZA",
          "NOR",
          "SWE",
          "BIH",
          "JAM",
          "CAN",
          "USA",
          "DOM",
          "BGD",
          "PRI",
          "ISR",
          "HUN",
          "HRV",
          "IRN",
          "KOR",
          "AUT",
          "CYP",
          "NZL",
          "CRI",
          "ECU",
          "MKD",
          "PRY",
          "NLD",
          "CHN",
          "PAN",
          "AUS",
          "GTM",
          "HND",
          "IRL",
          "SRB",
          "NPL",
          "PER",
          "CHL",
          "ARG",
          "BGR",
          "SLV",
          "POL",
          "TTO",
          "URY",
          "SVN",
          "COL",
          "MEX",
          "BRA",
          "FRA",
          "GBR",
          "DEU",
          "CZE",
          "ITA",
          "PRT",
          "ROU",
          "BOL",
          "SVK",
          "LKA",
          "AFG",
          "MAR",
          "SGP",
          "PNG",
          "FJI",
          "SAU",
          "ESP",
          "CHE",
          "ZAF",
          "GRC",
          "KHM",
          "HKG",
          "PAK",
          "UZB",
          "TWN",
          "EGY",
          "PHL",
          "LBY",
          "NGA",
          "TUN",
          "VNM",
          "IDN",
          "KEN",
          "LUX",
          "KAZ",
          "ARE",
          "IRQ",
          "IND",
          "MYS",
          "TUR",
          "RUS",
          "THA",
          "UKR",
          "ALB"
         ],
         "locationmode": "ISO-3",
         "locations": [
          "ZMB",
          "MUS",
          "BEL",
          "DZA",
          "NOR",
          "SWE",
          "BIH",
          "JAM",
          "CAN",
          "USA",
          "DOM",
          "BGD",
          "PRI",
          "ISR",
          "HUN",
          "HRV",
          "IRN",
          "KOR",
          "AUT",
          "CYP",
          "NZL",
          "CRI",
          "ECU",
          "MKD",
          "PRY",
          "NLD",
          "CHN",
          "PAN",
          "AUS",
          "GTM",
          "HND",
          "IRL",
          "SRB",
          "NPL",
          "PER",
          "CHL",
          "ARG",
          "BGR",
          "SLV",
          "POL",
          "TTO",
          "URY",
          "SVN",
          "COL",
          "MEX",
          "BRA",
          "FRA",
          "GBR",
          "DEU",
          "CZE",
          "ITA",
          "PRT",
          "ROU",
          "BOL",
          "SVK",
          "LKA",
          "AFG",
          "MAR",
          "SGP",
          "PNG",
          "FJI",
          "SAU",
          "ESP",
          "CHE",
          "ZAF",
          "GRC",
          "KHM",
          "HKG",
          "PAK",
          "UZB",
          "TWN",
          "EGY",
          "PHL",
          "LBY",
          "NGA",
          "TUN",
          "VNM",
          "IDN",
          "KEN",
          "LUX",
          "KAZ",
          "ARE",
          "IRQ",
          "IND",
          "MYS",
          "TUR",
          "RUS",
          "THA",
          "UKR",
          "ALB"
         ],
         "name": "",
         "type": "choropleth",
         "z": [
          0,
          0,
          192,
          228,
          248,
          314,
          328,
          402,
          421,
          422,
          425,
          427,
          433,
          438,
          439,
          439,
          441,
          450,
          452,
          452,
          455,
          460,
          462,
          465,
          466,
          470,
          472,
          473,
          477,
          478,
          478,
          479,
          481,
          483,
          484,
          487,
          487,
          488,
          490,
          492,
          494,
          495,
          496,
          497,
          498,
          498,
          500,
          502,
          503,
          507,
          511,
          511,
          512,
          512,
          513,
          515,
          516,
          516,
          518,
          518,
          520,
          520,
          521,
          523,
          524,
          527,
          529,
          530,
          533,
          535,
          540,
          540,
          541,
          544,
          545,
          546,
          546,
          547,
          553,
          557,
          558,
          560,
          561,
          565,
          565,
          569,
          571,
          572,
          574,
          617
         ]
        }
       ],
       "layout": {
        "coloraxis": {
         "cmax": 747,
         "cmin": 249,
         "colorbar": {
          "len": 1,
          "nticks": 6,
          "orientation": "h",
          "tickangle": 0,
          "tickfont": {
           "color": "black",
           "size": 30
          },
          "title": {
           "font": {
            "size": 1
           },
           "text": "release_date_duration"
          },
          "y": 0.06
         },
         "colorscale": [
          [
           0,
           "#0d0887"
          ],
          [
           0.1111111111111111,
           "#46039f"
          ],
          [
           0.2222222222222222,
           "#7201a8"
          ],
          [
           0.3333333333333333,
           "#9c179e"
          ],
          [
           0.4444444444444444,
           "#bd3786"
          ],
          [
           0.5555555555555556,
           "#d8576b"
          ],
          [
           0.6666666666666666,
           "#ed7953"
          ],
          [
           0.7777777777777778,
           "#fb9f3a"
          ],
          [
           0.8888888888888888,
           "#fdca26"
          ],
          [
           1,
           "#f0f921"
          ]
         ]
        },
        "geo": {
         "center": {},
         "domain": {
          "x": [
           0,
           1
          ],
          "y": [
           0,
           1
          ]
         }
        },
        "height": 600,
        "legend": {
         "tracegroupgap": 0
        },
        "margin": {
         "t": 60
        },
        "template": {
         "data": {
          "bar": [
           {
            "error_x": {
             "color": "#2a3f5f"
            },
            "error_y": {
             "color": "#2a3f5f"
            },
            "marker": {
             "line": {
              "color": "#E5ECF6",
              "width": 0.5
             },
             "pattern": {
              "fillmode": "overlay",
              "size": 10,
              "solidity": 0.2
             }
            },
            "type": "bar"
           }
          ],
          "barpolar": [
           {
            "marker": {
             "line": {
              "color": "#E5ECF6",
              "width": 0.5
             },
             "pattern": {
              "fillmode": "overlay",
              "size": 10,
              "solidity": 0.2
             }
            },
            "type": "barpolar"
           }
          ],
          "carpet": [
           {
            "aaxis": {
             "endlinecolor": "#2a3f5f",
             "gridcolor": "white",
             "linecolor": "white",
             "minorgridcolor": "white",
             "startlinecolor": "#2a3f5f"
            },
            "baxis": {
             "endlinecolor": "#2a3f5f",
             "gridcolor": "white",
             "linecolor": "white",
             "minorgridcolor": "white",
             "startlinecolor": "#2a3f5f"
            },
            "type": "carpet"
           }
          ],
          "choropleth": [
           {
            "colorbar": {
             "outlinewidth": 0,
             "ticks": ""
            },
            "type": "choropleth"
           }
          ],
          "contour": [
           {
            "colorbar": {
             "outlinewidth": 0,
             "ticks": ""
            },
            "colorscale": [
             [
              0,
              "#0d0887"
             ],
             [
              0.1111111111111111,
              "#46039f"
             ],
             [
              0.2222222222222222,
              "#7201a8"
             ],
             [
              0.3333333333333333,
              "#9c179e"
             ],
             [
              0.4444444444444444,
              "#bd3786"
             ],
             [
              0.5555555555555556,
              "#d8576b"
             ],
             [
              0.6666666666666666,
              "#ed7953"
             ],
             [
              0.7777777777777778,
              "#fb9f3a"
             ],
             [
              0.8888888888888888,
              "#fdca26"
             ],
             [
              1,
              "#f0f921"
             ]
            ],
            "type": "contour"
           }
          ],
          "contourcarpet": [
           {
            "colorbar": {
             "outlinewidth": 0,
             "ticks": ""
            },
            "type": "contourcarpet"
           }
          ],
          "heatmap": [
           {
            "colorbar": {
             "outlinewidth": 0,
             "ticks": ""
            },
            "colorscale": [
             [
              0,
              "#0d0887"
             ],
             [
              0.1111111111111111,
              "#46039f"
             ],
             [
              0.2222222222222222,
              "#7201a8"
             ],
             [
              0.3333333333333333,
              "#9c179e"
             ],
             [
              0.4444444444444444,
              "#bd3786"
             ],
             [
              0.5555555555555556,
              "#d8576b"
             ],
             [
              0.6666666666666666,
              "#ed7953"
             ],
             [
              0.7777777777777778,
              "#fb9f3a"
             ],
             [
              0.8888888888888888,
              "#fdca26"
             ],
             [
              1,
              "#f0f921"
             ]
            ],
            "type": "heatmap"
           }
          ],
          "heatmapgl": [
           {
            "colorbar": {
             "outlinewidth": 0,
             "ticks": ""
            },
            "colorscale": [
             [
              0,
              "#0d0887"
             ],
             [
              0.1111111111111111,
              "#46039f"
             ],
             [
              0.2222222222222222,
              "#7201a8"
             ],
             [
              0.3333333333333333,
              "#9c179e"
             ],
             [
              0.4444444444444444,
              "#bd3786"
             ],
             [
              0.5555555555555556,
              "#d8576b"
             ],
             [
              0.6666666666666666,
              "#ed7953"
             ],
             [
              0.7777777777777778,
              "#fb9f3a"
             ],
             [
              0.8888888888888888,
              "#fdca26"
             ],
             [
              1,
              "#f0f921"
             ]
            ],
            "type": "heatmapgl"
           }
          ],
          "histogram": [
           {
            "marker": {
             "pattern": {
              "fillmode": "overlay",
              "size": 10,
              "solidity": 0.2
             }
            },
            "type": "histogram"
           }
          ],
          "histogram2d": [
           {
            "colorbar": {
             "outlinewidth": 0,
             "ticks": ""
            },
            "colorscale": [
             [
              0,
              "#0d0887"
             ],
             [
              0.1111111111111111,
              "#46039f"
             ],
             [
              0.2222222222222222,
              "#7201a8"
             ],
             [
              0.3333333333333333,
              "#9c179e"
             ],
             [
              0.4444444444444444,
              "#bd3786"
             ],
             [
              0.5555555555555556,
              "#d8576b"
             ],
             [
              0.6666666666666666,
              "#ed7953"
             ],
             [
              0.7777777777777778,
              "#fb9f3a"
             ],
             [
              0.8888888888888888,
              "#fdca26"
             ],
             [
              1,
              "#f0f921"
             ]
            ],
            "type": "histogram2d"
           }
          ],
          "histogram2dcontour": [
           {
            "colorbar": {
             "outlinewidth": 0,
             "ticks": ""
            },
            "colorscale": [
             [
              0,
              "#0d0887"
             ],
             [
              0.1111111111111111,
              "#46039f"
             ],
             [
              0.2222222222222222,
              "#7201a8"
             ],
             [
              0.3333333333333333,
              "#9c179e"
             ],
             [
              0.4444444444444444,
              "#bd3786"
             ],
             [
              0.5555555555555556,
              "#d8576b"
             ],
             [
              0.6666666666666666,
              "#ed7953"
             ],
             [
              0.7777777777777778,
              "#fb9f3a"
             ],
             [
              0.8888888888888888,
              "#fdca26"
             ],
             [
              1,
              "#f0f921"
             ]
            ],
            "type": "histogram2dcontour"
           }
          ],
          "mesh3d": [
           {
            "colorbar": {
             "outlinewidth": 0,
             "ticks": ""
            },
            "type": "mesh3d"
           }
          ],
          "parcoords": [
           {
            "line": {
             "colorbar": {
              "outlinewidth": 0,
              "ticks": ""
             }
            },
            "type": "parcoords"
           }
          ],
          "pie": [
           {
            "automargin": true,
            "type": "pie"
           }
          ],
          "scatter": [
           {
            "fillpattern": {
             "fillmode": "overlay",
             "size": 10,
             "solidity": 0.2
            },
            "type": "scatter"
           }
          ],
          "scatter3d": [
           {
            "line": {
             "colorbar": {
              "outlinewidth": 0,
              "ticks": ""
             }
            },
            "marker": {
             "colorbar": {
              "outlinewidth": 0,
              "ticks": ""
             }
            },
            "type": "scatter3d"
           }
          ],
          "scattercarpet": [
           {
            "marker": {
             "colorbar": {
              "outlinewidth": 0,
              "ticks": ""
             }
            },
            "type": "scattercarpet"
           }
          ],
          "scattergeo": [
           {
            "marker": {
             "colorbar": {
              "outlinewidth": 0,
              "ticks": ""
             }
            },
            "type": "scattergeo"
           }
          ],
          "scattergl": [
           {
            "marker": {
             "colorbar": {
              "outlinewidth": 0,
              "ticks": ""
             }
            },
            "type": "scattergl"
           }
          ],
          "scattermapbox": [
           {
            "marker": {
             "colorbar": {
              "outlinewidth": 0,
              "ticks": ""
             }
            },
            "type": "scattermapbox"
           }
          ],
          "scatterpolar": [
           {
            "marker": {
             "colorbar": {
              "outlinewidth": 0,
              "ticks": ""
             }
            },
            "type": "scatterpolar"
           }
          ],
          "scatterpolargl": [
           {
            "marker": {
             "colorbar": {
              "outlinewidth": 0,
              "ticks": ""
             }
            },
            "type": "scatterpolargl"
           }
          ],
          "scatterternary": [
           {
            "marker": {
             "colorbar": {
              "outlinewidth": 0,
              "ticks": ""
             }
            },
            "type": "scatterternary"
           }
          ],
          "surface": [
           {
            "colorbar": {
             "outlinewidth": 0,
             "ticks": ""
            },
            "colorscale": [
             [
              0,
              "#0d0887"
             ],
             [
              0.1111111111111111,
              "#46039f"
             ],
             [
              0.2222222222222222,
              "#7201a8"
             ],
             [
              0.3333333333333333,
              "#9c179e"
             ],
             [
              0.4444444444444444,
              "#bd3786"
             ],
             [
              0.5555555555555556,
              "#d8576b"
             ],
             [
              0.6666666666666666,
              "#ed7953"
             ],
             [
              0.7777777777777778,
              "#fb9f3a"
             ],
             [
              0.8888888888888888,
              "#fdca26"
             ],
             [
              1,
              "#f0f921"
             ]
            ],
            "type": "surface"
           }
          ],
          "table": [
           {
            "cells": {
             "fill": {
              "color": "#EBF0F8"
             },
             "line": {
              "color": "white"
             }
            },
            "header": {
             "fill": {
              "color": "#C8D4E3"
             },
             "line": {
              "color": "white"
             }
            },
            "type": "table"
           }
          ]
         },
         "layout": {
          "annotationdefaults": {
           "arrowcolor": "#2a3f5f",
           "arrowhead": 0,
           "arrowwidth": 1
          },
          "autotypenumbers": "strict",
          "coloraxis": {
           "colorbar": {
            "outlinewidth": 0,
            "ticks": ""
           }
          },
          "colorscale": {
           "diverging": [
            [
             0,
             "#8e0152"
            ],
            [
             0.1,
             "#c51b7d"
            ],
            [
             0.2,
             "#de77ae"
            ],
            [
             0.3,
             "#f1b6da"
            ],
            [
             0.4,
             "#fde0ef"
            ],
            [
             0.5,
             "#f7f7f7"
            ],
            [
             0.6,
             "#e6f5d0"
            ],
            [
             0.7,
             "#b8e186"
            ],
            [
             0.8,
             "#7fbc41"
            ],
            [
             0.9,
             "#4d9221"
            ],
            [
             1,
             "#276419"
            ]
           ],
           "sequential": [
            [
             0,
             "#0d0887"
            ],
            [
             0.1111111111111111,
             "#46039f"
            ],
            [
             0.2222222222222222,
             "#7201a8"
            ],
            [
             0.3333333333333333,
             "#9c179e"
            ],
            [
             0.4444444444444444,
             "#bd3786"
            ],
            [
             0.5555555555555556,
             "#d8576b"
            ],
            [
             0.6666666666666666,
             "#ed7953"
            ],
            [
             0.7777777777777778,
             "#fb9f3a"
            ],
            [
             0.8888888888888888,
             "#fdca26"
            ],
            [
             1,
             "#f0f921"
            ]
           ],
           "sequentialminus": [
            [
             0,
             "#0d0887"
            ],
            [
             0.1111111111111111,
             "#46039f"
            ],
            [
             0.2222222222222222,
             "#7201a8"
            ],
            [
             0.3333333333333333,
             "#9c179e"
            ],
            [
             0.4444444444444444,
             "#bd3786"
            ],
            [
             0.5555555555555556,
             "#d8576b"
            ],
            [
             0.6666666666666666,
             "#ed7953"
            ],
            [
             0.7777777777777778,
             "#fb9f3a"
            ],
            [
             0.8888888888888888,
             "#fdca26"
            ],
            [
             1,
             "#f0f921"
            ]
           ]
          },
          "colorway": [
           "#636efa",
           "#EF553B",
           "#00cc96",
           "#ab63fa",
           "#FFA15A",
           "#19d3f3",
           "#FF6692",
           "#B6E880",
           "#FF97FF",
           "#FECB52"
          ],
          "font": {
           "color": "#2a3f5f"
          },
          "geo": {
           "bgcolor": "white",
           "lakecolor": "white",
           "landcolor": "#E5ECF6",
           "showlakes": true,
           "showland": true,
           "subunitcolor": "white"
          },
          "hoverlabel": {
           "align": "left"
          },
          "hovermode": "closest",
          "mapbox": {
           "style": "light"
          },
          "paper_bgcolor": "white",
          "plot_bgcolor": "#E5ECF6",
          "polar": {
           "angularaxis": {
            "gridcolor": "white",
            "linecolor": "white",
            "ticks": ""
           },
           "bgcolor": "#E5ECF6",
           "radialaxis": {
            "gridcolor": "white",
            "linecolor": "white",
            "ticks": ""
           }
          },
          "scene": {
           "xaxis": {
            "backgroundcolor": "#E5ECF6",
            "gridcolor": "white",
            "gridwidth": 2,
            "linecolor": "white",
            "showbackground": true,
            "ticks": "",
            "zerolinecolor": "white"
           },
           "yaxis": {
            "backgroundcolor": "#E5ECF6",
            "gridcolor": "white",
            "gridwidth": 2,
            "linecolor": "white",
            "showbackground": true,
            "ticks": "",
            "zerolinecolor": "white"
           },
           "zaxis": {
            "backgroundcolor": "#E5ECF6",
            "gridcolor": "white",
            "gridwidth": 2,
            "linecolor": "white",
            "showbackground": true,
            "ticks": "",
            "zerolinecolor": "white"
           }
          },
          "shapedefaults": {
           "line": {
            "color": "#2a3f5f"
           }
          },
          "ternary": {
           "aaxis": {
            "gridcolor": "white",
            "linecolor": "white",
            "ticks": ""
           },
           "baxis": {
            "gridcolor": "white",
            "linecolor": "white",
            "ticks": ""
           },
           "bgcolor": "#E5ECF6",
           "caxis": {
            "gridcolor": "white",
            "linecolor": "white",
            "ticks": ""
           }
          },
          "title": {
           "x": 0.05
          },
          "xaxis": {
           "automargin": true,
           "gridcolor": "white",
           "linecolor": "white",
           "ticks": "",
           "title": {
            "standoff": 15
           },
           "zerolinecolor": "white",
           "zerolinewidth": 2
          },
          "yaxis": {
           "automargin": true,
           "gridcolor": "white",
           "linecolor": "white",
           "ticks": "",
           "title": {
            "standoff": 15
           },
           "zerolinecolor": "white",
           "zerolinewidth": 2
          }
         }
        },
        "width": 800
       }
      },
      "text/html": [
       "<div>                            <div id=\"40171eb7-25de-43ed-81c6-d2ed3d938a78\" class=\"plotly-graph-div\" style=\"height:600px; width:800px;\"></div>            <script type=\"text/javascript\">                require([\"plotly\"], function(Plotly) {                    window.PLOTLYENV=window.PLOTLYENV || {};                                    if (document.getElementById(\"40171eb7-25de-43ed-81c6-d2ed3d938a78\")) {                    Plotly.newPlot(                        \"40171eb7-25de-43ed-81c6-d2ed3d938a78\",                        [{\"coloraxis\":\"coloraxis\",\"geo\":\"geo\",\"hovertemplate\":\"<b>%{hovertext}</b><br><br>country_code=%{location}<br>release_date_duration=%{z}<extra></extra>\",\"hovertext\":[\"ZMB\",\"MUS\",\"BEL\",\"DZA\",\"NOR\",\"SWE\",\"BIH\",\"JAM\",\"CAN\",\"USA\",\"DOM\",\"BGD\",\"PRI\",\"ISR\",\"HUN\",\"HRV\",\"IRN\",\"KOR\",\"AUT\",\"CYP\",\"NZL\",\"CRI\",\"ECU\",\"MKD\",\"PRY\",\"NLD\",\"CHN\",\"PAN\",\"AUS\",\"GTM\",\"HND\",\"IRL\",\"SRB\",\"NPL\",\"PER\",\"CHL\",\"ARG\",\"BGR\",\"SLV\",\"POL\",\"TTO\",\"URY\",\"SVN\",\"COL\",\"MEX\",\"BRA\",\"FRA\",\"GBR\",\"DEU\",\"CZE\",\"ITA\",\"PRT\",\"ROU\",\"BOL\",\"SVK\",\"LKA\",\"AFG\",\"MAR\",\"SGP\",\"PNG\",\"FJI\",\"SAU\",\"ESP\",\"CHE\",\"ZAF\",\"GRC\",\"KHM\",\"HKG\",\"PAK\",\"UZB\",\"TWN\",\"EGY\",\"PHL\",\"LBY\",\"NGA\",\"TUN\",\"VNM\",\"IDN\",\"KEN\",\"LUX\",\"KAZ\",\"ARE\",\"IRQ\",\"IND\",\"MYS\",\"TUR\",\"RUS\",\"THA\",\"UKR\",\"ALB\"],\"locationmode\":\"ISO-3\",\"locations\":[\"ZMB\",\"MUS\",\"BEL\",\"DZA\",\"NOR\",\"SWE\",\"BIH\",\"JAM\",\"CAN\",\"USA\",\"DOM\",\"BGD\",\"PRI\",\"ISR\",\"HUN\",\"HRV\",\"IRN\",\"KOR\",\"AUT\",\"CYP\",\"NZL\",\"CRI\",\"ECU\",\"MKD\",\"PRY\",\"NLD\",\"CHN\",\"PAN\",\"AUS\",\"GTM\",\"HND\",\"IRL\",\"SRB\",\"NPL\",\"PER\",\"CHL\",\"ARG\",\"BGR\",\"SLV\",\"POL\",\"TTO\",\"URY\",\"SVN\",\"COL\",\"MEX\",\"BRA\",\"FRA\",\"GBR\",\"DEU\",\"CZE\",\"ITA\",\"PRT\",\"ROU\",\"BOL\",\"SVK\",\"LKA\",\"AFG\",\"MAR\",\"SGP\",\"PNG\",\"FJI\",\"SAU\",\"ESP\",\"CHE\",\"ZAF\",\"GRC\",\"KHM\",\"HKG\",\"PAK\",\"UZB\",\"TWN\",\"EGY\",\"PHL\",\"LBY\",\"NGA\",\"TUN\",\"VNM\",\"IDN\",\"KEN\",\"LUX\",\"KAZ\",\"ARE\",\"IRQ\",\"IND\",\"MYS\",\"TUR\",\"RUS\",\"THA\",\"UKR\",\"ALB\"],\"name\":\"\",\"z\":[0,0,192,228,248,314,328,402,421,422,425,427,433,438,439,439,441,450,452,452,455,460,462,465,466,470,472,473,477,478,478,479,481,483,484,487,487,488,490,492,494,495,496,497,498,498,500,502,503,507,511,511,512,512,513,515,516,516,518,518,520,520,521,523,524,527,529,530,533,535,540,540,541,544,545,546,546,547,553,557,558,560,561,565,565,569,571,572,574,617],\"type\":\"choropleth\"}],                        {\"template\":{\"data\":{\"histogram2dcontour\":[{\"type\":\"histogram2dcontour\",\"colorbar\":{\"outlinewidth\":0,\"ticks\":\"\"},\"colorscale\":[[0.0,\"#0d0887\"],[0.1111111111111111,\"#46039f\"],[0.2222222222222222,\"#7201a8\"],[0.3333333333333333,\"#9c179e\"],[0.4444444444444444,\"#bd3786\"],[0.5555555555555556,\"#d8576b\"],[0.6666666666666666,\"#ed7953\"],[0.7777777777777778,\"#fb9f3a\"],[0.8888888888888888,\"#fdca26\"],[1.0,\"#f0f921\"]]}],\"choropleth\":[{\"type\":\"choropleth\",\"colorbar\":{\"outlinewidth\":0,\"ticks\":\"\"}}],\"histogram2d\":[{\"type\":\"histogram2d\",\"colorbar\":{\"outlinewidth\":0,\"ticks\":\"\"},\"colorscale\":[[0.0,\"#0d0887\"],[0.1111111111111111,\"#46039f\"],[0.2222222222222222,\"#7201a8\"],[0.3333333333333333,\"#9c179e\"],[0.4444444444444444,\"#bd3786\"],[0.5555555555555556,\"#d8576b\"],[0.6666666666666666,\"#ed7953\"],[0.7777777777777778,\"#fb9f3a\"],[0.8888888888888888,\"#fdca26\"],[1.0,\"#f0f921\"]]}],\"heatmap\":[{\"type\":\"heatmap\",\"colorbar\":{\"outlinewidth\":0,\"ticks\":\"\"},\"colorscale\":[[0.0,\"#0d0887\"],[0.1111111111111111,\"#46039f\"],[0.2222222222222222,\"#7201a8\"],[0.3333333333333333,\"#9c179e\"],[0.4444444444444444,\"#bd3786\"],[0.5555555555555556,\"#d8576b\"],[0.6666666666666666,\"#ed7953\"],[0.7777777777777778,\"#fb9f3a\"],[0.8888888888888888,\"#fdca26\"],[1.0,\"#f0f921\"]]}],\"heatmapgl\":[{\"type\":\"heatmapgl\",\"colorbar\":{\"outlinewidth\":0,\"ticks\":\"\"},\"colorscale\":[[0.0,\"#0d0887\"],[0.1111111111111111,\"#46039f\"],[0.2222222222222222,\"#7201a8\"],[0.3333333333333333,\"#9c179e\"],[0.4444444444444444,\"#bd3786\"],[0.5555555555555556,\"#d8576b\"],[0.6666666666666666,\"#ed7953\"],[0.7777777777777778,\"#fb9f3a\"],[0.8888888888888888,\"#fdca26\"],[1.0,\"#f0f921\"]]}],\"contourcarpet\":[{\"type\":\"contourcarpet\",\"colorbar\":{\"outlinewidth\":0,\"ticks\":\"\"}}],\"contour\":[{\"type\":\"contour\",\"colorbar\":{\"outlinewidth\":0,\"ticks\":\"\"},\"colorscale\":[[0.0,\"#0d0887\"],[0.1111111111111111,\"#46039f\"],[0.2222222222222222,\"#7201a8\"],[0.3333333333333333,\"#9c179e\"],[0.4444444444444444,\"#bd3786\"],[0.5555555555555556,\"#d8576b\"],[0.6666666666666666,\"#ed7953\"],[0.7777777777777778,\"#fb9f3a\"],[0.8888888888888888,\"#fdca26\"],[1.0,\"#f0f921\"]]}],\"surface\":[{\"type\":\"surface\",\"colorbar\":{\"outlinewidth\":0,\"ticks\":\"\"},\"colorscale\":[[0.0,\"#0d0887\"],[0.1111111111111111,\"#46039f\"],[0.2222222222222222,\"#7201a8\"],[0.3333333333333333,\"#9c179e\"],[0.4444444444444444,\"#bd3786\"],[0.5555555555555556,\"#d8576b\"],[0.6666666666666666,\"#ed7953\"],[0.7777777777777778,\"#fb9f3a\"],[0.8888888888888888,\"#fdca26\"],[1.0,\"#f0f921\"]]}],\"mesh3d\":[{\"type\":\"mesh3d\",\"colorbar\":{\"outlinewidth\":0,\"ticks\":\"\"}}],\"scatter\":[{\"fillpattern\":{\"fillmode\":\"overlay\",\"size\":10,\"solidity\":0.2},\"type\":\"scatter\"}],\"parcoords\":[{\"type\":\"parcoords\",\"line\":{\"colorbar\":{\"outlinewidth\":0,\"ticks\":\"\"}}}],\"scatterpolargl\":[{\"type\":\"scatterpolargl\",\"marker\":{\"colorbar\":{\"outlinewidth\":0,\"ticks\":\"\"}}}],\"bar\":[{\"error_x\":{\"color\":\"#2a3f5f\"},\"error_y\":{\"color\":\"#2a3f5f\"},\"marker\":{\"line\":{\"color\":\"#E5ECF6\",\"width\":0.5},\"pattern\":{\"fillmode\":\"overlay\",\"size\":10,\"solidity\":0.2}},\"type\":\"bar\"}],\"scattergeo\":[{\"type\":\"scattergeo\",\"marker\":{\"colorbar\":{\"outlinewidth\":0,\"ticks\":\"\"}}}],\"scatterpolar\":[{\"type\":\"scatterpolar\",\"marker\":{\"colorbar\":{\"outlinewidth\":0,\"ticks\":\"\"}}}],\"histogram\":[{\"marker\":{\"pattern\":{\"fillmode\":\"overlay\",\"size\":10,\"solidity\":0.2}},\"type\":\"histogram\"}],\"scattergl\":[{\"type\":\"scattergl\",\"marker\":{\"colorbar\":{\"outlinewidth\":0,\"ticks\":\"\"}}}],\"scatter3d\":[{\"type\":\"scatter3d\",\"line\":{\"colorbar\":{\"outlinewidth\":0,\"ticks\":\"\"}},\"marker\":{\"colorbar\":{\"outlinewidth\":0,\"ticks\":\"\"}}}],\"scattermapbox\":[{\"type\":\"scattermapbox\",\"marker\":{\"colorbar\":{\"outlinewidth\":0,\"ticks\":\"\"}}}],\"scatterternary\":[{\"type\":\"scatterternary\",\"marker\":{\"colorbar\":{\"outlinewidth\":0,\"ticks\":\"\"}}}],\"scattercarpet\":[{\"type\":\"scattercarpet\",\"marker\":{\"colorbar\":{\"outlinewidth\":0,\"ticks\":\"\"}}}],\"carpet\":[{\"aaxis\":{\"endlinecolor\":\"#2a3f5f\",\"gridcolor\":\"white\",\"linecolor\":\"white\",\"minorgridcolor\":\"white\",\"startlinecolor\":\"#2a3f5f\"},\"baxis\":{\"endlinecolor\":\"#2a3f5f\",\"gridcolor\":\"white\",\"linecolor\":\"white\",\"minorgridcolor\":\"white\",\"startlinecolor\":\"#2a3f5f\"},\"type\":\"carpet\"}],\"table\":[{\"cells\":{\"fill\":{\"color\":\"#EBF0F8\"},\"line\":{\"color\":\"white\"}},\"header\":{\"fill\":{\"color\":\"#C8D4E3\"},\"line\":{\"color\":\"white\"}},\"type\":\"table\"}],\"barpolar\":[{\"marker\":{\"line\":{\"color\":\"#E5ECF6\",\"width\":0.5},\"pattern\":{\"fillmode\":\"overlay\",\"size\":10,\"solidity\":0.2}},\"type\":\"barpolar\"}],\"pie\":[{\"automargin\":true,\"type\":\"pie\"}]},\"layout\":{\"autotypenumbers\":\"strict\",\"colorway\":[\"#636efa\",\"#EF553B\",\"#00cc96\",\"#ab63fa\",\"#FFA15A\",\"#19d3f3\",\"#FF6692\",\"#B6E880\",\"#FF97FF\",\"#FECB52\"],\"font\":{\"color\":\"#2a3f5f\"},\"hovermode\":\"closest\",\"hoverlabel\":{\"align\":\"left\"},\"paper_bgcolor\":\"white\",\"plot_bgcolor\":\"#E5ECF6\",\"polar\":{\"bgcolor\":\"#E5ECF6\",\"angularaxis\":{\"gridcolor\":\"white\",\"linecolor\":\"white\",\"ticks\":\"\"},\"radialaxis\":{\"gridcolor\":\"white\",\"linecolor\":\"white\",\"ticks\":\"\"}},\"ternary\":{\"bgcolor\":\"#E5ECF6\",\"aaxis\":{\"gridcolor\":\"white\",\"linecolor\":\"white\",\"ticks\":\"\"},\"baxis\":{\"gridcolor\":\"white\",\"linecolor\":\"white\",\"ticks\":\"\"},\"caxis\":{\"gridcolor\":\"white\",\"linecolor\":\"white\",\"ticks\":\"\"}},\"coloraxis\":{\"colorbar\":{\"outlinewidth\":0,\"ticks\":\"\"}},\"colorscale\":{\"sequential\":[[0.0,\"#0d0887\"],[0.1111111111111111,\"#46039f\"],[0.2222222222222222,\"#7201a8\"],[0.3333333333333333,\"#9c179e\"],[0.4444444444444444,\"#bd3786\"],[0.5555555555555556,\"#d8576b\"],[0.6666666666666666,\"#ed7953\"],[0.7777777777777778,\"#fb9f3a\"],[0.8888888888888888,\"#fdca26\"],[1.0,\"#f0f921\"]],\"sequentialminus\":[[0.0,\"#0d0887\"],[0.1111111111111111,\"#46039f\"],[0.2222222222222222,\"#7201a8\"],[0.3333333333333333,\"#9c179e\"],[0.4444444444444444,\"#bd3786\"],[0.5555555555555556,\"#d8576b\"],[0.6666666666666666,\"#ed7953\"],[0.7777777777777778,\"#fb9f3a\"],[0.8888888888888888,\"#fdca26\"],[1.0,\"#f0f921\"]],\"diverging\":[[0,\"#8e0152\"],[0.1,\"#c51b7d\"],[0.2,\"#de77ae\"],[0.3,\"#f1b6da\"],[0.4,\"#fde0ef\"],[0.5,\"#f7f7f7\"],[0.6,\"#e6f5d0\"],[0.7,\"#b8e186\"],[0.8,\"#7fbc41\"],[0.9,\"#4d9221\"],[1,\"#276419\"]]},\"xaxis\":{\"gridcolor\":\"white\",\"linecolor\":\"white\",\"ticks\":\"\",\"title\":{\"standoff\":15},\"zerolinecolor\":\"white\",\"automargin\":true,\"zerolinewidth\":2},\"yaxis\":{\"gridcolor\":\"white\",\"linecolor\":\"white\",\"ticks\":\"\",\"title\":{\"standoff\":15},\"zerolinecolor\":\"white\",\"automargin\":true,\"zerolinewidth\":2},\"scene\":{\"xaxis\":{\"backgroundcolor\":\"#E5ECF6\",\"gridcolor\":\"white\",\"linecolor\":\"white\",\"showbackground\":true,\"ticks\":\"\",\"zerolinecolor\":\"white\",\"gridwidth\":2},\"yaxis\":{\"backgroundcolor\":\"#E5ECF6\",\"gridcolor\":\"white\",\"linecolor\":\"white\",\"showbackground\":true,\"ticks\":\"\",\"zerolinecolor\":\"white\",\"gridwidth\":2},\"zaxis\":{\"backgroundcolor\":\"#E5ECF6\",\"gridcolor\":\"white\",\"linecolor\":\"white\",\"showbackground\":true,\"ticks\":\"\",\"zerolinecolor\":\"white\",\"gridwidth\":2}},\"shapedefaults\":{\"line\":{\"color\":\"#2a3f5f\"}},\"annotationdefaults\":{\"arrowcolor\":\"#2a3f5f\",\"arrowhead\":0,\"arrowwidth\":1},\"geo\":{\"bgcolor\":\"white\",\"landcolor\":\"#E5ECF6\",\"subunitcolor\":\"white\",\"showland\":true,\"showlakes\":true,\"lakecolor\":\"white\"},\"title\":{\"x\":0.05},\"mapbox\":{\"style\":\"light\"}}},\"geo\":{\"domain\":{\"x\":[0.0,1.0],\"y\":[0.0,1.0]},\"center\":{}},\"coloraxis\":{\"colorbar\":{\"title\":{\"text\":\"release_date_duration\",\"font\":{\"size\":1}},\"tickfont\":{\"size\":30,\"color\":\"black\"},\"nticks\":6,\"orientation\":\"h\",\"len\":1,\"y\":0.06,\"tickangle\":0},\"colorscale\":[[0.0,\"#0d0887\"],[0.1111111111111111,\"#46039f\"],[0.2222222222222222,\"#7201a8\"],[0.3333333333333333,\"#9c179e\"],[0.4444444444444444,\"#bd3786\"],[0.5555555555555556,\"#d8576b\"],[0.6666666666666666,\"#ed7953\"],[0.7777777777777778,\"#fb9f3a\"],[0.8888888888888888,\"#fdca26\"],[1.0,\"#f0f921\"]],\"cmin\":249.0,\"cmax\":747.0},\"legend\":{\"tracegroupgap\":0},\"margin\":{\"t\":60},\"width\":800,\"height\":600},                        {\"responsive\": true}                    ).then(function(){\n",
       "                            \n",
       "var gd = document.getElementById('40171eb7-25de-43ed-81c6-d2ed3d938a78');\n",
       "var x = new MutationObserver(function (mutations, observer) {{\n",
       "        var display = window.getComputedStyle(gd).display;\n",
       "        if (!display || display === 'none') {{\n",
       "            console.log([gd, 'removed!']);\n",
       "            Plotly.purge(gd);\n",
       "            observer.disconnect();\n",
       "        }}\n",
       "}});\n",
       "\n",
       "// Listen for the removal of the full notebook cells\n",
       "var notebookContainer = gd.closest('#notebook-container');\n",
       "if (notebookContainer) {{\n",
       "    x.observe(notebookContainer, {childList: true});\n",
       "}}\n",
       "\n",
       "// Listen for the clearing of the current output cell\n",
       "var outputEl = gd.closest('.output');\n",
       "if (outputEl) {{\n",
       "    x.observe(outputEl, {childList: true});\n",
       "}}\n",
       "\n",
       "                        })                };                });            </script>        </div>"
      ]
     },
     "metadata": {},
     "output_type": "display_data"
    },
    {
     "name": "stdout",
     "output_type": "stream",
     "text": [
      "Avg: 498.0\n"
     ]
    }
   ],
   "source": [
    "import pandas as pd\n",
    "import numpy as np\n",
    "import io\n",
    "import plotly.express as px\n",
    "\n",
    "p = 'release_date_duration'\n",
    "\n",
    "values_to_plot = df_final_samsung_quarterly.groupby(['iso_code'])[p].mean().dt.days.sort_values(ascending=True)\n",
    "avg = values_to_plot.median()\n",
    "\n",
    "df_plot = pd.DataFrame(values_to_plot.values,columns=[p])\n",
    "df_plot['country_code'] = values_to_plot.index\n",
    "\n",
    "fig = px.choropleth(df_plot, locations=\"country_code\",\n",
    "                    locationmode='ISO-3',\n",
    "                    color= p,\n",
    "                    hover_name=\"country_code\",\n",
    "                    color_continuous_scale=px.colors.sequential.Plasma,\n",
    "                    range_color=(0.5*avg,1.5*avg))\n",
    "\n",
    "fig.update_layout(\n",
    "        width=800,\n",
    "        height=600,\n",
    "        coloraxis=dict(\n",
    "            colorbar_nticks=6,\n",
    "            colorbar_orientation='h',\n",
    "            #colorbar_borderwidth = 2,\n",
    "            colorbar_len=1,\n",
    "            colorbar_y=+0.06,\n",
    "            #colorbar_ticksuffix='days',\n",
    "            colorbar_title_font_size=1,\n",
    "            colorbar=dict(\n",
    "                #title_side='bottom',\n",
    "                tickangle=0,\n",
    "                tickfont=dict(size=30, color='black'))\n",
    "            )\n",
    ")\n",
    "\n",
    "\n",
    "layout = go.Layout(\n",
    "  margin=go.layout.Margin(\n",
    "        l=0, #left margin\n",
    "        r=0, #right margin\n",
    "        b=0, #bottom margin\n",
    "        t=0  #top margin\n",
    "    )\n",
    ")\n",
    "\n",
    "\n",
    "fig.show()\n",
    "\n",
    "fig.write_image(\"../Results/geolocation_quarterly_duration.pdf\")\n",
    "\n",
    "fig.write_html(\"../Results/InteractiveFigures/geolocation_quarterly_duration.html\",full_html=False, include_plotlyjs='cdn')\n",
    "\n",
    "print('Avg: {}'.format(avg))\n",
    "\n"
   ]
  },
  {
   "cell_type": "markdown",
   "id": "d7a6df12",
   "metadata": {},
   "source": [
    "### Update Frequency"
   ]
  },
  {
   "cell_type": "code",
   "execution_count": 175,
   "id": "2b08cefa",
   "metadata": {},
   "outputs": [
    {
     "data": {
      "application/vnd.plotly.v1+json": {
       "config": {
        "plotlyServerURL": "https://plot.ly"
       },
       "data": [
        {
         "coloraxis": "coloraxis",
         "geo": "geo",
         "hovertemplate": "<b>%{hovertext}</b><br><br>country_code=%{location}<br>avg_release_freq=%{z}<extra></extra>",
         "hovertext": [
          "ZMB",
          "MUS",
          "BEL",
          "PRI",
          "DZA",
          "ALB",
          "MKD",
          "IRL",
          "DOM",
          "HRV",
          "SVK",
          "FJI",
          "DEU",
          "PAN",
          "PNG",
          "BIH",
          "AUT",
          "PER",
          "BRA",
          "HUN",
          "FRA",
          "PRY",
          "SWE",
          "ROU",
          "VNM",
          "NLD",
          "CZE",
          "ARG",
          "GBR",
          "SGP",
          "URY",
          "AUS",
          "PRT",
          "GTM",
          "NOR",
          "POL",
          "THA",
          "JAM",
          "CHN",
          "BGR",
          "ECU",
          "ESP",
          "NZL",
          "MYS",
          "GRC",
          "ITA",
          "CYP",
          "COL",
          "PHL",
          "SVN",
          "KHM",
          "CRI",
          "SRB",
          "MEX",
          "IND",
          "CHL",
          "IDN",
          "UZB",
          "LUX",
          "HKG",
          "CHE",
          "ARE",
          "UKR",
          "KAZ",
          "USA",
          "RUS",
          "TTO",
          "ZAF",
          "SAU",
          "ISR",
          "NGA",
          "AFG",
          "TWN",
          "LKA",
          "KEN",
          "PAK",
          "IRQ",
          "TUN",
          "MAR",
          "BOL",
          "LBY",
          "TUR",
          "EGY",
          "NPL",
          "HND",
          "IRN",
          "KOR",
          "SLV",
          "BGD",
          "CAN"
         ],
         "locationmode": "ISO-3",
         "locations": [
          "ZMB",
          "MUS",
          "BEL",
          "PRI",
          "DZA",
          "ALB",
          "MKD",
          "IRL",
          "DOM",
          "HRV",
          "SVK",
          "FJI",
          "DEU",
          "PAN",
          "PNG",
          "BIH",
          "AUT",
          "PER",
          "BRA",
          "HUN",
          "FRA",
          "PRY",
          "SWE",
          "ROU",
          "VNM",
          "NLD",
          "CZE",
          "ARG",
          "GBR",
          "SGP",
          "URY",
          "AUS",
          "PRT",
          "GTM",
          "NOR",
          "POL",
          "THA",
          "JAM",
          "CHN",
          "BGR",
          "ECU",
          "ESP",
          "NZL",
          "MYS",
          "GRC",
          "ITA",
          "CYP",
          "COL",
          "PHL",
          "SVN",
          "KHM",
          "CRI",
          "SRB",
          "MEX",
          "IND",
          "CHL",
          "IDN",
          "UZB",
          "LUX",
          "HKG",
          "CHE",
          "ARE",
          "UKR",
          "KAZ",
          "USA",
          "RUS",
          "TTO",
          "ZAF",
          "SAU",
          "ISR",
          "NGA",
          "AFG",
          "TWN",
          "LKA",
          "KEN",
          "PAK",
          "IRQ",
          "TUN",
          "MAR",
          "BOL",
          "LBY",
          "TUR",
          "EGY",
          "NPL",
          "HND",
          "IRN",
          "KOR",
          "SLV",
          "BGD",
          "CAN"
         ],
         "name": "",
         "type": "choropleth",
         "z": [
          0,
          0,
          39.72777777777778,
          40.2713411967351,
          40.541666666666664,
          43.95960730446024,
          46.231143777275356,
          47.37832668990168,
          47.469392181588454,
          48.192608263034835,
          49.040826345346254,
          49.16525064441731,
          49.280651729320056,
          49.41358478719633,
          49.46524196956889,
          49.54647392290249,
          49.59908659160511,
          49.713380164364004,
          49.74627672886891,
          49.79090707969414,
          49.864053060605535,
          49.91201872317931,
          49.92304318488529,
          49.94592291949103,
          50.07653410906462,
          50.21214919677225,
          50.616412953325806,
          50.67199678280505,
          50.677940641719346,
          50.680161604859116,
          50.75486939904939,
          50.92581418334667,
          51.064238262167834,
          51.09969848792557,
          51.17857142857143,
          51.20954536501142,
          51.28612199989607,
          51.44448177608555,
          51.53332929416263,
          51.55818283691365,
          51.68140921319302,
          51.73454426492265,
          51.822934605077464,
          51.86223359021153,
          51.91975782081209,
          51.938446890038946,
          51.95008348380674,
          52.30706556040858,
          52.41072355204708,
          52.61998926358345,
          52.81634519438441,
          53.089086469086475,
          53.22265654119273,
          53.37690580295508,
          53.410784740142326,
          53.42487507708143,
          53.442156147229674,
          53.67050219932573,
          53.83895093024432,
          53.88608456146118,
          54.10712284242341,
          54.637974942624346,
          54.767067587614456,
          54.93788165044011,
          55.01314772567622,
          55.29672880768469,
          55.396579432808245,
          55.401894384474794,
          55.51810507112365,
          55.86228674583016,
          55.87901414899528,
          56.40066264191904,
          56.70060285574991,
          57.05820239845007,
          57.286216792466796,
          57.354186020456076,
          57.36100642821231,
          57.38694080529315,
          57.669189858658186,
          57.714447005757165,
          57.80562241957737,
          58.07085653119809,
          58.43358471010782,
          58.52241917241918,
          59.97644781144781,
          61.085912087912085,
          63.10150508221937,
          63.518973063973064,
          67.31734126984126,
          68.24560777571722
         ]
        }
       ],
       "layout": {
        "coloraxis": {
         "cmax": 77.89365353313826,
         "cmin": 25.964551177712757,
         "colorbar": {
          "len": 1,
          "nticks": 6,
          "orientation": "h",
          "tickangle": 0,
          "tickfont": {
           "color": "black",
           "size": 30
          },
          "title": {
           "font": {
            "size": 1
           },
           "text": "avg_release_freq"
          },
          "y": 0.06
         },
         "colorscale": [
          [
           0,
           "#0d0887"
          ],
          [
           0.1111111111111111,
           "#46039f"
          ],
          [
           0.2222222222222222,
           "#7201a8"
          ],
          [
           0.3333333333333333,
           "#9c179e"
          ],
          [
           0.4444444444444444,
           "#bd3786"
          ],
          [
           0.5555555555555556,
           "#d8576b"
          ],
          [
           0.6666666666666666,
           "#ed7953"
          ],
          [
           0.7777777777777778,
           "#fb9f3a"
          ],
          [
           0.8888888888888888,
           "#fdca26"
          ],
          [
           1,
           "#f0f921"
          ]
         ]
        },
        "geo": {
         "center": {},
         "domain": {
          "x": [
           0,
           1
          ],
          "y": [
           0,
           1
          ]
         }
        },
        "height": 600,
        "legend": {
         "tracegroupgap": 0
        },
        "margin": {
         "t": 60
        },
        "template": {
         "data": {
          "bar": [
           {
            "error_x": {
             "color": "#2a3f5f"
            },
            "error_y": {
             "color": "#2a3f5f"
            },
            "marker": {
             "line": {
              "color": "#E5ECF6",
              "width": 0.5
             },
             "pattern": {
              "fillmode": "overlay",
              "size": 10,
              "solidity": 0.2
             }
            },
            "type": "bar"
           }
          ],
          "barpolar": [
           {
            "marker": {
             "line": {
              "color": "#E5ECF6",
              "width": 0.5
             },
             "pattern": {
              "fillmode": "overlay",
              "size": 10,
              "solidity": 0.2
             }
            },
            "type": "barpolar"
           }
          ],
          "carpet": [
           {
            "aaxis": {
             "endlinecolor": "#2a3f5f",
             "gridcolor": "white",
             "linecolor": "white",
             "minorgridcolor": "white",
             "startlinecolor": "#2a3f5f"
            },
            "baxis": {
             "endlinecolor": "#2a3f5f",
             "gridcolor": "white",
             "linecolor": "white",
             "minorgridcolor": "white",
             "startlinecolor": "#2a3f5f"
            },
            "type": "carpet"
           }
          ],
          "choropleth": [
           {
            "colorbar": {
             "outlinewidth": 0,
             "ticks": ""
            },
            "type": "choropleth"
           }
          ],
          "contour": [
           {
            "colorbar": {
             "outlinewidth": 0,
             "ticks": ""
            },
            "colorscale": [
             [
              0,
              "#0d0887"
             ],
             [
              0.1111111111111111,
              "#46039f"
             ],
             [
              0.2222222222222222,
              "#7201a8"
             ],
             [
              0.3333333333333333,
              "#9c179e"
             ],
             [
              0.4444444444444444,
              "#bd3786"
             ],
             [
              0.5555555555555556,
              "#d8576b"
             ],
             [
              0.6666666666666666,
              "#ed7953"
             ],
             [
              0.7777777777777778,
              "#fb9f3a"
             ],
             [
              0.8888888888888888,
              "#fdca26"
             ],
             [
              1,
              "#f0f921"
             ]
            ],
            "type": "contour"
           }
          ],
          "contourcarpet": [
           {
            "colorbar": {
             "outlinewidth": 0,
             "ticks": ""
            },
            "type": "contourcarpet"
           }
          ],
          "heatmap": [
           {
            "colorbar": {
             "outlinewidth": 0,
             "ticks": ""
            },
            "colorscale": [
             [
              0,
              "#0d0887"
             ],
             [
              0.1111111111111111,
              "#46039f"
             ],
             [
              0.2222222222222222,
              "#7201a8"
             ],
             [
              0.3333333333333333,
              "#9c179e"
             ],
             [
              0.4444444444444444,
              "#bd3786"
             ],
             [
              0.5555555555555556,
              "#d8576b"
             ],
             [
              0.6666666666666666,
              "#ed7953"
             ],
             [
              0.7777777777777778,
              "#fb9f3a"
             ],
             [
              0.8888888888888888,
              "#fdca26"
             ],
             [
              1,
              "#f0f921"
             ]
            ],
            "type": "heatmap"
           }
          ],
          "heatmapgl": [
           {
            "colorbar": {
             "outlinewidth": 0,
             "ticks": ""
            },
            "colorscale": [
             [
              0,
              "#0d0887"
             ],
             [
              0.1111111111111111,
              "#46039f"
             ],
             [
              0.2222222222222222,
              "#7201a8"
             ],
             [
              0.3333333333333333,
              "#9c179e"
             ],
             [
              0.4444444444444444,
              "#bd3786"
             ],
             [
              0.5555555555555556,
              "#d8576b"
             ],
             [
              0.6666666666666666,
              "#ed7953"
             ],
             [
              0.7777777777777778,
              "#fb9f3a"
             ],
             [
              0.8888888888888888,
              "#fdca26"
             ],
             [
              1,
              "#f0f921"
             ]
            ],
            "type": "heatmapgl"
           }
          ],
          "histogram": [
           {
            "marker": {
             "pattern": {
              "fillmode": "overlay",
              "size": 10,
              "solidity": 0.2
             }
            },
            "type": "histogram"
           }
          ],
          "histogram2d": [
           {
            "colorbar": {
             "outlinewidth": 0,
             "ticks": ""
            },
            "colorscale": [
             [
              0,
              "#0d0887"
             ],
             [
              0.1111111111111111,
              "#46039f"
             ],
             [
              0.2222222222222222,
              "#7201a8"
             ],
             [
              0.3333333333333333,
              "#9c179e"
             ],
             [
              0.4444444444444444,
              "#bd3786"
             ],
             [
              0.5555555555555556,
              "#d8576b"
             ],
             [
              0.6666666666666666,
              "#ed7953"
             ],
             [
              0.7777777777777778,
              "#fb9f3a"
             ],
             [
              0.8888888888888888,
              "#fdca26"
             ],
             [
              1,
              "#f0f921"
             ]
            ],
            "type": "histogram2d"
           }
          ],
          "histogram2dcontour": [
           {
            "colorbar": {
             "outlinewidth": 0,
             "ticks": ""
            },
            "colorscale": [
             [
              0,
              "#0d0887"
             ],
             [
              0.1111111111111111,
              "#46039f"
             ],
             [
              0.2222222222222222,
              "#7201a8"
             ],
             [
              0.3333333333333333,
              "#9c179e"
             ],
             [
              0.4444444444444444,
              "#bd3786"
             ],
             [
              0.5555555555555556,
              "#d8576b"
             ],
             [
              0.6666666666666666,
              "#ed7953"
             ],
             [
              0.7777777777777778,
              "#fb9f3a"
             ],
             [
              0.8888888888888888,
              "#fdca26"
             ],
             [
              1,
              "#f0f921"
             ]
            ],
            "type": "histogram2dcontour"
           }
          ],
          "mesh3d": [
           {
            "colorbar": {
             "outlinewidth": 0,
             "ticks": ""
            },
            "type": "mesh3d"
           }
          ],
          "parcoords": [
           {
            "line": {
             "colorbar": {
              "outlinewidth": 0,
              "ticks": ""
             }
            },
            "type": "parcoords"
           }
          ],
          "pie": [
           {
            "automargin": true,
            "type": "pie"
           }
          ],
          "scatter": [
           {
            "fillpattern": {
             "fillmode": "overlay",
             "size": 10,
             "solidity": 0.2
            },
            "type": "scatter"
           }
          ],
          "scatter3d": [
           {
            "line": {
             "colorbar": {
              "outlinewidth": 0,
              "ticks": ""
             }
            },
            "marker": {
             "colorbar": {
              "outlinewidth": 0,
              "ticks": ""
             }
            },
            "type": "scatter3d"
           }
          ],
          "scattercarpet": [
           {
            "marker": {
             "colorbar": {
              "outlinewidth": 0,
              "ticks": ""
             }
            },
            "type": "scattercarpet"
           }
          ],
          "scattergeo": [
           {
            "marker": {
             "colorbar": {
              "outlinewidth": 0,
              "ticks": ""
             }
            },
            "type": "scattergeo"
           }
          ],
          "scattergl": [
           {
            "marker": {
             "colorbar": {
              "outlinewidth": 0,
              "ticks": ""
             }
            },
            "type": "scattergl"
           }
          ],
          "scattermapbox": [
           {
            "marker": {
             "colorbar": {
              "outlinewidth": 0,
              "ticks": ""
             }
            },
            "type": "scattermapbox"
           }
          ],
          "scatterpolar": [
           {
            "marker": {
             "colorbar": {
              "outlinewidth": 0,
              "ticks": ""
             }
            },
            "type": "scatterpolar"
           }
          ],
          "scatterpolargl": [
           {
            "marker": {
             "colorbar": {
              "outlinewidth": 0,
              "ticks": ""
             }
            },
            "type": "scatterpolargl"
           }
          ],
          "scatterternary": [
           {
            "marker": {
             "colorbar": {
              "outlinewidth": 0,
              "ticks": ""
             }
            },
            "type": "scatterternary"
           }
          ],
          "surface": [
           {
            "colorbar": {
             "outlinewidth": 0,
             "ticks": ""
            },
            "colorscale": [
             [
              0,
              "#0d0887"
             ],
             [
              0.1111111111111111,
              "#46039f"
             ],
             [
              0.2222222222222222,
              "#7201a8"
             ],
             [
              0.3333333333333333,
              "#9c179e"
             ],
             [
              0.4444444444444444,
              "#bd3786"
             ],
             [
              0.5555555555555556,
              "#d8576b"
             ],
             [
              0.6666666666666666,
              "#ed7953"
             ],
             [
              0.7777777777777778,
              "#fb9f3a"
             ],
             [
              0.8888888888888888,
              "#fdca26"
             ],
             [
              1,
              "#f0f921"
             ]
            ],
            "type": "surface"
           }
          ],
          "table": [
           {
            "cells": {
             "fill": {
              "color": "#EBF0F8"
             },
             "line": {
              "color": "white"
             }
            },
            "header": {
             "fill": {
              "color": "#C8D4E3"
             },
             "line": {
              "color": "white"
             }
            },
            "type": "table"
           }
          ]
         },
         "layout": {
          "annotationdefaults": {
           "arrowcolor": "#2a3f5f",
           "arrowhead": 0,
           "arrowwidth": 1
          },
          "autotypenumbers": "strict",
          "coloraxis": {
           "colorbar": {
            "outlinewidth": 0,
            "ticks": ""
           }
          },
          "colorscale": {
           "diverging": [
            [
             0,
             "#8e0152"
            ],
            [
             0.1,
             "#c51b7d"
            ],
            [
             0.2,
             "#de77ae"
            ],
            [
             0.3,
             "#f1b6da"
            ],
            [
             0.4,
             "#fde0ef"
            ],
            [
             0.5,
             "#f7f7f7"
            ],
            [
             0.6,
             "#e6f5d0"
            ],
            [
             0.7,
             "#b8e186"
            ],
            [
             0.8,
             "#7fbc41"
            ],
            [
             0.9,
             "#4d9221"
            ],
            [
             1,
             "#276419"
            ]
           ],
           "sequential": [
            [
             0,
             "#0d0887"
            ],
            [
             0.1111111111111111,
             "#46039f"
            ],
            [
             0.2222222222222222,
             "#7201a8"
            ],
            [
             0.3333333333333333,
             "#9c179e"
            ],
            [
             0.4444444444444444,
             "#bd3786"
            ],
            [
             0.5555555555555556,
             "#d8576b"
            ],
            [
             0.6666666666666666,
             "#ed7953"
            ],
            [
             0.7777777777777778,
             "#fb9f3a"
            ],
            [
             0.8888888888888888,
             "#fdca26"
            ],
            [
             1,
             "#f0f921"
            ]
           ],
           "sequentialminus": [
            [
             0,
             "#0d0887"
            ],
            [
             0.1111111111111111,
             "#46039f"
            ],
            [
             0.2222222222222222,
             "#7201a8"
            ],
            [
             0.3333333333333333,
             "#9c179e"
            ],
            [
             0.4444444444444444,
             "#bd3786"
            ],
            [
             0.5555555555555556,
             "#d8576b"
            ],
            [
             0.6666666666666666,
             "#ed7953"
            ],
            [
             0.7777777777777778,
             "#fb9f3a"
            ],
            [
             0.8888888888888888,
             "#fdca26"
            ],
            [
             1,
             "#f0f921"
            ]
           ]
          },
          "colorway": [
           "#636efa",
           "#EF553B",
           "#00cc96",
           "#ab63fa",
           "#FFA15A",
           "#19d3f3",
           "#FF6692",
           "#B6E880",
           "#FF97FF",
           "#FECB52"
          ],
          "font": {
           "color": "#2a3f5f"
          },
          "geo": {
           "bgcolor": "white",
           "lakecolor": "white",
           "landcolor": "#E5ECF6",
           "showlakes": true,
           "showland": true,
           "subunitcolor": "white"
          },
          "hoverlabel": {
           "align": "left"
          },
          "hovermode": "closest",
          "mapbox": {
           "style": "light"
          },
          "paper_bgcolor": "white",
          "plot_bgcolor": "#E5ECF6",
          "polar": {
           "angularaxis": {
            "gridcolor": "white",
            "linecolor": "white",
            "ticks": ""
           },
           "bgcolor": "#E5ECF6",
           "radialaxis": {
            "gridcolor": "white",
            "linecolor": "white",
            "ticks": ""
           }
          },
          "scene": {
           "xaxis": {
            "backgroundcolor": "#E5ECF6",
            "gridcolor": "white",
            "gridwidth": 2,
            "linecolor": "white",
            "showbackground": true,
            "ticks": "",
            "zerolinecolor": "white"
           },
           "yaxis": {
            "backgroundcolor": "#E5ECF6",
            "gridcolor": "white",
            "gridwidth": 2,
            "linecolor": "white",
            "showbackground": true,
            "ticks": "",
            "zerolinecolor": "white"
           },
           "zaxis": {
            "backgroundcolor": "#E5ECF6",
            "gridcolor": "white",
            "gridwidth": 2,
            "linecolor": "white",
            "showbackground": true,
            "ticks": "",
            "zerolinecolor": "white"
           }
          },
          "shapedefaults": {
           "line": {
            "color": "#2a3f5f"
           }
          },
          "ternary": {
           "aaxis": {
            "gridcolor": "white",
            "linecolor": "white",
            "ticks": ""
           },
           "baxis": {
            "gridcolor": "white",
            "linecolor": "white",
            "ticks": ""
           },
           "bgcolor": "#E5ECF6",
           "caxis": {
            "gridcolor": "white",
            "linecolor": "white",
            "ticks": ""
           }
          },
          "title": {
           "x": 0.05
          },
          "xaxis": {
           "automargin": true,
           "gridcolor": "white",
           "linecolor": "white",
           "ticks": "",
           "title": {
            "standoff": 15
           },
           "zerolinecolor": "white",
           "zerolinewidth": 2
          },
          "yaxis": {
           "automargin": true,
           "gridcolor": "white",
           "linecolor": "white",
           "ticks": "",
           "title": {
            "standoff": 15
           },
           "zerolinecolor": "white",
           "zerolinewidth": 2
          }
         }
        },
        "width": 800
       }
      },
      "text/html": [
       "<div>                            <div id=\"8ea30746-fc43-4efc-a012-f3e93213fb1d\" class=\"plotly-graph-div\" style=\"height:600px; width:800px;\"></div>            <script type=\"text/javascript\">                require([\"plotly\"], function(Plotly) {                    window.PLOTLYENV=window.PLOTLYENV || {};                                    if (document.getElementById(\"8ea30746-fc43-4efc-a012-f3e93213fb1d\")) {                    Plotly.newPlot(                        \"8ea30746-fc43-4efc-a012-f3e93213fb1d\",                        [{\"coloraxis\":\"coloraxis\",\"geo\":\"geo\",\"hovertemplate\":\"<b>%{hovertext}</b><br><br>country_code=%{location}<br>avg_release_freq=%{z}<extra></extra>\",\"hovertext\":[\"ZMB\",\"MUS\",\"BEL\",\"PRI\",\"DZA\",\"ALB\",\"MKD\",\"IRL\",\"DOM\",\"HRV\",\"SVK\",\"FJI\",\"DEU\",\"PAN\",\"PNG\",\"BIH\",\"AUT\",\"PER\",\"BRA\",\"HUN\",\"FRA\",\"PRY\",\"SWE\",\"ROU\",\"VNM\",\"NLD\",\"CZE\",\"ARG\",\"GBR\",\"SGP\",\"URY\",\"AUS\",\"PRT\",\"GTM\",\"NOR\",\"POL\",\"THA\",\"JAM\",\"CHN\",\"BGR\",\"ECU\",\"ESP\",\"NZL\",\"MYS\",\"GRC\",\"ITA\",\"CYP\",\"COL\",\"PHL\",\"SVN\",\"KHM\",\"CRI\",\"SRB\",\"MEX\",\"IND\",\"CHL\",\"IDN\",\"UZB\",\"LUX\",\"HKG\",\"CHE\",\"ARE\",\"UKR\",\"KAZ\",\"USA\",\"RUS\",\"TTO\",\"ZAF\",\"SAU\",\"ISR\",\"NGA\",\"AFG\",\"TWN\",\"LKA\",\"KEN\",\"PAK\",\"IRQ\",\"TUN\",\"MAR\",\"BOL\",\"LBY\",\"TUR\",\"EGY\",\"NPL\",\"HND\",\"IRN\",\"KOR\",\"SLV\",\"BGD\",\"CAN\"],\"locationmode\":\"ISO-3\",\"locations\":[\"ZMB\",\"MUS\",\"BEL\",\"PRI\",\"DZA\",\"ALB\",\"MKD\",\"IRL\",\"DOM\",\"HRV\",\"SVK\",\"FJI\",\"DEU\",\"PAN\",\"PNG\",\"BIH\",\"AUT\",\"PER\",\"BRA\",\"HUN\",\"FRA\",\"PRY\",\"SWE\",\"ROU\",\"VNM\",\"NLD\",\"CZE\",\"ARG\",\"GBR\",\"SGP\",\"URY\",\"AUS\",\"PRT\",\"GTM\",\"NOR\",\"POL\",\"THA\",\"JAM\",\"CHN\",\"BGR\",\"ECU\",\"ESP\",\"NZL\",\"MYS\",\"GRC\",\"ITA\",\"CYP\",\"COL\",\"PHL\",\"SVN\",\"KHM\",\"CRI\",\"SRB\",\"MEX\",\"IND\",\"CHL\",\"IDN\",\"UZB\",\"LUX\",\"HKG\",\"CHE\",\"ARE\",\"UKR\",\"KAZ\",\"USA\",\"RUS\",\"TTO\",\"ZAF\",\"SAU\",\"ISR\",\"NGA\",\"AFG\",\"TWN\",\"LKA\",\"KEN\",\"PAK\",\"IRQ\",\"TUN\",\"MAR\",\"BOL\",\"LBY\",\"TUR\",\"EGY\",\"NPL\",\"HND\",\"IRN\",\"KOR\",\"SLV\",\"BGD\",\"CAN\"],\"name\":\"\",\"z\":[0.0,0.0,39.72777777777778,40.2713411967351,40.541666666666664,43.95960730446024,46.231143777275356,47.37832668990168,47.469392181588454,48.192608263034835,49.040826345346254,49.16525064441731,49.280651729320056,49.41358478719633,49.46524196956889,49.54647392290249,49.59908659160511,49.713380164364004,49.74627672886891,49.79090707969414,49.864053060605535,49.91201872317931,49.92304318488529,49.94592291949103,50.07653410906462,50.21214919677225,50.616412953325806,50.67199678280505,50.677940641719346,50.680161604859116,50.75486939904939,50.92581418334667,51.064238262167834,51.09969848792557,51.17857142857143,51.20954536501142,51.28612199989607,51.44448177608555,51.53332929416263,51.55818283691365,51.68140921319302,51.73454426492265,51.822934605077464,51.86223359021153,51.91975782081209,51.938446890038946,51.95008348380674,52.30706556040858,52.41072355204708,52.61998926358345,52.81634519438441,53.089086469086475,53.22265654119273,53.37690580295508,53.410784740142326,53.42487507708143,53.442156147229674,53.67050219932573,53.83895093024432,53.88608456146118,54.10712284242341,54.637974942624346,54.767067587614456,54.93788165044011,55.01314772567622,55.29672880768469,55.396579432808245,55.401894384474794,55.51810507112365,55.86228674583016,55.87901414899528,56.40066264191904,56.70060285574991,57.05820239845007,57.286216792466796,57.354186020456076,57.36100642821231,57.38694080529315,57.669189858658186,57.714447005757165,57.80562241957737,58.07085653119809,58.43358471010782,58.52241917241918,59.97644781144781,61.085912087912085,63.10150508221937,63.518973063973064,67.31734126984126,68.24560777571722],\"type\":\"choropleth\"}],                        {\"template\":{\"data\":{\"histogram2dcontour\":[{\"type\":\"histogram2dcontour\",\"colorbar\":{\"outlinewidth\":0,\"ticks\":\"\"},\"colorscale\":[[0.0,\"#0d0887\"],[0.1111111111111111,\"#46039f\"],[0.2222222222222222,\"#7201a8\"],[0.3333333333333333,\"#9c179e\"],[0.4444444444444444,\"#bd3786\"],[0.5555555555555556,\"#d8576b\"],[0.6666666666666666,\"#ed7953\"],[0.7777777777777778,\"#fb9f3a\"],[0.8888888888888888,\"#fdca26\"],[1.0,\"#f0f921\"]]}],\"choropleth\":[{\"type\":\"choropleth\",\"colorbar\":{\"outlinewidth\":0,\"ticks\":\"\"}}],\"histogram2d\":[{\"type\":\"histogram2d\",\"colorbar\":{\"outlinewidth\":0,\"ticks\":\"\"},\"colorscale\":[[0.0,\"#0d0887\"],[0.1111111111111111,\"#46039f\"],[0.2222222222222222,\"#7201a8\"],[0.3333333333333333,\"#9c179e\"],[0.4444444444444444,\"#bd3786\"],[0.5555555555555556,\"#d8576b\"],[0.6666666666666666,\"#ed7953\"],[0.7777777777777778,\"#fb9f3a\"],[0.8888888888888888,\"#fdca26\"],[1.0,\"#f0f921\"]]}],\"heatmap\":[{\"type\":\"heatmap\",\"colorbar\":{\"outlinewidth\":0,\"ticks\":\"\"},\"colorscale\":[[0.0,\"#0d0887\"],[0.1111111111111111,\"#46039f\"],[0.2222222222222222,\"#7201a8\"],[0.3333333333333333,\"#9c179e\"],[0.4444444444444444,\"#bd3786\"],[0.5555555555555556,\"#d8576b\"],[0.6666666666666666,\"#ed7953\"],[0.7777777777777778,\"#fb9f3a\"],[0.8888888888888888,\"#fdca26\"],[1.0,\"#f0f921\"]]}],\"heatmapgl\":[{\"type\":\"heatmapgl\",\"colorbar\":{\"outlinewidth\":0,\"ticks\":\"\"},\"colorscale\":[[0.0,\"#0d0887\"],[0.1111111111111111,\"#46039f\"],[0.2222222222222222,\"#7201a8\"],[0.3333333333333333,\"#9c179e\"],[0.4444444444444444,\"#bd3786\"],[0.5555555555555556,\"#d8576b\"],[0.6666666666666666,\"#ed7953\"],[0.7777777777777778,\"#fb9f3a\"],[0.8888888888888888,\"#fdca26\"],[1.0,\"#f0f921\"]]}],\"contourcarpet\":[{\"type\":\"contourcarpet\",\"colorbar\":{\"outlinewidth\":0,\"ticks\":\"\"}}],\"contour\":[{\"type\":\"contour\",\"colorbar\":{\"outlinewidth\":0,\"ticks\":\"\"},\"colorscale\":[[0.0,\"#0d0887\"],[0.1111111111111111,\"#46039f\"],[0.2222222222222222,\"#7201a8\"],[0.3333333333333333,\"#9c179e\"],[0.4444444444444444,\"#bd3786\"],[0.5555555555555556,\"#d8576b\"],[0.6666666666666666,\"#ed7953\"],[0.7777777777777778,\"#fb9f3a\"],[0.8888888888888888,\"#fdca26\"],[1.0,\"#f0f921\"]]}],\"surface\":[{\"type\":\"surface\",\"colorbar\":{\"outlinewidth\":0,\"ticks\":\"\"},\"colorscale\":[[0.0,\"#0d0887\"],[0.1111111111111111,\"#46039f\"],[0.2222222222222222,\"#7201a8\"],[0.3333333333333333,\"#9c179e\"],[0.4444444444444444,\"#bd3786\"],[0.5555555555555556,\"#d8576b\"],[0.6666666666666666,\"#ed7953\"],[0.7777777777777778,\"#fb9f3a\"],[0.8888888888888888,\"#fdca26\"],[1.0,\"#f0f921\"]]}],\"mesh3d\":[{\"type\":\"mesh3d\",\"colorbar\":{\"outlinewidth\":0,\"ticks\":\"\"}}],\"scatter\":[{\"fillpattern\":{\"fillmode\":\"overlay\",\"size\":10,\"solidity\":0.2},\"type\":\"scatter\"}],\"parcoords\":[{\"type\":\"parcoords\",\"line\":{\"colorbar\":{\"outlinewidth\":0,\"ticks\":\"\"}}}],\"scatterpolargl\":[{\"type\":\"scatterpolargl\",\"marker\":{\"colorbar\":{\"outlinewidth\":0,\"ticks\":\"\"}}}],\"bar\":[{\"error_x\":{\"color\":\"#2a3f5f\"},\"error_y\":{\"color\":\"#2a3f5f\"},\"marker\":{\"line\":{\"color\":\"#E5ECF6\",\"width\":0.5},\"pattern\":{\"fillmode\":\"overlay\",\"size\":10,\"solidity\":0.2}},\"type\":\"bar\"}],\"scattergeo\":[{\"type\":\"scattergeo\",\"marker\":{\"colorbar\":{\"outlinewidth\":0,\"ticks\":\"\"}}}],\"scatterpolar\":[{\"type\":\"scatterpolar\",\"marker\":{\"colorbar\":{\"outlinewidth\":0,\"ticks\":\"\"}}}],\"histogram\":[{\"marker\":{\"pattern\":{\"fillmode\":\"overlay\",\"size\":10,\"solidity\":0.2}},\"type\":\"histogram\"}],\"scattergl\":[{\"type\":\"scattergl\",\"marker\":{\"colorbar\":{\"outlinewidth\":0,\"ticks\":\"\"}}}],\"scatter3d\":[{\"type\":\"scatter3d\",\"line\":{\"colorbar\":{\"outlinewidth\":0,\"ticks\":\"\"}},\"marker\":{\"colorbar\":{\"outlinewidth\":0,\"ticks\":\"\"}}}],\"scattermapbox\":[{\"type\":\"scattermapbox\",\"marker\":{\"colorbar\":{\"outlinewidth\":0,\"ticks\":\"\"}}}],\"scatterternary\":[{\"type\":\"scatterternary\",\"marker\":{\"colorbar\":{\"outlinewidth\":0,\"ticks\":\"\"}}}],\"scattercarpet\":[{\"type\":\"scattercarpet\",\"marker\":{\"colorbar\":{\"outlinewidth\":0,\"ticks\":\"\"}}}],\"carpet\":[{\"aaxis\":{\"endlinecolor\":\"#2a3f5f\",\"gridcolor\":\"white\",\"linecolor\":\"white\",\"minorgridcolor\":\"white\",\"startlinecolor\":\"#2a3f5f\"},\"baxis\":{\"endlinecolor\":\"#2a3f5f\",\"gridcolor\":\"white\",\"linecolor\":\"white\",\"minorgridcolor\":\"white\",\"startlinecolor\":\"#2a3f5f\"},\"type\":\"carpet\"}],\"table\":[{\"cells\":{\"fill\":{\"color\":\"#EBF0F8\"},\"line\":{\"color\":\"white\"}},\"header\":{\"fill\":{\"color\":\"#C8D4E3\"},\"line\":{\"color\":\"white\"}},\"type\":\"table\"}],\"barpolar\":[{\"marker\":{\"line\":{\"color\":\"#E5ECF6\",\"width\":0.5},\"pattern\":{\"fillmode\":\"overlay\",\"size\":10,\"solidity\":0.2}},\"type\":\"barpolar\"}],\"pie\":[{\"automargin\":true,\"type\":\"pie\"}]},\"layout\":{\"autotypenumbers\":\"strict\",\"colorway\":[\"#636efa\",\"#EF553B\",\"#00cc96\",\"#ab63fa\",\"#FFA15A\",\"#19d3f3\",\"#FF6692\",\"#B6E880\",\"#FF97FF\",\"#FECB52\"],\"font\":{\"color\":\"#2a3f5f\"},\"hovermode\":\"closest\",\"hoverlabel\":{\"align\":\"left\"},\"paper_bgcolor\":\"white\",\"plot_bgcolor\":\"#E5ECF6\",\"polar\":{\"bgcolor\":\"#E5ECF6\",\"angularaxis\":{\"gridcolor\":\"white\",\"linecolor\":\"white\",\"ticks\":\"\"},\"radialaxis\":{\"gridcolor\":\"white\",\"linecolor\":\"white\",\"ticks\":\"\"}},\"ternary\":{\"bgcolor\":\"#E5ECF6\",\"aaxis\":{\"gridcolor\":\"white\",\"linecolor\":\"white\",\"ticks\":\"\"},\"baxis\":{\"gridcolor\":\"white\",\"linecolor\":\"white\",\"ticks\":\"\"},\"caxis\":{\"gridcolor\":\"white\",\"linecolor\":\"white\",\"ticks\":\"\"}},\"coloraxis\":{\"colorbar\":{\"outlinewidth\":0,\"ticks\":\"\"}},\"colorscale\":{\"sequential\":[[0.0,\"#0d0887\"],[0.1111111111111111,\"#46039f\"],[0.2222222222222222,\"#7201a8\"],[0.3333333333333333,\"#9c179e\"],[0.4444444444444444,\"#bd3786\"],[0.5555555555555556,\"#d8576b\"],[0.6666666666666666,\"#ed7953\"],[0.7777777777777778,\"#fb9f3a\"],[0.8888888888888888,\"#fdca26\"],[1.0,\"#f0f921\"]],\"sequentialminus\":[[0.0,\"#0d0887\"],[0.1111111111111111,\"#46039f\"],[0.2222222222222222,\"#7201a8\"],[0.3333333333333333,\"#9c179e\"],[0.4444444444444444,\"#bd3786\"],[0.5555555555555556,\"#d8576b\"],[0.6666666666666666,\"#ed7953\"],[0.7777777777777778,\"#fb9f3a\"],[0.8888888888888888,\"#fdca26\"],[1.0,\"#f0f921\"]],\"diverging\":[[0,\"#8e0152\"],[0.1,\"#c51b7d\"],[0.2,\"#de77ae\"],[0.3,\"#f1b6da\"],[0.4,\"#fde0ef\"],[0.5,\"#f7f7f7\"],[0.6,\"#e6f5d0\"],[0.7,\"#b8e186\"],[0.8,\"#7fbc41\"],[0.9,\"#4d9221\"],[1,\"#276419\"]]},\"xaxis\":{\"gridcolor\":\"white\",\"linecolor\":\"white\",\"ticks\":\"\",\"title\":{\"standoff\":15},\"zerolinecolor\":\"white\",\"automargin\":true,\"zerolinewidth\":2},\"yaxis\":{\"gridcolor\":\"white\",\"linecolor\":\"white\",\"ticks\":\"\",\"title\":{\"standoff\":15},\"zerolinecolor\":\"white\",\"automargin\":true,\"zerolinewidth\":2},\"scene\":{\"xaxis\":{\"backgroundcolor\":\"#E5ECF6\",\"gridcolor\":\"white\",\"linecolor\":\"white\",\"showbackground\":true,\"ticks\":\"\",\"zerolinecolor\":\"white\",\"gridwidth\":2},\"yaxis\":{\"backgroundcolor\":\"#E5ECF6\",\"gridcolor\":\"white\",\"linecolor\":\"white\",\"showbackground\":true,\"ticks\":\"\",\"zerolinecolor\":\"white\",\"gridwidth\":2},\"zaxis\":{\"backgroundcolor\":\"#E5ECF6\",\"gridcolor\":\"white\",\"linecolor\":\"white\",\"showbackground\":true,\"ticks\":\"\",\"zerolinecolor\":\"white\",\"gridwidth\":2}},\"shapedefaults\":{\"line\":{\"color\":\"#2a3f5f\"}},\"annotationdefaults\":{\"arrowcolor\":\"#2a3f5f\",\"arrowhead\":0,\"arrowwidth\":1},\"geo\":{\"bgcolor\":\"white\",\"landcolor\":\"#E5ECF6\",\"subunitcolor\":\"white\",\"showland\":true,\"showlakes\":true,\"lakecolor\":\"white\"},\"title\":{\"x\":0.05},\"mapbox\":{\"style\":\"light\"}}},\"geo\":{\"domain\":{\"x\":[0.0,1.0],\"y\":[0.0,1.0]},\"center\":{}},\"coloraxis\":{\"colorbar\":{\"title\":{\"text\":\"avg_release_freq\",\"font\":{\"size\":1}},\"tickfont\":{\"size\":30,\"color\":\"black\"},\"nticks\":6,\"orientation\":\"h\",\"len\":1,\"y\":0.06,\"tickangle\":0},\"colorscale\":[[0.0,\"#0d0887\"],[0.1111111111111111,\"#46039f\"],[0.2222222222222222,\"#7201a8\"],[0.3333333333333333,\"#9c179e\"],[0.4444444444444444,\"#bd3786\"],[0.5555555555555556,\"#d8576b\"],[0.6666666666666666,\"#ed7953\"],[0.7777777777777778,\"#fb9f3a\"],[0.8888888888888888,\"#fdca26\"],[1.0,\"#f0f921\"]],\"cmin\":25.964551177712757,\"cmax\":77.89365353313826},\"legend\":{\"tracegroupgap\":0},\"margin\":{\"t\":60},\"width\":800,\"height\":600},                        {\"responsive\": true}                    ).then(function(){\n",
       "                            \n",
       "var gd = document.getElementById('8ea30746-fc43-4efc-a012-f3e93213fb1d');\n",
       "var x = new MutationObserver(function (mutations, observer) {{\n",
       "        var display = window.getComputedStyle(gd).display;\n",
       "        if (!display || display === 'none') {{\n",
       "            console.log([gd, 'removed!']);\n",
       "            Plotly.purge(gd);\n",
       "            observer.disconnect();\n",
       "        }}\n",
       "}});\n",
       "\n",
       "// Listen for the removal of the full notebook cells\n",
       "var notebookContainer = gd.closest('#notebook-container');\n",
       "if (notebookContainer) {{\n",
       "    x.observe(notebookContainer, {childList: true});\n",
       "}}\n",
       "\n",
       "// Listen for the clearing of the current output cell\n",
       "var outputEl = gd.closest('.output');\n",
       "if (outputEl) {{\n",
       "    x.observe(outputEl, {childList: true});\n",
       "}}\n",
       "\n",
       "                        })                };                });            </script>        </div>"
      ]
     },
     "metadata": {},
     "output_type": "display_data"
    },
    {
     "name": "stdout",
     "output_type": "stream",
     "text": [
      "Avg: 51.92910235542551\n"
     ]
    }
   ],
   "source": [
    "p = 'avg_release_freq'\n",
    "\n",
    "values_to_plot = df_final_samsung_quarterly.groupby(['iso_code'])[p].mean().sort_values(ascending=True)\n",
    "avg = values_to_plot.median()\n",
    "\n",
    "df_plot = pd.DataFrame(values_to_plot.values,columns=[p])\n",
    "df_plot['country_code'] = values_to_plot.index\n",
    "\n",
    "fig = px.choropleth(df_plot, locations=\"country_code\",\n",
    "                    locationmode='ISO-3',\n",
    "                    color= p,\n",
    "                    hover_name=\"country_code\",\n",
    "                    color_continuous_scale=px.colors.sequential.Plasma,\n",
    "                    range_color=(0.5*avg,1.5*avg))\n",
    "\n",
    "fig.update_layout(\n",
    "        width=800,\n",
    "        height=600,\n",
    "        coloraxis=dict(\n",
    "            colorbar_nticks=6,\n",
    "            colorbar_orientation='h',\n",
    "            #colorbar_borderwidth = 2,\n",
    "            colorbar_len=1,\n",
    "            colorbar_y=+0.06,\n",
    "            #colorbar_ticksuffix=' days',\n",
    "            colorbar_title_font_size=1,\n",
    "            colorbar=dict(\n",
    "                #title_side='bottom',\n",
    "                tickangle=0,\n",
    "                tickfont=dict(size=30, color='black'))\n",
    "            )\n",
    ")\n",
    "\n",
    "layout = go.Layout(\n",
    "  margin=go.layout.Margin(\n",
    "        l=0, #left margin\n",
    "        r=0, #right margin\n",
    "        b=0, #bottom margin\n",
    "        t=0  #top margin\n",
    "    )\n",
    ")\n",
    "\n",
    "\n",
    "fig.show()\n",
    "\n",
    "fig.write_image(\"../Results/geolocation_quarterly_frequency.pdf\")\n",
    "\n",
    "fig.write_html(\"../Results/InteractiveFigures/geolocation_quarterly_frequency.html\",full_html=False, include_plotlyjs='cdn')\n",
    "\n",
    "print('Avg: {}'.format(avg))\n",
    "\n"
   ]
  },
  {
   "cell_type": "markdown",
   "id": "4b9c88eb",
   "metadata": {},
   "source": [
    "### Release Delay"
   ]
  },
  {
   "cell_type": "code",
   "execution_count": 176,
   "id": "3319350c",
   "metadata": {},
   "outputs": [
    {
     "data": {
      "application/vnd.plotly.v1+json": {
       "config": {
        "plotlyServerURL": "https://plot.ly"
       },
       "data": [
        {
         "coloraxis": "coloraxis",
         "geo": "geo",
         "hovertemplate": "<b>%{hovertext}</b><br><br>country_code=%{location}<br>avg_release_delay=%{z}<extra></extra>",
         "hovertext": [
          "BEL",
          "KOR",
          "NOR",
          "SWE",
          "CYP",
          "VNM",
          "CHE",
          "PHL",
          "UZB",
          "KAZ",
          "KHM",
          "RUS",
          "PRI",
          "UKR",
          "DEU",
          "MYS",
          "TWN",
          "NLD",
          "THA",
          "HUN",
          "HRV",
          "TTO",
          "GRC",
          "ROU",
          "BGR",
          "AUT",
          "GBR",
          "IRN",
          "CZE",
          "MKD",
          "ITA",
          "ESP",
          "IND",
          "BIH",
          "CAN",
          "POL",
          "SRB",
          "ALB",
          "SVN",
          "SVK",
          "LUX",
          "IRL",
          "BRA",
          "PRT",
          "NGA",
          "ARE",
          "IDN",
          "URY",
          "PAN",
          "BGD",
          "COL",
          "ISR",
          "SAU",
          "FRA",
          "TUR",
          "NPL",
          "LKA",
          "DZA",
          "PER",
          "EGY",
          "AUS",
          "DOM",
          "AFG",
          "KEN",
          "MEX",
          "LBY",
          "TUN",
          "IRQ",
          "BOL",
          "PAK",
          "USA",
          "MAR",
          "HKG",
          "ARG",
          "ZAF",
          "NZL",
          "PRY",
          "SGP",
          "PNG",
          "FJI",
          "GTM",
          "CRI",
          "CHL",
          "CHN",
          "ECU",
          "JAM",
          "SLV",
          "HND",
          "MUS",
          "ZMB"
         ],
         "locationmode": "ISO-3",
         "locations": [
          "BEL",
          "KOR",
          "NOR",
          "SWE",
          "CYP",
          "VNM",
          "CHE",
          "PHL",
          "UZB",
          "KAZ",
          "KHM",
          "RUS",
          "PRI",
          "UKR",
          "DEU",
          "MYS",
          "TWN",
          "NLD",
          "THA",
          "HUN",
          "HRV",
          "TTO",
          "GRC",
          "ROU",
          "BGR",
          "AUT",
          "GBR",
          "IRN",
          "CZE",
          "MKD",
          "ITA",
          "ESP",
          "IND",
          "BIH",
          "CAN",
          "POL",
          "SRB",
          "ALB",
          "SVN",
          "SVK",
          "LUX",
          "IRL",
          "BRA",
          "PRT",
          "NGA",
          "ARE",
          "IDN",
          "URY",
          "PAN",
          "BGD",
          "COL",
          "ISR",
          "SAU",
          "FRA",
          "TUR",
          "NPL",
          "LKA",
          "DZA",
          "PER",
          "EGY",
          "AUS",
          "DOM",
          "AFG",
          "KEN",
          "MEX",
          "LBY",
          "TUN",
          "IRQ",
          "BOL",
          "PAK",
          "USA",
          "MAR",
          "HKG",
          "ARG",
          "ZAF",
          "NZL",
          "PRY",
          "SGP",
          "PNG",
          "FJI",
          "GTM",
          "CRI",
          "CHL",
          "CHN",
          "ECU",
          "JAM",
          "SLV",
          "HND",
          "MUS",
          "ZMB"
         ],
         "name": "",
         "type": "choropleth",
         "z": [
          27.444444444444443,
          28.585714285714285,
          29.571428571428573,
          30.571428571428573,
          35.40909090909091,
          35.64705882352941,
          35.68518518518518,
          36.03333333333333,
          36.44444444444444,
          36.61702127659574,
          36.733333333333334,
          36.93333333333333,
          37.142857142857146,
          37.275862068965516,
          37.294736842105266,
          37.3,
          37.333333333333336,
          37.34020618556701,
          37.8125,
          37.865979381443296,
          38,
          38.224137931034484,
          38.535353535353536,
          39.207207207207205,
          39.51063829787234,
          39.517857142857146,
          39.63194444444444,
          39.72,
          39.734375,
          39.84,
          39.948905109489054,
          40.16541353383459,
          40.6,
          40.77142857142857,
          41.06976744186046,
          41.17142857142857,
          41.175,
          41.285714285714285,
          41.421052631578945,
          42.046728971962615,
          42.212765957446805,
          42.573170731707314,
          42.64171122994652,
          43,
          43.208333333333336,
          43.234375,
          43.483333333333334,
          43.51875,
          43.63768115942029,
          43.9,
          44.187134502923975,
          44.61904761904762,
          44.747747747747745,
          44.80152671755725,
          45,
          45.13513513513514,
          45.1578947368421,
          45.25,
          45.28448275862069,
          45.357142857142854,
          45.395348837209305,
          45.45918367346939,
          45.56521739130435,
          45.729166666666664,
          45.886138613861384,
          46.1063829787234,
          46.244897959183675,
          46.35,
          46.701149425287355,
          46.85454545454545,
          47.16279069767442,
          47.292307692307695,
          47.525,
          47.787234042553195,
          48.15107913669065,
          48.45454545454545,
          48.536842105263155,
          48.74050632911393,
          49.07692307692308,
          49.148148148148145,
          49.25252525252525,
          50.36666666666667,
          51.27755102040816,
          52.86666666666667,
          58.416666666666664,
          58.943396226415096,
          61.13333333333333,
          61.96666666666667,
          67,
          67
         ]
        }
       ],
       "layout": {
        "coloraxis": {
         "cmax": 64.83203125,
         "cmin": 21.610677083333336,
         "colorbar": {
          "len": 1,
          "nticks": 6,
          "orientation": "h",
          "tickangle": 0,
          "tickfont": {
           "color": "black",
           "size": 30
          },
          "title": {
           "font": {
            "size": 1
           },
           "text": "avg_release_delay"
          },
          "y": 0.06
         },
         "colorscale": [
          [
           0,
           "#0d0887"
          ],
          [
           0.1111111111111111,
           "#46039f"
          ],
          [
           0.2222222222222222,
           "#7201a8"
          ],
          [
           0.3333333333333333,
           "#9c179e"
          ],
          [
           0.4444444444444444,
           "#bd3786"
          ],
          [
           0.5555555555555556,
           "#d8576b"
          ],
          [
           0.6666666666666666,
           "#ed7953"
          ],
          [
           0.7777777777777778,
           "#fb9f3a"
          ],
          [
           0.8888888888888888,
           "#fdca26"
          ],
          [
           1,
           "#f0f921"
          ]
         ]
        },
        "geo": {
         "center": {},
         "domain": {
          "x": [
           0,
           1
          ],
          "y": [
           0,
           1
          ]
         }
        },
        "height": 600,
        "legend": {
         "tracegroupgap": 0
        },
        "margin": {
         "t": 60
        },
        "template": {
         "data": {
          "bar": [
           {
            "error_x": {
             "color": "#2a3f5f"
            },
            "error_y": {
             "color": "#2a3f5f"
            },
            "marker": {
             "line": {
              "color": "#E5ECF6",
              "width": 0.5
             },
             "pattern": {
              "fillmode": "overlay",
              "size": 10,
              "solidity": 0.2
             }
            },
            "type": "bar"
           }
          ],
          "barpolar": [
           {
            "marker": {
             "line": {
              "color": "#E5ECF6",
              "width": 0.5
             },
             "pattern": {
              "fillmode": "overlay",
              "size": 10,
              "solidity": 0.2
             }
            },
            "type": "barpolar"
           }
          ],
          "carpet": [
           {
            "aaxis": {
             "endlinecolor": "#2a3f5f",
             "gridcolor": "white",
             "linecolor": "white",
             "minorgridcolor": "white",
             "startlinecolor": "#2a3f5f"
            },
            "baxis": {
             "endlinecolor": "#2a3f5f",
             "gridcolor": "white",
             "linecolor": "white",
             "minorgridcolor": "white",
             "startlinecolor": "#2a3f5f"
            },
            "type": "carpet"
           }
          ],
          "choropleth": [
           {
            "colorbar": {
             "outlinewidth": 0,
             "ticks": ""
            },
            "type": "choropleth"
           }
          ],
          "contour": [
           {
            "colorbar": {
             "outlinewidth": 0,
             "ticks": ""
            },
            "colorscale": [
             [
              0,
              "#0d0887"
             ],
             [
              0.1111111111111111,
              "#46039f"
             ],
             [
              0.2222222222222222,
              "#7201a8"
             ],
             [
              0.3333333333333333,
              "#9c179e"
             ],
             [
              0.4444444444444444,
              "#bd3786"
             ],
             [
              0.5555555555555556,
              "#d8576b"
             ],
             [
              0.6666666666666666,
              "#ed7953"
             ],
             [
              0.7777777777777778,
              "#fb9f3a"
             ],
             [
              0.8888888888888888,
              "#fdca26"
             ],
             [
              1,
              "#f0f921"
             ]
            ],
            "type": "contour"
           }
          ],
          "contourcarpet": [
           {
            "colorbar": {
             "outlinewidth": 0,
             "ticks": ""
            },
            "type": "contourcarpet"
           }
          ],
          "heatmap": [
           {
            "colorbar": {
             "outlinewidth": 0,
             "ticks": ""
            },
            "colorscale": [
             [
              0,
              "#0d0887"
             ],
             [
              0.1111111111111111,
              "#46039f"
             ],
             [
              0.2222222222222222,
              "#7201a8"
             ],
             [
              0.3333333333333333,
              "#9c179e"
             ],
             [
              0.4444444444444444,
              "#bd3786"
             ],
             [
              0.5555555555555556,
              "#d8576b"
             ],
             [
              0.6666666666666666,
              "#ed7953"
             ],
             [
              0.7777777777777778,
              "#fb9f3a"
             ],
             [
              0.8888888888888888,
              "#fdca26"
             ],
             [
              1,
              "#f0f921"
             ]
            ],
            "type": "heatmap"
           }
          ],
          "heatmapgl": [
           {
            "colorbar": {
             "outlinewidth": 0,
             "ticks": ""
            },
            "colorscale": [
             [
              0,
              "#0d0887"
             ],
             [
              0.1111111111111111,
              "#46039f"
             ],
             [
              0.2222222222222222,
              "#7201a8"
             ],
             [
              0.3333333333333333,
              "#9c179e"
             ],
             [
              0.4444444444444444,
              "#bd3786"
             ],
             [
              0.5555555555555556,
              "#d8576b"
             ],
             [
              0.6666666666666666,
              "#ed7953"
             ],
             [
              0.7777777777777778,
              "#fb9f3a"
             ],
             [
              0.8888888888888888,
              "#fdca26"
             ],
             [
              1,
              "#f0f921"
             ]
            ],
            "type": "heatmapgl"
           }
          ],
          "histogram": [
           {
            "marker": {
             "pattern": {
              "fillmode": "overlay",
              "size": 10,
              "solidity": 0.2
             }
            },
            "type": "histogram"
           }
          ],
          "histogram2d": [
           {
            "colorbar": {
             "outlinewidth": 0,
             "ticks": ""
            },
            "colorscale": [
             [
              0,
              "#0d0887"
             ],
             [
              0.1111111111111111,
              "#46039f"
             ],
             [
              0.2222222222222222,
              "#7201a8"
             ],
             [
              0.3333333333333333,
              "#9c179e"
             ],
             [
              0.4444444444444444,
              "#bd3786"
             ],
             [
              0.5555555555555556,
              "#d8576b"
             ],
             [
              0.6666666666666666,
              "#ed7953"
             ],
             [
              0.7777777777777778,
              "#fb9f3a"
             ],
             [
              0.8888888888888888,
              "#fdca26"
             ],
             [
              1,
              "#f0f921"
             ]
            ],
            "type": "histogram2d"
           }
          ],
          "histogram2dcontour": [
           {
            "colorbar": {
             "outlinewidth": 0,
             "ticks": ""
            },
            "colorscale": [
             [
              0,
              "#0d0887"
             ],
             [
              0.1111111111111111,
              "#46039f"
             ],
             [
              0.2222222222222222,
              "#7201a8"
             ],
             [
              0.3333333333333333,
              "#9c179e"
             ],
             [
              0.4444444444444444,
              "#bd3786"
             ],
             [
              0.5555555555555556,
              "#d8576b"
             ],
             [
              0.6666666666666666,
              "#ed7953"
             ],
             [
              0.7777777777777778,
              "#fb9f3a"
             ],
             [
              0.8888888888888888,
              "#fdca26"
             ],
             [
              1,
              "#f0f921"
             ]
            ],
            "type": "histogram2dcontour"
           }
          ],
          "mesh3d": [
           {
            "colorbar": {
             "outlinewidth": 0,
             "ticks": ""
            },
            "type": "mesh3d"
           }
          ],
          "parcoords": [
           {
            "line": {
             "colorbar": {
              "outlinewidth": 0,
              "ticks": ""
             }
            },
            "type": "parcoords"
           }
          ],
          "pie": [
           {
            "automargin": true,
            "type": "pie"
           }
          ],
          "scatter": [
           {
            "fillpattern": {
             "fillmode": "overlay",
             "size": 10,
             "solidity": 0.2
            },
            "type": "scatter"
           }
          ],
          "scatter3d": [
           {
            "line": {
             "colorbar": {
              "outlinewidth": 0,
              "ticks": ""
             }
            },
            "marker": {
             "colorbar": {
              "outlinewidth": 0,
              "ticks": ""
             }
            },
            "type": "scatter3d"
           }
          ],
          "scattercarpet": [
           {
            "marker": {
             "colorbar": {
              "outlinewidth": 0,
              "ticks": ""
             }
            },
            "type": "scattercarpet"
           }
          ],
          "scattergeo": [
           {
            "marker": {
             "colorbar": {
              "outlinewidth": 0,
              "ticks": ""
             }
            },
            "type": "scattergeo"
           }
          ],
          "scattergl": [
           {
            "marker": {
             "colorbar": {
              "outlinewidth": 0,
              "ticks": ""
             }
            },
            "type": "scattergl"
           }
          ],
          "scattermapbox": [
           {
            "marker": {
             "colorbar": {
              "outlinewidth": 0,
              "ticks": ""
             }
            },
            "type": "scattermapbox"
           }
          ],
          "scatterpolar": [
           {
            "marker": {
             "colorbar": {
              "outlinewidth": 0,
              "ticks": ""
             }
            },
            "type": "scatterpolar"
           }
          ],
          "scatterpolargl": [
           {
            "marker": {
             "colorbar": {
              "outlinewidth": 0,
              "ticks": ""
             }
            },
            "type": "scatterpolargl"
           }
          ],
          "scatterternary": [
           {
            "marker": {
             "colorbar": {
              "outlinewidth": 0,
              "ticks": ""
             }
            },
            "type": "scatterternary"
           }
          ],
          "surface": [
           {
            "colorbar": {
             "outlinewidth": 0,
             "ticks": ""
            },
            "colorscale": [
             [
              0,
              "#0d0887"
             ],
             [
              0.1111111111111111,
              "#46039f"
             ],
             [
              0.2222222222222222,
              "#7201a8"
             ],
             [
              0.3333333333333333,
              "#9c179e"
             ],
             [
              0.4444444444444444,
              "#bd3786"
             ],
             [
              0.5555555555555556,
              "#d8576b"
             ],
             [
              0.6666666666666666,
              "#ed7953"
             ],
             [
              0.7777777777777778,
              "#fb9f3a"
             ],
             [
              0.8888888888888888,
              "#fdca26"
             ],
             [
              1,
              "#f0f921"
             ]
            ],
            "type": "surface"
           }
          ],
          "table": [
           {
            "cells": {
             "fill": {
              "color": "#EBF0F8"
             },
             "line": {
              "color": "white"
             }
            },
            "header": {
             "fill": {
              "color": "#C8D4E3"
             },
             "line": {
              "color": "white"
             }
            },
            "type": "table"
           }
          ]
         },
         "layout": {
          "annotationdefaults": {
           "arrowcolor": "#2a3f5f",
           "arrowhead": 0,
           "arrowwidth": 1
          },
          "autotypenumbers": "strict",
          "coloraxis": {
           "colorbar": {
            "outlinewidth": 0,
            "ticks": ""
           }
          },
          "colorscale": {
           "diverging": [
            [
             0,
             "#8e0152"
            ],
            [
             0.1,
             "#c51b7d"
            ],
            [
             0.2,
             "#de77ae"
            ],
            [
             0.3,
             "#f1b6da"
            ],
            [
             0.4,
             "#fde0ef"
            ],
            [
             0.5,
             "#f7f7f7"
            ],
            [
             0.6,
             "#e6f5d0"
            ],
            [
             0.7,
             "#b8e186"
            ],
            [
             0.8,
             "#7fbc41"
            ],
            [
             0.9,
             "#4d9221"
            ],
            [
             1,
             "#276419"
            ]
           ],
           "sequential": [
            [
             0,
             "#0d0887"
            ],
            [
             0.1111111111111111,
             "#46039f"
            ],
            [
             0.2222222222222222,
             "#7201a8"
            ],
            [
             0.3333333333333333,
             "#9c179e"
            ],
            [
             0.4444444444444444,
             "#bd3786"
            ],
            [
             0.5555555555555556,
             "#d8576b"
            ],
            [
             0.6666666666666666,
             "#ed7953"
            ],
            [
             0.7777777777777778,
             "#fb9f3a"
            ],
            [
             0.8888888888888888,
             "#fdca26"
            ],
            [
             1,
             "#f0f921"
            ]
           ],
           "sequentialminus": [
            [
             0,
             "#0d0887"
            ],
            [
             0.1111111111111111,
             "#46039f"
            ],
            [
             0.2222222222222222,
             "#7201a8"
            ],
            [
             0.3333333333333333,
             "#9c179e"
            ],
            [
             0.4444444444444444,
             "#bd3786"
            ],
            [
             0.5555555555555556,
             "#d8576b"
            ],
            [
             0.6666666666666666,
             "#ed7953"
            ],
            [
             0.7777777777777778,
             "#fb9f3a"
            ],
            [
             0.8888888888888888,
             "#fdca26"
            ],
            [
             1,
             "#f0f921"
            ]
           ]
          },
          "colorway": [
           "#636efa",
           "#EF553B",
           "#00cc96",
           "#ab63fa",
           "#FFA15A",
           "#19d3f3",
           "#FF6692",
           "#B6E880",
           "#FF97FF",
           "#FECB52"
          ],
          "font": {
           "color": "#2a3f5f"
          },
          "geo": {
           "bgcolor": "white",
           "lakecolor": "white",
           "landcolor": "#E5ECF6",
           "showlakes": true,
           "showland": true,
           "subunitcolor": "white"
          },
          "hoverlabel": {
           "align": "left"
          },
          "hovermode": "closest",
          "mapbox": {
           "style": "light"
          },
          "paper_bgcolor": "white",
          "plot_bgcolor": "#E5ECF6",
          "polar": {
           "angularaxis": {
            "gridcolor": "white",
            "linecolor": "white",
            "ticks": ""
           },
           "bgcolor": "#E5ECF6",
           "radialaxis": {
            "gridcolor": "white",
            "linecolor": "white",
            "ticks": ""
           }
          },
          "scene": {
           "xaxis": {
            "backgroundcolor": "#E5ECF6",
            "gridcolor": "white",
            "gridwidth": 2,
            "linecolor": "white",
            "showbackground": true,
            "ticks": "",
            "zerolinecolor": "white"
           },
           "yaxis": {
            "backgroundcolor": "#E5ECF6",
            "gridcolor": "white",
            "gridwidth": 2,
            "linecolor": "white",
            "showbackground": true,
            "ticks": "",
            "zerolinecolor": "white"
           },
           "zaxis": {
            "backgroundcolor": "#E5ECF6",
            "gridcolor": "white",
            "gridwidth": 2,
            "linecolor": "white",
            "showbackground": true,
            "ticks": "",
            "zerolinecolor": "white"
           }
          },
          "shapedefaults": {
           "line": {
            "color": "#2a3f5f"
           }
          },
          "ternary": {
           "aaxis": {
            "gridcolor": "white",
            "linecolor": "white",
            "ticks": ""
           },
           "baxis": {
            "gridcolor": "white",
            "linecolor": "white",
            "ticks": ""
           },
           "bgcolor": "#E5ECF6",
           "caxis": {
            "gridcolor": "white",
            "linecolor": "white",
            "ticks": ""
           }
          },
          "title": {
           "x": 0.05
          },
          "xaxis": {
           "automargin": true,
           "gridcolor": "white",
           "linecolor": "white",
           "ticks": "",
           "title": {
            "standoff": 15
           },
           "zerolinecolor": "white",
           "zerolinewidth": 2
          },
          "yaxis": {
           "automargin": true,
           "gridcolor": "white",
           "linecolor": "white",
           "ticks": "",
           "title": {
            "standoff": 15
           },
           "zerolinecolor": "white",
           "zerolinewidth": 2
          }
         }
        },
        "width": 800
       }
      },
      "text/html": [
       "<div>                            <div id=\"94ec4b2d-153b-4c31-bd06-afa5c5f1e03d\" class=\"plotly-graph-div\" style=\"height:600px; width:800px;\"></div>            <script type=\"text/javascript\">                require([\"plotly\"], function(Plotly) {                    window.PLOTLYENV=window.PLOTLYENV || {};                                    if (document.getElementById(\"94ec4b2d-153b-4c31-bd06-afa5c5f1e03d\")) {                    Plotly.newPlot(                        \"94ec4b2d-153b-4c31-bd06-afa5c5f1e03d\",                        [{\"coloraxis\":\"coloraxis\",\"geo\":\"geo\",\"hovertemplate\":\"<b>%{hovertext}</b><br><br>country_code=%{location}<br>avg_release_delay=%{z}<extra></extra>\",\"hovertext\":[\"BEL\",\"KOR\",\"NOR\",\"SWE\",\"CYP\",\"VNM\",\"CHE\",\"PHL\",\"UZB\",\"KAZ\",\"KHM\",\"RUS\",\"PRI\",\"UKR\",\"DEU\",\"MYS\",\"TWN\",\"NLD\",\"THA\",\"HUN\",\"HRV\",\"TTO\",\"GRC\",\"ROU\",\"BGR\",\"AUT\",\"GBR\",\"IRN\",\"CZE\",\"MKD\",\"ITA\",\"ESP\",\"IND\",\"BIH\",\"CAN\",\"POL\",\"SRB\",\"ALB\",\"SVN\",\"SVK\",\"LUX\",\"IRL\",\"BRA\",\"PRT\",\"NGA\",\"ARE\",\"IDN\",\"URY\",\"PAN\",\"BGD\",\"COL\",\"ISR\",\"SAU\",\"FRA\",\"TUR\",\"NPL\",\"LKA\",\"DZA\",\"PER\",\"EGY\",\"AUS\",\"DOM\",\"AFG\",\"KEN\",\"MEX\",\"LBY\",\"TUN\",\"IRQ\",\"BOL\",\"PAK\",\"USA\",\"MAR\",\"HKG\",\"ARG\",\"ZAF\",\"NZL\",\"PRY\",\"SGP\",\"PNG\",\"FJI\",\"GTM\",\"CRI\",\"CHL\",\"CHN\",\"ECU\",\"JAM\",\"SLV\",\"HND\",\"MUS\",\"ZMB\"],\"locationmode\":\"ISO-3\",\"locations\":[\"BEL\",\"KOR\",\"NOR\",\"SWE\",\"CYP\",\"VNM\",\"CHE\",\"PHL\",\"UZB\",\"KAZ\",\"KHM\",\"RUS\",\"PRI\",\"UKR\",\"DEU\",\"MYS\",\"TWN\",\"NLD\",\"THA\",\"HUN\",\"HRV\",\"TTO\",\"GRC\",\"ROU\",\"BGR\",\"AUT\",\"GBR\",\"IRN\",\"CZE\",\"MKD\",\"ITA\",\"ESP\",\"IND\",\"BIH\",\"CAN\",\"POL\",\"SRB\",\"ALB\",\"SVN\",\"SVK\",\"LUX\",\"IRL\",\"BRA\",\"PRT\",\"NGA\",\"ARE\",\"IDN\",\"URY\",\"PAN\",\"BGD\",\"COL\",\"ISR\",\"SAU\",\"FRA\",\"TUR\",\"NPL\",\"LKA\",\"DZA\",\"PER\",\"EGY\",\"AUS\",\"DOM\",\"AFG\",\"KEN\",\"MEX\",\"LBY\",\"TUN\",\"IRQ\",\"BOL\",\"PAK\",\"USA\",\"MAR\",\"HKG\",\"ARG\",\"ZAF\",\"NZL\",\"PRY\",\"SGP\",\"PNG\",\"FJI\",\"GTM\",\"CRI\",\"CHL\",\"CHN\",\"ECU\",\"JAM\",\"SLV\",\"HND\",\"MUS\",\"ZMB\"],\"name\":\"\",\"z\":[27.444444444444443,28.585714285714285,29.571428571428573,30.571428571428573,35.40909090909091,35.64705882352941,35.68518518518518,36.03333333333333,36.44444444444444,36.61702127659574,36.733333333333334,36.93333333333333,37.142857142857146,37.275862068965516,37.294736842105266,37.3,37.333333333333336,37.34020618556701,37.8125,37.865979381443296,38.0,38.224137931034484,38.535353535353536,39.207207207207205,39.51063829787234,39.517857142857146,39.63194444444444,39.72,39.734375,39.84,39.948905109489054,40.16541353383459,40.6,40.77142857142857,41.06976744186046,41.17142857142857,41.175,41.285714285714285,41.421052631578945,42.046728971962615,42.212765957446805,42.573170731707314,42.64171122994652,43.0,43.208333333333336,43.234375,43.483333333333334,43.51875,43.63768115942029,43.9,44.187134502923975,44.61904761904762,44.747747747747745,44.80152671755725,45.0,45.13513513513514,45.1578947368421,45.25,45.28448275862069,45.357142857142854,45.395348837209305,45.45918367346939,45.56521739130435,45.729166666666664,45.886138613861384,46.1063829787234,46.244897959183675,46.35,46.701149425287355,46.85454545454545,47.16279069767442,47.292307692307695,47.525,47.787234042553195,48.15107913669065,48.45454545454545,48.536842105263155,48.74050632911393,49.07692307692308,49.148148148148145,49.25252525252525,50.36666666666667,51.27755102040816,52.86666666666667,58.416666666666664,58.943396226415096,61.13333333333333,61.96666666666667,67.0,67.0],\"type\":\"choropleth\"}],                        {\"template\":{\"data\":{\"histogram2dcontour\":[{\"type\":\"histogram2dcontour\",\"colorbar\":{\"outlinewidth\":0,\"ticks\":\"\"},\"colorscale\":[[0.0,\"#0d0887\"],[0.1111111111111111,\"#46039f\"],[0.2222222222222222,\"#7201a8\"],[0.3333333333333333,\"#9c179e\"],[0.4444444444444444,\"#bd3786\"],[0.5555555555555556,\"#d8576b\"],[0.6666666666666666,\"#ed7953\"],[0.7777777777777778,\"#fb9f3a\"],[0.8888888888888888,\"#fdca26\"],[1.0,\"#f0f921\"]]}],\"choropleth\":[{\"type\":\"choropleth\",\"colorbar\":{\"outlinewidth\":0,\"ticks\":\"\"}}],\"histogram2d\":[{\"type\":\"histogram2d\",\"colorbar\":{\"outlinewidth\":0,\"ticks\":\"\"},\"colorscale\":[[0.0,\"#0d0887\"],[0.1111111111111111,\"#46039f\"],[0.2222222222222222,\"#7201a8\"],[0.3333333333333333,\"#9c179e\"],[0.4444444444444444,\"#bd3786\"],[0.5555555555555556,\"#d8576b\"],[0.6666666666666666,\"#ed7953\"],[0.7777777777777778,\"#fb9f3a\"],[0.8888888888888888,\"#fdca26\"],[1.0,\"#f0f921\"]]}],\"heatmap\":[{\"type\":\"heatmap\",\"colorbar\":{\"outlinewidth\":0,\"ticks\":\"\"},\"colorscale\":[[0.0,\"#0d0887\"],[0.1111111111111111,\"#46039f\"],[0.2222222222222222,\"#7201a8\"],[0.3333333333333333,\"#9c179e\"],[0.4444444444444444,\"#bd3786\"],[0.5555555555555556,\"#d8576b\"],[0.6666666666666666,\"#ed7953\"],[0.7777777777777778,\"#fb9f3a\"],[0.8888888888888888,\"#fdca26\"],[1.0,\"#f0f921\"]]}],\"heatmapgl\":[{\"type\":\"heatmapgl\",\"colorbar\":{\"outlinewidth\":0,\"ticks\":\"\"},\"colorscale\":[[0.0,\"#0d0887\"],[0.1111111111111111,\"#46039f\"],[0.2222222222222222,\"#7201a8\"],[0.3333333333333333,\"#9c179e\"],[0.4444444444444444,\"#bd3786\"],[0.5555555555555556,\"#d8576b\"],[0.6666666666666666,\"#ed7953\"],[0.7777777777777778,\"#fb9f3a\"],[0.8888888888888888,\"#fdca26\"],[1.0,\"#f0f921\"]]}],\"contourcarpet\":[{\"type\":\"contourcarpet\",\"colorbar\":{\"outlinewidth\":0,\"ticks\":\"\"}}],\"contour\":[{\"type\":\"contour\",\"colorbar\":{\"outlinewidth\":0,\"ticks\":\"\"},\"colorscale\":[[0.0,\"#0d0887\"],[0.1111111111111111,\"#46039f\"],[0.2222222222222222,\"#7201a8\"],[0.3333333333333333,\"#9c179e\"],[0.4444444444444444,\"#bd3786\"],[0.5555555555555556,\"#d8576b\"],[0.6666666666666666,\"#ed7953\"],[0.7777777777777778,\"#fb9f3a\"],[0.8888888888888888,\"#fdca26\"],[1.0,\"#f0f921\"]]}],\"surface\":[{\"type\":\"surface\",\"colorbar\":{\"outlinewidth\":0,\"ticks\":\"\"},\"colorscale\":[[0.0,\"#0d0887\"],[0.1111111111111111,\"#46039f\"],[0.2222222222222222,\"#7201a8\"],[0.3333333333333333,\"#9c179e\"],[0.4444444444444444,\"#bd3786\"],[0.5555555555555556,\"#d8576b\"],[0.6666666666666666,\"#ed7953\"],[0.7777777777777778,\"#fb9f3a\"],[0.8888888888888888,\"#fdca26\"],[1.0,\"#f0f921\"]]}],\"mesh3d\":[{\"type\":\"mesh3d\",\"colorbar\":{\"outlinewidth\":0,\"ticks\":\"\"}}],\"scatter\":[{\"fillpattern\":{\"fillmode\":\"overlay\",\"size\":10,\"solidity\":0.2},\"type\":\"scatter\"}],\"parcoords\":[{\"type\":\"parcoords\",\"line\":{\"colorbar\":{\"outlinewidth\":0,\"ticks\":\"\"}}}],\"scatterpolargl\":[{\"type\":\"scatterpolargl\",\"marker\":{\"colorbar\":{\"outlinewidth\":0,\"ticks\":\"\"}}}],\"bar\":[{\"error_x\":{\"color\":\"#2a3f5f\"},\"error_y\":{\"color\":\"#2a3f5f\"},\"marker\":{\"line\":{\"color\":\"#E5ECF6\",\"width\":0.5},\"pattern\":{\"fillmode\":\"overlay\",\"size\":10,\"solidity\":0.2}},\"type\":\"bar\"}],\"scattergeo\":[{\"type\":\"scattergeo\",\"marker\":{\"colorbar\":{\"outlinewidth\":0,\"ticks\":\"\"}}}],\"scatterpolar\":[{\"type\":\"scatterpolar\",\"marker\":{\"colorbar\":{\"outlinewidth\":0,\"ticks\":\"\"}}}],\"histogram\":[{\"marker\":{\"pattern\":{\"fillmode\":\"overlay\",\"size\":10,\"solidity\":0.2}},\"type\":\"histogram\"}],\"scattergl\":[{\"type\":\"scattergl\",\"marker\":{\"colorbar\":{\"outlinewidth\":0,\"ticks\":\"\"}}}],\"scatter3d\":[{\"type\":\"scatter3d\",\"line\":{\"colorbar\":{\"outlinewidth\":0,\"ticks\":\"\"}},\"marker\":{\"colorbar\":{\"outlinewidth\":0,\"ticks\":\"\"}}}],\"scattermapbox\":[{\"type\":\"scattermapbox\",\"marker\":{\"colorbar\":{\"outlinewidth\":0,\"ticks\":\"\"}}}],\"scatterternary\":[{\"type\":\"scatterternary\",\"marker\":{\"colorbar\":{\"outlinewidth\":0,\"ticks\":\"\"}}}],\"scattercarpet\":[{\"type\":\"scattercarpet\",\"marker\":{\"colorbar\":{\"outlinewidth\":0,\"ticks\":\"\"}}}],\"carpet\":[{\"aaxis\":{\"endlinecolor\":\"#2a3f5f\",\"gridcolor\":\"white\",\"linecolor\":\"white\",\"minorgridcolor\":\"white\",\"startlinecolor\":\"#2a3f5f\"},\"baxis\":{\"endlinecolor\":\"#2a3f5f\",\"gridcolor\":\"white\",\"linecolor\":\"white\",\"minorgridcolor\":\"white\",\"startlinecolor\":\"#2a3f5f\"},\"type\":\"carpet\"}],\"table\":[{\"cells\":{\"fill\":{\"color\":\"#EBF0F8\"},\"line\":{\"color\":\"white\"}},\"header\":{\"fill\":{\"color\":\"#C8D4E3\"},\"line\":{\"color\":\"white\"}},\"type\":\"table\"}],\"barpolar\":[{\"marker\":{\"line\":{\"color\":\"#E5ECF6\",\"width\":0.5},\"pattern\":{\"fillmode\":\"overlay\",\"size\":10,\"solidity\":0.2}},\"type\":\"barpolar\"}],\"pie\":[{\"automargin\":true,\"type\":\"pie\"}]},\"layout\":{\"autotypenumbers\":\"strict\",\"colorway\":[\"#636efa\",\"#EF553B\",\"#00cc96\",\"#ab63fa\",\"#FFA15A\",\"#19d3f3\",\"#FF6692\",\"#B6E880\",\"#FF97FF\",\"#FECB52\"],\"font\":{\"color\":\"#2a3f5f\"},\"hovermode\":\"closest\",\"hoverlabel\":{\"align\":\"left\"},\"paper_bgcolor\":\"white\",\"plot_bgcolor\":\"#E5ECF6\",\"polar\":{\"bgcolor\":\"#E5ECF6\",\"angularaxis\":{\"gridcolor\":\"white\",\"linecolor\":\"white\",\"ticks\":\"\"},\"radialaxis\":{\"gridcolor\":\"white\",\"linecolor\":\"white\",\"ticks\":\"\"}},\"ternary\":{\"bgcolor\":\"#E5ECF6\",\"aaxis\":{\"gridcolor\":\"white\",\"linecolor\":\"white\",\"ticks\":\"\"},\"baxis\":{\"gridcolor\":\"white\",\"linecolor\":\"white\",\"ticks\":\"\"},\"caxis\":{\"gridcolor\":\"white\",\"linecolor\":\"white\",\"ticks\":\"\"}},\"coloraxis\":{\"colorbar\":{\"outlinewidth\":0,\"ticks\":\"\"}},\"colorscale\":{\"sequential\":[[0.0,\"#0d0887\"],[0.1111111111111111,\"#46039f\"],[0.2222222222222222,\"#7201a8\"],[0.3333333333333333,\"#9c179e\"],[0.4444444444444444,\"#bd3786\"],[0.5555555555555556,\"#d8576b\"],[0.6666666666666666,\"#ed7953\"],[0.7777777777777778,\"#fb9f3a\"],[0.8888888888888888,\"#fdca26\"],[1.0,\"#f0f921\"]],\"sequentialminus\":[[0.0,\"#0d0887\"],[0.1111111111111111,\"#46039f\"],[0.2222222222222222,\"#7201a8\"],[0.3333333333333333,\"#9c179e\"],[0.4444444444444444,\"#bd3786\"],[0.5555555555555556,\"#d8576b\"],[0.6666666666666666,\"#ed7953\"],[0.7777777777777778,\"#fb9f3a\"],[0.8888888888888888,\"#fdca26\"],[1.0,\"#f0f921\"]],\"diverging\":[[0,\"#8e0152\"],[0.1,\"#c51b7d\"],[0.2,\"#de77ae\"],[0.3,\"#f1b6da\"],[0.4,\"#fde0ef\"],[0.5,\"#f7f7f7\"],[0.6,\"#e6f5d0\"],[0.7,\"#b8e186\"],[0.8,\"#7fbc41\"],[0.9,\"#4d9221\"],[1,\"#276419\"]]},\"xaxis\":{\"gridcolor\":\"white\",\"linecolor\":\"white\",\"ticks\":\"\",\"title\":{\"standoff\":15},\"zerolinecolor\":\"white\",\"automargin\":true,\"zerolinewidth\":2},\"yaxis\":{\"gridcolor\":\"white\",\"linecolor\":\"white\",\"ticks\":\"\",\"title\":{\"standoff\":15},\"zerolinecolor\":\"white\",\"automargin\":true,\"zerolinewidth\":2},\"scene\":{\"xaxis\":{\"backgroundcolor\":\"#E5ECF6\",\"gridcolor\":\"white\",\"linecolor\":\"white\",\"showbackground\":true,\"ticks\":\"\",\"zerolinecolor\":\"white\",\"gridwidth\":2},\"yaxis\":{\"backgroundcolor\":\"#E5ECF6\",\"gridcolor\":\"white\",\"linecolor\":\"white\",\"showbackground\":true,\"ticks\":\"\",\"zerolinecolor\":\"white\",\"gridwidth\":2},\"zaxis\":{\"backgroundcolor\":\"#E5ECF6\",\"gridcolor\":\"white\",\"linecolor\":\"white\",\"showbackground\":true,\"ticks\":\"\",\"zerolinecolor\":\"white\",\"gridwidth\":2}},\"shapedefaults\":{\"line\":{\"color\":\"#2a3f5f\"}},\"annotationdefaults\":{\"arrowcolor\":\"#2a3f5f\",\"arrowhead\":0,\"arrowwidth\":1},\"geo\":{\"bgcolor\":\"white\",\"landcolor\":\"#E5ECF6\",\"subunitcolor\":\"white\",\"showland\":true,\"showlakes\":true,\"lakecolor\":\"white\"},\"title\":{\"x\":0.05},\"mapbox\":{\"style\":\"light\"}}},\"geo\":{\"domain\":{\"x\":[0.0,1.0],\"y\":[0.0,1.0]},\"center\":{}},\"coloraxis\":{\"colorbar\":{\"title\":{\"text\":\"avg_release_delay\",\"font\":{\"size\":1}},\"tickfont\":{\"size\":30,\"color\":\"black\"},\"nticks\":6,\"orientation\":\"h\",\"len\":1,\"y\":0.06,\"tickangle\":0},\"colorscale\":[[0.0,\"#0d0887\"],[0.1111111111111111,\"#46039f\"],[0.2222222222222222,\"#7201a8\"],[0.3333333333333333,\"#9c179e\"],[0.4444444444444444,\"#bd3786\"],[0.5555555555555556,\"#d8576b\"],[0.6666666666666666,\"#ed7953\"],[0.7777777777777778,\"#fb9f3a\"],[0.8888888888888888,\"#fdca26\"],[1.0,\"#f0f921\"]],\"cmin\":21.610677083333336,\"cmax\":64.83203125},\"legend\":{\"tracegroupgap\":0},\"margin\":{\"t\":60},\"width\":800,\"height\":600},                        {\"responsive\": true}                    ).then(function(){\n",
       "                            \n",
       "var gd = document.getElementById('94ec4b2d-153b-4c31-bd06-afa5c5f1e03d');\n",
       "var x = new MutationObserver(function (mutations, observer) {{\n",
       "        var display = window.getComputedStyle(gd).display;\n",
       "        if (!display || display === 'none') {{\n",
       "            console.log([gd, 'removed!']);\n",
       "            Plotly.purge(gd);\n",
       "            observer.disconnect();\n",
       "        }}\n",
       "}});\n",
       "\n",
       "// Listen for the removal of the full notebook cells\n",
       "var notebookContainer = gd.closest('#notebook-container');\n",
       "if (notebookContainer) {{\n",
       "    x.observe(notebookContainer, {childList: true});\n",
       "}}\n",
       "\n",
       "// Listen for the clearing of the current output cell\n",
       "var outputEl = gd.closest('.output');\n",
       "if (outputEl) {{\n",
       "    x.observe(outputEl, {childList: true});\n",
       "}}\n",
       "\n",
       "                        })                };                });            </script>        </div>"
      ]
     },
     "metadata": {},
     "output_type": "display_data"
    },
    {
     "name": "stdout",
     "output_type": "stream",
     "text": [
      "Avg: 43.22135416666667\n"
     ]
    }
   ],
   "source": [
    "p = 'avg_release_delay'\n",
    "\n",
    "values_to_plot = df_final_samsung_quarterly.groupby(['iso_code'])[p].mean().sort_values(ascending=True)\n",
    "avg = values_to_plot.median()\n",
    "\n",
    "df_plot = pd.DataFrame(values_to_plot.values,columns=[p])\n",
    "df_plot['country_code'] = values_to_plot.index\n",
    "\n",
    "fig = px.choropleth(df_plot, locations=\"country_code\",\n",
    "                    locationmode='ISO-3',\n",
    "                    color= p,\n",
    "                    hover_name=\"country_code\",\n",
    "                    color_continuous_scale=px.colors.sequential.Plasma,\n",
    "                    range_color=(0.5*avg,1.5*avg))\n",
    "\n",
    "fig.update_layout(\n",
    "        width=800,\n",
    "        height=600,\n",
    "        coloraxis=dict(\n",
    "            colorbar_nticks=6,\n",
    "            colorbar_orientation='h',\n",
    "            #colorbar_borderwidth = 2,\n",
    "            colorbar_len=1,\n",
    "            colorbar_y=+0.06,\n",
    "            #colorbar_ticksuffix=' days',\n",
    "            colorbar_title_font_size=1,\n",
    "            colorbar=dict(\n",
    "                #title_side='bottom',\n",
    "                tickangle=0,\n",
    "                tickfont=dict(size=30, color='black'))\n",
    "            )\n",
    ")\n",
    "\n",
    "layout = go.Layout(\n",
    "  margin=go.layout.Margin(\n",
    "        l=0, #left margin\n",
    "        r=0, #right margin\n",
    "        b=0, #bottom margin\n",
    "        t=0  #top margin\n",
    "    )\n",
    ")\n",
    "\n",
    "\n",
    "fig.show()\n",
    "\n",
    "fig.write_image(\"../Results/geolocation_quarterly_delay.pdf\")\n",
    "\n",
    "fig.write_html(\"../Results/InteractiveFigures/geolocation_quarterly_delay.html\",full_html=False, include_plotlyjs='cdn')\n",
    "\n",
    "print('Avg: {}'.format(avg))\n"
   ]
  },
  {
   "cell_type": "markdown",
   "id": "686bb187",
   "metadata": {},
   "source": [
    "## Samsung - Biannual Maps"
   ]
  },
  {
   "cell_type": "markdown",
   "id": "589e91a9",
   "metadata": {},
   "source": [
    "### Update Count"
   ]
  },
  {
   "cell_type": "code",
   "execution_count": 177,
   "id": "fdff4771",
   "metadata": {},
   "outputs": [
    {
     "data": {
      "application/vnd.plotly.v1+json": {
       "config": {
        "plotlyServerURL": "https://plot.ly"
       },
       "data": [
        {
         "coloraxis": "coloraxis",
         "geo": "geo",
         "hovertemplate": "<b>%{hovertext}</b><br><br>country_code=%{location}<br>release_count=%{z}<extra></extra>",
         "hovertext": [
          "SWE",
          "DZA",
          "BEL",
          "ALB",
          "JAM",
          "CAN",
          "CRI",
          "ISR",
          "TTO",
          "TUN",
          "PER",
          "PAK",
          "MEX",
          "URY",
          "ECU",
          "PRY",
          "ARG",
          "COL",
          "BOL",
          "AFG",
          "PNG",
          "TUR",
          "GTM",
          "SVN",
          "ITA",
          "FJI",
          "PAN",
          "DOM",
          "NGA",
          "LBY",
          "ESP",
          "MAR",
          "ZAF",
          "IRN",
          "RUS",
          "CZE",
          "ARE",
          "BRA",
          "CYP",
          "SAU",
          "GBR",
          "CHL",
          "POL",
          "DEU",
          "PRT",
          "EGY",
          "KEN",
          "UZB",
          "AUT",
          "HUN",
          "HRV",
          "UKR",
          "USA",
          "IRL",
          "NZL",
          "MKD",
          "FRA",
          "IRQ",
          "BIH",
          "GRC",
          "PRI",
          "LUX",
          "KAZ",
          "NOR",
          "SVK",
          "NLD",
          "THA",
          "MYS",
          "LKA",
          "ROU",
          "SRB",
          "BGR",
          "PHL",
          "HND",
          "SLV",
          "VNM",
          "KHM",
          "CHE",
          "SGP",
          "IDN",
          "IND",
          "AUS",
          "NPL",
          "BGD",
          "KOR",
          "TWN",
          "CHN",
          "HKG"
         ],
         "locationmode": "ISO-3",
         "locations": [
          "SWE",
          "DZA",
          "BEL",
          "ALB",
          "JAM",
          "CAN",
          "CRI",
          "ISR",
          "TTO",
          "TUN",
          "PER",
          "PAK",
          "MEX",
          "URY",
          "ECU",
          "PRY",
          "ARG",
          "COL",
          "BOL",
          "AFG",
          "PNG",
          "TUR",
          "GTM",
          "SVN",
          "ITA",
          "FJI",
          "PAN",
          "DOM",
          "NGA",
          "LBY",
          "ESP",
          "MAR",
          "ZAF",
          "IRN",
          "RUS",
          "CZE",
          "ARE",
          "BRA",
          "CYP",
          "SAU",
          "GBR",
          "CHL",
          "POL",
          "DEU",
          "PRT",
          "EGY",
          "KEN",
          "UZB",
          "AUT",
          "HUN",
          "HRV",
          "UKR",
          "USA",
          "IRL",
          "NZL",
          "MKD",
          "FRA",
          "IRQ",
          "BIH",
          "GRC",
          "PRI",
          "LUX",
          "KAZ",
          "NOR",
          "SVK",
          "NLD",
          "THA",
          "MYS",
          "LKA",
          "ROU",
          "SRB",
          "BGR",
          "PHL",
          "HND",
          "SLV",
          "VNM",
          "KHM",
          "CHE",
          "SGP",
          "IDN",
          "IND",
          "AUS",
          "NPL",
          "BGD",
          "KOR",
          "TWN",
          "CHN",
          "HKG"
         ],
         "name": "",
         "type": "choropleth",
         "z": [
          1,
          1.4,
          1.6,
          2,
          2.090909090909091,
          2.24,
          2.25,
          2.3636363636363638,
          2.730769230769231,
          3,
          3.032258064516129,
          3.05,
          3.15,
          3.2142857142857144,
          3.230769230769231,
          3.2666666666666666,
          3.280701754385965,
          3.2962962962962963,
          3.3225806451612905,
          3.3333333333333335,
          3.3333333333333335,
          3.3461538461538463,
          3.3548387096774195,
          3.375,
          3.423076923076923,
          3.4285714285714284,
          3.4347826086956523,
          3.4545454545454546,
          3.473684210526316,
          3.4761904761904763,
          3.48,
          3.4814814814814814,
          3.489795918367347,
          3.526315789473684,
          3.55,
          3.5609756097560976,
          3.5833333333333335,
          3.59375,
          3.6,
          3.6136363636363638,
          3.6153846153846154,
          3.625,
          3.6346153846153846,
          3.6551724137931036,
          3.6666666666666665,
          3.6818181818181817,
          3.7,
          3.75,
          3.75,
          3.7567567567567566,
          3.8095238095238093,
          3.8095238095238093,
          3.8125,
          3.8181818181818183,
          3.823529411764706,
          3.8333333333333335,
          3.8333333333333335,
          3.857142857142857,
          3.8947368421052633,
          3.903225806451613,
          3.909090909090909,
          3.9285714285714284,
          3.9375,
          4,
          4,
          4.033333333333333,
          4.0476190476190474,
          4.052631578947368,
          4.055555555555555,
          4.0606060606060606,
          4.090909090909091,
          4.090909090909091,
          4.114285714285714,
          4.125,
          4.125,
          4.157894736842105,
          4.166666666666667,
          4.176470588235294,
          4.183673469387755,
          4.333333333333333,
          4.416666666666667,
          4.5,
          4.6923076923076925,
          5.090909090909091,
          5.111111111111111,
          5.111111111111111,
          5.466666666666667,
          5.666666666666667
         ]
        }
       ],
       "layout": {
        "coloraxis": {
         "cmax": 5.491379310344827,
         "cmin": 1.8304597701149425,
         "colorbar": {
          "len": 1,
          "nticks": 6,
          "orientation": "h",
          "tickangle": 0,
          "tickfont": {
           "color": "black",
           "size": 30
          },
          "title": {
           "font": {
            "size": 1
           },
           "text": "release_count"
          },
          "y": 0.06
         },
         "colorscale": [
          [
           0,
           "#0d0887"
          ],
          [
           0.1111111111111111,
           "#46039f"
          ],
          [
           0.2222222222222222,
           "#7201a8"
          ],
          [
           0.3333333333333333,
           "#9c179e"
          ],
          [
           0.4444444444444444,
           "#bd3786"
          ],
          [
           0.5555555555555556,
           "#d8576b"
          ],
          [
           0.6666666666666666,
           "#ed7953"
          ],
          [
           0.7777777777777778,
           "#fb9f3a"
          ],
          [
           0.8888888888888888,
           "#fdca26"
          ],
          [
           1,
           "#f0f921"
          ]
         ]
        },
        "geo": {
         "center": {},
         "domain": {
          "x": [
           0,
           1
          ],
          "y": [
           0,
           1
          ]
         }
        },
        "height": 600,
        "legend": {
         "tracegroupgap": 0
        },
        "margin": {
         "t": 60
        },
        "template": {
         "data": {
          "bar": [
           {
            "error_x": {
             "color": "#2a3f5f"
            },
            "error_y": {
             "color": "#2a3f5f"
            },
            "marker": {
             "line": {
              "color": "#E5ECF6",
              "width": 0.5
             },
             "pattern": {
              "fillmode": "overlay",
              "size": 10,
              "solidity": 0.2
             }
            },
            "type": "bar"
           }
          ],
          "barpolar": [
           {
            "marker": {
             "line": {
              "color": "#E5ECF6",
              "width": 0.5
             },
             "pattern": {
              "fillmode": "overlay",
              "size": 10,
              "solidity": 0.2
             }
            },
            "type": "barpolar"
           }
          ],
          "carpet": [
           {
            "aaxis": {
             "endlinecolor": "#2a3f5f",
             "gridcolor": "white",
             "linecolor": "white",
             "minorgridcolor": "white",
             "startlinecolor": "#2a3f5f"
            },
            "baxis": {
             "endlinecolor": "#2a3f5f",
             "gridcolor": "white",
             "linecolor": "white",
             "minorgridcolor": "white",
             "startlinecolor": "#2a3f5f"
            },
            "type": "carpet"
           }
          ],
          "choropleth": [
           {
            "colorbar": {
             "outlinewidth": 0,
             "ticks": ""
            },
            "type": "choropleth"
           }
          ],
          "contour": [
           {
            "colorbar": {
             "outlinewidth": 0,
             "ticks": ""
            },
            "colorscale": [
             [
              0,
              "#0d0887"
             ],
             [
              0.1111111111111111,
              "#46039f"
             ],
             [
              0.2222222222222222,
              "#7201a8"
             ],
             [
              0.3333333333333333,
              "#9c179e"
             ],
             [
              0.4444444444444444,
              "#bd3786"
             ],
             [
              0.5555555555555556,
              "#d8576b"
             ],
             [
              0.6666666666666666,
              "#ed7953"
             ],
             [
              0.7777777777777778,
              "#fb9f3a"
             ],
             [
              0.8888888888888888,
              "#fdca26"
             ],
             [
              1,
              "#f0f921"
             ]
            ],
            "type": "contour"
           }
          ],
          "contourcarpet": [
           {
            "colorbar": {
             "outlinewidth": 0,
             "ticks": ""
            },
            "type": "contourcarpet"
           }
          ],
          "heatmap": [
           {
            "colorbar": {
             "outlinewidth": 0,
             "ticks": ""
            },
            "colorscale": [
             [
              0,
              "#0d0887"
             ],
             [
              0.1111111111111111,
              "#46039f"
             ],
             [
              0.2222222222222222,
              "#7201a8"
             ],
             [
              0.3333333333333333,
              "#9c179e"
             ],
             [
              0.4444444444444444,
              "#bd3786"
             ],
             [
              0.5555555555555556,
              "#d8576b"
             ],
             [
              0.6666666666666666,
              "#ed7953"
             ],
             [
              0.7777777777777778,
              "#fb9f3a"
             ],
             [
              0.8888888888888888,
              "#fdca26"
             ],
             [
              1,
              "#f0f921"
             ]
            ],
            "type": "heatmap"
           }
          ],
          "heatmapgl": [
           {
            "colorbar": {
             "outlinewidth": 0,
             "ticks": ""
            },
            "colorscale": [
             [
              0,
              "#0d0887"
             ],
             [
              0.1111111111111111,
              "#46039f"
             ],
             [
              0.2222222222222222,
              "#7201a8"
             ],
             [
              0.3333333333333333,
              "#9c179e"
             ],
             [
              0.4444444444444444,
              "#bd3786"
             ],
             [
              0.5555555555555556,
              "#d8576b"
             ],
             [
              0.6666666666666666,
              "#ed7953"
             ],
             [
              0.7777777777777778,
              "#fb9f3a"
             ],
             [
              0.8888888888888888,
              "#fdca26"
             ],
             [
              1,
              "#f0f921"
             ]
            ],
            "type": "heatmapgl"
           }
          ],
          "histogram": [
           {
            "marker": {
             "pattern": {
              "fillmode": "overlay",
              "size": 10,
              "solidity": 0.2
             }
            },
            "type": "histogram"
           }
          ],
          "histogram2d": [
           {
            "colorbar": {
             "outlinewidth": 0,
             "ticks": ""
            },
            "colorscale": [
             [
              0,
              "#0d0887"
             ],
             [
              0.1111111111111111,
              "#46039f"
             ],
             [
              0.2222222222222222,
              "#7201a8"
             ],
             [
              0.3333333333333333,
              "#9c179e"
             ],
             [
              0.4444444444444444,
              "#bd3786"
             ],
             [
              0.5555555555555556,
              "#d8576b"
             ],
             [
              0.6666666666666666,
              "#ed7953"
             ],
             [
              0.7777777777777778,
              "#fb9f3a"
             ],
             [
              0.8888888888888888,
              "#fdca26"
             ],
             [
              1,
              "#f0f921"
             ]
            ],
            "type": "histogram2d"
           }
          ],
          "histogram2dcontour": [
           {
            "colorbar": {
             "outlinewidth": 0,
             "ticks": ""
            },
            "colorscale": [
             [
              0,
              "#0d0887"
             ],
             [
              0.1111111111111111,
              "#46039f"
             ],
             [
              0.2222222222222222,
              "#7201a8"
             ],
             [
              0.3333333333333333,
              "#9c179e"
             ],
             [
              0.4444444444444444,
              "#bd3786"
             ],
             [
              0.5555555555555556,
              "#d8576b"
             ],
             [
              0.6666666666666666,
              "#ed7953"
             ],
             [
              0.7777777777777778,
              "#fb9f3a"
             ],
             [
              0.8888888888888888,
              "#fdca26"
             ],
             [
              1,
              "#f0f921"
             ]
            ],
            "type": "histogram2dcontour"
           }
          ],
          "mesh3d": [
           {
            "colorbar": {
             "outlinewidth": 0,
             "ticks": ""
            },
            "type": "mesh3d"
           }
          ],
          "parcoords": [
           {
            "line": {
             "colorbar": {
              "outlinewidth": 0,
              "ticks": ""
             }
            },
            "type": "parcoords"
           }
          ],
          "pie": [
           {
            "automargin": true,
            "type": "pie"
           }
          ],
          "scatter": [
           {
            "fillpattern": {
             "fillmode": "overlay",
             "size": 10,
             "solidity": 0.2
            },
            "type": "scatter"
           }
          ],
          "scatter3d": [
           {
            "line": {
             "colorbar": {
              "outlinewidth": 0,
              "ticks": ""
             }
            },
            "marker": {
             "colorbar": {
              "outlinewidth": 0,
              "ticks": ""
             }
            },
            "type": "scatter3d"
           }
          ],
          "scattercarpet": [
           {
            "marker": {
             "colorbar": {
              "outlinewidth": 0,
              "ticks": ""
             }
            },
            "type": "scattercarpet"
           }
          ],
          "scattergeo": [
           {
            "marker": {
             "colorbar": {
              "outlinewidth": 0,
              "ticks": ""
             }
            },
            "type": "scattergeo"
           }
          ],
          "scattergl": [
           {
            "marker": {
             "colorbar": {
              "outlinewidth": 0,
              "ticks": ""
             }
            },
            "type": "scattergl"
           }
          ],
          "scattermapbox": [
           {
            "marker": {
             "colorbar": {
              "outlinewidth": 0,
              "ticks": ""
             }
            },
            "type": "scattermapbox"
           }
          ],
          "scatterpolar": [
           {
            "marker": {
             "colorbar": {
              "outlinewidth": 0,
              "ticks": ""
             }
            },
            "type": "scatterpolar"
           }
          ],
          "scatterpolargl": [
           {
            "marker": {
             "colorbar": {
              "outlinewidth": 0,
              "ticks": ""
             }
            },
            "type": "scatterpolargl"
           }
          ],
          "scatterternary": [
           {
            "marker": {
             "colorbar": {
              "outlinewidth": 0,
              "ticks": ""
             }
            },
            "type": "scatterternary"
           }
          ],
          "surface": [
           {
            "colorbar": {
             "outlinewidth": 0,
             "ticks": ""
            },
            "colorscale": [
             [
              0,
              "#0d0887"
             ],
             [
              0.1111111111111111,
              "#46039f"
             ],
             [
              0.2222222222222222,
              "#7201a8"
             ],
             [
              0.3333333333333333,
              "#9c179e"
             ],
             [
              0.4444444444444444,
              "#bd3786"
             ],
             [
              0.5555555555555556,
              "#d8576b"
             ],
             [
              0.6666666666666666,
              "#ed7953"
             ],
             [
              0.7777777777777778,
              "#fb9f3a"
             ],
             [
              0.8888888888888888,
              "#fdca26"
             ],
             [
              1,
              "#f0f921"
             ]
            ],
            "type": "surface"
           }
          ],
          "table": [
           {
            "cells": {
             "fill": {
              "color": "#EBF0F8"
             },
             "line": {
              "color": "white"
             }
            },
            "header": {
             "fill": {
              "color": "#C8D4E3"
             },
             "line": {
              "color": "white"
             }
            },
            "type": "table"
           }
          ]
         },
         "layout": {
          "annotationdefaults": {
           "arrowcolor": "#2a3f5f",
           "arrowhead": 0,
           "arrowwidth": 1
          },
          "autotypenumbers": "strict",
          "coloraxis": {
           "colorbar": {
            "outlinewidth": 0,
            "ticks": ""
           }
          },
          "colorscale": {
           "diverging": [
            [
             0,
             "#8e0152"
            ],
            [
             0.1,
             "#c51b7d"
            ],
            [
             0.2,
             "#de77ae"
            ],
            [
             0.3,
             "#f1b6da"
            ],
            [
             0.4,
             "#fde0ef"
            ],
            [
             0.5,
             "#f7f7f7"
            ],
            [
             0.6,
             "#e6f5d0"
            ],
            [
             0.7,
             "#b8e186"
            ],
            [
             0.8,
             "#7fbc41"
            ],
            [
             0.9,
             "#4d9221"
            ],
            [
             1,
             "#276419"
            ]
           ],
           "sequential": [
            [
             0,
             "#0d0887"
            ],
            [
             0.1111111111111111,
             "#46039f"
            ],
            [
             0.2222222222222222,
             "#7201a8"
            ],
            [
             0.3333333333333333,
             "#9c179e"
            ],
            [
             0.4444444444444444,
             "#bd3786"
            ],
            [
             0.5555555555555556,
             "#d8576b"
            ],
            [
             0.6666666666666666,
             "#ed7953"
            ],
            [
             0.7777777777777778,
             "#fb9f3a"
            ],
            [
             0.8888888888888888,
             "#fdca26"
            ],
            [
             1,
             "#f0f921"
            ]
           ],
           "sequentialminus": [
            [
             0,
             "#0d0887"
            ],
            [
             0.1111111111111111,
             "#46039f"
            ],
            [
             0.2222222222222222,
             "#7201a8"
            ],
            [
             0.3333333333333333,
             "#9c179e"
            ],
            [
             0.4444444444444444,
             "#bd3786"
            ],
            [
             0.5555555555555556,
             "#d8576b"
            ],
            [
             0.6666666666666666,
             "#ed7953"
            ],
            [
             0.7777777777777778,
             "#fb9f3a"
            ],
            [
             0.8888888888888888,
             "#fdca26"
            ],
            [
             1,
             "#f0f921"
            ]
           ]
          },
          "colorway": [
           "#636efa",
           "#EF553B",
           "#00cc96",
           "#ab63fa",
           "#FFA15A",
           "#19d3f3",
           "#FF6692",
           "#B6E880",
           "#FF97FF",
           "#FECB52"
          ],
          "font": {
           "color": "#2a3f5f"
          },
          "geo": {
           "bgcolor": "white",
           "lakecolor": "white",
           "landcolor": "#E5ECF6",
           "showlakes": true,
           "showland": true,
           "subunitcolor": "white"
          },
          "hoverlabel": {
           "align": "left"
          },
          "hovermode": "closest",
          "mapbox": {
           "style": "light"
          },
          "paper_bgcolor": "white",
          "plot_bgcolor": "#E5ECF6",
          "polar": {
           "angularaxis": {
            "gridcolor": "white",
            "linecolor": "white",
            "ticks": ""
           },
           "bgcolor": "#E5ECF6",
           "radialaxis": {
            "gridcolor": "white",
            "linecolor": "white",
            "ticks": ""
           }
          },
          "scene": {
           "xaxis": {
            "backgroundcolor": "#E5ECF6",
            "gridcolor": "white",
            "gridwidth": 2,
            "linecolor": "white",
            "showbackground": true,
            "ticks": "",
            "zerolinecolor": "white"
           },
           "yaxis": {
            "backgroundcolor": "#E5ECF6",
            "gridcolor": "white",
            "gridwidth": 2,
            "linecolor": "white",
            "showbackground": true,
            "ticks": "",
            "zerolinecolor": "white"
           },
           "zaxis": {
            "backgroundcolor": "#E5ECF6",
            "gridcolor": "white",
            "gridwidth": 2,
            "linecolor": "white",
            "showbackground": true,
            "ticks": "",
            "zerolinecolor": "white"
           }
          },
          "shapedefaults": {
           "line": {
            "color": "#2a3f5f"
           }
          },
          "ternary": {
           "aaxis": {
            "gridcolor": "white",
            "linecolor": "white",
            "ticks": ""
           },
           "baxis": {
            "gridcolor": "white",
            "linecolor": "white",
            "ticks": ""
           },
           "bgcolor": "#E5ECF6",
           "caxis": {
            "gridcolor": "white",
            "linecolor": "white",
            "ticks": ""
           }
          },
          "title": {
           "x": 0.05
          },
          "xaxis": {
           "automargin": true,
           "gridcolor": "white",
           "linecolor": "white",
           "ticks": "",
           "title": {
            "standoff": 15
           },
           "zerolinecolor": "white",
           "zerolinewidth": 2
          },
          "yaxis": {
           "automargin": true,
           "gridcolor": "white",
           "linecolor": "white",
           "ticks": "",
           "title": {
            "standoff": 15
           },
           "zerolinecolor": "white",
           "zerolinewidth": 2
          }
         }
        },
        "width": 800
       }
      },
      "text/html": [
       "<div>                            <div id=\"ba8f64ec-e79c-48e6-886f-3cc6849fc2c1\" class=\"plotly-graph-div\" style=\"height:600px; width:800px;\"></div>            <script type=\"text/javascript\">                require([\"plotly\"], function(Plotly) {                    window.PLOTLYENV=window.PLOTLYENV || {};                                    if (document.getElementById(\"ba8f64ec-e79c-48e6-886f-3cc6849fc2c1\")) {                    Plotly.newPlot(                        \"ba8f64ec-e79c-48e6-886f-3cc6849fc2c1\",                        [{\"coloraxis\":\"coloraxis\",\"geo\":\"geo\",\"hovertemplate\":\"<b>%{hovertext}</b><br><br>country_code=%{location}<br>release_count=%{z}<extra></extra>\",\"hovertext\":[\"SWE\",\"DZA\",\"BEL\",\"ALB\",\"JAM\",\"CAN\",\"CRI\",\"ISR\",\"TTO\",\"TUN\",\"PER\",\"PAK\",\"MEX\",\"URY\",\"ECU\",\"PRY\",\"ARG\",\"COL\",\"BOL\",\"AFG\",\"PNG\",\"TUR\",\"GTM\",\"SVN\",\"ITA\",\"FJI\",\"PAN\",\"DOM\",\"NGA\",\"LBY\",\"ESP\",\"MAR\",\"ZAF\",\"IRN\",\"RUS\",\"CZE\",\"ARE\",\"BRA\",\"CYP\",\"SAU\",\"GBR\",\"CHL\",\"POL\",\"DEU\",\"PRT\",\"EGY\",\"KEN\",\"UZB\",\"AUT\",\"HUN\",\"HRV\",\"UKR\",\"USA\",\"IRL\",\"NZL\",\"MKD\",\"FRA\",\"IRQ\",\"BIH\",\"GRC\",\"PRI\",\"LUX\",\"KAZ\",\"NOR\",\"SVK\",\"NLD\",\"THA\",\"MYS\",\"LKA\",\"ROU\",\"SRB\",\"BGR\",\"PHL\",\"HND\",\"SLV\",\"VNM\",\"KHM\",\"CHE\",\"SGP\",\"IDN\",\"IND\",\"AUS\",\"NPL\",\"BGD\",\"KOR\",\"TWN\",\"CHN\",\"HKG\"],\"locationmode\":\"ISO-3\",\"locations\":[\"SWE\",\"DZA\",\"BEL\",\"ALB\",\"JAM\",\"CAN\",\"CRI\",\"ISR\",\"TTO\",\"TUN\",\"PER\",\"PAK\",\"MEX\",\"URY\",\"ECU\",\"PRY\",\"ARG\",\"COL\",\"BOL\",\"AFG\",\"PNG\",\"TUR\",\"GTM\",\"SVN\",\"ITA\",\"FJI\",\"PAN\",\"DOM\",\"NGA\",\"LBY\",\"ESP\",\"MAR\",\"ZAF\",\"IRN\",\"RUS\",\"CZE\",\"ARE\",\"BRA\",\"CYP\",\"SAU\",\"GBR\",\"CHL\",\"POL\",\"DEU\",\"PRT\",\"EGY\",\"KEN\",\"UZB\",\"AUT\",\"HUN\",\"HRV\",\"UKR\",\"USA\",\"IRL\",\"NZL\",\"MKD\",\"FRA\",\"IRQ\",\"BIH\",\"GRC\",\"PRI\",\"LUX\",\"KAZ\",\"NOR\",\"SVK\",\"NLD\",\"THA\",\"MYS\",\"LKA\",\"ROU\",\"SRB\",\"BGR\",\"PHL\",\"HND\",\"SLV\",\"VNM\",\"KHM\",\"CHE\",\"SGP\",\"IDN\",\"IND\",\"AUS\",\"NPL\",\"BGD\",\"KOR\",\"TWN\",\"CHN\",\"HKG\"],\"name\":\"\",\"z\":[1.0,1.4,1.6,2.0,2.090909090909091,2.24,2.25,2.3636363636363638,2.730769230769231,3.0,3.032258064516129,3.05,3.15,3.2142857142857144,3.230769230769231,3.2666666666666666,3.280701754385965,3.2962962962962963,3.3225806451612905,3.3333333333333335,3.3333333333333335,3.3461538461538463,3.3548387096774195,3.375,3.423076923076923,3.4285714285714284,3.4347826086956523,3.4545454545454546,3.473684210526316,3.4761904761904763,3.48,3.4814814814814814,3.489795918367347,3.526315789473684,3.55,3.5609756097560976,3.5833333333333335,3.59375,3.6,3.6136363636363638,3.6153846153846154,3.625,3.6346153846153846,3.6551724137931036,3.6666666666666665,3.6818181818181817,3.7,3.75,3.75,3.7567567567567566,3.8095238095238093,3.8095238095238093,3.8125,3.8181818181818183,3.823529411764706,3.8333333333333335,3.8333333333333335,3.857142857142857,3.8947368421052633,3.903225806451613,3.909090909090909,3.9285714285714284,3.9375,4.0,4.0,4.033333333333333,4.0476190476190474,4.052631578947368,4.055555555555555,4.0606060606060606,4.090909090909091,4.090909090909091,4.114285714285714,4.125,4.125,4.157894736842105,4.166666666666667,4.176470588235294,4.183673469387755,4.333333333333333,4.416666666666667,4.5,4.6923076923076925,5.090909090909091,5.111111111111111,5.111111111111111,5.466666666666667,5.666666666666667],\"type\":\"choropleth\"}],                        {\"template\":{\"data\":{\"histogram2dcontour\":[{\"type\":\"histogram2dcontour\",\"colorbar\":{\"outlinewidth\":0,\"ticks\":\"\"},\"colorscale\":[[0.0,\"#0d0887\"],[0.1111111111111111,\"#46039f\"],[0.2222222222222222,\"#7201a8\"],[0.3333333333333333,\"#9c179e\"],[0.4444444444444444,\"#bd3786\"],[0.5555555555555556,\"#d8576b\"],[0.6666666666666666,\"#ed7953\"],[0.7777777777777778,\"#fb9f3a\"],[0.8888888888888888,\"#fdca26\"],[1.0,\"#f0f921\"]]}],\"choropleth\":[{\"type\":\"choropleth\",\"colorbar\":{\"outlinewidth\":0,\"ticks\":\"\"}}],\"histogram2d\":[{\"type\":\"histogram2d\",\"colorbar\":{\"outlinewidth\":0,\"ticks\":\"\"},\"colorscale\":[[0.0,\"#0d0887\"],[0.1111111111111111,\"#46039f\"],[0.2222222222222222,\"#7201a8\"],[0.3333333333333333,\"#9c179e\"],[0.4444444444444444,\"#bd3786\"],[0.5555555555555556,\"#d8576b\"],[0.6666666666666666,\"#ed7953\"],[0.7777777777777778,\"#fb9f3a\"],[0.8888888888888888,\"#fdca26\"],[1.0,\"#f0f921\"]]}],\"heatmap\":[{\"type\":\"heatmap\",\"colorbar\":{\"outlinewidth\":0,\"ticks\":\"\"},\"colorscale\":[[0.0,\"#0d0887\"],[0.1111111111111111,\"#46039f\"],[0.2222222222222222,\"#7201a8\"],[0.3333333333333333,\"#9c179e\"],[0.4444444444444444,\"#bd3786\"],[0.5555555555555556,\"#d8576b\"],[0.6666666666666666,\"#ed7953\"],[0.7777777777777778,\"#fb9f3a\"],[0.8888888888888888,\"#fdca26\"],[1.0,\"#f0f921\"]]}],\"heatmapgl\":[{\"type\":\"heatmapgl\",\"colorbar\":{\"outlinewidth\":0,\"ticks\":\"\"},\"colorscale\":[[0.0,\"#0d0887\"],[0.1111111111111111,\"#46039f\"],[0.2222222222222222,\"#7201a8\"],[0.3333333333333333,\"#9c179e\"],[0.4444444444444444,\"#bd3786\"],[0.5555555555555556,\"#d8576b\"],[0.6666666666666666,\"#ed7953\"],[0.7777777777777778,\"#fb9f3a\"],[0.8888888888888888,\"#fdca26\"],[1.0,\"#f0f921\"]]}],\"contourcarpet\":[{\"type\":\"contourcarpet\",\"colorbar\":{\"outlinewidth\":0,\"ticks\":\"\"}}],\"contour\":[{\"type\":\"contour\",\"colorbar\":{\"outlinewidth\":0,\"ticks\":\"\"},\"colorscale\":[[0.0,\"#0d0887\"],[0.1111111111111111,\"#46039f\"],[0.2222222222222222,\"#7201a8\"],[0.3333333333333333,\"#9c179e\"],[0.4444444444444444,\"#bd3786\"],[0.5555555555555556,\"#d8576b\"],[0.6666666666666666,\"#ed7953\"],[0.7777777777777778,\"#fb9f3a\"],[0.8888888888888888,\"#fdca26\"],[1.0,\"#f0f921\"]]}],\"surface\":[{\"type\":\"surface\",\"colorbar\":{\"outlinewidth\":0,\"ticks\":\"\"},\"colorscale\":[[0.0,\"#0d0887\"],[0.1111111111111111,\"#46039f\"],[0.2222222222222222,\"#7201a8\"],[0.3333333333333333,\"#9c179e\"],[0.4444444444444444,\"#bd3786\"],[0.5555555555555556,\"#d8576b\"],[0.6666666666666666,\"#ed7953\"],[0.7777777777777778,\"#fb9f3a\"],[0.8888888888888888,\"#fdca26\"],[1.0,\"#f0f921\"]]}],\"mesh3d\":[{\"type\":\"mesh3d\",\"colorbar\":{\"outlinewidth\":0,\"ticks\":\"\"}}],\"scatter\":[{\"fillpattern\":{\"fillmode\":\"overlay\",\"size\":10,\"solidity\":0.2},\"type\":\"scatter\"}],\"parcoords\":[{\"type\":\"parcoords\",\"line\":{\"colorbar\":{\"outlinewidth\":0,\"ticks\":\"\"}}}],\"scatterpolargl\":[{\"type\":\"scatterpolargl\",\"marker\":{\"colorbar\":{\"outlinewidth\":0,\"ticks\":\"\"}}}],\"bar\":[{\"error_x\":{\"color\":\"#2a3f5f\"},\"error_y\":{\"color\":\"#2a3f5f\"},\"marker\":{\"line\":{\"color\":\"#E5ECF6\",\"width\":0.5},\"pattern\":{\"fillmode\":\"overlay\",\"size\":10,\"solidity\":0.2}},\"type\":\"bar\"}],\"scattergeo\":[{\"type\":\"scattergeo\",\"marker\":{\"colorbar\":{\"outlinewidth\":0,\"ticks\":\"\"}}}],\"scatterpolar\":[{\"type\":\"scatterpolar\",\"marker\":{\"colorbar\":{\"outlinewidth\":0,\"ticks\":\"\"}}}],\"histogram\":[{\"marker\":{\"pattern\":{\"fillmode\":\"overlay\",\"size\":10,\"solidity\":0.2}},\"type\":\"histogram\"}],\"scattergl\":[{\"type\":\"scattergl\",\"marker\":{\"colorbar\":{\"outlinewidth\":0,\"ticks\":\"\"}}}],\"scatter3d\":[{\"type\":\"scatter3d\",\"line\":{\"colorbar\":{\"outlinewidth\":0,\"ticks\":\"\"}},\"marker\":{\"colorbar\":{\"outlinewidth\":0,\"ticks\":\"\"}}}],\"scattermapbox\":[{\"type\":\"scattermapbox\",\"marker\":{\"colorbar\":{\"outlinewidth\":0,\"ticks\":\"\"}}}],\"scatterternary\":[{\"type\":\"scatterternary\",\"marker\":{\"colorbar\":{\"outlinewidth\":0,\"ticks\":\"\"}}}],\"scattercarpet\":[{\"type\":\"scattercarpet\",\"marker\":{\"colorbar\":{\"outlinewidth\":0,\"ticks\":\"\"}}}],\"carpet\":[{\"aaxis\":{\"endlinecolor\":\"#2a3f5f\",\"gridcolor\":\"white\",\"linecolor\":\"white\",\"minorgridcolor\":\"white\",\"startlinecolor\":\"#2a3f5f\"},\"baxis\":{\"endlinecolor\":\"#2a3f5f\",\"gridcolor\":\"white\",\"linecolor\":\"white\",\"minorgridcolor\":\"white\",\"startlinecolor\":\"#2a3f5f\"},\"type\":\"carpet\"}],\"table\":[{\"cells\":{\"fill\":{\"color\":\"#EBF0F8\"},\"line\":{\"color\":\"white\"}},\"header\":{\"fill\":{\"color\":\"#C8D4E3\"},\"line\":{\"color\":\"white\"}},\"type\":\"table\"}],\"barpolar\":[{\"marker\":{\"line\":{\"color\":\"#E5ECF6\",\"width\":0.5},\"pattern\":{\"fillmode\":\"overlay\",\"size\":10,\"solidity\":0.2}},\"type\":\"barpolar\"}],\"pie\":[{\"automargin\":true,\"type\":\"pie\"}]},\"layout\":{\"autotypenumbers\":\"strict\",\"colorway\":[\"#636efa\",\"#EF553B\",\"#00cc96\",\"#ab63fa\",\"#FFA15A\",\"#19d3f3\",\"#FF6692\",\"#B6E880\",\"#FF97FF\",\"#FECB52\"],\"font\":{\"color\":\"#2a3f5f\"},\"hovermode\":\"closest\",\"hoverlabel\":{\"align\":\"left\"},\"paper_bgcolor\":\"white\",\"plot_bgcolor\":\"#E5ECF6\",\"polar\":{\"bgcolor\":\"#E5ECF6\",\"angularaxis\":{\"gridcolor\":\"white\",\"linecolor\":\"white\",\"ticks\":\"\"},\"radialaxis\":{\"gridcolor\":\"white\",\"linecolor\":\"white\",\"ticks\":\"\"}},\"ternary\":{\"bgcolor\":\"#E5ECF6\",\"aaxis\":{\"gridcolor\":\"white\",\"linecolor\":\"white\",\"ticks\":\"\"},\"baxis\":{\"gridcolor\":\"white\",\"linecolor\":\"white\",\"ticks\":\"\"},\"caxis\":{\"gridcolor\":\"white\",\"linecolor\":\"white\",\"ticks\":\"\"}},\"coloraxis\":{\"colorbar\":{\"outlinewidth\":0,\"ticks\":\"\"}},\"colorscale\":{\"sequential\":[[0.0,\"#0d0887\"],[0.1111111111111111,\"#46039f\"],[0.2222222222222222,\"#7201a8\"],[0.3333333333333333,\"#9c179e\"],[0.4444444444444444,\"#bd3786\"],[0.5555555555555556,\"#d8576b\"],[0.6666666666666666,\"#ed7953\"],[0.7777777777777778,\"#fb9f3a\"],[0.8888888888888888,\"#fdca26\"],[1.0,\"#f0f921\"]],\"sequentialminus\":[[0.0,\"#0d0887\"],[0.1111111111111111,\"#46039f\"],[0.2222222222222222,\"#7201a8\"],[0.3333333333333333,\"#9c179e\"],[0.4444444444444444,\"#bd3786\"],[0.5555555555555556,\"#d8576b\"],[0.6666666666666666,\"#ed7953\"],[0.7777777777777778,\"#fb9f3a\"],[0.8888888888888888,\"#fdca26\"],[1.0,\"#f0f921\"]],\"diverging\":[[0,\"#8e0152\"],[0.1,\"#c51b7d\"],[0.2,\"#de77ae\"],[0.3,\"#f1b6da\"],[0.4,\"#fde0ef\"],[0.5,\"#f7f7f7\"],[0.6,\"#e6f5d0\"],[0.7,\"#b8e186\"],[0.8,\"#7fbc41\"],[0.9,\"#4d9221\"],[1,\"#276419\"]]},\"xaxis\":{\"gridcolor\":\"white\",\"linecolor\":\"white\",\"ticks\":\"\",\"title\":{\"standoff\":15},\"zerolinecolor\":\"white\",\"automargin\":true,\"zerolinewidth\":2},\"yaxis\":{\"gridcolor\":\"white\",\"linecolor\":\"white\",\"ticks\":\"\",\"title\":{\"standoff\":15},\"zerolinecolor\":\"white\",\"automargin\":true,\"zerolinewidth\":2},\"scene\":{\"xaxis\":{\"backgroundcolor\":\"#E5ECF6\",\"gridcolor\":\"white\",\"linecolor\":\"white\",\"showbackground\":true,\"ticks\":\"\",\"zerolinecolor\":\"white\",\"gridwidth\":2},\"yaxis\":{\"backgroundcolor\":\"#E5ECF6\",\"gridcolor\":\"white\",\"linecolor\":\"white\",\"showbackground\":true,\"ticks\":\"\",\"zerolinecolor\":\"white\",\"gridwidth\":2},\"zaxis\":{\"backgroundcolor\":\"#E5ECF6\",\"gridcolor\":\"white\",\"linecolor\":\"white\",\"showbackground\":true,\"ticks\":\"\",\"zerolinecolor\":\"white\",\"gridwidth\":2}},\"shapedefaults\":{\"line\":{\"color\":\"#2a3f5f\"}},\"annotationdefaults\":{\"arrowcolor\":\"#2a3f5f\",\"arrowhead\":0,\"arrowwidth\":1},\"geo\":{\"bgcolor\":\"white\",\"landcolor\":\"#E5ECF6\",\"subunitcolor\":\"white\",\"showland\":true,\"showlakes\":true,\"lakecolor\":\"white\"},\"title\":{\"x\":0.05},\"mapbox\":{\"style\":\"light\"}}},\"geo\":{\"domain\":{\"x\":[0.0,1.0],\"y\":[0.0,1.0]},\"center\":{}},\"coloraxis\":{\"colorbar\":{\"title\":{\"text\":\"release_count\",\"font\":{\"size\":1}},\"tickfont\":{\"size\":30,\"color\":\"black\"},\"nticks\":6,\"orientation\":\"h\",\"len\":1,\"y\":0.06,\"tickangle\":0},\"colorscale\":[[0.0,\"#0d0887\"],[0.1111111111111111,\"#46039f\"],[0.2222222222222222,\"#7201a8\"],[0.3333333333333333,\"#9c179e\"],[0.4444444444444444,\"#bd3786\"],[0.5555555555555556,\"#d8576b\"],[0.6666666666666666,\"#ed7953\"],[0.7777777777777778,\"#fb9f3a\"],[0.8888888888888888,\"#fdca26\"],[1.0,\"#f0f921\"]],\"cmin\":1.8304597701149425,\"cmax\":5.491379310344827},\"legend\":{\"tracegroupgap\":0},\"margin\":{\"t\":60},\"width\":800,\"height\":600},                        {\"responsive\": true}                    ).then(function(){\n",
       "                            \n",
       "var gd = document.getElementById('ba8f64ec-e79c-48e6-886f-3cc6849fc2c1');\n",
       "var x = new MutationObserver(function (mutations, observer) {{\n",
       "        var display = window.getComputedStyle(gd).display;\n",
       "        if (!display || display === 'none') {{\n",
       "            console.log([gd, 'removed!']);\n",
       "            Plotly.purge(gd);\n",
       "            observer.disconnect();\n",
       "        }}\n",
       "}});\n",
       "\n",
       "// Listen for the removal of the full notebook cells\n",
       "var notebookContainer = gd.closest('#notebook-container');\n",
       "if (notebookContainer) {{\n",
       "    x.observe(notebookContainer, {childList: true});\n",
       "}}\n",
       "\n",
       "// Listen for the clearing of the current output cell\n",
       "var outputEl = gd.closest('.output');\n",
       "if (outputEl) {{\n",
       "    x.observe(outputEl, {childList: true});\n",
       "}}\n",
       "\n",
       "                        })                };                });            </script>        </div>"
      ]
     },
     "metadata": {},
     "output_type": "display_data"
    },
    {
     "name": "stdout",
     "output_type": "stream",
     "text": [
      "Avg: 3.660919540229885\n"
     ]
    }
   ],
   "source": [
    "import pandas as pd\n",
    "import numpy as np\n",
    "import io\n",
    "import plotly.express as px\n",
    "import plotly.graph_objects as go\n",
    "\n",
    "p = 'release_count'\n",
    "\n",
    "values_to_plot = df_final_samsung_biannual.groupby(['iso_code'])[p].mean().sort_values(ascending=True)\n",
    "avg = values_to_plot.median()\n",
    "\n",
    "df_plot = pd.DataFrame(values_to_plot.values,columns=[p])\n",
    "df_plot['country_code'] = values_to_plot.index\n",
    "\n",
    "fig = px.choropleth(df_plot, locations=\"country_code\",\n",
    "                    locationmode='ISO-3',\n",
    "                    color= p,\n",
    "                    hover_name=\"country_code\",\n",
    "                    color_continuous_scale=px.colors.sequential.Plasma,\n",
    "                    range_color=(0.5*avg,1.5*avg),\n",
    "                    #labels={p:'Count'}\n",
    "                   )\n",
    "\n",
    "fig.update_layout(\n",
    "        width=800,\n",
    "        height=600,\n",
    "        coloraxis=dict(\n",
    "            colorbar_nticks=6,\n",
    "            colorbar_orientation='h',\n",
    "            #colorbar_borderwidth = 2,\n",
    "            colorbar_len=1,\n",
    "            colorbar_y=+0.06,\n",
    "            #colorbar_ticksuffix='days',\n",
    "            colorbar_title_font_size=1,\n",
    "            colorbar=dict(\n",
    "                #title_side='bottom',\n",
    "                tickangle=0,\n",
    "                tickfont=dict(size=30, color='black'))\n",
    "            )\n",
    ")\n",
    "\n",
    "layout = go.Layout(\n",
    "  margin=go.layout.Margin(\n",
    "        l=0, #left margin\n",
    "        r=0, #right margin\n",
    "        b=0, #bottom margin\n",
    "        t=0  #top margin\n",
    "    )\n",
    ")\n",
    "\n",
    "\n",
    "fig.show()\n",
    "\n",
    "fig.write_image(\"../Results/geolocation_biannual_count.pdf\")\n",
    "\n",
    "fig.write_html(\"../Results/InteractiveFigures/geolocation_biannual_count.html\",full_html=False, include_plotlyjs='cdn')\n",
    "\n",
    "print('Avg: {}'.format(avg))\n"
   ]
  },
  {
   "cell_type": "markdown",
   "id": "d86ecf4c",
   "metadata": {},
   "source": [
    "### Support Duration"
   ]
  },
  {
   "cell_type": "code",
   "execution_count": 178,
   "id": "59cab86f",
   "metadata": {},
   "outputs": [
    {
     "data": {
      "application/vnd.plotly.v1+json": {
       "config": {
        "plotlyServerURL": "https://plot.ly"
       },
       "data": [
        {
         "coloraxis": "coloraxis",
         "geo": "geo",
         "hovertemplate": "<b>%{hovertext}</b><br><br>country_code=%{location}<br>release_date_duration=%{z}<extra></extra>",
         "hovertext": [
          "SWE",
          "DZA",
          "BEL",
          "CAN",
          "CRI",
          "ISR",
          "ALB",
          "JAM",
          "TTO",
          "PAK",
          "TUN",
          "PER",
          "PNG",
          "FJI",
          "PRY",
          "MEX",
          "GTM",
          "ECU",
          "ARG",
          "URY",
          "COL",
          "BRA",
          "AFG",
          "NZL",
          "NGA",
          "LBY",
          "IRN",
          "DOM",
          "SAU",
          "TUR",
          "ZAF",
          "BOL",
          "PAN",
          "MKD",
          "MAR",
          "AUT",
          "USA",
          "SVN",
          "CHL",
          "ITA",
          "UKR",
          "SGP",
          "KEN",
          "CZE",
          "EGY",
          "DEU",
          "PRI",
          "LKA",
          "GBR",
          "ESP",
          "KHM",
          "RUS",
          "ARE",
          "THA",
          "UZB",
          "MYS",
          "POL",
          "AUS",
          "IRQ",
          "HRV",
          "PHL",
          "HUN",
          "FRA",
          "KAZ",
          "IDN",
          "PRT",
          "IND",
          "VNM",
          "CYP",
          "IRL",
          "BIH",
          "NLD",
          "SLV",
          "HND",
          "LUX",
          "CHE",
          "ROU",
          "GRC",
          "NPL",
          "BGR",
          "SVK",
          "SRB",
          "NOR",
          "CHN",
          "BGD",
          "TWN",
          "KOR",
          "HKG"
         ],
         "locationmode": "ISO-3",
         "locations": [
          "SWE",
          "DZA",
          "BEL",
          "CAN",
          "CRI",
          "ISR",
          "ALB",
          "JAM",
          "TTO",
          "PAK",
          "TUN",
          "PER",
          "PNG",
          "FJI",
          "PRY",
          "MEX",
          "GTM",
          "ECU",
          "ARG",
          "URY",
          "COL",
          "BRA",
          "AFG",
          "NZL",
          "NGA",
          "LBY",
          "IRN",
          "DOM",
          "SAU",
          "TUR",
          "ZAF",
          "BOL",
          "PAN",
          "MKD",
          "MAR",
          "AUT",
          "USA",
          "SVN",
          "CHL",
          "ITA",
          "UKR",
          "SGP",
          "KEN",
          "CZE",
          "EGY",
          "DEU",
          "PRI",
          "LKA",
          "GBR",
          "ESP",
          "KHM",
          "RUS",
          "ARE",
          "THA",
          "UZB",
          "MYS",
          "POL",
          "AUS",
          "IRQ",
          "HRV",
          "PHL",
          "HUN",
          "FRA",
          "KAZ",
          "IDN",
          "PRT",
          "IND",
          "VNM",
          "CYP",
          "IRL",
          "BIH",
          "NLD",
          "SLV",
          "HND",
          "LUX",
          "CHE",
          "ROU",
          "GRC",
          "NPL",
          "BGR",
          "SVK",
          "SRB",
          "NOR",
          "CHN",
          "BGD",
          "TWN",
          "KOR",
          "HKG"
         ],
         "name": "",
         "type": "choropleth",
         "z": [
          0,
          53,
          93,
          156,
          159,
          186,
          198,
          201,
          239,
          267,
          271,
          276,
          277,
          279,
          280,
          288,
          290,
          296,
          297,
          299,
          302,
          312,
          312,
          322,
          324,
          325,
          327,
          329,
          330,
          334,
          334,
          335,
          339,
          339,
          342,
          343,
          343,
          345,
          347,
          350,
          352,
          354,
          357,
          358,
          359,
          359,
          363,
          364,
          368,
          369,
          371,
          371,
          374,
          374,
          376,
          376,
          378,
          379,
          380,
          383,
          383,
          387,
          390,
          391,
          391,
          392,
          395,
          396,
          398,
          403,
          403,
          410,
          413,
          413,
          418,
          420,
          424,
          425,
          430,
          443,
          460,
          469,
          476,
          484,
          494,
          495,
          541,
          547
         ]
        }
       ],
       "layout": {
        "coloraxis": {
         "cmax": 537.75,
         "cmin": 179.25,
         "colorbar": {
          "len": 1,
          "nticks": 6,
          "orientation": "h",
          "tickangle": 0,
          "tickfont": {
           "color": "black",
           "size": 30
          },
          "title": {
           "font": {
            "size": 1
           },
           "text": "release_date_duration"
          },
          "y": 0.06
         },
         "colorscale": [
          [
           0,
           "#0d0887"
          ],
          [
           0.1111111111111111,
           "#46039f"
          ],
          [
           0.2222222222222222,
           "#7201a8"
          ],
          [
           0.3333333333333333,
           "#9c179e"
          ],
          [
           0.4444444444444444,
           "#bd3786"
          ],
          [
           0.5555555555555556,
           "#d8576b"
          ],
          [
           0.6666666666666666,
           "#ed7953"
          ],
          [
           0.7777777777777778,
           "#fb9f3a"
          ],
          [
           0.8888888888888888,
           "#fdca26"
          ],
          [
           1,
           "#f0f921"
          ]
         ]
        },
        "geo": {
         "center": {},
         "domain": {
          "x": [
           0,
           1
          ],
          "y": [
           0,
           1
          ]
         }
        },
        "height": 600,
        "legend": {
         "tracegroupgap": 0
        },
        "margin": {
         "t": 60
        },
        "template": {
         "data": {
          "bar": [
           {
            "error_x": {
             "color": "#2a3f5f"
            },
            "error_y": {
             "color": "#2a3f5f"
            },
            "marker": {
             "line": {
              "color": "#E5ECF6",
              "width": 0.5
             },
             "pattern": {
              "fillmode": "overlay",
              "size": 10,
              "solidity": 0.2
             }
            },
            "type": "bar"
           }
          ],
          "barpolar": [
           {
            "marker": {
             "line": {
              "color": "#E5ECF6",
              "width": 0.5
             },
             "pattern": {
              "fillmode": "overlay",
              "size": 10,
              "solidity": 0.2
             }
            },
            "type": "barpolar"
           }
          ],
          "carpet": [
           {
            "aaxis": {
             "endlinecolor": "#2a3f5f",
             "gridcolor": "white",
             "linecolor": "white",
             "minorgridcolor": "white",
             "startlinecolor": "#2a3f5f"
            },
            "baxis": {
             "endlinecolor": "#2a3f5f",
             "gridcolor": "white",
             "linecolor": "white",
             "minorgridcolor": "white",
             "startlinecolor": "#2a3f5f"
            },
            "type": "carpet"
           }
          ],
          "choropleth": [
           {
            "colorbar": {
             "outlinewidth": 0,
             "ticks": ""
            },
            "type": "choropleth"
           }
          ],
          "contour": [
           {
            "colorbar": {
             "outlinewidth": 0,
             "ticks": ""
            },
            "colorscale": [
             [
              0,
              "#0d0887"
             ],
             [
              0.1111111111111111,
              "#46039f"
             ],
             [
              0.2222222222222222,
              "#7201a8"
             ],
             [
              0.3333333333333333,
              "#9c179e"
             ],
             [
              0.4444444444444444,
              "#bd3786"
             ],
             [
              0.5555555555555556,
              "#d8576b"
             ],
             [
              0.6666666666666666,
              "#ed7953"
             ],
             [
              0.7777777777777778,
              "#fb9f3a"
             ],
             [
              0.8888888888888888,
              "#fdca26"
             ],
             [
              1,
              "#f0f921"
             ]
            ],
            "type": "contour"
           }
          ],
          "contourcarpet": [
           {
            "colorbar": {
             "outlinewidth": 0,
             "ticks": ""
            },
            "type": "contourcarpet"
           }
          ],
          "heatmap": [
           {
            "colorbar": {
             "outlinewidth": 0,
             "ticks": ""
            },
            "colorscale": [
             [
              0,
              "#0d0887"
             ],
             [
              0.1111111111111111,
              "#46039f"
             ],
             [
              0.2222222222222222,
              "#7201a8"
             ],
             [
              0.3333333333333333,
              "#9c179e"
             ],
             [
              0.4444444444444444,
              "#bd3786"
             ],
             [
              0.5555555555555556,
              "#d8576b"
             ],
             [
              0.6666666666666666,
              "#ed7953"
             ],
             [
              0.7777777777777778,
              "#fb9f3a"
             ],
             [
              0.8888888888888888,
              "#fdca26"
             ],
             [
              1,
              "#f0f921"
             ]
            ],
            "type": "heatmap"
           }
          ],
          "heatmapgl": [
           {
            "colorbar": {
             "outlinewidth": 0,
             "ticks": ""
            },
            "colorscale": [
             [
              0,
              "#0d0887"
             ],
             [
              0.1111111111111111,
              "#46039f"
             ],
             [
              0.2222222222222222,
              "#7201a8"
             ],
             [
              0.3333333333333333,
              "#9c179e"
             ],
             [
              0.4444444444444444,
              "#bd3786"
             ],
             [
              0.5555555555555556,
              "#d8576b"
             ],
             [
              0.6666666666666666,
              "#ed7953"
             ],
             [
              0.7777777777777778,
              "#fb9f3a"
             ],
             [
              0.8888888888888888,
              "#fdca26"
             ],
             [
              1,
              "#f0f921"
             ]
            ],
            "type": "heatmapgl"
           }
          ],
          "histogram": [
           {
            "marker": {
             "pattern": {
              "fillmode": "overlay",
              "size": 10,
              "solidity": 0.2
             }
            },
            "type": "histogram"
           }
          ],
          "histogram2d": [
           {
            "colorbar": {
             "outlinewidth": 0,
             "ticks": ""
            },
            "colorscale": [
             [
              0,
              "#0d0887"
             ],
             [
              0.1111111111111111,
              "#46039f"
             ],
             [
              0.2222222222222222,
              "#7201a8"
             ],
             [
              0.3333333333333333,
              "#9c179e"
             ],
             [
              0.4444444444444444,
              "#bd3786"
             ],
             [
              0.5555555555555556,
              "#d8576b"
             ],
             [
              0.6666666666666666,
              "#ed7953"
             ],
             [
              0.7777777777777778,
              "#fb9f3a"
             ],
             [
              0.8888888888888888,
              "#fdca26"
             ],
             [
              1,
              "#f0f921"
             ]
            ],
            "type": "histogram2d"
           }
          ],
          "histogram2dcontour": [
           {
            "colorbar": {
             "outlinewidth": 0,
             "ticks": ""
            },
            "colorscale": [
             [
              0,
              "#0d0887"
             ],
             [
              0.1111111111111111,
              "#46039f"
             ],
             [
              0.2222222222222222,
              "#7201a8"
             ],
             [
              0.3333333333333333,
              "#9c179e"
             ],
             [
              0.4444444444444444,
              "#bd3786"
             ],
             [
              0.5555555555555556,
              "#d8576b"
             ],
             [
              0.6666666666666666,
              "#ed7953"
             ],
             [
              0.7777777777777778,
              "#fb9f3a"
             ],
             [
              0.8888888888888888,
              "#fdca26"
             ],
             [
              1,
              "#f0f921"
             ]
            ],
            "type": "histogram2dcontour"
           }
          ],
          "mesh3d": [
           {
            "colorbar": {
             "outlinewidth": 0,
             "ticks": ""
            },
            "type": "mesh3d"
           }
          ],
          "parcoords": [
           {
            "line": {
             "colorbar": {
              "outlinewidth": 0,
              "ticks": ""
             }
            },
            "type": "parcoords"
           }
          ],
          "pie": [
           {
            "automargin": true,
            "type": "pie"
           }
          ],
          "scatter": [
           {
            "fillpattern": {
             "fillmode": "overlay",
             "size": 10,
             "solidity": 0.2
            },
            "type": "scatter"
           }
          ],
          "scatter3d": [
           {
            "line": {
             "colorbar": {
              "outlinewidth": 0,
              "ticks": ""
             }
            },
            "marker": {
             "colorbar": {
              "outlinewidth": 0,
              "ticks": ""
             }
            },
            "type": "scatter3d"
           }
          ],
          "scattercarpet": [
           {
            "marker": {
             "colorbar": {
              "outlinewidth": 0,
              "ticks": ""
             }
            },
            "type": "scattercarpet"
           }
          ],
          "scattergeo": [
           {
            "marker": {
             "colorbar": {
              "outlinewidth": 0,
              "ticks": ""
             }
            },
            "type": "scattergeo"
           }
          ],
          "scattergl": [
           {
            "marker": {
             "colorbar": {
              "outlinewidth": 0,
              "ticks": ""
             }
            },
            "type": "scattergl"
           }
          ],
          "scattermapbox": [
           {
            "marker": {
             "colorbar": {
              "outlinewidth": 0,
              "ticks": ""
             }
            },
            "type": "scattermapbox"
           }
          ],
          "scatterpolar": [
           {
            "marker": {
             "colorbar": {
              "outlinewidth": 0,
              "ticks": ""
             }
            },
            "type": "scatterpolar"
           }
          ],
          "scatterpolargl": [
           {
            "marker": {
             "colorbar": {
              "outlinewidth": 0,
              "ticks": ""
             }
            },
            "type": "scatterpolargl"
           }
          ],
          "scatterternary": [
           {
            "marker": {
             "colorbar": {
              "outlinewidth": 0,
              "ticks": ""
             }
            },
            "type": "scatterternary"
           }
          ],
          "surface": [
           {
            "colorbar": {
             "outlinewidth": 0,
             "ticks": ""
            },
            "colorscale": [
             [
              0,
              "#0d0887"
             ],
             [
              0.1111111111111111,
              "#46039f"
             ],
             [
              0.2222222222222222,
              "#7201a8"
             ],
             [
              0.3333333333333333,
              "#9c179e"
             ],
             [
              0.4444444444444444,
              "#bd3786"
             ],
             [
              0.5555555555555556,
              "#d8576b"
             ],
             [
              0.6666666666666666,
              "#ed7953"
             ],
             [
              0.7777777777777778,
              "#fb9f3a"
             ],
             [
              0.8888888888888888,
              "#fdca26"
             ],
             [
              1,
              "#f0f921"
             ]
            ],
            "type": "surface"
           }
          ],
          "table": [
           {
            "cells": {
             "fill": {
              "color": "#EBF0F8"
             },
             "line": {
              "color": "white"
             }
            },
            "header": {
             "fill": {
              "color": "#C8D4E3"
             },
             "line": {
              "color": "white"
             }
            },
            "type": "table"
           }
          ]
         },
         "layout": {
          "annotationdefaults": {
           "arrowcolor": "#2a3f5f",
           "arrowhead": 0,
           "arrowwidth": 1
          },
          "autotypenumbers": "strict",
          "coloraxis": {
           "colorbar": {
            "outlinewidth": 0,
            "ticks": ""
           }
          },
          "colorscale": {
           "diverging": [
            [
             0,
             "#8e0152"
            ],
            [
             0.1,
             "#c51b7d"
            ],
            [
             0.2,
             "#de77ae"
            ],
            [
             0.3,
             "#f1b6da"
            ],
            [
             0.4,
             "#fde0ef"
            ],
            [
             0.5,
             "#f7f7f7"
            ],
            [
             0.6,
             "#e6f5d0"
            ],
            [
             0.7,
             "#b8e186"
            ],
            [
             0.8,
             "#7fbc41"
            ],
            [
             0.9,
             "#4d9221"
            ],
            [
             1,
             "#276419"
            ]
           ],
           "sequential": [
            [
             0,
             "#0d0887"
            ],
            [
             0.1111111111111111,
             "#46039f"
            ],
            [
             0.2222222222222222,
             "#7201a8"
            ],
            [
             0.3333333333333333,
             "#9c179e"
            ],
            [
             0.4444444444444444,
             "#bd3786"
            ],
            [
             0.5555555555555556,
             "#d8576b"
            ],
            [
             0.6666666666666666,
             "#ed7953"
            ],
            [
             0.7777777777777778,
             "#fb9f3a"
            ],
            [
             0.8888888888888888,
             "#fdca26"
            ],
            [
             1,
             "#f0f921"
            ]
           ],
           "sequentialminus": [
            [
             0,
             "#0d0887"
            ],
            [
             0.1111111111111111,
             "#46039f"
            ],
            [
             0.2222222222222222,
             "#7201a8"
            ],
            [
             0.3333333333333333,
             "#9c179e"
            ],
            [
             0.4444444444444444,
             "#bd3786"
            ],
            [
             0.5555555555555556,
             "#d8576b"
            ],
            [
             0.6666666666666666,
             "#ed7953"
            ],
            [
             0.7777777777777778,
             "#fb9f3a"
            ],
            [
             0.8888888888888888,
             "#fdca26"
            ],
            [
             1,
             "#f0f921"
            ]
           ]
          },
          "colorway": [
           "#636efa",
           "#EF553B",
           "#00cc96",
           "#ab63fa",
           "#FFA15A",
           "#19d3f3",
           "#FF6692",
           "#B6E880",
           "#FF97FF",
           "#FECB52"
          ],
          "font": {
           "color": "#2a3f5f"
          },
          "geo": {
           "bgcolor": "white",
           "lakecolor": "white",
           "landcolor": "#E5ECF6",
           "showlakes": true,
           "showland": true,
           "subunitcolor": "white"
          },
          "hoverlabel": {
           "align": "left"
          },
          "hovermode": "closest",
          "mapbox": {
           "style": "light"
          },
          "paper_bgcolor": "white",
          "plot_bgcolor": "#E5ECF6",
          "polar": {
           "angularaxis": {
            "gridcolor": "white",
            "linecolor": "white",
            "ticks": ""
           },
           "bgcolor": "#E5ECF6",
           "radialaxis": {
            "gridcolor": "white",
            "linecolor": "white",
            "ticks": ""
           }
          },
          "scene": {
           "xaxis": {
            "backgroundcolor": "#E5ECF6",
            "gridcolor": "white",
            "gridwidth": 2,
            "linecolor": "white",
            "showbackground": true,
            "ticks": "",
            "zerolinecolor": "white"
           },
           "yaxis": {
            "backgroundcolor": "#E5ECF6",
            "gridcolor": "white",
            "gridwidth": 2,
            "linecolor": "white",
            "showbackground": true,
            "ticks": "",
            "zerolinecolor": "white"
           },
           "zaxis": {
            "backgroundcolor": "#E5ECF6",
            "gridcolor": "white",
            "gridwidth": 2,
            "linecolor": "white",
            "showbackground": true,
            "ticks": "",
            "zerolinecolor": "white"
           }
          },
          "shapedefaults": {
           "line": {
            "color": "#2a3f5f"
           }
          },
          "ternary": {
           "aaxis": {
            "gridcolor": "white",
            "linecolor": "white",
            "ticks": ""
           },
           "baxis": {
            "gridcolor": "white",
            "linecolor": "white",
            "ticks": ""
           },
           "bgcolor": "#E5ECF6",
           "caxis": {
            "gridcolor": "white",
            "linecolor": "white",
            "ticks": ""
           }
          },
          "title": {
           "x": 0.05
          },
          "xaxis": {
           "automargin": true,
           "gridcolor": "white",
           "linecolor": "white",
           "ticks": "",
           "title": {
            "standoff": 15
           },
           "zerolinecolor": "white",
           "zerolinewidth": 2
          },
          "yaxis": {
           "automargin": true,
           "gridcolor": "white",
           "linecolor": "white",
           "ticks": "",
           "title": {
            "standoff": 15
           },
           "zerolinecolor": "white",
           "zerolinewidth": 2
          }
         }
        },
        "width": 800
       }
      },
      "text/html": [
       "<div>                            <div id=\"35da2a5f-efee-4ea1-952a-f86cb7932079\" class=\"plotly-graph-div\" style=\"height:600px; width:800px;\"></div>            <script type=\"text/javascript\">                require([\"plotly\"], function(Plotly) {                    window.PLOTLYENV=window.PLOTLYENV || {};                                    if (document.getElementById(\"35da2a5f-efee-4ea1-952a-f86cb7932079\")) {                    Plotly.newPlot(                        \"35da2a5f-efee-4ea1-952a-f86cb7932079\",                        [{\"coloraxis\":\"coloraxis\",\"geo\":\"geo\",\"hovertemplate\":\"<b>%{hovertext}</b><br><br>country_code=%{location}<br>release_date_duration=%{z}<extra></extra>\",\"hovertext\":[\"SWE\",\"DZA\",\"BEL\",\"CAN\",\"CRI\",\"ISR\",\"ALB\",\"JAM\",\"TTO\",\"PAK\",\"TUN\",\"PER\",\"PNG\",\"FJI\",\"PRY\",\"MEX\",\"GTM\",\"ECU\",\"ARG\",\"URY\",\"COL\",\"BRA\",\"AFG\",\"NZL\",\"NGA\",\"LBY\",\"IRN\",\"DOM\",\"SAU\",\"TUR\",\"ZAF\",\"BOL\",\"PAN\",\"MKD\",\"MAR\",\"AUT\",\"USA\",\"SVN\",\"CHL\",\"ITA\",\"UKR\",\"SGP\",\"KEN\",\"CZE\",\"EGY\",\"DEU\",\"PRI\",\"LKA\",\"GBR\",\"ESP\",\"KHM\",\"RUS\",\"ARE\",\"THA\",\"UZB\",\"MYS\",\"POL\",\"AUS\",\"IRQ\",\"HRV\",\"PHL\",\"HUN\",\"FRA\",\"KAZ\",\"IDN\",\"PRT\",\"IND\",\"VNM\",\"CYP\",\"IRL\",\"BIH\",\"NLD\",\"SLV\",\"HND\",\"LUX\",\"CHE\",\"ROU\",\"GRC\",\"NPL\",\"BGR\",\"SVK\",\"SRB\",\"NOR\",\"CHN\",\"BGD\",\"TWN\",\"KOR\",\"HKG\"],\"locationmode\":\"ISO-3\",\"locations\":[\"SWE\",\"DZA\",\"BEL\",\"CAN\",\"CRI\",\"ISR\",\"ALB\",\"JAM\",\"TTO\",\"PAK\",\"TUN\",\"PER\",\"PNG\",\"FJI\",\"PRY\",\"MEX\",\"GTM\",\"ECU\",\"ARG\",\"URY\",\"COL\",\"BRA\",\"AFG\",\"NZL\",\"NGA\",\"LBY\",\"IRN\",\"DOM\",\"SAU\",\"TUR\",\"ZAF\",\"BOL\",\"PAN\",\"MKD\",\"MAR\",\"AUT\",\"USA\",\"SVN\",\"CHL\",\"ITA\",\"UKR\",\"SGP\",\"KEN\",\"CZE\",\"EGY\",\"DEU\",\"PRI\",\"LKA\",\"GBR\",\"ESP\",\"KHM\",\"RUS\",\"ARE\",\"THA\",\"UZB\",\"MYS\",\"POL\",\"AUS\",\"IRQ\",\"HRV\",\"PHL\",\"HUN\",\"FRA\",\"KAZ\",\"IDN\",\"PRT\",\"IND\",\"VNM\",\"CYP\",\"IRL\",\"BIH\",\"NLD\",\"SLV\",\"HND\",\"LUX\",\"CHE\",\"ROU\",\"GRC\",\"NPL\",\"BGR\",\"SVK\",\"SRB\",\"NOR\",\"CHN\",\"BGD\",\"TWN\",\"KOR\",\"HKG\"],\"name\":\"\",\"z\":[0,53,93,156,159,186,198,201,239,267,271,276,277,279,280,288,290,296,297,299,302,312,312,322,324,325,327,329,330,334,334,335,339,339,342,343,343,345,347,350,352,354,357,358,359,359,363,364,368,369,371,371,374,374,376,376,378,379,380,383,383,387,390,391,391,392,395,396,398,403,403,410,413,413,418,420,424,425,430,443,460,469,476,484,494,495,541,547],\"type\":\"choropleth\"}],                        {\"template\":{\"data\":{\"histogram2dcontour\":[{\"type\":\"histogram2dcontour\",\"colorbar\":{\"outlinewidth\":0,\"ticks\":\"\"},\"colorscale\":[[0.0,\"#0d0887\"],[0.1111111111111111,\"#46039f\"],[0.2222222222222222,\"#7201a8\"],[0.3333333333333333,\"#9c179e\"],[0.4444444444444444,\"#bd3786\"],[0.5555555555555556,\"#d8576b\"],[0.6666666666666666,\"#ed7953\"],[0.7777777777777778,\"#fb9f3a\"],[0.8888888888888888,\"#fdca26\"],[1.0,\"#f0f921\"]]}],\"choropleth\":[{\"type\":\"choropleth\",\"colorbar\":{\"outlinewidth\":0,\"ticks\":\"\"}}],\"histogram2d\":[{\"type\":\"histogram2d\",\"colorbar\":{\"outlinewidth\":0,\"ticks\":\"\"},\"colorscale\":[[0.0,\"#0d0887\"],[0.1111111111111111,\"#46039f\"],[0.2222222222222222,\"#7201a8\"],[0.3333333333333333,\"#9c179e\"],[0.4444444444444444,\"#bd3786\"],[0.5555555555555556,\"#d8576b\"],[0.6666666666666666,\"#ed7953\"],[0.7777777777777778,\"#fb9f3a\"],[0.8888888888888888,\"#fdca26\"],[1.0,\"#f0f921\"]]}],\"heatmap\":[{\"type\":\"heatmap\",\"colorbar\":{\"outlinewidth\":0,\"ticks\":\"\"},\"colorscale\":[[0.0,\"#0d0887\"],[0.1111111111111111,\"#46039f\"],[0.2222222222222222,\"#7201a8\"],[0.3333333333333333,\"#9c179e\"],[0.4444444444444444,\"#bd3786\"],[0.5555555555555556,\"#d8576b\"],[0.6666666666666666,\"#ed7953\"],[0.7777777777777778,\"#fb9f3a\"],[0.8888888888888888,\"#fdca26\"],[1.0,\"#f0f921\"]]}],\"heatmapgl\":[{\"type\":\"heatmapgl\",\"colorbar\":{\"outlinewidth\":0,\"ticks\":\"\"},\"colorscale\":[[0.0,\"#0d0887\"],[0.1111111111111111,\"#46039f\"],[0.2222222222222222,\"#7201a8\"],[0.3333333333333333,\"#9c179e\"],[0.4444444444444444,\"#bd3786\"],[0.5555555555555556,\"#d8576b\"],[0.6666666666666666,\"#ed7953\"],[0.7777777777777778,\"#fb9f3a\"],[0.8888888888888888,\"#fdca26\"],[1.0,\"#f0f921\"]]}],\"contourcarpet\":[{\"type\":\"contourcarpet\",\"colorbar\":{\"outlinewidth\":0,\"ticks\":\"\"}}],\"contour\":[{\"type\":\"contour\",\"colorbar\":{\"outlinewidth\":0,\"ticks\":\"\"},\"colorscale\":[[0.0,\"#0d0887\"],[0.1111111111111111,\"#46039f\"],[0.2222222222222222,\"#7201a8\"],[0.3333333333333333,\"#9c179e\"],[0.4444444444444444,\"#bd3786\"],[0.5555555555555556,\"#d8576b\"],[0.6666666666666666,\"#ed7953\"],[0.7777777777777778,\"#fb9f3a\"],[0.8888888888888888,\"#fdca26\"],[1.0,\"#f0f921\"]]}],\"surface\":[{\"type\":\"surface\",\"colorbar\":{\"outlinewidth\":0,\"ticks\":\"\"},\"colorscale\":[[0.0,\"#0d0887\"],[0.1111111111111111,\"#46039f\"],[0.2222222222222222,\"#7201a8\"],[0.3333333333333333,\"#9c179e\"],[0.4444444444444444,\"#bd3786\"],[0.5555555555555556,\"#d8576b\"],[0.6666666666666666,\"#ed7953\"],[0.7777777777777778,\"#fb9f3a\"],[0.8888888888888888,\"#fdca26\"],[1.0,\"#f0f921\"]]}],\"mesh3d\":[{\"type\":\"mesh3d\",\"colorbar\":{\"outlinewidth\":0,\"ticks\":\"\"}}],\"scatter\":[{\"fillpattern\":{\"fillmode\":\"overlay\",\"size\":10,\"solidity\":0.2},\"type\":\"scatter\"}],\"parcoords\":[{\"type\":\"parcoords\",\"line\":{\"colorbar\":{\"outlinewidth\":0,\"ticks\":\"\"}}}],\"scatterpolargl\":[{\"type\":\"scatterpolargl\",\"marker\":{\"colorbar\":{\"outlinewidth\":0,\"ticks\":\"\"}}}],\"bar\":[{\"error_x\":{\"color\":\"#2a3f5f\"},\"error_y\":{\"color\":\"#2a3f5f\"},\"marker\":{\"line\":{\"color\":\"#E5ECF6\",\"width\":0.5},\"pattern\":{\"fillmode\":\"overlay\",\"size\":10,\"solidity\":0.2}},\"type\":\"bar\"}],\"scattergeo\":[{\"type\":\"scattergeo\",\"marker\":{\"colorbar\":{\"outlinewidth\":0,\"ticks\":\"\"}}}],\"scatterpolar\":[{\"type\":\"scatterpolar\",\"marker\":{\"colorbar\":{\"outlinewidth\":0,\"ticks\":\"\"}}}],\"histogram\":[{\"marker\":{\"pattern\":{\"fillmode\":\"overlay\",\"size\":10,\"solidity\":0.2}},\"type\":\"histogram\"}],\"scattergl\":[{\"type\":\"scattergl\",\"marker\":{\"colorbar\":{\"outlinewidth\":0,\"ticks\":\"\"}}}],\"scatter3d\":[{\"type\":\"scatter3d\",\"line\":{\"colorbar\":{\"outlinewidth\":0,\"ticks\":\"\"}},\"marker\":{\"colorbar\":{\"outlinewidth\":0,\"ticks\":\"\"}}}],\"scattermapbox\":[{\"type\":\"scattermapbox\",\"marker\":{\"colorbar\":{\"outlinewidth\":0,\"ticks\":\"\"}}}],\"scatterternary\":[{\"type\":\"scatterternary\",\"marker\":{\"colorbar\":{\"outlinewidth\":0,\"ticks\":\"\"}}}],\"scattercarpet\":[{\"type\":\"scattercarpet\",\"marker\":{\"colorbar\":{\"outlinewidth\":0,\"ticks\":\"\"}}}],\"carpet\":[{\"aaxis\":{\"endlinecolor\":\"#2a3f5f\",\"gridcolor\":\"white\",\"linecolor\":\"white\",\"minorgridcolor\":\"white\",\"startlinecolor\":\"#2a3f5f\"},\"baxis\":{\"endlinecolor\":\"#2a3f5f\",\"gridcolor\":\"white\",\"linecolor\":\"white\",\"minorgridcolor\":\"white\",\"startlinecolor\":\"#2a3f5f\"},\"type\":\"carpet\"}],\"table\":[{\"cells\":{\"fill\":{\"color\":\"#EBF0F8\"},\"line\":{\"color\":\"white\"}},\"header\":{\"fill\":{\"color\":\"#C8D4E3\"},\"line\":{\"color\":\"white\"}},\"type\":\"table\"}],\"barpolar\":[{\"marker\":{\"line\":{\"color\":\"#E5ECF6\",\"width\":0.5},\"pattern\":{\"fillmode\":\"overlay\",\"size\":10,\"solidity\":0.2}},\"type\":\"barpolar\"}],\"pie\":[{\"automargin\":true,\"type\":\"pie\"}]},\"layout\":{\"autotypenumbers\":\"strict\",\"colorway\":[\"#636efa\",\"#EF553B\",\"#00cc96\",\"#ab63fa\",\"#FFA15A\",\"#19d3f3\",\"#FF6692\",\"#B6E880\",\"#FF97FF\",\"#FECB52\"],\"font\":{\"color\":\"#2a3f5f\"},\"hovermode\":\"closest\",\"hoverlabel\":{\"align\":\"left\"},\"paper_bgcolor\":\"white\",\"plot_bgcolor\":\"#E5ECF6\",\"polar\":{\"bgcolor\":\"#E5ECF6\",\"angularaxis\":{\"gridcolor\":\"white\",\"linecolor\":\"white\",\"ticks\":\"\"},\"radialaxis\":{\"gridcolor\":\"white\",\"linecolor\":\"white\",\"ticks\":\"\"}},\"ternary\":{\"bgcolor\":\"#E5ECF6\",\"aaxis\":{\"gridcolor\":\"white\",\"linecolor\":\"white\",\"ticks\":\"\"},\"baxis\":{\"gridcolor\":\"white\",\"linecolor\":\"white\",\"ticks\":\"\"},\"caxis\":{\"gridcolor\":\"white\",\"linecolor\":\"white\",\"ticks\":\"\"}},\"coloraxis\":{\"colorbar\":{\"outlinewidth\":0,\"ticks\":\"\"}},\"colorscale\":{\"sequential\":[[0.0,\"#0d0887\"],[0.1111111111111111,\"#46039f\"],[0.2222222222222222,\"#7201a8\"],[0.3333333333333333,\"#9c179e\"],[0.4444444444444444,\"#bd3786\"],[0.5555555555555556,\"#d8576b\"],[0.6666666666666666,\"#ed7953\"],[0.7777777777777778,\"#fb9f3a\"],[0.8888888888888888,\"#fdca26\"],[1.0,\"#f0f921\"]],\"sequentialminus\":[[0.0,\"#0d0887\"],[0.1111111111111111,\"#46039f\"],[0.2222222222222222,\"#7201a8\"],[0.3333333333333333,\"#9c179e\"],[0.4444444444444444,\"#bd3786\"],[0.5555555555555556,\"#d8576b\"],[0.6666666666666666,\"#ed7953\"],[0.7777777777777778,\"#fb9f3a\"],[0.8888888888888888,\"#fdca26\"],[1.0,\"#f0f921\"]],\"diverging\":[[0,\"#8e0152\"],[0.1,\"#c51b7d\"],[0.2,\"#de77ae\"],[0.3,\"#f1b6da\"],[0.4,\"#fde0ef\"],[0.5,\"#f7f7f7\"],[0.6,\"#e6f5d0\"],[0.7,\"#b8e186\"],[0.8,\"#7fbc41\"],[0.9,\"#4d9221\"],[1,\"#276419\"]]},\"xaxis\":{\"gridcolor\":\"white\",\"linecolor\":\"white\",\"ticks\":\"\",\"title\":{\"standoff\":15},\"zerolinecolor\":\"white\",\"automargin\":true,\"zerolinewidth\":2},\"yaxis\":{\"gridcolor\":\"white\",\"linecolor\":\"white\",\"ticks\":\"\",\"title\":{\"standoff\":15},\"zerolinecolor\":\"white\",\"automargin\":true,\"zerolinewidth\":2},\"scene\":{\"xaxis\":{\"backgroundcolor\":\"#E5ECF6\",\"gridcolor\":\"white\",\"linecolor\":\"white\",\"showbackground\":true,\"ticks\":\"\",\"zerolinecolor\":\"white\",\"gridwidth\":2},\"yaxis\":{\"backgroundcolor\":\"#E5ECF6\",\"gridcolor\":\"white\",\"linecolor\":\"white\",\"showbackground\":true,\"ticks\":\"\",\"zerolinecolor\":\"white\",\"gridwidth\":2},\"zaxis\":{\"backgroundcolor\":\"#E5ECF6\",\"gridcolor\":\"white\",\"linecolor\":\"white\",\"showbackground\":true,\"ticks\":\"\",\"zerolinecolor\":\"white\",\"gridwidth\":2}},\"shapedefaults\":{\"line\":{\"color\":\"#2a3f5f\"}},\"annotationdefaults\":{\"arrowcolor\":\"#2a3f5f\",\"arrowhead\":0,\"arrowwidth\":1},\"geo\":{\"bgcolor\":\"white\",\"landcolor\":\"#E5ECF6\",\"subunitcolor\":\"white\",\"showland\":true,\"showlakes\":true,\"lakecolor\":\"white\"},\"title\":{\"x\":0.05},\"mapbox\":{\"style\":\"light\"}}},\"geo\":{\"domain\":{\"x\":[0.0,1.0],\"y\":[0.0,1.0]},\"center\":{}},\"coloraxis\":{\"colorbar\":{\"title\":{\"text\":\"release_date_duration\",\"font\":{\"size\":1}},\"tickfont\":{\"size\":30,\"color\":\"black\"},\"nticks\":6,\"orientation\":\"h\",\"len\":1,\"y\":0.06,\"tickangle\":0},\"colorscale\":[[0.0,\"#0d0887\"],[0.1111111111111111,\"#46039f\"],[0.2222222222222222,\"#7201a8\"],[0.3333333333333333,\"#9c179e\"],[0.4444444444444444,\"#bd3786\"],[0.5555555555555556,\"#d8576b\"],[0.6666666666666666,\"#ed7953\"],[0.7777777777777778,\"#fb9f3a\"],[0.8888888888888888,\"#fdca26\"],[1.0,\"#f0f921\"]],\"cmin\":179.25,\"cmax\":537.75},\"legend\":{\"tracegroupgap\":0},\"margin\":{\"t\":60},\"width\":800,\"height\":600},                        {\"responsive\": true}                    ).then(function(){\n",
       "                            \n",
       "var gd = document.getElementById('35da2a5f-efee-4ea1-952a-f86cb7932079');\n",
       "var x = new MutationObserver(function (mutations, observer) {{\n",
       "        var display = window.getComputedStyle(gd).display;\n",
       "        if (!display || display === 'none') {{\n",
       "            console.log([gd, 'removed!']);\n",
       "            Plotly.purge(gd);\n",
       "            observer.disconnect();\n",
       "        }}\n",
       "}});\n",
       "\n",
       "// Listen for the removal of the full notebook cells\n",
       "var notebookContainer = gd.closest('#notebook-container');\n",
       "if (notebookContainer) {{\n",
       "    x.observe(notebookContainer, {childList: true});\n",
       "}}\n",
       "\n",
       "// Listen for the clearing of the current output cell\n",
       "var outputEl = gd.closest('.output');\n",
       "if (outputEl) {{\n",
       "    x.observe(outputEl, {childList: true});\n",
       "}}\n",
       "\n",
       "                        })                };                });            </script>        </div>"
      ]
     },
     "metadata": {},
     "output_type": "display_data"
    },
    {
     "name": "stdout",
     "output_type": "stream",
     "text": [
      "Avg: 358.5\n"
     ]
    }
   ],
   "source": [
    "import pandas as pd\n",
    "import numpy as np\n",
    "import io\n",
    "import plotly.express as px\n",
    "\n",
    "p = 'release_date_duration'\n",
    "\n",
    "values_to_plot = df_final_samsung_biannual.groupby(['iso_code'])[p].mean().dt.days.sort_values(ascending=True)\n",
    "avg = values_to_plot.median()\n",
    "\n",
    "df_plot = pd.DataFrame(values_to_plot.values,columns=[p])\n",
    "df_plot['country_code'] = values_to_plot.index\n",
    "\n",
    "fig = px.choropleth(df_plot, locations=\"country_code\",\n",
    "                    locationmode='ISO-3',\n",
    "                    color= p,\n",
    "                    hover_name=\"country_code\",\n",
    "                    color_continuous_scale=px.colors.sequential.Plasma,\n",
    "                    range_color=(0.5*avg,1.5*avg))\n",
    "\n",
    "fig.update_layout(\n",
    "        width=800,\n",
    "        height=600,\n",
    "        coloraxis=dict(\n",
    "            colorbar_nticks=6,\n",
    "            colorbar_orientation='h',\n",
    "            #colorbar_borderwidth = 2,\n",
    "            colorbar_len=1,\n",
    "            colorbar_y=+0.06,\n",
    "            #colorbar_ticksuffix='days',\n",
    "            colorbar_title_font_size=1,\n",
    "            colorbar=dict(\n",
    "                #title_side='bottom',\n",
    "                tickangle=0,\n",
    "                tickfont=dict(size=30, color='black'))\n",
    "            )\n",
    ")\n",
    "\n",
    "\n",
    "layout = go.Layout(\n",
    "  margin=go.layout.Margin(\n",
    "        l=0, #left margin\n",
    "        r=0, #right margin\n",
    "        b=0, #bottom margin\n",
    "        t=0  #top margin\n",
    "    )\n",
    ")\n",
    "\n",
    "\n",
    "fig.show()\n",
    "\n",
    "fig.write_image(\"../Results/geolocation_biannual_duration.pdf\")\n",
    "\n",
    "fig.write_html(\"../Results/InteractiveFigures/geolocation_biannual_duration.html\",full_html=False, include_plotlyjs='cdn')\n",
    "\n",
    "print('Avg: {}'.format(avg))\n",
    "\n"
   ]
  },
  {
   "cell_type": "markdown",
   "id": "c192e907",
   "metadata": {},
   "source": [
    "### Update Frequency"
   ]
  },
  {
   "cell_type": "code",
   "execution_count": 179,
   "id": "b05f7e3a",
   "metadata": {},
   "outputs": [
    {
     "data": {
      "application/vnd.plotly.v1+json": {
       "config": {
        "plotlyServerURL": "https://plot.ly"
       },
       "data": [
        {
         "coloraxis": "coloraxis",
         "geo": "geo",
         "hovertemplate": "<b>%{hovertext}</b><br><br>country_code=%{location}<br>avg_release_freq=%{z}<extra></extra>",
         "hovertext": [
          "SWE",
          "DZA",
          "BEL",
          "ISR",
          "CRI",
          "CAN",
          "AUS",
          "TTO",
          "PAK",
          "AUT",
          "MEX",
          "SGP",
          "GTM",
          "MKD",
          "PRY",
          "JAM",
          "TUN",
          "BRA",
          "AFG",
          "ARG",
          "SAU",
          "PNG",
          "ECU",
          "LBY",
          "FJI",
          "LKA",
          "USA",
          "UKR",
          "PER",
          "COL",
          "DEU",
          "URY",
          "IRN",
          "KHM",
          "NGA",
          "IND",
          "MYS",
          "TUR",
          "NZL",
          "ZAF",
          "THA",
          "MAR",
          "PRI",
          "KEN",
          "EGY",
          "IDN",
          "VNM",
          "ITA",
          "CHL",
          "PHL",
          "CZE",
          "CHE",
          "DOM",
          "IRQ",
          "BOL",
          "BIH",
          "NPL",
          "UZB",
          "PAN",
          "GBR",
          "SVN",
          "ARE",
          "FRA",
          "KAZ",
          "RUS",
          "HUN",
          "POL",
          "ESP",
          "HRV",
          "NLD",
          "BGD",
          "PRT",
          "CHN",
          "LUX",
          "ROU",
          "BGR",
          "TWN",
          "IRL",
          "ALB",
          "HKG",
          "GRC",
          "CYP",
          "SRB",
          "SLV",
          "HND",
          "KOR",
          "SVK",
          "NOR"
         ],
         "locationmode": "ISO-3",
         "locations": [
          "SWE",
          "DZA",
          "BEL",
          "ISR",
          "CRI",
          "CAN",
          "AUS",
          "TTO",
          "PAK",
          "AUT",
          "MEX",
          "SGP",
          "GTM",
          "MKD",
          "PRY",
          "JAM",
          "TUN",
          "BRA",
          "AFG",
          "ARG",
          "SAU",
          "PNG",
          "ECU",
          "LBY",
          "FJI",
          "LKA",
          "USA",
          "UKR",
          "PER",
          "COL",
          "DEU",
          "URY",
          "IRN",
          "KHM",
          "NGA",
          "IND",
          "MYS",
          "TUR",
          "NZL",
          "ZAF",
          "THA",
          "MAR",
          "PRI",
          "KEN",
          "EGY",
          "IDN",
          "VNM",
          "ITA",
          "CHL",
          "PHL",
          "CZE",
          "CHE",
          "DOM",
          "IRQ",
          "BOL",
          "BIH",
          "NPL",
          "UZB",
          "PAN",
          "GBR",
          "SVN",
          "ARE",
          "FRA",
          "KAZ",
          "RUS",
          "HUN",
          "POL",
          "ESP",
          "HRV",
          "NLD",
          "BGD",
          "PRT",
          "CHN",
          "LUX",
          "ROU",
          "BGR",
          "TWN",
          "IRL",
          "ALB",
          "HKG",
          "GRC",
          "CYP",
          "SRB",
          "SLV",
          "HND",
          "KOR",
          "SVK",
          "NOR"
         ],
         "name": "",
         "type": "choropleth",
         "z": [
          0,
          17.666666666666664,
          23.25,
          38.968614718614724,
          39.983333333333334,
          46.83,
          59.333333333333336,
          60.04093406593407,
          60.111428571428576,
          63.511607142857144,
          64.56146825396826,
          64.9067055393586,
          65.12845622119816,
          65.63888888888889,
          66.24011904761905,
          66.94696969696969,
          67.5195238095238,
          68.67480158730159,
          69.04246031746032,
          69.5750835421888,
          70.36731601731601,
          70.56111111111112,
          70.6796398046398,
          70.77069160997732,
          71.05238095238096,
          71.1968253968254,
          71.58110119047619,
          72.14041950113379,
          72.63548387096773,
          73.04728835978837,
          74.26559934318554,
          74.48375850340136,
          74.83809523809524,
          74.93253968253968,
          75.58295739348371,
          75.66106150793651,
          75.77619047619048,
          76.09597069597069,
          76.17843137254901,
          76.46695821185617,
          76.91950113378685,
          77.03395061728395,
          77.24004329004329,
          77.34690476190477,
          77.36753246753247,
          78.09489795918368,
          78.58746867167919,
          78.68905677655677,
          78.86933035714286,
          78.91863945578231,
          80.19721254355402,
          80.38459383753501,
          80.71803751803752,
          81.99920634920635,
          82.09892473118279,
          82.6016290726817,
          83.04688644688645,
          83.1202380952381,
          83.4029761904762,
          83.9541514041514,
          84.11438492063492,
          86.11934523809525,
          86.20542328042329,
          86.73065476190476,
          86.77416666666667,
          87.50649935649936,
          87.53928571428573,
          87.56371428571428,
          87.56575963718821,
          88.72007936507936,
          90.48874458874458,
          90.9433201058201,
          92.07455026455027,
          92.90051020408164,
          94.61132756132757,
          96.97164502164502,
          97.22466931216931,
          98.54870129870129,
          99,
          99.81041666666665,
          100.19086021505376,
          102.495,
          102.55173160173159,
          103.13333333333334,
          103.175,
          110.79761904761905,
          110.86609977324262,
          119
         ]
        }
       ],
       "layout": {
        "coloraxis": {
         "cmax": 116.03582792207793,
         "cmin": 38.67860930735931,
         "colorbar": {
          "len": 1,
          "nticks": 6,
          "orientation": "h",
          "tickangle": 0,
          "tickfont": {
           "color": "black",
           "size": 30
          },
          "title": {
           "font": {
            "size": 1
           },
           "text": "avg_release_freq"
          },
          "y": 0.06
         },
         "colorscale": [
          [
           0,
           "#0d0887"
          ],
          [
           0.1111111111111111,
           "#46039f"
          ],
          [
           0.2222222222222222,
           "#7201a8"
          ],
          [
           0.3333333333333333,
           "#9c179e"
          ],
          [
           0.4444444444444444,
           "#bd3786"
          ],
          [
           0.5555555555555556,
           "#d8576b"
          ],
          [
           0.6666666666666666,
           "#ed7953"
          ],
          [
           0.7777777777777778,
           "#fb9f3a"
          ],
          [
           0.8888888888888888,
           "#fdca26"
          ],
          [
           1,
           "#f0f921"
          ]
         ]
        },
        "geo": {
         "center": {},
         "domain": {
          "x": [
           0,
           1
          ],
          "y": [
           0,
           1
          ]
         }
        },
        "height": 600,
        "legend": {
         "tracegroupgap": 0
        },
        "margin": {
         "t": 60
        },
        "template": {
         "data": {
          "bar": [
           {
            "error_x": {
             "color": "#2a3f5f"
            },
            "error_y": {
             "color": "#2a3f5f"
            },
            "marker": {
             "line": {
              "color": "#E5ECF6",
              "width": 0.5
             },
             "pattern": {
              "fillmode": "overlay",
              "size": 10,
              "solidity": 0.2
             }
            },
            "type": "bar"
           }
          ],
          "barpolar": [
           {
            "marker": {
             "line": {
              "color": "#E5ECF6",
              "width": 0.5
             },
             "pattern": {
              "fillmode": "overlay",
              "size": 10,
              "solidity": 0.2
             }
            },
            "type": "barpolar"
           }
          ],
          "carpet": [
           {
            "aaxis": {
             "endlinecolor": "#2a3f5f",
             "gridcolor": "white",
             "linecolor": "white",
             "minorgridcolor": "white",
             "startlinecolor": "#2a3f5f"
            },
            "baxis": {
             "endlinecolor": "#2a3f5f",
             "gridcolor": "white",
             "linecolor": "white",
             "minorgridcolor": "white",
             "startlinecolor": "#2a3f5f"
            },
            "type": "carpet"
           }
          ],
          "choropleth": [
           {
            "colorbar": {
             "outlinewidth": 0,
             "ticks": ""
            },
            "type": "choropleth"
           }
          ],
          "contour": [
           {
            "colorbar": {
             "outlinewidth": 0,
             "ticks": ""
            },
            "colorscale": [
             [
              0,
              "#0d0887"
             ],
             [
              0.1111111111111111,
              "#46039f"
             ],
             [
              0.2222222222222222,
              "#7201a8"
             ],
             [
              0.3333333333333333,
              "#9c179e"
             ],
             [
              0.4444444444444444,
              "#bd3786"
             ],
             [
              0.5555555555555556,
              "#d8576b"
             ],
             [
              0.6666666666666666,
              "#ed7953"
             ],
             [
              0.7777777777777778,
              "#fb9f3a"
             ],
             [
              0.8888888888888888,
              "#fdca26"
             ],
             [
              1,
              "#f0f921"
             ]
            ],
            "type": "contour"
           }
          ],
          "contourcarpet": [
           {
            "colorbar": {
             "outlinewidth": 0,
             "ticks": ""
            },
            "type": "contourcarpet"
           }
          ],
          "heatmap": [
           {
            "colorbar": {
             "outlinewidth": 0,
             "ticks": ""
            },
            "colorscale": [
             [
              0,
              "#0d0887"
             ],
             [
              0.1111111111111111,
              "#46039f"
             ],
             [
              0.2222222222222222,
              "#7201a8"
             ],
             [
              0.3333333333333333,
              "#9c179e"
             ],
             [
              0.4444444444444444,
              "#bd3786"
             ],
             [
              0.5555555555555556,
              "#d8576b"
             ],
             [
              0.6666666666666666,
              "#ed7953"
             ],
             [
              0.7777777777777778,
              "#fb9f3a"
             ],
             [
              0.8888888888888888,
              "#fdca26"
             ],
             [
              1,
              "#f0f921"
             ]
            ],
            "type": "heatmap"
           }
          ],
          "heatmapgl": [
           {
            "colorbar": {
             "outlinewidth": 0,
             "ticks": ""
            },
            "colorscale": [
             [
              0,
              "#0d0887"
             ],
             [
              0.1111111111111111,
              "#46039f"
             ],
             [
              0.2222222222222222,
              "#7201a8"
             ],
             [
              0.3333333333333333,
              "#9c179e"
             ],
             [
              0.4444444444444444,
              "#bd3786"
             ],
             [
              0.5555555555555556,
              "#d8576b"
             ],
             [
              0.6666666666666666,
              "#ed7953"
             ],
             [
              0.7777777777777778,
              "#fb9f3a"
             ],
             [
              0.8888888888888888,
              "#fdca26"
             ],
             [
              1,
              "#f0f921"
             ]
            ],
            "type": "heatmapgl"
           }
          ],
          "histogram": [
           {
            "marker": {
             "pattern": {
              "fillmode": "overlay",
              "size": 10,
              "solidity": 0.2
             }
            },
            "type": "histogram"
           }
          ],
          "histogram2d": [
           {
            "colorbar": {
             "outlinewidth": 0,
             "ticks": ""
            },
            "colorscale": [
             [
              0,
              "#0d0887"
             ],
             [
              0.1111111111111111,
              "#46039f"
             ],
             [
              0.2222222222222222,
              "#7201a8"
             ],
             [
              0.3333333333333333,
              "#9c179e"
             ],
             [
              0.4444444444444444,
              "#bd3786"
             ],
             [
              0.5555555555555556,
              "#d8576b"
             ],
             [
              0.6666666666666666,
              "#ed7953"
             ],
             [
              0.7777777777777778,
              "#fb9f3a"
             ],
             [
              0.8888888888888888,
              "#fdca26"
             ],
             [
              1,
              "#f0f921"
             ]
            ],
            "type": "histogram2d"
           }
          ],
          "histogram2dcontour": [
           {
            "colorbar": {
             "outlinewidth": 0,
             "ticks": ""
            },
            "colorscale": [
             [
              0,
              "#0d0887"
             ],
             [
              0.1111111111111111,
              "#46039f"
             ],
             [
              0.2222222222222222,
              "#7201a8"
             ],
             [
              0.3333333333333333,
              "#9c179e"
             ],
             [
              0.4444444444444444,
              "#bd3786"
             ],
             [
              0.5555555555555556,
              "#d8576b"
             ],
             [
              0.6666666666666666,
              "#ed7953"
             ],
             [
              0.7777777777777778,
              "#fb9f3a"
             ],
             [
              0.8888888888888888,
              "#fdca26"
             ],
             [
              1,
              "#f0f921"
             ]
            ],
            "type": "histogram2dcontour"
           }
          ],
          "mesh3d": [
           {
            "colorbar": {
             "outlinewidth": 0,
             "ticks": ""
            },
            "type": "mesh3d"
           }
          ],
          "parcoords": [
           {
            "line": {
             "colorbar": {
              "outlinewidth": 0,
              "ticks": ""
             }
            },
            "type": "parcoords"
           }
          ],
          "pie": [
           {
            "automargin": true,
            "type": "pie"
           }
          ],
          "scatter": [
           {
            "fillpattern": {
             "fillmode": "overlay",
             "size": 10,
             "solidity": 0.2
            },
            "type": "scatter"
           }
          ],
          "scatter3d": [
           {
            "line": {
             "colorbar": {
              "outlinewidth": 0,
              "ticks": ""
             }
            },
            "marker": {
             "colorbar": {
              "outlinewidth": 0,
              "ticks": ""
             }
            },
            "type": "scatter3d"
           }
          ],
          "scattercarpet": [
           {
            "marker": {
             "colorbar": {
              "outlinewidth": 0,
              "ticks": ""
             }
            },
            "type": "scattercarpet"
           }
          ],
          "scattergeo": [
           {
            "marker": {
             "colorbar": {
              "outlinewidth": 0,
              "ticks": ""
             }
            },
            "type": "scattergeo"
           }
          ],
          "scattergl": [
           {
            "marker": {
             "colorbar": {
              "outlinewidth": 0,
              "ticks": ""
             }
            },
            "type": "scattergl"
           }
          ],
          "scattermapbox": [
           {
            "marker": {
             "colorbar": {
              "outlinewidth": 0,
              "ticks": ""
             }
            },
            "type": "scattermapbox"
           }
          ],
          "scatterpolar": [
           {
            "marker": {
             "colorbar": {
              "outlinewidth": 0,
              "ticks": ""
             }
            },
            "type": "scatterpolar"
           }
          ],
          "scatterpolargl": [
           {
            "marker": {
             "colorbar": {
              "outlinewidth": 0,
              "ticks": ""
             }
            },
            "type": "scatterpolargl"
           }
          ],
          "scatterternary": [
           {
            "marker": {
             "colorbar": {
              "outlinewidth": 0,
              "ticks": ""
             }
            },
            "type": "scatterternary"
           }
          ],
          "surface": [
           {
            "colorbar": {
             "outlinewidth": 0,
             "ticks": ""
            },
            "colorscale": [
             [
              0,
              "#0d0887"
             ],
             [
              0.1111111111111111,
              "#46039f"
             ],
             [
              0.2222222222222222,
              "#7201a8"
             ],
             [
              0.3333333333333333,
              "#9c179e"
             ],
             [
              0.4444444444444444,
              "#bd3786"
             ],
             [
              0.5555555555555556,
              "#d8576b"
             ],
             [
              0.6666666666666666,
              "#ed7953"
             ],
             [
              0.7777777777777778,
              "#fb9f3a"
             ],
             [
              0.8888888888888888,
              "#fdca26"
             ],
             [
              1,
              "#f0f921"
             ]
            ],
            "type": "surface"
           }
          ],
          "table": [
           {
            "cells": {
             "fill": {
              "color": "#EBF0F8"
             },
             "line": {
              "color": "white"
             }
            },
            "header": {
             "fill": {
              "color": "#C8D4E3"
             },
             "line": {
              "color": "white"
             }
            },
            "type": "table"
           }
          ]
         },
         "layout": {
          "annotationdefaults": {
           "arrowcolor": "#2a3f5f",
           "arrowhead": 0,
           "arrowwidth": 1
          },
          "autotypenumbers": "strict",
          "coloraxis": {
           "colorbar": {
            "outlinewidth": 0,
            "ticks": ""
           }
          },
          "colorscale": {
           "diverging": [
            [
             0,
             "#8e0152"
            ],
            [
             0.1,
             "#c51b7d"
            ],
            [
             0.2,
             "#de77ae"
            ],
            [
             0.3,
             "#f1b6da"
            ],
            [
             0.4,
             "#fde0ef"
            ],
            [
             0.5,
             "#f7f7f7"
            ],
            [
             0.6,
             "#e6f5d0"
            ],
            [
             0.7,
             "#b8e186"
            ],
            [
             0.8,
             "#7fbc41"
            ],
            [
             0.9,
             "#4d9221"
            ],
            [
             1,
             "#276419"
            ]
           ],
           "sequential": [
            [
             0,
             "#0d0887"
            ],
            [
             0.1111111111111111,
             "#46039f"
            ],
            [
             0.2222222222222222,
             "#7201a8"
            ],
            [
             0.3333333333333333,
             "#9c179e"
            ],
            [
             0.4444444444444444,
             "#bd3786"
            ],
            [
             0.5555555555555556,
             "#d8576b"
            ],
            [
             0.6666666666666666,
             "#ed7953"
            ],
            [
             0.7777777777777778,
             "#fb9f3a"
            ],
            [
             0.8888888888888888,
             "#fdca26"
            ],
            [
             1,
             "#f0f921"
            ]
           ],
           "sequentialminus": [
            [
             0,
             "#0d0887"
            ],
            [
             0.1111111111111111,
             "#46039f"
            ],
            [
             0.2222222222222222,
             "#7201a8"
            ],
            [
             0.3333333333333333,
             "#9c179e"
            ],
            [
             0.4444444444444444,
             "#bd3786"
            ],
            [
             0.5555555555555556,
             "#d8576b"
            ],
            [
             0.6666666666666666,
             "#ed7953"
            ],
            [
             0.7777777777777778,
             "#fb9f3a"
            ],
            [
             0.8888888888888888,
             "#fdca26"
            ],
            [
             1,
             "#f0f921"
            ]
           ]
          },
          "colorway": [
           "#636efa",
           "#EF553B",
           "#00cc96",
           "#ab63fa",
           "#FFA15A",
           "#19d3f3",
           "#FF6692",
           "#B6E880",
           "#FF97FF",
           "#FECB52"
          ],
          "font": {
           "color": "#2a3f5f"
          },
          "geo": {
           "bgcolor": "white",
           "lakecolor": "white",
           "landcolor": "#E5ECF6",
           "showlakes": true,
           "showland": true,
           "subunitcolor": "white"
          },
          "hoverlabel": {
           "align": "left"
          },
          "hovermode": "closest",
          "mapbox": {
           "style": "light"
          },
          "paper_bgcolor": "white",
          "plot_bgcolor": "#E5ECF6",
          "polar": {
           "angularaxis": {
            "gridcolor": "white",
            "linecolor": "white",
            "ticks": ""
           },
           "bgcolor": "#E5ECF6",
           "radialaxis": {
            "gridcolor": "white",
            "linecolor": "white",
            "ticks": ""
           }
          },
          "scene": {
           "xaxis": {
            "backgroundcolor": "#E5ECF6",
            "gridcolor": "white",
            "gridwidth": 2,
            "linecolor": "white",
            "showbackground": true,
            "ticks": "",
            "zerolinecolor": "white"
           },
           "yaxis": {
            "backgroundcolor": "#E5ECF6",
            "gridcolor": "white",
            "gridwidth": 2,
            "linecolor": "white",
            "showbackground": true,
            "ticks": "",
            "zerolinecolor": "white"
           },
           "zaxis": {
            "backgroundcolor": "#E5ECF6",
            "gridcolor": "white",
            "gridwidth": 2,
            "linecolor": "white",
            "showbackground": true,
            "ticks": "",
            "zerolinecolor": "white"
           }
          },
          "shapedefaults": {
           "line": {
            "color": "#2a3f5f"
           }
          },
          "ternary": {
           "aaxis": {
            "gridcolor": "white",
            "linecolor": "white",
            "ticks": ""
           },
           "baxis": {
            "gridcolor": "white",
            "linecolor": "white",
            "ticks": ""
           },
           "bgcolor": "#E5ECF6",
           "caxis": {
            "gridcolor": "white",
            "linecolor": "white",
            "ticks": ""
           }
          },
          "title": {
           "x": 0.05
          },
          "xaxis": {
           "automargin": true,
           "gridcolor": "white",
           "linecolor": "white",
           "ticks": "",
           "title": {
            "standoff": 15
           },
           "zerolinecolor": "white",
           "zerolinewidth": 2
          },
          "yaxis": {
           "automargin": true,
           "gridcolor": "white",
           "linecolor": "white",
           "ticks": "",
           "title": {
            "standoff": 15
           },
           "zerolinecolor": "white",
           "zerolinewidth": 2
          }
         }
        },
        "width": 800
       }
      },
      "text/html": [
       "<div>                            <div id=\"9a3ec5f3-5642-4c94-acb4-a457010afc39\" class=\"plotly-graph-div\" style=\"height:600px; width:800px;\"></div>            <script type=\"text/javascript\">                require([\"plotly\"], function(Plotly) {                    window.PLOTLYENV=window.PLOTLYENV || {};                                    if (document.getElementById(\"9a3ec5f3-5642-4c94-acb4-a457010afc39\")) {                    Plotly.newPlot(                        \"9a3ec5f3-5642-4c94-acb4-a457010afc39\",                        [{\"coloraxis\":\"coloraxis\",\"geo\":\"geo\",\"hovertemplate\":\"<b>%{hovertext}</b><br><br>country_code=%{location}<br>avg_release_freq=%{z}<extra></extra>\",\"hovertext\":[\"SWE\",\"DZA\",\"BEL\",\"ISR\",\"CRI\",\"CAN\",\"AUS\",\"TTO\",\"PAK\",\"AUT\",\"MEX\",\"SGP\",\"GTM\",\"MKD\",\"PRY\",\"JAM\",\"TUN\",\"BRA\",\"AFG\",\"ARG\",\"SAU\",\"PNG\",\"ECU\",\"LBY\",\"FJI\",\"LKA\",\"USA\",\"UKR\",\"PER\",\"COL\",\"DEU\",\"URY\",\"IRN\",\"KHM\",\"NGA\",\"IND\",\"MYS\",\"TUR\",\"NZL\",\"ZAF\",\"THA\",\"MAR\",\"PRI\",\"KEN\",\"EGY\",\"IDN\",\"VNM\",\"ITA\",\"CHL\",\"PHL\",\"CZE\",\"CHE\",\"DOM\",\"IRQ\",\"BOL\",\"BIH\",\"NPL\",\"UZB\",\"PAN\",\"GBR\",\"SVN\",\"ARE\",\"FRA\",\"KAZ\",\"RUS\",\"HUN\",\"POL\",\"ESP\",\"HRV\",\"NLD\",\"BGD\",\"PRT\",\"CHN\",\"LUX\",\"ROU\",\"BGR\",\"TWN\",\"IRL\",\"ALB\",\"HKG\",\"GRC\",\"CYP\",\"SRB\",\"SLV\",\"HND\",\"KOR\",\"SVK\",\"NOR\"],\"locationmode\":\"ISO-3\",\"locations\":[\"SWE\",\"DZA\",\"BEL\",\"ISR\",\"CRI\",\"CAN\",\"AUS\",\"TTO\",\"PAK\",\"AUT\",\"MEX\",\"SGP\",\"GTM\",\"MKD\",\"PRY\",\"JAM\",\"TUN\",\"BRA\",\"AFG\",\"ARG\",\"SAU\",\"PNG\",\"ECU\",\"LBY\",\"FJI\",\"LKA\",\"USA\",\"UKR\",\"PER\",\"COL\",\"DEU\",\"URY\",\"IRN\",\"KHM\",\"NGA\",\"IND\",\"MYS\",\"TUR\",\"NZL\",\"ZAF\",\"THA\",\"MAR\",\"PRI\",\"KEN\",\"EGY\",\"IDN\",\"VNM\",\"ITA\",\"CHL\",\"PHL\",\"CZE\",\"CHE\",\"DOM\",\"IRQ\",\"BOL\",\"BIH\",\"NPL\",\"UZB\",\"PAN\",\"GBR\",\"SVN\",\"ARE\",\"FRA\",\"KAZ\",\"RUS\",\"HUN\",\"POL\",\"ESP\",\"HRV\",\"NLD\",\"BGD\",\"PRT\",\"CHN\",\"LUX\",\"ROU\",\"BGR\",\"TWN\",\"IRL\",\"ALB\",\"HKG\",\"GRC\",\"CYP\",\"SRB\",\"SLV\",\"HND\",\"KOR\",\"SVK\",\"NOR\"],\"name\":\"\",\"z\":[0.0,17.666666666666664,23.25,38.968614718614724,39.983333333333334,46.83,59.333333333333336,60.04093406593407,60.111428571428576,63.511607142857144,64.56146825396826,64.9067055393586,65.12845622119816,65.63888888888889,66.24011904761905,66.94696969696969,67.5195238095238,68.67480158730159,69.04246031746032,69.5750835421888,70.36731601731601,70.56111111111112,70.6796398046398,70.77069160997732,71.05238095238096,71.1968253968254,71.58110119047619,72.14041950113379,72.63548387096773,73.04728835978837,74.26559934318554,74.48375850340136,74.83809523809524,74.93253968253968,75.58295739348371,75.66106150793651,75.77619047619048,76.09597069597069,76.17843137254901,76.46695821185617,76.91950113378685,77.03395061728395,77.24004329004329,77.34690476190477,77.36753246753247,78.09489795918368,78.58746867167919,78.68905677655677,78.86933035714286,78.91863945578231,80.19721254355402,80.38459383753501,80.71803751803752,81.99920634920635,82.09892473118279,82.6016290726817,83.04688644688645,83.1202380952381,83.4029761904762,83.9541514041514,84.11438492063492,86.11934523809525,86.20542328042329,86.73065476190476,86.77416666666667,87.50649935649936,87.53928571428573,87.56371428571428,87.56575963718821,88.72007936507936,90.48874458874458,90.9433201058201,92.07455026455027,92.90051020408164,94.61132756132757,96.97164502164502,97.22466931216931,98.54870129870129,99.0,99.81041666666665,100.19086021505376,102.495,102.55173160173159,103.13333333333334,103.175,110.79761904761905,110.86609977324262,119.0],\"type\":\"choropleth\"}],                        {\"template\":{\"data\":{\"histogram2dcontour\":[{\"type\":\"histogram2dcontour\",\"colorbar\":{\"outlinewidth\":0,\"ticks\":\"\"},\"colorscale\":[[0.0,\"#0d0887\"],[0.1111111111111111,\"#46039f\"],[0.2222222222222222,\"#7201a8\"],[0.3333333333333333,\"#9c179e\"],[0.4444444444444444,\"#bd3786\"],[0.5555555555555556,\"#d8576b\"],[0.6666666666666666,\"#ed7953\"],[0.7777777777777778,\"#fb9f3a\"],[0.8888888888888888,\"#fdca26\"],[1.0,\"#f0f921\"]]}],\"choropleth\":[{\"type\":\"choropleth\",\"colorbar\":{\"outlinewidth\":0,\"ticks\":\"\"}}],\"histogram2d\":[{\"type\":\"histogram2d\",\"colorbar\":{\"outlinewidth\":0,\"ticks\":\"\"},\"colorscale\":[[0.0,\"#0d0887\"],[0.1111111111111111,\"#46039f\"],[0.2222222222222222,\"#7201a8\"],[0.3333333333333333,\"#9c179e\"],[0.4444444444444444,\"#bd3786\"],[0.5555555555555556,\"#d8576b\"],[0.6666666666666666,\"#ed7953\"],[0.7777777777777778,\"#fb9f3a\"],[0.8888888888888888,\"#fdca26\"],[1.0,\"#f0f921\"]]}],\"heatmap\":[{\"type\":\"heatmap\",\"colorbar\":{\"outlinewidth\":0,\"ticks\":\"\"},\"colorscale\":[[0.0,\"#0d0887\"],[0.1111111111111111,\"#46039f\"],[0.2222222222222222,\"#7201a8\"],[0.3333333333333333,\"#9c179e\"],[0.4444444444444444,\"#bd3786\"],[0.5555555555555556,\"#d8576b\"],[0.6666666666666666,\"#ed7953\"],[0.7777777777777778,\"#fb9f3a\"],[0.8888888888888888,\"#fdca26\"],[1.0,\"#f0f921\"]]}],\"heatmapgl\":[{\"type\":\"heatmapgl\",\"colorbar\":{\"outlinewidth\":0,\"ticks\":\"\"},\"colorscale\":[[0.0,\"#0d0887\"],[0.1111111111111111,\"#46039f\"],[0.2222222222222222,\"#7201a8\"],[0.3333333333333333,\"#9c179e\"],[0.4444444444444444,\"#bd3786\"],[0.5555555555555556,\"#d8576b\"],[0.6666666666666666,\"#ed7953\"],[0.7777777777777778,\"#fb9f3a\"],[0.8888888888888888,\"#fdca26\"],[1.0,\"#f0f921\"]]}],\"contourcarpet\":[{\"type\":\"contourcarpet\",\"colorbar\":{\"outlinewidth\":0,\"ticks\":\"\"}}],\"contour\":[{\"type\":\"contour\",\"colorbar\":{\"outlinewidth\":0,\"ticks\":\"\"},\"colorscale\":[[0.0,\"#0d0887\"],[0.1111111111111111,\"#46039f\"],[0.2222222222222222,\"#7201a8\"],[0.3333333333333333,\"#9c179e\"],[0.4444444444444444,\"#bd3786\"],[0.5555555555555556,\"#d8576b\"],[0.6666666666666666,\"#ed7953\"],[0.7777777777777778,\"#fb9f3a\"],[0.8888888888888888,\"#fdca26\"],[1.0,\"#f0f921\"]]}],\"surface\":[{\"type\":\"surface\",\"colorbar\":{\"outlinewidth\":0,\"ticks\":\"\"},\"colorscale\":[[0.0,\"#0d0887\"],[0.1111111111111111,\"#46039f\"],[0.2222222222222222,\"#7201a8\"],[0.3333333333333333,\"#9c179e\"],[0.4444444444444444,\"#bd3786\"],[0.5555555555555556,\"#d8576b\"],[0.6666666666666666,\"#ed7953\"],[0.7777777777777778,\"#fb9f3a\"],[0.8888888888888888,\"#fdca26\"],[1.0,\"#f0f921\"]]}],\"mesh3d\":[{\"type\":\"mesh3d\",\"colorbar\":{\"outlinewidth\":0,\"ticks\":\"\"}}],\"scatter\":[{\"fillpattern\":{\"fillmode\":\"overlay\",\"size\":10,\"solidity\":0.2},\"type\":\"scatter\"}],\"parcoords\":[{\"type\":\"parcoords\",\"line\":{\"colorbar\":{\"outlinewidth\":0,\"ticks\":\"\"}}}],\"scatterpolargl\":[{\"type\":\"scatterpolargl\",\"marker\":{\"colorbar\":{\"outlinewidth\":0,\"ticks\":\"\"}}}],\"bar\":[{\"error_x\":{\"color\":\"#2a3f5f\"},\"error_y\":{\"color\":\"#2a3f5f\"},\"marker\":{\"line\":{\"color\":\"#E5ECF6\",\"width\":0.5},\"pattern\":{\"fillmode\":\"overlay\",\"size\":10,\"solidity\":0.2}},\"type\":\"bar\"}],\"scattergeo\":[{\"type\":\"scattergeo\",\"marker\":{\"colorbar\":{\"outlinewidth\":0,\"ticks\":\"\"}}}],\"scatterpolar\":[{\"type\":\"scatterpolar\",\"marker\":{\"colorbar\":{\"outlinewidth\":0,\"ticks\":\"\"}}}],\"histogram\":[{\"marker\":{\"pattern\":{\"fillmode\":\"overlay\",\"size\":10,\"solidity\":0.2}},\"type\":\"histogram\"}],\"scattergl\":[{\"type\":\"scattergl\",\"marker\":{\"colorbar\":{\"outlinewidth\":0,\"ticks\":\"\"}}}],\"scatter3d\":[{\"type\":\"scatter3d\",\"line\":{\"colorbar\":{\"outlinewidth\":0,\"ticks\":\"\"}},\"marker\":{\"colorbar\":{\"outlinewidth\":0,\"ticks\":\"\"}}}],\"scattermapbox\":[{\"type\":\"scattermapbox\",\"marker\":{\"colorbar\":{\"outlinewidth\":0,\"ticks\":\"\"}}}],\"scatterternary\":[{\"type\":\"scatterternary\",\"marker\":{\"colorbar\":{\"outlinewidth\":0,\"ticks\":\"\"}}}],\"scattercarpet\":[{\"type\":\"scattercarpet\",\"marker\":{\"colorbar\":{\"outlinewidth\":0,\"ticks\":\"\"}}}],\"carpet\":[{\"aaxis\":{\"endlinecolor\":\"#2a3f5f\",\"gridcolor\":\"white\",\"linecolor\":\"white\",\"minorgridcolor\":\"white\",\"startlinecolor\":\"#2a3f5f\"},\"baxis\":{\"endlinecolor\":\"#2a3f5f\",\"gridcolor\":\"white\",\"linecolor\":\"white\",\"minorgridcolor\":\"white\",\"startlinecolor\":\"#2a3f5f\"},\"type\":\"carpet\"}],\"table\":[{\"cells\":{\"fill\":{\"color\":\"#EBF0F8\"},\"line\":{\"color\":\"white\"}},\"header\":{\"fill\":{\"color\":\"#C8D4E3\"},\"line\":{\"color\":\"white\"}},\"type\":\"table\"}],\"barpolar\":[{\"marker\":{\"line\":{\"color\":\"#E5ECF6\",\"width\":0.5},\"pattern\":{\"fillmode\":\"overlay\",\"size\":10,\"solidity\":0.2}},\"type\":\"barpolar\"}],\"pie\":[{\"automargin\":true,\"type\":\"pie\"}]},\"layout\":{\"autotypenumbers\":\"strict\",\"colorway\":[\"#636efa\",\"#EF553B\",\"#00cc96\",\"#ab63fa\",\"#FFA15A\",\"#19d3f3\",\"#FF6692\",\"#B6E880\",\"#FF97FF\",\"#FECB52\"],\"font\":{\"color\":\"#2a3f5f\"},\"hovermode\":\"closest\",\"hoverlabel\":{\"align\":\"left\"},\"paper_bgcolor\":\"white\",\"plot_bgcolor\":\"#E5ECF6\",\"polar\":{\"bgcolor\":\"#E5ECF6\",\"angularaxis\":{\"gridcolor\":\"white\",\"linecolor\":\"white\",\"ticks\":\"\"},\"radialaxis\":{\"gridcolor\":\"white\",\"linecolor\":\"white\",\"ticks\":\"\"}},\"ternary\":{\"bgcolor\":\"#E5ECF6\",\"aaxis\":{\"gridcolor\":\"white\",\"linecolor\":\"white\",\"ticks\":\"\"},\"baxis\":{\"gridcolor\":\"white\",\"linecolor\":\"white\",\"ticks\":\"\"},\"caxis\":{\"gridcolor\":\"white\",\"linecolor\":\"white\",\"ticks\":\"\"}},\"coloraxis\":{\"colorbar\":{\"outlinewidth\":0,\"ticks\":\"\"}},\"colorscale\":{\"sequential\":[[0.0,\"#0d0887\"],[0.1111111111111111,\"#46039f\"],[0.2222222222222222,\"#7201a8\"],[0.3333333333333333,\"#9c179e\"],[0.4444444444444444,\"#bd3786\"],[0.5555555555555556,\"#d8576b\"],[0.6666666666666666,\"#ed7953\"],[0.7777777777777778,\"#fb9f3a\"],[0.8888888888888888,\"#fdca26\"],[1.0,\"#f0f921\"]],\"sequentialminus\":[[0.0,\"#0d0887\"],[0.1111111111111111,\"#46039f\"],[0.2222222222222222,\"#7201a8\"],[0.3333333333333333,\"#9c179e\"],[0.4444444444444444,\"#bd3786\"],[0.5555555555555556,\"#d8576b\"],[0.6666666666666666,\"#ed7953\"],[0.7777777777777778,\"#fb9f3a\"],[0.8888888888888888,\"#fdca26\"],[1.0,\"#f0f921\"]],\"diverging\":[[0,\"#8e0152\"],[0.1,\"#c51b7d\"],[0.2,\"#de77ae\"],[0.3,\"#f1b6da\"],[0.4,\"#fde0ef\"],[0.5,\"#f7f7f7\"],[0.6,\"#e6f5d0\"],[0.7,\"#b8e186\"],[0.8,\"#7fbc41\"],[0.9,\"#4d9221\"],[1,\"#276419\"]]},\"xaxis\":{\"gridcolor\":\"white\",\"linecolor\":\"white\",\"ticks\":\"\",\"title\":{\"standoff\":15},\"zerolinecolor\":\"white\",\"automargin\":true,\"zerolinewidth\":2},\"yaxis\":{\"gridcolor\":\"white\",\"linecolor\":\"white\",\"ticks\":\"\",\"title\":{\"standoff\":15},\"zerolinecolor\":\"white\",\"automargin\":true,\"zerolinewidth\":2},\"scene\":{\"xaxis\":{\"backgroundcolor\":\"#E5ECF6\",\"gridcolor\":\"white\",\"linecolor\":\"white\",\"showbackground\":true,\"ticks\":\"\",\"zerolinecolor\":\"white\",\"gridwidth\":2},\"yaxis\":{\"backgroundcolor\":\"#E5ECF6\",\"gridcolor\":\"white\",\"linecolor\":\"white\",\"showbackground\":true,\"ticks\":\"\",\"zerolinecolor\":\"white\",\"gridwidth\":2},\"zaxis\":{\"backgroundcolor\":\"#E5ECF6\",\"gridcolor\":\"white\",\"linecolor\":\"white\",\"showbackground\":true,\"ticks\":\"\",\"zerolinecolor\":\"white\",\"gridwidth\":2}},\"shapedefaults\":{\"line\":{\"color\":\"#2a3f5f\"}},\"annotationdefaults\":{\"arrowcolor\":\"#2a3f5f\",\"arrowhead\":0,\"arrowwidth\":1},\"geo\":{\"bgcolor\":\"white\",\"landcolor\":\"#E5ECF6\",\"subunitcolor\":\"white\",\"showland\":true,\"showlakes\":true,\"lakecolor\":\"white\"},\"title\":{\"x\":0.05},\"mapbox\":{\"style\":\"light\"}}},\"geo\":{\"domain\":{\"x\":[0.0,1.0],\"y\":[0.0,1.0]},\"center\":{}},\"coloraxis\":{\"colorbar\":{\"title\":{\"text\":\"avg_release_freq\",\"font\":{\"size\":1}},\"tickfont\":{\"size\":30,\"color\":\"black\"},\"nticks\":6,\"orientation\":\"h\",\"len\":1,\"y\":0.06,\"tickangle\":0},\"colorscale\":[[0.0,\"#0d0887\"],[0.1111111111111111,\"#46039f\"],[0.2222222222222222,\"#7201a8\"],[0.3333333333333333,\"#9c179e\"],[0.4444444444444444,\"#bd3786\"],[0.5555555555555556,\"#d8576b\"],[0.6666666666666666,\"#ed7953\"],[0.7777777777777778,\"#fb9f3a\"],[0.8888888888888888,\"#fdca26\"],[1.0,\"#f0f921\"]],\"cmin\":38.67860930735931,\"cmax\":116.03582792207793},\"legend\":{\"tracegroupgap\":0},\"margin\":{\"t\":60},\"width\":800,\"height\":600},                        {\"responsive\": true}                    ).then(function(){\n",
       "                            \n",
       "var gd = document.getElementById('9a3ec5f3-5642-4c94-acb4-a457010afc39');\n",
       "var x = new MutationObserver(function (mutations, observer) {{\n",
       "        var display = window.getComputedStyle(gd).display;\n",
       "        if (!display || display === 'none') {{\n",
       "            console.log([gd, 'removed!']);\n",
       "            Plotly.purge(gd);\n",
       "            observer.disconnect();\n",
       "        }}\n",
       "}});\n",
       "\n",
       "// Listen for the removal of the full notebook cells\n",
       "var notebookContainer = gd.closest('#notebook-container');\n",
       "if (notebookContainer) {{\n",
       "    x.observe(notebookContainer, {childList: true});\n",
       "}}\n",
       "\n",
       "// Listen for the clearing of the current output cell\n",
       "var outputEl = gd.closest('.output');\n",
       "if (outputEl) {{\n",
       "    x.observe(outputEl, {childList: true});\n",
       "}}\n",
       "\n",
       "                        })                };                });            </script>        </div>"
      ]
     },
     "metadata": {},
     "output_type": "display_data"
    },
    {
     "name": "stdout",
     "output_type": "stream",
     "text": [
      "Avg: 77.35721861471862\n"
     ]
    }
   ],
   "source": [
    "p = 'avg_release_freq'\n",
    "\n",
    "values_to_plot = df_final_samsung_biannual.groupby(['iso_code'])[p].mean().sort_values(ascending=True)\n",
    "avg = values_to_plot.median()\n",
    "\n",
    "df_plot = pd.DataFrame(values_to_plot.values,columns=[p])\n",
    "df_plot['country_code'] = values_to_plot.index\n",
    "\n",
    "fig = px.choropleth(df_plot, locations=\"country_code\",\n",
    "                    locationmode='ISO-3',\n",
    "                    color= p,\n",
    "                    hover_name=\"country_code\",\n",
    "                    color_continuous_scale=px.colors.sequential.Plasma,\n",
    "                    range_color=(0.5*avg,1.5*avg))\n",
    "\n",
    "fig.update_layout(\n",
    "        width=800,\n",
    "        height=600,\n",
    "        coloraxis=dict(\n",
    "            colorbar_nticks=6,\n",
    "            colorbar_orientation='h',\n",
    "            #colorbar_borderwidth = 2,\n",
    "            colorbar_len=1,\n",
    "            colorbar_y=+0.06,\n",
    "            #colorbar_ticksuffix=' days',\n",
    "            colorbar_title_font_size=1,\n",
    "            colorbar=dict(\n",
    "                #title_side='bottom',\n",
    "                tickangle=0,\n",
    "                tickfont=dict(size=30, color='black'))\n",
    "            )\n",
    ")\n",
    "\n",
    "layout = go.Layout(\n",
    "  margin=go.layout.Margin(\n",
    "        l=0, #left margin\n",
    "        r=0, #right margin\n",
    "        b=0, #bottom margin\n",
    "        t=0  #top margin\n",
    "    )\n",
    ")\n",
    "\n",
    "\n",
    "fig.show()\n",
    "\n",
    "fig.write_image(\"../Results/geolocation_biannual_frequency.pdf\")\n",
    "\n",
    "fig.write_html(\"../Results/InteractiveFigures/geolocation_biannual_frequency.html\",full_html=False, include_plotlyjs='cdn')\n",
    "\n",
    "print('Avg: {}'.format(avg))\n",
    "\n"
   ]
  },
  {
   "cell_type": "markdown",
   "id": "4c506fc0",
   "metadata": {},
   "source": [
    "### Release Delay"
   ]
  },
  {
   "cell_type": "code",
   "execution_count": 180,
   "id": "6976989b",
   "metadata": {},
   "outputs": [
    {
     "data": {
      "application/vnd.plotly.v1+json": {
       "config": {
        "plotlyServerURL": "https://plot.ly"
       },
       "data": [
        {
         "coloraxis": "coloraxis",
         "geo": "geo",
         "hovertemplate": "<b>%{hovertext}</b><br><br>country_code=%{location}<br>avg_release_delay=%{z}<extra></extra>",
         "hovertext": [
          "SWE",
          "KOR",
          "CAN",
          "USA",
          "DZA",
          "PRI",
          "PHL",
          "THA",
          "KHM",
          "DEU",
          "VNM",
          "CYP",
          "AUT",
          "NLD",
          "IDN",
          "TWN",
          "MYS",
          "KAZ",
          "MKD",
          "ISR",
          "RUS",
          "HRV",
          "ROU",
          "GRC",
          "IND",
          "LBY",
          "UZB",
          "TTO",
          "LUX",
          "HUN",
          "GBR",
          "AUS",
          "PRT",
          "URY",
          "SVK",
          "HND",
          "PAK",
          "CHN",
          "SLV",
          "TUR",
          "NPL",
          "FJI",
          "HKG",
          "PAN",
          "TUN",
          "CHE",
          "UKR",
          "ESP",
          "PNG",
          "EGY",
          "LKA",
          "SVN",
          "CZE",
          "ITA",
          "BRA",
          "BGR",
          "SGP",
          "PRY",
          "AFG",
          "SAU",
          "IRL",
          "BEL",
          "IRN",
          "COL",
          "POL",
          "ARE",
          "FRA",
          "NGA",
          "BOL",
          "NOR",
          "MAR",
          "DOM",
          "GTM",
          "KEN",
          "ARG",
          "NZL",
          "BIH",
          "IRQ",
          "ZAF",
          "MEX",
          "BGD",
          "PER",
          "SRB",
          "ECU",
          "CHL",
          "JAM",
          "ALB",
          "CRI"
         ],
         "locationmode": "ISO-3",
         "locations": [
          "SWE",
          "KOR",
          "CAN",
          "USA",
          "DZA",
          "PRI",
          "PHL",
          "THA",
          "KHM",
          "DEU",
          "VNM",
          "CYP",
          "AUT",
          "NLD",
          "IDN",
          "TWN",
          "MYS",
          "KAZ",
          "MKD",
          "ISR",
          "RUS",
          "HRV",
          "ROU",
          "GRC",
          "IND",
          "LBY",
          "UZB",
          "TTO",
          "LUX",
          "HUN",
          "GBR",
          "AUS",
          "PRT",
          "URY",
          "SVK",
          "HND",
          "PAK",
          "CHN",
          "SLV",
          "TUR",
          "NPL",
          "FJI",
          "HKG",
          "PAN",
          "TUN",
          "CHE",
          "UKR",
          "ESP",
          "PNG",
          "EGY",
          "LKA",
          "SVN",
          "CZE",
          "ITA",
          "BRA",
          "BGR",
          "SGP",
          "PRY",
          "AFG",
          "SAU",
          "IRL",
          "BEL",
          "IRN",
          "COL",
          "POL",
          "ARE",
          "FRA",
          "NGA",
          "BOL",
          "NOR",
          "MAR",
          "DOM",
          "GTM",
          "KEN",
          "ARG",
          "NZL",
          "BIH",
          "IRQ",
          "ZAF",
          "MEX",
          "BGD",
          "PER",
          "SRB",
          "ECU",
          "CHL",
          "JAM",
          "ALB",
          "CRI"
         ],
         "name": "",
         "type": "choropleth",
         "z": [
          16,
          35.111111111111114,
          38.48,
          46.25,
          51.2,
          52.1,
          55.25714285714286,
          57.285714285714285,
          57.55555555555556,
          58.62068965517241,
          60.26315789473684,
          61.3,
          61.725,
          61.96666666666667,
          62.476190476190474,
          62.611111111111114,
          62.94736842105263,
          63.875,
          64.66666666666667,
          65.18181818181819,
          66.05,
          67.04761904761905,
          67.36363636363636,
          67.54838709677419,
          67.625,
          68.52380952380952,
          68.625,
          68.65384615384616,
          69,
          69.08108108108108,
          69.38461538461539,
          69.66666666666667,
          69.97222222222223,
          70.14285714285714,
          70.52380952380952,
          70.625,
          70.65,
          70.66666666666667,
          70.75,
          70.88461538461539,
          70.92307692307692,
          71.14285714285714,
          71.16666666666667,
          71.41304347826087,
          71.55,
          71.58823529411765,
          71.71428571428571,
          72,
          72,
          72.13636363636364,
          72.16666666666667,
          72.375,
          72.4390243902439,
          72.5,
          72.75,
          72.9090909090909,
          72.9795918367347,
          73.26666666666667,
          73.27777777777777,
          73.54545454545455,
          73.77272727272727,
          74,
          74.73684210526316,
          75.0925925925926,
          75.59615384615384,
          75.625,
          75.72222222222223,
          75.84210526315789,
          76,
          76,
          76.4074074074074,
          76.87878787878788,
          77.16129032258064,
          77.5,
          78.36842105263158,
          78.82352941176471,
          80.21052631578948,
          81.04761904761905,
          81.24489795918367,
          82.96610169491525,
          85.9090909090909,
          87.29032258064517,
          87.45454545454545,
          91.57894736842105,
          95.8375,
          99.63636363636364,
          120,
          121.125
         ]
        }
       ],
       "layout": {
        "coloraxis": {
         "cmax": 107.22228260869566,
         "cmin": 35.74076086956522,
         "colorbar": {
          "len": 1,
          "nticks": 6,
          "orientation": "h",
          "tickangle": 0,
          "tickfont": {
           "color": "black",
           "size": 30
          },
          "title": {
           "font": {
            "size": 1
           },
           "text": "avg_release_delay"
          },
          "y": 0.06
         },
         "colorscale": [
          [
           0,
           "#0d0887"
          ],
          [
           0.1111111111111111,
           "#46039f"
          ],
          [
           0.2222222222222222,
           "#7201a8"
          ],
          [
           0.3333333333333333,
           "#9c179e"
          ],
          [
           0.4444444444444444,
           "#bd3786"
          ],
          [
           0.5555555555555556,
           "#d8576b"
          ],
          [
           0.6666666666666666,
           "#ed7953"
          ],
          [
           0.7777777777777778,
           "#fb9f3a"
          ],
          [
           0.8888888888888888,
           "#fdca26"
          ],
          [
           1,
           "#f0f921"
          ]
         ]
        },
        "geo": {
         "center": {},
         "domain": {
          "x": [
           0,
           1
          ],
          "y": [
           0,
           1
          ]
         }
        },
        "height": 600,
        "legend": {
         "tracegroupgap": 0
        },
        "margin": {
         "t": 60
        },
        "template": {
         "data": {
          "bar": [
           {
            "error_x": {
             "color": "#2a3f5f"
            },
            "error_y": {
             "color": "#2a3f5f"
            },
            "marker": {
             "line": {
              "color": "#E5ECF6",
              "width": 0.5
             },
             "pattern": {
              "fillmode": "overlay",
              "size": 10,
              "solidity": 0.2
             }
            },
            "type": "bar"
           }
          ],
          "barpolar": [
           {
            "marker": {
             "line": {
              "color": "#E5ECF6",
              "width": 0.5
             },
             "pattern": {
              "fillmode": "overlay",
              "size": 10,
              "solidity": 0.2
             }
            },
            "type": "barpolar"
           }
          ],
          "carpet": [
           {
            "aaxis": {
             "endlinecolor": "#2a3f5f",
             "gridcolor": "white",
             "linecolor": "white",
             "minorgridcolor": "white",
             "startlinecolor": "#2a3f5f"
            },
            "baxis": {
             "endlinecolor": "#2a3f5f",
             "gridcolor": "white",
             "linecolor": "white",
             "minorgridcolor": "white",
             "startlinecolor": "#2a3f5f"
            },
            "type": "carpet"
           }
          ],
          "choropleth": [
           {
            "colorbar": {
             "outlinewidth": 0,
             "ticks": ""
            },
            "type": "choropleth"
           }
          ],
          "contour": [
           {
            "colorbar": {
             "outlinewidth": 0,
             "ticks": ""
            },
            "colorscale": [
             [
              0,
              "#0d0887"
             ],
             [
              0.1111111111111111,
              "#46039f"
             ],
             [
              0.2222222222222222,
              "#7201a8"
             ],
             [
              0.3333333333333333,
              "#9c179e"
             ],
             [
              0.4444444444444444,
              "#bd3786"
             ],
             [
              0.5555555555555556,
              "#d8576b"
             ],
             [
              0.6666666666666666,
              "#ed7953"
             ],
             [
              0.7777777777777778,
              "#fb9f3a"
             ],
             [
              0.8888888888888888,
              "#fdca26"
             ],
             [
              1,
              "#f0f921"
             ]
            ],
            "type": "contour"
           }
          ],
          "contourcarpet": [
           {
            "colorbar": {
             "outlinewidth": 0,
             "ticks": ""
            },
            "type": "contourcarpet"
           }
          ],
          "heatmap": [
           {
            "colorbar": {
             "outlinewidth": 0,
             "ticks": ""
            },
            "colorscale": [
             [
              0,
              "#0d0887"
             ],
             [
              0.1111111111111111,
              "#46039f"
             ],
             [
              0.2222222222222222,
              "#7201a8"
             ],
             [
              0.3333333333333333,
              "#9c179e"
             ],
             [
              0.4444444444444444,
              "#bd3786"
             ],
             [
              0.5555555555555556,
              "#d8576b"
             ],
             [
              0.6666666666666666,
              "#ed7953"
             ],
             [
              0.7777777777777778,
              "#fb9f3a"
             ],
             [
              0.8888888888888888,
              "#fdca26"
             ],
             [
              1,
              "#f0f921"
             ]
            ],
            "type": "heatmap"
           }
          ],
          "heatmapgl": [
           {
            "colorbar": {
             "outlinewidth": 0,
             "ticks": ""
            },
            "colorscale": [
             [
              0,
              "#0d0887"
             ],
             [
              0.1111111111111111,
              "#46039f"
             ],
             [
              0.2222222222222222,
              "#7201a8"
             ],
             [
              0.3333333333333333,
              "#9c179e"
             ],
             [
              0.4444444444444444,
              "#bd3786"
             ],
             [
              0.5555555555555556,
              "#d8576b"
             ],
             [
              0.6666666666666666,
              "#ed7953"
             ],
             [
              0.7777777777777778,
              "#fb9f3a"
             ],
             [
              0.8888888888888888,
              "#fdca26"
             ],
             [
              1,
              "#f0f921"
             ]
            ],
            "type": "heatmapgl"
           }
          ],
          "histogram": [
           {
            "marker": {
             "pattern": {
              "fillmode": "overlay",
              "size": 10,
              "solidity": 0.2
             }
            },
            "type": "histogram"
           }
          ],
          "histogram2d": [
           {
            "colorbar": {
             "outlinewidth": 0,
             "ticks": ""
            },
            "colorscale": [
             [
              0,
              "#0d0887"
             ],
             [
              0.1111111111111111,
              "#46039f"
             ],
             [
              0.2222222222222222,
              "#7201a8"
             ],
             [
              0.3333333333333333,
              "#9c179e"
             ],
             [
              0.4444444444444444,
              "#bd3786"
             ],
             [
              0.5555555555555556,
              "#d8576b"
             ],
             [
              0.6666666666666666,
              "#ed7953"
             ],
             [
              0.7777777777777778,
              "#fb9f3a"
             ],
             [
              0.8888888888888888,
              "#fdca26"
             ],
             [
              1,
              "#f0f921"
             ]
            ],
            "type": "histogram2d"
           }
          ],
          "histogram2dcontour": [
           {
            "colorbar": {
             "outlinewidth": 0,
             "ticks": ""
            },
            "colorscale": [
             [
              0,
              "#0d0887"
             ],
             [
              0.1111111111111111,
              "#46039f"
             ],
             [
              0.2222222222222222,
              "#7201a8"
             ],
             [
              0.3333333333333333,
              "#9c179e"
             ],
             [
              0.4444444444444444,
              "#bd3786"
             ],
             [
              0.5555555555555556,
              "#d8576b"
             ],
             [
              0.6666666666666666,
              "#ed7953"
             ],
             [
              0.7777777777777778,
              "#fb9f3a"
             ],
             [
              0.8888888888888888,
              "#fdca26"
             ],
             [
              1,
              "#f0f921"
             ]
            ],
            "type": "histogram2dcontour"
           }
          ],
          "mesh3d": [
           {
            "colorbar": {
             "outlinewidth": 0,
             "ticks": ""
            },
            "type": "mesh3d"
           }
          ],
          "parcoords": [
           {
            "line": {
             "colorbar": {
              "outlinewidth": 0,
              "ticks": ""
             }
            },
            "type": "parcoords"
           }
          ],
          "pie": [
           {
            "automargin": true,
            "type": "pie"
           }
          ],
          "scatter": [
           {
            "fillpattern": {
             "fillmode": "overlay",
             "size": 10,
             "solidity": 0.2
            },
            "type": "scatter"
           }
          ],
          "scatter3d": [
           {
            "line": {
             "colorbar": {
              "outlinewidth": 0,
              "ticks": ""
             }
            },
            "marker": {
             "colorbar": {
              "outlinewidth": 0,
              "ticks": ""
             }
            },
            "type": "scatter3d"
           }
          ],
          "scattercarpet": [
           {
            "marker": {
             "colorbar": {
              "outlinewidth": 0,
              "ticks": ""
             }
            },
            "type": "scattercarpet"
           }
          ],
          "scattergeo": [
           {
            "marker": {
             "colorbar": {
              "outlinewidth": 0,
              "ticks": ""
             }
            },
            "type": "scattergeo"
           }
          ],
          "scattergl": [
           {
            "marker": {
             "colorbar": {
              "outlinewidth": 0,
              "ticks": ""
             }
            },
            "type": "scattergl"
           }
          ],
          "scattermapbox": [
           {
            "marker": {
             "colorbar": {
              "outlinewidth": 0,
              "ticks": ""
             }
            },
            "type": "scattermapbox"
           }
          ],
          "scatterpolar": [
           {
            "marker": {
             "colorbar": {
              "outlinewidth": 0,
              "ticks": ""
             }
            },
            "type": "scatterpolar"
           }
          ],
          "scatterpolargl": [
           {
            "marker": {
             "colorbar": {
              "outlinewidth": 0,
              "ticks": ""
             }
            },
            "type": "scatterpolargl"
           }
          ],
          "scatterternary": [
           {
            "marker": {
             "colorbar": {
              "outlinewidth": 0,
              "ticks": ""
             }
            },
            "type": "scatterternary"
           }
          ],
          "surface": [
           {
            "colorbar": {
             "outlinewidth": 0,
             "ticks": ""
            },
            "colorscale": [
             [
              0,
              "#0d0887"
             ],
             [
              0.1111111111111111,
              "#46039f"
             ],
             [
              0.2222222222222222,
              "#7201a8"
             ],
             [
              0.3333333333333333,
              "#9c179e"
             ],
             [
              0.4444444444444444,
              "#bd3786"
             ],
             [
              0.5555555555555556,
              "#d8576b"
             ],
             [
              0.6666666666666666,
              "#ed7953"
             ],
             [
              0.7777777777777778,
              "#fb9f3a"
             ],
             [
              0.8888888888888888,
              "#fdca26"
             ],
             [
              1,
              "#f0f921"
             ]
            ],
            "type": "surface"
           }
          ],
          "table": [
           {
            "cells": {
             "fill": {
              "color": "#EBF0F8"
             },
             "line": {
              "color": "white"
             }
            },
            "header": {
             "fill": {
              "color": "#C8D4E3"
             },
             "line": {
              "color": "white"
             }
            },
            "type": "table"
           }
          ]
         },
         "layout": {
          "annotationdefaults": {
           "arrowcolor": "#2a3f5f",
           "arrowhead": 0,
           "arrowwidth": 1
          },
          "autotypenumbers": "strict",
          "coloraxis": {
           "colorbar": {
            "outlinewidth": 0,
            "ticks": ""
           }
          },
          "colorscale": {
           "diverging": [
            [
             0,
             "#8e0152"
            ],
            [
             0.1,
             "#c51b7d"
            ],
            [
             0.2,
             "#de77ae"
            ],
            [
             0.3,
             "#f1b6da"
            ],
            [
             0.4,
             "#fde0ef"
            ],
            [
             0.5,
             "#f7f7f7"
            ],
            [
             0.6,
             "#e6f5d0"
            ],
            [
             0.7,
             "#b8e186"
            ],
            [
             0.8,
             "#7fbc41"
            ],
            [
             0.9,
             "#4d9221"
            ],
            [
             1,
             "#276419"
            ]
           ],
           "sequential": [
            [
             0,
             "#0d0887"
            ],
            [
             0.1111111111111111,
             "#46039f"
            ],
            [
             0.2222222222222222,
             "#7201a8"
            ],
            [
             0.3333333333333333,
             "#9c179e"
            ],
            [
             0.4444444444444444,
             "#bd3786"
            ],
            [
             0.5555555555555556,
             "#d8576b"
            ],
            [
             0.6666666666666666,
             "#ed7953"
            ],
            [
             0.7777777777777778,
             "#fb9f3a"
            ],
            [
             0.8888888888888888,
             "#fdca26"
            ],
            [
             1,
             "#f0f921"
            ]
           ],
           "sequentialminus": [
            [
             0,
             "#0d0887"
            ],
            [
             0.1111111111111111,
             "#46039f"
            ],
            [
             0.2222222222222222,
             "#7201a8"
            ],
            [
             0.3333333333333333,
             "#9c179e"
            ],
            [
             0.4444444444444444,
             "#bd3786"
            ],
            [
             0.5555555555555556,
             "#d8576b"
            ],
            [
             0.6666666666666666,
             "#ed7953"
            ],
            [
             0.7777777777777778,
             "#fb9f3a"
            ],
            [
             0.8888888888888888,
             "#fdca26"
            ],
            [
             1,
             "#f0f921"
            ]
           ]
          },
          "colorway": [
           "#636efa",
           "#EF553B",
           "#00cc96",
           "#ab63fa",
           "#FFA15A",
           "#19d3f3",
           "#FF6692",
           "#B6E880",
           "#FF97FF",
           "#FECB52"
          ],
          "font": {
           "color": "#2a3f5f"
          },
          "geo": {
           "bgcolor": "white",
           "lakecolor": "white",
           "landcolor": "#E5ECF6",
           "showlakes": true,
           "showland": true,
           "subunitcolor": "white"
          },
          "hoverlabel": {
           "align": "left"
          },
          "hovermode": "closest",
          "mapbox": {
           "style": "light"
          },
          "paper_bgcolor": "white",
          "plot_bgcolor": "#E5ECF6",
          "polar": {
           "angularaxis": {
            "gridcolor": "white",
            "linecolor": "white",
            "ticks": ""
           },
           "bgcolor": "#E5ECF6",
           "radialaxis": {
            "gridcolor": "white",
            "linecolor": "white",
            "ticks": ""
           }
          },
          "scene": {
           "xaxis": {
            "backgroundcolor": "#E5ECF6",
            "gridcolor": "white",
            "gridwidth": 2,
            "linecolor": "white",
            "showbackground": true,
            "ticks": "",
            "zerolinecolor": "white"
           },
           "yaxis": {
            "backgroundcolor": "#E5ECF6",
            "gridcolor": "white",
            "gridwidth": 2,
            "linecolor": "white",
            "showbackground": true,
            "ticks": "",
            "zerolinecolor": "white"
           },
           "zaxis": {
            "backgroundcolor": "#E5ECF6",
            "gridcolor": "white",
            "gridwidth": 2,
            "linecolor": "white",
            "showbackground": true,
            "ticks": "",
            "zerolinecolor": "white"
           }
          },
          "shapedefaults": {
           "line": {
            "color": "#2a3f5f"
           }
          },
          "ternary": {
           "aaxis": {
            "gridcolor": "white",
            "linecolor": "white",
            "ticks": ""
           },
           "baxis": {
            "gridcolor": "white",
            "linecolor": "white",
            "ticks": ""
           },
           "bgcolor": "#E5ECF6",
           "caxis": {
            "gridcolor": "white",
            "linecolor": "white",
            "ticks": ""
           }
          },
          "title": {
           "x": 0.05
          },
          "xaxis": {
           "automargin": true,
           "gridcolor": "white",
           "linecolor": "white",
           "ticks": "",
           "title": {
            "standoff": 15
           },
           "zerolinecolor": "white",
           "zerolinewidth": 2
          },
          "yaxis": {
           "automargin": true,
           "gridcolor": "white",
           "linecolor": "white",
           "ticks": "",
           "title": {
            "standoff": 15
           },
           "zerolinecolor": "white",
           "zerolinewidth": 2
          }
         }
        },
        "width": 800
       }
      },
      "text/html": [
       "<div>                            <div id=\"2ac59f77-6ed2-4f26-98d5-00ab2ed85c33\" class=\"plotly-graph-div\" style=\"height:600px; width:800px;\"></div>            <script type=\"text/javascript\">                require([\"plotly\"], function(Plotly) {                    window.PLOTLYENV=window.PLOTLYENV || {};                                    if (document.getElementById(\"2ac59f77-6ed2-4f26-98d5-00ab2ed85c33\")) {                    Plotly.newPlot(                        \"2ac59f77-6ed2-4f26-98d5-00ab2ed85c33\",                        [{\"coloraxis\":\"coloraxis\",\"geo\":\"geo\",\"hovertemplate\":\"<b>%{hovertext}</b><br><br>country_code=%{location}<br>avg_release_delay=%{z}<extra></extra>\",\"hovertext\":[\"SWE\",\"KOR\",\"CAN\",\"USA\",\"DZA\",\"PRI\",\"PHL\",\"THA\",\"KHM\",\"DEU\",\"VNM\",\"CYP\",\"AUT\",\"NLD\",\"IDN\",\"TWN\",\"MYS\",\"KAZ\",\"MKD\",\"ISR\",\"RUS\",\"HRV\",\"ROU\",\"GRC\",\"IND\",\"LBY\",\"UZB\",\"TTO\",\"LUX\",\"HUN\",\"GBR\",\"AUS\",\"PRT\",\"URY\",\"SVK\",\"HND\",\"PAK\",\"CHN\",\"SLV\",\"TUR\",\"NPL\",\"FJI\",\"HKG\",\"PAN\",\"TUN\",\"CHE\",\"UKR\",\"ESP\",\"PNG\",\"EGY\",\"LKA\",\"SVN\",\"CZE\",\"ITA\",\"BRA\",\"BGR\",\"SGP\",\"PRY\",\"AFG\",\"SAU\",\"IRL\",\"BEL\",\"IRN\",\"COL\",\"POL\",\"ARE\",\"FRA\",\"NGA\",\"BOL\",\"NOR\",\"MAR\",\"DOM\",\"GTM\",\"KEN\",\"ARG\",\"NZL\",\"BIH\",\"IRQ\",\"ZAF\",\"MEX\",\"BGD\",\"PER\",\"SRB\",\"ECU\",\"CHL\",\"JAM\",\"ALB\",\"CRI\"],\"locationmode\":\"ISO-3\",\"locations\":[\"SWE\",\"KOR\",\"CAN\",\"USA\",\"DZA\",\"PRI\",\"PHL\",\"THA\",\"KHM\",\"DEU\",\"VNM\",\"CYP\",\"AUT\",\"NLD\",\"IDN\",\"TWN\",\"MYS\",\"KAZ\",\"MKD\",\"ISR\",\"RUS\",\"HRV\",\"ROU\",\"GRC\",\"IND\",\"LBY\",\"UZB\",\"TTO\",\"LUX\",\"HUN\",\"GBR\",\"AUS\",\"PRT\",\"URY\",\"SVK\",\"HND\",\"PAK\",\"CHN\",\"SLV\",\"TUR\",\"NPL\",\"FJI\",\"HKG\",\"PAN\",\"TUN\",\"CHE\",\"UKR\",\"ESP\",\"PNG\",\"EGY\",\"LKA\",\"SVN\",\"CZE\",\"ITA\",\"BRA\",\"BGR\",\"SGP\",\"PRY\",\"AFG\",\"SAU\",\"IRL\",\"BEL\",\"IRN\",\"COL\",\"POL\",\"ARE\",\"FRA\",\"NGA\",\"BOL\",\"NOR\",\"MAR\",\"DOM\",\"GTM\",\"KEN\",\"ARG\",\"NZL\",\"BIH\",\"IRQ\",\"ZAF\",\"MEX\",\"BGD\",\"PER\",\"SRB\",\"ECU\",\"CHL\",\"JAM\",\"ALB\",\"CRI\"],\"name\":\"\",\"z\":[16.0,35.111111111111114,38.48,46.25,51.2,52.1,55.25714285714286,57.285714285714285,57.55555555555556,58.62068965517241,60.26315789473684,61.3,61.725,61.96666666666667,62.476190476190474,62.611111111111114,62.94736842105263,63.875,64.66666666666667,65.18181818181819,66.05,67.04761904761905,67.36363636363636,67.54838709677419,67.625,68.52380952380952,68.625,68.65384615384616,69.0,69.08108108108108,69.38461538461539,69.66666666666667,69.97222222222223,70.14285714285714,70.52380952380952,70.625,70.65,70.66666666666667,70.75,70.88461538461539,70.92307692307692,71.14285714285714,71.16666666666667,71.41304347826087,71.55,71.58823529411765,71.71428571428571,72.0,72.0,72.13636363636364,72.16666666666667,72.375,72.4390243902439,72.5,72.75,72.9090909090909,72.9795918367347,73.26666666666667,73.27777777777777,73.54545454545455,73.77272727272727,74.0,74.73684210526316,75.0925925925926,75.59615384615384,75.625,75.72222222222223,75.84210526315789,76.0,76.0,76.4074074074074,76.87878787878788,77.16129032258064,77.5,78.36842105263158,78.82352941176471,80.21052631578948,81.04761904761905,81.24489795918367,82.96610169491525,85.9090909090909,87.29032258064517,87.45454545454545,91.57894736842105,95.8375,99.63636363636364,120.0,121.125],\"type\":\"choropleth\"}],                        {\"template\":{\"data\":{\"histogram2dcontour\":[{\"type\":\"histogram2dcontour\",\"colorbar\":{\"outlinewidth\":0,\"ticks\":\"\"},\"colorscale\":[[0.0,\"#0d0887\"],[0.1111111111111111,\"#46039f\"],[0.2222222222222222,\"#7201a8\"],[0.3333333333333333,\"#9c179e\"],[0.4444444444444444,\"#bd3786\"],[0.5555555555555556,\"#d8576b\"],[0.6666666666666666,\"#ed7953\"],[0.7777777777777778,\"#fb9f3a\"],[0.8888888888888888,\"#fdca26\"],[1.0,\"#f0f921\"]]}],\"choropleth\":[{\"type\":\"choropleth\",\"colorbar\":{\"outlinewidth\":0,\"ticks\":\"\"}}],\"histogram2d\":[{\"type\":\"histogram2d\",\"colorbar\":{\"outlinewidth\":0,\"ticks\":\"\"},\"colorscale\":[[0.0,\"#0d0887\"],[0.1111111111111111,\"#46039f\"],[0.2222222222222222,\"#7201a8\"],[0.3333333333333333,\"#9c179e\"],[0.4444444444444444,\"#bd3786\"],[0.5555555555555556,\"#d8576b\"],[0.6666666666666666,\"#ed7953\"],[0.7777777777777778,\"#fb9f3a\"],[0.8888888888888888,\"#fdca26\"],[1.0,\"#f0f921\"]]}],\"heatmap\":[{\"type\":\"heatmap\",\"colorbar\":{\"outlinewidth\":0,\"ticks\":\"\"},\"colorscale\":[[0.0,\"#0d0887\"],[0.1111111111111111,\"#46039f\"],[0.2222222222222222,\"#7201a8\"],[0.3333333333333333,\"#9c179e\"],[0.4444444444444444,\"#bd3786\"],[0.5555555555555556,\"#d8576b\"],[0.6666666666666666,\"#ed7953\"],[0.7777777777777778,\"#fb9f3a\"],[0.8888888888888888,\"#fdca26\"],[1.0,\"#f0f921\"]]}],\"heatmapgl\":[{\"type\":\"heatmapgl\",\"colorbar\":{\"outlinewidth\":0,\"ticks\":\"\"},\"colorscale\":[[0.0,\"#0d0887\"],[0.1111111111111111,\"#46039f\"],[0.2222222222222222,\"#7201a8\"],[0.3333333333333333,\"#9c179e\"],[0.4444444444444444,\"#bd3786\"],[0.5555555555555556,\"#d8576b\"],[0.6666666666666666,\"#ed7953\"],[0.7777777777777778,\"#fb9f3a\"],[0.8888888888888888,\"#fdca26\"],[1.0,\"#f0f921\"]]}],\"contourcarpet\":[{\"type\":\"contourcarpet\",\"colorbar\":{\"outlinewidth\":0,\"ticks\":\"\"}}],\"contour\":[{\"type\":\"contour\",\"colorbar\":{\"outlinewidth\":0,\"ticks\":\"\"},\"colorscale\":[[0.0,\"#0d0887\"],[0.1111111111111111,\"#46039f\"],[0.2222222222222222,\"#7201a8\"],[0.3333333333333333,\"#9c179e\"],[0.4444444444444444,\"#bd3786\"],[0.5555555555555556,\"#d8576b\"],[0.6666666666666666,\"#ed7953\"],[0.7777777777777778,\"#fb9f3a\"],[0.8888888888888888,\"#fdca26\"],[1.0,\"#f0f921\"]]}],\"surface\":[{\"type\":\"surface\",\"colorbar\":{\"outlinewidth\":0,\"ticks\":\"\"},\"colorscale\":[[0.0,\"#0d0887\"],[0.1111111111111111,\"#46039f\"],[0.2222222222222222,\"#7201a8\"],[0.3333333333333333,\"#9c179e\"],[0.4444444444444444,\"#bd3786\"],[0.5555555555555556,\"#d8576b\"],[0.6666666666666666,\"#ed7953\"],[0.7777777777777778,\"#fb9f3a\"],[0.8888888888888888,\"#fdca26\"],[1.0,\"#f0f921\"]]}],\"mesh3d\":[{\"type\":\"mesh3d\",\"colorbar\":{\"outlinewidth\":0,\"ticks\":\"\"}}],\"scatter\":[{\"fillpattern\":{\"fillmode\":\"overlay\",\"size\":10,\"solidity\":0.2},\"type\":\"scatter\"}],\"parcoords\":[{\"type\":\"parcoords\",\"line\":{\"colorbar\":{\"outlinewidth\":0,\"ticks\":\"\"}}}],\"scatterpolargl\":[{\"type\":\"scatterpolargl\",\"marker\":{\"colorbar\":{\"outlinewidth\":0,\"ticks\":\"\"}}}],\"bar\":[{\"error_x\":{\"color\":\"#2a3f5f\"},\"error_y\":{\"color\":\"#2a3f5f\"},\"marker\":{\"line\":{\"color\":\"#E5ECF6\",\"width\":0.5},\"pattern\":{\"fillmode\":\"overlay\",\"size\":10,\"solidity\":0.2}},\"type\":\"bar\"}],\"scattergeo\":[{\"type\":\"scattergeo\",\"marker\":{\"colorbar\":{\"outlinewidth\":0,\"ticks\":\"\"}}}],\"scatterpolar\":[{\"type\":\"scatterpolar\",\"marker\":{\"colorbar\":{\"outlinewidth\":0,\"ticks\":\"\"}}}],\"histogram\":[{\"marker\":{\"pattern\":{\"fillmode\":\"overlay\",\"size\":10,\"solidity\":0.2}},\"type\":\"histogram\"}],\"scattergl\":[{\"type\":\"scattergl\",\"marker\":{\"colorbar\":{\"outlinewidth\":0,\"ticks\":\"\"}}}],\"scatter3d\":[{\"type\":\"scatter3d\",\"line\":{\"colorbar\":{\"outlinewidth\":0,\"ticks\":\"\"}},\"marker\":{\"colorbar\":{\"outlinewidth\":0,\"ticks\":\"\"}}}],\"scattermapbox\":[{\"type\":\"scattermapbox\",\"marker\":{\"colorbar\":{\"outlinewidth\":0,\"ticks\":\"\"}}}],\"scatterternary\":[{\"type\":\"scatterternary\",\"marker\":{\"colorbar\":{\"outlinewidth\":0,\"ticks\":\"\"}}}],\"scattercarpet\":[{\"type\":\"scattercarpet\",\"marker\":{\"colorbar\":{\"outlinewidth\":0,\"ticks\":\"\"}}}],\"carpet\":[{\"aaxis\":{\"endlinecolor\":\"#2a3f5f\",\"gridcolor\":\"white\",\"linecolor\":\"white\",\"minorgridcolor\":\"white\",\"startlinecolor\":\"#2a3f5f\"},\"baxis\":{\"endlinecolor\":\"#2a3f5f\",\"gridcolor\":\"white\",\"linecolor\":\"white\",\"minorgridcolor\":\"white\",\"startlinecolor\":\"#2a3f5f\"},\"type\":\"carpet\"}],\"table\":[{\"cells\":{\"fill\":{\"color\":\"#EBF0F8\"},\"line\":{\"color\":\"white\"}},\"header\":{\"fill\":{\"color\":\"#C8D4E3\"},\"line\":{\"color\":\"white\"}},\"type\":\"table\"}],\"barpolar\":[{\"marker\":{\"line\":{\"color\":\"#E5ECF6\",\"width\":0.5},\"pattern\":{\"fillmode\":\"overlay\",\"size\":10,\"solidity\":0.2}},\"type\":\"barpolar\"}],\"pie\":[{\"automargin\":true,\"type\":\"pie\"}]},\"layout\":{\"autotypenumbers\":\"strict\",\"colorway\":[\"#636efa\",\"#EF553B\",\"#00cc96\",\"#ab63fa\",\"#FFA15A\",\"#19d3f3\",\"#FF6692\",\"#B6E880\",\"#FF97FF\",\"#FECB52\"],\"font\":{\"color\":\"#2a3f5f\"},\"hovermode\":\"closest\",\"hoverlabel\":{\"align\":\"left\"},\"paper_bgcolor\":\"white\",\"plot_bgcolor\":\"#E5ECF6\",\"polar\":{\"bgcolor\":\"#E5ECF6\",\"angularaxis\":{\"gridcolor\":\"white\",\"linecolor\":\"white\",\"ticks\":\"\"},\"radialaxis\":{\"gridcolor\":\"white\",\"linecolor\":\"white\",\"ticks\":\"\"}},\"ternary\":{\"bgcolor\":\"#E5ECF6\",\"aaxis\":{\"gridcolor\":\"white\",\"linecolor\":\"white\",\"ticks\":\"\"},\"baxis\":{\"gridcolor\":\"white\",\"linecolor\":\"white\",\"ticks\":\"\"},\"caxis\":{\"gridcolor\":\"white\",\"linecolor\":\"white\",\"ticks\":\"\"}},\"coloraxis\":{\"colorbar\":{\"outlinewidth\":0,\"ticks\":\"\"}},\"colorscale\":{\"sequential\":[[0.0,\"#0d0887\"],[0.1111111111111111,\"#46039f\"],[0.2222222222222222,\"#7201a8\"],[0.3333333333333333,\"#9c179e\"],[0.4444444444444444,\"#bd3786\"],[0.5555555555555556,\"#d8576b\"],[0.6666666666666666,\"#ed7953\"],[0.7777777777777778,\"#fb9f3a\"],[0.8888888888888888,\"#fdca26\"],[1.0,\"#f0f921\"]],\"sequentialminus\":[[0.0,\"#0d0887\"],[0.1111111111111111,\"#46039f\"],[0.2222222222222222,\"#7201a8\"],[0.3333333333333333,\"#9c179e\"],[0.4444444444444444,\"#bd3786\"],[0.5555555555555556,\"#d8576b\"],[0.6666666666666666,\"#ed7953\"],[0.7777777777777778,\"#fb9f3a\"],[0.8888888888888888,\"#fdca26\"],[1.0,\"#f0f921\"]],\"diverging\":[[0,\"#8e0152\"],[0.1,\"#c51b7d\"],[0.2,\"#de77ae\"],[0.3,\"#f1b6da\"],[0.4,\"#fde0ef\"],[0.5,\"#f7f7f7\"],[0.6,\"#e6f5d0\"],[0.7,\"#b8e186\"],[0.8,\"#7fbc41\"],[0.9,\"#4d9221\"],[1,\"#276419\"]]},\"xaxis\":{\"gridcolor\":\"white\",\"linecolor\":\"white\",\"ticks\":\"\",\"title\":{\"standoff\":15},\"zerolinecolor\":\"white\",\"automargin\":true,\"zerolinewidth\":2},\"yaxis\":{\"gridcolor\":\"white\",\"linecolor\":\"white\",\"ticks\":\"\",\"title\":{\"standoff\":15},\"zerolinecolor\":\"white\",\"automargin\":true,\"zerolinewidth\":2},\"scene\":{\"xaxis\":{\"backgroundcolor\":\"#E5ECF6\",\"gridcolor\":\"white\",\"linecolor\":\"white\",\"showbackground\":true,\"ticks\":\"\",\"zerolinecolor\":\"white\",\"gridwidth\":2},\"yaxis\":{\"backgroundcolor\":\"#E5ECF6\",\"gridcolor\":\"white\",\"linecolor\":\"white\",\"showbackground\":true,\"ticks\":\"\",\"zerolinecolor\":\"white\",\"gridwidth\":2},\"zaxis\":{\"backgroundcolor\":\"#E5ECF6\",\"gridcolor\":\"white\",\"linecolor\":\"white\",\"showbackground\":true,\"ticks\":\"\",\"zerolinecolor\":\"white\",\"gridwidth\":2}},\"shapedefaults\":{\"line\":{\"color\":\"#2a3f5f\"}},\"annotationdefaults\":{\"arrowcolor\":\"#2a3f5f\",\"arrowhead\":0,\"arrowwidth\":1},\"geo\":{\"bgcolor\":\"white\",\"landcolor\":\"#E5ECF6\",\"subunitcolor\":\"white\",\"showland\":true,\"showlakes\":true,\"lakecolor\":\"white\"},\"title\":{\"x\":0.05},\"mapbox\":{\"style\":\"light\"}}},\"geo\":{\"domain\":{\"x\":[0.0,1.0],\"y\":[0.0,1.0]},\"center\":{}},\"coloraxis\":{\"colorbar\":{\"title\":{\"text\":\"avg_release_delay\",\"font\":{\"size\":1}},\"tickfont\":{\"size\":30,\"color\":\"black\"},\"nticks\":6,\"orientation\":\"h\",\"len\":1,\"y\":0.06,\"tickangle\":0},\"colorscale\":[[0.0,\"#0d0887\"],[0.1111111111111111,\"#46039f\"],[0.2222222222222222,\"#7201a8\"],[0.3333333333333333,\"#9c179e\"],[0.4444444444444444,\"#bd3786\"],[0.5555555555555556,\"#d8576b\"],[0.6666666666666666,\"#ed7953\"],[0.7777777777777778,\"#fb9f3a\"],[0.8888888888888888,\"#fdca26\"],[1.0,\"#f0f921\"]],\"cmin\":35.74076086956522,\"cmax\":107.22228260869566},\"legend\":{\"tracegroupgap\":0},\"margin\":{\"t\":60},\"width\":800,\"height\":600},                        {\"responsive\": true}                    ).then(function(){\n",
       "                            \n",
       "var gd = document.getElementById('2ac59f77-6ed2-4f26-98d5-00ab2ed85c33');\n",
       "var x = new MutationObserver(function (mutations, observer) {{\n",
       "        var display = window.getComputedStyle(gd).display;\n",
       "        if (!display || display === 'none') {{\n",
       "            console.log([gd, 'removed!']);\n",
       "            Plotly.purge(gd);\n",
       "            observer.disconnect();\n",
       "        }}\n",
       "}});\n",
       "\n",
       "// Listen for the removal of the full notebook cells\n",
       "var notebookContainer = gd.closest('#notebook-container');\n",
       "if (notebookContainer) {{\n",
       "    x.observe(notebookContainer, {childList: true});\n",
       "}}\n",
       "\n",
       "// Listen for the clearing of the current output cell\n",
       "var outputEl = gd.closest('.output');\n",
       "if (outputEl) {{\n",
       "    x.observe(outputEl, {childList: true});\n",
       "}}\n",
       "\n",
       "                        })                };                });            </script>        </div>"
      ]
     },
     "metadata": {},
     "output_type": "display_data"
    },
    {
     "name": "stdout",
     "output_type": "stream",
     "text": [
      "Avg: 71.48152173913044\n"
     ]
    }
   ],
   "source": [
    "p = 'avg_release_delay'\n",
    "\n",
    "values_to_plot = df_final_samsung_biannual.groupby(['iso_code'])[p].mean().sort_values(ascending=True)\n",
    "avg = values_to_plot.median()\n",
    "\n",
    "df_plot = pd.DataFrame(values_to_plot.values,columns=[p])\n",
    "df_plot['country_code'] = values_to_plot.index\n",
    "\n",
    "fig = px.choropleth(df_plot, locations=\"country_code\",\n",
    "                    locationmode='ISO-3',\n",
    "                    color= p,\n",
    "                    hover_name=\"country_code\",\n",
    "                    color_continuous_scale=px.colors.sequential.Plasma,\n",
    "                    range_color=(0.5*avg,1.5*avg))\n",
    "\n",
    "fig.update_layout(\n",
    "        width=800,\n",
    "        height=600,\n",
    "        coloraxis=dict(\n",
    "            colorbar_nticks=6,\n",
    "            colorbar_orientation='h',\n",
    "            #colorbar_borderwidth = 2,\n",
    "            colorbar_len=1,\n",
    "            colorbar_y=+0.06,\n",
    "            #colorbar_ticksuffix=' days',\n",
    "            colorbar_title_font_size=1,\n",
    "            colorbar=dict(\n",
    "                #title_side='bottom',\n",
    "                tickangle=0,\n",
    "                tickfont=dict(size=30, color='black'))\n",
    "            )\n",
    ")\n",
    "\n",
    "layout = go.Layout(\n",
    "  margin=go.layout.Margin(\n",
    "        l=0, #left margin\n",
    "        r=0, #right margin\n",
    "        b=0, #bottom margin\n",
    "        t=0  #top margin\n",
    "    )\n",
    ")\n",
    "\n",
    "\n",
    "fig.show()\n",
    "\n",
    "fig.write_image(\"../Results/geolocation_biannual_delay.pdf\")\n",
    "\n",
    "fig.write_html(\"../Results/InteractiveFigures/geolocation_biannual_delay.html\",full_html=False, include_plotlyjs='cdn')\n",
    "\n",
    "print('Avg: {}'.format(avg))\n"
   ]
  },
  {
   "cell_type": "markdown",
   "id": "fdc08858",
   "metadata": {},
   "source": [
    "## Samsung-Country Analysis-Top5-Bottom5"
   ]
  },
  {
   "cell_type": "code",
   "execution_count": 181,
   "id": "a4b1314c",
   "metadata": {},
   "outputs": [],
   "source": [
    "df_final_samsung_monthly['release_date_duration_days'] = df_final_samsung_monthly['release_date_duration'].dt.days\n",
    "df_final_samsung_quarterly['release_date_duration_days'] = df_final_samsung_quarterly['release_date_duration'].dt.days\n",
    "df_final_samsung_biannual['release_date_duration_days'] = df_final_samsung_biannual['release_date_duration'].dt.days"
   ]
  },
  {
   "cell_type": "code",
   "execution_count": 191,
   "id": "50146719",
   "metadata": {},
   "outputs": [
    {
     "data": {
      "text/html": [
       "<div>\n",
       "<style scoped>\n",
       "    .dataframe tbody tr th:only-of-type {\n",
       "        vertical-align: middle;\n",
       "    }\n",
       "\n",
       "    .dataframe tbody tr th {\n",
       "        vertical-align: top;\n",
       "    }\n",
       "\n",
       "    .dataframe thead th {\n",
       "        text-align: right;\n",
       "    }\n",
       "</style>\n",
       "<table border=\"1\" class=\"dataframe\">\n",
       "  <thead>\n",
       "    <tr style=\"text-align: right;\">\n",
       "      <th></th>\n",
       "      <th></th>\n",
       "      <th>m_count</th>\n",
       "      <th>m_duration</th>\n",
       "      <th>m_freq</th>\n",
       "      <th>m_delay</th>\n",
       "    </tr>\n",
       "    <tr>\n",
       "      <th>subregion</th>\n",
       "      <th>country</th>\n",
       "      <th></th>\n",
       "      <th></th>\n",
       "      <th></th>\n",
       "      <th></th>\n",
       "    </tr>\n",
       "  </thead>\n",
       "  <tbody>\n",
       "    <tr>\n",
       "      <th>Western Europe</th>\n",
       "      <th>Luxembourg</th>\n",
       "      <td>39.0</td>\n",
       "      <td>1068.0</td>\n",
       "      <td>26.850000</td>\n",
       "      <td>21.0</td>\n",
       "    </tr>\n",
       "    <tr>\n",
       "      <th>Eastern Europe</th>\n",
       "      <th>Russia</th>\n",
       "      <td>38.0</td>\n",
       "      <td>1053.0</td>\n",
       "      <td>27.230769</td>\n",
       "      <td>20.0</td>\n",
       "    </tr>\n",
       "    <tr>\n",
       "      <th>Western Europe</th>\n",
       "      <th>Switzerland</th>\n",
       "      <td>38.0</td>\n",
       "      <td>1050.0</td>\n",
       "      <td>27.894737</td>\n",
       "      <td>20.5</td>\n",
       "    </tr>\n",
       "    <tr>\n",
       "      <th>Central Asia</th>\n",
       "      <th>Uzbekistan</th>\n",
       "      <td>38.0</td>\n",
       "      <td>1043.0</td>\n",
       "      <td>27.795884</td>\n",
       "      <td>18.0</td>\n",
       "    </tr>\n",
       "    <tr>\n",
       "      <th>Southern Asia</th>\n",
       "      <th>India</th>\n",
       "      <td>37.5</td>\n",
       "      <td>1050.0</td>\n",
       "      <td>27.279487</td>\n",
       "      <td>19.5</td>\n",
       "    </tr>\n",
       "    <tr>\n",
       "      <th rowspan=\"5\" valign=\"top\">Latin America and the Caribbean</th>\n",
       "      <th>Honduras</th>\n",
       "      <td>17.0</td>\n",
       "      <td>978.0</td>\n",
       "      <td>55.941176</td>\n",
       "      <td>48.0</td>\n",
       "    </tr>\n",
       "    <tr>\n",
       "      <th>Costa Rica</th>\n",
       "      <td>16.5</td>\n",
       "      <td>1041.5</td>\n",
       "      <td>56.175000</td>\n",
       "      <td>46.5</td>\n",
       "    </tr>\n",
       "    <tr>\n",
       "      <th>Paraguay</th>\n",
       "      <td>16.0</td>\n",
       "      <td>972.0</td>\n",
       "      <td>60.187500</td>\n",
       "      <td>48.0</td>\n",
       "    </tr>\n",
       "    <tr>\n",
       "      <th>Ecuador</th>\n",
       "      <td>16.0</td>\n",
       "      <td>929.0</td>\n",
       "      <td>48.117647</td>\n",
       "      <td>51.0</td>\n",
       "    </tr>\n",
       "    <tr>\n",
       "      <th>Jamaica</th>\n",
       "      <td>15.0</td>\n",
       "      <td>903.0</td>\n",
       "      <td>56.437500</td>\n",
       "      <td>52.0</td>\n",
       "    </tr>\n",
       "  </tbody>\n",
       "</table>\n",
       "</div>"
      ],
      "text/plain": [
       "                                             m_count  m_duration     m_freq  \\\n",
       "subregion                       country                                       \n",
       "Western Europe                  Luxembourg      39.0      1068.0  26.850000   \n",
       "Eastern Europe                  Russia          38.0      1053.0  27.230769   \n",
       "Western Europe                  Switzerland     38.0      1050.0  27.894737   \n",
       "Central Asia                    Uzbekistan      38.0      1043.0  27.795884   \n",
       "Southern Asia                   India           37.5      1050.0  27.279487   \n",
       "Latin America and the Caribbean Honduras        17.0       978.0  55.941176   \n",
       "                                Costa Rica      16.5      1041.5  56.175000   \n",
       "                                Paraguay        16.0       972.0  60.187500   \n",
       "                                Ecuador         16.0       929.0  48.117647   \n",
       "                                Jamaica         15.0       903.0  56.437500   \n",
       "\n",
       "                                             m_delay  \n",
       "subregion                       country               \n",
       "Western Europe                  Luxembourg      21.0  \n",
       "Eastern Europe                  Russia          20.0  \n",
       "Western Europe                  Switzerland     20.5  \n",
       "Central Asia                    Uzbekistan      18.0  \n",
       "Southern Asia                   India           19.5  \n",
       "Latin America and the Caribbean Honduras        48.0  \n",
       "                                Costa Rica      46.5  \n",
       "                                Paraguay        48.0  \n",
       "                                Ecuador         51.0  \n",
       "                                Jamaica         52.0  "
      ]
     },
     "execution_count": 191,
     "metadata": {},
     "output_type": "execute_result"
    }
   ],
   "source": [
    "\n",
    "m_column_names=['m_count','m_duration','m_freq','m_delay']\n",
    "q_column_names=['q_count','q_duration','q_freq','q_delay']\n",
    "b_column_names=['b_count','b_duration','b_freq','b_delay']\n",
    "\n",
    "\n",
    "df_samsung_monthly_latex= df_final_samsung_monthly.groupby(['subregion','country'],sort=True)[['release_count','release_date_duration_days','avg_release_freq','avg_release_delay']].median()\n",
    "df_samsung_monthly_latex.columns=m_column_names\n",
    "df_samsung_monthly_latex = df_samsung_monthly_latex.sort_values(by=m_column_names,ascending=False)\n",
    "\n",
    "df_samsung_quarterly_latex= df_final_samsung_quarterly.groupby(['subregion','country'],sort=True)[['release_count','release_date_duration_days','avg_release_freq','avg_release_delay']].median()\n",
    "df_samsung_quarterly_latex.columns=q_column_names\n",
    "df_samsung_quarterly_latex = df_samsung_quarterly_latex.sort_values(by=q_column_names,ascending=False)\n",
    "\n",
    "df_samsung_biannual_latex= df_final_samsung_biannual.groupby(['subregion','country'],sort=True)[['release_count','release_date_duration_days','avg_release_freq','avg_release_delay']].median()\n",
    "df_samsung_biannual_latex.columns=b_column_names\n",
    "df_samsung_biannual_latex = df_samsung_biannual_latex.sort_values(by=b_column_names,ascending=False)\n",
    "\n",
    "\n",
    "sorted_monthly = df_samsung_monthly_latex.sort_values(by=m_column_names,ascending=False)\n",
    "top5_monthly = sorted_monthly.head(5)\n",
    "bottom5_monthly = sorted_monthly.iloc[-5:]\n",
    "pd.concat([top5_monthly, bottom5_monthly])\n"
   ]
  },
  {
   "cell_type": "code",
   "execution_count": 192,
   "id": "a3455d57",
   "metadata": {},
   "outputs": [
    {
     "data": {
      "text/html": [
       "<div>\n",
       "<style scoped>\n",
       "    .dataframe tbody tr th:only-of-type {\n",
       "        vertical-align: middle;\n",
       "    }\n",
       "\n",
       "    .dataframe tbody tr th {\n",
       "        vertical-align: top;\n",
       "    }\n",
       "\n",
       "    .dataframe thead th {\n",
       "        text-align: right;\n",
       "    }\n",
       "</style>\n",
       "<table border=\"1\" class=\"dataframe\">\n",
       "  <thead>\n",
       "    <tr style=\"text-align: right;\">\n",
       "      <th></th>\n",
       "      <th></th>\n",
       "      <th>q_count</th>\n",
       "      <th>q_duration</th>\n",
       "      <th>q_freq</th>\n",
       "      <th>q_delay</th>\n",
       "    </tr>\n",
       "    <tr>\n",
       "      <th>subregion</th>\n",
       "      <th>country</th>\n",
       "      <th></th>\n",
       "      <th></th>\n",
       "      <th></th>\n",
       "      <th></th>\n",
       "    </tr>\n",
       "  </thead>\n",
       "  <tbody>\n",
       "    <tr>\n",
       "      <th>Southern Europe</th>\n",
       "      <th>Albania</th>\n",
       "      <td>15.0</td>\n",
       "      <td>645.0</td>\n",
       "      <td>40.312500</td>\n",
       "      <td>40.0</td>\n",
       "    </tr>\n",
       "    <tr>\n",
       "      <th>Eastern Europe</th>\n",
       "      <th>Ukraine</th>\n",
       "      <td>12.0</td>\n",
       "      <td>628.5</td>\n",
       "      <td>53.027778</td>\n",
       "      <td>36.0</td>\n",
       "    </tr>\n",
       "    <tr>\n",
       "      <th rowspan=\"3\" valign=\"top\">South-eastern Asia</th>\n",
       "      <th>Thailand</th>\n",
       "      <td>12.0</td>\n",
       "      <td>628.0</td>\n",
       "      <td>50.875000</td>\n",
       "      <td>37.5</td>\n",
       "    </tr>\n",
       "    <tr>\n",
       "      <th>Malaysia</th>\n",
       "      <td>12.0</td>\n",
       "      <td>619.0</td>\n",
       "      <td>51.721154</td>\n",
       "      <td>36.0</td>\n",
       "    </tr>\n",
       "    <tr>\n",
       "      <th>Vietnam</th>\n",
       "      <td>12.0</td>\n",
       "      <td>617.0</td>\n",
       "      <td>50.166667</td>\n",
       "      <td>35.0</td>\n",
       "    </tr>\n",
       "    <tr>\n",
       "      <th rowspan=\"2\" valign=\"top\">Northern Europe</th>\n",
       "      <th>Sweden</th>\n",
       "      <td>5.0</td>\n",
       "      <td>313.0</td>\n",
       "      <td>50.041667</td>\n",
       "      <td>31.5</td>\n",
       "    </tr>\n",
       "    <tr>\n",
       "      <th>Norway</th>\n",
       "      <td>5.0</td>\n",
       "      <td>281.0</td>\n",
       "      <td>56.200000</td>\n",
       "      <td>34.0</td>\n",
       "    </tr>\n",
       "    <tr>\n",
       "      <th>Western Europe</th>\n",
       "      <th>Belgium</th>\n",
       "      <td>5.0</td>\n",
       "      <td>278.0</td>\n",
       "      <td>55.600000</td>\n",
       "      <td>27.0</td>\n",
       "    </tr>\n",
       "    <tr>\n",
       "      <th rowspan=\"2\" valign=\"top\">Sub-Saharan Africa</th>\n",
       "      <th>Mauritius</th>\n",
       "      <td>1.0</td>\n",
       "      <td>0.0</td>\n",
       "      <td>0.000000</td>\n",
       "      <td>67.0</td>\n",
       "    </tr>\n",
       "    <tr>\n",
       "      <th>Zambia</th>\n",
       "      <td>1.0</td>\n",
       "      <td>0.0</td>\n",
       "      <td>0.000000</td>\n",
       "      <td>67.0</td>\n",
       "    </tr>\n",
       "  </tbody>\n",
       "</table>\n",
       "</div>"
      ],
      "text/plain": [
       "                              q_count  q_duration     q_freq  q_delay\n",
       "subregion          country                                           \n",
       "Southern Europe    Albania       15.0       645.0  40.312500     40.0\n",
       "Eastern Europe     Ukraine       12.0       628.5  53.027778     36.0\n",
       "South-eastern Asia Thailand      12.0       628.0  50.875000     37.5\n",
       "                   Malaysia      12.0       619.0  51.721154     36.0\n",
       "                   Vietnam       12.0       617.0  50.166667     35.0\n",
       "Northern Europe    Sweden         5.0       313.0  50.041667     31.5\n",
       "                   Norway         5.0       281.0  56.200000     34.0\n",
       "Western Europe     Belgium        5.0       278.0  55.600000     27.0\n",
       "Sub-Saharan Africa Mauritius      1.0         0.0   0.000000     67.0\n",
       "                   Zambia         1.0         0.0   0.000000     67.0"
      ]
     },
     "execution_count": 192,
     "metadata": {},
     "output_type": "execute_result"
    }
   ],
   "source": [
    "# Sort and select for quarterly\n",
    "sorted_quarterly = df_samsung_quarterly_latex.sort_values(by=q_column_names,ascending=False)\n",
    "top5_quarterly = sorted_quarterly.head(5)\n",
    "bottom5_quarterly = sorted_quarterly.iloc[-5:]\n",
    "\n",
    "# print('========Quarterly=====')\n",
    "pd.concat([top5_quarterly, bottom5_quarterly])\n"
   ]
  },
  {
   "cell_type": "code",
   "execution_count": 193,
   "id": "37963030",
   "metadata": {},
   "outputs": [
    {
     "data": {
      "text/html": [
       "<div>\n",
       "<style scoped>\n",
       "    .dataframe tbody tr th:only-of-type {\n",
       "        vertical-align: middle;\n",
       "    }\n",
       "\n",
       "    .dataframe tbody tr th {\n",
       "        vertical-align: top;\n",
       "    }\n",
       "\n",
       "    .dataframe thead th {\n",
       "        text-align: right;\n",
       "    }\n",
       "</style>\n",
       "<table border=\"1\" class=\"dataframe\">\n",
       "  <thead>\n",
       "    <tr style=\"text-align: right;\">\n",
       "      <th></th>\n",
       "      <th></th>\n",
       "      <th>b_count</th>\n",
       "      <th>b_duration</th>\n",
       "      <th>b_freq</th>\n",
       "      <th>b_delay</th>\n",
       "    </tr>\n",
       "    <tr>\n",
       "      <th>subregion</th>\n",
       "      <th>country</th>\n",
       "      <th></th>\n",
       "      <th></th>\n",
       "      <th></th>\n",
       "      <th></th>\n",
       "    </tr>\n",
       "  </thead>\n",
       "  <tbody>\n",
       "    <tr>\n",
       "      <th>Eastern Asia</th>\n",
       "      <th>Hong Kong</th>\n",
       "      <td>5.5</td>\n",
       "      <td>566.5</td>\n",
       "      <td>93.214286</td>\n",
       "      <td>62.5</td>\n",
       "    </tr>\n",
       "    <tr>\n",
       "      <th>Australia and New Zealand</th>\n",
       "      <th>Australia</th>\n",
       "      <td>5.5</td>\n",
       "      <td>461.0</td>\n",
       "      <td>81.071429</td>\n",
       "      <td>69.5</td>\n",
       "    </tr>\n",
       "    <tr>\n",
       "      <th rowspan=\"2\" valign=\"top\">Southern Europe</th>\n",
       "      <th>Serbia</th>\n",
       "      <td>5.0</td>\n",
       "      <td>619.0</td>\n",
       "      <td>104.800000</td>\n",
       "      <td>87.0</td>\n",
       "    </tr>\n",
       "    <tr>\n",
       "      <th>Bosnia and Herzegovina</th>\n",
       "      <td>5.0</td>\n",
       "      <td>577.0</td>\n",
       "      <td>100.666667</td>\n",
       "      <td>78.0</td>\n",
       "    </tr>\n",
       "    <tr>\n",
       "      <th>Southern Asia</th>\n",
       "      <th>Bangladesh</th>\n",
       "      <td>5.0</td>\n",
       "      <td>568.0</td>\n",
       "      <td>93.142857</td>\n",
       "      <td>88.0</td>\n",
       "    </tr>\n",
       "    <tr>\n",
       "      <th>Western Europe</th>\n",
       "      <th>Belgium</th>\n",
       "      <td>1.0</td>\n",
       "      <td>0.0</td>\n",
       "      <td>0.000000</td>\n",
       "      <td>81.0</td>\n",
       "    </tr>\n",
       "    <tr>\n",
       "      <th>Latin America and the Caribbean</th>\n",
       "      <th>Costa Rica</th>\n",
       "      <td>1.0</td>\n",
       "      <td>0.0</td>\n",
       "      <td>0.000000</td>\n",
       "      <td>77.5</td>\n",
       "    </tr>\n",
       "    <tr>\n",
       "      <th>Western Asia</th>\n",
       "      <th>Israel</th>\n",
       "      <td>1.0</td>\n",
       "      <td>0.0</td>\n",
       "      <td>0.000000</td>\n",
       "      <td>59.0</td>\n",
       "    </tr>\n",
       "    <tr>\n",
       "      <th>Northern Africa</th>\n",
       "      <th>Algeria</th>\n",
       "      <td>1.0</td>\n",
       "      <td>0.0</td>\n",
       "      <td>0.000000</td>\n",
       "      <td>45.0</td>\n",
       "    </tr>\n",
       "    <tr>\n",
       "      <th>Northern Europe</th>\n",
       "      <th>Sweden</th>\n",
       "      <td>1.0</td>\n",
       "      <td>0.0</td>\n",
       "      <td>0.000000</td>\n",
       "      <td>16.0</td>\n",
       "    </tr>\n",
       "  </tbody>\n",
       "</table>\n",
       "</div>"
      ],
      "text/plain": [
       "                                                        b_count  b_duration  \\\n",
       "subregion                       country                                       \n",
       "Eastern Asia                    Hong Kong                   5.5       566.5   \n",
       "Australia and New Zealand       Australia                   5.5       461.0   \n",
       "Southern Europe                 Serbia                      5.0       619.0   \n",
       "                                Bosnia and Herzegovina      5.0       577.0   \n",
       "Southern Asia                   Bangladesh                  5.0       568.0   \n",
       "Western Europe                  Belgium                     1.0         0.0   \n",
       "Latin America and the Caribbean Costa Rica                  1.0         0.0   \n",
       "Western Asia                    Israel                      1.0         0.0   \n",
       "Northern Africa                 Algeria                     1.0         0.0   \n",
       "Northern Europe                 Sweden                      1.0         0.0   \n",
       "\n",
       "                                                            b_freq  b_delay  \n",
       "subregion                       country                                      \n",
       "Eastern Asia                    Hong Kong                93.214286     62.5  \n",
       "Australia and New Zealand       Australia                81.071429     69.5  \n",
       "Southern Europe                 Serbia                  104.800000     87.0  \n",
       "                                Bosnia and Herzegovina  100.666667     78.0  \n",
       "Southern Asia                   Bangladesh               93.142857     88.0  \n",
       "Western Europe                  Belgium                   0.000000     81.0  \n",
       "Latin America and the Caribbean Costa Rica                0.000000     77.5  \n",
       "Western Asia                    Israel                    0.000000     59.0  \n",
       "Northern Africa                 Algeria                   0.000000     45.0  \n",
       "Northern Europe                 Sweden                    0.000000     16.0  "
      ]
     },
     "execution_count": 193,
     "metadata": {},
     "output_type": "execute_result"
    }
   ],
   "source": [
    "# Sort and select for biannual\n",
    "sorted_biannual = df_samsung_biannual_latex.sort_values(by=b_column_names,ascending=False)\n",
    "top5_biannual = sorted_biannual.head(5)\n",
    "bottom5_biannual = sorted_biannual.iloc[-5:]\n",
    "\n",
    "# print('========Biannual=====')\n",
    "pd.concat([top5_biannual, bottom5_biannual])\n"
   ]
  },
  {
   "cell_type": "markdown",
   "id": "9412a262",
   "metadata": {},
   "source": [
    "## Xiaomi"
   ]
  },
  {
   "cell_type": "code",
   "execution_count": 198,
   "id": "099763ed",
   "metadata": {},
   "outputs": [
    {
     "data": {
      "text/plain": [
       "update_count          3.011905\n",
       "support_duration    136.309595\n",
       "update_frequency     38.986554\n",
       "delay                30.252899\n",
       "dtype: float64"
      ]
     },
     "execution_count": 198,
     "metadata": {},
     "output_type": "execute_result"
    }
   ],
   "source": [
    "df_final_xiaomi.groupby('region').mean().mean()"
   ]
  },
  {
   "cell_type": "code",
   "execution_count": 194,
   "id": "ee23d5d3",
   "metadata": {},
   "outputs": [
    {
     "data": {
      "text/html": [
       "<div>\n",
       "<style scoped>\n",
       "    .dataframe tbody tr th:only-of-type {\n",
       "        vertical-align: middle;\n",
       "    }\n",
       "\n",
       "    .dataframe tbody tr th {\n",
       "        vertical-align: top;\n",
       "    }\n",
       "\n",
       "    .dataframe thead th {\n",
       "        text-align: right;\n",
       "    }\n",
       "</style>\n",
       "<table border=\"1\" class=\"dataframe\">\n",
       "  <thead>\n",
       "    <tr style=\"text-align: right;\">\n",
       "      <th></th>\n",
       "      <th>update_count</th>\n",
       "      <th>support_duration</th>\n",
       "      <th>update_frequency</th>\n",
       "      <th>delay</th>\n",
       "    </tr>\n",
       "    <tr>\n",
       "      <th>region</th>\n",
       "      <th></th>\n",
       "      <th></th>\n",
       "      <th></th>\n",
       "      <th></th>\n",
       "    </tr>\n",
       "  </thead>\n",
       "  <tbody>\n",
       "    <tr>\n",
       "      <th>China</th>\n",
       "      <td>4.543860</td>\n",
       "      <td>274.403509</td>\n",
       "      <td>57.731990</td>\n",
       "      <td>28.655556</td>\n",
       "    </tr>\n",
       "    <tr>\n",
       "      <th>EEA</th>\n",
       "      <td>2.417582</td>\n",
       "      <td>172.142857</td>\n",
       "      <td>58.410256</td>\n",
       "      <td>35.288235</td>\n",
       "    </tr>\n",
       "    <tr>\n",
       "      <th>Global</th>\n",
       "      <td>3.060403</td>\n",
       "      <td>210.718121</td>\n",
       "      <td>61.782942</td>\n",
       "      <td>39.070000</td>\n",
       "    </tr>\n",
       "    <tr>\n",
       "      <th>India</th>\n",
       "      <td>2.486111</td>\n",
       "      <td>153.458333</td>\n",
       "      <td>51.068287</td>\n",
       "      <td>30.117188</td>\n",
       "    </tr>\n",
       "    <tr>\n",
       "      <th>Indonesia</th>\n",
       "      <td>2.472727</td>\n",
       "      <td>83.054545</td>\n",
       "      <td>29.321212</td>\n",
       "      <td>35.028846</td>\n",
       "    </tr>\n",
       "    <tr>\n",
       "      <th>Japan</th>\n",
       "      <td>2.000000</td>\n",
       "      <td>8.400000</td>\n",
       "      <td>4.200000</td>\n",
       "      <td>11.800000</td>\n",
       "    </tr>\n",
       "    <tr>\n",
       "      <th>Russia</th>\n",
       "      <td>2.298969</td>\n",
       "      <td>75.670103</td>\n",
       "      <td>26.913230</td>\n",
       "      <td>33.221591</td>\n",
       "    </tr>\n",
       "    <tr>\n",
       "      <th>Singapore</th>\n",
       "      <td>6.000000</td>\n",
       "      <td>181.000000</td>\n",
       "      <td>30.166667</td>\n",
       "      <td>NaN</td>\n",
       "    </tr>\n",
       "    <tr>\n",
       "      <th>Taiwan</th>\n",
       "      <td>2.272727</td>\n",
       "      <td>56.181818</td>\n",
       "      <td>20.434848</td>\n",
       "      <td>29.933962</td>\n",
       "    </tr>\n",
       "    <tr>\n",
       "      <th>Turkey</th>\n",
       "      <td>2.566667</td>\n",
       "      <td>148.066667</td>\n",
       "      <td>49.836111</td>\n",
       "      <td>29.160714</td>\n",
       "    </tr>\n",
       "  </tbody>\n",
       "</table>\n",
       "</div>"
      ],
      "text/plain": [
       "           update_count  support_duration  update_frequency      delay\n",
       "region                                                                \n",
       "China          4.543860        274.403509         57.731990  28.655556\n",
       "EEA            2.417582        172.142857         58.410256  35.288235\n",
       "Global         3.060403        210.718121         61.782942  39.070000\n",
       "India          2.486111        153.458333         51.068287  30.117188\n",
       "Indonesia      2.472727         83.054545         29.321212  35.028846\n",
       "Japan          2.000000          8.400000          4.200000  11.800000\n",
       "Russia         2.298969         75.670103         26.913230  33.221591\n",
       "Singapore      6.000000        181.000000         30.166667        NaN\n",
       "Taiwan         2.272727         56.181818         20.434848  29.933962\n",
       "Turkey         2.566667        148.066667         49.836111  29.160714"
      ]
     },
     "execution_count": 194,
     "metadata": {},
     "output_type": "execute_result"
    }
   ],
   "source": [
    "df_final_xiaomi.groupby('region').mean()"
   ]
  },
  {
   "cell_type": "markdown",
   "id": "5821395f",
   "metadata": {},
   "source": [
    "## Oppo"
   ]
  },
  {
   "cell_type": "code",
   "execution_count": 197,
   "id": "ffb35ccf",
   "metadata": {},
   "outputs": [
    {
     "data": {
      "text/html": [
       "<div>\n",
       "<style scoped>\n",
       "    .dataframe tbody tr th:only-of-type {\n",
       "        vertical-align: middle;\n",
       "    }\n",
       "\n",
       "    .dataframe tbody tr th {\n",
       "        vertical-align: top;\n",
       "    }\n",
       "\n",
       "    .dataframe thead th {\n",
       "        text-align: right;\n",
       "    }\n",
       "</style>\n",
       "<table border=\"1\" class=\"dataframe\">\n",
       "  <thead>\n",
       "    <tr style=\"text-align: right;\">\n",
       "      <th></th>\n",
       "      <th>update_count</th>\n",
       "      <th>support_duration</th>\n",
       "      <th>update_frequency</th>\n",
       "      <th>delay</th>\n",
       "    </tr>\n",
       "    <tr>\n",
       "      <th>region</th>\n",
       "      <th></th>\n",
       "      <th></th>\n",
       "      <th></th>\n",
       "      <th></th>\n",
       "    </tr>\n",
       "  </thead>\n",
       "  <tbody>\n",
       "    <tr>\n",
       "      <th>Africa &amp; Middle East</th>\n",
       "      <td>6.824615</td>\n",
       "      <td>521.172308</td>\n",
       "      <td>87.878895</td>\n",
       "      <td>32.863636</td>\n",
       "    </tr>\n",
       "    <tr>\n",
       "      <th>Asia Pacific</th>\n",
       "      <td>8.658789</td>\n",
       "      <td>602.042836</td>\n",
       "      <td>84.980798</td>\n",
       "      <td>35.146694</td>\n",
       "    </tr>\n",
       "    <tr>\n",
       "      <th>Europe</th>\n",
       "      <td>9.408451</td>\n",
       "      <td>564.239437</td>\n",
       "      <td>68.172044</td>\n",
       "      <td>35.400000</td>\n",
       "    </tr>\n",
       "  </tbody>\n",
       "</table>\n",
       "</div>"
      ],
      "text/plain": [
       "                      update_count  support_duration  update_frequency  \\\n",
       "region                                                                   \n",
       "Africa & Middle East      6.824615        521.172308         87.878895   \n",
       "Asia Pacific              8.658789        602.042836         84.980798   \n",
       "Europe                    9.408451        564.239437         68.172044   \n",
       "\n",
       "                          delay  \n",
       "region                           \n",
       "Africa & Middle East  32.863636  \n",
       "Asia Pacific          35.146694  \n",
       "Europe                35.400000  "
      ]
     },
     "execution_count": 197,
     "metadata": {},
     "output_type": "execute_result"
    }
   ],
   "source": [
    "df_final_oppo.groupby(['region']).mean()"
   ]
  },
  {
   "cell_type": "code",
   "execution_count": 196,
   "id": "2d1492e4",
   "metadata": {},
   "outputs": [
    {
     "data": {
      "text/html": [
       "<div>\n",
       "<style scoped>\n",
       "    .dataframe tbody tr th:only-of-type {\n",
       "        vertical-align: middle;\n",
       "    }\n",
       "\n",
       "    .dataframe tbody tr th {\n",
       "        vertical-align: top;\n",
       "    }\n",
       "\n",
       "    .dataframe thead th {\n",
       "        text-align: right;\n",
       "    }\n",
       "</style>\n",
       "<table border=\"1\" class=\"dataframe\">\n",
       "  <thead>\n",
       "    <tr style=\"text-align: right;\">\n",
       "      <th></th>\n",
       "      <th>update_count</th>\n",
       "      <th>support_duration</th>\n",
       "      <th>update_frequency</th>\n",
       "      <th>delay</th>\n",
       "    </tr>\n",
       "    <tr>\n",
       "      <th>country</th>\n",
       "      <th></th>\n",
       "      <th></th>\n",
       "      <th></th>\n",
       "      <th></th>\n",
       "    </tr>\n",
       "  </thead>\n",
       "  <tbody>\n",
       "    <tr>\n",
       "      <th>Algeria</th>\n",
       "      <td>6.926829</td>\n",
       "      <td>585.463415</td>\n",
       "      <td>101.329215</td>\n",
       "      <td>38.277778</td>\n",
       "    </tr>\n",
       "    <tr>\n",
       "      <th>Australia</th>\n",
       "      <td>7.857143</td>\n",
       "      <td>539.928571</td>\n",
       "      <td>82.050765</td>\n",
       "      <td>36.437500</td>\n",
       "    </tr>\n",
       "    <tr>\n",
       "      <th>Bangladesh</th>\n",
       "      <td>7.764706</td>\n",
       "      <td>592.392157</td>\n",
       "      <td>91.496593</td>\n",
       "      <td>36.968750</td>\n",
       "    </tr>\n",
       "    <tr>\n",
       "      <th>Cambodia</th>\n",
       "      <td>8.235294</td>\n",
       "      <td>527.264706</td>\n",
       "      <td>72.180603</td>\n",
       "      <td>34.366667</td>\n",
       "    </tr>\n",
       "    <tr>\n",
       "      <th>Egypt</th>\n",
       "      <td>6.338710</td>\n",
       "      <td>463.338710</td>\n",
       "      <td>77.599209</td>\n",
       "      <td>32.111111</td>\n",
       "    </tr>\n",
       "    <tr>\n",
       "      <th>France</th>\n",
       "      <td>11.083333</td>\n",
       "      <td>669.000000</td>\n",
       "      <td>69.914857</td>\n",
       "      <td>30.562500</td>\n",
       "    </tr>\n",
       "    <tr>\n",
       "      <th>India</th>\n",
       "      <td>9.964912</td>\n",
       "      <td>627.017544</td>\n",
       "      <td>81.137070</td>\n",
       "      <td>29.619048</td>\n",
       "    </tr>\n",
       "    <tr>\n",
       "      <th>Indonesia</th>\n",
       "      <td>8.944444</td>\n",
       "      <td>597.777778</td>\n",
       "      <td>79.675353</td>\n",
       "      <td>33.000000</td>\n",
       "    </tr>\n",
       "    <tr>\n",
       "      <th>Italy</th>\n",
       "      <td>9.647059</td>\n",
       "      <td>563.764706</td>\n",
       "      <td>61.314196</td>\n",
       "      <td>31.055556</td>\n",
       "    </tr>\n",
       "    <tr>\n",
       "      <th>Japan</th>\n",
       "      <td>10.625000</td>\n",
       "      <td>650.750000</td>\n",
       "      <td>58.442580</td>\n",
       "      <td>31.000000</td>\n",
       "    </tr>\n",
       "    <tr>\n",
       "      <th>Jordan</th>\n",
       "      <td>3.250000</td>\n",
       "      <td>176.500000</td>\n",
       "      <td>55.062500</td>\n",
       "      <td>42.500000</td>\n",
       "    </tr>\n",
       "    <tr>\n",
       "      <th>Kazakhstan</th>\n",
       "      <td>9.918919</td>\n",
       "      <td>643.594595</td>\n",
       "      <td>74.347973</td>\n",
       "      <td>32.107143</td>\n",
       "    </tr>\n",
       "    <tr>\n",
       "      <th>Kenya</th>\n",
       "      <td>7.395349</td>\n",
       "      <td>589.279070</td>\n",
       "      <td>95.077239</td>\n",
       "      <td>33.615385</td>\n",
       "    </tr>\n",
       "    <tr>\n",
       "      <th>Malaysia</th>\n",
       "      <td>8.540000</td>\n",
       "      <td>622.500000</td>\n",
       "      <td>95.209811</td>\n",
       "      <td>35.625000</td>\n",
       "    </tr>\n",
       "    <tr>\n",
       "      <th>Morocco</th>\n",
       "      <td>7.125000</td>\n",
       "      <td>572.925000</td>\n",
       "      <td>93.894829</td>\n",
       "      <td>34.692308</td>\n",
       "    </tr>\n",
       "    <tr>\n",
       "      <th>Myanmar</th>\n",
       "      <td>8.489362</td>\n",
       "      <td>590.851064</td>\n",
       "      <td>80.384107</td>\n",
       "      <td>34.777778</td>\n",
       "    </tr>\n",
       "    <tr>\n",
       "      <th>Nepal</th>\n",
       "      <td>8.428571</td>\n",
       "      <td>599.452381</td>\n",
       "      <td>79.728833</td>\n",
       "      <td>40.192308</td>\n",
       "    </tr>\n",
       "    <tr>\n",
       "      <th>Netherlands</th>\n",
       "      <td>9.000000</td>\n",
       "      <td>541.470588</td>\n",
       "      <td>66.025754</td>\n",
       "      <td>35.800000</td>\n",
       "    </tr>\n",
       "    <tr>\n",
       "      <th>New Zealand</th>\n",
       "      <td>7.944444</td>\n",
       "      <td>544.166667</td>\n",
       "      <td>78.583185</td>\n",
       "      <td>39.937500</td>\n",
       "    </tr>\n",
       "    <tr>\n",
       "      <th>Nigeria</th>\n",
       "      <td>5.576923</td>\n",
       "      <td>426.961538</td>\n",
       "      <td>83.481317</td>\n",
       "      <td>29.333333</td>\n",
       "    </tr>\n",
       "    <tr>\n",
       "      <th>Pakistan</th>\n",
       "      <td>8.470588</td>\n",
       "      <td>608.039216</td>\n",
       "      <td>87.030812</td>\n",
       "      <td>36.472222</td>\n",
       "    </tr>\n",
       "    <tr>\n",
       "      <th>Philippines</th>\n",
       "      <td>8.145833</td>\n",
       "      <td>608.187500</td>\n",
       "      <td>92.573432</td>\n",
       "      <td>34.366667</td>\n",
       "    </tr>\n",
       "    <tr>\n",
       "      <th>Poland</th>\n",
       "      <td>8.294118</td>\n",
       "      <td>559.058824</td>\n",
       "      <td>83.285396</td>\n",
       "      <td>32.125000</td>\n",
       "    </tr>\n",
       "    <tr>\n",
       "      <th>Russia</th>\n",
       "      <td>11.166667</td>\n",
       "      <td>666.166667</td>\n",
       "      <td>67.579432</td>\n",
       "      <td>31.416667</td>\n",
       "    </tr>\n",
       "    <tr>\n",
       "      <th>Saudi Arabia</th>\n",
       "      <td>8.222222</td>\n",
       "      <td>492.185185</td>\n",
       "      <td>72.110473</td>\n",
       "      <td>29.909091</td>\n",
       "    </tr>\n",
       "    <tr>\n",
       "      <th>Singapore</th>\n",
       "      <td>8.062500</td>\n",
       "      <td>568.406250</td>\n",
       "      <td>96.369654</td>\n",
       "      <td>37.277778</td>\n",
       "    </tr>\n",
       "    <tr>\n",
       "      <th>South Africa</th>\n",
       "      <td>3.000000</td>\n",
       "      <td>495.000000</td>\n",
       "      <td>165.000000</td>\n",
       "      <td>NaN</td>\n",
       "    </tr>\n",
       "    <tr>\n",
       "      <th>Sri Lanka</th>\n",
       "      <td>8.000000</td>\n",
       "      <td>606.851064</td>\n",
       "      <td>91.878502</td>\n",
       "      <td>39.357143</td>\n",
       "    </tr>\n",
       "    <tr>\n",
       "      <th>Switzerland</th>\n",
       "      <td>9.562500</td>\n",
       "      <td>503.500000</td>\n",
       "      <td>51.007598</td>\n",
       "      <td>46.050000</td>\n",
       "    </tr>\n",
       "    <tr>\n",
       "      <th>Taiwan</th>\n",
       "      <td>9.296296</td>\n",
       "      <td>676.629630</td>\n",
       "      <td>99.220787</td>\n",
       "      <td>36.500000</td>\n",
       "    </tr>\n",
       "    <tr>\n",
       "      <th>Thailand</th>\n",
       "      <td>9.391304</td>\n",
       "      <td>613.847826</td>\n",
       "      <td>80.512746</td>\n",
       "      <td>34.078947</td>\n",
       "    </tr>\n",
       "    <tr>\n",
       "      <th>Tunisia</th>\n",
       "      <td>6.142857</td>\n",
       "      <td>472.428571</td>\n",
       "      <td>88.694913</td>\n",
       "      <td>31.900000</td>\n",
       "    </tr>\n",
       "    <tr>\n",
       "      <th>Turkey</th>\n",
       "      <td>9.000000</td>\n",
       "      <td>545.894737</td>\n",
       "      <td>73.976680</td>\n",
       "      <td>38.722222</td>\n",
       "    </tr>\n",
       "    <tr>\n",
       "      <th>UAE</th>\n",
       "      <td>7.744681</td>\n",
       "      <td>593.170213</td>\n",
       "      <td>89.668577</td>\n",
       "      <td>31.857143</td>\n",
       "    </tr>\n",
       "    <tr>\n",
       "      <th>Ukraine</th>\n",
       "      <td>6.142857</td>\n",
       "      <td>384.857143</td>\n",
       "      <td>72.268543</td>\n",
       "      <td>38.250000</td>\n",
       "    </tr>\n",
       "  </tbody>\n",
       "</table>\n",
       "</div>"
      ],
      "text/plain": [
       "              update_count  support_duration  update_frequency      delay\n",
       "country                                                                  \n",
       "Algeria           6.926829        585.463415        101.329215  38.277778\n",
       "Australia         7.857143        539.928571         82.050765  36.437500\n",
       "Bangladesh        7.764706        592.392157         91.496593  36.968750\n",
       "Cambodia          8.235294        527.264706         72.180603  34.366667\n",
       "Egypt             6.338710        463.338710         77.599209  32.111111\n",
       "France           11.083333        669.000000         69.914857  30.562500\n",
       "India             9.964912        627.017544         81.137070  29.619048\n",
       "Indonesia         8.944444        597.777778         79.675353  33.000000\n",
       "Italy             9.647059        563.764706         61.314196  31.055556\n",
       "Japan            10.625000        650.750000         58.442580  31.000000\n",
       "Jordan            3.250000        176.500000         55.062500  42.500000\n",
       "Kazakhstan        9.918919        643.594595         74.347973  32.107143\n",
       "Kenya             7.395349        589.279070         95.077239  33.615385\n",
       "Malaysia          8.540000        622.500000         95.209811  35.625000\n",
       "Morocco           7.125000        572.925000         93.894829  34.692308\n",
       "Myanmar           8.489362        590.851064         80.384107  34.777778\n",
       "Nepal             8.428571        599.452381         79.728833  40.192308\n",
       "Netherlands       9.000000        541.470588         66.025754  35.800000\n",
       "New Zealand       7.944444        544.166667         78.583185  39.937500\n",
       "Nigeria           5.576923        426.961538         83.481317  29.333333\n",
       "Pakistan          8.470588        608.039216         87.030812  36.472222\n",
       "Philippines       8.145833        608.187500         92.573432  34.366667\n",
       "Poland            8.294118        559.058824         83.285396  32.125000\n",
       "Russia           11.166667        666.166667         67.579432  31.416667\n",
       "Saudi Arabia      8.222222        492.185185         72.110473  29.909091\n",
       "Singapore         8.062500        568.406250         96.369654  37.277778\n",
       "South Africa      3.000000        495.000000        165.000000        NaN\n",
       "Sri Lanka         8.000000        606.851064         91.878502  39.357143\n",
       "Switzerland       9.562500        503.500000         51.007598  46.050000\n",
       "Taiwan            9.296296        676.629630         99.220787  36.500000\n",
       "Thailand          9.391304        613.847826         80.512746  34.078947\n",
       "Tunisia           6.142857        472.428571         88.694913  31.900000\n",
       "Turkey            9.000000        545.894737         73.976680  38.722222\n",
       "UAE               7.744681        593.170213         89.668577  31.857143\n",
       "Ukraine           6.142857        384.857143         72.268543  38.250000"
      ]
     },
     "execution_count": 196,
     "metadata": {},
     "output_type": "execute_result"
    }
   ],
   "source": [
    "df_final_oppo.groupby(['country']).mean()"
   ]
  },
  {
   "cell_type": "markdown",
   "id": "c47aa6ab",
   "metadata": {},
   "source": [
    "# 3. Device Type Analysis"
   ]
  },
  {
   "cell_type": "markdown",
   "id": "afc1ff91",
   "metadata": {},
   "source": [
    "## Samsung"
   ]
  },
  {
   "cell_type": "code",
   "execution_count": 227,
   "id": "268610bf",
   "metadata": {},
   "outputs": [],
   "source": [
    "df_timelines['monthly_duration'] = pd.to_timedelta(df_timelines['monthly_duration'])\n",
    "df_timelines['quarterly_duration'] = pd.to_timedelta(df_timelines['quarterly_duration'])\n",
    "df_timelines['biannually_duration'] = pd.to_timedelta(df_timelines['biannually_duration'])"
   ]
  },
  {
   "cell_type": "code",
   "execution_count": 239,
   "id": "6a6f471c",
   "metadata": {},
   "outputs": [],
   "source": [
    "df_timelines_watch = df_timelines[df_timelines['device'].str.contains('Watch')]\n",
    "df_timelines_tablet = df_timelines[df_timelines['device'].str.contains('Tab')]\n",
    "df_timelines_phone = df_timelines[~(df_timelines['device'].str.contains('Watch') | df_timelines['device'].str.contains('Tab'))]"
   ]
  },
  {
   "cell_type": "code",
   "execution_count": 242,
   "id": "ae3edec8",
   "metadata": {},
   "outputs": [
    {
     "name": "stdout",
     "output_type": "stream",
     "text": [
      "-----Monthly----\n",
      "phone: 1044 days 03:57:27.250000\n",
      "tablet: NaT\n",
      "watch: NaT\n",
      "-----Quarterly----\n",
      "phone: 597 days 04:25:45.022471912\n",
      "tablet: 450 days 16:57:47.818181816\n",
      "watch: NaT\n",
      "-----Biannual----\n",
      "phone: 561 days 18:42:06.886363640\n",
      "tablet: 477 days 01:15:04.222222224\n",
      "watch: NaT\n"
     ]
    }
   ],
   "source": [
    "print('-----Monthly----')\n",
    "print('phone: {}'.format(df_timelines_phone['monthly_duration'].mean()))\n",
    "print('tablet: {}'.format(df_timelines_tablet['monthly_duration'].mean()))\n",
    "print('watch: {}'.format(df_timelines_watch['monthly_duration'].mean()))\n",
    "\n",
    "print('-----Quarterly----')\n",
    "print('phone: {}'.format(df_timelines_phone['quarterly_duration'].mean()))\n",
    "print('tablet: {}'.format(df_timelines_tablet['quarterly_duration'].mean()))\n",
    "print('watch: {}'.format(df_timelines_watch['quarterly_duration'].mean()))\n",
    "\n",
    "print('-----Biannual----')\n",
    "print('phone: {}'.format(df_timelines_phone['biannually_duration'].mean()))\n",
    "print('tablet: {}'.format(df_timelines_tablet['biannually_duration'].mean()))\n",
    "print('watch: {}'.format(df_timelines_watch['biannually_duration'].mean()))"
   ]
  },
  {
   "cell_type": "code",
   "execution_count": 199,
   "id": "f5861e2b",
   "metadata": {},
   "outputs": [],
   "source": [
    "df_final_samsung['release_date_duration_days'] = df_final_samsung['release_date_duration'].dt.days"
   ]
  },
  {
   "cell_type": "code",
   "execution_count": 201,
   "id": "b83416d8",
   "metadata": {},
   "outputs": [
    {
     "data": {
      "text/html": [
       "<div>\n",
       "<style scoped>\n",
       "    .dataframe tbody tr th:only-of-type {\n",
       "        vertical-align: middle;\n",
       "    }\n",
       "\n",
       "    .dataframe tbody tr th {\n",
       "        vertical-align: top;\n",
       "    }\n",
       "\n",
       "    .dataframe thead th {\n",
       "        text-align: right;\n",
       "    }\n",
       "</style>\n",
       "<table border=\"1\" class=\"dataframe\">\n",
       "  <thead>\n",
       "    <tr style=\"text-align: right;\">\n",
       "      <th></th>\n",
       "      <th>release_count</th>\n",
       "      <th>release_date_duration_days</th>\n",
       "      <th>avg_release_freq</th>\n",
       "      <th>avg_release_delay</th>\n",
       "    </tr>\n",
       "    <tr>\n",
       "      <th>device_type</th>\n",
       "      <th></th>\n",
       "      <th></th>\n",
       "      <th></th>\n",
       "      <th></th>\n",
       "    </tr>\n",
       "  </thead>\n",
       "  <tbody>\n",
       "    <tr>\n",
       "      <th>smartphone</th>\n",
       "      <td>17.802914</td>\n",
       "      <td>792.524249</td>\n",
       "      <td>49.966104</td>\n",
       "      <td>130.875578</td>\n",
       "    </tr>\n",
       "    <tr>\n",
       "      <th>tablet</th>\n",
       "      <td>10.720165</td>\n",
       "      <td>647.828189</td>\n",
       "      <td>51.549247</td>\n",
       "      <td>225.338912</td>\n",
       "    </tr>\n",
       "    <tr>\n",
       "      <th>wearable</th>\n",
       "      <td>8.405722</td>\n",
       "      <td>363.280884</td>\n",
       "      <td>41.656805</td>\n",
       "      <td>39.914174</td>\n",
       "    </tr>\n",
       "  </tbody>\n",
       "</table>\n",
       "</div>"
      ],
      "text/plain": [
       "             release_count  release_date_duration_days  avg_release_freq  \\\n",
       "device_type                                                                \n",
       "smartphone       17.802914                  792.524249         49.966104   \n",
       "tablet           10.720165                  647.828189         51.549247   \n",
       "wearable          8.405722                  363.280884         41.656805   \n",
       "\n",
       "             avg_release_delay  \n",
       "device_type                     \n",
       "smartphone          130.875578  \n",
       "tablet              225.338912  \n",
       "wearable             39.914174  "
      ]
     },
     "execution_count": 201,
     "metadata": {},
     "output_type": "execute_result"
    }
   ],
   "source": [
    "df_final_samsung[['device_type','release_count','release_date_duration_days','avg_release_freq','avg_release_delay']].groupby(['device_type']).mean()[1:]"
   ]
  },
  {
   "cell_type": "markdown",
   "id": "9ceede9b",
   "metadata": {},
   "source": [
    "### Update Count"
   ]
  },
  {
   "cell_type": "code",
   "execution_count": 203,
   "id": "e134ab32",
   "metadata": {},
   "outputs": [
    {
     "data": {
      "image/png": "[encoded data removed]",
      "text/plain": [
       "<Figure size 432x216 with 1 Axes>"
      ]
     },
     "metadata": {
      "needs_background": "light"
     },
     "output_type": "display_data"
    },
    {
     "data": {
      "text/html": [
       "<div>\n",
       "<style scoped>\n",
       "    .dataframe tbody tr th:only-of-type {\n",
       "        vertical-align: middle;\n",
       "    }\n",
       "\n",
       "    .dataframe tbody tr th {\n",
       "        vertical-align: top;\n",
       "    }\n",
       "\n",
       "    .dataframe thead th {\n",
       "        text-align: right;\n",
       "    }\n",
       "</style>\n",
       "<table border=\"1\" class=\"dataframe\">\n",
       "  <thead>\n",
       "    <tr style=\"text-align: right;\">\n",
       "      <th></th>\n",
       "      <th>smartphone</th>\n",
       "      <th>tablet</th>\n",
       "    </tr>\n",
       "    <tr>\n",
       "      <th>type</th>\n",
       "      <th></th>\n",
       "      <th></th>\n",
       "    </tr>\n",
       "  </thead>\n",
       "  <tbody>\n",
       "    <tr>\n",
       "      <th>quarterly</th>\n",
       "      <td>9.0</td>\n",
       "      <td>12.0</td>\n",
       "    </tr>\n",
       "    <tr>\n",
       "      <th>biannual</th>\n",
       "      <td>4.0</td>\n",
       "      <td>2.0</td>\n",
       "    </tr>\n",
       "  </tbody>\n",
       "</table>\n",
       "</div>"
      ],
      "text/plain": [
       "           smartphone  tablet\n",
       "type                         \n",
       "quarterly         9.0    12.0\n",
       "biannual          4.0     2.0"
      ]
     },
     "execution_count": 203,
     "metadata": {},
     "output_type": "execute_result"
    },
    {
     "data": {
      "text/plain": [
       "<Figure size 432x288 with 0 Axes>"
      ]
     },
     "metadata": {},
     "output_type": "display_data"
    }
   ],
   "source": [
    "c= 'release_count'\n",
    "\n",
    "df_plot_monthly = pd.DataFrame()\n",
    "df_plot_quarterly = pd.DataFrame()\n",
    "df_plot_biannual = pd.DataFrame()\n",
    "\n",
    "\n",
    "#df_plot_monthly = pd.DataFrame({'type': 'monthly',\n",
    "#                       'smartphone': df_monthly_features[df_monthly_features['device_type']=='smartphone'][c]})\n",
    "\n",
    "df_plot_quarterly = pd.DataFrame({'type': 'quarterly',\n",
    "                       'smartphone': df_final_samsung_quarterly[df_final_samsung_quarterly['device_type']=='smartphone'][c],\n",
    "                       'tablet': df_final_samsung_quarterly[df_final_samsung_quarterly['device_type']=='tablet'][c]})\n",
    "\n",
    "df_plot_biannual = pd.DataFrame({'type':'biannual',\n",
    "                       'smartphone': df_final_samsung_biannual[df_final_samsung_biannual['device_type']=='smartphone'][c],\n",
    "                       'tablet': df_final_samsung_biannual[df_final_samsung_biannual['device_type']=='tablet'][c]})\n",
    "\n",
    "\n",
    "red_circle = dict(markerfacecolor='red', marker='o')\n",
    "df_box=pd.concat([df_plot_monthly,df_plot_quarterly,df_plot_biannual])\n",
    "\n",
    "grouped = df_box.groupby('type',sort=False)\n",
    "grouped.boxplot(subplots=False,rot=90, fontsize=16, figsize=(6,3),flierprops=red_circle,sharex=True,sharey=True)  \n",
    "plt.title('Update Count',fontsize=20)\n",
    "plt.xticks([1,2,3,4],['smartphone \\n                quarterly','tablet','smartphone \\n                biannually','tablet'],rotation=0, ha='center',fontsize=16)\n",
    "plt.yticks(fontsize=16)\n",
    "plt.gca().yaxis.set_major_locator(plt.MultipleLocator(15))\n",
    "plt.grid(linestyle='-.')\n",
    "#plt.savefig('../Results/Figures/1_device_type_spl_count.pdf', bbox_inches='tight')\n",
    "plt.show()\n",
    "plt.tight_layout()\n",
    "\n",
    "grouped.median()\n"
   ]
  },
  {
   "cell_type": "markdown",
   "id": "027c35a4",
   "metadata": {},
   "source": [
    "### Support Duration"
   ]
  },
  {
   "cell_type": "code",
   "execution_count": 204,
   "id": "b882332b",
   "metadata": {},
   "outputs": [
    {
     "data": {
      "image/png": "[encoded data removed]",
      "text/plain": [
       "<Figure size 432x216 with 1 Axes>"
      ]
     },
     "metadata": {
      "needs_background": "light"
     },
     "output_type": "display_data"
    },
    {
     "data": {
      "text/html": [
       "<div>\n",
       "<style scoped>\n",
       "    .dataframe tbody tr th:only-of-type {\n",
       "        vertical-align: middle;\n",
       "    }\n",
       "\n",
       "    .dataframe tbody tr th {\n",
       "        vertical-align: top;\n",
       "    }\n",
       "\n",
       "    .dataframe thead th {\n",
       "        text-align: right;\n",
       "    }\n",
       "</style>\n",
       "<table border=\"1\" class=\"dataframe\">\n",
       "  <thead>\n",
       "    <tr style=\"text-align: right;\">\n",
       "      <th></th>\n",
       "      <th>smartphone</th>\n",
       "      <th>tablet</th>\n",
       "    </tr>\n",
       "    <tr>\n",
       "      <th>type</th>\n",
       "      <th></th>\n",
       "      <th></th>\n",
       "    </tr>\n",
       "  </thead>\n",
       "  <tbody>\n",
       "    <tr>\n",
       "      <th>quarterly</th>\n",
       "      <td>543.0</td>\n",
       "      <td>668.0</td>\n",
       "    </tr>\n",
       "    <tr>\n",
       "      <th>biannual</th>\n",
       "      <td>450.0</td>\n",
       "      <td>276.0</td>\n",
       "    </tr>\n",
       "  </tbody>\n",
       "</table>\n",
       "</div>"
      ],
      "text/plain": [
       "           smartphone  tablet\n",
       "type                         \n",
       "quarterly       543.0   668.0\n",
       "biannual        450.0   276.0"
      ]
     },
     "execution_count": 204,
     "metadata": {},
     "output_type": "execute_result"
    },
    {
     "data": {
      "text/plain": [
       "<Figure size 432x288 with 0 Axes>"
      ]
     },
     "metadata": {},
     "output_type": "display_data"
    }
   ],
   "source": [
    "c= 'release_date_duration'\n",
    "\n",
    "df_plot_monthly = pd.DataFrame()\n",
    "df_plot_quarterly = pd.DataFrame()\n",
    "df_plot_biannual = pd.DataFrame()\n",
    "\n",
    "\n",
    "#df_plot_monthly = pd.DataFrame({'type': 'monthly',\n",
    "#                       'smartphone': df_monthly_features[df_monthly_features['device_type']=='smartphone'][c].dt.days})\n",
    "\n",
    "df_plot_quarterly = pd.DataFrame({'type': 'quarterly',\n",
    "                       'smartphone': df_final_samsung_quarterly[df_final_samsung_quarterly['device_type']=='smartphone'][c].dt.days,\n",
    "                       'tablet': df_final_samsung_quarterly[df_final_samsung_quarterly['device_type']=='tablet'][c].dt.days})\n",
    "\n",
    "df_plot_biannual = pd.DataFrame({'type':'biannual',\n",
    "                       'smartphone': df_final_samsung_biannual[df_final_samsung_biannual['device_type']=='smartphone'][c].dt.days,\n",
    "                       'tablet': df_final_samsung_biannual[df_final_samsung_biannual['device_type']=='tablet'][c].dt.days})\n",
    "\n",
    "\n",
    "red_circle = dict(markerfacecolor='red', marker='o')\n",
    "df_box=pd.concat([df_plot_monthly,df_plot_quarterly,df_plot_biannual])\n",
    "\n",
    "#df_box\n",
    "\n",
    "grouped = df_box.groupby('type',sort=False)\n",
    "grouped.boxplot(subplots=False,rot=90, fontsize=16, figsize=(6,3),flierprops=red_circle,sharex=True,sharey=True)  \n",
    "plt.title('Support Duration (days)',fontsize=20)\n",
    "plt.xticks([1,2,3,4],['smartphone \\n                quarterly','tablet','smartphone \\n                biannually','tablet'],rotation=0, ha='center',fontsize=16)\n",
    "plt.yticks(fontsize=16)\n",
    "plt.gca().yaxis.set_major_locator(plt.MultipleLocator(250))\n",
    "plt.grid(linestyle='-.')\n",
    "#plt.savefig('../Results/Figures/2_device_type_spl_duration.pdf', bbox_inches='tight')\n",
    "plt.show()\n",
    "plt.tight_layout()\n",
    "\n",
    "grouped.median()\n"
   ]
  },
  {
   "cell_type": "markdown",
   "id": "cd85ea45",
   "metadata": {},
   "source": [
    "### Update Frequency"
   ]
  },
  {
   "cell_type": "code",
   "execution_count": 205,
   "id": "ce28c4a6",
   "metadata": {},
   "outputs": [
    {
     "data": {
      "image/png": "[encoded data removed]",
      "text/plain": [
       "<Figure size 432x216 with 1 Axes>"
      ]
     },
     "metadata": {
      "needs_background": "light"
     },
     "output_type": "display_data"
    },
    {
     "data": {
      "text/html": [
       "<div>\n",
       "<style scoped>\n",
       "    .dataframe tbody tr th:only-of-type {\n",
       "        vertical-align: middle;\n",
       "    }\n",
       "\n",
       "    .dataframe tbody tr th {\n",
       "        vertical-align: top;\n",
       "    }\n",
       "\n",
       "    .dataframe thead th {\n",
       "        text-align: right;\n",
       "    }\n",
       "</style>\n",
       "<table border=\"1\" class=\"dataframe\">\n",
       "  <thead>\n",
       "    <tr style=\"text-align: right;\">\n",
       "      <th></th>\n",
       "      <th>smartphone</th>\n",
       "      <th>tablet</th>\n",
       "    </tr>\n",
       "    <tr>\n",
       "      <th>type</th>\n",
       "      <th></th>\n",
       "      <th></th>\n",
       "    </tr>\n",
       "  </thead>\n",
       "  <tbody>\n",
       "    <tr>\n",
       "      <th>quarterly</th>\n",
       "      <td>53.222222</td>\n",
       "      <td>56.000000</td>\n",
       "    </tr>\n",
       "    <tr>\n",
       "      <th>biannual</th>\n",
       "      <td>91.666667</td>\n",
       "      <td>91.142857</td>\n",
       "    </tr>\n",
       "  </tbody>\n",
       "</table>\n",
       "</div>"
      ],
      "text/plain": [
       "           smartphone     tablet\n",
       "type                            \n",
       "quarterly   53.222222  56.000000\n",
       "biannual    91.666667  91.142857"
      ]
     },
     "execution_count": 205,
     "metadata": {},
     "output_type": "execute_result"
    },
    {
     "data": {
      "text/plain": [
       "<Figure size 432x288 with 0 Axes>"
      ]
     },
     "metadata": {},
     "output_type": "display_data"
    }
   ],
   "source": [
    "\n",
    "c= 'avg_release_freq'\n",
    "\n",
    "df_plot_monthly = pd.DataFrame()\n",
    "df_plot_quarterly = pd.DataFrame()\n",
    "df_plot_biannual = pd.DataFrame()\n",
    "\n",
    "\n",
    "#df_plot_monthly = pd.DataFrame({'type': 'monthly',\n",
    "#                       'smartphone': df_monthly_features[df_monthly_features['device_type']=='smartphone'][c]})\n",
    "\n",
    "df_plot_quarterly = pd.DataFrame({'type': 'quarterly',\n",
    "                       'smartphone': df_final_samsung_quarterly[df_final_samsung_quarterly['device_type']=='smartphone'][c],\n",
    "                       'tablet': df_final_samsung_quarterly[df_final_samsung_quarterly['device_type']=='tablet'][c]})\n",
    "\n",
    "df_plot_biannual = pd.DataFrame({'type':'biannual',\n",
    "                       'smartphone': df_final_samsung_biannual[df_final_samsung_biannual['device_type']=='smartphone'][c],\n",
    "                       'tablet': df_final_samsung_biannual[df_final_samsung_biannual['device_type']=='tablet'][c]})\n",
    "\n",
    "\n",
    "red_circle = dict(markerfacecolor='red', marker='o')\n",
    "df_box=pd.concat([df_plot_monthly,df_plot_quarterly,df_plot_biannual])\n",
    "\n",
    "grouped = df_box.groupby('type',sort=False)\n",
    "grouped.boxplot(subplots=False,rot=90, fontsize=16, figsize=(6,3),flierprops=red_circle,sharex=True,sharey=True)  \n",
    "plt.title('Update Frequency (days)',fontsize=20)\n",
    "plt.xticks([1,2,3,4],['smartphone \\n                quarterly','tablet','smartphone \\n                biannually','tablet'],rotation=0, ha='center',fontsize=16)\n",
    "plt.yticks(fontsize=16)\n",
    "plt.gca().yaxis.set_major_locator(plt.MultipleLocator(60))\n",
    "plt.grid(linestyle='-.')\n",
    "#plt.savefig('../Results/Figures/3_device_type_spl_frequency.pdf', bbox_inches='tight')\n",
    "plt.show()\n",
    "plt.tight_layout()\n",
    "\n",
    "grouped.median()\n"
   ]
  },
  {
   "cell_type": "markdown",
   "id": "b30426ee",
   "metadata": {},
   "source": [
    "### Release Delay"
   ]
  },
  {
   "cell_type": "code",
   "execution_count": 206,
   "id": "05cbe0a8",
   "metadata": {},
   "outputs": [
    {
     "data": {
      "image/png": "[encoded data removed]",
      "text/plain": [
       "<Figure size 432x216 with 1 Axes>"
      ]
     },
     "metadata": {
      "needs_background": "light"
     },
     "output_type": "display_data"
    },
    {
     "data": {
      "text/html": [
       "<div>\n",
       "<style scoped>\n",
       "    .dataframe tbody tr th:only-of-type {\n",
       "        vertical-align: middle;\n",
       "    }\n",
       "\n",
       "    .dataframe tbody tr th {\n",
       "        vertical-align: top;\n",
       "    }\n",
       "\n",
       "    .dataframe thead th {\n",
       "        text-align: right;\n",
       "    }\n",
       "</style>\n",
       "<table border=\"1\" class=\"dataframe\">\n",
       "  <thead>\n",
       "    <tr style=\"text-align: right;\">\n",
       "      <th></th>\n",
       "      <th>smartphone</th>\n",
       "      <th>tablet</th>\n",
       "    </tr>\n",
       "    <tr>\n",
       "      <th>type</th>\n",
       "      <th></th>\n",
       "      <th></th>\n",
       "    </tr>\n",
       "  </thead>\n",
       "  <tbody>\n",
       "    <tr>\n",
       "      <th>quarterly</th>\n",
       "      <td>42.0</td>\n",
       "      <td>40.0</td>\n",
       "    </tr>\n",
       "    <tr>\n",
       "      <th>biannual</th>\n",
       "      <td>60.0</td>\n",
       "      <td>82.0</td>\n",
       "    </tr>\n",
       "  </tbody>\n",
       "</table>\n",
       "</div>"
      ],
      "text/plain": [
       "           smartphone  tablet\n",
       "type                         \n",
       "quarterly        42.0    40.0\n",
       "biannual         60.0    82.0"
      ]
     },
     "execution_count": 206,
     "metadata": {},
     "output_type": "execute_result"
    },
    {
     "data": {
      "text/plain": [
       "<Figure size 432x288 with 0 Axes>"
      ]
     },
     "metadata": {},
     "output_type": "display_data"
    }
   ],
   "source": [
    "\n",
    "c= 'avg_release_delay'\n",
    "\n",
    "df_plot_monthly = pd.DataFrame()\n",
    "df_plot_quarterly = pd.DataFrame()\n",
    "df_plot_biannual = pd.DataFrame()\n",
    "\n",
    "\n",
    "#df_plot_monthly = pd.DataFrame({'type': 'monthly',\n",
    "#                       'smartphone': df_monthly_features[df_monthly_features['device_type']=='smartphone'][c]})\n",
    "\n",
    "df_plot_quarterly = pd.DataFrame({'type': 'quarterly',\n",
    "                       'smartphone': df_final_samsung_quarterly[df_final_samsung_quarterly['device_type']=='smartphone'][c],\n",
    "                       'tablet': df_final_samsung_quarterly[df_final_samsung_quarterly['device_type']=='tablet'][c]})\n",
    "\n",
    "df_plot_biannual = pd.DataFrame({'type':'biannual',\n",
    "                       'smartphone': df_final_samsung_biannual[df_final_samsung_biannual['device_type']=='smartphone'][c],\n",
    "                       'tablet': df_final_samsung_biannual[df_final_samsung_biannual['device_type']=='tablet'][c]})\n",
    "\n",
    "\n",
    "red_circle = dict(markerfacecolor='red', marker='o')\n",
    "df_box=pd.concat([df_plot_monthly,df_plot_quarterly,df_plot_biannual])\n",
    "\n",
    "\n",
    "grouped = df_box.groupby('type',sort=False)\n",
    "grouped.boxplot(subplots=False,rot=90, fontsize=16, figsize=(6,3),flierprops=red_circle,sharex=True,sharey=True)  \n",
    "plt.title('Release Delay (days)',fontsize=20)\n",
    "plt.xticks([1,2,3,4],['smartphone \\n                quarterly','tablet','smartphone \\n                biannually','tablet'],rotation=0, ha='center',fontsize=16)\n",
    "plt.yticks(fontsize=16)\n",
    "plt.gca().yaxis.set_major_locator(plt.MultipleLocator(50))\n",
    "plt.grid(linestyle='-.')\n",
    "#plt.savefig('../Results/Figures/4_device_type_spl_delay.pdf', bbox_inches='tight')\n",
    "plt.show()\n",
    "plt.tight_layout()\n",
    "\n",
    "grouped.median()\n"
   ]
  },
  {
   "cell_type": "markdown",
   "id": "59735365",
   "metadata": {},
   "source": [
    "## Xiaomi"
   ]
  },
  {
   "cell_type": "code",
   "execution_count": 245,
   "id": "208a846e",
   "metadata": {},
   "outputs": [
    {
     "data": {
      "text/plain": [
       "Redmi Pad                 8\n",
       "Xiaomi Pad 5              7\n",
       "MiPad 1                   2\n",
       "Xiaomi Pad 6              2\n",
       "Mi Pad 3                  1\n",
       "Mi Pad 4 (Plus)           1\n",
       "Xiaomi Pad 5 Pro 12.4     1\n",
       "Xiaomi Pad 5 Pro Wi-Fi    1\n",
       "Xiaomi Pad 5 Pro 5G       1\n",
       "MiPad 2                   1\n",
       "Xiaomi Pad 6 Pro          1\n",
       "Name: name, dtype: int64"
      ]
     },
     "execution_count": 245,
     "metadata": {},
     "output_type": "execute_result"
    }
   ],
   "source": [
    "df_final_xiaomi[df_final_xiaomi['device_type']=='Tablet']['name'].value_counts()"
   ]
  },
  {
   "cell_type": "code",
   "execution_count": 246,
   "id": "cc3331bd",
   "metadata": {},
   "outputs": [
    {
     "data": {
      "text/plain": [
       "11"
      ]
     },
     "execution_count": 246,
     "metadata": {},
     "output_type": "execute_result"
    }
   ],
   "source": [
    "len(df_final_xiaomi[df_final_xiaomi['device_type']=='Tablet']['name'].unique())"
   ]
  },
  {
   "cell_type": "code",
   "execution_count": 243,
   "id": "a537861a",
   "metadata": {},
   "outputs": [
    {
     "data": {
      "text/html": [
       "<div>\n",
       "<style scoped>\n",
       "    .dataframe tbody tr th:only-of-type {\n",
       "        vertical-align: middle;\n",
       "    }\n",
       "\n",
       "    .dataframe tbody tr th {\n",
       "        vertical-align: top;\n",
       "    }\n",
       "\n",
       "    .dataframe thead th {\n",
       "        text-align: right;\n",
       "    }\n",
       "</style>\n",
       "<table border=\"1\" class=\"dataframe\">\n",
       "  <thead>\n",
       "    <tr style=\"text-align: right;\">\n",
       "      <th></th>\n",
       "      <th>update_count</th>\n",
       "      <th>support_duration</th>\n",
       "      <th>update_frequency</th>\n",
       "      <th>delay</th>\n",
       "    </tr>\n",
       "    <tr>\n",
       "      <th>device_type</th>\n",
       "      <th></th>\n",
       "      <th></th>\n",
       "      <th></th>\n",
       "      <th></th>\n",
       "    </tr>\n",
       "  </thead>\n",
       "  <tbody>\n",
       "    <tr>\n",
       "      <th>Phone</th>\n",
       "      <td>3.009589</td>\n",
       "      <td>171.220548</td>\n",
       "      <td>48.463297</td>\n",
       "      <td>32.655594</td>\n",
       "    </tr>\n",
       "    <tr>\n",
       "      <th>Tablet</th>\n",
       "      <td>3.423077</td>\n",
       "      <td>159.538462</td>\n",
       "      <td>41.552747</td>\n",
       "      <td>36.071429</td>\n",
       "    </tr>\n",
       "  </tbody>\n",
       "</table>\n",
       "</div>"
      ],
      "text/plain": [
       "             update_count  support_duration  update_frequency      delay\n",
       "device_type                                                             \n",
       "Phone            3.009589        171.220548         48.463297  32.655594\n",
       "Tablet           3.423077        159.538462         41.552747  36.071429"
      ]
     },
     "execution_count": 243,
     "metadata": {},
     "output_type": "execute_result"
    }
   ],
   "source": [
    "df_final_xiaomi.groupby('device_type').mean()"
   ]
  },
  {
   "cell_type": "markdown",
   "id": "51f54641",
   "metadata": {},
   "source": [
    "## Oppo"
   ]
  },
  {
   "cell_type": "markdown",
   "id": "c4659460",
   "metadata": {},
   "source": [
    "# 4. Carrier Association Analysis"
   ]
  },
  {
   "cell_type": "markdown",
   "id": "333f574f",
   "metadata": {},
   "source": [
    "## Samsung"
   ]
  },
  {
   "cell_type": "code",
   "execution_count": 270,
   "id": "67a121ef",
   "metadata": {},
   "outputs": [],
   "source": [
    "condlist = [df_final_samsung_monthly['carrier']=='No-carrier', df_final_samsung_monthly['carrier']!='No-carrier']\n",
    "choicelist = ['Non-carrier','Carrier-branded']\n",
    "df_final_samsung_monthly['carrier_type'] = np.select(condlist, choicelist, default=0)\n",
    "\n",
    "condlist = [df_final_samsung_quarterly['carrier']=='No-carrier', df_final_samsung_quarterly['carrier']!='No-carrier']\n",
    "choicelist = ['Non-carrier','Carrier-branded']\n",
    "df_final_samsung_quarterly['carrier_type'] = np.select(condlist, choicelist, default=0)\n",
    "\n",
    "condlist = [df_final_samsung_biannual['carrier']=='No-carrier', df_final_samsung_biannual['carrier']!='No-carrier']\n",
    "choicelist = ['Non-carrier','Carrier-branded']\n",
    "df_final_samsung_biannual['carrier_type'] = np.select(condlist, choicelist, default=0)"
   ]
  },
  {
   "cell_type": "code",
   "execution_count": 273,
   "id": "e5c006af",
   "metadata": {},
   "outputs": [
    {
     "data": {
      "text/html": [
       "<div>\n",
       "<style scoped>\n",
       "    .dataframe tbody tr th:only-of-type {\n",
       "        vertical-align: middle;\n",
       "    }\n",
       "\n",
       "    .dataframe tbody tr th {\n",
       "        vertical-align: top;\n",
       "    }\n",
       "\n",
       "    .dataframe thead th {\n",
       "        text-align: right;\n",
       "    }\n",
       "</style>\n",
       "<table border=\"1\" class=\"dataframe\">\n",
       "  <thead>\n",
       "    <tr style=\"text-align: right;\">\n",
       "      <th></th>\n",
       "      <th>release_count</th>\n",
       "      <th>release_date_duration_days</th>\n",
       "      <th>avg_release_freq</th>\n",
       "      <th>avg_release_delay</th>\n",
       "    </tr>\n",
       "    <tr>\n",
       "      <th>carrier_type</th>\n",
       "      <th></th>\n",
       "      <th></th>\n",
       "      <th></th>\n",
       "      <th></th>\n",
       "    </tr>\n",
       "  </thead>\n",
       "  <tbody>\n",
       "    <tr>\n",
       "      <th>Carrier-branded</th>\n",
       "      <td>28.843220</td>\n",
       "      <td>989.920198</td>\n",
       "      <td>37.250816</td>\n",
       "      <td>29.004944</td>\n",
       "    </tr>\n",
       "    <tr>\n",
       "      <th>Non-carrier</th>\n",
       "      <td>31.763952</td>\n",
       "      <td>992.011894</td>\n",
       "      <td>33.869795</td>\n",
       "      <td>26.710623</td>\n",
       "    </tr>\n",
       "  </tbody>\n",
       "</table>\n",
       "</div>"
      ],
      "text/plain": [
       "                 release_count  release_date_duration_days  avg_release_freq  \\\n",
       "carrier_type                                                                   \n",
       "Carrier-branded      28.843220                  989.920198         37.250816   \n",
       "Non-carrier          31.763952                  992.011894         33.869795   \n",
       "\n",
       "                 avg_release_delay  \n",
       "carrier_type                        \n",
       "Carrier-branded          29.004944  \n",
       "Non-carrier              26.710623  "
      ]
     },
     "execution_count": 273,
     "metadata": {},
     "output_type": "execute_result"
    }
   ],
   "source": [
    "df_final_samsung_monthly[['carrier_type','release_count','release_date_duration_days','avg_release_freq','avg_release_delay']].groupby(['carrier_type']).mean()"
   ]
  },
  {
   "cell_type": "code",
   "execution_count": 274,
   "id": "a160edf1",
   "metadata": {},
   "outputs": [
    {
     "data": {
      "text/html": [
       "<div>\n",
       "<style scoped>\n",
       "    .dataframe tbody tr th:only-of-type {\n",
       "        vertical-align: middle;\n",
       "    }\n",
       "\n",
       "    .dataframe tbody tr th {\n",
       "        vertical-align: top;\n",
       "    }\n",
       "\n",
       "    .dataframe thead th {\n",
       "        text-align: right;\n",
       "    }\n",
       "</style>\n",
       "<table border=\"1\" class=\"dataframe\">\n",
       "  <thead>\n",
       "    <tr style=\"text-align: right;\">\n",
       "      <th></th>\n",
       "      <th>release_count</th>\n",
       "      <th>release_date_duration_days</th>\n",
       "      <th>avg_release_freq</th>\n",
       "      <th>avg_release_delay</th>\n",
       "    </tr>\n",
       "    <tr>\n",
       "      <th>carrier_type</th>\n",
       "      <th></th>\n",
       "      <th></th>\n",
       "      <th></th>\n",
       "      <th></th>\n",
       "    </tr>\n",
       "  </thead>\n",
       "  <tbody>\n",
       "    <tr>\n",
       "      <th>Carrier-branded</th>\n",
       "      <td>8.844495</td>\n",
       "      <td>461.909478</td>\n",
       "      <td>52.311595</td>\n",
       "      <td>43.913710</td>\n",
       "    </tr>\n",
       "    <tr>\n",
       "      <th>Non-carrier</th>\n",
       "      <td>9.866954</td>\n",
       "      <td>523.792701</td>\n",
       "      <td>53.694703</td>\n",
       "      <td>43.133672</td>\n",
       "    </tr>\n",
       "  </tbody>\n",
       "</table>\n",
       "</div>"
      ],
      "text/plain": [
       "                 release_count  release_date_duration_days  avg_release_freq  \\\n",
       "carrier_type                                                                   \n",
       "Carrier-branded       8.844495                  461.909478         52.311595   \n",
       "Non-carrier           9.866954                  523.792701         53.694703   \n",
       "\n",
       "                 avg_release_delay  \n",
       "carrier_type                        \n",
       "Carrier-branded          43.913710  \n",
       "Non-carrier              43.133672  "
      ]
     },
     "execution_count": 274,
     "metadata": {},
     "output_type": "execute_result"
    }
   ],
   "source": [
    "df_final_samsung_quarterly[['carrier_type','release_count','release_date_duration_days','avg_release_freq','avg_release_delay']].groupby(['carrier_type']).mean()"
   ]
  },
  {
   "cell_type": "code",
   "execution_count": 275,
   "id": "671bce2c",
   "metadata": {},
   "outputs": [
    {
     "data": {
      "text/html": [
       "<div>\n",
       "<style scoped>\n",
       "    .dataframe tbody tr th:only-of-type {\n",
       "        vertical-align: middle;\n",
       "    }\n",
       "\n",
       "    .dataframe tbody tr th {\n",
       "        vertical-align: top;\n",
       "    }\n",
       "\n",
       "    .dataframe thead th {\n",
       "        text-align: right;\n",
       "    }\n",
       "</style>\n",
       "<table border=\"1\" class=\"dataframe\">\n",
       "  <thead>\n",
       "    <tr style=\"text-align: right;\">\n",
       "      <th></th>\n",
       "      <th>release_count</th>\n",
       "      <th>release_date_duration_days</th>\n",
       "      <th>avg_release_freq</th>\n",
       "      <th>avg_release_delay</th>\n",
       "    </tr>\n",
       "    <tr>\n",
       "      <th>carrier_type</th>\n",
       "      <th></th>\n",
       "      <th></th>\n",
       "      <th></th>\n",
       "      <th></th>\n",
       "    </tr>\n",
       "  </thead>\n",
       "  <tbody>\n",
       "    <tr>\n",
       "      <th>Carrier-branded</th>\n",
       "      <td>3.619433</td>\n",
       "      <td>347.423077</td>\n",
       "      <td>77.710384</td>\n",
       "      <td>70.956478</td>\n",
       "    </tr>\n",
       "    <tr>\n",
       "      <th>Non-carrier</th>\n",
       "      <td>3.658815</td>\n",
       "      <td>353.033435</td>\n",
       "      <td>78.356289</td>\n",
       "      <td>73.000762</td>\n",
       "    </tr>\n",
       "  </tbody>\n",
       "</table>\n",
       "</div>"
      ],
      "text/plain": [
       "                 release_count  release_date_duration_days  avg_release_freq  \\\n",
       "carrier_type                                                                   \n",
       "Carrier-branded       3.619433                  347.423077         77.710384   \n",
       "Non-carrier           3.658815                  353.033435         78.356289   \n",
       "\n",
       "                 avg_release_delay  \n",
       "carrier_type                        \n",
       "Carrier-branded          70.956478  \n",
       "Non-carrier              73.000762  "
      ]
     },
     "execution_count": 275,
     "metadata": {},
     "output_type": "execute_result"
    }
   ],
   "source": [
    "df_final_samsung_biannual[['carrier_type','release_count','release_date_duration_days','avg_release_freq','avg_release_delay']].groupby(['carrier_type']).mean()"
   ]
  },
  {
   "cell_type": "code",
   "execution_count": 265,
   "id": "fca26793",
   "metadata": {},
   "outputs": [
    {
     "data": {
      "text/plain": [
       "No-carrier     11357\n",
       "Vodafone        1093\n",
       "T-Mobile         548\n",
       "Claro            501\n",
       "Movistar         338\n",
       "Orange           291\n",
       "Open Line        205\n",
       "TIM              193\n",
       "Kyivstar         180\n",
       "MWD              170\n",
       "Tigo             168\n",
       "Personal         164\n",
       "Nextel           159\n",
       "T-mobile         155\n",
       "TPH              151\n",
       "PAK              146\n",
       "Open             145\n",
       "H3G              123\n",
       "US Cellular      122\n",
       "Cosmote          121\n",
       "Name: carrier, dtype: int64"
      ]
     },
     "execution_count": 265,
     "metadata": {},
     "output_type": "execute_result"
    }
   ],
   "source": [
    "df_final_samsung['carrier'].value_counts()[:20]"
   ]
  },
  {
   "cell_type": "code",
   "execution_count": 267,
   "id": "c567def6",
   "metadata": {},
   "outputs": [
    {
     "data": {
      "text/plain": [
       "South Africa      120\n",
       "Portugal           86\n",
       "Italy              80\n",
       "Spain              77\n",
       "United Kingdom     76\n",
       "Germany            70\n",
       "Romania            70\n",
       "Greece             70\n",
       "Czech Republic     69\n",
       "Ireland            61\n",
       "Netherlands        59\n",
       "New Zealand        55\n",
       "Australia          53\n",
       "Fiji               50\n",
       "Cyprus             40\n",
       "Hungary            40\n",
       "Albania            17\n",
       "Name: country, dtype: int64"
      ]
     },
     "execution_count": 267,
     "metadata": {},
     "output_type": "execute_result"
    }
   ],
   "source": [
    "df_final_samsung[(df_final_samsung['carrier']=='Vodafone')]['country'].value_counts()"
   ]
  },
  {
   "cell_type": "code",
   "execution_count": 268,
   "id": "b01b0a53",
   "metadata": {},
   "outputs": [
    {
     "data": {
      "text/plain": [
       "USA               141\n",
       "Croatia            74\n",
       "Czech Republic     73\n",
       "Austria            72\n",
       "Germany            70\n",
       "Macedonia          67\n",
       "Netherlands        51\n",
       "Name: country, dtype: int64"
      ]
     },
     "execution_count": 268,
     "metadata": {},
     "output_type": "execute_result"
    }
   ],
   "source": [
    "df_final_samsung[(df_final_samsung['carrier']=='T-Mobile')]['country'].value_counts()"
   ]
  },
  {
   "cell_type": "code",
   "execution_count": 269,
   "id": "b9d7b5e9",
   "metadata": {},
   "outputs": [
    {
     "data": {
      "text/plain": [
       "Brazil       92\n",
       "Argentina    91\n",
       "Chile        88\n",
       "Panama       78\n",
       "Uruguay      77\n",
       "Paraguay     75\n",
       "Name: country, dtype: int64"
      ]
     },
     "execution_count": 269,
     "metadata": {},
     "output_type": "execute_result"
    }
   ],
   "source": [
    "df_final_samsung[(df_final_samsung['carrier']=='Claro')]['country'].value_counts()"
   ]
  },
  {
   "cell_type": "code",
   "execution_count": 263,
   "id": "6e03ff05",
   "metadata": {},
   "outputs": [
    {
     "data": {
      "text/html": [
       "<div>\n",
       "<style scoped>\n",
       "    .dataframe tbody tr th:only-of-type {\n",
       "        vertical-align: middle;\n",
       "    }\n",
       "\n",
       "    .dataframe tbody tr th {\n",
       "        vertical-align: top;\n",
       "    }\n",
       "\n",
       "    .dataframe thead th {\n",
       "        text-align: right;\n",
       "    }\n",
       "</style>\n",
       "<table border=\"1\" class=\"dataframe\">\n",
       "  <thead>\n",
       "    <tr style=\"text-align: right;\">\n",
       "      <th></th>\n",
       "      <th>release_count</th>\n",
       "      <th>release_date_duration_days</th>\n",
       "      <th>avg_release_freq</th>\n",
       "      <th>avg_release_delay</th>\n",
       "    </tr>\n",
       "    <tr>\n",
       "      <th>device_type</th>\n",
       "      <th></th>\n",
       "      <th></th>\n",
       "      <th></th>\n",
       "      <th></th>\n",
       "    </tr>\n",
       "  </thead>\n",
       "  <tbody>\n",
       "    <tr>\n",
       "      <th>smartphone</th>\n",
       "      <td>16.0</td>\n",
       "      <td>779.0</td>\n",
       "      <td>37.666667</td>\n",
       "      <td>41.0</td>\n",
       "    </tr>\n",
       "    <tr>\n",
       "      <th>tablet</th>\n",
       "      <td>11.0</td>\n",
       "      <td>626.0</td>\n",
       "      <td>45.076441</td>\n",
       "      <td>52.0</td>\n",
       "    </tr>\n",
       "    <tr>\n",
       "      <th>wearable</th>\n",
       "      <td>9.0</td>\n",
       "      <td>527.0</td>\n",
       "      <td>39.250000</td>\n",
       "      <td>39.0</td>\n",
       "    </tr>\n",
       "  </tbody>\n",
       "</table>\n",
       "</div>"
      ],
      "text/plain": [
       "             release_count  release_date_duration_days  avg_release_freq  \\\n",
       "device_type                                                                \n",
       "smartphone            16.0                       779.0         37.666667   \n",
       "tablet                11.0                       626.0         45.076441   \n",
       "wearable               9.0                       527.0         39.250000   \n",
       "\n",
       "             avg_release_delay  \n",
       "device_type                     \n",
       "smartphone                41.0  \n",
       "tablet                    52.0  \n",
       "wearable                  39.0  "
      ]
     },
     "execution_count": 263,
     "metadata": {},
     "output_type": "execute_result"
    }
   ],
   "source": [
    "df_final_samsung[['device_type','release_count','release_date_duration_days','avg_release_freq','avg_release_delay']].groupby(['device_type']).median()[1:]"
   ]
  },
  {
   "cell_type": "markdown",
   "id": "6f2089e1",
   "metadata": {},
   "source": [
    "# 5. Partnership Agreements and Platform Solutions Analysis"
   ]
  },
  {
   "cell_type": "code",
   "execution_count": 278,
   "id": "19b0c4b5",
   "metadata": {},
   "outputs": [
    {
     "data": {
      "text/html": [
       "<div>\n",
       "<style scoped>\n",
       "    .dataframe tbody tr th:only-of-type {\n",
       "        vertical-align: middle;\n",
       "    }\n",
       "\n",
       "    .dataframe tbody tr th {\n",
       "        vertical-align: top;\n",
       "    }\n",
       "\n",
       "    .dataframe thead th {\n",
       "        text-align: right;\n",
       "    }\n",
       "</style>\n",
       "<table border=\"1\" class=\"dataframe\">\n",
       "  <thead>\n",
       "    <tr style=\"text-align: right;\">\n",
       "      <th></th>\n",
       "      <th>device</th>\n",
       "      <th>Device Type</th>\n",
       "      <th>AER validated OS version</th>\n",
       "      <th>Rugged</th>\n",
       "      <th>Security updates until</th>\n",
       "      <th>Link</th>\n",
       "      <th>AER validation date</th>\n",
       "      <th>Security update frequency</th>\n",
       "    </tr>\n",
       "  </thead>\n",
       "  <tbody>\n",
       "    <tr>\n",
       "      <th>0</th>\n",
       "      <td>Zebra Technologies TC78</td>\n",
       "      <td>Phone</td>\n",
       "      <td>Android 11</td>\n",
       "      <td>Yes</td>\n",
       "      <td>October 2025</td>\n",
       "      <td>https://www.zebra.com/us/en/support-downloads/...</td>\n",
       "      <td>May 2023</td>\n",
       "      <td>Data not provided</td>\n",
       "    </tr>\n",
       "    <tr>\n",
       "      <th>1</th>\n",
       "      <td>Motorola moto g stylus (2023)</td>\n",
       "      <td>Phone</td>\n",
       "      <td>Android 13</td>\n",
       "      <td>No</td>\n",
       "      <td>April 2026</td>\n",
       "      <td>https://en-us.support.motorola.com/app/softwar...</td>\n",
       "      <td>May 2023</td>\n",
       "      <td>Every two months</td>\n",
       "    </tr>\n",
       "    <tr>\n",
       "      <th>2</th>\n",
       "      <td>Pixel 7a</td>\n",
       "      <td>Phone</td>\n",
       "      <td>Android 13</td>\n",
       "      <td>No</td>\n",
       "      <td>May 2028</td>\n",
       "      <td>https://support.google.com/pixelphone/answer/4...</td>\n",
       "      <td>June 2023</td>\n",
       "      <td>Monthly</td>\n",
       "    </tr>\n",
       "    <tr>\n",
       "      <th>3</th>\n",
       "      <td>Handheld NAUTIZ X81</td>\n",
       "      <td>Phone</td>\n",
       "      <td>Android 12</td>\n",
       "      <td>Yes</td>\n",
       "      <td>December 2025</td>\n",
       "      <td>https://www.handheldgroup.com/aer/</td>\n",
       "      <td>March 2023</td>\n",
       "      <td>Data not provided</td>\n",
       "    </tr>\n",
       "    <tr>\n",
       "      <th>4</th>\n",
       "      <td>motorola edge 40</td>\n",
       "      <td>Phone</td>\n",
       "      <td>Android 13</td>\n",
       "      <td>No</td>\n",
       "      <td>January 2028</td>\n",
       "      <td>https://en-us.support.motorola.com/app/softwar...</td>\n",
       "      <td>May 2023</td>\n",
       "      <td>Every two months</td>\n",
       "    </tr>\n",
       "  </tbody>\n",
       "</table>\n",
       "</div>"
      ],
      "text/plain": [
       "                          device Device Type AER validated OS version Rugged  \\\n",
       "0        Zebra Technologies TC78       Phone               Android 11    Yes   \n",
       "1  Motorola moto g stylus (2023)       Phone               Android 13     No   \n",
       "2                       Pixel 7a       Phone               Android 13     No   \n",
       "3            Handheld NAUTIZ X81       Phone               Android 12    Yes   \n",
       "4               motorola edge 40       Phone               Android 13     No   \n",
       "\n",
       "  Security updates until                                               Link  \\\n",
       "0           October 2025  https://www.zebra.com/us/en/support-downloads/...   \n",
       "1             April 2026  https://en-us.support.motorola.com/app/softwar...   \n",
       "2               May 2028  https://support.google.com/pixelphone/answer/4...   \n",
       "3          December 2025                 https://www.handheldgroup.com/aer/   \n",
       "4           January 2028  https://en-us.support.motorola.com/app/softwar...   \n",
       "\n",
       "  AER validation date Security update frequency  \n",
       "0            May 2023         Data not provided  \n",
       "1            May 2023          Every two months  \n",
       "2           June 2023                   Monthly  \n",
       "3          March 2023         Data not provided  \n",
       "4            May 2023          Every two months  "
      ]
     },
     "execution_count": 278,
     "metadata": {},
     "output_type": "execute_result"
    }
   ],
   "source": [
    "df_AER = pd.read_excel('../Data/AER-devices-all-vendors.xlsx')\n",
    "\n",
    "df_AER_samsung = df_AER[df_AER['device'].str.contains('Samsung')].copy()\n",
    "df_AER_samsung['device'] = df_AER_samsung['device'].str.replace('Samsung ', '')\n",
    "\n",
    "df_AER_xiaomi = df_AER[df_AER['device'].str.contains('|'.join(['Xiaomi','Redmi','POCO']))].copy()\n",
    "df_AER_xiaomi['device'] = df_AER_xiaomi['device'].str.replace('Xiaomi ', '')\n",
    "\n",
    "df_AER_oppo = df_AER[df_AER['device'].str.contains('OPPO')].copy()\n",
    "df_AER_oppo['device'] = df_AER_oppo['device'].str.replace('OPPO ', '')\n",
    "\n",
    "df_AER_google = df_AER[df_AER['device'].str.contains('Pixel')].copy()\n",
    "df_AER_google['device'] = df_AER_google['device'].str.replace('Google ', '')\n",
    "\n",
    "df_AER.head()\n"
   ]
  },
  {
   "cell_type": "code",
   "execution_count": 279,
   "id": "cdee4f02",
   "metadata": {},
   "outputs": [
    {
     "name": "stdout",
     "output_type": "stream",
     "text": [
      "Samsung AER devices: 60\n",
      "Xiaomi AER devices: 46\n",
      "Oppo AER devices: 18\n",
      "Google AER devices: 20\n"
     ]
    }
   ],
   "source": [
    "print('Samsung AER devices: {}'.format(len(df_AER_samsung)))\n",
    "print('Xiaomi AER devices: {}'.format(len(df_AER_xiaomi)))\n",
    "print('Oppo AER devices: {}'.format(len(df_AER_oppo)))\n",
    "print('Google AER devices: {}'.format(len(df_AER_google)))"
   ]
  },
  {
   "cell_type": "code",
   "execution_count": null,
   "id": "62212cea",
   "metadata": {},
   "outputs": [],
   "source": [
    "non_aer_devices = df_knox_models[df_knox_models['AER']==False]['device'].unique()"
   ]
  },
  {
   "cell_type": "code",
   "execution_count": 296,
   "id": "465cb49c",
   "metadata": {},
   "outputs": [
    {
     "name": "stdout",
     "output_type": "stream",
     "text": [
      "Total AER devices: 60\n",
      "Total Non-AER devices: 256\n",
      "Total Knox devices: 259\n",
      "Total Others devices: 30\n",
      "Total Go devices: 5\n",
      "Total WearOS devices: 7\n",
      "=================\n",
      "AER devices in the support list: 49\n",
      "Non-AER devices  in the support list: 159\n",
      "Knox devices  in the support list: 175\n",
      "Others devices  in the support list: 25\n",
      "Go devices  in the support list: 4\n",
      "WearOS devices  in the support list: 0\n"
     ]
    }
   ],
   "source": [
    "import pandas as pd\n",
    "\n",
    "df_t1= pd.read_csv('../Data/Samsung/timelines_samsung_devices_v3.csv')\n",
    "df_t1[['monthly_duration','quarterly_duration','biannually_duration']] = df_t1[['monthly_duration','quarterly_duration','biannually_duration']].apply(pd.to_timedelta)\n",
    "df_knox_models = pd.read_csv('../Data/Samsung/knox-models-all.csv')\n",
    "\n",
    "aer_devices = df_AER_samsung['device'].unique()\n",
    "\n",
    "et_knox = set(df_knox_models['device'].unique())\n",
    "set_AER_samsung = set(df_AER_samsung['device'].unique())\n",
    "\n",
    "non_aer_devices = set_knox - set_AER_samsung\n",
    "\n",
    "knox_devices= df_knox_models[df_knox_models['platform']=='Knox']['device'].unique()\n",
    "others_devices= df_knox_models[df_knox_models['platform']=='Non-Knox']['device'].unique()\n",
    "go_devices= df_knox_models[df_knox_models['platform']=='AndroidGo']['device'].unique()\n",
    "wearos_devices= df_knox_models[df_knox_models['platform']=='WearOS']['device'].unique()\n",
    "\n",
    "\n",
    "\n",
    "df_timelines_aer = df_t1[df_t1['device'].isin(aer_devices)].reset_index(drop=True)\n",
    "df_timelines_non_aer = df_t1[df_t1['device'].isin(non_aer_devices)].reset_index(drop=True)\n",
    "df_timelines_knox = df_t1[df_t1['device'].isin(knox_devices)].reset_index(drop=True)\n",
    "df_timelines_others = df_t1[df_t1['device'].isin(others_devices)].reset_index(drop=True)\n",
    "df_timelines_go = df_t1[df_t1['device'].isin(go_devices)].reset_index(drop=True)\n",
    "df_timelines_wearos = df_t1[df_t1['device'].isin(wearos_devices)].reset_index(drop=True)\n",
    "\n",
    "\n",
    "print('Total AER devices: {}'.format(len(aer_devices)))\n",
    "print('Total Non-AER devices: {}'.format(len(non_aer_devices)))\n",
    "print('Total Knox devices: {}'.format(len(knox_devices)))\n",
    "print('Total Others devices: {}'.format(len(others_devices)))\n",
    "print('Total Go devices: {}'.format(len(go_devices)))\n",
    "print('Total WearOS devices: {}'.format(len(wearos_devices)))\n",
    "print('=================')\n",
    "print('AER devices in the support list: {}'.format(len(df_timelines_aer.index)))\n",
    "print('Non-AER devices  in the support list: {}'.format(len(df_timelines_non_aer.index)))\n",
    "print('Knox devices  in the support list: {}'.format(len(df_timelines_knox.index)))\n",
    "print('Others devices  in the support list: {}'.format(len(df_timelines_others.index)))\n",
    "print('Go devices  in the support list: {}'.format(len(df_timelines_go.index)))\n",
    "print('WearOS devices  in the support list: {}'.format(len(df_timelines_wearos.index)))\n"
   ]
  },
  {
   "cell_type": "code",
   "execution_count": 305,
   "id": "57abc601",
   "metadata": {},
   "outputs": [
    {
     "data": {
      "text/html": [
       "<div>\n",
       "<style scoped>\n",
       "    .dataframe tbody tr th:only-of-type {\n",
       "        vertical-align: middle;\n",
       "    }\n",
       "\n",
       "    .dataframe tbody tr th {\n",
       "        vertical-align: top;\n",
       "    }\n",
       "\n",
       "    .dataframe thead th {\n",
       "        text-align: right;\n",
       "    }\n",
       "</style>\n",
       "<table border=\"1\" class=\"dataframe\">\n",
       "  <thead>\n",
       "    <tr style=\"text-align: right;\">\n",
       "      <th></th>\n",
       "      <th>device</th>\n",
       "      <th>monthly_start</th>\n",
       "      <th>monthly_end</th>\n",
       "      <th>quarterly_start</th>\n",
       "      <th>quarterly_end</th>\n",
       "      <th>biannually_start</th>\n",
       "      <th>biannually_end</th>\n",
       "      <th>wearable_start</th>\n",
       "      <th>wearable_end</th>\n",
       "      <th>monthly_duration</th>\n",
       "      <th>quarterly_duration</th>\n",
       "      <th>biannually_duration</th>\n",
       "    </tr>\n",
       "  </thead>\n",
       "  <tbody>\n",
       "    <tr>\n",
       "      <th>0</th>\n",
       "      <td>Galaxy S10</td>\n",
       "      <td>2019-04-05 15:35:10</td>\n",
       "      <td>2022-04-03 17:02:57</td>\n",
       "      <td>2022-04-05 01:36:26</td>\n",
       "      <td>NaN</td>\n",
       "      <td>NaN</td>\n",
       "      <td>NaN</td>\n",
       "      <td>NaN</td>\n",
       "      <td>NaN</td>\n",
       "      <td>1094 days 01:27:47</td>\n",
       "      <td>NaT</td>\n",
       "      <td>NaT</td>\n",
       "    </tr>\n",
       "    <tr>\n",
       "      <th>1</th>\n",
       "      <td>Galaxy S10+</td>\n",
       "      <td>2019-04-05 15:35:10</td>\n",
       "      <td>2022-04-03 17:02:57</td>\n",
       "      <td>2022-04-05 01:36:26</td>\n",
       "      <td>NaN</td>\n",
       "      <td>NaN</td>\n",
       "      <td>NaN</td>\n",
       "      <td>NaN</td>\n",
       "      <td>NaN</td>\n",
       "      <td>1094 days 01:27:47</td>\n",
       "      <td>NaT</td>\n",
       "      <td>NaT</td>\n",
       "    </tr>\n",
       "    <tr>\n",
       "      <th>2</th>\n",
       "      <td>Galaxy S10e</td>\n",
       "      <td>2019-06-27 00:47:43</td>\n",
       "      <td>2022-04-03 17:02:57</td>\n",
       "      <td>2022-04-05 01:36:26</td>\n",
       "      <td>NaN</td>\n",
       "      <td>NaN</td>\n",
       "      <td>NaN</td>\n",
       "      <td>NaN</td>\n",
       "      <td>NaN</td>\n",
       "      <td>1011 days 16:15:14</td>\n",
       "      <td>NaT</td>\n",
       "      <td>NaT</td>\n",
       "    </tr>\n",
       "    <tr>\n",
       "      <th>13</th>\n",
       "      <td>Galaxy Note10</td>\n",
       "      <td>2019-10-01 12:43:14</td>\n",
       "      <td>2022-09-06 03:13:18</td>\n",
       "      <td>2022-09-07 15:36:06</td>\n",
       "      <td>NaN</td>\n",
       "      <td>NaN</td>\n",
       "      <td>NaN</td>\n",
       "      <td>NaN</td>\n",
       "      <td>NaN</td>\n",
       "      <td>1070 days 14:30:04</td>\n",
       "      <td>NaT</td>\n",
       "      <td>NaT</td>\n",
       "    </tr>\n",
       "    <tr>\n",
       "      <th>14</th>\n",
       "      <td>Galaxy Note10+</td>\n",
       "      <td>2019-10-01 12:43:14</td>\n",
       "      <td>2022-09-06 03:13:18</td>\n",
       "      <td>2022-09-07 15:36:06</td>\n",
       "      <td>NaN</td>\n",
       "      <td>NaN</td>\n",
       "      <td>NaN</td>\n",
       "      <td>NaN</td>\n",
       "      <td>NaN</td>\n",
       "      <td>1070 days 14:30:04</td>\n",
       "      <td>NaT</td>\n",
       "      <td>NaT</td>\n",
       "    </tr>\n",
       "    <tr>\n",
       "      <th>15</th>\n",
       "      <td>Galaxy Note10+ 5G</td>\n",
       "      <td>2019-10-01 12:43:14</td>\n",
       "      <td>2022-09-06 03:13:18</td>\n",
       "      <td>2022-09-07 15:36:06</td>\n",
       "      <td>NaN</td>\n",
       "      <td>NaN</td>\n",
       "      <td>NaN</td>\n",
       "      <td>NaN</td>\n",
       "      <td>NaN</td>\n",
       "      <td>1070 days 14:30:04</td>\n",
       "      <td>NaT</td>\n",
       "      <td>NaT</td>\n",
       "    </tr>\n",
       "    <tr>\n",
       "      <th>22</th>\n",
       "      <td>Galaxy XCover Pro</td>\n",
       "      <td>2020-03-03 11:31:08</td>\n",
       "      <td>2023-03-07 00:21:31</td>\n",
       "      <td>NaN</td>\n",
       "      <td>NaN</td>\n",
       "      <td>NaN</td>\n",
       "      <td>NaN</td>\n",
       "      <td>NaN</td>\n",
       "      <td>NaN</td>\n",
       "      <td>1098 days 12:50:23</td>\n",
       "      <td>NaT</td>\n",
       "      <td>NaT</td>\n",
       "    </tr>\n",
       "  </tbody>\n",
       "</table>\n",
       "</div>"
      ],
      "text/plain": [
       "               device        monthly_start          monthly_end  \\\n",
       "0          Galaxy S10  2019-04-05 15:35:10  2022-04-03 17:02:57   \n",
       "1         Galaxy S10+  2019-04-05 15:35:10  2022-04-03 17:02:57   \n",
       "2         Galaxy S10e  2019-06-27 00:47:43  2022-04-03 17:02:57   \n",
       "13      Galaxy Note10  2019-10-01 12:43:14  2022-09-06 03:13:18   \n",
       "14     Galaxy Note10+  2019-10-01 12:43:14  2022-09-06 03:13:18   \n",
       "15  Galaxy Note10+ 5G  2019-10-01 12:43:14  2022-09-06 03:13:18   \n",
       "22  Galaxy XCover Pro  2020-03-03 11:31:08  2023-03-07 00:21:31   \n",
       "\n",
       "        quarterly_start quarterly_end biannually_start biannually_end  \\\n",
       "0   2022-04-05 01:36:26           NaN              NaN            NaN   \n",
       "1   2022-04-05 01:36:26           NaN              NaN            NaN   \n",
       "2   2022-04-05 01:36:26           NaN              NaN            NaN   \n",
       "13  2022-09-07 15:36:06           NaN              NaN            NaN   \n",
       "14  2022-09-07 15:36:06           NaN              NaN            NaN   \n",
       "15  2022-09-07 15:36:06           NaN              NaN            NaN   \n",
       "22                  NaN           NaN              NaN            NaN   \n",
       "\n",
       "   wearable_start  wearable_end   monthly_duration quarterly_duration  \\\n",
       "0             NaN           NaN 1094 days 01:27:47                NaT   \n",
       "1             NaN           NaN 1094 days 01:27:47                NaT   \n",
       "2             NaN           NaN 1011 days 16:15:14                NaT   \n",
       "13            NaN           NaN 1070 days 14:30:04                NaT   \n",
       "14            NaN           NaN 1070 days 14:30:04                NaT   \n",
       "15            NaN           NaN 1070 days 14:30:04                NaT   \n",
       "22            NaN           NaN 1098 days 12:50:23                NaT   \n",
       "\n",
       "   biannually_duration  \n",
       "0                  NaT  \n",
       "1                  NaT  \n",
       "2                  NaT  \n",
       "13                 NaT  \n",
       "14                 NaT  \n",
       "15                 NaT  \n",
       "22                 NaT  "
      ]
     },
     "execution_count": 305,
     "metadata": {},
     "output_type": "execute_result"
    }
   ],
   "source": [
    "df_timelines_aer[df_timelines_aer['monthly_duration'].dt.days>0]"
   ]
  },
  {
   "cell_type": "code",
   "execution_count": 306,
   "id": "4fbd3975",
   "metadata": {},
   "outputs": [
    {
     "data": {
      "text/html": [
       "<div>\n",
       "<style scoped>\n",
       "    .dataframe tbody tr th:only-of-type {\n",
       "        vertical-align: middle;\n",
       "    }\n",
       "\n",
       "    .dataframe tbody tr th {\n",
       "        vertical-align: top;\n",
       "    }\n",
       "\n",
       "    .dataframe thead th {\n",
       "        text-align: right;\n",
       "    }\n",
       "</style>\n",
       "<table border=\"1\" class=\"dataframe\">\n",
       "  <thead>\n",
       "    <tr style=\"text-align: right;\">\n",
       "      <th></th>\n",
       "      <th>device</th>\n",
       "      <th>monthly_start</th>\n",
       "      <th>monthly_end</th>\n",
       "      <th>quarterly_start</th>\n",
       "      <th>quarterly_end</th>\n",
       "      <th>biannually_start</th>\n",
       "      <th>biannually_end</th>\n",
       "      <th>wearable_start</th>\n",
       "      <th>wearable_end</th>\n",
       "      <th>monthly_duration</th>\n",
       "      <th>quarterly_duration</th>\n",
       "      <th>biannually_duration</th>\n",
       "    </tr>\n",
       "  </thead>\n",
       "  <tbody>\n",
       "  </tbody>\n",
       "</table>\n",
       "</div>"
      ],
      "text/plain": [
       "Empty DataFrame\n",
       "Columns: [device, monthly_start, monthly_end, quarterly_start, quarterly_end, biannually_start, biannually_end, wearable_start, wearable_end, monthly_duration, quarterly_duration, biannually_duration]\n",
       "Index: []"
      ]
     },
     "execution_count": 306,
     "metadata": {},
     "output_type": "execute_result"
    }
   ],
   "source": [
    "df_timelines_aer[df_timelines_aer['quarterly_duration'].dt.days>0]"
   ]
  },
  {
   "cell_type": "code",
   "execution_count": 307,
   "id": "fea4d38e",
   "metadata": {},
   "outputs": [
    {
     "data": {
      "text/html": [
       "<div>\n",
       "<style scoped>\n",
       "    .dataframe tbody tr th:only-of-type {\n",
       "        vertical-align: middle;\n",
       "    }\n",
       "\n",
       "    .dataframe tbody tr th {\n",
       "        vertical-align: top;\n",
       "    }\n",
       "\n",
       "    .dataframe thead th {\n",
       "        text-align: right;\n",
       "    }\n",
       "</style>\n",
       "<table border=\"1\" class=\"dataframe\">\n",
       "  <thead>\n",
       "    <tr style=\"text-align: right;\">\n",
       "      <th></th>\n",
       "      <th>device</th>\n",
       "      <th>monthly_start</th>\n",
       "      <th>monthly_end</th>\n",
       "      <th>quarterly_start</th>\n",
       "      <th>quarterly_end</th>\n",
       "      <th>biannually_start</th>\n",
       "      <th>biannually_end</th>\n",
       "      <th>wearable_start</th>\n",
       "      <th>wearable_end</th>\n",
       "      <th>monthly_duration</th>\n",
       "      <th>quarterly_duration</th>\n",
       "      <th>biannually_duration</th>\n",
       "    </tr>\n",
       "  </thead>\n",
       "  <tbody>\n",
       "  </tbody>\n",
       "</table>\n",
       "</div>"
      ],
      "text/plain": [
       "Empty DataFrame\n",
       "Columns: [device, monthly_start, monthly_end, quarterly_start, quarterly_end, biannually_start, biannually_end, wearable_start, wearable_end, monthly_duration, quarterly_duration, biannually_duration]\n",
       "Index: []"
      ]
     },
     "execution_count": 307,
     "metadata": {},
     "output_type": "execute_result"
    }
   ],
   "source": [
    "df_timelines_aer[df_timelines_aer['biannually_duration'].dt.days>0]"
   ]
  },
  {
   "cell_type": "code",
   "execution_count": 309,
   "id": "6bf91e4c",
   "metadata": {},
   "outputs": [
    {
     "name": "stdout",
     "output_type": "stream",
     "text": [
      "=======Monthly:\n",
      "aer: 1072.4285714285713\n",
      "non-aer: 1028.4166666666667\n",
      "knox: 1044.6315789473683\n",
      "others: nan\n",
      "go: nan\n",
      "=====Quarterly:\n",
      "aer: nan\n",
      "non-aer: 644.6813186813187\n",
      "knox: 629.1111111111111\n",
      "others: 700.9444444444445\n",
      "go: 655.0\n",
      "=======Biannuall:\n",
      "aer: nan\n",
      "non-aer: 576.2857142857143\n",
      "knox: 594.2222222222222\n",
      "others: 722.3333333333334\n",
      "go: 289.0\n"
     ]
    }
   ],
   "source": [
    "print('=======Monthly:')\n",
    "print('aer: {}'.format(df_timelines_aer['monthly_duration'].dt.days.mean()))\n",
    "print('non-aer: {}'.format(df_timelines_non_aer['monthly_duration'].dt.days.mean()))\n",
    "print('knox: {}'.format(df_timelines_knox['monthly_duration'].dt.days.mean()))\n",
    "print('others: {}'.format(df_timelines_others['monthly_duration'].dt.days.mean()))\n",
    "print('go: {}'.format(df_timelines_go['monthly_duration'].dt.days.mean()))\n",
    "print('=====Quarterly:')\n",
    "print('aer: {}'.format(df_timelines_aer['quarterly_duration'].dt.days.mean()))\n",
    "print('non-aer: {}'.format(df_timelines_non_aer['quarterly_duration'].dt.days.mean()))\n",
    "print('knox: {}'.format(df_timelines_knox['quarterly_duration'].dt.days.mean()))\n",
    "print('others: {}'.format(df_timelines_others['quarterly_duration'].dt.days.mean()))\n",
    "print('go: {}'.format(df_timelines_go['quarterly_duration'].dt.days.mean()))\n",
    "print('=======Biannuall:')\n",
    "print('aer: {}'.format(df_timelines_aer['biannually_duration'].dt.days.mean()))\n",
    "print('non-aer: {}'.format(df_timelines_non_aer['biannually_duration'].dt.days.mean()))\n",
    "print('knox: {}'.format(df_timelines_knox['biannually_duration'].dt.days.mean()))\n",
    "print('others: {}'.format(df_timelines_others['biannually_duration'].dt.days.mean()))\n",
    "print('go: {}'.format(df_timelines_go['biannually_duration'].dt.days.mean()))"
   ]
  },
  {
   "cell_type": "markdown",
   "id": "e7a33298",
   "metadata": {},
   "source": [
    "### AER"
   ]
  },
  {
   "cell_type": "code",
   "execution_count": 298,
   "id": "4e2bdf29",
   "metadata": {},
   "outputs": [
    {
     "data": {
      "text/html": [
       "<div>\n",
       "<style scoped>\n",
       "    .dataframe tbody tr th:only-of-type {\n",
       "        vertical-align: middle;\n",
       "    }\n",
       "\n",
       "    .dataframe tbody tr th {\n",
       "        vertical-align: top;\n",
       "    }\n",
       "\n",
       "    .dataframe thead th {\n",
       "        text-align: right;\n",
       "    }\n",
       "</style>\n",
       "<table border=\"1\" class=\"dataframe\">\n",
       "  <thead>\n",
       "    <tr style=\"text-align: right;\">\n",
       "      <th></th>\n",
       "      <th>release_count</th>\n",
       "      <th>release_date_duration_days</th>\n",
       "      <th>avg_release_freq</th>\n",
       "      <th>avg_release_delay</th>\n",
       "    </tr>\n",
       "    <tr>\n",
       "      <th>aer</th>\n",
       "      <th></th>\n",
       "      <th></th>\n",
       "      <th></th>\n",
       "      <th></th>\n",
       "    </tr>\n",
       "  </thead>\n",
       "  <tbody>\n",
       "    <tr>\n",
       "      <th>False</th>\n",
       "      <td>29.255781</td>\n",
       "      <td>987.091100</td>\n",
       "      <td>37.047846</td>\n",
       "      <td>29.479663</td>\n",
       "    </tr>\n",
       "    <tr>\n",
       "      <th>True</th>\n",
       "      <td>31.249538</td>\n",
       "      <td>995.764325</td>\n",
       "      <td>34.103110</td>\n",
       "      <td>26.063771</td>\n",
       "    </tr>\n",
       "  </tbody>\n",
       "</table>\n",
       "</div>"
      ],
      "text/plain": [
       "       release_count  release_date_duration_days  avg_release_freq  \\\n",
       "aer                                                                  \n",
       "False      29.255781                  987.091100         37.047846   \n",
       "True       31.249538                  995.764325         34.103110   \n",
       "\n",
       "       avg_release_delay  \n",
       "aer                       \n",
       "False          29.479663  \n",
       "True           26.063771  "
      ]
     },
     "execution_count": 298,
     "metadata": {},
     "output_type": "execute_result"
    }
   ],
   "source": [
    "df_final_samsung_monthly[['aer','release_count','release_date_duration_days','avg_release_freq','avg_release_delay']].groupby(['aer']).mean()"
   ]
  },
  {
   "cell_type": "code",
   "execution_count": 299,
   "id": "9a90cf7a",
   "metadata": {},
   "outputs": [
    {
     "data": {
      "text/html": [
       "<div>\n",
       "<style scoped>\n",
       "    .dataframe tbody tr th:only-of-type {\n",
       "        vertical-align: middle;\n",
       "    }\n",
       "\n",
       "    .dataframe tbody tr th {\n",
       "        vertical-align: top;\n",
       "    }\n",
       "\n",
       "    .dataframe thead th {\n",
       "        text-align: right;\n",
       "    }\n",
       "</style>\n",
       "<table border=\"1\" class=\"dataframe\">\n",
       "  <thead>\n",
       "    <tr style=\"text-align: right;\">\n",
       "      <th></th>\n",
       "      <th>release_count</th>\n",
       "      <th>release_date_duration_days</th>\n",
       "      <th>avg_release_freq</th>\n",
       "      <th>avg_release_delay</th>\n",
       "    </tr>\n",
       "    <tr>\n",
       "      <th>aer</th>\n",
       "      <th></th>\n",
       "      <th></th>\n",
       "      <th></th>\n",
       "      <th></th>\n",
       "    </tr>\n",
       "  </thead>\n",
       "  <tbody>\n",
       "    <tr>\n",
       "      <th>False</th>\n",
       "      <td>9.384605</td>\n",
       "      <td>494.599063</td>\n",
       "      <td>53.042216</td>\n",
       "      <td>43.502145</td>\n",
       "    </tr>\n",
       "  </tbody>\n",
       "</table>\n",
       "</div>"
      ],
      "text/plain": [
       "       release_count  release_date_duration_days  avg_release_freq  \\\n",
       "aer                                                                  \n",
       "False       9.384605                  494.599063         53.042216   \n",
       "\n",
       "       avg_release_delay  \n",
       "aer                       \n",
       "False          43.502145  "
      ]
     },
     "execution_count": 299,
     "metadata": {},
     "output_type": "execute_result"
    }
   ],
   "source": [
    "df_final_samsung_quarterly[['aer','release_count','release_date_duration_days','avg_release_freq','avg_release_delay']].groupby(['aer']).mean()"
   ]
  },
  {
   "cell_type": "code",
   "execution_count": 300,
   "id": "936167e1",
   "metadata": {},
   "outputs": [
    {
     "data": {
      "text/html": [
       "<div>\n",
       "<style scoped>\n",
       "    .dataframe tbody tr th:only-of-type {\n",
       "        vertical-align: middle;\n",
       "    }\n",
       "\n",
       "    .dataframe tbody tr th {\n",
       "        vertical-align: top;\n",
       "    }\n",
       "\n",
       "    .dataframe thead th {\n",
       "        text-align: right;\n",
       "    }\n",
       "</style>\n",
       "<table border=\"1\" class=\"dataframe\">\n",
       "  <thead>\n",
       "    <tr style=\"text-align: right;\">\n",
       "      <th></th>\n",
       "      <th>release_count</th>\n",
       "      <th>release_date_duration_days</th>\n",
       "      <th>avg_release_freq</th>\n",
       "      <th>avg_release_delay</th>\n",
       "    </tr>\n",
       "    <tr>\n",
       "      <th>aer</th>\n",
       "      <th></th>\n",
       "      <th></th>\n",
       "      <th></th>\n",
       "      <th></th>\n",
       "    </tr>\n",
       "  </thead>\n",
       "  <tbody>\n",
       "    <tr>\n",
       "      <th>False</th>\n",
       "      <td>3.641927</td>\n",
       "      <td>350.627604</td>\n",
       "      <td>78.079312</td>\n",
       "      <td>72.12299</td>\n",
       "    </tr>\n",
       "  </tbody>\n",
       "</table>\n",
       "</div>"
      ],
      "text/plain": [
       "       release_count  release_date_duration_days  avg_release_freq  \\\n",
       "aer                                                                  \n",
       "False       3.641927                  350.627604         78.079312   \n",
       "\n",
       "       avg_release_delay  \n",
       "aer                       \n",
       "False           72.12299  "
      ]
     },
     "execution_count": 300,
     "metadata": {},
     "output_type": "execute_result"
    }
   ],
   "source": [
    "df_final_samsung_biannual[['aer','release_count','release_date_duration_days','avg_release_freq','avg_release_delay']].groupby(['aer']).mean()"
   ]
  },
  {
   "cell_type": "markdown",
   "id": "40efc39a",
   "metadata": {},
   "source": [
    "### Knox"
   ]
  },
  {
   "cell_type": "code",
   "execution_count": 301,
   "id": "26a45701",
   "metadata": {},
   "outputs": [
    {
     "data": {
      "text/html": [
       "<div>\n",
       "<style scoped>\n",
       "    .dataframe tbody tr th:only-of-type {\n",
       "        vertical-align: middle;\n",
       "    }\n",
       "\n",
       "    .dataframe tbody tr th {\n",
       "        vertical-align: top;\n",
       "    }\n",
       "\n",
       "    .dataframe thead th {\n",
       "        text-align: right;\n",
       "    }\n",
       "</style>\n",
       "<table border=\"1\" class=\"dataframe\">\n",
       "  <thead>\n",
       "    <tr style=\"text-align: right;\">\n",
       "      <th></th>\n",
       "      <th>release_count</th>\n",
       "      <th>release_date_duration_days</th>\n",
       "      <th>avg_release_freq</th>\n",
       "      <th>avg_release_delay</th>\n",
       "    </tr>\n",
       "    <tr>\n",
       "      <th>platform</th>\n",
       "      <th></th>\n",
       "      <th></th>\n",
       "      <th></th>\n",
       "      <th></th>\n",
       "    </tr>\n",
       "  </thead>\n",
       "  <tbody>\n",
       "    <tr>\n",
       "      <th>Knox</th>\n",
       "      <td>30.115584</td>\n",
       "      <td>990.831407</td>\n",
       "      <td>35.777936</td>\n",
       "      <td>28.005981</td>\n",
       "    </tr>\n",
       "  </tbody>\n",
       "</table>\n",
       "</div>"
      ],
      "text/plain": [
       "          release_count  release_date_duration_days  avg_release_freq  \\\n",
       "platform                                                                \n",
       "Knox          30.115584                  990.831407         35.777936   \n",
       "\n",
       "          avg_release_delay  \n",
       "platform                     \n",
       "Knox              28.005981  "
      ]
     },
     "execution_count": 301,
     "metadata": {},
     "output_type": "execute_result"
    }
   ],
   "source": [
    "df_final_samsung_monthly[['platform','release_count','release_date_duration_days','avg_release_freq','avg_release_delay']].groupby(['platform']).mean()"
   ]
  },
  {
   "cell_type": "code",
   "execution_count": 302,
   "id": "beb2a797",
   "metadata": {},
   "outputs": [
    {
     "data": {
      "text/html": [
       "<div>\n",
       "<style scoped>\n",
       "    .dataframe tbody tr th:only-of-type {\n",
       "        vertical-align: middle;\n",
       "    }\n",
       "\n",
       "    .dataframe tbody tr th {\n",
       "        vertical-align: top;\n",
       "    }\n",
       "\n",
       "    .dataframe thead th {\n",
       "        text-align: right;\n",
       "    }\n",
       "</style>\n",
       "<table border=\"1\" class=\"dataframe\">\n",
       "  <thead>\n",
       "    <tr style=\"text-align: right;\">\n",
       "      <th></th>\n",
       "      <th>release_count</th>\n",
       "      <th>release_date_duration_days</th>\n",
       "      <th>avg_release_freq</th>\n",
       "      <th>avg_release_delay</th>\n",
       "    </tr>\n",
       "    <tr>\n",
       "      <th>platform</th>\n",
       "      <th></th>\n",
       "      <th></th>\n",
       "      <th></th>\n",
       "      <th></th>\n",
       "    </tr>\n",
       "  </thead>\n",
       "  <tbody>\n",
       "    <tr>\n",
       "      <th>AndroidGo</th>\n",
       "      <td>8.134921</td>\n",
       "      <td>482.162698</td>\n",
       "      <td>58.430530</td>\n",
       "      <td>40.853175</td>\n",
       "    </tr>\n",
       "    <tr>\n",
       "      <th>Knox</th>\n",
       "      <td>9.161748</td>\n",
       "      <td>480.623008</td>\n",
       "      <td>52.611003</td>\n",
       "      <td>42.844743</td>\n",
       "    </tr>\n",
       "    <tr>\n",
       "      <th>Non-Knox</th>\n",
       "      <td>11.345062</td>\n",
       "      <td>598.685585</td>\n",
       "      <td>54.602654</td>\n",
       "      <td>48.979569</td>\n",
       "    </tr>\n",
       "  </tbody>\n",
       "</table>\n",
       "</div>"
      ],
      "text/plain": [
       "           release_count  release_date_duration_days  avg_release_freq  \\\n",
       "platform                                                                 \n",
       "AndroidGo       8.134921                  482.162698         58.430530   \n",
       "Knox            9.161748                  480.623008         52.611003   \n",
       "Non-Knox       11.345062                  598.685585         54.602654   \n",
       "\n",
       "           avg_release_delay  \n",
       "platform                      \n",
       "AndroidGo          40.853175  \n",
       "Knox               42.844743  \n",
       "Non-Knox           48.979569  "
      ]
     },
     "execution_count": 302,
     "metadata": {},
     "output_type": "execute_result"
    }
   ],
   "source": [
    "df_final_samsung_quarterly[['platform','release_count','release_date_duration_days','avg_release_freq','avg_release_delay']].groupby(['platform']).mean()"
   ]
  },
  {
   "cell_type": "code",
   "execution_count": 303,
   "id": "ad26b248",
   "metadata": {},
   "outputs": [
    {
     "data": {
      "text/html": [
       "<div>\n",
       "<style scoped>\n",
       "    .dataframe tbody tr th:only-of-type {\n",
       "        vertical-align: middle;\n",
       "    }\n",
       "\n",
       "    .dataframe tbody tr th {\n",
       "        vertical-align: top;\n",
       "    }\n",
       "\n",
       "    .dataframe thead th {\n",
       "        text-align: right;\n",
       "    }\n",
       "</style>\n",
       "<table border=\"1\" class=\"dataframe\">\n",
       "  <thead>\n",
       "    <tr style=\"text-align: right;\">\n",
       "      <th></th>\n",
       "      <th>release_count</th>\n",
       "      <th>release_date_duration_days</th>\n",
       "      <th>avg_release_freq</th>\n",
       "      <th>avg_release_delay</th>\n",
       "    </tr>\n",
       "    <tr>\n",
       "      <th>platform</th>\n",
       "      <th></th>\n",
       "      <th></th>\n",
       "      <th></th>\n",
       "      <th></th>\n",
       "    </tr>\n",
       "  </thead>\n",
       "  <tbody>\n",
       "    <tr>\n",
       "      <th>AndroidGo</th>\n",
       "      <td>1.867220</td>\n",
       "      <td>108.307054</td>\n",
       "      <td>36.578907</td>\n",
       "      <td>74.900415</td>\n",
       "    </tr>\n",
       "    <tr>\n",
       "      <th>Knox</th>\n",
       "      <td>3.824500</td>\n",
       "      <td>372.429000</td>\n",
       "      <td>81.554412</td>\n",
       "      <td>72.417126</td>\n",
       "    </tr>\n",
       "    <tr>\n",
       "      <th>Non-Knox</th>\n",
       "      <td>4.634921</td>\n",
       "      <td>585.492063</td>\n",
       "      <td>126.514191</td>\n",
       "      <td>52.174603</td>\n",
       "    </tr>\n",
       "  </tbody>\n",
       "</table>\n",
       "</div>"
      ],
      "text/plain": [
       "           release_count  release_date_duration_days  avg_release_freq  \\\n",
       "platform                                                                 \n",
       "AndroidGo       1.867220                  108.307054         36.578907   \n",
       "Knox            3.824500                  372.429000         81.554412   \n",
       "Non-Knox        4.634921                  585.492063        126.514191   \n",
       "\n",
       "           avg_release_delay  \n",
       "platform                      \n",
       "AndroidGo          74.900415  \n",
       "Knox               72.417126  \n",
       "Non-Knox           52.174603  "
      ]
     },
     "execution_count": 303,
     "metadata": {},
     "output_type": "execute_result"
    }
   ],
   "source": [
    "df_final_samsung_biannual[['platform','release_count','release_date_duration_days','avg_release_freq','avg_release_delay']].groupby(['platform']).mean()"
   ]
  },
  {
   "cell_type": "markdown",
   "id": "08217741",
   "metadata": {},
   "source": [
    "## Xiaomi "
   ]
  },
  {
   "cell_type": "code",
   "execution_count": 320,
   "id": "8c32f7e6",
   "metadata": {},
   "outputs": [],
   "source": [
    "xiaomi_aer_devices_unique = list(set(df_AER_xiaomi['device'].to_list()))\n",
    "\n",
    "df_final_xiaomi_aer = df_final_xiaomi[df_final_xiaomi['name'].isin(xiaomi_aer_devices_unique)]\n",
    "\n",
    "df_final_xiaomi_non_aer = df_final_xiaomi[~df_final_xiaomi['name'].isin(xiaomi_aer_devices_unique)]\n"
   ]
  },
  {
   "cell_type": "code",
   "execution_count": 318,
   "id": "e00592c7",
   "metadata": {},
   "outputs": [
    {
     "data": {
      "text/plain": [
       "46"
      ]
     },
     "execution_count": 318,
     "metadata": {},
     "output_type": "execute_result"
    }
   ],
   "source": [
    "len(xiaomi_aer_devices_unique)"
   ]
  },
  {
   "cell_type": "code",
   "execution_count": 319,
   "id": "b5f56adb",
   "metadata": {},
   "outputs": [
    {
     "data": {
      "text/plain": [
       "82"
      ]
     },
     "execution_count": 319,
     "metadata": {},
     "output_type": "execute_result"
    }
   ],
   "source": [
    "len(df_final_xiaomi_aer)"
   ]
  },
  {
   "cell_type": "code",
   "execution_count": 314,
   "id": "edaf3bda",
   "metadata": {},
   "outputs": [
    {
     "data": {
      "text/html": [
       "<div>\n",
       "<style scoped>\n",
       "    .dataframe tbody tr th:only-of-type {\n",
       "        vertical-align: middle;\n",
       "    }\n",
       "\n",
       "    .dataframe tbody tr th {\n",
       "        vertical-align: top;\n",
       "    }\n",
       "\n",
       "    .dataframe thead th {\n",
       "        text-align: right;\n",
       "    }\n",
       "</style>\n",
       "<table border=\"1\" class=\"dataframe\">\n",
       "  <thead>\n",
       "    <tr style=\"text-align: right;\">\n",
       "      <th></th>\n",
       "      <th>device</th>\n",
       "      <th>Device Type</th>\n",
       "      <th>AER validated OS version</th>\n",
       "      <th>Rugged</th>\n",
       "      <th>Security updates until</th>\n",
       "      <th>Link</th>\n",
       "      <th>AER validation date</th>\n",
       "      <th>Security update frequency</th>\n",
       "    </tr>\n",
       "  </thead>\n",
       "  <tbody>\n",
       "    <tr>\n",
       "      <th>13</th>\n",
       "      <td>Redmi Note 12 Pro+ 5G</td>\n",
       "      <td>Phone</td>\n",
       "      <td>Android 12</td>\n",
       "      <td>No</td>\n",
       "      <td>October 2026</td>\n",
       "      <td>https://trust.mi.com/psirt/updates/phone?tab=a...</td>\n",
       "      <td>December 2022</td>\n",
       "      <td>Data not provided</td>\n",
       "    </tr>\n",
       "    <tr>\n",
       "      <th>14</th>\n",
       "      <td>Redmi Note 12</td>\n",
       "      <td>Phone</td>\n",
       "      <td>Android 13</td>\n",
       "      <td>No</td>\n",
       "      <td>March 2026</td>\n",
       "      <td>https://trust.mi.com/misrc/updates/phone?tab=a...</td>\n",
       "      <td>March 2023</td>\n",
       "      <td>Data not provided</td>\n",
       "    </tr>\n",
       "    <tr>\n",
       "      <th>16</th>\n",
       "      <td>Redmi 12C</td>\n",
       "      <td>Phone</td>\n",
       "      <td>Android 12</td>\n",
       "      <td>No</td>\n",
       "      <td>January 2027</td>\n",
       "      <td>https://trust.mi.com/psirt/updates/phone?tab=a...</td>\n",
       "      <td>December 2022</td>\n",
       "      <td>Quarterly</td>\n",
       "    </tr>\n",
       "    <tr>\n",
       "      <th>21</th>\n",
       "      <td>13 Lite</td>\n",
       "      <td>Phone</td>\n",
       "      <td>Android 12</td>\n",
       "      <td>No</td>\n",
       "      <td>August 2026</td>\n",
       "      <td>https://trust.mi.com/psirt/updates/phone?tab=a...</td>\n",
       "      <td>February 2023</td>\n",
       "      <td>Data not provided</td>\n",
       "    </tr>\n",
       "    <tr>\n",
       "      <th>22</th>\n",
       "      <td>Redmi Note 12 Pro 5G</td>\n",
       "      <td>Phone</td>\n",
       "      <td>Android 12</td>\n",
       "      <td>No</td>\n",
       "      <td>October 2026</td>\n",
       "      <td>https://trust.mi.com/psirt/updates/phone?tab=a...</td>\n",
       "      <td>December 2022</td>\n",
       "      <td>Quarterly</td>\n",
       "    </tr>\n",
       "  </tbody>\n",
       "</table>\n",
       "</div>"
      ],
      "text/plain": [
       "                   device Device Type AER validated OS version Rugged  \\\n",
       "13  Redmi Note 12 Pro+ 5G       Phone               Android 12     No   \n",
       "14          Redmi Note 12       Phone               Android 13     No   \n",
       "16              Redmi 12C       Phone               Android 12     No   \n",
       "21                13 Lite       Phone               Android 12     No   \n",
       "22   Redmi Note 12 Pro 5G       Phone               Android 12     No   \n",
       "\n",
       "   Security updates until                                               Link  \\\n",
       "13           October 2026  https://trust.mi.com/psirt/updates/phone?tab=a...   \n",
       "14             March 2026  https://trust.mi.com/misrc/updates/phone?tab=a...   \n",
       "16           January 2027  https://trust.mi.com/psirt/updates/phone?tab=a...   \n",
       "21            August 2026  https://trust.mi.com/psirt/updates/phone?tab=a...   \n",
       "22           October 2026  https://trust.mi.com/psirt/updates/phone?tab=a...   \n",
       "\n",
       "   AER validation date Security update frequency  \n",
       "13       December 2022         Data not provided  \n",
       "14          March 2023         Data not provided  \n",
       "16       December 2022                 Quarterly  \n",
       "21       February 2023         Data not provided  \n",
       "22       December 2022                 Quarterly  "
      ]
     },
     "execution_count": 314,
     "metadata": {},
     "output_type": "execute_result"
    }
   ],
   "source": [
    "df_AER_xiaomi.head()"
   ]
  },
  {
   "cell_type": "code",
   "execution_count": 315,
   "id": "4ee1e23b",
   "metadata": {},
   "outputs": [
    {
     "data": {
      "text/plain": [
       "<AxesSubplot:>"
      ]
     },
     "execution_count": 315,
     "metadata": {},
     "output_type": "execute_result"
    },
    {
     "data": {
      "image/png": "[encoded data removed]",
      "text/plain": [
       "<Figure size 432x288 with 1 Axes>"
      ]
     },
     "metadata": {
      "needs_background": "light"
     },
     "output_type": "display_data"
    }
   ],
   "source": [
    "df_final_xiaomi_aer['last_update_date'].hist()"
   ]
  },
  {
   "cell_type": "code",
   "execution_count": 316,
   "id": "e65705fb",
   "metadata": {},
   "outputs": [
    {
     "data": {
      "text/html": [
       "<div>\n",
       "<style scoped>\n",
       "    .dataframe tbody tr th:only-of-type {\n",
       "        vertical-align: middle;\n",
       "    }\n",
       "\n",
       "    .dataframe tbody tr th {\n",
       "        vertical-align: top;\n",
       "    }\n",
       "\n",
       "    .dataframe thead th {\n",
       "        text-align: right;\n",
       "    }\n",
       "</style>\n",
       "<table border=\"1\" class=\"dataframe\">\n",
       "  <thead>\n",
       "    <tr style=\"text-align: right;\">\n",
       "      <th></th>\n",
       "      <th>codename</th>\n",
       "      <th>name</th>\n",
       "      <th>device_type</th>\n",
       "      <th>region</th>\n",
       "      <th>last_android_version</th>\n",
       "      <th>update_count</th>\n",
       "      <th>first_update_date</th>\n",
       "      <th>last_update_date</th>\n",
       "      <th>first_SPL</th>\n",
       "      <th>last_SPL</th>\n",
       "      <th>support_duration</th>\n",
       "      <th>update_frequency</th>\n",
       "      <th>delay</th>\n",
       "    </tr>\n",
       "  </thead>\n",
       "  <tbody>\n",
       "    <tr>\n",
       "      <th>133</th>\n",
       "      <td>daisy_global</td>\n",
       "      <td>Mi A2 Lite</td>\n",
       "      <td>Phone</td>\n",
       "      <td>Global</td>\n",
       "      <td>10.0</td>\n",
       "      <td>2</td>\n",
       "      <td>2021-06-30</td>\n",
       "      <td>2021-07-13</td>\n",
       "      <td>NaT</td>\n",
       "      <td>NaT</td>\n",
       "      <td>13</td>\n",
       "      <td>6.5</td>\n",
       "      <td>NaN</td>\n",
       "    </tr>\n",
       "    <tr>\n",
       "      <th>269</th>\n",
       "      <td>jasmine_global</td>\n",
       "      <td>Mi A2</td>\n",
       "      <td>Phone</td>\n",
       "      <td>Global</td>\n",
       "      <td>10.0</td>\n",
       "      <td>2</td>\n",
       "      <td>2021-07-02</td>\n",
       "      <td>2021-07-15</td>\n",
       "      <td>NaT</td>\n",
       "      <td>NaT</td>\n",
       "      <td>13</td>\n",
       "      <td>6.5</td>\n",
       "      <td>NaN</td>\n",
       "    </tr>\n",
       "  </tbody>\n",
       "</table>\n",
       "</div>"
      ],
      "text/plain": [
       "           codename        name device_type  region last_android_version  \\\n",
       "133    daisy_global  Mi A2 Lite       Phone  Global                 10.0   \n",
       "269  jasmine_global       Mi A2       Phone  Global                 10.0   \n",
       "\n",
       "     update_count first_update_date last_update_date first_SPL last_SPL  \\\n",
       "133             2        2021-06-30       2021-07-13       NaT      NaT   \n",
       "269             2        2021-07-02       2021-07-15       NaT      NaT   \n",
       "\n",
       "     support_duration  update_frequency  delay  \n",
       "133                13               6.5    NaN  \n",
       "269                13               6.5    NaN  "
      ]
     },
     "execution_count": 316,
     "metadata": {},
     "output_type": "execute_result"
    }
   ],
   "source": [
    "df_final_xiaomi_aer[df_final_xiaomi_aer['last_update_date']<'2022-6-13']"
   ]
  },
  {
   "cell_type": "code",
   "execution_count": 317,
   "id": "58915328",
   "metadata": {},
   "outputs": [
    {
     "data": {
      "text/plain": [
       "7"
      ]
     },
     "execution_count": 317,
     "metadata": {},
     "output_type": "execute_result"
    }
   ],
   "source": [
    "len(df_final_xiaomi_aer[df_final_xiaomi_aer['last_update_date']<'2022-12-11'])"
   ]
  },
  {
   "cell_type": "code",
   "execution_count": 322,
   "id": "18cf1d78",
   "metadata": {},
   "outputs": [
    {
     "data": {
      "text/plain": [
       "update_count          2.487805\n",
       "support_duration    175.195122\n",
       "update_frequency     58.745499\n",
       "delay                29.833333\n",
       "dtype: float64"
      ]
     },
     "execution_count": 322,
     "metadata": {},
     "output_type": "execute_result"
    }
   ],
   "source": [
    "df_final_xiaomi_aer[['update_count','support_duration','update_frequency','delay']].mean()"
   ]
  },
  {
   "cell_type": "code",
   "execution_count": 323,
   "id": "e5f844b4",
   "metadata": {},
   "outputs": [
    {
     "data": {
      "text/plain": [
       "update_count          3.089021\n",
       "support_duration    170.286350\n",
       "update_frequency     46.945768\n",
       "delay                33.222330\n",
       "dtype: float64"
      ]
     },
     "execution_count": 323,
     "metadata": {},
     "output_type": "execute_result"
    }
   ],
   "source": [
    "df_final_xiaomi_non_aer[['update_count','support_duration','update_frequency','delay']].mean()"
   ]
  },
  {
   "cell_type": "markdown",
   "id": "e9e1eea4",
   "metadata": {},
   "source": [
    "## Oppo"
   ]
  },
  {
   "cell_type": "code",
   "execution_count": 349,
   "id": "57ee4f41",
   "metadata": {},
   "outputs": [
    {
     "data": {
      "text/html": [
       "<div>\n",
       "<style scoped>\n",
       "    .dataframe tbody tr th:only-of-type {\n",
       "        vertical-align: middle;\n",
       "    }\n",
       "\n",
       "    .dataframe tbody tr th {\n",
       "        vertical-align: top;\n",
       "    }\n",
       "\n",
       "    .dataframe thead th {\n",
       "        text-align: right;\n",
       "    }\n",
       "</style>\n",
       "<table border=\"1\" class=\"dataframe\">\n",
       "  <thead>\n",
       "    <tr style=\"text-align: right;\">\n",
       "      <th></th>\n",
       "      <th>device</th>\n",
       "      <th>Device Type</th>\n",
       "      <th>AER validated OS version</th>\n",
       "      <th>Rugged</th>\n",
       "      <th>Security updates until</th>\n",
       "      <th>Link</th>\n",
       "      <th>AER validation date</th>\n",
       "      <th>Security update frequency</th>\n",
       "    </tr>\n",
       "  </thead>\n",
       "  <tbody>\n",
       "    <tr>\n",
       "      <th>19</th>\n",
       "      <td>Find N2 Flip</td>\n",
       "      <td>Phone</td>\n",
       "      <td>Android 13</td>\n",
       "      <td>No</td>\n",
       "      <td>February 2028</td>\n",
       "      <td>https://security.oppo.com/en/mend</td>\n",
       "      <td>January 2023</td>\n",
       "      <td>Quarterly</td>\n",
       "    </tr>\n",
       "    <tr>\n",
       "      <th>28</th>\n",
       "      <td>A78 5G</td>\n",
       "      <td>Phone</td>\n",
       "      <td>Android 13</td>\n",
       "      <td>No</td>\n",
       "      <td>February 2026</td>\n",
       "      <td>https://security.oppo.com/en/mend</td>\n",
       "      <td>January 2023</td>\n",
       "      <td>Quarterly</td>\n",
       "    </tr>\n",
       "    <tr>\n",
       "      <th>59</th>\n",
       "      <td>Reno8 5G</td>\n",
       "      <td>Phone</td>\n",
       "      <td>Android 12</td>\n",
       "      <td>No</td>\n",
       "      <td>August 2025</td>\n",
       "      <td>https://security.oppo.com/en/mend</td>\n",
       "      <td>January 2023</td>\n",
       "      <td>Quarterly</td>\n",
       "    </tr>\n",
       "    <tr>\n",
       "      <th>60</th>\n",
       "      <td>A57s</td>\n",
       "      <td>Phone</td>\n",
       "      <td>Android 12</td>\n",
       "      <td>No</td>\n",
       "      <td>August 2025</td>\n",
       "      <td>https://security.oppo.com/en/mend</td>\n",
       "      <td>June 2022</td>\n",
       "      <td>Quarterly</td>\n",
       "    </tr>\n",
       "    <tr>\n",
       "      <th>60</th>\n",
       "      <td>A77</td>\n",
       "      <td>Phone</td>\n",
       "      <td>Android 12</td>\n",
       "      <td>No</td>\n",
       "      <td>August 2025</td>\n",
       "      <td>https://security.oppo.com/en/mend</td>\n",
       "      <td>June 2022</td>\n",
       "      <td>Quarterly</td>\n",
       "    </tr>\n",
       "  </tbody>\n",
       "</table>\n",
       "</div>"
      ],
      "text/plain": [
       "          device Device Type AER validated OS version Rugged  \\\n",
       "19  Find N2 Flip       Phone               Android 13     No   \n",
       "28        A78 5G       Phone               Android 13     No   \n",
       "59      Reno8 5G       Phone               Android 12     No   \n",
       "60          A57s       Phone               Android 12     No   \n",
       "60           A77       Phone               Android 12     No   \n",
       "\n",
       "   Security updates until                               Link  \\\n",
       "19          February 2028  https://security.oppo.com/en/mend   \n",
       "28          February 2026  https://security.oppo.com/en/mend   \n",
       "59            August 2025  https://security.oppo.com/en/mend   \n",
       "60            August 2025  https://security.oppo.com/en/mend   \n",
       "60            August 2025  https://security.oppo.com/en/mend   \n",
       "\n",
       "   AER validation date Security update frequency  \n",
       "19        January 2023                 Quarterly  \n",
       "28        January 2023                 Quarterly  \n",
       "59        January 2023                 Quarterly  \n",
       "60           June 2022                 Quarterly  \n",
       "60           June 2022                 Quarterly  "
      ]
     },
     "execution_count": 349,
     "metadata": {},
     "output_type": "execute_result"
    }
   ],
   "source": [
    "df_AER_oppo = df_AER[df_AER['device'].str.contains('OPPO')].copy()\n",
    "df_AER_oppo['device'] = df_AER_oppo['device'].str.replace('OPPO ', '')\n",
    "\n",
    "df_AER_oppo['device'] = df_AER_oppo['device'].str.split('/')\n",
    "df_AER_oppo = df_AER_oppo.explode('device')\n",
    "\n",
    "df_AER_oppo.head()"
   ]
  },
  {
   "cell_type": "code",
   "execution_count": 356,
   "id": "0a154e56",
   "metadata": {},
   "outputs": [
    {
     "data": {
      "text/plain": [
       "23"
      ]
     },
     "execution_count": 356,
     "metadata": {},
     "output_type": "execute_result"
    }
   ],
   "source": [
    "len(oppo_aer_devices_unique)"
   ]
  },
  {
   "cell_type": "code",
   "execution_count": 358,
   "id": "c647a6ae",
   "metadata": {},
   "outputs": [
    {
     "data": {
      "text/plain": [
       "['A77 5G',\n",
       " 'A72',\n",
       " 'Reno8 Pro 5G',\n",
       " 'Reno7 Z 5G',\n",
       " 'Find X2 Lite',\n",
       " 'Find X2 Pro',\n",
       " 'F21 Pro',\n",
       " 'Find X2 Neo',\n",
       " 'A78 5G',\n",
       " 'A52',\n",
       " 'Find N2 Flip',\n",
       " 'Find X2',\n",
       " 'Find X5 Pro',\n",
       " 'A77',\n",
       " 'Reno8 5G',\n",
       " 'Find X5 Lite',\n",
       " 'Reno8 Lite 5G',\n",
       " 'Find X5',\n",
       " 'Reno7 5G',\n",
       " 'Reno7',\n",
       " 'Reno7 Lite 5G',\n",
       " 'Reno3 Pro',\n",
       " 'A57s']"
      ]
     },
     "execution_count": 358,
     "metadata": {},
     "output_type": "execute_result"
    }
   ],
   "source": [
    "oppo_aer_devices_unique"
   ]
  },
  {
   "cell_type": "code",
   "execution_count": 351,
   "id": "b85f814d",
   "metadata": {},
   "outputs": [],
   "source": [
    "oppo_aer_devices_unique = list(set(df_AER_oppo['device'].to_list()))\n",
    "\n",
    "df_final_oppo_aer = df_final_oppo[df_final_oppo['device'].isin(oppo_aer_devices_unique)]\n",
    "df_final_oppo_non_aer = df_final_oppo[~df_final_oppo['device'].isin(oppo_aer_devices_unique)]"
   ]
  },
  {
   "cell_type": "code",
   "execution_count": 352,
   "id": "f28a6ac1",
   "metadata": {},
   "outputs": [
    {
     "data": {
      "text/html": [
       "<div>\n",
       "<style scoped>\n",
       "    .dataframe tbody tr th:only-of-type {\n",
       "        vertical-align: middle;\n",
       "    }\n",
       "\n",
       "    .dataframe tbody tr th {\n",
       "        vertical-align: top;\n",
       "    }\n",
       "\n",
       "    .dataframe thead th {\n",
       "        text-align: right;\n",
       "    }\n",
       "</style>\n",
       "<table border=\"1\" class=\"dataframe\">\n",
       "  <thead>\n",
       "    <tr style=\"text-align: right;\">\n",
       "      <th></th>\n",
       "      <th>url</th>\n",
       "      <th>device</th>\n",
       "      <th>country</th>\n",
       "      <th>region</th>\n",
       "      <th>last_android_version</th>\n",
       "      <th>update_count</th>\n",
       "      <th>first_update_date</th>\n",
       "      <th>last_update_date</th>\n",
       "      <th>support_duration</th>\n",
       "      <th>update_frequency</th>\n",
       "      <th>delay</th>\n",
       "      <th>ISO</th>\n",
       "    </tr>\n",
       "  </thead>\n",
       "  <tbody>\n",
       "  </tbody>\n",
       "</table>\n",
       "</div>"
      ],
      "text/plain": [
       "Empty DataFrame\n",
       "Columns: [url, device, country, region, last_android_version, update_count, first_update_date, last_update_date, support_duration, update_frequency, delay, ISO]\n",
       "Index: []"
      ]
     },
     "execution_count": 352,
     "metadata": {},
     "output_type": "execute_result"
    }
   ],
   "source": [
    "df_final_oppo_aer"
   ]
  },
  {
   "cell_type": "code",
   "execution_count": 353,
   "id": "3489e075",
   "metadata": {},
   "outputs": [
    {
     "data": {
      "text/plain": [
       "72"
      ]
     },
     "execution_count": 353,
     "metadata": {},
     "output_type": "execute_result"
    }
   ],
   "source": [
    "df_final_oppo['device'].unique()"
   ]
  }
 ],
 "metadata": {
  "kernelspec": {
   "display_name": "Python 3 (ipykernel)",
   "language": "python",
   "name": "python3"
  },
  "language_info": {
   "codemirror_mode": {
    "name": "ipython",
    "version": 3
   },
   "file_extension": ".py",
   "mimetype": "text/x-python",
   "name": "python",
   "nbconvert_exporter": "python",
   "pygments_lexer": "ipython3",
   "version": "3.9.7"
  }
 },
 "nbformat": 4,
 "nbformat_minor": 5
}
